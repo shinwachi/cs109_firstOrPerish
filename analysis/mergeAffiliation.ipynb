{
 "metadata": {
  "name": "",
  "signature": "sha256:2b53b1085dd06fc67d07d7b221daa638a0c80bf7313ee53a915fa4547890f9e2"
 },
 "nbformat": 3,
 "nbformat_minor": 0,
 "worksheets": [
  {
   "cells": [
    {
     "cell_type": "code",
     "collapsed": false,
     "input": [
      "import gzip,csv\n",
      "\n",
      "infilepath = \"/vagrant/data/authorStat.txt.gz\"\n"
     ],
     "language": "python",
     "metadata": {},
     "outputs": [],
     "prompt_number": 13
    },
    {
     "cell_type": "code",
     "collapsed": false,
     "input": [
      "\n",
      "data = []\n",
      "for i, row in enumerate(csv.reader(gzip.open(infilepath, 'r'), dialect=csv.excel)):\n",
      "    if i > 10:\n",
      "        break\n",
      "    data.append(row)\n",
      "    "
     ],
     "language": "python",
     "metadata": {},
     "outputs": [],
     "prompt_number": 17
    },
    {
     "cell_type": "code",
     "collapsed": false,
     "input": [
      "print data"
     ],
     "language": "python",
     "metadata": {},
     "outputs": [
      {
       "output_type": "stream",
       "stream": "stdout",
       "text": [
        "[['scl', 'saef', 'flay', 'frqta', 'tcl', 'laay', 'tfap', 'fcl', 'faef', 'zaffs', 'maef', 'ffay', 'tlap', 'author', 'taap', 'frqfa', 'laef'], ['2.0', '0.09742025', 'None', '2.0', '2.0', '1985.0', '3', '0', '0.116805666667', '', '0.039264', '1983.0', '0', 'a_a.aaby', '4', '1.5', 'None'], ['5.0', 'None', 'None', '0.4', '5.0', '2010.0', '2', '0', 'None', '', 'None', '2005.0', '0', 'a_a.aaldriks', '2', '0.4', 'None'], ['14.0', '0.0496691666667', 'None', '1.0', '14.0', '2009.0', '7', '0', '0.06383', '', '0.04258875', '1995.0', '0', 'a_a.aarnisalo', '14', '0.5', 'None'], ['1', '0.081727', 'None', '2', '1', '2001.0', '1', '0', 'None', '', '0.081727', 'None', '0', 'a_a.ababneh', '2', '1', 'None'], ['6.0', 'None', 'None', '1.16666666667', '6.0', '1998.0', '3', '0', 'None', '', 'None', '1992.0', '0', 'a_a.abahussein', '7', '0.5', 'None'], ['2.0', '0.1451025', 'None', '1.5', '2.0', '2011.0', '1', '0', '0.049357', '', '0.240848', '2009.0', '0', 'a_a_a.bakar', '3', '0.5', 'None'], ['19.0', 'None', '1992.0', '1.10526315789', '19.0', '1992.0', '12', '0.0', 'None', '', 'None', '1973.0', '9', 'a_a.abakarov', '21', '0.631578947368', 'None'], ['1', 'None', '1954.0', '4', '1', '1954.0', '4', '0.0', 'None', '', 'None', '1954.0', '4', 'a_a.abalikhin', '4', '4', 'None'], ['3.0', 'None', 'None', '1.66666666667', '3.0', '1975.0', '5', '0', 'None', '', 'None', '1972.0', '1', 'a_a.abaskuliev', '5', '1.66666666667', 'None'], ['7.0', '0.0198126666667', 'None', '1.14285714286', '7.0', '2002.0', '3', '0', '0.019393', '\"Department of Medicine, King Khalid University Hospital and College of Medicine, King Saud University, Riyadh, Saudi Arabia.\"', '0.020652', '1995.0', '1', 'a_a.abba', '8', '0.428571428571', 'None']]\n"
       ]
      }
     ],
     "prompt_number": 29
    },
    {
     "cell_type": "code",
     "collapsed": false,
     "input": [
      "print data[-1]"
     ],
     "language": "python",
     "metadata": {},
     "outputs": [
      {
       "output_type": "stream",
       "stream": "stdout",
       "text": [
        "['7.0', '0.0198126666667', 'None', '1.14285714286', '7.0', '2002.0', '3', '0', '0.019393', '\"Department of Medicine, King Khalid University Hospital and College of Medicine, King Saud University, Riyadh, Saudi Arabia.\"', '0.020652', '1995.0', '1', 'a_a.abba', '8', '0.428571428571', 'None']\n"
       ]
      }
     ],
     "prompt_number": 24
    },
    {
     "cell_type": "code",
     "collapsed": false,
     "input": [
      "header = data[0]\n",
      "print header"
     ],
     "language": "python",
     "metadata": {},
     "outputs": [
      {
       "output_type": "stream",
       "stream": "stdout",
       "text": [
        "['scl', 'saef', 'flay', 'frqta', 'tcl', 'laay', 'tfap', 'fcl', 'faef', 'zaffs', 'maef', 'ffay', 'tlap', 'author', 'taap', 'frqfa', 'laef']\n"
       ]
      }
     ],
     "prompt_number": 23
    },
    {
     "cell_type": "code",
     "collapsed": false,
     "input": [
      "header[9]"
     ],
     "language": "python",
     "metadata": {},
     "outputs": [
      {
       "metadata": {},
       "output_type": "pyout",
       "prompt_number": 26,
       "text": [
        "'zaffs'"
       ]
      }
     ],
     "prompt_number": 26
    },
    {
     "cell_type": "code",
     "collapsed": false,
     "input": [
      "data[-1][9]"
     ],
     "language": "python",
     "metadata": {},
     "outputs": [
      {
       "metadata": {},
       "output_type": "pyout",
       "prompt_number": 27,
       "text": [
        "'\"Department of Medicine, King Khalid University Hospital and College of Medicine, King Saud University, Riyadh, Saudi Arabia.\"'"
       ]
      }
     ],
     "prompt_number": 27
    },
    {
     "cell_type": "code",
     "collapsed": false,
     "input": [
      "data[1][9]"
     ],
     "language": "python",
     "metadata": {},
     "outputs": [
      {
       "metadata": {},
       "output_type": "pyout",
       "prompt_number": 46,
       "text": [
        "'\"\"\"Department of Medicine'"
       ]
      }
     ],
     "prompt_number": 46
    },
    {
     "cell_type": "code",
     "collapsed": false,
     "input": [
      "\n",
      "infilepath = \"/vagrant/data/authorStat.txt.gz\"\n",
      "outfile = gzip.open(\"/vagrant/data/institutionRow.txt.gz\", 'wb')\n",
      "# data = []\n",
      "for i, row in enumerate(gzip.open(infilepath, 'r')):\n",
      "    if i%100000 == 0:\n",
      "        print i\n",
      "#     if i > 1000:\n",
      "#         break\n",
      "    k = row.split(',')\n",
      "    if k[9]:\n",
      "#         data.append(row)\n",
      "        outfile.write(row)\n",
      "outfile.close()\n",
      "        "
     ],
     "language": "python",
     "metadata": {},
     "outputs": [
      {
       "output_type": "stream",
       "stream": "stdout",
       "text": [
        "0\n",
        "100000"
       ]
      },
      {
       "output_type": "stream",
       "stream": "stdout",
       "text": [
        "\n",
        "200000"
       ]
      },
      {
       "output_type": "stream",
       "stream": "stdout",
       "text": [
        "\n",
        "300000"
       ]
      },
      {
       "output_type": "stream",
       "stream": "stdout",
       "text": [
        "\n",
        "400000"
       ]
      },
      {
       "output_type": "stream",
       "stream": "stdout",
       "text": [
        "\n",
        "500000"
       ]
      },
      {
       "output_type": "stream",
       "stream": "stdout",
       "text": [
        "\n",
        "600000"
       ]
      },
      {
       "output_type": "stream",
       "stream": "stdout",
       "text": [
        "\n",
        "700000"
       ]
      },
      {
       "output_type": "stream",
       "stream": "stdout",
       "text": [
        "\n",
        "800000"
       ]
      },
      {
       "output_type": "stream",
       "stream": "stdout",
       "text": [
        "\n",
        "900000"
       ]
      },
      {
       "output_type": "stream",
       "stream": "stdout",
       "text": [
        "\n",
        "1000000"
       ]
      },
      {
       "output_type": "stream",
       "stream": "stdout",
       "text": [
        "\n",
        "1100000"
       ]
      },
      {
       "output_type": "stream",
       "stream": "stdout",
       "text": [
        "\n",
        "1200000"
       ]
      },
      {
       "output_type": "stream",
       "stream": "stdout",
       "text": [
        "\n",
        "1300000"
       ]
      },
      {
       "output_type": "stream",
       "stream": "stdout",
       "text": [
        "\n",
        "1400000"
       ]
      },
      {
       "output_type": "stream",
       "stream": "stdout",
       "text": [
        "\n",
        "1500000"
       ]
      },
      {
       "output_type": "stream",
       "stream": "stdout",
       "text": [
        "\n",
        "1600000"
       ]
      },
      {
       "output_type": "stream",
       "stream": "stdout",
       "text": [
        "\n",
        "1700000"
       ]
      },
      {
       "output_type": "stream",
       "stream": "stdout",
       "text": [
        "\n",
        "1800000"
       ]
      },
      {
       "output_type": "stream",
       "stream": "stdout",
       "text": [
        "\n",
        "1900000"
       ]
      },
      {
       "output_type": "stream",
       "stream": "stdout",
       "text": [
        "\n",
        "2000000"
       ]
      },
      {
       "output_type": "stream",
       "stream": "stdout",
       "text": [
        "\n",
        "2100000"
       ]
      },
      {
       "output_type": "stream",
       "stream": "stdout",
       "text": [
        "\n",
        "2200000"
       ]
      },
      {
       "output_type": "stream",
       "stream": "stdout",
       "text": [
        "\n",
        "2300000"
       ]
      },
      {
       "output_type": "stream",
       "stream": "stdout",
       "text": [
        "\n",
        "2400000"
       ]
      },
      {
       "output_type": "stream",
       "stream": "stdout",
       "text": [
        "\n",
        "2500000"
       ]
      },
      {
       "output_type": "stream",
       "stream": "stdout",
       "text": [
        "\n",
        "2600000"
       ]
      },
      {
       "output_type": "stream",
       "stream": "stdout",
       "text": [
        "\n",
        "2700000"
       ]
      },
      {
       "output_type": "stream",
       "stream": "stdout",
       "text": [
        "\n",
        "2800000"
       ]
      },
      {
       "output_type": "stream",
       "stream": "stdout",
       "text": [
        "\n",
        "2900000"
       ]
      },
      {
       "output_type": "stream",
       "stream": "stdout",
       "text": [
        "\n",
        "3000000"
       ]
      },
      {
       "output_type": "stream",
       "stream": "stdout",
       "text": [
        "\n",
        "3100000"
       ]
      },
      {
       "output_type": "stream",
       "stream": "stdout",
       "text": [
        "\n",
        "3200000"
       ]
      },
      {
       "output_type": "stream",
       "stream": "stdout",
       "text": [
        "\n",
        "3300000"
       ]
      },
      {
       "output_type": "stream",
       "stream": "stdout",
       "text": [
        "\n",
        "3400000"
       ]
      },
      {
       "output_type": "stream",
       "stream": "stdout",
       "text": [
        "\n",
        "3500000"
       ]
      },
      {
       "output_type": "stream",
       "stream": "stdout",
       "text": [
        "\n",
        "3600000"
       ]
      },
      {
       "output_type": "stream",
       "stream": "stdout",
       "text": [
        "\n"
       ]
      }
     ],
     "prompt_number": 49
    },
    {
     "cell_type": "code",
     "collapsed": false,
     "input": [],
     "language": "python",
     "metadata": {},
     "outputs": [],
     "prompt_number": 48
    },
    {
     "cell_type": "code",
     "collapsed": false,
     "input": [
      "infilepath = \"/vagrant/data/institutionRow.txt.gz\"\n",
      "\n",
      "# data = []\n",
      "k = 0\n",
      "for i, row in enumerate(gzip.open(infilepath, 'r')):\n",
      "    if i%100000 == 0:\n",
      "        print i\n",
      "#     if i > 10:\n",
      "#         break\n",
      "#     k = row.strip().split(',')\n",
      "#     data.append(k)\n",
      "    k = i\n"
     ],
     "language": "python",
     "metadata": {},
     "outputs": [
      {
       "output_type": "stream",
       "stream": "stdout",
       "text": [
        "0\n",
        "100000"
       ]
      },
      {
       "output_type": "stream",
       "stream": "stdout",
       "text": [
        "\n",
        "200000"
       ]
      },
      {
       "output_type": "stream",
       "stream": "stdout",
       "text": [
        "\n",
        "300000"
       ]
      },
      {
       "output_type": "stream",
       "stream": "stdout",
       "text": [
        "\n",
        "400000"
       ]
      },
      {
       "output_type": "stream",
       "stream": "stdout",
       "text": [
        "\n",
        "500000"
       ]
      },
      {
       "output_type": "stream",
       "stream": "stdout",
       "text": [
        "\n",
        "600000"
       ]
      },
      {
       "output_type": "stream",
       "stream": "stdout",
       "text": [
        "\n",
        "700000"
       ]
      },
      {
       "output_type": "stream",
       "stream": "stdout",
       "text": [
        "\n",
        "800000"
       ]
      },
      {
       "output_type": "stream",
       "stream": "stdout",
       "text": [
        "\n",
        "900000"
       ]
      },
      {
       "output_type": "stream",
       "stream": "stdout",
       "text": [
        "\n",
        "1000000"
       ]
      },
      {
       "output_type": "stream",
       "stream": "stdout",
       "text": [
        "\n",
        "1100000"
       ]
      },
      {
       "output_type": "stream",
       "stream": "stdout",
       "text": [
        "\n",
        "1200000"
       ]
      },
      {
       "output_type": "stream",
       "stream": "stdout",
       "text": [
        "\n",
        "1300000"
       ]
      },
      {
       "output_type": "stream",
       "stream": "stdout",
       "text": [
        "\n",
        "1400000"
       ]
      },
      {
       "output_type": "stream",
       "stream": "stdout",
       "text": [
        "\n"
       ]
      }
     ],
     "prompt_number": 50
    },
    {
     "cell_type": "code",
     "collapsed": false,
     "input": [
      "# number of last authors\n",
      "k"
     ],
     "language": "python",
     "metadata": {},
     "outputs": [
      {
       "metadata": {},
       "output_type": "pyout",
       "prompt_number": 51,
       "text": [
        "1466370"
       ]
      }
     ],
     "prompt_number": 51
    },
    {
     "cell_type": "code",
     "collapsed": false,
     "input": [
      "# TODO: get the affiliations\n",
      "# filter for affiliations that matches...?\n"
     ],
     "language": "python",
     "metadata": {},
     "outputs": []
    }
   ],
   "metadata": {}
  }
 ]
}