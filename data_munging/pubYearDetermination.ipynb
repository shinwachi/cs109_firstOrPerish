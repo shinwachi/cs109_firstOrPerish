{
 "metadata": {
  "name": "",
  "signature": "sha256:ba53718528879f0a9fe52c99dd4607135da870657cb51e103dc6f91558741f17"
 },
 "nbformat": 3,
 "nbformat_minor": 0,
 "worksheets": [
  {
   "cells": [
    {
     "cell_type": "code",
     "collapsed": false,
     "input": [
      "# preamble\n",
      "import os\n",
      "import codecs\n",
      "import csv\n",
      "import unicodedata\n",
      "from bs4 import BeautifulSoup\n",
      "import gzip\n",
      "from bs4 import SoupStrainer\n",
      "from collections import OrderedDict\n",
      "import json\n",
      "import re\n",
      "\n",
      "import pandas as pd\n",
      "from pandas import DataFrame"
     ],
     "language": "python",
     "metadata": {},
     "outputs": [],
     "prompt_number": 1
    },
    {
     "cell_type": "code",
     "collapsed": false,
     "input": [
      "\n",
      "def jsonLoads(jsonString):\n",
      "    '''\n",
      "    # helper function to convert unicode to str\n",
      "    # used to decode SOAP reply\n",
      "    # http://stackoverflow.com/questions/956867/how-to-get-string-objects-instead-of-unicode-ones-from-json-in-python\n",
      "\n",
      "    replace:\n",
      "        json.loads(result.PE_executeResponse.Response, object_hook=decode_dict)\n",
      "    with:\n",
      "        jsonLoads(result.PE_executeResponse.Response)\n",
      "    '''\n",
      "    def _decode_list(data):\n",
      "        rv = []\n",
      "        for item in data:\n",
      "            if isinstance(item, unicode):\n",
      "                item = item.encode('utf-8')\n",
      "            elif isinstance(item, list):\n",
      "                item = _decode_list(item)\n",
      "            elif isinstance(item, dict):\n",
      "                item = _decode_dict(item)\n",
      "            rv.append(item)\n",
      "        return rv\n",
      "\n",
      "    def _decode_dict(data):\n",
      "        rv = {}\n",
      "        for key, value in data.iteritems():\n",
      "            if isinstance(key, unicode):\n",
      "                key = key.encode('utf-8')\n",
      "            if isinstance(value, unicode):\n",
      "                value = value.encode('utf-8')\n",
      "            elif isinstance(value, list):\n",
      "                value = _decode_list(value)\n",
      "            elif isinstance(value, dict):\n",
      "                value = _decode_dict(value)\n",
      "            rv[key] = value\n",
      "        return rv\n",
      "    return json.loads(jsonString, object_hook=_decode_dict)"
     ],
     "language": "python",
     "metadata": {},
     "outputs": [],
     "prompt_number": 2
    },
    {
     "cell_type": "code",
     "collapsed": false,
     "input": [
      "f = open(\"/vagrant/data/sampleOutput/medline14n0685.txt\", 'r')\n",
      "data = f.readlines()\n",
      "f.close()"
     ],
     "language": "python",
     "metadata": {},
     "outputs": [],
     "prompt_number": 3
    },
    {
     "cell_type": "code",
     "collapsed": false,
     "input": [
      "d = data[10000]\n",
      "\n",
      "\n",
      "d2 = jsonLoads(d)\n",
      "# d2.keys()\n",
      "# authors = d2['authors']\n",
      "# authors\n",
      "\n",
      "\n",
      "# def getAffiliations(authors):\n",
      "#     s_affiliation = 'affiliation'\n",
      "#     institutions = []\n",
      "#     for author in authors:\n",
      "#         if s_affiliation in author.keys():\n",
      "#             if author[s_affiliation]:\n",
      "#                 institutions.append(author[s_affiliation])\n",
      "#     return institutions\n",
      "\n",
      "# getAffiliations(authors)\n"
     ],
     "language": "python",
     "metadata": {},
     "outputs": [],
     "prompt_number": 30
    },
    {
     "cell_type": "code",
     "collapsed": false,
     "input": [
      "d2.keys()"
     ],
     "language": "python",
     "metadata": {},
     "outputs": [
      {
       "metadata": {},
       "output_type": "pyout",
       "prompt_number": 31,
       "text": [
        "['date', 'journal', 'entryid', 'authors']"
       ]
      }
     ],
     "prompt_number": 31
    },
    {
     "cell_type": "code",
     "collapsed": false,
     "input": [
      "d2['date']"
     ],
     "language": "python",
     "metadata": {},
     "outputs": [
      {
       "metadata": {},
       "output_type": "pyout",
       "prompt_number": 32,
       "text": [
        "{'day': '21', 'month': '03', 'year': '2011'}"
       ]
      }
     ],
     "prompt_number": 32
    },
    {
     "cell_type": "code",
     "collapsed": false,
     "input": [
      "def tryInt(x):\n",
      "    if x:\n",
      "        try:\n",
      "            return int(x)\n",
      "        except:\n",
      "            return None\n",
      "    return None\n",
      "\n",
      "def getYear(d):\n",
      "    d2 = jsonLoads(d)\n",
      "    try:\n",
      "        return tryInt(d2['date']['year'])\n",
      "    except:\n",
      "        return None"
     ],
     "language": "python",
     "metadata": {},
     "outputs": [],
     "prompt_number": 20
    },
    {
     "cell_type": "code",
     "collapsed": false,
     "input": [
      "getYear(d)"
     ],
     "language": "python",
     "metadata": {},
     "outputs": [],
     "prompt_number": 21
    },
    {
     "cell_type": "code",
     "collapsed": false,
     "input": [
      "z = [x for x in [getYear(d) for d in data] if x is not None]"
     ],
     "language": "python",
     "metadata": {},
     "outputs": [],
     "prompt_number": 26
    },
    {
     "cell_type": "code",
     "collapsed": false,
     "input": [
      "min(z), max(z) "
     ],
     "language": "python",
     "metadata": {},
     "outputs": [
      {
       "metadata": {},
       "output_type": "pyout",
       "prompt_number": 28,
       "text": [
        "(2008, 2011)"
       ]
      }
     ],
     "prompt_number": 28
    },
    {
     "cell_type": "code",
     "collapsed": false,
     "input": [
      "# adopting it for knime python snippet\n",
      "kIn = {'infile':[\"/vagrant/data/sampleOutput/medline14n0685.txt\"]}"
     ],
     "language": "python",
     "metadata": {},
     "outputs": [],
     "prompt_number": 36
    },
    {
     "cell_type": "code",
     "collapsed": false,
     "input": [
      "# preamble\n",
      "import collections\n",
      "import json\n",
      "\n",
      "def jsonLoads(jsonString):\n",
      "    '''\n",
      "    # helper function to convert unicode to str\n",
      "    # used to decode SOAP reply\n",
      "    # http://stackoverflow.com/questions/956867/how-to-get-string-objects-instead-of-unicode-ones-from-json-in-python\n",
      "\n",
      "    replace:\n",
      "        json.loads(result.PE_executeResponse.Response, object_hook=decode_dict)\n",
      "    with:\n",
      "        jsonLoads(result.PE_executeResponse.Response)\n",
      "    '''\n",
      "    def _decode_list(data):\n",
      "        rv = []\n",
      "        for item in data:\n",
      "            if isinstance(item, unicode):\n",
      "                item = item.encode('utf-8')\n",
      "            elif isinstance(item, list):\n",
      "                item = _decode_list(item)\n",
      "            elif isinstance(item, dict):\n",
      "                item = _decode_dict(item)\n",
      "            rv.append(item)\n",
      "        return rv\n",
      "\n",
      "    def _decode_dict(data):\n",
      "        rv = {}\n",
      "        for key, value in data.iteritems():\n",
      "            if isinstance(key, unicode):\n",
      "                key = key.encode('utf-8')\n",
      "            if isinstance(value, unicode):\n",
      "                value = value.encode('utf-8')\n",
      "            elif isinstance(value, list):\n",
      "                value = _decode_list(value)\n",
      "            elif isinstance(value, dict):\n",
      "                value = _decode_dict(value)\n",
      "            rv[key] = value\n",
      "        return rv\n",
      "    return json.loads(jsonString, object_hook=_decode_dict)\n",
      "\n",
      "def tryInt(x):\n",
      "    if x:\n",
      "        try:\n",
      "            return int(x)\n",
      "        except:\n",
      "            return None\n",
      "    return None\n",
      "\n",
      "def getYear(d):\n",
      "    try:\n",
      "        d2 = jsonLoads(d)\n",
      "    \n",
      "        return tryInt(d2['date']['year'])\n",
      "    except:\n",
      "        return None\n",
      "\n",
      "infile = kIn['infile'][0]\n",
      "f = open(infile, 'r')\n",
      "data = f.readlines()\n",
      "f.close()\n",
      "z = [x for x in [getYear(d) for d in data] if x is not None]\n",
      "minz = None\n",
      "maxz = None\n",
      "try:\n",
      "    minz = min(z)\n",
      "except:\n",
      "    minz = -1\n",
      "if not minz:\n",
      "    -1\n",
      "\n",
      "try:\n",
      "    maxz = max(z)\n",
      "except:\n",
      "    maxz = -1\n",
      "\n",
      "if not maxz:\n",
      "    maxz = -1\n",
      "pyOut = collections.OrderedDict()\n",
      "pyOut['infile'] = [infile]\n",
      "pyOut['min_year'] = [minz]\n",
      "pyOut['max_year'] = [maxz]\n",
      "pyOut"
     ],
     "language": "python",
     "metadata": {},
     "outputs": [
      {
       "metadata": {},
       "output_type": "pyout",
       "prompt_number": 35,
       "text": [
        "OrderedDict([('infile', ['/vagrant/data/sampleOutput/medline14n0685.txt']), ('min_year', [2008]), ('max_year', [2011])])"
       ]
      }
     ],
     "prompt_number": 35
    },
    {
     "cell_type": "code",
     "collapsed": false,
     "input": [],
     "language": "python",
     "metadata": {},
     "outputs": []
    }
   ],
   "metadata": {}
  }
 ]
}