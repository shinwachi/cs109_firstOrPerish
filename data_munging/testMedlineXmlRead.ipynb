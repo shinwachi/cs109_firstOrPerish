{
 "metadata": {
  "name": "",
  "signature": "sha256:40a3f06c4330c7ac4a34ea8aa83902ecfd4bba22c614266484a3514c51b5da34"
 },
 "nbformat": 3,
 "nbformat_minor": 0,
 "worksheets": [
  {
   "cells": [
    {
     "cell_type": "markdown",
     "metadata": {},
     "source": [
      "## Example use of parsing the Medline XML file"
     ]
    },
    {
     "cell_type": "code",
     "collapsed": false,
     "input": [
      "# preamble\n",
      "import os\n",
      "import codecs\n",
      "import csv\n",
      "import unicodedata\n",
      "from bs4 import BeautifulSoup\n",
      "import gzip\n",
      "from bs4 import SoupStrainer\n",
      "from collections import OrderedDict\n"
     ],
     "language": "python",
     "metadata": {},
     "outputs": [],
     "prompt_number": 29
    },
    {
     "cell_type": "code",
     "collapsed": false,
     "input": [
      "# read a.gz file\n",
      "path = \"/vagrant/data/medline14n0746.xml.gz\"\n",
      "f = gzip.open(path, 'rb')\n",
      "file_content = f.read()\n",
      "f.close()"
     ],
     "language": "python",
     "metadata": {},
     "outputs": [],
     "prompt_number": 11
    },
    {
     "cell_type": "code",
     "collapsed": false,
     "input": [
      "# split citations to chunk xml parsing (rely on closing tags as it has no other properties)\n",
      "k = file_content.split('</MedlineCitation>')\n",
      "originalfilename = os.path.split(path)[1]"
     ],
     "language": "python",
     "metadata": {},
     "outputs": [],
     "prompt_number": 16
    },
    {
     "cell_type": "code",
     "collapsed": false,
     "input": [
      "# example content\n",
      "k[20]"
     ],
     "language": "python",
     "metadata": {},
     "outputs": [
      {
       "metadata": {},
       "output_type": "pyout",
       "prompt_number": 27,
       "text": [
        "'\\n<MedlineCitation Owner=\"NLM\" Status=\"MEDLINE\">\\n<PMID Version=\"1\">23946446</PMID>\\n<DateCreated>\\n<Year>2013</Year>\\n<Month>08</Month>\\n<Day>28</Day>\\n</DateCreated>\\n<DateCompleted>\\n<Year>2013</Year>\\n<Month>11</Month>\\n<Day>04</Day>\\n</DateCompleted>\\n<Article PubModel=\"Print-Electronic\">\\n<Journal>\\n<ISSN IssnType=\"Electronic\">1477-9129</ISSN>\\n<JournalIssue CitedMedium=\"Internet\">\\n<Volume>140</Volume>\\n<Issue>18</Issue>\\n<PubDate>\\n<Year>2013</Year>\\n<Month>Sep</Month>\\n</PubDate>\\n</JournalIssue>\\n<Title>Development (Cambridge, England)</Title>\\n<ISOAbbreviation>Development</ISOAbbreviation>\\n</Journal>\\n<ArticleTitle>Dual role of delta-like 1 homolog (DLK1) in skeletal muscle development and adult muscle regeneration.</ArticleTitle>\\n<Pagination>\\n<MedlinePgn>3743-53</MedlinePgn>\\n</Pagination>\\n<ELocationID EIdType=\"doi\" ValidYN=\"Y\">10.1242/dev.095810</ELocationID>\\n<Abstract>\\n<AbstractText>Muscle development and regeneration is tightly orchestrated by a specific set of myogenic transcription factors. However, factors that regulate these essential myogenic inducers remain poorly described. Here, we show that delta-like 1 homolog (Dlk1), an imprinted gene best known for its ability to inhibit adipogenesis, is a crucial regulator of the myogenic program in skeletal muscle. Dlk1(-/-) mice were developmentally retarded in their muscle mass and function owing to inhibition of the myogenic program during embryogenesis. Surprisingly however, Dlk1 depletion improves in vitro and in vivo adult skeletal muscle regeneration by substantial enhancement of the myogenic program and muscle function, possibly by means of an increased number of available myogenic precursor cells. By contrast, Dlk1 fails to alter the adipogenic commitment of muscle-derived progenitors in vitro, as well as intramuscular fat deposition during in vivo regeneration. Collectively, our results suggest a novel and surprising dual biological function of DLK1 as an enhancer of muscle development, but as an inhibitor of adult muscle regeneration. </AbstractText>\\n</Abstract>\\n<AuthorList CompleteYN=\"Y\">\\n<Author ValidYN=\"Y\">\\n<LastName>Andersen</LastName>\\n<ForeName>Ditte Caroline</ForeName>\\n<Initials>DC</Initials>\\n<Affiliation>Laboratory of Molecular and Cellular Cardiology, Department of Clinical Biochemistry and Pharmacology, Odense University Hospital, Winsloewparken 21 3rd, 5000 Odense C, Denmark.</Affiliation>\\n</Author>\\n<Author ValidYN=\"Y\">\\n<LastName>Laborda</LastName>\\n<ForeName>Jorge</ForeName>\\n<Initials>J</Initials>\\n</Author>\\n<Author ValidYN=\"Y\">\\n<LastName>Baladron</LastName>\\n<ForeName>Victoriano</ForeName>\\n<Initials>V</Initials>\\n</Author>\\n<Author ValidYN=\"Y\">\\n<LastName>Kassem</LastName>\\n<ForeName>Moustapha</ForeName>\\n<Initials>M</Initials>\\n</Author>\\n<Author ValidYN=\"Y\">\\n<LastName>Sheikh</LastName>\\n<ForeName>S\\xc3\\xb8ren Paludan</ForeName>\\n<Initials>SP</Initials>\\n</Author>\\n<Author ValidYN=\"Y\">\\n<LastName>Jensen</LastName>\\n<ForeName>Charlotte Harken</ForeName>\\n<Initials>CH</Initials>\\n</Author>\\n</AuthorList>\\n<Language>eng</Language>\\n<PublicationTypeList>\\n<PublicationType>Journal Article</PublicationType>\\n<PublicationType>Research Support, Non-U.S. Gov\\'t</PublicationType>\\n</PublicationTypeList>\\n<ArticleDate DateType=\"Electronic\">\\n<Year>2013</Year>\\n<Month>08</Month>\\n<Day>14</Day>\\n</ArticleDate>\\n</Article>\\n<MedlineJournalInfo>\\n<Country>England</Country>\\n<MedlineTA>Development</MedlineTA>\\n<NlmUniqueID>8701744</NlmUniqueID>\\n<ISSNLinking>0950-1991</ISSNLinking>\\n</MedlineJournalInfo>\\n<ChemicalList>\\n<Chemical>\\n<RegistryNumber>0</RegistryNumber>\\n<NameOfSubstance>Adiponectin</NameOfSubstance>\\n</Chemical>\\n<Chemical>\\n<RegistryNumber>0</RegistryNumber>\\n<NameOfSubstance>Dlk1 protein, mouse</NameOfSubstance>\\n</Chemical>\\n<Chemical>\\n<RegistryNumber>0</RegistryNumber>\\n<NameOfSubstance>Intercellular Signaling Peptides and Proteins</NameOfSubstance>\\n</Chemical>\\n</ChemicalList>\\n<CitationSubset>IM</CitationSubset>\\n<MeshHeadingList>\\n<MeshHeading>\\n<DescriptorName MajorTopicYN=\"N\">Adipogenesis</DescriptorName>\\n</MeshHeading>\\n<MeshHeading>\\n<DescriptorName MajorTopicYN=\"N\">Adiponectin</DescriptorName>\\n<QualifierName MajorTopicYN=\"N\">metabolism</QualifierName>\\n</MeshHeading>\\n<MeshHeading>\\n<DescriptorName MajorTopicYN=\"N\">Aging</DescriptorName>\\n<QualifierName MajorTopicYN=\"Y\">metabolism</QualifierName>\\n</MeshHeading>\\n<MeshHeading>\\n<DescriptorName MajorTopicYN=\"N\">Animals</DescriptorName>\\n</MeshHeading>\\n<MeshHeading>\\n<DescriptorName MajorTopicYN=\"N\">Cell Size</DescriptorName>\\n</MeshHeading>\\n<MeshHeading>\\n<DescriptorName MajorTopicYN=\"N\">Cells, Cultured</DescriptorName>\\n</MeshHeading>\\n<MeshHeading>\\n<DescriptorName MajorTopicYN=\"N\">Intercellular Signaling Peptides and Proteins</DescriptorName>\\n<QualifierName MajorTopicYN=\"Y\">metabolism</QualifierName>\\n</MeshHeading>\\n<MeshHeading>\\n<DescriptorName MajorTopicYN=\"N\">Mice</DescriptorName>\\n</MeshHeading>\\n<MeshHeading>\\n<DescriptorName MajorTopicYN=\"N\">Mice, Inbred C57BL</DescriptorName>\\n</MeshHeading>\\n<MeshHeading>\\n<DescriptorName MajorTopicYN=\"N\">Mice, Knockout</DescriptorName>\\n</MeshHeading>\\n<MeshHeading>\\n<DescriptorName MajorTopicYN=\"Y\">Muscle Development</DescriptorName>\\n</MeshHeading>\\n<MeshHeading>\\n<DescriptorName MajorTopicYN=\"N\">Muscle Fibers, Skeletal</DescriptorName>\\n<QualifierName MajorTopicYN=\"N\">cytology</QualifierName>\\n<QualifierName MajorTopicYN=\"N\">metabolism</QualifierName>\\n</MeshHeading>\\n<MeshHeading>\\n<DescriptorName MajorTopicYN=\"N\">Muscle, Skeletal</DescriptorName>\\n<QualifierName MajorTopicYN=\"Y\">metabolism</QualifierName>\\n</MeshHeading>\\n<MeshHeading>\\n<DescriptorName MajorTopicYN=\"N\">Organ Size</DescriptorName>\\n</MeshHeading>\\n<MeshHeading>\\n<DescriptorName MajorTopicYN=\"N\">Phenotype</DescriptorName>\\n</MeshHeading>\\n<MeshHeading>\\n<DescriptorName MajorTopicYN=\"N\">Regeneration</DescriptorName>\\n<QualifierName MajorTopicYN=\"Y\">physiology</QualifierName>\\n</MeshHeading>\\n</MeshHeadingList>\\n<KeywordList Owner=\"NOTNLM\">\\n<Keyword MajorTopicYN=\"N\">Delta-like 1 homolog</Keyword>\\n<Keyword MajorTopicYN=\"N\">Mouse</Keyword>\\n<Keyword MajorTopicYN=\"N\">Muscle development</Keyword>\\n<Keyword MajorTopicYN=\"N\">Muscle regeneration</Keyword>\\n<Keyword MajorTopicYN=\"N\">Muscle stem cells</Keyword>\\n</KeywordList>\\n'"
       ]
      }
     ],
     "prompt_number": 27
    },
    {
     "cell_type": "markdown",
     "metadata": {},
     "source": [
      "List the sections of interest"
     ]
    },
    {
     "cell_type": "code",
     "collapsed": false,
     "input": [
      "# find the following sections\n",
      "#sections = ['pmid', 'pubdate', 'articletitle', 'author', 'medlinejournalinfo', 'abstracttext']\n",
      "sections = ['pmid', 'pubdate', 'author']\n",
      "\n",
      "def formatter(od):\n",
      "    #for od in row_od_list: field1:value,field2:val; f1:v,f2:v; ...etc\n",
      "    return \",\".join([\"%s:%s\"%(k,v) for k,v in od.items()])\n",
      "               "
     ],
     "language": "python",
     "metadata": {},
     "outputs": [],
     "prompt_number": 23
    },
    {
     "cell_type": "markdown",
     "metadata": {},
     "source": [
      "Iterate through each citation to extract the sections of interest"
     ]
    },
    {
     "cell_type": "code",
     "collapsed": false,
     "input": [
      "answer = []\n",
      "errorflag = \"####unparsable_entry\"\n",
      "for entryNumber, xmlfragment in enumerate(k):\n",
      "    if entryNumber%500 == 0:\n",
      "        print \"%done:\", float(entryNumber)/float(len(k)) * 100.0, 'done', entryNumber, \"total\",  len(k)\n",
      "    entryId = \"%s:%d\"%(originalfilename, entryNumber)\n",
      "    try:\n",
      "        kz = BeautifulSoup(xmlfragment)\n",
      "       \n",
      "        rowdict = {}\n",
      "        #kz = BeautifulSoup(k[0])\n",
      "        for s in sections:\n",
      "            fsz = kz.find_all(s)\n",
      "            items = []\n",
      "            for fs in fsz:\n",
      "                # retrieve fields from sections: e.g., last name, first name, etc (but leave out \\n string)\n",
      "                od = OrderedDict()\n",
      "                fsc = list(fs.children)\n",
      "                if len(fsc)==1 and isinstance(fsc[0], basestring):\n",
      "                    items= [fsc[0]]\n",
      "                else:\n",
      "                    for x in (x for x in fsc if not isinstance(x, basestring)):\n",
      "                        od[x.name] = x.string\n",
      "                   \n",
      "                    items.append(formatter(od)) # default behavior\n",
      "            rowdict[s] = ';'.join(items)\n",
      "        #print rowdict['pmid']\n",
      "        row = [unicodedata.normalize('NFKD',unicode(rowdict[s])).encode('ascii','ignore') for s in sections]\n",
      "        #articles.append(astring)\n",
      "        #rowstr = \"\\t\".join(row)\n",
      "       \n",
      "    except:\n",
      "        # handle unparsable entries\n",
      "        row = [errorflag]\n",
      "        \n",
      "    answer.append(row)\n",
      "\n",
      "print \"Extraction completed for:\", originalfilename\n",
      "print \"Extracted rows:\", len(answer)\n",
      "print \"Errors:\", len([x for x in answer if x[0] == errorflag])"
     ],
     "language": "python",
     "metadata": {},
     "outputs": [
      {
       "output_type": "stream",
       "stream": "stdout",
       "text": [
        "%done: 0.0 done 0 total 26812\n",
        "%done:"
       ]
      },
      {
       "output_type": "stream",
       "stream": "stdout",
       "text": [
        " 1.86483664031 done 500 total 26812\n",
        "%done:"
       ]
      },
      {
       "output_type": "stream",
       "stream": "stdout",
       "text": [
        " 3.72967328062 done 1000 total 26812\n",
        "%done:"
       ]
      },
      {
       "output_type": "stream",
       "stream": "stdout",
       "text": [
        " 5.59450992093 done 1500 total 26812\n",
        "%done:"
       ]
      },
      {
       "output_type": "stream",
       "stream": "stdout",
       "text": [
        " 7.45934656124 done 2000 total 26812\n",
        "%done:"
       ]
      },
      {
       "output_type": "stream",
       "stream": "stdout",
       "text": [
        " 9.32418320155 done 2500 total 26812\n",
        "%done:"
       ]
      },
      {
       "output_type": "stream",
       "stream": "stdout",
       "text": [
        " 11.1890198419 done 3000 total 26812\n",
        "%done:"
       ]
      },
      {
       "output_type": "stream",
       "stream": "stdout",
       "text": [
        " 13.0538564822 done 3500 total 26812\n",
        "%done:"
       ]
      },
      {
       "output_type": "stream",
       "stream": "stdout",
       "text": [
        " 14.9186931225 done 4000 total 26812\n",
        "%done:"
       ]
      },
      {
       "output_type": "stream",
       "stream": "stdout",
       "text": [
        " 16.7835297628 done 4500 total 26812\n",
        "%done:"
       ]
      },
      {
       "output_type": "stream",
       "stream": "stdout",
       "text": [
        " 18.6483664031 done 5000 total 26812\n",
        "%done:"
       ]
      },
      {
       "output_type": "stream",
       "stream": "stdout",
       "text": [
        " 20.5132030434 done 5500 total 26812\n",
        "%done:"
       ]
      },
      {
       "output_type": "stream",
       "stream": "stdout",
       "text": [
        " 22.3780396837 done 6000 total 26812\n",
        "%done:"
       ]
      },
      {
       "output_type": "stream",
       "stream": "stdout",
       "text": [
        " 24.242876324 done 6500 total 26812\n",
        "%done:"
       ]
      },
      {
       "output_type": "stream",
       "stream": "stdout",
       "text": [
        " 26.1077129643 done 7000 total 26812\n",
        "%done:"
       ]
      },
      {
       "output_type": "stream",
       "stream": "stdout",
       "text": [
        " 27.9725496047 done 7500 total 26812\n",
        "%done:"
       ]
      },
      {
       "output_type": "stream",
       "stream": "stdout",
       "text": [
        " 29.837386245 done 8000 total 26812\n",
        "%done:"
       ]
      },
      {
       "output_type": "stream",
       "stream": "stdout",
       "text": [
        " 31.7022228853 done 8500 total 26812\n",
        "%done:"
       ]
      },
      {
       "output_type": "stream",
       "stream": "stdout",
       "text": [
        " 33.5670595256 done 9000 total 26812\n",
        "%done:"
       ]
      },
      {
       "output_type": "stream",
       "stream": "stdout",
       "text": [
        " 35.4318961659 done 9500 total 26812\n",
        "%done:"
       ]
      },
      {
       "output_type": "stream",
       "stream": "stdout",
       "text": [
        " 37.2967328062 done 10000 total 26812\n",
        "%done:"
       ]
      },
      {
       "output_type": "stream",
       "stream": "stdout",
       "text": [
        " 39.1615694465 done 10500 total 26812\n",
        "%done:"
       ]
      },
      {
       "output_type": "stream",
       "stream": "stdout",
       "text": [
        " 41.0264060868 done 11000 total 26812\n",
        "%done:"
       ]
      },
      {
       "output_type": "stream",
       "stream": "stdout",
       "text": [
        " 42.8912427271 done 11500 total 26812\n",
        "%done:"
       ]
      },
      {
       "output_type": "stream",
       "stream": "stdout",
       "text": [
        " 44.7560793674 done 12000 total 26812\n",
        "%done:"
       ]
      },
      {
       "output_type": "stream",
       "stream": "stdout",
       "text": [
        " 46.6209160078 done 12500 total 26812\n",
        "%done:"
       ]
      },
      {
       "output_type": "stream",
       "stream": "stdout",
       "text": [
        " 48.4857526481 done 13000 total 26812\n",
        "%done:"
       ]
      },
      {
       "output_type": "stream",
       "stream": "stdout",
       "text": [
        " 50.3505892884 done 13500 total 26812\n",
        "%done:"
       ]
      },
      {
       "output_type": "stream",
       "stream": "stdout",
       "text": [
        " 52.2154259287 done 14000 total 26812\n",
        "%done:"
       ]
      },
      {
       "output_type": "stream",
       "stream": "stdout",
       "text": [
        " 54.080262569 done 14500 total 26812\n",
        "%done:"
       ]
      },
      {
       "output_type": "stream",
       "stream": "stdout",
       "text": [
        " 55.9450992093 done 15000 total 26812\n",
        "%done:"
       ]
      },
      {
       "output_type": "stream",
       "stream": "stdout",
       "text": [
        " 57.8099358496 done 15500 total 26812\n",
        "%done:"
       ]
      },
      {
       "output_type": "stream",
       "stream": "stdout",
       "text": [
        " 59.6747724899 done 16000 total 26812\n",
        "%done:"
       ]
      },
      {
       "output_type": "stream",
       "stream": "stdout",
       "text": [
        " 61.5396091302 done 16500 total 26812\n",
        "%done:"
       ]
      },
      {
       "output_type": "stream",
       "stream": "stdout",
       "text": [
        " 63.4044457706 done 17000 total 26812\n",
        "%done:"
       ]
      },
      {
       "output_type": "stream",
       "stream": "stdout",
       "text": [
        " 65.2692824109 done 17500 total 26812\n",
        "%done:"
       ]
      },
      {
       "output_type": "stream",
       "stream": "stdout",
       "text": [
        " 67.1341190512 done 18000 total 26812\n",
        "%done:"
       ]
      },
      {
       "output_type": "stream",
       "stream": "stdout",
       "text": [
        " 68.9989556915 done 18500 total 26812\n",
        "%done:"
       ]
      },
      {
       "output_type": "stream",
       "stream": "stdout",
       "text": [
        " 70.8637923318 done 19000 total 26812\n",
        "%done:"
       ]
      },
      {
       "output_type": "stream",
       "stream": "stdout",
       "text": [
        " 72.7286289721 done 19500 total 26812\n",
        "%done:"
       ]
      },
      {
       "output_type": "stream",
       "stream": "stdout",
       "text": [
        " 74.5934656124 done 20000 total 26812\n",
        "%done:"
       ]
      },
      {
       "output_type": "stream",
       "stream": "stdout",
       "text": [
        " 76.4583022527 done 20500 total 26812\n",
        "%done:"
       ]
      },
      {
       "output_type": "stream",
       "stream": "stdout",
       "text": [
        " 78.323138893 done 21000 total 26812\n",
        "%done:"
       ]
      },
      {
       "output_type": "stream",
       "stream": "stdout",
       "text": [
        " 80.1879755333 done 21500 total 26812\n",
        "%done:"
       ]
      },
      {
       "output_type": "stream",
       "stream": "stdout",
       "text": [
        " 82.0528121737 done 22000 total 26812\n",
        "%done:"
       ]
      },
      {
       "output_type": "stream",
       "stream": "stdout",
       "text": [
        " 83.917648814 done 22500 total 26812\n",
        "%done:"
       ]
      },
      {
       "output_type": "stream",
       "stream": "stdout",
       "text": [
        " 85.7824854543 done 23000 total 26812\n",
        "%done:"
       ]
      },
      {
       "output_type": "stream",
       "stream": "stdout",
       "text": [
        " 87.6473220946 done 23500 total 26812\n",
        "%done:"
       ]
      },
      {
       "output_type": "stream",
       "stream": "stdout",
       "text": [
        " 89.5121587349 done 24000 total 26812\n",
        "%done:"
       ]
      },
      {
       "output_type": "stream",
       "stream": "stdout",
       "text": [
        " 91.3769953752 done 24500 total 26812\n",
        "%done:"
       ]
      },
      {
       "output_type": "stream",
       "stream": "stdout",
       "text": [
        " 93.2418320155 done 25000 total 26812\n",
        "%done:"
       ]
      },
      {
       "output_type": "stream",
       "stream": "stdout",
       "text": [
        " 95.1066686558 done 25500 total 26812\n",
        "%done:"
       ]
      },
      {
       "output_type": "stream",
       "stream": "stdout",
       "text": [
        " 96.9715052961 done 26000 total 26812\n",
        "%done:"
       ]
      },
      {
       "output_type": "stream",
       "stream": "stdout",
       "text": [
        " 98.8363419364 done 26500 total 26812\n",
        "Extraction completed for:"
       ]
      },
      {
       "output_type": "stream",
       "stream": "stdout",
       "text": [
        " medline14n0746.xml.gz\n",
        "Extracted rows: 26812\n",
        "Errors: 0\n"
       ]
      }
     ],
     "prompt_number": 30
    },
    {
     "cell_type": "code",
     "collapsed": false,
     "input": [
      "answer[20]"
     ],
     "language": "python",
     "metadata": {},
     "outputs": [
      {
       "metadata": {},
       "output_type": "pyout",
       "prompt_number": 25,
       "text": [
        "['23946446',\n",
        " 'year:2013,month:Sep',\n",
        " 'lastname:Andersen,forename:Ditte Caroline,initials:DC,affiliation:Laboratory of Molecular and Cellular Cardiology, Department of Clinical Biochemistry and Pharmacology, Odense University Hospital, Winsloewparken 21 3rd, 5000 Odense C, Denmark.;lastname:Laborda,forename:Jorge,initials:J;lastname:Baladron,forename:Victoriano,initials:V;lastname:Kassem,forename:Moustapha,initials:M;lastname:Sheikh,forename:Sren Paludan,initials:SP;lastname:Jensen,forename:Charlotte Harken,initials:CH']"
       ]
      }
     ],
     "prompt_number": 25
    },
    {
     "cell_type": "code",
     "collapsed": false,
     "input": [],
     "language": "python",
     "metadata": {},
     "outputs": []
    }
   ],
   "metadata": {}
  }
 ]
}