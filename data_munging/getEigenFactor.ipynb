{
 "metadata": {
  "name": "",
  "signature": "sha256:50929c8c7e3fa73b2f9829a8dc1f4041cb11476172c901ad0fdf19e9910d612a"
 },
 "nbformat": 3,
 "nbformat_minor": 0,
 "worksheets": [
  {
   "cells": [
    {
     "cell_type": "code",
     "collapsed": false,
     "input": [
      "# preamble\n",
      "import os\n",
      "import codecs\n",
      "import csv\n",
      "import unicodedata\n",
      "from bs4 import BeautifulSoup\n",
      "import gzip\n",
      "from bs4 import SoupStrainer\n",
      "from collections import OrderedDict"
     ],
     "language": "python",
     "metadata": {},
     "outputs": [],
     "prompt_number": 48
    },
    {
     "cell_type": "code",
     "collapsed": false,
     "input": [
      "x"
     ],
     "language": "python",
     "metadata": {},
     "outputs": [
      {
       "metadata": {},
       "output_type": "pyout",
       "prompt_number": 2,
       "text": [
        "'\\r\\n\\r\\n\\r\\n\\t\\t\\t\\r\\n\\t\\t\\t<html lang=\"en-US\">\\r\\n\\r\\n\\t\\t\\t<head>\\r\\n\\r\\n\\t\\t\\t\\t<meta name=\"author\" content=\"Jevin D. West\"></meta>\\r\\n\\t\\t\\t\\t<meta name=\"description\" content=\"Eigenfactor: ranking and mapping scientific knowledge\"></meta> \\r\\n\\t\\t\\t\\t<meta name=\"keywords\" content=\"Eigenfactor, journal ranking, mapping science\"></meta>\\r\\n\\t\\t\\t\\t \\r\\n\\t\\t\\t\\t<title>Eigenfactor</title>\\r\\n\\t\\t\\t\\t<link rel=\"shortcut icon\" href=\"http://www.eigenfactor.org/images/EFlogo.png\" type=\"image/png\" />\\r\\n\\r\\n\\r\\n\\t\\t\\t\\t<link rel=\"stylesheet\" href=\"http://www.eigenfactor.org/css/ef.css\" type=\"text/css\"></link>\\r\\n\\t\\t\\t\\t\\r\\n\\t\\t\\t\\t<link rel=\"stylesheet\" href=\"http://www.eigenfactor.org/css/p7exp.css\" type=\"text/css\"></link>\\t\\r\\n\\t\\t\\t\\t<link rel=\"stylesheet\" href=\"http://www.eigenfactor.org/css/quickmenu_styles.css\" type=\"text/css\"></link>\\r\\n\\t\\t\\t\\t\\r\\n\\t\\t\\t\\t<link rel=\"stylesheet\" href=\"http://www.eigenfactor.org/css/jquery-ui-1.8.16.custom.css\" type=\"text/css\"></link>\\r\\n\\t\\t\\t\\t<link rel=\"stylesheet\" type=\"text/css\" href=\"http://www.eigenfactor.org/css/jquery.jqplot.css\" />\\r\\n\\t\\t\\t\\t\\r\\n\\t\\t\\t\\t\\r\\n\\t\\t\\t\\t<script type=\"text/javascript\" src=\"http://www.eigenfactor.org/js/quickmenu.js\"></script>\\r\\n\\t\\t\\t\\t<script type=\"text/javascript\" src=\"http://www.eigenfactor.org/js/p7exp.js\"></script>\\t\\t\\r\\n\\t\\t\\t\\t\\r\\n\\t\\t\\t\\t<script type=\"text/javascript\" src=\"http://www.eigenfactor.org/js/jquery-1.6.2.min.js\"></script>\\r\\n\\t\\t\\t\\t<script type=\"text/javascript\" src=\"http://www.eigenfactor.org/js/jquery-ui-1.8.16.custom.min.js\"></script>\\t\\t\\r\\n\\t\\t\\t\\t\\r\\n\\t\\t\\t</head>\\r\\n\\r\\n\\r\\n\\t\\t\\t<body>\\r\\n\\t\\t\\t\\t\\r\\n\\t\\t\\t\\t<!-- Main Container -->\\r\\n\\t\\t\\t\\t<div class=\"container\">\\r\\n\\r\\n\\t\\t\\t\\t  <!-- Left Panel -->\\r\\n\\t\\t\\t\\t\\t<div class=\"leftside\"></div>\\r\\n\\r\\n\\t\\t\\t\\t\\t<!-- Content -->\\r\\n\\t\\t\\t\\t\\t<div class=\"middleside\">\\r\\n\\t\\t\\t\\t\\t\\t\\r\\n\\t\\t\\t\\t\\t\\t<!-- Header -->\\r\\n\\t\\t\\t\\t\\t\\t<div id=\"headerimage\"><a href=\"http://www.eigenfactor.org\"><img src=\"http://www.eigenfactor.org/images/header.jpg\" width=\"700\" height=\"150\" border=\"0\" /></a></div>\\r\\n\\t\\t\\t\\t\\t\\t\\r\\n\\t\\t\\t\\t\\t\\t<!-- Space Bar -->\\r\\n\\t\\t\\t\\t\\t\\t<div class=\"spacebar1\"></div>\\r\\n\\r\\n\\t\\t\\t\\t\\t\\t\\r\\n\\t\\t\\t\\t\\t\\t\\r\\n\\t\\t\\t\\t\\t\\t<!-- Navigation Bar -->\\r\\n\\t\\t\\t\\t\\t\\t<div class=\"navigation\">\\r\\n\\r\\n\\t\\t\\t\\t\\t\\t\\t<!-- navigation contents -->\\r\\n\\t\\t\\t\\t\\t\\t\\t<ul id=\"qm0\" class=\"qmmc\">\\r\\n\\r\\n\\t\\t\\t\\t\\t\\t\\t\\t<li><a class=\"qmparent\" href=\"http://www.eigenfactor.org/index.php\">eigenfactor search</a>\\r\\n\\t\\t\\t\\t\\t\\t\\t\\t    <ul>\\r\\n\\t\\t\\t\\t\\t\\t\\t\\t       <li><a href=\"http://www.eigenfactor.org/motion/\">motion graphs</a></li>\\r\\n\\t\\t\\t\\t\\t\\t\\t\\t       <li><span class=\"qmdivider qmdividerx\" ></span></li>\\r\\n\\t\\t\\t\\t\\t\\t\\t\\t       <li><a href=\"http://www.eigenfactor.org/advanced.php\">advanced search</a></li>\\r\\n\\t\\t\\t\\t\\t\\t\\t\\t    </ul>\\r\\n\\t\\t\\t\\t\\t\\t\\t\\t</li>\\r\\n\\r\\n\\t\\t\\t\\t\\t\\t\\t\\t<li><span class=\"qmdivider qmdividery\" ></span></li>\\r\\n\\r\\n\\t\\t\\t\\t\\t\\t\\t\\t<li><a class=\"qmparent\" href=\"/map/index.php\">mapping</a>\\r\\n\\t\\t\\t\\t\\t\\t\\t\\t\\t  <ul>\\r\\n\\t\\t\\t\\t\\t\\t\\t\\t\\t     <li><a href=\"http://www.eigenfactor.org/map/index.php\">interactive browser</a></li>\\r\\n\\t\\t\\t\\t\\t\\t\\t         <li><a href=\"http://www.eigenfactor.org/map/maps.php\">maps</a></li>\\r\\n\\t\\t\\t\\t\\t\\t\\t\\t\\t\\t\\t<li><a href=\"http://mas.eigenfactor.org/journalLevel/indexIframe.php\">mas</a></li>\\r\\n\\t\\t\\t\\t\\t\\t\\t\\t\\t     <li><a href=\"http://www.eigenfactor.org/map/methods.php\">methods</a></li>\\r\\n\\t\\t\\t\\t\\t\\t\\t\\t\\t     <li><span class=\"qmdivider qmdividerx\" ></span></li>\\r\\n\\t\\t\\t\\t\\t\\t\\t\\t\\t\\t\\t <li><a href=\"http://www.mapequation.org\">mapequation.org</a></li>\\r\\n\\t\\t\\t\\t\\t\\t\\t\\t\\t  </ul>\\r\\n\\t\\t\\t\\t\\t\\t\\t\\t</li>\\r\\n\\r\\n\\t\\t\\t\\t\\t\\t\\t\\t<li><span class=\"qmdivider qmdividery\" ></span></li>\\r\\n\\r\\n\\t\\t\\t\\t\\t\\t\\t\\t<li><a class=\"qmparent\" href=\"http://www.eigenfactor.org/methods.php\">information</a>\\r\\n\\t\\t\\t\\t\\t\\t\\t\\t\\t  <ul>\\r\\n\\t\\t\\t\\t\\t\\t\\t\\t\\t     <li><a href=\"http://www.eigenfactor.org/whyeigenfactor.php\">why eigenfactor</a></li>\\r\\n\\t\\t\\t\\t\\t\\t\\t\\t\\t     <li><a href=\"http://www.eigenfactor.org/methods.php\">methods</a></li>\\r\\n\\t\\t\\t\\t\\t\\t\\t\\t\\t     <li><a href=\"http://www.eigenfactor.org/stats.php\">stats</a></li>\\r\\n\\t\\t\\t\\t\\t\\t\\t\\t\\t     <li><span class=\"qmdivider qmdividerx\" ></span></li>\\r\\n\\t\\t\\t\\t\\t\\t\\t         <li><a href=\"http://www.eigenfactor.org/papers.php\">papers</a></li>\\r\\n\\t\\t\\t\\t\\t\\t\\t\\t\\t  </ul>\\r\\n\\t\\t\\t\\t\\t\\t\\t\\t</li>\\r\\n\\r\\n\\t\\t\\t\\t\\t\\t\\t\\t<li><span class=\"qmdivider qmdividery\" ></span></li>\\r\\n\\r\\n\\t\\t\\t\\t\\t\\t\\t  <li><a href=\"http://well-formed.eigenfactor.org\">well-formed</a></li>\\r\\n\\r\\n\\t\\t\\t\\t\\t\\t\\t  <li><span class=\"qmdivider qmdividery\" ></span></li>\\r\\n\\t\\t\\t\\t\\t\\t\\t\\r\\n\\t\\t\\t\\t\\t\\t\\t  <li><a class=\"qmparent\" href=\"http://www.eigenfactor.org/openaccess/\">cost effectiveness</a>\\r\\n\\t\\t\\t\\t\\t\\t\\t\\t\\t\\t<ul>\\r\\n\\t\\t\\t\\t\\t\\t\\t\\t       <li><a href=\"http://www.eigenfactor.org/costeffectiveness.php\">Subscriptions</a></li>\\r\\n\\t\\t\\t\\t\\t             <li><a href=\"http://www.eigenfactor.org/openaccess/\">Open Access Author Fees (Beta)</a></li>\\r\\n\\t\\t\\t\\t\\t\\t\\t\\t    </ul>\\r\\n\\t\\t\\t\\t\\t\\t\\t\\r\\n\\t\\t\\t\\t\\t\\t\\t\\t<li><span class=\"qmdivider qmdividery\" ></span></li>\\r\\n\\r\\n\\t\\t\\t\\t\\t\\t\\t\\t<li><a class=\"qmparent\" href=\"http://mas.eigenfactor.org/\">recommendation</a>\\r\\n\\t\\t\\t\\t\\t\\t\\t\\t  <ul>\\r\\n\\t\\t\\t\\t\\t\\t\\t\\t       <li><a href=\"http://mas.eigenfactor.org\">Microsoft Academic Search</a></li>\\r\\n\\t\\t\\t\\t\\t                   <li><a href=\"http://jstor.eigenfactor.org/\">JSTOR</a></li>\\r\\n\\t\\t\\t\\t\\t\\t\\t\\t  </ul>\\r\\n\\t\\t\\t\\t\\t\\t\\t\\t</li>\\r\\n\\r\\n\\t\\t\\t\\t\\t\\t\\t\\t<li><span class=\"qmdivider qmdividery\" ></span></li>\\r\\n\\r\\n\\t\\t\\t\\t\\t\\t\\t\\t<li><a class=\"qmparent\" href=\"http://www.eigenfactor.org/gender\">gender</a>\\r\\n\\t\\t\\t\\t\\t\\t\\t\\t\\r\\n\\t\\t\\t\\t\\t\\t\\t\\t<li><span class=\"qmdivider qmdividery\" ></span></li>\\r\\n\\r\\n\\t\\t\\t\\t\\t\\t\\t  <li><a class=\"qmparent\" href=\"http://www.eigenfactor.org/about.php\">about</a>\\r\\n\\t\\t\\t\\t\\t          <ul>\\r\\n\\t\\t\\t\\t\\t\\t\\t\\t       <li><a href=\"http://www.eigenfactor.org/faq.php\">faq</a></li>\\r\\n\\t\\t\\t\\t\\t\\t\\t\\t       <li><span class=\"qmdivider qmdividerx\" ></span></li>\\r\\n\\t\\t\\t\\t\\t             <li><a href=\"http://www.eigenfactor.org/about.php\">contact</a></li>\\r\\n\\t\\t\\t\\t\\t\\t\\t\\t    </ul>\\r\\n\\t\\t\\t\\t\\t\\t\\t\\t</li>\\r\\n\\r\\n\\t\\t\\t\\t\\t\\t\\t  <li class=\"qmclear\">&nbsp;</li>\\r\\n\\r\\n\\t\\t\\t\\t\\t\\t\\t</ul>\\r\\n\\t\\t\\t\\t\\t\\t  <!-- End navigation contents -->\\r\\n\\r\\n\\r\\n\\t\\t\\t\\t\\t\\t</div>\\r\\n\\t\\t\\t\\t\\t\\t<!-- End Navigation Bar -->\\r\\n\\r\\n\\r\\n\\t\\t\\t\\t\\t\\t<!-- Space Bar1 -->\\r\\n\\t\\t\\t\\t\\t\\t<div class=\"spacebar1\"></div>\\r\\n\\t\\t\\t\\t\\t\\t\\r\\n\\t\\t\\t\\t\\t\\t<!-- Beginning of Content -->\\r\\n\\t\\t\\t\\t\\t\\t\\r\\n\\t\\t\\t\\r\\n\\t  \\r\\n\\r\\n<link href=\"css/pagination.css\" rel=\"stylesheet\" type=\"text/css\" />\\r\\n\\t<link href=\"css/grey.css\" rel=\"stylesheet\" type=\"text/css\" />\\r\\n\\r\\n<!-- JS -->\\r\\n\\r\\n<script language=\"javascript\" type=\"text/javascript\" src=\"http://www.eigenfactor.org/js/jquery.jqplot.min.js\"></script>\\r\\n<script type=\"text/javascript\" src=\"http://www.eigenfactor.org/js/jqplot.canvasTextRenderer.min.js\"></script>\\r\\n<script type=\"text/javascript\" src=\"http://www.eigenfactor.org/js/jqplot.canvasAxisLabelRenderer.min.js\"></script>\\r\\n<script type=\"text/javascript\" src=\"http://www.eigenfactor.org/js/jqplot.json2.min.js\"></script>\\r\\n<script type=\"text/javascript\" src=\"http://www.eigenfactor.org/js/jqplot.ciParser.min.js\"></script>\\r\\n<script language=\"javascript\" type=\"text/javascript\" src=\"http://www.eigenfactor.org/js/jqplot.highlighter.min.js\"></script>\\r\\n<script language=\"javascript\" type=\"text/javascript\" src=\"http://www.eigenfactor.org/js/jqplot.logAxisRenderer.min.js\"></script>\\r\\n\\r\\n\\r\\n<script type=\"text/javascript\">\\r\\n    $(function(){\\r\\n        // Accordion //\\r\\n        $(\"#accordion\").accordion({ header: \"h3\",collapsible: true,active: false});\\r\\n        $(\"#accordion a\").click(function(evt) {\\r\\n              var galleryId = $(this).attr(\\'href\\').split(\\'#\\')[1];\\r\\n              var contentDiv = $(\\'#\\' + galleryId);\\r\\n              if(contentDiv.html() == \"Loading...\") {\\r\\n\\t\\t\\t\\t\\t\\t\\t\\t\\t\\t$(contentDiv).load(\\'getdetails.php?year=\\' + galleryId.substring(0,4) + \\'&issn=\\' + galleryId.substring(4));\\r\\n              }\\r\\n         });\\r\\n\\t\\t\\t\\t$(\"#accordion span\").click(function(evt2) {\\r\\n              var galleryId = $(this).next().attr(\\'href\\').split(\\'#\\')[1];\\r\\n              var contentDiv = $(\\'#\\' + galleryId);\\r\\n              if(contentDiv.html() == \"Loading...\") {\\r\\n\\t\\t\\t\\t\\t\\t\\t\\t\\t\\t$(contentDiv).load(\\'getdetails.php?year=\\' + galleryId.substring(0,4) + \\'&issn=\\' + galleryId.substring(4));\\r\\n              }\\r\\n         });\\r\\n    });\\r\\n</script>\\r\\n\\r\\n\\r\\n<!-- END JS -->\\r\\n\\r\\n\\r\\n\\r\\n\\r\\n<!-- Content Box -->\\r\\n<div class=\"content_box\">\\r\\n\\r\\n\\r\\n\\t\\r\\n\\t<!-- Header Bar -->\\r\\n\\t<div class=\"results\" style=\"margin-left: 30px; margin-top: 20px; height:40px;\">\\r\\n\\t\\r\\n\\t\\t<div class=\"rank\"><h3>Order</h3></div>\\r\\n\\t\\t<div class=\"journal\" style=\"width:320px;\"><h3>Journal</h3></div>\\r\\n\\t\\t<div class=\"percentile\" style=\"width:170px;\"><h3>Percentile</h3></div>\\r\\n\\t\\t<div class=\"EF\" style=\"text-align:center;\"><h3>EF <a href=\"http://www.eigenfactor.org/rankings.php?bsearch=2011&searchby=year&orderby=eigenfactor\">&#8595</a></h3></div>\\r\\n\\t\\t<div class=\"AI\" style=\"text-align:center;\"><h3>AI <a href=\"http://www.eigenfactor.org/rankings.php?bsearch=2011&searchby=year&orderby=articleinfluence\">&#8595</a></h3></div>\\r\\n\\t\\r\\n\\t</div>\\r\\n\\t<!-- End Header Bar -->\\r\\n\\t\\r\\n\\t\\r\\n\\t<div id=\"accordion\"><h3><a href=\"#20110028-0836\"><div class=\"results\"><div class=\"rank\">1</div><div class=\"journal\">NATURE<div class=\"issn\">ISSN: 0028-0836</div></div><div class=\"percentile\"><div class=\"pholder1\"><div class=\"pname1\">EF: </div><div class=\"pbar1\"><div class=\"pfill1\" style=\"width: 100px;\"></div></div><div class =\"pnum1\">100</div></div><div class=\"pholder2\"><div class=\"pname2\">AI: </div><div class=\"pbar2\"><div class=\"pfill2\" style=\"width: 100px;\"></div></div><div class =\"pnum2\">100</div></div></div><div class=\"EF\">1.65524</div><div class=\"AI\">20.373</div></div></a></h3><div class=\"details\" id=\"20110028-0836\">Loading...</div><h3><a href=\"#20110027-8424\"><div class=\"results\"><div class=\"rank\">2</div><div class=\"journal\">P NATL ACAD SCI USA<div class=\"issn\">ISSN: 0027-8424</div></div><div class=\"percentile\"><div class=\"pholder1\"><div class=\"pname1\">EF: </div><div class=\"pbar1\"><div class=\"pfill1\" style=\"width: 100px;\"></div></div><div class =\"pnum1\">100</div></div><div class=\"pholder2\"><div class=\"pname2\">AI: </div><div class=\"pbar2\"><div class=\"pfill2\" style=\"width: 99px;\"></div></div><div class =\"pnum2\">99</div></div></div><div class=\"EF\">1.60168</div><div class=\"AI\">4.8961</div></div></a></h3><div class=\"details\" id=\"20110027-8424\">Loading...</div><h3><a href=\"#20110036-8075\"><div class=\"results\"><div class=\"rank\">3</div><div class=\"journal\">SCIENCE<div class=\"issn\">ISSN: 0036-8075</div></div><div class=\"percentile\"><div class=\"pholder1\"><div class=\"pname1\">EF: </div><div class=\"pbar1\"><div class=\"pfill1\" style=\"width: 100px;\"></div></div><div class =\"pnum1\">100</div></div><div class=\"pholder2\"><div class=\"pname2\">AI: </div><div class=\"pbar2\"><div class=\"pfill2\" style=\"width: 100px;\"></div></div><div class =\"pnum2\">100</div></div></div><div class=\"EF\">1.41162</div><div class=\"AI\">17.5248</div></div></a></h3><div class=\"details\" id=\"20110036-8075\">Loading...</div><h3><a href=\"#20110031-9007\"><div class=\"results\"><div class=\"rank\">4</div><div class=\"journal\">PHYS REV LETT<div class=\"issn\">ISSN: 0031-9007</div></div><div class=\"percentile\"><div class=\"pholder1\"><div class=\"pname1\">EF: </div><div class=\"pbar1\"><div class=\"pfill1\" style=\"width: 100px;\"></div></div><div class =\"pnum1\">100</div></div><div class=\"pholder2\"><div class=\"pname2\">AI: </div><div class=\"pbar2\"><div class=\"pfill2\" style=\"width: 98px;\"></div></div><div class =\"pnum2\">98</div></div></div><div class=\"EF\">1.14457</div><div class=\"AI\">3.5175</div></div></a></h3><div class=\"details\" id=\"20110031-9007\">Loading...</div><h3><a href=\"#20110002-7863\"><div class=\"results\"><div class=\"rank\">5</div><div class=\"journal\">J AM CHEM SOC<div class=\"issn\">ISSN: 0002-7863</div></div><div class=\"percentile\"><div class=\"pholder1\"><div class=\"pname1\">EF: </div><div class=\"pbar1\"><div class=\"pfill1\" style=\"width: 100px;\"></div></div><div class =\"pnum1\">100</div></div><div class=\"pholder2\"><div class=\"pname2\">AI: </div><div class=\"pbar2\"><div class=\"pfill2\" style=\"width: 97px;\"></div></div><div class =\"pnum2\">97</div></div></div><div class=\"EF\">0.817303</div><div class=\"AI\">2.7989</div></div></a></h3><div class=\"details\" id=\"20110002-7863\">Loading...</div><h3><a href=\"#20111098-0121\"><div class=\"results\"><div class=\"rank\">6</div><div class=\"journal\">PHYS REV B<div class=\"issn\">ISSN: 1098-0121</div></div><div class=\"percentile\"><div class=\"pholder1\"><div class=\"pname1\">EF: </div><div class=\"pbar1\"><div class=\"pfill1\" style=\"width: 100px;\"></div></div><div class =\"pnum1\">100</div></div><div class=\"pholder2\"><div class=\"pname2\">AI: </div><div class=\"pbar2\"><div class=\"pfill2\" style=\"width: 89px;\"></div></div><div class =\"pnum2\">89</div></div></div><div class=\"EF\">0.756039</div><div class=\"AI\">1.4281</div></div></a></h3><div class=\"details\" id=\"20111098-0121\">Loading...</div><h3><a href=\"#20110021-9258\"><div class=\"results\"><div class=\"rank\">7</div><div class=\"journal\">J BIOL CHEM<div class=\"issn\">ISSN: 0021-9258</div></div><div class=\"percentile\"><div class=\"pholder1\"><div class=\"pname1\">EF: </div><div class=\"pbar1\"><div class=\"pfill1\" style=\"width: 100px;\"></div></div><div class =\"pnum1\">100</div></div><div class=\"pholder2\"><div class=\"pname2\">AI: </div><div class=\"pbar2\"><div class=\"pfill2\" style=\"width: 94px;\"></div></div><div class =\"pnum2\">94</div></div></div><div class=\"EF\">0.742127</div><div class=\"AI\">2.0307</div></div></a></h3><div class=\"details\" id=\"20110021-9258\">Loading...</div><h3><a href=\"#20110003-6951\"><div class=\"results\"><div class=\"rank\">8</div><div class=\"journal\">APPL PHYS LETT<div class=\"issn\">ISSN: 0003-6951</div></div><div class=\"percentile\"><div class=\"pholder1\"><div class=\"pname1\">EF: </div><div class=\"pbar1\"><div class=\"pfill1\" style=\"width: 100px;\"></div></div><div class =\"pnum1\">100</div></div><div class=\"pholder2\"><div class=\"pname2\">AI: </div><div class=\"pbar2\"><div class=\"pfill2\" style=\"width: 89px;\"></div></div><div class =\"pnum2\">89</div></div></div><div class=\"EF\">0.675752</div><div class=\"AI\">1.3875</div></div></a></h3><div class=\"details\" id=\"20110003-6951\">Loading...</div><h3><a href=\"#20110028-4793\"><div class=\"results\"><div class=\"rank\">9</div><div class=\"journal\">NEW ENGL J MED<div class=\"issn\">ISSN: 0028-4793</div></div><div class=\"percentile\"><div class=\"pholder1\"><div class=\"pname1\">EF: </div><div class=\"pbar1\"><div class=\"pfill1\" style=\"width: 100px;\"></div></div><div class =\"pnum1\">100</div></div><div class=\"pholder2\"><div class=\"pname2\">AI: </div><div class=\"pbar2\"><div class=\"pfill2\" style=\"width: 100px;\"></div></div><div class =\"pnum2\">100</div></div></div><div class=\"EF\">0.66383</div><div class=\"AI\">21.304</div></div></a></h3><div class=\"details\" id=\"20110028-4793\">Loading...</div><h3><a href=\"#20110092-8674\"><div class=\"results\"><div class=\"rank\">10</div><div class=\"journal\">CELL<div class=\"issn\">ISSN: 0092-8674</div></div><div class=\"percentile\"><div class=\"pholder1\"><div class=\"pname1\">EF: </div><div class=\"pbar1\"><div class=\"pfill1\" style=\"width: 100px;\"></div></div><div class =\"pnum1\">100</div></div><div class=\"pholder2\"><div class=\"pname2\">AI: </div><div class=\"pbar2\"><div class=\"pfill2\" style=\"width: 100px;\"></div></div><div class =\"pnum2\">100</div></div></div><div class=\"EF\">0.660816</div><div class=\"AI\">20.554</div></div></a></h3><div class=\"details\" id=\"20110092-8674\">Loading...</div><h3><a href=\"#20111433-7851\"><div class=\"results\"><div class=\"rank\">11</div><div class=\"journal\">ANGEW CHEM INT EDIT<div class=\"issn\">ISSN: 1433-7851</div></div><div class=\"percentile\"><div class=\"pholder1\"><div class=\"pname1\">EF: </div><div class=\"pbar1\"><div class=\"pfill1\" style=\"width: 100px;\"></div></div><div class =\"pnum1\">100</div></div><div class=\"pholder2\"><div class=\"pname2\">AI: </div><div class=\"pbar2\"><div class=\"pfill2\" style=\"width: 98px;\"></div></div><div class =\"pnum2\">98</div></div></div><div class=\"EF\">0.514213</div><div class=\"AI\">3.3776</div></div></a></h3><div class=\"details\" id=\"20111433-7851\">Loading...</div><h3><a href=\"#20111932-6203\"><div class=\"results\"><div class=\"rank\">12</div><div class=\"journal\">PLOS ONE<div class=\"issn\">ISSN: 1932-6203</div></div><div class=\"percentile\"><div class=\"pholder1\"><div class=\"pname1\">EF: </div><div class=\"pbar1\"><div class=\"pfill1\" style=\"width: 100px;\"></div></div><div class =\"pnum1\">100</div></div><div class=\"pholder2\"><div class=\"pname2\">AI: </div><div class=\"pbar2\"><div class=\"pfill2\" style=\"width: 93px;\"></div></div><div class =\"pnum2\">93</div></div></div><div class=\"EF\">0.501622</div><div class=\"AI\">1.7984</div></div></a></h3><div class=\"details\" id=\"20111932-6203\">Loading...</div><h3><a href=\"#20110270-6474\"><div class=\"results\"><div class=\"rank\">13</div><div class=\"journal\">J NEUROSCI<div class=\"issn\">ISSN: 0270-6474</div></div><div class=\"percentile\"><div class=\"pholder1\"><div class=\"pname1\">EF: </div><div class=\"pbar1\"><div class=\"pfill1\" style=\"width: 100px;\"></div></div><div class =\"pnum1\">100</div></div><div class=\"pholder2\"><div class=\"pname2\">AI: </div><div class=\"pbar2\"><div class=\"pfill2\" style=\"width: 97px;\"></div></div><div class =\"pnum2\">97</div></div></div><div class=\"EF\">0.449625</div><div class=\"AI\">3.2549</div></div></a></h3><div class=\"details\" id=\"20110270-6474\">Loading...</div><h3><a href=\"#20110004-637X\"><div class=\"results\"><div class=\"rank\">14</div><div class=\"journal\">ASTROPHYS J<div class=\"issn\">ISSN: 0004-637X</div></div><div class=\"percentile\"><div class=\"pholder1\"><div class=\"pname1\">EF: </div><div class=\"pbar1\"><div class=\"pfill1\" style=\"width: 100px;\"></div></div><div class =\"pnum1\">100</div></div><div class=\"pholder2\"><div class=\"pname2\">AI: </div><div class=\"pbar2\"><div class=\"pfill2\" style=\"width: 93px;\"></div></div><div class =\"pnum2\">93</div></div></div><div class=\"EF\">0.429616</div><div class=\"AI\">1.8047</div></div></a></h3><div class=\"details\" id=\"20110004-637X\">Loading...</div><h3><a href=\"#20110006-4971\"><div class=\"results\"><div class=\"rank\">15</div><div class=\"journal\">BLOOD<div class=\"issn\">ISSN: 0006-4971</div></div><div class=\"percentile\"><div class=\"pholder1\"><div class=\"pname1\">EF: </div><div class=\"pbar1\"><div class=\"pfill1\" style=\"width: 100px;\"></div></div><div class =\"pnum1\">100</div></div><div class=\"pholder2\"><div class=\"pname2\">AI: </div><div class=\"pbar2\"><div class=\"pfill2\" style=\"width: 98px;\"></div></div><div class =\"pnum2\">98</div></div></div><div class=\"EF\">0.427942</div><div class=\"AI\">3.692</div></div></a></h3><div class=\"details\" id=\"20110006-4971\">Loading...</div><h3><a href=\"#20110732-183X\"><div class=\"results\"><div class=\"rank\">16</div><div class=\"journal\">J CLIN ONCOL<div class=\"issn\">ISSN: 0732-183X</div></div><div class=\"percentile\"><div class=\"pholder1\"><div class=\"pname1\">EF: </div><div class=\"pbar1\"><div class=\"pfill1\" style=\"width: 100px;\"></div></div><div class =\"pnum1\">100</div></div><div class=\"pholder2\"><div class=\"pname2\">AI: </div><div class=\"pbar2\"><div class=\"pfill2\" style=\"width: 99px;\"></div></div><div class =\"pnum2\">99</div></div></div><div class=\"EF\">0.394631</div><div class=\"AI\">5.56</div></div></a></h3><div class=\"details\" id=\"20110732-183X\">Loading...</div><h3><a href=\"#20110022-1767\"><div class=\"results\"><div class=\"rank\">17</div><div class=\"journal\">J IMMUNOL<div class=\"issn\">ISSN: 0022-1767</div></div><div class=\"percentile\"><div class=\"pholder1\"><div class=\"pname1\">EF: </div><div class=\"pbar1\"><div class=\"pfill1\" style=\"width: 100px;\"></div></div><div class =\"pnum1\">100</div></div><div class=\"pholder2\"><div class=\"pname2\">AI: </div><div class=\"pbar2\"><div class=\"pfill2\" style=\"width: 95px;\"></div></div><div class =\"pnum2\">95</div></div></div><div class=\"EF\">0.369891</div><div class=\"AI\">2.2661</div></div></a></h3><div class=\"details\" id=\"20110022-1767\">Loading...</div><h3><a href=\"#20110008-5472\"><div class=\"results\"><div class=\"rank\">18</div><div class=\"journal\">CANCER RES<div class=\"issn\">ISSN: 0008-5472</div></div><div class=\"percentile\"><div class=\"pholder1\"><div class=\"pname1\">EF: </div><div class=\"pbar1\"><div class=\"pfill1\" style=\"width: 100px;\"></div></div><div class =\"pnum1\">100</div></div><div class=\"pholder2\"><div class=\"pname2\">AI: </div><div class=\"pbar2\"><div class=\"pfill2\" style=\"width: 97px;\"></div></div><div class =\"pnum2\">97</div></div></div><div class=\"EF\">0.362734</div><div class=\"AI\">3.0995</div></div></a></h3><div class=\"details\" id=\"20110008-5472\">Loading...</div><h3><a href=\"#20110140-6736\"><div class=\"results\"><div class=\"rank\">19</div><div class=\"journal\">LANCET<div class=\"issn\">ISSN: 0140-6736</div></div><div class=\"percentile\"><div class=\"pholder1\"><div class=\"pname1\">EF: </div><div class=\"pbar1\"><div class=\"pfill1\" style=\"width: 100px;\"></div></div><div class =\"pnum1\">100</div></div><div class=\"pholder2\"><div class=\"pname2\">AI: </div><div class=\"pbar2\"><div class=\"pfill2\" style=\"width: 100px;\"></div></div><div class =\"pnum2\">100</div></div></div><div class=\"EF\">0.360954</div><div class=\"AI\">13.6107</div></div></a></h3><div class=\"details\" id=\"20110140-6736\">Loading...</div><h3><a href=\"#20111530-6984\"><div class=\"results\"><div class=\"rank\">20</div><div class=\"journal\">NANO LETT<div class=\"issn\">ISSN: 1530-6984</div></div><div class=\"percentile\"><div class=\"pholder1\"><div class=\"pname1\">EF: </div><div class=\"pbar1\"><div class=\"pfill1\" style=\"width: 100px;\"></div></div><div class =\"pnum1\">100</div></div><div class=\"pholder2\"><div class=\"pname2\">AI: </div><div class=\"pbar2\"><div class=\"pfill2\" style=\"width: 99px;\"></div></div><div class =\"pnum2\">99</div></div></div><div class=\"EF\">0.345906</div><div class=\"AI\">5.0701</div></div></a></h3><div class=\"details\" id=\"20111530-6984\">Loading...</div><h3><a href=\"#20110009-7322\"><div class=\"results\"><div class=\"rank\">21</div><div class=\"journal\">CIRCULATION<div class=\"issn\">ISSN: 0009-7322</div></div><div class=\"percentile\"><div class=\"pholder1\"><div class=\"pname1\">EF: </div><div class=\"pbar1\"><div class=\"pfill1\" style=\"width: 100px;\"></div></div><div class =\"pnum1\">100</div></div><div class=\"pholder2\"><div class=\"pname2\">AI: </div><div class=\"pbar2\"><div class=\"pfill2\" style=\"width: 99px;\"></div></div><div class =\"pnum2\">99</div></div></div><div class=\"EF\">0.339278</div><div class=\"AI\">5.9733</div></div></a></h3><div class=\"details\" id=\"20110009-7322\">Loading...</div><h3><a href=\"#20110148-0227\"><div class=\"results\"><div class=\"rank\">22</div><div class=\"journal\">J GEOPHYS RES<div class=\"issn\">ISSN: 0148-0227</div></div><div class=\"percentile\"><div class=\"pholder1\"><div class=\"pname1\">EF: </div><div class=\"pbar1\"><div class=\"pfill1\" style=\"width: 100px;\"></div></div><div class =\"pnum1\">100</div></div><div class=\"pholder2\"><div class=\"pname2\">AI: </div><div class=\"pbar2\"><div class=\"pfill2\" style=\"width: 89px;\"></div></div><div class =\"pnum2\">89</div></div></div><div class=\"EF\">0.332456</div><div class=\"AI\">1.4057</div></div></a></h3><div class=\"details\" id=\"20110148-0227\">Loading...</div><h3><a href=\"#20111061-4036\"><div class=\"results\"><div class=\"rank\">23</div><div class=\"journal\">NAT GENET<div class=\"issn\">ISSN: 1061-4036</div></div><div class=\"percentile\"><div class=\"pholder1\"><div class=\"pname1\">EF: </div><div class=\"pbar1\"><div class=\"pfill1\" style=\"width: 100px;\"></div></div><div class =\"pnum1\">100</div></div><div class=\"pholder2\"><div class=\"pname2\">AI: </div><div class=\"pbar2\"><div class=\"pfill2\" style=\"width: 100px;\"></div></div><div class =\"pnum2\">100</div></div></div><div class=\"EF\">0.329901</div><div class=\"AI\">17.5835</div></div></a></h3><div class=\"details\" id=\"20111061-4036\">Loading...</div><h3><a href=\"#20110305-1048\"><div class=\"results\"><div class=\"rank\">24</div><div class=\"journal\">NUCLEIC ACIDS RES<div class=\"issn\">ISSN: 0305-1048</div></div><div class=\"percentile\"><div class=\"pholder1\"><div class=\"pname1\">EF: </div><div class=\"pbar1\"><div class=\"pfill1\" style=\"width: 100px;\"></div></div><div class =\"pnum1\">100</div></div><div class=\"pholder2\"><div class=\"pname2\">AI: </div><div class=\"pbar2\"><div class=\"pfill2\" style=\"width: 97px;\"></div></div><div class =\"pnum2\">97</div></div></div><div class=\"EF\">0.304882</div><div class=\"AI\">3.0072</div></div></a></h3><div class=\"details\" id=\"20110305-1048\">Loading...</div><h3><a href=\"#20110021-8979\"><div class=\"results\"><div class=\"rank\">25</div><div class=\"journal\">J APPL PHYS<div class=\"issn\">ISSN: 0021-8979</div></div><div class=\"percentile\"><div class=\"pholder1\"><div class=\"pname1\">EF: </div><div class=\"pbar1\"><div class=\"pfill1\" style=\"width: 100px;\"></div></div><div class =\"pnum1\">100</div></div><div class=\"pholder2\"><div class=\"pname2\">AI: </div><div class=\"pbar2\"><div class=\"pfill2\" style=\"width: 73px;\"></div></div><div class =\"pnum2\">73</div></div></div><div class=\"EF\">0.301562</div><div class=\"AI\">0.8355</div></div></a></h3><div class=\"details\" id=\"20110021-8979\">Loading...</div><h3><a href=\"#20111550-7998\"><div class=\"results\"><div class=\"rank\">26</div><div class=\"journal\">PHYS REV D<div class=\"issn\">ISSN: 1550-7998</div></div><div class=\"percentile\"><div class=\"pholder1\"><div class=\"pname1\">EF: </div><div class=\"pbar1\"><div class=\"pfill1\" style=\"width: 100px;\"></div></div><div class =\"pnum1\">100</div></div><div class=\"pholder2\"><div class=\"pname2\">AI: </div><div class=\"pbar2\"><div class=\"pfill2\" style=\"width: 86px;\"></div></div><div class =\"pnum2\">86</div></div></div><div class=\"EF\">0.300804</div><div class=\"AI\">1.2451</div></div></a></h3><div class=\"details\" id=\"20111550-7998\">Loading...</div><h3><a href=\"#20110098-7484\"><div class=\"results\"><div class=\"rank\">27</div><div class=\"journal\">JAMA-J AM MED ASSOC<div class=\"issn\">ISSN: 0098-7484</div></div><div class=\"percentile\"><div class=\"pholder1\"><div class=\"pname1\">EF: </div><div class=\"pbar1\"><div class=\"pfill1\" style=\"width: 100px;\"></div></div><div class =\"pnum1\">100</div></div><div class=\"pholder2\"><div class=\"pname2\">AI: </div><div class=\"pbar2\"><div class=\"pfill2\" style=\"width: 100px;\"></div></div><div class =\"pnum2\">100</div></div></div><div class=\"EF\">0.285664</div><div class=\"AI\">13.111</div></div></a></h3><div class=\"details\" id=\"20110098-7484\">Loading...</div><h3><a href=\"#20111932-7447\"><div class=\"results\"><div class=\"rank\">28</div><div class=\"journal\">J PHYS CHEM C<div class=\"issn\">ISSN: 1932-7447</div></div><div class=\"percentile\"><div class=\"pholder1\"><div class=\"pname1\">EF: </div><div class=\"pbar1\"><div class=\"pfill1\" style=\"width: 100px;\"></div></div><div class =\"pnum1\">100</div></div><div class=\"pholder2\"><div class=\"pname2\">AI: </div><div class=\"pbar2\"><div class=\"pfill2\" style=\"width: 88px;\"></div></div><div class =\"pnum2\">88</div></div></div><div class=\"EF\">0.284716</div><div class=\"AI\">1.3421</div></div></a></h3><div class=\"details\" id=\"20111932-7447\">Loading...</div><h3><a href=\"#20110935-9648\"><div class=\"results\"><div class=\"rank\">29</div><div class=\"journal\">ADV MATER<div class=\"issn\">ISSN: 0935-9648</div></div><div class=\"percentile\"><div class=\"pholder1\"><div class=\"pname1\">EF: </div><div class=\"pbar1\"><div class=\"pfill1\" style=\"width: 100px;\"></div></div><div class =\"pnum1\">100</div></div><div class=\"pholder2\"><div class=\"pname2\">AI: </div><div class=\"pbar2\"><div class=\"pfill2\" style=\"width: 98px;\"></div></div><div class =\"pnum2\">98</div></div></div><div class=\"EF\">0.262413</div><div class=\"AI\">4.0706</div></div></a></h3><div class=\"details\" id=\"20110935-9648\">Loading...</div><h3><a href=\"#20110004-6361\"><div class=\"results\"><div class=\"rank\">30</div><div class=\"journal\">ASTRON ASTROPHYS<div class=\"issn\">ISSN: 0004-6361</div></div><div class=\"percentile\"><div class=\"pholder1\"><div class=\"pname1\">EF: </div><div class=\"pbar1\"><div class=\"pfill1\" style=\"width: 100px;\"></div></div><div class =\"pnum1\">100</div></div><div class=\"pholder2\"><div class=\"pname2\">AI: </div><div class=\"pbar2\"><div class=\"pfill2\" style=\"width: 90px;\"></div></div><div class =\"pnum2\">90</div></div></div><div class=\"EF\">0.254252</div><div class=\"AI\">1.4742</div></div></a></h3><div class=\"details\" id=\"20110004-6361\">Loading...</div><h3><a href=\"#20111097-2765\"><div class=\"results\"><div class=\"rank\">31</div><div class=\"journal\">MOL CELL<div class=\"issn\">ISSN: 1097-2765</div></div><div class=\"percentile\"><div class=\"pholder1\"><div class=\"pname1\">EF: </div><div class=\"pbar1\"><div class=\"pfill1\" style=\"width: 100px;\"></div></div><div class =\"pnum1\">100</div></div><div class=\"pholder2\"><div class=\"pname2\">AI: </div><div class=\"pbar2\"><div class=\"pfill2\" style=\"width: 100px;\"></div></div><div class =\"pnum2\">100</div></div></div><div class=\"EF\">0.250753</div><div class=\"AI\">8.9479</div></div></a></h3><div class=\"details\" id=\"20111097-2765\">Loading...</div><h3><a href=\"#20110035-8711\"><div class=\"results\"><div class=\"rank\">32</div><div class=\"journal\">MON NOT R ASTRON SOC<div class=\"issn\">ISSN: 0035-8711</div></div><div class=\"percentile\"><div class=\"pholder1\"><div class=\"pname1\">EF: </div><div class=\"pbar1\"><div class=\"pfill1\" style=\"width: 100px;\"></div></div><div class =\"pnum1\">100</div></div><div class=\"pholder2\"><div class=\"pname2\">AI: </div><div class=\"pbar2\"><div class=\"pfill2\" style=\"width: 91px;\"></div></div><div class =\"pnum2\">91</div></div></div><div class=\"EF\">0.248839</div><div class=\"AI\">1.6034</div></div></a></h3><div class=\"details\" id=\"20110035-8711\">Loading...</div><h3><a href=\"#20111520-6106\"><div class=\"results\"><div class=\"rank\">33</div><div class=\"journal\">J PHYS CHEM B<div class=\"issn\">ISSN: 1520-6106</div></div><div class=\"percentile\"><div class=\"pholder1\"><div class=\"pname1\">EF: </div><div class=\"pbar1\"><div class=\"pfill1\" style=\"width: 100px;\"></div></div><div class =\"pnum1\">100</div></div><div class=\"pholder2\"><div class=\"pname2\">AI: </div><div class=\"pbar2\"><div class=\"pfill2\" style=\"width: 84px;\"></div></div><div class =\"pnum2\">84</div></div></div><div class=\"EF\">0.246515</div><div class=\"AI\">1.1608</div></div></a></h3><div class=\"details\" id=\"20111520-6106\">Loading...</div><h3><a href=\"#20111359-7345\"><div class=\"results\"><div class=\"rank\">34</div><div class=\"journal\">CHEM COMMUN<div class=\"issn\">ISSN: 1359-7345</div></div><div class=\"percentile\"><div class=\"pholder1\"><div class=\"pname1\">EF: </div><div class=\"pbar1\"><div class=\"pfill1\" style=\"width: 100px;\"></div></div><div class =\"pnum1\">100</div></div><div class=\"pholder2\"><div class=\"pname2\">AI: </div><div class=\"pbar2\"><div class=\"pfill2\" style=\"width: 91px;\"></div></div><div class =\"pnum2\">91</div></div></div><div class=\"EF\">0.241003</div><div class=\"AI\">1.5516</div></div></a></h3><div class=\"details\" id=\"20111359-7345\">Loading...</div><h3><a href=\"#20111094-4087\"><div class=\"results\"><div class=\"rank\">35</div><div class=\"journal\">OPT EXPRESS<div class=\"issn\">ISSN: 1094-4087</div></div><div class=\"percentile\"><div class=\"pholder1\"><div class=\"pname1\">EF: </div><div class=\"pbar1\"><div class=\"pfill1\" style=\"width: 100px;\"></div></div><div class =\"pnum1\">100</div></div><div class=\"pholder2\"><div class=\"pname2\">AI: </div><div class=\"pbar2\"><div class=\"pfill2\" style=\"width: 85px;\"></div></div><div class =\"pnum2\">85</div></div></div><div class=\"EF\">0.240848</div><div class=\"AI\">1.1685</div></div></a></h3><div class=\"details\" id=\"20111094-4087\">Loading...</div><h3><a href=\"#20110094-8276\"><div class=\"results\"><div class=\"rank\">36</div><div class=\"journal\">GEOPHYS RES LETT<div class=\"issn\">ISSN: 0094-8276</div></div><div class=\"percentile\"><div class=\"pholder1\"><div class=\"pname1\">EF: </div><div class=\"pbar1\"><div class=\"pfill1\" style=\"width: 100px;\"></div></div><div class =\"pnum1\">100</div></div><div class=\"pholder2\"><div class=\"pname2\">AI: </div><div class=\"pbar2\"><div class=\"pfill2\" style=\"width: 94px;\"></div></div><div class =\"pnum2\">94</div></div></div><div class=\"EF\">0.23991</div><div class=\"AI\">1.9391</div></div></a></h3><div class=\"details\" id=\"20110094-8276\">Loading...</div><h3><a href=\"#20110021-9606\"><div class=\"results\"><div class=\"rank\">37</div><div class=\"journal\">J CHEM PHYS<div class=\"issn\">ISSN: 0021-9606</div></div><div class=\"percentile\"><div class=\"pholder1\"><div class=\"pname1\">EF: </div><div class=\"pbar1\"><div class=\"pfill1\" style=\"width: 100px;\"></div></div><div class =\"pnum1\">100</div></div><div class=\"pholder2\"><div class=\"pname2\">AI: </div><div class=\"pbar2\"><div class=\"pfill2\" style=\"width: 80px;\"></div></div><div class =\"pnum2\">80</div></div></div><div class=\"EF\">0.232653</div><div class=\"AI\">0.9931</div></div></a></h3><div class=\"details\" id=\"20110021-9606\">Loading...</div><h3><a href=\"#20110896-6273\"><div class=\"results\"><div class=\"rank\">38</div><div class=\"journal\">NEURON<div class=\"issn\">ISSN: 0896-6273</div></div><div class=\"percentile\"><div class=\"pholder1\"><div class=\"pname1\">EF: </div><div class=\"pbar1\"><div class=\"pfill1\" style=\"width: 100px;\"></div></div><div class =\"pnum1\">100</div></div><div class=\"pholder2\"><div class=\"pname2\">AI: </div><div class=\"pbar2\"><div class=\"pfill2\" style=\"width: 99px;\"></div></div><div class =\"pnum2\">99</div></div></div><div class=\"EF\">0.227501</div><div class=\"AI\">8.5079</div></div></a></h3><div class=\"details\" id=\"20110896-6273\">Loading...</div><h3><a href=\"#20110743-7463\"><div class=\"results\"><div class=\"rank\">39</div><div class=\"journal\">LANGMUIR<div class=\"issn\">ISSN: 0743-7463</div></div><div class=\"percentile\"><div class=\"pholder1\"><div class=\"pname1\">EF: </div><div class=\"pbar1\"><div class=\"pfill1\" style=\"width: 100px;\"></div></div><div class =\"pnum1\">100</div></div><div class=\"pholder2\"><div class=\"pname2\">AI: </div><div class=\"pbar2\"><div class=\"pfill2\" style=\"width: 85px;\"></div></div><div class =\"pnum2\">85</div></div></div><div class=\"EF\">0.22322</div><div class=\"AI\">1.1824</div></div></a></h3><div class=\"details\" id=\"20110743-7463\">Loading...</div><h3><a href=\"#20111476-1122\"><div class=\"results\"><div class=\"rank\">40</div><div class=\"journal\">NAT MATER<div class=\"issn\">ISSN: 1476-1122</div></div><div class=\"percentile\"><div class=\"pholder1\"><div class=\"pname1\">EF: </div><div class=\"pbar1\"><div class=\"pfill1\" style=\"width: 100px;\"></div></div><div class =\"pnum1\">100</div></div><div class=\"pholder2\"><div class=\"pname2\">AI: </div><div class=\"pbar2\"><div class=\"pfill2\" style=\"width: 100px;\"></div></div><div class =\"pnum2\">100</div></div></div><div class=\"EF\">0.220911</div><div class=\"AI\">17.9245</div></div></a></h3><div class=\"details\" id=\"20111476-1122\">Loading...</div><h3><a href=\"#20110735-1097\"><div class=\"results\"><div class=\"rank\">41</div><div class=\"journal\">J AM COLL CARDIOL<div class=\"issn\">ISSN: 0735-1097</div></div><div class=\"percentile\"><div class=\"pholder1\"><div class=\"pname1\">EF: </div><div class=\"pbar1\"><div class=\"pfill1\" style=\"width: 100px;\"></div></div><div class =\"pnum1\">100</div></div><div class=\"pholder2\"><div class=\"pname2\">AI: </div><div class=\"pbar2\"><div class=\"pfill2\" style=\"width: 99px;\"></div></div><div class =\"pnum2\">99</div></div></div><div class=\"EF\">0.22035</div><div class=\"AI\">4.884</div></div></a></h3><div class=\"details\" id=\"20110735-1097\">Loading...</div><h3><a href=\"#20111050-2947\"><div class=\"results\"><div class=\"rank\">42</div><div class=\"journal\">PHYS REV A<div class=\"issn\">ISSN: 1050-2947</div></div><div class=\"percentile\"><div class=\"pholder1\"><div class=\"pname1\">EF: </div><div class=\"pbar1\"><div class=\"pfill1\" style=\"width: 100px;\"></div></div><div class =\"pnum1\">100</div></div><div class=\"pholder2\"><div class=\"pname2\">AI: </div><div class=\"pbar2\"><div class=\"pfill2\" style=\"width: 79px;\"></div></div><div class =\"pnum2\">79</div></div></div><div class=\"EF\">0.219831</div><div class=\"AI\">0.9797</div></div></a></h3><div class=\"details\" id=\"20111050-2947\">Loading...</div><h3><a href=\"#20110021-9738\"><div class=\"results\"><div class=\"rank\">43</div><div class=\"journal\">J CLIN INVEST<div class=\"issn\">ISSN: 0021-9738</div></div><div class=\"percentile\"><div class=\"pholder1\"><div class=\"pname1\">EF: </div><div class=\"pbar1\"><div class=\"pfill1\" style=\"width: 100px;\"></div></div><div class =\"pnum1\">100</div></div><div class=\"pholder2\"><div class=\"pname2\">AI: </div><div class=\"pbar2\"><div class=\"pfill2\" style=\"width: 99px;\"></div></div><div class =\"pnum2\">99</div></div></div><div class=\"EF\">0.218367</div><div class=\"AI\">6.9507</div></div></a></h3><div class=\"details\" id=\"20110021-9738\">Loading...</div><h3><a href=\"#20110009-2665\"><div class=\"results\"><div class=\"rank\">44</div><div class=\"journal\">CHEM REV<div class=\"issn\">ISSN: 0009-2665</div></div><div class=\"percentile\"><div class=\"pholder1\"><div class=\"pname1\">EF: </div><div class=\"pbar1\"><div class=\"pfill1\" style=\"width: 100px;\"></div></div><div class =\"pnum1\">100</div></div><div class=\"pholder2\"><div class=\"pname2\">AI: </div><div class=\"pbar2\"><div class=\"pfill2\" style=\"width: 100px;\"></div></div><div class =\"pnum2\">100</div></div></div><div class=\"EF\">0.214699</div><div class=\"AI\">13.3332</div></div></a></h3><div class=\"details\" id=\"20110009-2665\">Loading...</div><h3><a href=\"#20110890-9369\"><div class=\"results\"><div class=\"rank\">45</div><div class=\"journal\">GENE DEV<div class=\"issn\">ISSN: 0890-9369</div></div><div class=\"percentile\"><div class=\"pholder1\"><div class=\"pname1\">EF: </div><div class=\"pbar1\"><div class=\"pfill1\" style=\"width: 100px;\"></div></div><div class =\"pnum1\">100</div></div><div class=\"pholder2\"><div class=\"pname2\">AI: </div><div class=\"pbar2\"><div class=\"pfill2\" style=\"width: 99px;\"></div></div><div class =\"pnum2\">99</div></div></div><div class=\"EF\">0.209552</div><div class=\"AI\">8.0181</div></div></a></h3><div class=\"details\" id=\"20110890-9369\">Loading...</div><h3><a href=\"#20111078-0432\"><div class=\"results\"><div class=\"rank\">46</div><div class=\"journal\">CLIN CANCER RES<div class=\"issn\">ISSN: 1078-0432</div></div><div class=\"percentile\"><div class=\"pholder1\"><div class=\"pname1\">EF: </div><div class=\"pbar1\"><div class=\"pfill1\" style=\"width: 100px;\"></div></div><div class =\"pnum1\">100</div></div><div class=\"pholder2\"><div class=\"pname2\">AI: </div><div class=\"pbar2\"><div class=\"pfill2\" style=\"width: 96px;\"></div></div><div class =\"pnum2\">96</div></div></div><div class=\"EF\">0.20597</div><div class=\"AI\">2.538</div></div></a></h3><div class=\"details\" id=\"20111078-0432\">Loading...</div><h3><a href=\"#20111539-3755\"><div class=\"results\"><div class=\"rank\">47</div><div class=\"journal\">PHYS REV E<div class=\"issn\">ISSN: 1539-3755</div></div><div class=\"percentile\"><div class=\"pholder1\"><div class=\"pname1\">EF: </div><div class=\"pbar1\"><div class=\"pfill1\" style=\"width: 100px;\"></div></div><div class =\"pnum1\">100</div></div><div class=\"pholder2\"><div class=\"pname2\">AI: </div><div class=\"pbar2\"><div class=\"pfill2\" style=\"width: 79px;\"></div></div><div class =\"pnum2\">79</div></div></div><div class=\"EF\">0.205905</div><div class=\"AI\">0.958</div></div></a></h3><div class=\"details\" id=\"20111539-3755\">Loading...</div><h3><a href=\"#20110022-538X\"><div class=\"results\"><div class=\"rank\">48</div><div class=\"journal\">J VIROL<div class=\"issn\">ISSN: 0022-538X</div></div><div class=\"percentile\"><div class=\"pholder1\"><div class=\"pname1\">EF: </div><div class=\"pbar1\"><div class=\"pfill1\" style=\"width: 100px;\"></div></div><div class =\"pnum1\">100</div></div><div class=\"pholder2\"><div class=\"pname2\">AI: </div><div class=\"pbar2\"><div class=\"pfill2\" style=\"width: 91px;\"></div></div><div class =\"pnum2\">91</div></div></div><div class=\"EF\">0.190607</div><div class=\"AI\">1.5928</div></div></a></h3><div class=\"details\" id=\"20110022-538X\">Loading...</div><h3><a href=\"#20110013-936X\"><div class=\"results\"><div class=\"rank\">49</div><div class=\"journal\">ENVIRON SCI TECHNOL<div class=\"issn\">ISSN: 0013-936X</div></div><div class=\"percentile\"><div class=\"pholder1\"><div class=\"pname1\">EF: </div><div class=\"pbar1\"><div class=\"pfill1\" style=\"width: 100px;\"></div></div><div class =\"pnum1\">100</div></div><div class=\"pholder2\"><div class=\"pname2\">AI: </div><div class=\"pbar2\"><div class=\"pfill2\" style=\"width: 91px;\"></div></div><div class =\"pnum2\">91</div></div></div><div class=\"EF\">0.189289</div><div class=\"AI\">1.6039</div></div></a></h3><div class=\"details\" id=\"20110013-936X\">Loading...</div><h3><a href=\"#20110022-1007\"><div class=\"results\"><div class=\"rank\">50</div><div class=\"journal\">J EXP MED<div class=\"issn\">ISSN: 0022-1007</div></div><div class=\"percentile\"><div class=\"pholder1\"><div class=\"pname1\">EF: </div><div class=\"pbar1\"><div class=\"pfill1\" style=\"width: 100px;\"></div></div><div class =\"pnum1\">100</div></div><div class=\"pholder2\"><div class=\"pname2\">AI: </div><div class=\"pbar2\"><div class=\"pfill2\" style=\"width: 99px;\"></div></div><div class =\"pnum2\">99</div></div></div><div class=\"EF\">0.188512</div><div class=\"AI\">7.8344</div></div></a></h3><div class=\"details\" id=\"20110022-1007\">Loading...</div></div><ul class=\\'pagination\\'><li class=\\'detailsPG\\'>Page 1 of 215</li><li><a class=\\'current\\'>1</a></li><li><a href=\\'?bsearch=2011&searchby=year&orderby=eigenfactor&page=2\\'>2</a></li><li><a href=\\'?bsearch=2011&searchby=year&orderby=eigenfactor&page=3\\'>3</a></li><li><a href=\\'?bsearch=2011&searchby=year&orderby=eigenfactor&page=4\\'>4</a></li><li><a href=\\'?bsearch=2011&searchby=year&orderby=eigenfactor&page=5\\'>5</a></li><li><a href=\\'?bsearch=2011&searchby=year&orderby=eigenfactor&page=6\\'>6</a></li><li><a href=\\'?bsearch=2011&searchby=year&orderby=eigenfactor&page=7\\'>7</a></li><li class=\\'dot\\'>...</li><li><a href=\\'?bsearch=2011&searchby=year&orderby=eigenfactor&page=214\\'>214</a></li><li><a href=\\'?bsearch=2011&searchby=year&orderby=eigenfactor&page=215\\'>215</a></li><li><a href=\\'?bsearch=2011&searchby=year&orderby=eigenfactor&page=2\\'>Next</a></li><li><a href=\\'?bsearch=2011&searchby=year&orderby=eigenfactor&page=215\\'>Last</a></li></ul>\\n</div>\\t\\r\\n      <!-- End Content Box -->\\r\\n\\r\\n\\r\\n\\r\\n\\t\\t\\t\\t\\t\\t<!-- End of Content -->\\r\\n\\t\\t\\t\\t\\t\\t\\r\\n\\t\\t\\t\\t\\t\\t <!-- Space Bar1 -->\\r\\n\\t\\t\\t\\t\\t\\t<div class=\"spacebar1\"></div>\\r\\n\\r\\n\\t\\t\\t\\t\\t\\t<!-- Footer -->\\r\\n\\t\\t\\t\\t\\t\\t<div class=\"footer\"><p>Copyright &copy; 2012 <a href=\"http://www.washington.edu/\">University of Washington</a></p></div>\\r\\n\\r\\n\\t\\t\\t\\t\\t</div>\\r\\n\\t\\t\\t\\t\\t<!-- End Content -->\\r\\n\\r\\n\\t\\t\\t\\t\\t<!-- Right Panel -->\\r\\n\\t\\t\\t\\t\\t<div class=\"rightside\"></div>\\r\\n\\r\\n\\t\\t\\t\\t</div>\\r\\n\\t\\t\\t  <!-- End Main Container -->\\r\\n\\r\\n\\t\\t\\t</body>\\r\\n\\r\\n\\t\\t\\t</html>\\r\\n\\t\\t\\t\\r\\n\\t\\t'"
       ]
      }
     ],
     "prompt_number": 2
    },
    {
     "cell_type": "code",
     "collapsed": false,
     "input": [
      "import time\n",
      "import random\n",
      "\n",
      "random.randint(2,7)"
     ],
     "language": "python",
     "metadata": {},
     "outputs": [
      {
       "metadata": {},
       "output_type": "pyout",
       "prompt_number": 8,
       "text": [
        "7"
       ]
      }
     ],
     "prompt_number": 8
    },
    {
     "cell_type": "code",
     "collapsed": false,
     "input": [
      "data = []\n",
      "import urllib2\n",
      "for page in range(1,25+1):\n",
      "    url = \"http://www.eigenfactor.org/rankings.php?bsearch=2011&searchby=year&orderby=eigenfactor&page=%d\"%page\n",
      "    f = urllib2.urlopen(url)\n",
      "    x = f.read()\n",
      "    data.append(x)\n",
      "    f.close()\n",
      "    sleepsec = random.randint(2,7)\n",
      "    print \"read page %d. Sleeping for %d sec.\"%(page, sleepsec)\n",
      "    time.sleep(sleepsec)\n",
      "    \n",
      "    "
     ],
     "language": "python",
     "metadata": {},
     "outputs": [
      {
       "output_type": "stream",
       "stream": "stdout",
       "text": [
        "read page 1. Sleeping for 3 sec.\n",
        "read page 2. Sleeping for 6 sec."
       ]
      },
      {
       "output_type": "stream",
       "stream": "stdout",
       "text": [
        "\n",
        "read page 3. Sleeping for 3 sec."
       ]
      },
      {
       "output_type": "stream",
       "stream": "stdout",
       "text": [
        "\n",
        "read page 4. Sleeping for 6 sec."
       ]
      },
      {
       "output_type": "stream",
       "stream": "stdout",
       "text": [
        "\n",
        "read page 5. Sleeping for 3 sec."
       ]
      },
      {
       "output_type": "stream",
       "stream": "stdout",
       "text": [
        "\n",
        "read page 6. Sleeping for 5 sec."
       ]
      },
      {
       "output_type": "stream",
       "stream": "stdout",
       "text": [
        "\n",
        "read page 7. Sleeping for 7 sec."
       ]
      },
      {
       "output_type": "stream",
       "stream": "stdout",
       "text": [
        "\n",
        "read page 8. Sleeping for 2 sec."
       ]
      },
      {
       "output_type": "stream",
       "stream": "stdout",
       "text": [
        "\n",
        "read page 9. Sleeping for 6 sec."
       ]
      },
      {
       "output_type": "stream",
       "stream": "stdout",
       "text": [
        "\n",
        "read page 10. Sleeping for 6 sec."
       ]
      },
      {
       "output_type": "stream",
       "stream": "stdout",
       "text": [
        "\n",
        "read page 11. Sleeping for 5 sec."
       ]
      },
      {
       "output_type": "stream",
       "stream": "stdout",
       "text": [
        "\n",
        "read page 12. Sleeping for 7 sec."
       ]
      },
      {
       "output_type": "stream",
       "stream": "stdout",
       "text": [
        "\n",
        "read page 13. Sleeping for 5 sec."
       ]
      },
      {
       "output_type": "stream",
       "stream": "stdout",
       "text": [
        "\n",
        "read page 14. Sleeping for 4 sec."
       ]
      },
      {
       "output_type": "stream",
       "stream": "stdout",
       "text": [
        "\n",
        "read page 15. Sleeping for 2 sec."
       ]
      },
      {
       "output_type": "stream",
       "stream": "stdout",
       "text": [
        "\n",
        "read page 16. Sleeping for 5 sec."
       ]
      },
      {
       "output_type": "stream",
       "stream": "stdout",
       "text": [
        "\n",
        "read page 17. Sleeping for 4 sec."
       ]
      },
      {
       "output_type": "stream",
       "stream": "stdout",
       "text": [
        "\n",
        "read page 18. Sleeping for 7 sec."
       ]
      },
      {
       "output_type": "stream",
       "stream": "stdout",
       "text": [
        "\n",
        "read page 19. Sleeping for 2 sec."
       ]
      },
      {
       "output_type": "stream",
       "stream": "stdout",
       "text": [
        "\n",
        "read page 20. Sleeping for 2 sec."
       ]
      },
      {
       "output_type": "stream",
       "stream": "stdout",
       "text": [
        "\n",
        "read page 21. Sleeping for 7 sec."
       ]
      },
      {
       "output_type": "stream",
       "stream": "stdout",
       "text": [
        "\n",
        "read page 22. Sleeping for 3 sec."
       ]
      },
      {
       "output_type": "stream",
       "stream": "stdout",
       "text": [
        "\n",
        "read page 23. Sleeping for 2 sec."
       ]
      },
      {
       "output_type": "stream",
       "stream": "stdout",
       "text": [
        "\n",
        "read page 24. Sleeping for 6 sec."
       ]
      },
      {
       "output_type": "stream",
       "stream": "stdout",
       "text": [
        "\n",
        "read page 25. Sleeping for 5 sec."
       ]
      },
      {
       "output_type": "stream",
       "stream": "stdout",
       "text": [
        "\n"
       ]
      }
     ],
     "prompt_number": 10
    },
    {
     "cell_type": "code",
     "collapsed": false,
     "input": [
      "# save the result:\n",
      "\n",
      "import csv\n",
      "f = open('/vagrant/cs109_firstOrPerish/data_munging/eigenRaw.csv', 'w')\n",
      "writer = csv.writer(f, dialect=csv.excel)\n",
      "for d in data:\n",
      "    writer.writerow(d)\n",
      "f.close()"
     ],
     "language": "python",
     "metadata": {},
     "outputs": [],
     "prompt_number": 12
    },
    {
     "cell_type": "code",
     "collapsed": false,
     "input": [
      "data[0]"
     ],
     "language": "python",
     "metadata": {},
     "outputs": [
      {
       "metadata": {},
       "output_type": "pyout",
       "prompt_number": 13,
       "text": [
        "'\\r\\n\\r\\n\\r\\n\\t\\t\\t\\r\\n\\t\\t\\t<html lang=\"en-US\">\\r\\n\\r\\n\\t\\t\\t<head>\\r\\n\\r\\n\\t\\t\\t\\t<meta name=\"author\" content=\"Jevin D. West\"></meta>\\r\\n\\t\\t\\t\\t<meta name=\"description\" content=\"Eigenfactor: ranking and mapping scientific knowledge\"></meta> \\r\\n\\t\\t\\t\\t<meta name=\"keywords\" content=\"Eigenfactor, journal ranking, mapping science\"></meta>\\r\\n\\t\\t\\t\\t \\r\\n\\t\\t\\t\\t<title>Eigenfactor</title>\\r\\n\\t\\t\\t\\t<link rel=\"shortcut icon\" href=\"http://www.eigenfactor.org/images/EFlogo.png\" type=\"image/png\" />\\r\\n\\r\\n\\r\\n\\t\\t\\t\\t<link rel=\"stylesheet\" href=\"http://www.eigenfactor.org/css/ef.css\" type=\"text/css\"></link>\\r\\n\\t\\t\\t\\t\\r\\n\\t\\t\\t\\t<link rel=\"stylesheet\" href=\"http://www.eigenfactor.org/css/p7exp.css\" type=\"text/css\"></link>\\t\\r\\n\\t\\t\\t\\t<link rel=\"stylesheet\" href=\"http://www.eigenfactor.org/css/quickmenu_styles.css\" type=\"text/css\"></link>\\r\\n\\t\\t\\t\\t\\r\\n\\t\\t\\t\\t<link rel=\"stylesheet\" href=\"http://www.eigenfactor.org/css/jquery-ui-1.8.16.custom.css\" type=\"text/css\"></link>\\r\\n\\t\\t\\t\\t<link rel=\"stylesheet\" type=\"text/css\" href=\"http://www.eigenfactor.org/css/jquery.jqplot.css\" />\\r\\n\\t\\t\\t\\t\\r\\n\\t\\t\\t\\t\\r\\n\\t\\t\\t\\t<script type=\"text/javascript\" src=\"http://www.eigenfactor.org/js/quickmenu.js\"></script>\\r\\n\\t\\t\\t\\t<script type=\"text/javascript\" src=\"http://www.eigenfactor.org/js/p7exp.js\"></script>\\t\\t\\r\\n\\t\\t\\t\\t\\r\\n\\t\\t\\t\\t<script type=\"text/javascript\" src=\"http://www.eigenfactor.org/js/jquery-1.6.2.min.js\"></script>\\r\\n\\t\\t\\t\\t<script type=\"text/javascript\" src=\"http://www.eigenfactor.org/js/jquery-ui-1.8.16.custom.min.js\"></script>\\t\\t\\r\\n\\t\\t\\t\\t\\r\\n\\t\\t\\t</head>\\r\\n\\r\\n\\r\\n\\t\\t\\t<body>\\r\\n\\t\\t\\t\\t\\r\\n\\t\\t\\t\\t<!-- Main Container -->\\r\\n\\t\\t\\t\\t<div class=\"container\">\\r\\n\\r\\n\\t\\t\\t\\t  <!-- Left Panel -->\\r\\n\\t\\t\\t\\t\\t<div class=\"leftside\"></div>\\r\\n\\r\\n\\t\\t\\t\\t\\t<!-- Content -->\\r\\n\\t\\t\\t\\t\\t<div class=\"middleside\">\\r\\n\\t\\t\\t\\t\\t\\t\\r\\n\\t\\t\\t\\t\\t\\t<!-- Header -->\\r\\n\\t\\t\\t\\t\\t\\t<div id=\"headerimage\"><a href=\"http://www.eigenfactor.org\"><img src=\"http://www.eigenfactor.org/images/header.jpg\" width=\"700\" height=\"150\" border=\"0\" /></a></div>\\r\\n\\t\\t\\t\\t\\t\\t\\r\\n\\t\\t\\t\\t\\t\\t<!-- Space Bar -->\\r\\n\\t\\t\\t\\t\\t\\t<div class=\"spacebar1\"></div>\\r\\n\\r\\n\\t\\t\\t\\t\\t\\t\\r\\n\\t\\t\\t\\t\\t\\t\\r\\n\\t\\t\\t\\t\\t\\t<!-- Navigation Bar -->\\r\\n\\t\\t\\t\\t\\t\\t<div class=\"navigation\">\\r\\n\\r\\n\\t\\t\\t\\t\\t\\t\\t<!-- navigation contents -->\\r\\n\\t\\t\\t\\t\\t\\t\\t<ul id=\"qm0\" class=\"qmmc\">\\r\\n\\r\\n\\t\\t\\t\\t\\t\\t\\t\\t<li><a class=\"qmparent\" href=\"http://www.eigenfactor.org/index.php\">eigenfactor search</a>\\r\\n\\t\\t\\t\\t\\t\\t\\t\\t    <ul>\\r\\n\\t\\t\\t\\t\\t\\t\\t\\t       <li><a href=\"http://www.eigenfactor.org/motion/\">motion graphs</a></li>\\r\\n\\t\\t\\t\\t\\t\\t\\t\\t       <li><span class=\"qmdivider qmdividerx\" ></span></li>\\r\\n\\t\\t\\t\\t\\t\\t\\t\\t       <li><a href=\"http://www.eigenfactor.org/advanced.php\">advanced search</a></li>\\r\\n\\t\\t\\t\\t\\t\\t\\t\\t    </ul>\\r\\n\\t\\t\\t\\t\\t\\t\\t\\t</li>\\r\\n\\r\\n\\t\\t\\t\\t\\t\\t\\t\\t<li><span class=\"qmdivider qmdividery\" ></span></li>\\r\\n\\r\\n\\t\\t\\t\\t\\t\\t\\t\\t<li><a class=\"qmparent\" href=\"/map/index.php\">mapping</a>\\r\\n\\t\\t\\t\\t\\t\\t\\t\\t\\t  <ul>\\r\\n\\t\\t\\t\\t\\t\\t\\t\\t\\t     <li><a href=\"http://www.eigenfactor.org/map/index.php\">interactive browser</a></li>\\r\\n\\t\\t\\t\\t\\t\\t\\t         <li><a href=\"http://www.eigenfactor.org/map/maps.php\">maps</a></li>\\r\\n\\t\\t\\t\\t\\t\\t\\t\\t\\t\\t\\t<li><a href=\"http://mas.eigenfactor.org/journalLevel/indexIframe.php\">mas</a></li>\\r\\n\\t\\t\\t\\t\\t\\t\\t\\t\\t     <li><a href=\"http://www.eigenfactor.org/map/methods.php\">methods</a></li>\\r\\n\\t\\t\\t\\t\\t\\t\\t\\t\\t     <li><span class=\"qmdivider qmdividerx\" ></span></li>\\r\\n\\t\\t\\t\\t\\t\\t\\t\\t\\t\\t\\t <li><a href=\"http://www.mapequation.org\">mapequation.org</a></li>\\r\\n\\t\\t\\t\\t\\t\\t\\t\\t\\t  </ul>\\r\\n\\t\\t\\t\\t\\t\\t\\t\\t</li>\\r\\n\\r\\n\\t\\t\\t\\t\\t\\t\\t\\t<li><span class=\"qmdivider qmdividery\" ></span></li>\\r\\n\\r\\n\\t\\t\\t\\t\\t\\t\\t\\t<li><a class=\"qmparent\" href=\"http://www.eigenfactor.org/methods.php\">information</a>\\r\\n\\t\\t\\t\\t\\t\\t\\t\\t\\t  <ul>\\r\\n\\t\\t\\t\\t\\t\\t\\t\\t\\t     <li><a href=\"http://www.eigenfactor.org/whyeigenfactor.php\">why eigenfactor</a></li>\\r\\n\\t\\t\\t\\t\\t\\t\\t\\t\\t     <li><a href=\"http://www.eigenfactor.org/methods.php\">methods</a></li>\\r\\n\\t\\t\\t\\t\\t\\t\\t\\t\\t     <li><a href=\"http://www.eigenfactor.org/stats.php\">stats</a></li>\\r\\n\\t\\t\\t\\t\\t\\t\\t\\t\\t     <li><span class=\"qmdivider qmdividerx\" ></span></li>\\r\\n\\t\\t\\t\\t\\t\\t\\t         <li><a href=\"http://www.eigenfactor.org/papers.php\">papers</a></li>\\r\\n\\t\\t\\t\\t\\t\\t\\t\\t\\t  </ul>\\r\\n\\t\\t\\t\\t\\t\\t\\t\\t</li>\\r\\n\\r\\n\\t\\t\\t\\t\\t\\t\\t\\t<li><span class=\"qmdivider qmdividery\" ></span></li>\\r\\n\\r\\n\\t\\t\\t\\t\\t\\t\\t  <li><a href=\"http://well-formed.eigenfactor.org\">well-formed</a></li>\\r\\n\\r\\n\\t\\t\\t\\t\\t\\t\\t  <li><span class=\"qmdivider qmdividery\" ></span></li>\\r\\n\\t\\t\\t\\t\\t\\t\\t\\r\\n\\t\\t\\t\\t\\t\\t\\t  <li><a class=\"qmparent\" href=\"http://www.eigenfactor.org/openaccess/\">cost effectiveness</a>\\r\\n\\t\\t\\t\\t\\t\\t\\t\\t\\t\\t<ul>\\r\\n\\t\\t\\t\\t\\t\\t\\t\\t       <li><a href=\"http://www.eigenfactor.org/costeffectiveness.php\">Subscriptions</a></li>\\r\\n\\t\\t\\t\\t\\t             <li><a href=\"http://www.eigenfactor.org/openaccess/\">Open Access Author Fees (Beta)</a></li>\\r\\n\\t\\t\\t\\t\\t\\t\\t\\t    </ul>\\r\\n\\t\\t\\t\\t\\t\\t\\t\\r\\n\\t\\t\\t\\t\\t\\t\\t\\t<li><span class=\"qmdivider qmdividery\" ></span></li>\\r\\n\\r\\n\\t\\t\\t\\t\\t\\t\\t\\t<li><a class=\"qmparent\" href=\"http://mas.eigenfactor.org/\">recommendation</a>\\r\\n\\t\\t\\t\\t\\t\\t\\t\\t  <ul>\\r\\n\\t\\t\\t\\t\\t\\t\\t\\t       <li><a href=\"http://mas.eigenfactor.org\">Microsoft Academic Search</a></li>\\r\\n\\t\\t\\t\\t\\t                   <li><a href=\"http://jstor.eigenfactor.org/\">JSTOR</a></li>\\r\\n\\t\\t\\t\\t\\t\\t\\t\\t  </ul>\\r\\n\\t\\t\\t\\t\\t\\t\\t\\t</li>\\r\\n\\r\\n\\t\\t\\t\\t\\t\\t\\t\\t<li><span class=\"qmdivider qmdividery\" ></span></li>\\r\\n\\r\\n\\t\\t\\t\\t\\t\\t\\t\\t<li><a class=\"qmparent\" href=\"http://www.eigenfactor.org/gender\">gender</a>\\r\\n\\t\\t\\t\\t\\t\\t\\t\\t\\r\\n\\t\\t\\t\\t\\t\\t\\t\\t<li><span class=\"qmdivider qmdividery\" ></span></li>\\r\\n\\r\\n\\t\\t\\t\\t\\t\\t\\t  <li><a class=\"qmparent\" href=\"http://www.eigenfactor.org/about.php\">about</a>\\r\\n\\t\\t\\t\\t\\t          <ul>\\r\\n\\t\\t\\t\\t\\t\\t\\t\\t       <li><a href=\"http://www.eigenfactor.org/faq.php\">faq</a></li>\\r\\n\\t\\t\\t\\t\\t\\t\\t\\t       <li><span class=\"qmdivider qmdividerx\" ></span></li>\\r\\n\\t\\t\\t\\t\\t             <li><a href=\"http://www.eigenfactor.org/about.php\">contact</a></li>\\r\\n\\t\\t\\t\\t\\t\\t\\t\\t    </ul>\\r\\n\\t\\t\\t\\t\\t\\t\\t\\t</li>\\r\\n\\r\\n\\t\\t\\t\\t\\t\\t\\t  <li class=\"qmclear\">&nbsp;</li>\\r\\n\\r\\n\\t\\t\\t\\t\\t\\t\\t</ul>\\r\\n\\t\\t\\t\\t\\t\\t  <!-- End navigation contents -->\\r\\n\\r\\n\\r\\n\\t\\t\\t\\t\\t\\t</div>\\r\\n\\t\\t\\t\\t\\t\\t<!-- End Navigation Bar -->\\r\\n\\r\\n\\r\\n\\t\\t\\t\\t\\t\\t<!-- Space Bar1 -->\\r\\n\\t\\t\\t\\t\\t\\t<div class=\"spacebar1\"></div>\\r\\n\\t\\t\\t\\t\\t\\t\\r\\n\\t\\t\\t\\t\\t\\t<!-- Beginning of Content -->\\r\\n\\t\\t\\t\\t\\t\\t\\r\\n\\t\\t\\t\\r\\n\\t  \\r\\n\\r\\n<link href=\"css/pagination.css\" rel=\"stylesheet\" type=\"text/css\" />\\r\\n\\t<link href=\"css/grey.css\" rel=\"stylesheet\" type=\"text/css\" />\\r\\n\\r\\n<!-- JS -->\\r\\n\\r\\n<script language=\"javascript\" type=\"text/javascript\" src=\"http://www.eigenfactor.org/js/jquery.jqplot.min.js\"></script>\\r\\n<script type=\"text/javascript\" src=\"http://www.eigenfactor.org/js/jqplot.canvasTextRenderer.min.js\"></script>\\r\\n<script type=\"text/javascript\" src=\"http://www.eigenfactor.org/js/jqplot.canvasAxisLabelRenderer.min.js\"></script>\\r\\n<script type=\"text/javascript\" src=\"http://www.eigenfactor.org/js/jqplot.json2.min.js\"></script>\\r\\n<script type=\"text/javascript\" src=\"http://www.eigenfactor.org/js/jqplot.ciParser.min.js\"></script>\\r\\n<script language=\"javascript\" type=\"text/javascript\" src=\"http://www.eigenfactor.org/js/jqplot.highlighter.min.js\"></script>\\r\\n<script language=\"javascript\" type=\"text/javascript\" src=\"http://www.eigenfactor.org/js/jqplot.logAxisRenderer.min.js\"></script>\\r\\n\\r\\n\\r\\n<script type=\"text/javascript\">\\r\\n    $(function(){\\r\\n        // Accordion //\\r\\n        $(\"#accordion\").accordion({ header: \"h3\",collapsible: true,active: false});\\r\\n        $(\"#accordion a\").click(function(evt) {\\r\\n              var galleryId = $(this).attr(\\'href\\').split(\\'#\\')[1];\\r\\n              var contentDiv = $(\\'#\\' + galleryId);\\r\\n              if(contentDiv.html() == \"Loading...\") {\\r\\n\\t\\t\\t\\t\\t\\t\\t\\t\\t\\t$(contentDiv).load(\\'getdetails.php?year=\\' + galleryId.substring(0,4) + \\'&issn=\\' + galleryId.substring(4));\\r\\n              }\\r\\n         });\\r\\n\\t\\t\\t\\t$(\"#accordion span\").click(function(evt2) {\\r\\n              var galleryId = $(this).next().attr(\\'href\\').split(\\'#\\')[1];\\r\\n              var contentDiv = $(\\'#\\' + galleryId);\\r\\n              if(contentDiv.html() == \"Loading...\") {\\r\\n\\t\\t\\t\\t\\t\\t\\t\\t\\t\\t$(contentDiv).load(\\'getdetails.php?year=\\' + galleryId.substring(0,4) + \\'&issn=\\' + galleryId.substring(4));\\r\\n              }\\r\\n         });\\r\\n    });\\r\\n</script>\\r\\n\\r\\n\\r\\n<!-- END JS -->\\r\\n\\r\\n\\r\\n\\r\\n\\r\\n<!-- Content Box -->\\r\\n<div class=\"content_box\">\\r\\n\\r\\n\\r\\n\\t\\r\\n\\t<!-- Header Bar -->\\r\\n\\t<div class=\"results\" style=\"margin-left: 30px; margin-top: 20px; height:40px;\">\\r\\n\\t\\r\\n\\t\\t<div class=\"rank\"><h3>Order</h3></div>\\r\\n\\t\\t<div class=\"journal\" style=\"width:320px;\"><h3>Journal</h3></div>\\r\\n\\t\\t<div class=\"percentile\" style=\"width:170px;\"><h3>Percentile</h3></div>\\r\\n\\t\\t<div class=\"EF\" style=\"text-align:center;\"><h3>EF <a href=\"http://www.eigenfactor.org/rankings.php?bsearch=2011&searchby=year&orderby=eigenfactor\">&#8595</a></h3></div>\\r\\n\\t\\t<div class=\"AI\" style=\"text-align:center;\"><h3>AI <a href=\"http://www.eigenfactor.org/rankings.php?bsearch=2011&searchby=year&orderby=articleinfluence\">&#8595</a></h3></div>\\r\\n\\t\\r\\n\\t</div>\\r\\n\\t<!-- End Header Bar -->\\r\\n\\t\\r\\n\\t\\r\\n\\t<div id=\"accordion\"><h3><a href=\"#20110028-0836\"><div class=\"results\"><div class=\"rank\">1</div><div class=\"journal\">NATURE<div class=\"issn\">ISSN: 0028-0836</div></div><div class=\"percentile\"><div class=\"pholder1\"><div class=\"pname1\">EF: </div><div class=\"pbar1\"><div class=\"pfill1\" style=\"width: 100px;\"></div></div><div class =\"pnum1\">100</div></div><div class=\"pholder2\"><div class=\"pname2\">AI: </div><div class=\"pbar2\"><div class=\"pfill2\" style=\"width: 100px;\"></div></div><div class =\"pnum2\">100</div></div></div><div class=\"EF\">1.65524</div><div class=\"AI\">20.373</div></div></a></h3><div class=\"details\" id=\"20110028-0836\">Loading...</div><h3><a href=\"#20110027-8424\"><div class=\"results\"><div class=\"rank\">2</div><div class=\"journal\">P NATL ACAD SCI USA<div class=\"issn\">ISSN: 0027-8424</div></div><div class=\"percentile\"><div class=\"pholder1\"><div class=\"pname1\">EF: </div><div class=\"pbar1\"><div class=\"pfill1\" style=\"width: 100px;\"></div></div><div class =\"pnum1\">100</div></div><div class=\"pholder2\"><div class=\"pname2\">AI: </div><div class=\"pbar2\"><div class=\"pfill2\" style=\"width: 99px;\"></div></div><div class =\"pnum2\">99</div></div></div><div class=\"EF\">1.60168</div><div class=\"AI\">4.8961</div></div></a></h3><div class=\"details\" id=\"20110027-8424\">Loading...</div><h3><a href=\"#20110036-8075\"><div class=\"results\"><div class=\"rank\">3</div><div class=\"journal\">SCIENCE<div class=\"issn\">ISSN: 0036-8075</div></div><div class=\"percentile\"><div class=\"pholder1\"><div class=\"pname1\">EF: </div><div class=\"pbar1\"><div class=\"pfill1\" style=\"width: 100px;\"></div></div><div class =\"pnum1\">100</div></div><div class=\"pholder2\"><div class=\"pname2\">AI: </div><div class=\"pbar2\"><div class=\"pfill2\" style=\"width: 100px;\"></div></div><div class =\"pnum2\">100</div></div></div><div class=\"EF\">1.41162</div><div class=\"AI\">17.5248</div></div></a></h3><div class=\"details\" id=\"20110036-8075\">Loading...</div><h3><a href=\"#20110031-9007\"><div class=\"results\"><div class=\"rank\">4</div><div class=\"journal\">PHYS REV LETT<div class=\"issn\">ISSN: 0031-9007</div></div><div class=\"percentile\"><div class=\"pholder1\"><div class=\"pname1\">EF: </div><div class=\"pbar1\"><div class=\"pfill1\" style=\"width: 100px;\"></div></div><div class =\"pnum1\">100</div></div><div class=\"pholder2\"><div class=\"pname2\">AI: </div><div class=\"pbar2\"><div class=\"pfill2\" style=\"width: 98px;\"></div></div><div class =\"pnum2\">98</div></div></div><div class=\"EF\">1.14457</div><div class=\"AI\">3.5175</div></div></a></h3><div class=\"details\" id=\"20110031-9007\">Loading...</div><h3><a href=\"#20110002-7863\"><div class=\"results\"><div class=\"rank\">5</div><div class=\"journal\">J AM CHEM SOC<div class=\"issn\">ISSN: 0002-7863</div></div><div class=\"percentile\"><div class=\"pholder1\"><div class=\"pname1\">EF: </div><div class=\"pbar1\"><div class=\"pfill1\" style=\"width: 100px;\"></div></div><div class =\"pnum1\">100</div></div><div class=\"pholder2\"><div class=\"pname2\">AI: </div><div class=\"pbar2\"><div class=\"pfill2\" style=\"width: 97px;\"></div></div><div class =\"pnum2\">97</div></div></div><div class=\"EF\">0.817303</div><div class=\"AI\">2.7989</div></div></a></h3><div class=\"details\" id=\"20110002-7863\">Loading...</div><h3><a href=\"#20111098-0121\"><div class=\"results\"><div class=\"rank\">6</div><div class=\"journal\">PHYS REV B<div class=\"issn\">ISSN: 1098-0121</div></div><div class=\"percentile\"><div class=\"pholder1\"><div class=\"pname1\">EF: </div><div class=\"pbar1\"><div class=\"pfill1\" style=\"width: 100px;\"></div></div><div class =\"pnum1\">100</div></div><div class=\"pholder2\"><div class=\"pname2\">AI: </div><div class=\"pbar2\"><div class=\"pfill2\" style=\"width: 89px;\"></div></div><div class =\"pnum2\">89</div></div></div><div class=\"EF\">0.756039</div><div class=\"AI\">1.4281</div></div></a></h3><div class=\"details\" id=\"20111098-0121\">Loading...</div><h3><a href=\"#20110021-9258\"><div class=\"results\"><div class=\"rank\">7</div><div class=\"journal\">J BIOL CHEM<div class=\"issn\">ISSN: 0021-9258</div></div><div class=\"percentile\"><div class=\"pholder1\"><div class=\"pname1\">EF: </div><div class=\"pbar1\"><div class=\"pfill1\" style=\"width: 100px;\"></div></div><div class =\"pnum1\">100</div></div><div class=\"pholder2\"><div class=\"pname2\">AI: </div><div class=\"pbar2\"><div class=\"pfill2\" style=\"width: 94px;\"></div></div><div class =\"pnum2\">94</div></div></div><div class=\"EF\">0.742127</div><div class=\"AI\">2.0307</div></div></a></h3><div class=\"details\" id=\"20110021-9258\">Loading...</div><h3><a href=\"#20110003-6951\"><div class=\"results\"><div class=\"rank\">8</div><div class=\"journal\">APPL PHYS LETT<div class=\"issn\">ISSN: 0003-6951</div></div><div class=\"percentile\"><div class=\"pholder1\"><div class=\"pname1\">EF: </div><div class=\"pbar1\"><div class=\"pfill1\" style=\"width: 100px;\"></div></div><div class =\"pnum1\">100</div></div><div class=\"pholder2\"><div class=\"pname2\">AI: </div><div class=\"pbar2\"><div class=\"pfill2\" style=\"width: 89px;\"></div></div><div class =\"pnum2\">89</div></div></div><div class=\"EF\">0.675752</div><div class=\"AI\">1.3875</div></div></a></h3><div class=\"details\" id=\"20110003-6951\">Loading...</div><h3><a href=\"#20110028-4793\"><div class=\"results\"><div class=\"rank\">9</div><div class=\"journal\">NEW ENGL J MED<div class=\"issn\">ISSN: 0028-4793</div></div><div class=\"percentile\"><div class=\"pholder1\"><div class=\"pname1\">EF: </div><div class=\"pbar1\"><div class=\"pfill1\" style=\"width: 100px;\"></div></div><div class =\"pnum1\">100</div></div><div class=\"pholder2\"><div class=\"pname2\">AI: </div><div class=\"pbar2\"><div class=\"pfill2\" style=\"width: 100px;\"></div></div><div class =\"pnum2\">100</div></div></div><div class=\"EF\">0.66383</div><div class=\"AI\">21.304</div></div></a></h3><div class=\"details\" id=\"20110028-4793\">Loading...</div><h3><a href=\"#20110092-8674\"><div class=\"results\"><div class=\"rank\">10</div><div class=\"journal\">CELL<div class=\"issn\">ISSN: 0092-8674</div></div><div class=\"percentile\"><div class=\"pholder1\"><div class=\"pname1\">EF: </div><div class=\"pbar1\"><div class=\"pfill1\" style=\"width: 100px;\"></div></div><div class =\"pnum1\">100</div></div><div class=\"pholder2\"><div class=\"pname2\">AI: </div><div class=\"pbar2\"><div class=\"pfill2\" style=\"width: 100px;\"></div></div><div class =\"pnum2\">100</div></div></div><div class=\"EF\">0.660816</div><div class=\"AI\">20.554</div></div></a></h3><div class=\"details\" id=\"20110092-8674\">Loading...</div><h3><a href=\"#20111433-7851\"><div class=\"results\"><div class=\"rank\">11</div><div class=\"journal\">ANGEW CHEM INT EDIT<div class=\"issn\">ISSN: 1433-7851</div></div><div class=\"percentile\"><div class=\"pholder1\"><div class=\"pname1\">EF: </div><div class=\"pbar1\"><div class=\"pfill1\" style=\"width: 100px;\"></div></div><div class =\"pnum1\">100</div></div><div class=\"pholder2\"><div class=\"pname2\">AI: </div><div class=\"pbar2\"><div class=\"pfill2\" style=\"width: 98px;\"></div></div><div class =\"pnum2\">98</div></div></div><div class=\"EF\">0.514213</div><div class=\"AI\">3.3776</div></div></a></h3><div class=\"details\" id=\"20111433-7851\">Loading...</div><h3><a href=\"#20111932-6203\"><div class=\"results\"><div class=\"rank\">12</div><div class=\"journal\">PLOS ONE<div class=\"issn\">ISSN: 1932-6203</div></div><div class=\"percentile\"><div class=\"pholder1\"><div class=\"pname1\">EF: </div><div class=\"pbar1\"><div class=\"pfill1\" style=\"width: 100px;\"></div></div><div class =\"pnum1\">100</div></div><div class=\"pholder2\"><div class=\"pname2\">AI: </div><div class=\"pbar2\"><div class=\"pfill2\" style=\"width: 93px;\"></div></div><div class =\"pnum2\">93</div></div></div><div class=\"EF\">0.501622</div><div class=\"AI\">1.7984</div></div></a></h3><div class=\"details\" id=\"20111932-6203\">Loading...</div><h3><a href=\"#20110270-6474\"><div class=\"results\"><div class=\"rank\">13</div><div class=\"journal\">J NEUROSCI<div class=\"issn\">ISSN: 0270-6474</div></div><div class=\"percentile\"><div class=\"pholder1\"><div class=\"pname1\">EF: </div><div class=\"pbar1\"><div class=\"pfill1\" style=\"width: 100px;\"></div></div><div class =\"pnum1\">100</div></div><div class=\"pholder2\"><div class=\"pname2\">AI: </div><div class=\"pbar2\"><div class=\"pfill2\" style=\"width: 97px;\"></div></div><div class =\"pnum2\">97</div></div></div><div class=\"EF\">0.449625</div><div class=\"AI\">3.2549</div></div></a></h3><div class=\"details\" id=\"20110270-6474\">Loading...</div><h3><a href=\"#20110004-637X\"><div class=\"results\"><div class=\"rank\">14</div><div class=\"journal\">ASTROPHYS J<div class=\"issn\">ISSN: 0004-637X</div></div><div class=\"percentile\"><div class=\"pholder1\"><div class=\"pname1\">EF: </div><div class=\"pbar1\"><div class=\"pfill1\" style=\"width: 100px;\"></div></div><div class =\"pnum1\">100</div></div><div class=\"pholder2\"><div class=\"pname2\">AI: </div><div class=\"pbar2\"><div class=\"pfill2\" style=\"width: 93px;\"></div></div><div class =\"pnum2\">93</div></div></div><div class=\"EF\">0.429616</div><div class=\"AI\">1.8047</div></div></a></h3><div class=\"details\" id=\"20110004-637X\">Loading...</div><h3><a href=\"#20110006-4971\"><div class=\"results\"><div class=\"rank\">15</div><div class=\"journal\">BLOOD<div class=\"issn\">ISSN: 0006-4971</div></div><div class=\"percentile\"><div class=\"pholder1\"><div class=\"pname1\">EF: </div><div class=\"pbar1\"><div class=\"pfill1\" style=\"width: 100px;\"></div></div><div class =\"pnum1\">100</div></div><div class=\"pholder2\"><div class=\"pname2\">AI: </div><div class=\"pbar2\"><div class=\"pfill2\" style=\"width: 98px;\"></div></div><div class =\"pnum2\">98</div></div></div><div class=\"EF\">0.427942</div><div class=\"AI\">3.692</div></div></a></h3><div class=\"details\" id=\"20110006-4971\">Loading...</div><h3><a href=\"#20110732-183X\"><div class=\"results\"><div class=\"rank\">16</div><div class=\"journal\">J CLIN ONCOL<div class=\"issn\">ISSN: 0732-183X</div></div><div class=\"percentile\"><div class=\"pholder1\"><div class=\"pname1\">EF: </div><div class=\"pbar1\"><div class=\"pfill1\" style=\"width: 100px;\"></div></div><div class =\"pnum1\">100</div></div><div class=\"pholder2\"><div class=\"pname2\">AI: </div><div class=\"pbar2\"><div class=\"pfill2\" style=\"width: 99px;\"></div></div><div class =\"pnum2\">99</div></div></div><div class=\"EF\">0.394631</div><div class=\"AI\">5.56</div></div></a></h3><div class=\"details\" id=\"20110732-183X\">Loading...</div><h3><a href=\"#20110022-1767\"><div class=\"results\"><div class=\"rank\">17</div><div class=\"journal\">J IMMUNOL<div class=\"issn\">ISSN: 0022-1767</div></div><div class=\"percentile\"><div class=\"pholder1\"><div class=\"pname1\">EF: </div><div class=\"pbar1\"><div class=\"pfill1\" style=\"width: 100px;\"></div></div><div class =\"pnum1\">100</div></div><div class=\"pholder2\"><div class=\"pname2\">AI: </div><div class=\"pbar2\"><div class=\"pfill2\" style=\"width: 95px;\"></div></div><div class =\"pnum2\">95</div></div></div><div class=\"EF\">0.369891</div><div class=\"AI\">2.2661</div></div></a></h3><div class=\"details\" id=\"20110022-1767\">Loading...</div><h3><a href=\"#20110008-5472\"><div class=\"results\"><div class=\"rank\">18</div><div class=\"journal\">CANCER RES<div class=\"issn\">ISSN: 0008-5472</div></div><div class=\"percentile\"><div class=\"pholder1\"><div class=\"pname1\">EF: </div><div class=\"pbar1\"><div class=\"pfill1\" style=\"width: 100px;\"></div></div><div class =\"pnum1\">100</div></div><div class=\"pholder2\"><div class=\"pname2\">AI: </div><div class=\"pbar2\"><div class=\"pfill2\" style=\"width: 97px;\"></div></div><div class =\"pnum2\">97</div></div></div><div class=\"EF\">0.362734</div><div class=\"AI\">3.0995</div></div></a></h3><div class=\"details\" id=\"20110008-5472\">Loading...</div><h3><a href=\"#20110140-6736\"><div class=\"results\"><div class=\"rank\">19</div><div class=\"journal\">LANCET<div class=\"issn\">ISSN: 0140-6736</div></div><div class=\"percentile\"><div class=\"pholder1\"><div class=\"pname1\">EF: </div><div class=\"pbar1\"><div class=\"pfill1\" style=\"width: 100px;\"></div></div><div class =\"pnum1\">100</div></div><div class=\"pholder2\"><div class=\"pname2\">AI: </div><div class=\"pbar2\"><div class=\"pfill2\" style=\"width: 100px;\"></div></div><div class =\"pnum2\">100</div></div></div><div class=\"EF\">0.360954</div><div class=\"AI\">13.6107</div></div></a></h3><div class=\"details\" id=\"20110140-6736\">Loading...</div><h3><a href=\"#20111530-6984\"><div class=\"results\"><div class=\"rank\">20</div><div class=\"journal\">NANO LETT<div class=\"issn\">ISSN: 1530-6984</div></div><div class=\"percentile\"><div class=\"pholder1\"><div class=\"pname1\">EF: </div><div class=\"pbar1\"><div class=\"pfill1\" style=\"width: 100px;\"></div></div><div class =\"pnum1\">100</div></div><div class=\"pholder2\"><div class=\"pname2\">AI: </div><div class=\"pbar2\"><div class=\"pfill2\" style=\"width: 99px;\"></div></div><div class =\"pnum2\">99</div></div></div><div class=\"EF\">0.345906</div><div class=\"AI\">5.0701</div></div></a></h3><div class=\"details\" id=\"20111530-6984\">Loading...</div><h3><a href=\"#20110009-7322\"><div class=\"results\"><div class=\"rank\">21</div><div class=\"journal\">CIRCULATION<div class=\"issn\">ISSN: 0009-7322</div></div><div class=\"percentile\"><div class=\"pholder1\"><div class=\"pname1\">EF: </div><div class=\"pbar1\"><div class=\"pfill1\" style=\"width: 100px;\"></div></div><div class =\"pnum1\">100</div></div><div class=\"pholder2\"><div class=\"pname2\">AI: </div><div class=\"pbar2\"><div class=\"pfill2\" style=\"width: 99px;\"></div></div><div class =\"pnum2\">99</div></div></div><div class=\"EF\">0.339278</div><div class=\"AI\">5.9733</div></div></a></h3><div class=\"details\" id=\"20110009-7322\">Loading...</div><h3><a href=\"#20110148-0227\"><div class=\"results\"><div class=\"rank\">22</div><div class=\"journal\">J GEOPHYS RES<div class=\"issn\">ISSN: 0148-0227</div></div><div class=\"percentile\"><div class=\"pholder1\"><div class=\"pname1\">EF: </div><div class=\"pbar1\"><div class=\"pfill1\" style=\"width: 100px;\"></div></div><div class =\"pnum1\">100</div></div><div class=\"pholder2\"><div class=\"pname2\">AI: </div><div class=\"pbar2\"><div class=\"pfill2\" style=\"width: 89px;\"></div></div><div class =\"pnum2\">89</div></div></div><div class=\"EF\">0.332456</div><div class=\"AI\">1.4057</div></div></a></h3><div class=\"details\" id=\"20110148-0227\">Loading...</div><h3><a href=\"#20111061-4036\"><div class=\"results\"><div class=\"rank\">23</div><div class=\"journal\">NAT GENET<div class=\"issn\">ISSN: 1061-4036</div></div><div class=\"percentile\"><div class=\"pholder1\"><div class=\"pname1\">EF: </div><div class=\"pbar1\"><div class=\"pfill1\" style=\"width: 100px;\"></div></div><div class =\"pnum1\">100</div></div><div class=\"pholder2\"><div class=\"pname2\">AI: </div><div class=\"pbar2\"><div class=\"pfill2\" style=\"width: 100px;\"></div></div><div class =\"pnum2\">100</div></div></div><div class=\"EF\">0.329901</div><div class=\"AI\">17.5835</div></div></a></h3><div class=\"details\" id=\"20111061-4036\">Loading...</div><h3><a href=\"#20110305-1048\"><div class=\"results\"><div class=\"rank\">24</div><div class=\"journal\">NUCLEIC ACIDS RES<div class=\"issn\">ISSN: 0305-1048</div></div><div class=\"percentile\"><div class=\"pholder1\"><div class=\"pname1\">EF: </div><div class=\"pbar1\"><div class=\"pfill1\" style=\"width: 100px;\"></div></div><div class =\"pnum1\">100</div></div><div class=\"pholder2\"><div class=\"pname2\">AI: </div><div class=\"pbar2\"><div class=\"pfill2\" style=\"width: 97px;\"></div></div><div class =\"pnum2\">97</div></div></div><div class=\"EF\">0.304882</div><div class=\"AI\">3.0072</div></div></a></h3><div class=\"details\" id=\"20110305-1048\">Loading...</div><h3><a href=\"#20110021-8979\"><div class=\"results\"><div class=\"rank\">25</div><div class=\"journal\">J APPL PHYS<div class=\"issn\">ISSN: 0021-8979</div></div><div class=\"percentile\"><div class=\"pholder1\"><div class=\"pname1\">EF: </div><div class=\"pbar1\"><div class=\"pfill1\" style=\"width: 100px;\"></div></div><div class =\"pnum1\">100</div></div><div class=\"pholder2\"><div class=\"pname2\">AI: </div><div class=\"pbar2\"><div class=\"pfill2\" style=\"width: 73px;\"></div></div><div class =\"pnum2\">73</div></div></div><div class=\"EF\">0.301562</div><div class=\"AI\">0.8355</div></div></a></h3><div class=\"details\" id=\"20110021-8979\">Loading...</div><h3><a href=\"#20111550-7998\"><div class=\"results\"><div class=\"rank\">26</div><div class=\"journal\">PHYS REV D<div class=\"issn\">ISSN: 1550-7998</div></div><div class=\"percentile\"><div class=\"pholder1\"><div class=\"pname1\">EF: </div><div class=\"pbar1\"><div class=\"pfill1\" style=\"width: 100px;\"></div></div><div class =\"pnum1\">100</div></div><div class=\"pholder2\"><div class=\"pname2\">AI: </div><div class=\"pbar2\"><div class=\"pfill2\" style=\"width: 86px;\"></div></div><div class =\"pnum2\">86</div></div></div><div class=\"EF\">0.300804</div><div class=\"AI\">1.2451</div></div></a></h3><div class=\"details\" id=\"20111550-7998\">Loading...</div><h3><a href=\"#20110098-7484\"><div class=\"results\"><div class=\"rank\">27</div><div class=\"journal\">JAMA-J AM MED ASSOC<div class=\"issn\">ISSN: 0098-7484</div></div><div class=\"percentile\"><div class=\"pholder1\"><div class=\"pname1\">EF: </div><div class=\"pbar1\"><div class=\"pfill1\" style=\"width: 100px;\"></div></div><div class =\"pnum1\">100</div></div><div class=\"pholder2\"><div class=\"pname2\">AI: </div><div class=\"pbar2\"><div class=\"pfill2\" style=\"width: 100px;\"></div></div><div class =\"pnum2\">100</div></div></div><div class=\"EF\">0.285664</div><div class=\"AI\">13.111</div></div></a></h3><div class=\"details\" id=\"20110098-7484\">Loading...</div><h3><a href=\"#20111932-7447\"><div class=\"results\"><div class=\"rank\">28</div><div class=\"journal\">J PHYS CHEM C<div class=\"issn\">ISSN: 1932-7447</div></div><div class=\"percentile\"><div class=\"pholder1\"><div class=\"pname1\">EF: </div><div class=\"pbar1\"><div class=\"pfill1\" style=\"width: 100px;\"></div></div><div class =\"pnum1\">100</div></div><div class=\"pholder2\"><div class=\"pname2\">AI: </div><div class=\"pbar2\"><div class=\"pfill2\" style=\"width: 88px;\"></div></div><div class =\"pnum2\">88</div></div></div><div class=\"EF\">0.284716</div><div class=\"AI\">1.3421</div></div></a></h3><div class=\"details\" id=\"20111932-7447\">Loading...</div><h3><a href=\"#20110935-9648\"><div class=\"results\"><div class=\"rank\">29</div><div class=\"journal\">ADV MATER<div class=\"issn\">ISSN: 0935-9648</div></div><div class=\"percentile\"><div class=\"pholder1\"><div class=\"pname1\">EF: </div><div class=\"pbar1\"><div class=\"pfill1\" style=\"width: 100px;\"></div></div><div class =\"pnum1\">100</div></div><div class=\"pholder2\"><div class=\"pname2\">AI: </div><div class=\"pbar2\"><div class=\"pfill2\" style=\"width: 98px;\"></div></div><div class =\"pnum2\">98</div></div></div><div class=\"EF\">0.262413</div><div class=\"AI\">4.0706</div></div></a></h3><div class=\"details\" id=\"20110935-9648\">Loading...</div><h3><a href=\"#20110004-6361\"><div class=\"results\"><div class=\"rank\">30</div><div class=\"journal\">ASTRON ASTROPHYS<div class=\"issn\">ISSN: 0004-6361</div></div><div class=\"percentile\"><div class=\"pholder1\"><div class=\"pname1\">EF: </div><div class=\"pbar1\"><div class=\"pfill1\" style=\"width: 100px;\"></div></div><div class =\"pnum1\">100</div></div><div class=\"pholder2\"><div class=\"pname2\">AI: </div><div class=\"pbar2\"><div class=\"pfill2\" style=\"width: 90px;\"></div></div><div class =\"pnum2\">90</div></div></div><div class=\"EF\">0.254252</div><div class=\"AI\">1.4742</div></div></a></h3><div class=\"details\" id=\"20110004-6361\">Loading...</div><h3><a href=\"#20111097-2765\"><div class=\"results\"><div class=\"rank\">31</div><div class=\"journal\">MOL CELL<div class=\"issn\">ISSN: 1097-2765</div></div><div class=\"percentile\"><div class=\"pholder1\"><div class=\"pname1\">EF: </div><div class=\"pbar1\"><div class=\"pfill1\" style=\"width: 100px;\"></div></div><div class =\"pnum1\">100</div></div><div class=\"pholder2\"><div class=\"pname2\">AI: </div><div class=\"pbar2\"><div class=\"pfill2\" style=\"width: 100px;\"></div></div><div class =\"pnum2\">100</div></div></div><div class=\"EF\">0.250753</div><div class=\"AI\">8.9479</div></div></a></h3><div class=\"details\" id=\"20111097-2765\">Loading...</div><h3><a href=\"#20110035-8711\"><div class=\"results\"><div class=\"rank\">32</div><div class=\"journal\">MON NOT R ASTRON SOC<div class=\"issn\">ISSN: 0035-8711</div></div><div class=\"percentile\"><div class=\"pholder1\"><div class=\"pname1\">EF: </div><div class=\"pbar1\"><div class=\"pfill1\" style=\"width: 100px;\"></div></div><div class =\"pnum1\">100</div></div><div class=\"pholder2\"><div class=\"pname2\">AI: </div><div class=\"pbar2\"><div class=\"pfill2\" style=\"width: 91px;\"></div></div><div class =\"pnum2\">91</div></div></div><div class=\"EF\">0.248839</div><div class=\"AI\">1.6034</div></div></a></h3><div class=\"details\" id=\"20110035-8711\">Loading...</div><h3><a href=\"#20111520-6106\"><div class=\"results\"><div class=\"rank\">33</div><div class=\"journal\">J PHYS CHEM B<div class=\"issn\">ISSN: 1520-6106</div></div><div class=\"percentile\"><div class=\"pholder1\"><div class=\"pname1\">EF: </div><div class=\"pbar1\"><div class=\"pfill1\" style=\"width: 100px;\"></div></div><div class =\"pnum1\">100</div></div><div class=\"pholder2\"><div class=\"pname2\">AI: </div><div class=\"pbar2\"><div class=\"pfill2\" style=\"width: 84px;\"></div></div><div class =\"pnum2\">84</div></div></div><div class=\"EF\">0.246515</div><div class=\"AI\">1.1608</div></div></a></h3><div class=\"details\" id=\"20111520-6106\">Loading...</div><h3><a href=\"#20111359-7345\"><div class=\"results\"><div class=\"rank\">34</div><div class=\"journal\">CHEM COMMUN<div class=\"issn\">ISSN: 1359-7345</div></div><div class=\"percentile\"><div class=\"pholder1\"><div class=\"pname1\">EF: </div><div class=\"pbar1\"><div class=\"pfill1\" style=\"width: 100px;\"></div></div><div class =\"pnum1\">100</div></div><div class=\"pholder2\"><div class=\"pname2\">AI: </div><div class=\"pbar2\"><div class=\"pfill2\" style=\"width: 91px;\"></div></div><div class =\"pnum2\">91</div></div></div><div class=\"EF\">0.241003</div><div class=\"AI\">1.5516</div></div></a></h3><div class=\"details\" id=\"20111359-7345\">Loading...</div><h3><a href=\"#20111094-4087\"><div class=\"results\"><div class=\"rank\">35</div><div class=\"journal\">OPT EXPRESS<div class=\"issn\">ISSN: 1094-4087</div></div><div class=\"percentile\"><div class=\"pholder1\"><div class=\"pname1\">EF: </div><div class=\"pbar1\"><div class=\"pfill1\" style=\"width: 100px;\"></div></div><div class =\"pnum1\">100</div></div><div class=\"pholder2\"><div class=\"pname2\">AI: </div><div class=\"pbar2\"><div class=\"pfill2\" style=\"width: 85px;\"></div></div><div class =\"pnum2\">85</div></div></div><div class=\"EF\">0.240848</div><div class=\"AI\">1.1685</div></div></a></h3><div class=\"details\" id=\"20111094-4087\">Loading...</div><h3><a href=\"#20110094-8276\"><div class=\"results\"><div class=\"rank\">36</div><div class=\"journal\">GEOPHYS RES LETT<div class=\"issn\">ISSN: 0094-8276</div></div><div class=\"percentile\"><div class=\"pholder1\"><div class=\"pname1\">EF: </div><div class=\"pbar1\"><div class=\"pfill1\" style=\"width: 100px;\"></div></div><div class =\"pnum1\">100</div></div><div class=\"pholder2\"><div class=\"pname2\">AI: </div><div class=\"pbar2\"><div class=\"pfill2\" style=\"width: 94px;\"></div></div><div class =\"pnum2\">94</div></div></div><div class=\"EF\">0.23991</div><div class=\"AI\">1.9391</div></div></a></h3><div class=\"details\" id=\"20110094-8276\">Loading...</div><h3><a href=\"#20110021-9606\"><div class=\"results\"><div class=\"rank\">37</div><div class=\"journal\">J CHEM PHYS<div class=\"issn\">ISSN: 0021-9606</div></div><div class=\"percentile\"><div class=\"pholder1\"><div class=\"pname1\">EF: </div><div class=\"pbar1\"><div class=\"pfill1\" style=\"width: 100px;\"></div></div><div class =\"pnum1\">100</div></div><div class=\"pholder2\"><div class=\"pname2\">AI: </div><div class=\"pbar2\"><div class=\"pfill2\" style=\"width: 80px;\"></div></div><div class =\"pnum2\">80</div></div></div><div class=\"EF\">0.232653</div><div class=\"AI\">0.9931</div></div></a></h3><div class=\"details\" id=\"20110021-9606\">Loading...</div><h3><a href=\"#20110896-6273\"><div class=\"results\"><div class=\"rank\">38</div><div class=\"journal\">NEURON<div class=\"issn\">ISSN: 0896-6273</div></div><div class=\"percentile\"><div class=\"pholder1\"><div class=\"pname1\">EF: </div><div class=\"pbar1\"><div class=\"pfill1\" style=\"width: 100px;\"></div></div><div class =\"pnum1\">100</div></div><div class=\"pholder2\"><div class=\"pname2\">AI: </div><div class=\"pbar2\"><div class=\"pfill2\" style=\"width: 99px;\"></div></div><div class =\"pnum2\">99</div></div></div><div class=\"EF\">0.227501</div><div class=\"AI\">8.5079</div></div></a></h3><div class=\"details\" id=\"20110896-6273\">Loading...</div><h3><a href=\"#20110743-7463\"><div class=\"results\"><div class=\"rank\">39</div><div class=\"journal\">LANGMUIR<div class=\"issn\">ISSN: 0743-7463</div></div><div class=\"percentile\"><div class=\"pholder1\"><div class=\"pname1\">EF: </div><div class=\"pbar1\"><div class=\"pfill1\" style=\"width: 100px;\"></div></div><div class =\"pnum1\">100</div></div><div class=\"pholder2\"><div class=\"pname2\">AI: </div><div class=\"pbar2\"><div class=\"pfill2\" style=\"width: 85px;\"></div></div><div class =\"pnum2\">85</div></div></div><div class=\"EF\">0.22322</div><div class=\"AI\">1.1824</div></div></a></h3><div class=\"details\" id=\"20110743-7463\">Loading...</div><h3><a href=\"#20111476-1122\"><div class=\"results\"><div class=\"rank\">40</div><div class=\"journal\">NAT MATER<div class=\"issn\">ISSN: 1476-1122</div></div><div class=\"percentile\"><div class=\"pholder1\"><div class=\"pname1\">EF: </div><div class=\"pbar1\"><div class=\"pfill1\" style=\"width: 100px;\"></div></div><div class =\"pnum1\">100</div></div><div class=\"pholder2\"><div class=\"pname2\">AI: </div><div class=\"pbar2\"><div class=\"pfill2\" style=\"width: 100px;\"></div></div><div class =\"pnum2\">100</div></div></div><div class=\"EF\">0.220911</div><div class=\"AI\">17.9245</div></div></a></h3><div class=\"details\" id=\"20111476-1122\">Loading...</div><h3><a href=\"#20110735-1097\"><div class=\"results\"><div class=\"rank\">41</div><div class=\"journal\">J AM COLL CARDIOL<div class=\"issn\">ISSN: 0735-1097</div></div><div class=\"percentile\"><div class=\"pholder1\"><div class=\"pname1\">EF: </div><div class=\"pbar1\"><div class=\"pfill1\" style=\"width: 100px;\"></div></div><div class =\"pnum1\">100</div></div><div class=\"pholder2\"><div class=\"pname2\">AI: </div><div class=\"pbar2\"><div class=\"pfill2\" style=\"width: 99px;\"></div></div><div class =\"pnum2\">99</div></div></div><div class=\"EF\">0.22035</div><div class=\"AI\">4.884</div></div></a></h3><div class=\"details\" id=\"20110735-1097\">Loading...</div><h3><a href=\"#20111050-2947\"><div class=\"results\"><div class=\"rank\">42</div><div class=\"journal\">PHYS REV A<div class=\"issn\">ISSN: 1050-2947</div></div><div class=\"percentile\"><div class=\"pholder1\"><div class=\"pname1\">EF: </div><div class=\"pbar1\"><div class=\"pfill1\" style=\"width: 100px;\"></div></div><div class =\"pnum1\">100</div></div><div class=\"pholder2\"><div class=\"pname2\">AI: </div><div class=\"pbar2\"><div class=\"pfill2\" style=\"width: 79px;\"></div></div><div class =\"pnum2\">79</div></div></div><div class=\"EF\">0.219831</div><div class=\"AI\">0.9797</div></div></a></h3><div class=\"details\" id=\"20111050-2947\">Loading...</div><h3><a href=\"#20110021-9738\"><div class=\"results\"><div class=\"rank\">43</div><div class=\"journal\">J CLIN INVEST<div class=\"issn\">ISSN: 0021-9738</div></div><div class=\"percentile\"><div class=\"pholder1\"><div class=\"pname1\">EF: </div><div class=\"pbar1\"><div class=\"pfill1\" style=\"width: 100px;\"></div></div><div class =\"pnum1\">100</div></div><div class=\"pholder2\"><div class=\"pname2\">AI: </div><div class=\"pbar2\"><div class=\"pfill2\" style=\"width: 99px;\"></div></div><div class =\"pnum2\">99</div></div></div><div class=\"EF\">0.218367</div><div class=\"AI\">6.9507</div></div></a></h3><div class=\"details\" id=\"20110021-9738\">Loading...</div><h3><a href=\"#20110009-2665\"><div class=\"results\"><div class=\"rank\">44</div><div class=\"journal\">CHEM REV<div class=\"issn\">ISSN: 0009-2665</div></div><div class=\"percentile\"><div class=\"pholder1\"><div class=\"pname1\">EF: </div><div class=\"pbar1\"><div class=\"pfill1\" style=\"width: 100px;\"></div></div><div class =\"pnum1\">100</div></div><div class=\"pholder2\"><div class=\"pname2\">AI: </div><div class=\"pbar2\"><div class=\"pfill2\" style=\"width: 100px;\"></div></div><div class =\"pnum2\">100</div></div></div><div class=\"EF\">0.214699</div><div class=\"AI\">13.3332</div></div></a></h3><div class=\"details\" id=\"20110009-2665\">Loading...</div><h3><a href=\"#20110890-9369\"><div class=\"results\"><div class=\"rank\">45</div><div class=\"journal\">GENE DEV<div class=\"issn\">ISSN: 0890-9369</div></div><div class=\"percentile\"><div class=\"pholder1\"><div class=\"pname1\">EF: </div><div class=\"pbar1\"><div class=\"pfill1\" style=\"width: 100px;\"></div></div><div class =\"pnum1\">100</div></div><div class=\"pholder2\"><div class=\"pname2\">AI: </div><div class=\"pbar2\"><div class=\"pfill2\" style=\"width: 99px;\"></div></div><div class =\"pnum2\">99</div></div></div><div class=\"EF\">0.209552</div><div class=\"AI\">8.0181</div></div></a></h3><div class=\"details\" id=\"20110890-9369\">Loading...</div><h3><a href=\"#20111078-0432\"><div class=\"results\"><div class=\"rank\">46</div><div class=\"journal\">CLIN CANCER RES<div class=\"issn\">ISSN: 1078-0432</div></div><div class=\"percentile\"><div class=\"pholder1\"><div class=\"pname1\">EF: </div><div class=\"pbar1\"><div class=\"pfill1\" style=\"width: 100px;\"></div></div><div class =\"pnum1\">100</div></div><div class=\"pholder2\"><div class=\"pname2\">AI: </div><div class=\"pbar2\"><div class=\"pfill2\" style=\"width: 96px;\"></div></div><div class =\"pnum2\">96</div></div></div><div class=\"EF\">0.20597</div><div class=\"AI\">2.538</div></div></a></h3><div class=\"details\" id=\"20111078-0432\">Loading...</div><h3><a href=\"#20111539-3755\"><div class=\"results\"><div class=\"rank\">47</div><div class=\"journal\">PHYS REV E<div class=\"issn\">ISSN: 1539-3755</div></div><div class=\"percentile\"><div class=\"pholder1\"><div class=\"pname1\">EF: </div><div class=\"pbar1\"><div class=\"pfill1\" style=\"width: 100px;\"></div></div><div class =\"pnum1\">100</div></div><div class=\"pholder2\"><div class=\"pname2\">AI: </div><div class=\"pbar2\"><div class=\"pfill2\" style=\"width: 79px;\"></div></div><div class =\"pnum2\">79</div></div></div><div class=\"EF\">0.205905</div><div class=\"AI\">0.958</div></div></a></h3><div class=\"details\" id=\"20111539-3755\">Loading...</div><h3><a href=\"#20110022-538X\"><div class=\"results\"><div class=\"rank\">48</div><div class=\"journal\">J VIROL<div class=\"issn\">ISSN: 0022-538X</div></div><div class=\"percentile\"><div class=\"pholder1\"><div class=\"pname1\">EF: </div><div class=\"pbar1\"><div class=\"pfill1\" style=\"width: 100px;\"></div></div><div class =\"pnum1\">100</div></div><div class=\"pholder2\"><div class=\"pname2\">AI: </div><div class=\"pbar2\"><div class=\"pfill2\" style=\"width: 91px;\"></div></div><div class =\"pnum2\">91</div></div></div><div class=\"EF\">0.190607</div><div class=\"AI\">1.5928</div></div></a></h3><div class=\"details\" id=\"20110022-538X\">Loading...</div><h3><a href=\"#20110013-936X\"><div class=\"results\"><div class=\"rank\">49</div><div class=\"journal\">ENVIRON SCI TECHNOL<div class=\"issn\">ISSN: 0013-936X</div></div><div class=\"percentile\"><div class=\"pholder1\"><div class=\"pname1\">EF: </div><div class=\"pbar1\"><div class=\"pfill1\" style=\"width: 100px;\"></div></div><div class =\"pnum1\">100</div></div><div class=\"pholder2\"><div class=\"pname2\">AI: </div><div class=\"pbar2\"><div class=\"pfill2\" style=\"width: 91px;\"></div></div><div class =\"pnum2\">91</div></div></div><div class=\"EF\">0.189289</div><div class=\"AI\">1.6039</div></div></a></h3><div class=\"details\" id=\"20110013-936X\">Loading...</div><h3><a href=\"#20110022-1007\"><div class=\"results\"><div class=\"rank\">50</div><div class=\"journal\">J EXP MED<div class=\"issn\">ISSN: 0022-1007</div></div><div class=\"percentile\"><div class=\"pholder1\"><div class=\"pname1\">EF: </div><div class=\"pbar1\"><div class=\"pfill1\" style=\"width: 100px;\"></div></div><div class =\"pnum1\">100</div></div><div class=\"pholder2\"><div class=\"pname2\">AI: </div><div class=\"pbar2\"><div class=\"pfill2\" style=\"width: 99px;\"></div></div><div class =\"pnum2\">99</div></div></div><div class=\"EF\">0.188512</div><div class=\"AI\">7.8344</div></div></a></h3><div class=\"details\" id=\"20110022-1007\">Loading...</div></div><ul class=\\'pagination\\'><li class=\\'detailsPG\\'>Page 1 of 215</li><li><a class=\\'current\\'>1</a></li><li><a href=\\'?bsearch=2011&searchby=year&orderby=eigenfactor&page=2\\'>2</a></li><li><a href=\\'?bsearch=2011&searchby=year&orderby=eigenfactor&page=3\\'>3</a></li><li><a href=\\'?bsearch=2011&searchby=year&orderby=eigenfactor&page=4\\'>4</a></li><li><a href=\\'?bsearch=2011&searchby=year&orderby=eigenfactor&page=5\\'>5</a></li><li><a href=\\'?bsearch=2011&searchby=year&orderby=eigenfactor&page=6\\'>6</a></li><li><a href=\\'?bsearch=2011&searchby=year&orderby=eigenfactor&page=7\\'>7</a></li><li class=\\'dot\\'>...</li><li><a href=\\'?bsearch=2011&searchby=year&orderby=eigenfactor&page=214\\'>214</a></li><li><a href=\\'?bsearch=2011&searchby=year&orderby=eigenfactor&page=215\\'>215</a></li><li><a href=\\'?bsearch=2011&searchby=year&orderby=eigenfactor&page=2\\'>Next</a></li><li><a href=\\'?bsearch=2011&searchby=year&orderby=eigenfactor&page=215\\'>Last</a></li></ul>\\n</div>\\t\\r\\n      <!-- End Content Box -->\\r\\n\\r\\n\\r\\n\\r\\n\\t\\t\\t\\t\\t\\t<!-- End of Content -->\\r\\n\\t\\t\\t\\t\\t\\t\\r\\n\\t\\t\\t\\t\\t\\t <!-- Space Bar1 -->\\r\\n\\t\\t\\t\\t\\t\\t<div class=\"spacebar1\"></div>\\r\\n\\r\\n\\t\\t\\t\\t\\t\\t<!-- Footer -->\\r\\n\\t\\t\\t\\t\\t\\t<div class=\"footer\"><p>Copyright &copy; 2012 <a href=\"http://www.washington.edu/\">University of Washington</a></p></div>\\r\\n\\r\\n\\t\\t\\t\\t\\t</div>\\r\\n\\t\\t\\t\\t\\t<!-- End Content -->\\r\\n\\r\\n\\t\\t\\t\\t\\t<!-- Right Panel -->\\r\\n\\t\\t\\t\\t\\t<div class=\"rightside\"></div>\\r\\n\\r\\n\\t\\t\\t\\t</div>\\r\\n\\t\\t\\t  <!-- End Main Container -->\\r\\n\\r\\n\\t\\t\\t</body>\\r\\n\\r\\n\\t\\t\\t</html>\\r\\n\\t\\t\\t\\r\\n\\t\\t'"
       ]
      }
     ],
     "prompt_number": 13
    },
    {
     "cell_type": "code",
     "collapsed": false,
     "input": [
      "from bs4 import BeautifulSoup"
     ],
     "language": "python",
     "metadata": {},
     "outputs": [],
     "prompt_number": 18
    },
    {
     "cell_type": "code",
     "collapsed": false,
     "input": [
      "BeautifulSoup(data[0])"
     ],
     "language": "python",
     "metadata": {},
     "outputs": [
      {
       "metadata": {},
       "output_type": "pyout",
       "prompt_number": 23,
       "text": [
        "<html lang=\"en-US\">\n",
        "<head>\n",
        "<meta content=\"Jevin D. West\" name=\"author\"/>\n",
        "<meta content=\"Eigenfactor: ranking and mapping scientific knowledge\" name=\"description\"/>\n",
        "<meta content=\"Eigenfactor, journal ranking, mapping science\" name=\"keywords\"/>\n",
        "<title>Eigenfactor</title>\n",
        "<link href=\"http://www.eigenfactor.org/images/EFlogo.png\" rel=\"shortcut icon\" type=\"image/png\"/>\n",
        "<link href=\"http://www.eigenfactor.org/css/ef.css\" rel=\"stylesheet\" type=\"text/css\"/>\n",
        "<link href=\"http://www.eigenfactor.org/css/p7exp.css\" rel=\"stylesheet\" type=\"text/css\"/>\n",
        "<link href=\"http://www.eigenfactor.org/css/quickmenu_styles.css\" rel=\"stylesheet\" type=\"text/css\"/>\n",
        "<link href=\"http://www.eigenfactor.org/css/jquery-ui-1.8.16.custom.css\" rel=\"stylesheet\" type=\"text/css\"/>\n",
        "<link href=\"http://www.eigenfactor.org/css/jquery.jqplot.css\" rel=\"stylesheet\" type=\"text/css\"/>\n",
        "<script src=\"http://www.eigenfactor.org/js/quickmenu.js\" type=\"text/javascript\"></script>\n",
        "<script src=\"http://www.eigenfactor.org/js/p7exp.js\" type=\"text/javascript\"></script>\n",
        "<script src=\"http://www.eigenfactor.org/js/jquery-1.6.2.min.js\" type=\"text/javascript\"></script>\n",
        "<script src=\"http://www.eigenfactor.org/js/jquery-ui-1.8.16.custom.min.js\" type=\"text/javascript\"></script>\n",
        "</head>\n",
        "<body>\n",
        "<!-- Main Container -->\n",
        "<div class=\"container\">\n",
        "<!-- Left Panel -->\n",
        "<div class=\"leftside\"></div>\n",
        "<!-- Content -->\n",
        "<div class=\"middleside\">\n",
        "<!-- Header -->\n",
        "<div id=\"headerimage\"><a href=\"http://www.eigenfactor.org\"><img border=\"0\" height=\"150\" src=\"http://www.eigenfactor.org/images/header.jpg\" width=\"700\"/></a></div>\n",
        "<!-- Space Bar -->\n",
        "<div class=\"spacebar1\"></div>\n",
        "<!-- Navigation Bar -->\n",
        "<div class=\"navigation\">\n",
        "<!-- navigation contents -->\n",
        "<ul class=\"qmmc\" id=\"qm0\">\n",
        "<li><a class=\"qmparent\" href=\"http://www.eigenfactor.org/index.php\">eigenfactor search</a>\n",
        "<ul>\n",
        "<li><a href=\"http://www.eigenfactor.org/motion/\">motion graphs</a></li>\n",
        "<li><span class=\"qmdivider qmdividerx\"></span></li>\n",
        "<li><a href=\"http://www.eigenfactor.org/advanced.php\">advanced search</a></li>\n",
        "</ul>\n",
        "</li>\n",
        "<li><span class=\"qmdivider qmdividery\"></span></li>\n",
        "<li><a class=\"qmparent\" href=\"/map/index.php\">mapping</a>\n",
        "<ul>\n",
        "<li><a href=\"http://www.eigenfactor.org/map/index.php\">interactive browser</a></li>\n",
        "<li><a href=\"http://www.eigenfactor.org/map/maps.php\">maps</a></li>\n",
        "<li><a href=\"http://mas.eigenfactor.org/journalLevel/indexIframe.php\">mas</a></li>\n",
        "<li><a href=\"http://www.eigenfactor.org/map/methods.php\">methods</a></li>\n",
        "<li><span class=\"qmdivider qmdividerx\"></span></li>\n",
        "<li><a href=\"http://www.mapequation.org\">mapequation.org</a></li>\n",
        "</ul>\n",
        "</li>\n",
        "<li><span class=\"qmdivider qmdividery\"></span></li>\n",
        "<li><a class=\"qmparent\" href=\"http://www.eigenfactor.org/methods.php\">information</a>\n",
        "<ul>\n",
        "<li><a href=\"http://www.eigenfactor.org/whyeigenfactor.php\">why eigenfactor</a></li>\n",
        "<li><a href=\"http://www.eigenfactor.org/methods.php\">methods</a></li>\n",
        "<li><a href=\"http://www.eigenfactor.org/stats.php\">stats</a></li>\n",
        "<li><span class=\"qmdivider qmdividerx\"></span></li>\n",
        "<li><a href=\"http://www.eigenfactor.org/papers.php\">papers</a></li>\n",
        "</ul>\n",
        "</li>\n",
        "<li><span class=\"qmdivider qmdividery\"></span></li>\n",
        "<li><a href=\"http://well-formed.eigenfactor.org\">well-formed</a></li>\n",
        "<li><span class=\"qmdivider qmdividery\"></span></li>\n",
        "<li><a class=\"qmparent\" href=\"http://www.eigenfactor.org/openaccess/\">cost effectiveness</a>\n",
        "<ul>\n",
        "<li><a href=\"http://www.eigenfactor.org/costeffectiveness.php\">Subscriptions</a></li>\n",
        "<li><a href=\"http://www.eigenfactor.org/openaccess/\">Open Access Author Fees (Beta)</a></li>\n",
        "</ul>\n",
        "</li><li><span class=\"qmdivider qmdividery\"></span></li>\n",
        "<li><a class=\"qmparent\" href=\"http://mas.eigenfactor.org/\">recommendation</a>\n",
        "<ul>\n",
        "<li><a href=\"http://mas.eigenfactor.org\">Microsoft Academic Search</a></li>\n",
        "<li><a href=\"http://jstor.eigenfactor.org/\">JSTOR</a></li>\n",
        "</ul>\n",
        "</li>\n",
        "<li><span class=\"qmdivider qmdividery\"></span></li>\n",
        "<li><a class=\"qmparent\" href=\"http://www.eigenfactor.org/gender\">gender</a>\n",
        "</li><li><span class=\"qmdivider qmdividery\"></span></li>\n",
        "<li><a class=\"qmparent\" href=\"http://www.eigenfactor.org/about.php\">about</a>\n",
        "<ul>\n",
        "<li><a href=\"http://www.eigenfactor.org/faq.php\">faq</a></li>\n",
        "<li><span class=\"qmdivider qmdividerx\"></span></li>\n",
        "<li><a href=\"http://www.eigenfactor.org/about.php\">contact</a></li>\n",
        "</ul>\n",
        "</li>\n",
        "<li class=\"qmclear\">\u00a0</li>\n",
        "</ul>\n",
        "<!-- End navigation contents -->\n",
        "</div>\n",
        "<!-- End Navigation Bar -->\n",
        "<!-- Space Bar1 -->\n",
        "<div class=\"spacebar1\"></div>\n",
        "<!-- Beginning of Content -->\n",
        "<link href=\"css/pagination.css\" rel=\"stylesheet\" type=\"text/css\"/>\n",
        "<link href=\"css/grey.css\" rel=\"stylesheet\" type=\"text/css\"/>\n",
        "<!-- JS -->\n",
        "<script language=\"javascript\" src=\"http://www.eigenfactor.org/js/jquery.jqplot.min.js\" type=\"text/javascript\"></script>\n",
        "<script src=\"http://www.eigenfactor.org/js/jqplot.canvasTextRenderer.min.js\" type=\"text/javascript\"></script>\n",
        "<script src=\"http://www.eigenfactor.org/js/jqplot.canvasAxisLabelRenderer.min.js\" type=\"text/javascript\"></script>\n",
        "<script src=\"http://www.eigenfactor.org/js/jqplot.json2.min.js\" type=\"text/javascript\"></script>\n",
        "<script src=\"http://www.eigenfactor.org/js/jqplot.ciParser.min.js\" type=\"text/javascript\"></script>\n",
        "<script language=\"javascript\" src=\"http://www.eigenfactor.org/js/jqplot.highlighter.min.js\" type=\"text/javascript\"></script>\n",
        "<script language=\"javascript\" src=\"http://www.eigenfactor.org/js/jqplot.logAxisRenderer.min.js\" type=\"text/javascript\"></script>\n",
        "<script type=\"text/javascript\">\n",
        "    $(function(){\n",
        "        // Accordion //\n",
        "        $(\"#accordion\").accordion({ header: \"h3\",collapsible: true,active: false});\n",
        "        $(\"#accordion a\").click(function(evt) {\n",
        "              var galleryId = $(this).attr('href').split('#')[1];\n",
        "              var contentDiv = $('#' + galleryId);\n",
        "              if(contentDiv.html() == \"Loading...\") {\n",
        "\t\t\t\t\t\t\t\t\t\t$(contentDiv).load('getdetails.php?year=' + galleryId.substring(0,4) + '&issn=' + galleryId.substring(4));\n",
        "              }\n",
        "         });\n",
        "\t\t\t\t$(\"#accordion span\").click(function(evt2) {\n",
        "              var galleryId = $(this).next().attr('href').split('#')[1];\n",
        "              var contentDiv = $('#' + galleryId);\n",
        "              if(contentDiv.html() == \"Loading...\") {\n",
        "\t\t\t\t\t\t\t\t\t\t$(contentDiv).load('getdetails.php?year=' + galleryId.substring(0,4) + '&issn=' + galleryId.substring(4));\n",
        "              }\n",
        "         });\n",
        "    });\n",
        "</script>\n",
        "<!-- END JS -->\n",
        "<!-- Content Box -->\n",
        "<div class=\"content_box\">\n",
        "<!-- Header Bar -->\n",
        "<div class=\"results\" style=\"margin-left: 30px; margin-top: 20px; height:40px;\">\n",
        "<div class=\"rank\"><h3>Order</h3></div>\n",
        "<div class=\"journal\" style=\"width:320px;\"><h3>Journal</h3></div>\n",
        "<div class=\"percentile\" style=\"width:170px;\"><h3>Percentile</h3></div>\n",
        "<div class=\"EF\" style=\"text-align:center;\"><h3>EF <a href=\"http://www.eigenfactor.org/rankings.php?bsearch=2011&amp;searchby=year&amp;orderby=eigenfactor\">\u2193</a></h3></div>\n",
        "<div class=\"AI\" style=\"text-align:center;\"><h3>AI <a href=\"http://www.eigenfactor.org/rankings.php?bsearch=2011&amp;searchby=year&amp;orderby=articleinfluence\">\u2193</a></h3></div>\n",
        "</div>\n",
        "<!-- End Header Bar -->\n",
        "<div id=\"accordion\"><h3><a href=\"#20110028-0836\"><div class=\"results\"><div class=\"rank\">1</div><div class=\"journal\">NATURE<div class=\"issn\">ISSN: 0028-0836</div></div><div class=\"percentile\"><div class=\"pholder1\"><div class=\"pname1\">EF: </div><div class=\"pbar1\"><div class=\"pfill1\" style=\"width: 100px;\"></div></div><div class=\"pnum1\">100</div></div><div class=\"pholder2\"><div class=\"pname2\">AI: </div><div class=\"pbar2\"><div class=\"pfill2\" style=\"width: 100px;\"></div></div><div class=\"pnum2\">100</div></div></div><div class=\"EF\">1.65524</div><div class=\"AI\">20.373</div></div></a></h3><div class=\"details\" id=\"20110028-0836\">Loading...</div><h3><a href=\"#20110027-8424\"><div class=\"results\"><div class=\"rank\">2</div><div class=\"journal\">P NATL ACAD SCI USA<div class=\"issn\">ISSN: 0027-8424</div></div><div class=\"percentile\"><div class=\"pholder1\"><div class=\"pname1\">EF: </div><div class=\"pbar1\"><div class=\"pfill1\" style=\"width: 100px;\"></div></div><div class=\"pnum1\">100</div></div><div class=\"pholder2\"><div class=\"pname2\">AI: </div><div class=\"pbar2\"><div class=\"pfill2\" style=\"width: 99px;\"></div></div><div class=\"pnum2\">99</div></div></div><div class=\"EF\">1.60168</div><div class=\"AI\">4.8961</div></div></a></h3><div class=\"details\" id=\"20110027-8424\">Loading...</div><h3><a href=\"#20110036-8075\"><div class=\"results\"><div class=\"rank\">3</div><div class=\"journal\">SCIENCE<div class=\"issn\">ISSN: 0036-8075</div></div><div class=\"percentile\"><div class=\"pholder1\"><div class=\"pname1\">EF: </div><div class=\"pbar1\"><div class=\"pfill1\" style=\"width: 100px;\"></div></div><div class=\"pnum1\">100</div></div><div class=\"pholder2\"><div class=\"pname2\">AI: </div><div class=\"pbar2\"><div class=\"pfill2\" style=\"width: 100px;\"></div></div><div class=\"pnum2\">100</div></div></div><div class=\"EF\">1.41162</div><div class=\"AI\">17.5248</div></div></a></h3><div class=\"details\" id=\"20110036-8075\">Loading...</div><h3><a href=\"#20110031-9007\"><div class=\"results\"><div class=\"rank\">4</div><div class=\"journal\">PHYS REV LETT<div class=\"issn\">ISSN: 0031-9007</div></div><div class=\"percentile\"><div class=\"pholder1\"><div class=\"pname1\">EF: </div><div class=\"pbar1\"><div class=\"pfill1\" style=\"width: 100px;\"></div></div><div class=\"pnum1\">100</div></div><div class=\"pholder2\"><div class=\"pname2\">AI: </div><div class=\"pbar2\"><div class=\"pfill2\" style=\"width: 98px;\"></div></div><div class=\"pnum2\">98</div></div></div><div class=\"EF\">1.14457</div><div class=\"AI\">3.5175</div></div></a></h3><div class=\"details\" id=\"20110031-9007\">Loading...</div><h3><a href=\"#20110002-7863\"><div class=\"results\"><div class=\"rank\">5</div><div class=\"journal\">J AM CHEM SOC<div class=\"issn\">ISSN: 0002-7863</div></div><div class=\"percentile\"><div class=\"pholder1\"><div class=\"pname1\">EF: </div><div class=\"pbar1\"><div class=\"pfill1\" style=\"width: 100px;\"></div></div><div class=\"pnum1\">100</div></div><div class=\"pholder2\"><div class=\"pname2\">AI: </div><div class=\"pbar2\"><div class=\"pfill2\" style=\"width: 97px;\"></div></div><div class=\"pnum2\">97</div></div></div><div class=\"EF\">0.817303</div><div class=\"AI\">2.7989</div></div></a></h3><div class=\"details\" id=\"20110002-7863\">Loading...</div><h3><a href=\"#20111098-0121\"><div class=\"results\"><div class=\"rank\">6</div><div class=\"journal\">PHYS REV B<div class=\"issn\">ISSN: 1098-0121</div></div><div class=\"percentile\"><div class=\"pholder1\"><div class=\"pname1\">EF: </div><div class=\"pbar1\"><div class=\"pfill1\" style=\"width: 100px;\"></div></div><div class=\"pnum1\">100</div></div><div class=\"pholder2\"><div class=\"pname2\">AI: </div><div class=\"pbar2\"><div class=\"pfill2\" style=\"width: 89px;\"></div></div><div class=\"pnum2\">89</div></div></div><div class=\"EF\">0.756039</div><div class=\"AI\">1.4281</div></div></a></h3><div class=\"details\" id=\"20111098-0121\">Loading...</div><h3><a href=\"#20110021-9258\"><div class=\"results\"><div class=\"rank\">7</div><div class=\"journal\">J BIOL CHEM<div class=\"issn\">ISSN: 0021-9258</div></div><div class=\"percentile\"><div class=\"pholder1\"><div class=\"pname1\">EF: </div><div class=\"pbar1\"><div class=\"pfill1\" style=\"width: 100px;\"></div></div><div class=\"pnum1\">100</div></div><div class=\"pholder2\"><div class=\"pname2\">AI: </div><div class=\"pbar2\"><div class=\"pfill2\" style=\"width: 94px;\"></div></div><div class=\"pnum2\">94</div></div></div><div class=\"EF\">0.742127</div><div class=\"AI\">2.0307</div></div></a></h3><div class=\"details\" id=\"20110021-9258\">Loading...</div><h3><a href=\"#20110003-6951\"><div class=\"results\"><div class=\"rank\">8</div><div class=\"journal\">APPL PHYS LETT<div class=\"issn\">ISSN: 0003-6951</div></div><div class=\"percentile\"><div class=\"pholder1\"><div class=\"pname1\">EF: </div><div class=\"pbar1\"><div class=\"pfill1\" style=\"width: 100px;\"></div></div><div class=\"pnum1\">100</div></div><div class=\"pholder2\"><div class=\"pname2\">AI: </div><div class=\"pbar2\"><div class=\"pfill2\" style=\"width: 89px;\"></div></div><div class=\"pnum2\">89</div></div></div><div class=\"EF\">0.675752</div><div class=\"AI\">1.3875</div></div></a></h3><div class=\"details\" id=\"20110003-6951\">Loading...</div><h3><a href=\"#20110028-4793\"><div class=\"results\"><div class=\"rank\">9</div><div class=\"journal\">NEW ENGL J MED<div class=\"issn\">ISSN: 0028-4793</div></div><div class=\"percentile\"><div class=\"pholder1\"><div class=\"pname1\">EF: </div><div class=\"pbar1\"><div class=\"pfill1\" style=\"width: 100px;\"></div></div><div class=\"pnum1\">100</div></div><div class=\"pholder2\"><div class=\"pname2\">AI: </div><div class=\"pbar2\"><div class=\"pfill2\" style=\"width: 100px;\"></div></div><div class=\"pnum2\">100</div></div></div><div class=\"EF\">0.66383</div><div class=\"AI\">21.304</div></div></a></h3><div class=\"details\" id=\"20110028-4793\">Loading...</div><h3><a href=\"#20110092-8674\"><div class=\"results\"><div class=\"rank\">10</div><div class=\"journal\">CELL<div class=\"issn\">ISSN: 0092-8674</div></div><div class=\"percentile\"><div class=\"pholder1\"><div class=\"pname1\">EF: </div><div class=\"pbar1\"><div class=\"pfill1\" style=\"width: 100px;\"></div></div><div class=\"pnum1\">100</div></div><div class=\"pholder2\"><div class=\"pname2\">AI: </div><div class=\"pbar2\"><div class=\"pfill2\" style=\"width: 100px;\"></div></div><div class=\"pnum2\">100</div></div></div><div class=\"EF\">0.660816</div><div class=\"AI\">20.554</div></div></a></h3><div class=\"details\" id=\"20110092-8674\">Loading...</div><h3><a href=\"#20111433-7851\"><div class=\"results\"><div class=\"rank\">11</div><div class=\"journal\">ANGEW CHEM INT EDIT<div class=\"issn\">ISSN: 1433-7851</div></div><div class=\"percentile\"><div class=\"pholder1\"><div class=\"pname1\">EF: </div><div class=\"pbar1\"><div class=\"pfill1\" style=\"width: 100px;\"></div></div><div class=\"pnum1\">100</div></div><div class=\"pholder2\"><div class=\"pname2\">AI: </div><div class=\"pbar2\"><div class=\"pfill2\" style=\"width: 98px;\"></div></div><div class=\"pnum2\">98</div></div></div><div class=\"EF\">0.514213</div><div class=\"AI\">3.3776</div></div></a></h3><div class=\"details\" id=\"20111433-7851\">Loading...</div><h3><a href=\"#20111932-6203\"><div class=\"results\"><div class=\"rank\">12</div><div class=\"journal\">PLOS ONE<div class=\"issn\">ISSN: 1932-6203</div></div><div class=\"percentile\"><div class=\"pholder1\"><div class=\"pname1\">EF: </div><div class=\"pbar1\"><div class=\"pfill1\" style=\"width: 100px;\"></div></div><div class=\"pnum1\">100</div></div><div class=\"pholder2\"><div class=\"pname2\">AI: </div><div class=\"pbar2\"><div class=\"pfill2\" style=\"width: 93px;\"></div></div><div class=\"pnum2\">93</div></div></div><div class=\"EF\">0.501622</div><div class=\"AI\">1.7984</div></div></a></h3><div class=\"details\" id=\"20111932-6203\">Loading...</div><h3><a href=\"#20110270-6474\"><div class=\"results\"><div class=\"rank\">13</div><div class=\"journal\">J NEUROSCI<div class=\"issn\">ISSN: 0270-6474</div></div><div class=\"percentile\"><div class=\"pholder1\"><div class=\"pname1\">EF: </div><div class=\"pbar1\"><div class=\"pfill1\" style=\"width: 100px;\"></div></div><div class=\"pnum1\">100</div></div><div class=\"pholder2\"><div class=\"pname2\">AI: </div><div class=\"pbar2\"><div class=\"pfill2\" style=\"width: 97px;\"></div></div><div class=\"pnum2\">97</div></div></div><div class=\"EF\">0.449625</div><div class=\"AI\">3.2549</div></div></a></h3><div class=\"details\" id=\"20110270-6474\">Loading...</div><h3><a href=\"#20110004-637X\"><div class=\"results\"><div class=\"rank\">14</div><div class=\"journal\">ASTROPHYS J<div class=\"issn\">ISSN: 0004-637X</div></div><div class=\"percentile\"><div class=\"pholder1\"><div class=\"pname1\">EF: </div><div class=\"pbar1\"><div class=\"pfill1\" style=\"width: 100px;\"></div></div><div class=\"pnum1\">100</div></div><div class=\"pholder2\"><div class=\"pname2\">AI: </div><div class=\"pbar2\"><div class=\"pfill2\" style=\"width: 93px;\"></div></div><div class=\"pnum2\">93</div></div></div><div class=\"EF\">0.429616</div><div class=\"AI\">1.8047</div></div></a></h3><div class=\"details\" id=\"20110004-637X\">Loading...</div><h3><a href=\"#20110006-4971\"><div class=\"results\"><div class=\"rank\">15</div><div class=\"journal\">BLOOD<div class=\"issn\">ISSN: 0006-4971</div></div><div class=\"percentile\"><div class=\"pholder1\"><div class=\"pname1\">EF: </div><div class=\"pbar1\"><div class=\"pfill1\" style=\"width: 100px;\"></div></div><div class=\"pnum1\">100</div></div><div class=\"pholder2\"><div class=\"pname2\">AI: </div><div class=\"pbar2\"><div class=\"pfill2\" style=\"width: 98px;\"></div></div><div class=\"pnum2\">98</div></div></div><div class=\"EF\">0.427942</div><div class=\"AI\">3.692</div></div></a></h3><div class=\"details\" id=\"20110006-4971\">Loading...</div><h3><a href=\"#20110732-183X\"><div class=\"results\"><div class=\"rank\">16</div><div class=\"journal\">J CLIN ONCOL<div class=\"issn\">ISSN: 0732-183X</div></div><div class=\"percentile\"><div class=\"pholder1\"><div class=\"pname1\">EF: </div><div class=\"pbar1\"><div class=\"pfill1\" style=\"width: 100px;\"></div></div><div class=\"pnum1\">100</div></div><div class=\"pholder2\"><div class=\"pname2\">AI: </div><div class=\"pbar2\"><div class=\"pfill2\" style=\"width: 99px;\"></div></div><div class=\"pnum2\">99</div></div></div><div class=\"EF\">0.394631</div><div class=\"AI\">5.56</div></div></a></h3><div class=\"details\" id=\"20110732-183X\">Loading...</div><h3><a href=\"#20110022-1767\"><div class=\"results\"><div class=\"rank\">17</div><div class=\"journal\">J IMMUNOL<div class=\"issn\">ISSN: 0022-1767</div></div><div class=\"percentile\"><div class=\"pholder1\"><div class=\"pname1\">EF: </div><div class=\"pbar1\"><div class=\"pfill1\" style=\"width: 100px;\"></div></div><div class=\"pnum1\">100</div></div><div class=\"pholder2\"><div class=\"pname2\">AI: </div><div class=\"pbar2\"><div class=\"pfill2\" style=\"width: 95px;\"></div></div><div class=\"pnum2\">95</div></div></div><div class=\"EF\">0.369891</div><div class=\"AI\">2.2661</div></div></a></h3><div class=\"details\" id=\"20110022-1767\">Loading...</div><h3><a href=\"#20110008-5472\"><div class=\"results\"><div class=\"rank\">18</div><div class=\"journal\">CANCER RES<div class=\"issn\">ISSN: 0008-5472</div></div><div class=\"percentile\"><div class=\"pholder1\"><div class=\"pname1\">EF: </div><div class=\"pbar1\"><div class=\"pfill1\" style=\"width: 100px;\"></div></div><div class=\"pnum1\">100</div></div><div class=\"pholder2\"><div class=\"pname2\">AI: </div><div class=\"pbar2\"><div class=\"pfill2\" style=\"width: 97px;\"></div></div><div class=\"pnum2\">97</div></div></div><div class=\"EF\">0.362734</div><div class=\"AI\">3.0995</div></div></a></h3><div class=\"details\" id=\"20110008-5472\">Loading...</div><h3><a href=\"#20110140-6736\"><div class=\"results\"><div class=\"rank\">19</div><div class=\"journal\">LANCET<div class=\"issn\">ISSN: 0140-6736</div></div><div class=\"percentile\"><div class=\"pholder1\"><div class=\"pname1\">EF: </div><div class=\"pbar1\"><div class=\"pfill1\" style=\"width: 100px;\"></div></div><div class=\"pnum1\">100</div></div><div class=\"pholder2\"><div class=\"pname2\">AI: </div><div class=\"pbar2\"><div class=\"pfill2\" style=\"width: 100px;\"></div></div><div class=\"pnum2\">100</div></div></div><div class=\"EF\">0.360954</div><div class=\"AI\">13.6107</div></div></a></h3><div class=\"details\" id=\"20110140-6736\">Loading...</div><h3><a href=\"#20111530-6984\"><div class=\"results\"><div class=\"rank\">20</div><div class=\"journal\">NANO LETT<div class=\"issn\">ISSN: 1530-6984</div></div><div class=\"percentile\"><div class=\"pholder1\"><div class=\"pname1\">EF: </div><div class=\"pbar1\"><div class=\"pfill1\" style=\"width: 100px;\"></div></div><div class=\"pnum1\">100</div></div><div class=\"pholder2\"><div class=\"pname2\">AI: </div><div class=\"pbar2\"><div class=\"pfill2\" style=\"width: 99px;\"></div></div><div class=\"pnum2\">99</div></div></div><div class=\"EF\">0.345906</div><div class=\"AI\">5.0701</div></div></a></h3><div class=\"details\" id=\"20111530-6984\">Loading...</div><h3><a href=\"#20110009-7322\"><div class=\"results\"><div class=\"rank\">21</div><div class=\"journal\">CIRCULATION<div class=\"issn\">ISSN: 0009-7322</div></div><div class=\"percentile\"><div class=\"pholder1\"><div class=\"pname1\">EF: </div><div class=\"pbar1\"><div class=\"pfill1\" style=\"width: 100px;\"></div></div><div class=\"pnum1\">100</div></div><div class=\"pholder2\"><div class=\"pname2\">AI: </div><div class=\"pbar2\"><div class=\"pfill2\" style=\"width: 99px;\"></div></div><div class=\"pnum2\">99</div></div></div><div class=\"EF\">0.339278</div><div class=\"AI\">5.9733</div></div></a></h3><div class=\"details\" id=\"20110009-7322\">Loading...</div><h3><a href=\"#20110148-0227\"><div class=\"results\"><div class=\"rank\">22</div><div class=\"journal\">J GEOPHYS RES<div class=\"issn\">ISSN: 0148-0227</div></div><div class=\"percentile\"><div class=\"pholder1\"><div class=\"pname1\">EF: </div><div class=\"pbar1\"><div class=\"pfill1\" style=\"width: 100px;\"></div></div><div class=\"pnum1\">100</div></div><div class=\"pholder2\"><div class=\"pname2\">AI: </div><div class=\"pbar2\"><div class=\"pfill2\" style=\"width: 89px;\"></div></div><div class=\"pnum2\">89</div></div></div><div class=\"EF\">0.332456</div><div class=\"AI\">1.4057</div></div></a></h3><div class=\"details\" id=\"20110148-0227\">Loading...</div><h3><a href=\"#20111061-4036\"><div class=\"results\"><div class=\"rank\">23</div><div class=\"journal\">NAT GENET<div class=\"issn\">ISSN: 1061-4036</div></div><div class=\"percentile\"><div class=\"pholder1\"><div class=\"pname1\">EF: </div><div class=\"pbar1\"><div class=\"pfill1\" style=\"width: 100px;\"></div></div><div class=\"pnum1\">100</div></div><div class=\"pholder2\"><div class=\"pname2\">AI: </div><div class=\"pbar2\"><div class=\"pfill2\" style=\"width: 100px;\"></div></div><div class=\"pnum2\">100</div></div></div><div class=\"EF\">0.329901</div><div class=\"AI\">17.5835</div></div></a></h3><div class=\"details\" id=\"20111061-4036\">Loading...</div><h3><a href=\"#20110305-1048\"><div class=\"results\"><div class=\"rank\">24</div><div class=\"journal\">NUCLEIC ACIDS RES<div class=\"issn\">ISSN: 0305-1048</div></div><div class=\"percentile\"><div class=\"pholder1\"><div class=\"pname1\">EF: </div><div class=\"pbar1\"><div class=\"pfill1\" style=\"width: 100px;\"></div></div><div class=\"pnum1\">100</div></div><div class=\"pholder2\"><div class=\"pname2\">AI: </div><div class=\"pbar2\"><div class=\"pfill2\" style=\"width: 97px;\"></div></div><div class=\"pnum2\">97</div></div></div><div class=\"EF\">0.304882</div><div class=\"AI\">3.0072</div></div></a></h3><div class=\"details\" id=\"20110305-1048\">Loading...</div><h3><a href=\"#20110021-8979\"><div class=\"results\"><div class=\"rank\">25</div><div class=\"journal\">J APPL PHYS<div class=\"issn\">ISSN: 0021-8979</div></div><div class=\"percentile\"><div class=\"pholder1\"><div class=\"pname1\">EF: </div><div class=\"pbar1\"><div class=\"pfill1\" style=\"width: 100px;\"></div></div><div class=\"pnum1\">100</div></div><div class=\"pholder2\"><div class=\"pname2\">AI: </div><div class=\"pbar2\"><div class=\"pfill2\" style=\"width: 73px;\"></div></div><div class=\"pnum2\">73</div></div></div><div class=\"EF\">0.301562</div><div class=\"AI\">0.8355</div></div></a></h3><div class=\"details\" id=\"20110021-8979\">Loading...</div><h3><a href=\"#20111550-7998\"><div class=\"results\"><div class=\"rank\">26</div><div class=\"journal\">PHYS REV D<div class=\"issn\">ISSN: 1550-7998</div></div><div class=\"percentile\"><div class=\"pholder1\"><div class=\"pname1\">EF: </div><div class=\"pbar1\"><div class=\"pfill1\" style=\"width: 100px;\"></div></div><div class=\"pnum1\">100</div></div><div class=\"pholder2\"><div class=\"pname2\">AI: </div><div class=\"pbar2\"><div class=\"pfill2\" style=\"width: 86px;\"></div></div><div class=\"pnum2\">86</div></div></div><div class=\"EF\">0.300804</div><div class=\"AI\">1.2451</div></div></a></h3><div class=\"details\" id=\"20111550-7998\">Loading...</div><h3><a href=\"#20110098-7484\"><div class=\"results\"><div class=\"rank\">27</div><div class=\"journal\">JAMA-J AM MED ASSOC<div class=\"issn\">ISSN: 0098-7484</div></div><div class=\"percentile\"><div class=\"pholder1\"><div class=\"pname1\">EF: </div><div class=\"pbar1\"><div class=\"pfill1\" style=\"width: 100px;\"></div></div><div class=\"pnum1\">100</div></div><div class=\"pholder2\"><div class=\"pname2\">AI: </div><div class=\"pbar2\"><div class=\"pfill2\" style=\"width: 100px;\"></div></div><div class=\"pnum2\">100</div></div></div><div class=\"EF\">0.285664</div><div class=\"AI\">13.111</div></div></a></h3><div class=\"details\" id=\"20110098-7484\">Loading...</div><h3><a href=\"#20111932-7447\"><div class=\"results\"><div class=\"rank\">28</div><div class=\"journal\">J PHYS CHEM C<div class=\"issn\">ISSN: 1932-7447</div></div><div class=\"percentile\"><div class=\"pholder1\"><div class=\"pname1\">EF: </div><div class=\"pbar1\"><div class=\"pfill1\" style=\"width: 100px;\"></div></div><div class=\"pnum1\">100</div></div><div class=\"pholder2\"><div class=\"pname2\">AI: </div><div class=\"pbar2\"><div class=\"pfill2\" style=\"width: 88px;\"></div></div><div class=\"pnum2\">88</div></div></div><div class=\"EF\">0.284716</div><div class=\"AI\">1.3421</div></div></a></h3><div class=\"details\" id=\"20111932-7447\">Loading...</div><h3><a href=\"#20110935-9648\"><div class=\"results\"><div class=\"rank\">29</div><div class=\"journal\">ADV MATER<div class=\"issn\">ISSN: 0935-9648</div></div><div class=\"percentile\"><div class=\"pholder1\"><div class=\"pname1\">EF: </div><div class=\"pbar1\"><div class=\"pfill1\" style=\"width: 100px;\"></div></div><div class=\"pnum1\">100</div></div><div class=\"pholder2\"><div class=\"pname2\">AI: </div><div class=\"pbar2\"><div class=\"pfill2\" style=\"width: 98px;\"></div></div><div class=\"pnum2\">98</div></div></div><div class=\"EF\">0.262413</div><div class=\"AI\">4.0706</div></div></a></h3><div class=\"details\" id=\"20110935-9648\">Loading...</div><h3><a href=\"#20110004-6361\"><div class=\"results\"><div class=\"rank\">30</div><div class=\"journal\">ASTRON ASTROPHYS<div class=\"issn\">ISSN: 0004-6361</div></div><div class=\"percentile\"><div class=\"pholder1\"><div class=\"pname1\">EF: </div><div class=\"pbar1\"><div class=\"pfill1\" style=\"width: 100px;\"></div></div><div class=\"pnum1\">100</div></div><div class=\"pholder2\"><div class=\"pname2\">AI: </div><div class=\"pbar2\"><div class=\"pfill2\" style=\"width: 90px;\"></div></div><div class=\"pnum2\">90</div></div></div><div class=\"EF\">0.254252</div><div class=\"AI\">1.4742</div></div></a></h3><div class=\"details\" id=\"20110004-6361\">Loading...</div><h3><a href=\"#20111097-2765\"><div class=\"results\"><div class=\"rank\">31</div><div class=\"journal\">MOL CELL<div class=\"issn\">ISSN: 1097-2765</div></div><div class=\"percentile\"><div class=\"pholder1\"><div class=\"pname1\">EF: </div><div class=\"pbar1\"><div class=\"pfill1\" style=\"width: 100px;\"></div></div><div class=\"pnum1\">100</div></div><div class=\"pholder2\"><div class=\"pname2\">AI: </div><div class=\"pbar2\"><div class=\"pfill2\" style=\"width: 100px;\"></div></div><div class=\"pnum2\">100</div></div></div><div class=\"EF\">0.250753</div><div class=\"AI\">8.9479</div></div></a></h3><div class=\"details\" id=\"20111097-2765\">Loading...</div><h3><a href=\"#20110035-8711\"><div class=\"results\"><div class=\"rank\">32</div><div class=\"journal\">MON NOT R ASTRON SOC<div class=\"issn\">ISSN: 0035-8711</div></div><div class=\"percentile\"><div class=\"pholder1\"><div class=\"pname1\">EF: </div><div class=\"pbar1\"><div class=\"pfill1\" style=\"width: 100px;\"></div></div><div class=\"pnum1\">100</div></div><div class=\"pholder2\"><div class=\"pname2\">AI: </div><div class=\"pbar2\"><div class=\"pfill2\" style=\"width: 91px;\"></div></div><div class=\"pnum2\">91</div></div></div><div class=\"EF\">0.248839</div><div class=\"AI\">1.6034</div></div></a></h3><div class=\"details\" id=\"20110035-8711\">Loading...</div><h3><a href=\"#20111520-6106\"><div class=\"results\"><div class=\"rank\">33</div><div class=\"journal\">J PHYS CHEM B<div class=\"issn\">ISSN: 1520-6106</div></div><div class=\"percentile\"><div class=\"pholder1\"><div class=\"pname1\">EF: </div><div class=\"pbar1\"><div class=\"pfill1\" style=\"width: 100px;\"></div></div><div class=\"pnum1\">100</div></div><div class=\"pholder2\"><div class=\"pname2\">AI: </div><div class=\"pbar2\"><div class=\"pfill2\" style=\"width: 84px;\"></div></div><div class=\"pnum2\">84</div></div></div><div class=\"EF\">0.246515</div><div class=\"AI\">1.1608</div></div></a></h3><div class=\"details\" id=\"20111520-6106\">Loading...</div><h3><a href=\"#20111359-7345\"><div class=\"results\"><div class=\"rank\">34</div><div class=\"journal\">CHEM COMMUN<div class=\"issn\">ISSN: 1359-7345</div></div><div class=\"percentile\"><div class=\"pholder1\"><div class=\"pname1\">EF: </div><div class=\"pbar1\"><div class=\"pfill1\" style=\"width: 100px;\"></div></div><div class=\"pnum1\">100</div></div><div class=\"pholder2\"><div class=\"pname2\">AI: </div><div class=\"pbar2\"><div class=\"pfill2\" style=\"width: 91px;\"></div></div><div class=\"pnum2\">91</div></div></div><div class=\"EF\">0.241003</div><div class=\"AI\">1.5516</div></div></a></h3><div class=\"details\" id=\"20111359-7345\">Loading...</div><h3><a href=\"#20111094-4087\"><div class=\"results\"><div class=\"rank\">35</div><div class=\"journal\">OPT EXPRESS<div class=\"issn\">ISSN: 1094-4087</div></div><div class=\"percentile\"><div class=\"pholder1\"><div class=\"pname1\">EF: </div><div class=\"pbar1\"><div class=\"pfill1\" style=\"width: 100px;\"></div></div><div class=\"pnum1\">100</div></div><div class=\"pholder2\"><div class=\"pname2\">AI: </div><div class=\"pbar2\"><div class=\"pfill2\" style=\"width: 85px;\"></div></div><div class=\"pnum2\">85</div></div></div><div class=\"EF\">0.240848</div><div class=\"AI\">1.1685</div></div></a></h3><div class=\"details\" id=\"20111094-4087\">Loading...</div><h3><a href=\"#20110094-8276\"><div class=\"results\"><div class=\"rank\">36</div><div class=\"journal\">GEOPHYS RES LETT<div class=\"issn\">ISSN: 0094-8276</div></div><div class=\"percentile\"><div class=\"pholder1\"><div class=\"pname1\">EF: </div><div class=\"pbar1\"><div class=\"pfill1\" style=\"width: 100px;\"></div></div><div class=\"pnum1\">100</div></div><div class=\"pholder2\"><div class=\"pname2\">AI: </div><div class=\"pbar2\"><div class=\"pfill2\" style=\"width: 94px;\"></div></div><div class=\"pnum2\">94</div></div></div><div class=\"EF\">0.23991</div><div class=\"AI\">1.9391</div></div></a></h3><div class=\"details\" id=\"20110094-8276\">Loading...</div><h3><a href=\"#20110021-9606\"><div class=\"results\"><div class=\"rank\">37</div><div class=\"journal\">J CHEM PHYS<div class=\"issn\">ISSN: 0021-9606</div></div><div class=\"percentile\"><div class=\"pholder1\"><div class=\"pname1\">EF: </div><div class=\"pbar1\"><div class=\"pfill1\" style=\"width: 100px;\"></div></div><div class=\"pnum1\">100</div></div><div class=\"pholder2\"><div class=\"pname2\">AI: </div><div class=\"pbar2\"><div class=\"pfill2\" style=\"width: 80px;\"></div></div><div class=\"pnum2\">80</div></div></div><div class=\"EF\">0.232653</div><div class=\"AI\">0.9931</div></div></a></h3><div class=\"details\" id=\"20110021-9606\">Loading...</div><h3><a href=\"#20110896-6273\"><div class=\"results\"><div class=\"rank\">38</div><div class=\"journal\">NEURON<div class=\"issn\">ISSN: 0896-6273</div></div><div class=\"percentile\"><div class=\"pholder1\"><div class=\"pname1\">EF: </div><div class=\"pbar1\"><div class=\"pfill1\" style=\"width: 100px;\"></div></div><div class=\"pnum1\">100</div></div><div class=\"pholder2\"><div class=\"pname2\">AI: </div><div class=\"pbar2\"><div class=\"pfill2\" style=\"width: 99px;\"></div></div><div class=\"pnum2\">99</div></div></div><div class=\"EF\">0.227501</div><div class=\"AI\">8.5079</div></div></a></h3><div class=\"details\" id=\"20110896-6273\">Loading...</div><h3><a href=\"#20110743-7463\"><div class=\"results\"><div class=\"rank\">39</div><div class=\"journal\">LANGMUIR<div class=\"issn\">ISSN: 0743-7463</div></div><div class=\"percentile\"><div class=\"pholder1\"><div class=\"pname1\">EF: </div><div class=\"pbar1\"><div class=\"pfill1\" style=\"width: 100px;\"></div></div><div class=\"pnum1\">100</div></div><div class=\"pholder2\"><div class=\"pname2\">AI: </div><div class=\"pbar2\"><div class=\"pfill2\" style=\"width: 85px;\"></div></div><div class=\"pnum2\">85</div></div></div><div class=\"EF\">0.22322</div><div class=\"AI\">1.1824</div></div></a></h3><div class=\"details\" id=\"20110743-7463\">Loading...</div><h3><a href=\"#20111476-1122\"><div class=\"results\"><div class=\"rank\">40</div><div class=\"journal\">NAT MATER<div class=\"issn\">ISSN: 1476-1122</div></div><div class=\"percentile\"><div class=\"pholder1\"><div class=\"pname1\">EF: </div><div class=\"pbar1\"><div class=\"pfill1\" style=\"width: 100px;\"></div></div><div class=\"pnum1\">100</div></div><div class=\"pholder2\"><div class=\"pname2\">AI: </div><div class=\"pbar2\"><div class=\"pfill2\" style=\"width: 100px;\"></div></div><div class=\"pnum2\">100</div></div></div><div class=\"EF\">0.220911</div><div class=\"AI\">17.9245</div></div></a></h3><div class=\"details\" id=\"20111476-1122\">Loading...</div><h3><a href=\"#20110735-1097\"><div class=\"results\"><div class=\"rank\">41</div><div class=\"journal\">J AM COLL CARDIOL<div class=\"issn\">ISSN: 0735-1097</div></div><div class=\"percentile\"><div class=\"pholder1\"><div class=\"pname1\">EF: </div><div class=\"pbar1\"><div class=\"pfill1\" style=\"width: 100px;\"></div></div><div class=\"pnum1\">100</div></div><div class=\"pholder2\"><div class=\"pname2\">AI: </div><div class=\"pbar2\"><div class=\"pfill2\" style=\"width: 99px;\"></div></div><div class=\"pnum2\">99</div></div></div><div class=\"EF\">0.22035</div><div class=\"AI\">4.884</div></div></a></h3><div class=\"details\" id=\"20110735-1097\">Loading...</div><h3><a href=\"#20111050-2947\"><div class=\"results\"><div class=\"rank\">42</div><div class=\"journal\">PHYS REV A<div class=\"issn\">ISSN: 1050-2947</div></div><div class=\"percentile\"><div class=\"pholder1\"><div class=\"pname1\">EF: </div><div class=\"pbar1\"><div class=\"pfill1\" style=\"width: 100px;\"></div></div><div class=\"pnum1\">100</div></div><div class=\"pholder2\"><div class=\"pname2\">AI: </div><div class=\"pbar2\"><div class=\"pfill2\" style=\"width: 79px;\"></div></div><div class=\"pnum2\">79</div></div></div><div class=\"EF\">0.219831</div><div class=\"AI\">0.9797</div></div></a></h3><div class=\"details\" id=\"20111050-2947\">Loading...</div><h3><a href=\"#20110021-9738\"><div class=\"results\"><div class=\"rank\">43</div><div class=\"journal\">J CLIN INVEST<div class=\"issn\">ISSN: 0021-9738</div></div><div class=\"percentile\"><div class=\"pholder1\"><div class=\"pname1\">EF: </div><div class=\"pbar1\"><div class=\"pfill1\" style=\"width: 100px;\"></div></div><div class=\"pnum1\">100</div></div><div class=\"pholder2\"><div class=\"pname2\">AI: </div><div class=\"pbar2\"><div class=\"pfill2\" style=\"width: 99px;\"></div></div><div class=\"pnum2\">99</div></div></div><div class=\"EF\">0.218367</div><div class=\"AI\">6.9507</div></div></a></h3><div class=\"details\" id=\"20110021-9738\">Loading...</div><h3><a href=\"#20110009-2665\"><div class=\"results\"><div class=\"rank\">44</div><div class=\"journal\">CHEM REV<div class=\"issn\">ISSN: 0009-2665</div></div><div class=\"percentile\"><div class=\"pholder1\"><div class=\"pname1\">EF: </div><div class=\"pbar1\"><div class=\"pfill1\" style=\"width: 100px;\"></div></div><div class=\"pnum1\">100</div></div><div class=\"pholder2\"><div class=\"pname2\">AI: </div><div class=\"pbar2\"><div class=\"pfill2\" style=\"width: 100px;\"></div></div><div class=\"pnum2\">100</div></div></div><div class=\"EF\">0.214699</div><div class=\"AI\">13.3332</div></div></a></h3><div class=\"details\" id=\"20110009-2665\">Loading...</div><h3><a href=\"#20110890-9369\"><div class=\"results\"><div class=\"rank\">45</div><div class=\"journal\">GENE DEV<div class=\"issn\">ISSN: 0890-9369</div></div><div class=\"percentile\"><div class=\"pholder1\"><div class=\"pname1\">EF: </div><div class=\"pbar1\"><div class=\"pfill1\" style=\"width: 100px;\"></div></div><div class=\"pnum1\">100</div></div><div class=\"pholder2\"><div class=\"pname2\">AI: </div><div class=\"pbar2\"><div class=\"pfill2\" style=\"width: 99px;\"></div></div><div class=\"pnum2\">99</div></div></div><div class=\"EF\">0.209552</div><div class=\"AI\">8.0181</div></div></a></h3><div class=\"details\" id=\"20110890-9369\">Loading...</div><h3><a href=\"#20111078-0432\"><div class=\"results\"><div class=\"rank\">46</div><div class=\"journal\">CLIN CANCER RES<div class=\"issn\">ISSN: 1078-0432</div></div><div class=\"percentile\"><div class=\"pholder1\"><div class=\"pname1\">EF: </div><div class=\"pbar1\"><div class=\"pfill1\" style=\"width: 100px;\"></div></div><div class=\"pnum1\">100</div></div><div class=\"pholder2\"><div class=\"pname2\">AI: </div><div class=\"pbar2\"><div class=\"pfill2\" style=\"width: 96px;\"></div></div><div class=\"pnum2\">96</div></div></div><div class=\"EF\">0.20597</div><div class=\"AI\">2.538</div></div></a></h3><div class=\"details\" id=\"20111078-0432\">Loading...</div><h3><a href=\"#20111539-3755\"><div class=\"results\"><div class=\"rank\">47</div><div class=\"journal\">PHYS REV E<div class=\"issn\">ISSN: 1539-3755</div></div><div class=\"percentile\"><div class=\"pholder1\"><div class=\"pname1\">EF: </div><div class=\"pbar1\"><div class=\"pfill1\" style=\"width: 100px;\"></div></div><div class=\"pnum1\">100</div></div><div class=\"pholder2\"><div class=\"pname2\">AI: </div><div class=\"pbar2\"><div class=\"pfill2\" style=\"width: 79px;\"></div></div><div class=\"pnum2\">79</div></div></div><div class=\"EF\">0.205905</div><div class=\"AI\">0.958</div></div></a></h3><div class=\"details\" id=\"20111539-3755\">Loading...</div><h3><a href=\"#20110022-538X\"><div class=\"results\"><div class=\"rank\">48</div><div class=\"journal\">J VIROL<div class=\"issn\">ISSN: 0022-538X</div></div><div class=\"percentile\"><div class=\"pholder1\"><div class=\"pname1\">EF: </div><div class=\"pbar1\"><div class=\"pfill1\" style=\"width: 100px;\"></div></div><div class=\"pnum1\">100</div></div><div class=\"pholder2\"><div class=\"pname2\">AI: </div><div class=\"pbar2\"><div class=\"pfill2\" style=\"width: 91px;\"></div></div><div class=\"pnum2\">91</div></div></div><div class=\"EF\">0.190607</div><div class=\"AI\">1.5928</div></div></a></h3><div class=\"details\" id=\"20110022-538X\">Loading...</div><h3><a href=\"#20110013-936X\"><div class=\"results\"><div class=\"rank\">49</div><div class=\"journal\">ENVIRON SCI TECHNOL<div class=\"issn\">ISSN: 0013-936X</div></div><div class=\"percentile\"><div class=\"pholder1\"><div class=\"pname1\">EF: </div><div class=\"pbar1\"><div class=\"pfill1\" style=\"width: 100px;\"></div></div><div class=\"pnum1\">100</div></div><div class=\"pholder2\"><div class=\"pname2\">AI: </div><div class=\"pbar2\"><div class=\"pfill2\" style=\"width: 91px;\"></div></div><div class=\"pnum2\">91</div></div></div><div class=\"EF\">0.189289</div><div class=\"AI\">1.6039</div></div></a></h3><div class=\"details\" id=\"20110013-936X\">Loading...</div><h3><a href=\"#20110022-1007\"><div class=\"results\"><div class=\"rank\">50</div><div class=\"journal\">J EXP MED<div class=\"issn\">ISSN: 0022-1007</div></div><div class=\"percentile\"><div class=\"pholder1\"><div class=\"pname1\">EF: </div><div class=\"pbar1\"><div class=\"pfill1\" style=\"width: 100px;\"></div></div><div class=\"pnum1\">100</div></div><div class=\"pholder2\"><div class=\"pname2\">AI: </div><div class=\"pbar2\"><div class=\"pfill2\" style=\"width: 99px;\"></div></div><div class=\"pnum2\">99</div></div></div><div class=\"EF\">0.188512</div><div class=\"AI\">7.8344</div></div></a></h3><div class=\"details\" id=\"20110022-1007\">Loading...</div></div><ul class=\"pagination\"><li class=\"detailsPG\">Page 1 of 215</li><li><a class=\"current\">1</a></li><li><a href=\"?bsearch=2011&amp;searchby=year&amp;orderby=eigenfactor&amp;page=2\">2</a></li><li><a href=\"?bsearch=2011&amp;searchby=year&amp;orderby=eigenfactor&amp;page=3\">3</a></li><li><a href=\"?bsearch=2011&amp;searchby=year&amp;orderby=eigenfactor&amp;page=4\">4</a></li><li><a href=\"?bsearch=2011&amp;searchby=year&amp;orderby=eigenfactor&amp;page=5\">5</a></li><li><a href=\"?bsearch=2011&amp;searchby=year&amp;orderby=eigenfactor&amp;page=6\">6</a></li><li><a href=\"?bsearch=2011&amp;searchby=year&amp;orderby=eigenfactor&amp;page=7\">7</a></li><li class=\"dot\">...</li><li><a href=\"?bsearch=2011&amp;searchby=year&amp;orderby=eigenfactor&amp;page=214\">214</a></li><li><a href=\"?bsearch=2011&amp;searchby=year&amp;orderby=eigenfactor&amp;page=215\">215</a></li><li><a href=\"?bsearch=2011&amp;searchby=year&amp;orderby=eigenfactor&amp;page=2\">Next</a></li><li><a href=\"?bsearch=2011&amp;searchby=year&amp;orderby=eigenfactor&amp;page=215\">Last</a></li></ul>\n",
        "</div>\n",
        "<!-- End Content Box -->\n",
        "<!-- End of Content -->\n",
        "<!-- Space Bar1 -->\n",
        "<div class=\"spacebar1\"></div>\n",
        "<!-- Footer -->\n",
        "<div class=\"footer\"><p>Copyright \u00a9 2012 <a href=\"http://www.washington.edu/\">University of Washington</a></p></div>\n",
        "</div>\n",
        "<!-- End Content -->\n",
        "<!-- Right Panel -->\n",
        "<div class=\"rightside\"></div>\n",
        "</div>\n",
        "<!-- End Main Container -->\n",
        "</body>\n",
        "</html>"
       ]
      }
     ],
     "prompt_number": 23
    },
    {
     "cell_type": "code",
     "collapsed": false,
     "input": [
      "z = data[0].split('div class=\"results\">')\n",
      "z[0]"
     ],
     "language": "python",
     "metadata": {},
     "outputs": [
      {
       "metadata": {},
       "output_type": "pyout",
       "prompt_number": 40,
       "text": [
        "'\\r\\n\\r\\n\\r\\n\\t\\t\\t\\r\\n\\t\\t\\t<html lang=\"en-US\">\\r\\n\\r\\n\\t\\t\\t<head>\\r\\n\\r\\n\\t\\t\\t\\t<meta name=\"author\" content=\"Jevin D. West\"></meta>\\r\\n\\t\\t\\t\\t<meta name=\"description\" content=\"Eigenfactor: ranking and mapping scientific knowledge\"></meta> \\r\\n\\t\\t\\t\\t<meta name=\"keywords\" content=\"Eigenfactor, journal ranking, mapping science\"></meta>\\r\\n\\t\\t\\t\\t \\r\\n\\t\\t\\t\\t<title>Eigenfactor</title>\\r\\n\\t\\t\\t\\t<link rel=\"shortcut icon\" href=\"http://www.eigenfactor.org/images/EFlogo.png\" type=\"image/png\" />\\r\\n\\r\\n\\r\\n\\t\\t\\t\\t<link rel=\"stylesheet\" href=\"http://www.eigenfactor.org/css/ef.css\" type=\"text/css\"></link>\\r\\n\\t\\t\\t\\t\\r\\n\\t\\t\\t\\t<link rel=\"stylesheet\" href=\"http://www.eigenfactor.org/css/p7exp.css\" type=\"text/css\"></link>\\t\\r\\n\\t\\t\\t\\t<link rel=\"stylesheet\" href=\"http://www.eigenfactor.org/css/quickmenu_styles.css\" type=\"text/css\"></link>\\r\\n\\t\\t\\t\\t\\r\\n\\t\\t\\t\\t<link rel=\"stylesheet\" href=\"http://www.eigenfactor.org/css/jquery-ui-1.8.16.custom.css\" type=\"text/css\"></link>\\r\\n\\t\\t\\t\\t<link rel=\"stylesheet\" type=\"text/css\" href=\"http://www.eigenfactor.org/css/jquery.jqplot.css\" />\\r\\n\\t\\t\\t\\t\\r\\n\\t\\t\\t\\t\\r\\n\\t\\t\\t\\t<script type=\"text/javascript\" src=\"http://www.eigenfactor.org/js/quickmenu.js\"></script>\\r\\n\\t\\t\\t\\t<script type=\"text/javascript\" src=\"http://www.eigenfactor.org/js/p7exp.js\"></script>\\t\\t\\r\\n\\t\\t\\t\\t\\r\\n\\t\\t\\t\\t<script type=\"text/javascript\" src=\"http://www.eigenfactor.org/js/jquery-1.6.2.min.js\"></script>\\r\\n\\t\\t\\t\\t<script type=\"text/javascript\" src=\"http://www.eigenfactor.org/js/jquery-ui-1.8.16.custom.min.js\"></script>\\t\\t\\r\\n\\t\\t\\t\\t\\r\\n\\t\\t\\t</head>\\r\\n\\r\\n\\r\\n\\t\\t\\t<body>\\r\\n\\t\\t\\t\\t\\r\\n\\t\\t\\t\\t<!-- Main Container -->\\r\\n\\t\\t\\t\\t<div class=\"container\">\\r\\n\\r\\n\\t\\t\\t\\t  <!-- Left Panel -->\\r\\n\\t\\t\\t\\t\\t<div class=\"leftside\"></div>\\r\\n\\r\\n\\t\\t\\t\\t\\t<!-- Content -->\\r\\n\\t\\t\\t\\t\\t<div class=\"middleside\">\\r\\n\\t\\t\\t\\t\\t\\t\\r\\n\\t\\t\\t\\t\\t\\t<!-- Header -->\\r\\n\\t\\t\\t\\t\\t\\t<div id=\"headerimage\"><a href=\"http://www.eigenfactor.org\"><img src=\"http://www.eigenfactor.org/images/header.jpg\" width=\"700\" height=\"150\" border=\"0\" /></a></div>\\r\\n\\t\\t\\t\\t\\t\\t\\r\\n\\t\\t\\t\\t\\t\\t<!-- Space Bar -->\\r\\n\\t\\t\\t\\t\\t\\t<div class=\"spacebar1\"></div>\\r\\n\\r\\n\\t\\t\\t\\t\\t\\t\\r\\n\\t\\t\\t\\t\\t\\t\\r\\n\\t\\t\\t\\t\\t\\t<!-- Navigation Bar -->\\r\\n\\t\\t\\t\\t\\t\\t<div class=\"navigation\">\\r\\n\\r\\n\\t\\t\\t\\t\\t\\t\\t<!-- navigation contents -->\\r\\n\\t\\t\\t\\t\\t\\t\\t<ul id=\"qm0\" class=\"qmmc\">\\r\\n\\r\\n\\t\\t\\t\\t\\t\\t\\t\\t<li><a class=\"qmparent\" href=\"http://www.eigenfactor.org/index.php\">eigenfactor search</a>\\r\\n\\t\\t\\t\\t\\t\\t\\t\\t    <ul>\\r\\n\\t\\t\\t\\t\\t\\t\\t\\t       <li><a href=\"http://www.eigenfactor.org/motion/\">motion graphs</a></li>\\r\\n\\t\\t\\t\\t\\t\\t\\t\\t       <li><span class=\"qmdivider qmdividerx\" ></span></li>\\r\\n\\t\\t\\t\\t\\t\\t\\t\\t       <li><a href=\"http://www.eigenfactor.org/advanced.php\">advanced search</a></li>\\r\\n\\t\\t\\t\\t\\t\\t\\t\\t    </ul>\\r\\n\\t\\t\\t\\t\\t\\t\\t\\t</li>\\r\\n\\r\\n\\t\\t\\t\\t\\t\\t\\t\\t<li><span class=\"qmdivider qmdividery\" ></span></li>\\r\\n\\r\\n\\t\\t\\t\\t\\t\\t\\t\\t<li><a class=\"qmparent\" href=\"/map/index.php\">mapping</a>\\r\\n\\t\\t\\t\\t\\t\\t\\t\\t\\t  <ul>\\r\\n\\t\\t\\t\\t\\t\\t\\t\\t\\t     <li><a href=\"http://www.eigenfactor.org/map/index.php\">interactive browser</a></li>\\r\\n\\t\\t\\t\\t\\t\\t\\t         <li><a href=\"http://www.eigenfactor.org/map/maps.php\">maps</a></li>\\r\\n\\t\\t\\t\\t\\t\\t\\t\\t\\t\\t\\t<li><a href=\"http://mas.eigenfactor.org/journalLevel/indexIframe.php\">mas</a></li>\\r\\n\\t\\t\\t\\t\\t\\t\\t\\t\\t     <li><a href=\"http://www.eigenfactor.org/map/methods.php\">methods</a></li>\\r\\n\\t\\t\\t\\t\\t\\t\\t\\t\\t     <li><span class=\"qmdivider qmdividerx\" ></span></li>\\r\\n\\t\\t\\t\\t\\t\\t\\t\\t\\t\\t\\t <li><a href=\"http://www.mapequation.org\">mapequation.org</a></li>\\r\\n\\t\\t\\t\\t\\t\\t\\t\\t\\t  </ul>\\r\\n\\t\\t\\t\\t\\t\\t\\t\\t</li>\\r\\n\\r\\n\\t\\t\\t\\t\\t\\t\\t\\t<li><span class=\"qmdivider qmdividery\" ></span></li>\\r\\n\\r\\n\\t\\t\\t\\t\\t\\t\\t\\t<li><a class=\"qmparent\" href=\"http://www.eigenfactor.org/methods.php\">information</a>\\r\\n\\t\\t\\t\\t\\t\\t\\t\\t\\t  <ul>\\r\\n\\t\\t\\t\\t\\t\\t\\t\\t\\t     <li><a href=\"http://www.eigenfactor.org/whyeigenfactor.php\">why eigenfactor</a></li>\\r\\n\\t\\t\\t\\t\\t\\t\\t\\t\\t     <li><a href=\"http://www.eigenfactor.org/methods.php\">methods</a></li>\\r\\n\\t\\t\\t\\t\\t\\t\\t\\t\\t     <li><a href=\"http://www.eigenfactor.org/stats.php\">stats</a></li>\\r\\n\\t\\t\\t\\t\\t\\t\\t\\t\\t     <li><span class=\"qmdivider qmdividerx\" ></span></li>\\r\\n\\t\\t\\t\\t\\t\\t\\t         <li><a href=\"http://www.eigenfactor.org/papers.php\">papers</a></li>\\r\\n\\t\\t\\t\\t\\t\\t\\t\\t\\t  </ul>\\r\\n\\t\\t\\t\\t\\t\\t\\t\\t</li>\\r\\n\\r\\n\\t\\t\\t\\t\\t\\t\\t\\t<li><span class=\"qmdivider qmdividery\" ></span></li>\\r\\n\\r\\n\\t\\t\\t\\t\\t\\t\\t  <li><a href=\"http://well-formed.eigenfactor.org\">well-formed</a></li>\\r\\n\\r\\n\\t\\t\\t\\t\\t\\t\\t  <li><span class=\"qmdivider qmdividery\" ></span></li>\\r\\n\\t\\t\\t\\t\\t\\t\\t\\r\\n\\t\\t\\t\\t\\t\\t\\t  <li><a class=\"qmparent\" href=\"http://www.eigenfactor.org/openaccess/\">cost effectiveness</a>\\r\\n\\t\\t\\t\\t\\t\\t\\t\\t\\t\\t<ul>\\r\\n\\t\\t\\t\\t\\t\\t\\t\\t       <li><a href=\"http://www.eigenfactor.org/costeffectiveness.php\">Subscriptions</a></li>\\r\\n\\t\\t\\t\\t\\t             <li><a href=\"http://www.eigenfactor.org/openaccess/\">Open Access Author Fees (Beta)</a></li>\\r\\n\\t\\t\\t\\t\\t\\t\\t\\t    </ul>\\r\\n\\t\\t\\t\\t\\t\\t\\t\\r\\n\\t\\t\\t\\t\\t\\t\\t\\t<li><span class=\"qmdivider qmdividery\" ></span></li>\\r\\n\\r\\n\\t\\t\\t\\t\\t\\t\\t\\t<li><a class=\"qmparent\" href=\"http://mas.eigenfactor.org/\">recommendation</a>\\r\\n\\t\\t\\t\\t\\t\\t\\t\\t  <ul>\\r\\n\\t\\t\\t\\t\\t\\t\\t\\t       <li><a href=\"http://mas.eigenfactor.org\">Microsoft Academic Search</a></li>\\r\\n\\t\\t\\t\\t\\t                   <li><a href=\"http://jstor.eigenfactor.org/\">JSTOR</a></li>\\r\\n\\t\\t\\t\\t\\t\\t\\t\\t  </ul>\\r\\n\\t\\t\\t\\t\\t\\t\\t\\t</li>\\r\\n\\r\\n\\t\\t\\t\\t\\t\\t\\t\\t<li><span class=\"qmdivider qmdividery\" ></span></li>\\r\\n\\r\\n\\t\\t\\t\\t\\t\\t\\t\\t<li><a class=\"qmparent\" href=\"http://www.eigenfactor.org/gender\">gender</a>\\r\\n\\t\\t\\t\\t\\t\\t\\t\\t\\r\\n\\t\\t\\t\\t\\t\\t\\t\\t<li><span class=\"qmdivider qmdividery\" ></span></li>\\r\\n\\r\\n\\t\\t\\t\\t\\t\\t\\t  <li><a class=\"qmparent\" href=\"http://www.eigenfactor.org/about.php\">about</a>\\r\\n\\t\\t\\t\\t\\t          <ul>\\r\\n\\t\\t\\t\\t\\t\\t\\t\\t       <li><a href=\"http://www.eigenfactor.org/faq.php\">faq</a></li>\\r\\n\\t\\t\\t\\t\\t\\t\\t\\t       <li><span class=\"qmdivider qmdividerx\" ></span></li>\\r\\n\\t\\t\\t\\t\\t             <li><a href=\"http://www.eigenfactor.org/about.php\">contact</a></li>\\r\\n\\t\\t\\t\\t\\t\\t\\t\\t    </ul>\\r\\n\\t\\t\\t\\t\\t\\t\\t\\t</li>\\r\\n\\r\\n\\t\\t\\t\\t\\t\\t\\t  <li class=\"qmclear\">&nbsp;</li>\\r\\n\\r\\n\\t\\t\\t\\t\\t\\t\\t</ul>\\r\\n\\t\\t\\t\\t\\t\\t  <!-- End navigation contents -->\\r\\n\\r\\n\\r\\n\\t\\t\\t\\t\\t\\t</div>\\r\\n\\t\\t\\t\\t\\t\\t<!-- End Navigation Bar -->\\r\\n\\r\\n\\r\\n\\t\\t\\t\\t\\t\\t<!-- Space Bar1 -->\\r\\n\\t\\t\\t\\t\\t\\t<div class=\"spacebar1\"></div>\\r\\n\\t\\t\\t\\t\\t\\t\\r\\n\\t\\t\\t\\t\\t\\t<!-- Beginning of Content -->\\r\\n\\t\\t\\t\\t\\t\\t\\r\\n\\t\\t\\t\\r\\n\\t  \\r\\n\\r\\n<link href=\"css/pagination.css\" rel=\"stylesheet\" type=\"text/css\" />\\r\\n\\t<link href=\"css/grey.css\" rel=\"stylesheet\" type=\"text/css\" />\\r\\n\\r\\n<!-- JS -->\\r\\n\\r\\n<script language=\"javascript\" type=\"text/javascript\" src=\"http://www.eigenfactor.org/js/jquery.jqplot.min.js\"></script>\\r\\n<script type=\"text/javascript\" src=\"http://www.eigenfactor.org/js/jqplot.canvasTextRenderer.min.js\"></script>\\r\\n<script type=\"text/javascript\" src=\"http://www.eigenfactor.org/js/jqplot.canvasAxisLabelRenderer.min.js\"></script>\\r\\n<script type=\"text/javascript\" src=\"http://www.eigenfactor.org/js/jqplot.json2.min.js\"></script>\\r\\n<script type=\"text/javascript\" src=\"http://www.eigenfactor.org/js/jqplot.ciParser.min.js\"></script>\\r\\n<script language=\"javascript\" type=\"text/javascript\" src=\"http://www.eigenfactor.org/js/jqplot.highlighter.min.js\"></script>\\r\\n<script language=\"javascript\" type=\"text/javascript\" src=\"http://www.eigenfactor.org/js/jqplot.logAxisRenderer.min.js\"></script>\\r\\n\\r\\n\\r\\n<script type=\"text/javascript\">\\r\\n    $(function(){\\r\\n        // Accordion //\\r\\n        $(\"#accordion\").accordion({ header: \"h3\",collapsible: true,active: false});\\r\\n        $(\"#accordion a\").click(function(evt) {\\r\\n              var galleryId = $(this).attr(\\'href\\').split(\\'#\\')[1];\\r\\n              var contentDiv = $(\\'#\\' + galleryId);\\r\\n              if(contentDiv.html() == \"Loading...\") {\\r\\n\\t\\t\\t\\t\\t\\t\\t\\t\\t\\t$(contentDiv).load(\\'getdetails.php?year=\\' + galleryId.substring(0,4) + \\'&issn=\\' + galleryId.substring(4));\\r\\n              }\\r\\n         });\\r\\n\\t\\t\\t\\t$(\"#accordion span\").click(function(evt2) {\\r\\n              var galleryId = $(this).next().attr(\\'href\\').split(\\'#\\')[1];\\r\\n              var contentDiv = $(\\'#\\' + galleryId);\\r\\n              if(contentDiv.html() == \"Loading...\") {\\r\\n\\t\\t\\t\\t\\t\\t\\t\\t\\t\\t$(contentDiv).load(\\'getdetails.php?year=\\' + galleryId.substring(0,4) + \\'&issn=\\' + galleryId.substring(4));\\r\\n              }\\r\\n         });\\r\\n    });\\r\\n</script>\\r\\n\\r\\n\\r\\n<!-- END JS -->\\r\\n\\r\\n\\r\\n\\r\\n\\r\\n<!-- Content Box -->\\r\\n<div class=\"content_box\">\\r\\n\\r\\n\\r\\n\\t\\r\\n\\t<!-- Header Bar -->\\r\\n\\t<div class=\"results\" style=\"margin-left: 30px; margin-top: 20px; height:40px;\">\\r\\n\\t\\r\\n\\t\\t<div class=\"rank\"><h3>Order</h3></div>\\r\\n\\t\\t<div class=\"journal\" style=\"width:320px;\"><h3>Journal</h3></div>\\r\\n\\t\\t<div class=\"percentile\" style=\"width:170px;\"><h3>Percentile</h3></div>\\r\\n\\t\\t<div class=\"EF\" style=\"text-align:center;\"><h3>EF <a href=\"http://www.eigenfactor.org/rankings.php?bsearch=2011&searchby=year&orderby=eigenfactor\">&#8595</a></h3></div>\\r\\n\\t\\t<div class=\"AI\" style=\"text-align:center;\"><h3>AI <a href=\"http://www.eigenfactor.org/rankings.php?bsearch=2011&searchby=year&orderby=articleinfluence\">&#8595</a></h3></div>\\r\\n\\t\\r\\n\\t</div>\\r\\n\\t<!-- End Header Bar -->\\r\\n\\t\\r\\n\\t\\r\\n\\t<div id=\"accordion\"><h3><a href=\"#20110028-0836\"><'"
       ]
      }
     ],
     "prompt_number": 40
    },
    {
     "cell_type": "code",
     "collapsed": false,
     "input": [
      "len(z)"
     ],
     "language": "python",
     "metadata": {},
     "outputs": [
      {
       "metadata": {},
       "output_type": "pyout",
       "prompt_number": 41,
       "text": [
        "51"
       ]
      }
     ],
     "prompt_number": 41
    },
    {
     "cell_type": "code",
     "collapsed": false,
     "input": [
      "z[1]"
     ],
     "language": "python",
     "metadata": {},
     "outputs": [
      {
       "metadata": {},
       "output_type": "pyout",
       "prompt_number": 44,
       "text": [
        "'<div class=\"rank\">1</div><div class=\"journal\">NATURE<div class=\"issn\">ISSN: 0028-0836</div></div><div class=\"percentile\"><div class=\"pholder1\"><div class=\"pname1\">EF: </div><div class=\"pbar1\"><div class=\"pfill1\" style=\"width: 100px;\"></div></div><div class =\"pnum1\">100</div></div><div class=\"pholder2\"><div class=\"pname2\">AI: </div><div class=\"pbar2\"><div class=\"pfill2\" style=\"width: 100px;\"></div></div><div class =\"pnum2\">100</div></div></div><div class=\"EF\">1.65524</div><div class=\"AI\">20.373</div></div></a></h3><div class=\"details\" id=\"20110028-0836\">Loading...</div><h3><a href=\"#20110027-8424\"><'"
       ]
      }
     ],
     "prompt_number": 44
    },
    {
     "cell_type": "code",
     "collapsed": false,
     "input": [
      "def bsFragment(xmlfragment):\n",
      "    return BeautifulSoup(str(xmlfragment))\n",
      "\n",
      "def getFields(leafxmlfragment, fieldlist):\n",
      "    \n",
      "    answerdict = {}\n",
      "    for field in fieldlist:\n",
      "        # get rid of unicode\n",
      "        x = bsFragment(leafxmlfragment).find_all(field)\n",
      "        if x:\n",
      "            x = x[0].string # convert to string\n",
      "            x = unicodedata.normalize('NFKD',unicode(x)).encode('ascii','ignore')\n",
      "            answerdict[field] = x\n",
      "        else:\n",
      "            answerdict[field] = ''\n",
      "    return answerdict\n",
      "\n",
      "def getFields(leafxmlfragment, fieldlist):\n",
      "    \n",
      "    answerdict = {}\n",
      "    for field in fieldlist:\n",
      "        # get rid of unicode\n",
      "        x = bsFragment(leafxmlfragment).find_all(field)\n",
      "        if x:\n",
      "            x = x[0].string # convert to string\n",
      "            x = unicodedata.normalize('NFKD',unicode(x)).encode('ascii','ignore')\n",
      "            answerdict[field] = x\n",
      "        else:\n",
      "            answerdict[field] = ''\n",
      "    return answerdict\n"
     ],
     "language": "python",
     "metadata": {},
     "outputs": [],
     "prompt_number": 46
    },
    {
     "cell_type": "code",
     "collapsed": false,
     "input": [
      "#http://stackoverflow.com/questions/5041008/handling-class-attribute-in-beautifulsoup\n",
      "htmfragments = []\n",
      "for d in data:\n",
      "    htmfragments.extend((BeautifulSoup(d).findAll(\"div\", { \"class\" : \"results\" }))[1:])\n"
     ],
     "language": "python",
     "metadata": {},
     "outputs": [],
     "prompt_number": 73
    },
    {
     "cell_type": "code",
     "collapsed": false,
     "input": [
      "len(htmfragments)"
     ],
     "language": "python",
     "metadata": {},
     "outputs": [
      {
       "metadata": {},
       "output_type": "pyout",
       "prompt_number": 102,
       "text": [
        "1250"
       ]
      }
     ],
     "prompt_number": 102
    },
    {
     "cell_type": "code",
     "collapsed": false,
     "input": [
      "z = htmfragments[0]\n",
      "z"
     ],
     "language": "python",
     "metadata": {},
     "outputs": [
      {
       "metadata": {},
       "output_type": "pyout",
       "prompt_number": 76,
       "text": [
        "<div class=\"results\"><div class=\"rank\">1</div><div class=\"journal\">NATURE<div class=\"issn\">ISSN: 0028-0836</div></div><div class=\"percentile\"><div class=\"pholder1\"><div class=\"pname1\">EF: </div><div class=\"pbar1\"><div class=\"pfill1\" style=\"width: 100px;\"></div></div><div class=\"pnum1\">100</div></div><div class=\"pholder2\"><div class=\"pname2\">AI: </div><div class=\"pbar2\"><div class=\"pfill2\" style=\"width: 100px;\"></div></div><div class=\"pnum2\">100</div></div></div><div class=\"EF\">1.65524</div><div class=\"AI\">20.373</div></div>"
       ]
      }
     ],
     "prompt_number": 76
    },
    {
     "cell_type": "code",
     "collapsed": false,
     "input": [
      "z.find(\"div\", {\"class\" :\"rank\"})"
     ],
     "language": "python",
     "metadata": {},
     "outputs": [
      {
       "metadata": {},
       "output_type": "pyout",
       "prompt_number": 93,
       "text": [
        "<div class=\"rank\">1</div>"
       ]
      }
     ],
     "prompt_number": 93
    },
    {
     "cell_type": "code",
     "collapsed": false,
     "input": [
      "z.findAll(\"div\", {\"class\" :\"journal\"})"
     ],
     "language": "python",
     "metadata": {},
     "outputs": [
      {
       "metadata": {},
       "output_type": "pyout",
       "prompt_number": 82,
       "text": [
        "[<div class=\"journal\">NATURE<div class=\"issn\">ISSN: 0028-0836</div></div>]"
       ]
      }
     ],
     "prompt_number": 82
    },
    {
     "cell_type": "code",
     "collapsed": false,
     "input": [
      "z.findAll(\"div\", {\"class\" :\"EF\"})"
     ],
     "language": "python",
     "metadata": {},
     "outputs": [
      {
       "metadata": {},
       "output_type": "pyout",
       "prompt_number": 83,
       "text": [
        "[<div class=\"EF\">1.65524</div>]"
       ]
      }
     ],
     "prompt_number": 83
    },
    {
     "cell_type": "code",
     "collapsed": false,
     "input": [
      "z.findAll(\"div\", {\"class\" :\"AI\"})"
     ],
     "language": "python",
     "metadata": {},
     "outputs": [
      {
       "metadata": {},
       "output_type": "pyout",
       "prompt_number": 84,
       "text": [
        "[<div class=\"AI\">20.373</div>]"
       ]
      }
     ],
     "prompt_number": 84
    },
    {
     "cell_type": "code",
     "collapsed": false,
     "input": [
      "zj = z.findAll(\"div\", {\"class\" :\"journal\"})\n",
      "zj"
     ],
     "language": "python",
     "metadata": {},
     "outputs": [
      {
       "metadata": {},
       "output_type": "pyout",
       "prompt_number": 86,
       "text": [
        "[<div class=\"journal\">NATURE<div class=\"issn\">ISSN: 0028-0836</div></div>]"
       ]
      }
     ],
     "prompt_number": 86
    },
    {
     "cell_type": "code",
     "collapsed": false,
     "input": [
      "zj[0].getText().split(\"ISSN:\")"
     ],
     "language": "python",
     "metadata": {},
     "outputs": [
      {
       "metadata": {},
       "output_type": "pyout",
       "prompt_number": 90,
       "text": [
        "[u'NATURE', u' 0028-0836']"
       ]
      }
     ],
     "prompt_number": 90
    },
    {
     "cell_type": "code",
     "collapsed": false,
     "input": [
      "def unicode2ascii(x):\n",
      "    return unicodedata.normalize('NFKD',unicode(x)).encode('ascii','ignore')"
     ],
     "language": "python",
     "metadata": {},
     "outputs": [],
     "prompt_number": 91
    },
    {
     "cell_type": "code",
     "collapsed": false,
     "input": [
      "[unicode2ascii(x) for x in zj[0].getText().split(\"ISSN:\")]"
     ],
     "language": "python",
     "metadata": {},
     "outputs": [
      {
       "metadata": {},
       "output_type": "pyout",
       "prompt_number": 92,
       "text": [
        "['NATURE', ' 0028-0836']"
       ]
      }
     ],
     "prompt_number": 92
    },
    {
     "cell_type": "code",
     "collapsed": false,
     "input": [
      "def getJournalInfo(bsfragment):\n",
      "    divclasses = \"rank journal EF AI\".split()\n",
      "    fields = {}\n",
      "    for dc in divclasses:\n",
      "        x = bsfragment.find(\"div\", {\"class\" : dc}).getText()\n",
      "        x = unicodedata.normalize('NFKD',unicode(x)).encode('ascii','ignore')\n",
      "        if dc == 'journal':\n",
      "            \n",
      "            fields['journal'], fields['issn'] = x.split(\"ISSN:\")\n",
      "        else:\n",
      "            fields[dc] = x\n",
      "\n",
      "    return fields\n"
     ],
     "language": "python",
     "metadata": {},
     "outputs": [],
     "prompt_number": 107
    },
    {
     "cell_type": "code",
     "collapsed": false,
     "input": [
      "getJournalInfo(htmfragments[0])"
     ],
     "language": "python",
     "metadata": {},
     "outputs": [
      {
       "metadata": {},
       "output_type": "pyout",
       "prompt_number": 108,
       "text": [
        "{'AI': '20.373',\n",
        " 'EF': '1.65524',\n",
        " 'issn': ' 0028-0836',\n",
        " 'journal': 'NATURE',\n",
        " 'rank': '1'}"
       ]
      }
     ],
     "prompt_number": 108
    },
    {
     "cell_type": "code",
     "collapsed": false,
     "input": [
      "eigenfactors = [getJournalInfo(x) for x in htmfragments]"
     ],
     "language": "python",
     "metadata": {},
     "outputs": [],
     "prompt_number": 109
    },
    {
     "cell_type": "code",
     "collapsed": false,
     "input": [
      "from pandas import DataFrame\n",
      "eigenfactorsDF = DataFrame(eigenfactors)\n",
      "eigenfactorsDF"
     ],
     "language": "python",
     "metadata": {},
     "outputs": [
      {
       "html": [
        "<div style=\"max-height:1000px;max-width:1500px;overflow:auto;\">\n",
        "<table border=\"1\" class=\"dataframe\">\n",
        "  <thead>\n",
        "    <tr style=\"text-align: right;\">\n",
        "      <th></th>\n",
        "      <th>AI</th>\n",
        "      <th>EF</th>\n",
        "      <th>issn</th>\n",
        "      <th>journal</th>\n",
        "      <th>rank</th>\n",
        "    </tr>\n",
        "  </thead>\n",
        "  <tbody>\n",
        "    <tr>\n",
        "      <th>0   </th>\n",
        "      <td>  20.373</td>\n",
        "      <td>  1.65524</td>\n",
        "      <td>  0028-0836</td>\n",
        "      <td>               NATURE</td>\n",
        "      <td>    1</td>\n",
        "    </tr>\n",
        "    <tr>\n",
        "      <th>1   </th>\n",
        "      <td>  4.8961</td>\n",
        "      <td>  1.60168</td>\n",
        "      <td>  0027-8424</td>\n",
        "      <td>  P NATL ACAD SCI USA</td>\n",
        "      <td>    2</td>\n",
        "    </tr>\n",
        "    <tr>\n",
        "      <th>2   </th>\n",
        "      <td> 17.5248</td>\n",
        "      <td>  1.41162</td>\n",
        "      <td>  0036-8075</td>\n",
        "      <td>              SCIENCE</td>\n",
        "      <td>    3</td>\n",
        "    </tr>\n",
        "    <tr>\n",
        "      <th>3   </th>\n",
        "      <td>  3.5175</td>\n",
        "      <td>  1.14457</td>\n",
        "      <td>  0031-9007</td>\n",
        "      <td>        PHYS REV LETT</td>\n",
        "      <td>    4</td>\n",
        "    </tr>\n",
        "    <tr>\n",
        "      <th>4   </th>\n",
        "      <td>  2.7989</td>\n",
        "      <td> 0.817303</td>\n",
        "      <td>  0002-7863</td>\n",
        "      <td>        J AM CHEM SOC</td>\n",
        "      <td>    5</td>\n",
        "    </tr>\n",
        "    <tr>\n",
        "      <th>5   </th>\n",
        "      <td>  1.4281</td>\n",
        "      <td> 0.756039</td>\n",
        "      <td>  1098-0121</td>\n",
        "      <td>           PHYS REV B</td>\n",
        "      <td>    6</td>\n",
        "    </tr>\n",
        "    <tr>\n",
        "      <th>6   </th>\n",
        "      <td>  2.0307</td>\n",
        "      <td> 0.742127</td>\n",
        "      <td>  0021-9258</td>\n",
        "      <td>          J BIOL CHEM</td>\n",
        "      <td>    7</td>\n",
        "    </tr>\n",
        "    <tr>\n",
        "      <th>7   </th>\n",
        "      <td>  1.3875</td>\n",
        "      <td> 0.675752</td>\n",
        "      <td>  0003-6951</td>\n",
        "      <td>       APPL PHYS LETT</td>\n",
        "      <td>    8</td>\n",
        "    </tr>\n",
        "    <tr>\n",
        "      <th>8   </th>\n",
        "      <td>  21.304</td>\n",
        "      <td>  0.66383</td>\n",
        "      <td>  0028-4793</td>\n",
        "      <td>       NEW ENGL J MED</td>\n",
        "      <td>    9</td>\n",
        "    </tr>\n",
        "    <tr>\n",
        "      <th>9   </th>\n",
        "      <td>  20.554</td>\n",
        "      <td> 0.660816</td>\n",
        "      <td>  0092-8674</td>\n",
        "      <td>                 CELL</td>\n",
        "      <td>   10</td>\n",
        "    </tr>\n",
        "    <tr>\n",
        "      <th>10  </th>\n",
        "      <td>  3.3776</td>\n",
        "      <td> 0.514213</td>\n",
        "      <td>  1433-7851</td>\n",
        "      <td>  ANGEW CHEM INT EDIT</td>\n",
        "      <td>   11</td>\n",
        "    </tr>\n",
        "    <tr>\n",
        "      <th>11  </th>\n",
        "      <td>  1.7984</td>\n",
        "      <td> 0.501622</td>\n",
        "      <td>  1932-6203</td>\n",
        "      <td>             PLOS ONE</td>\n",
        "      <td>   12</td>\n",
        "    </tr>\n",
        "    <tr>\n",
        "      <th>12  </th>\n",
        "      <td>  3.2549</td>\n",
        "      <td> 0.449625</td>\n",
        "      <td>  0270-6474</td>\n",
        "      <td>           J NEUROSCI</td>\n",
        "      <td>   13</td>\n",
        "    </tr>\n",
        "    <tr>\n",
        "      <th>13  </th>\n",
        "      <td>  1.8047</td>\n",
        "      <td> 0.429616</td>\n",
        "      <td>  0004-637X</td>\n",
        "      <td>          ASTROPHYS J</td>\n",
        "      <td>   14</td>\n",
        "    </tr>\n",
        "    <tr>\n",
        "      <th>14  </th>\n",
        "      <td>   3.692</td>\n",
        "      <td> 0.427942</td>\n",
        "      <td>  0006-4971</td>\n",
        "      <td>                BLOOD</td>\n",
        "      <td>   15</td>\n",
        "    </tr>\n",
        "    <tr>\n",
        "      <th>15  </th>\n",
        "      <td>    5.56</td>\n",
        "      <td> 0.394631</td>\n",
        "      <td>  0732-183X</td>\n",
        "      <td>         J CLIN ONCOL</td>\n",
        "      <td>   16</td>\n",
        "    </tr>\n",
        "    <tr>\n",
        "      <th>16  </th>\n",
        "      <td>  2.2661</td>\n",
        "      <td> 0.369891</td>\n",
        "      <td>  0022-1767</td>\n",
        "      <td>            J IMMUNOL</td>\n",
        "      <td>   17</td>\n",
        "    </tr>\n",
        "    <tr>\n",
        "      <th>17  </th>\n",
        "      <td>  3.0995</td>\n",
        "      <td> 0.362734</td>\n",
        "      <td>  0008-5472</td>\n",
        "      <td>           CANCER RES</td>\n",
        "      <td>   18</td>\n",
        "    </tr>\n",
        "    <tr>\n",
        "      <th>18  </th>\n",
        "      <td> 13.6107</td>\n",
        "      <td> 0.360954</td>\n",
        "      <td>  0140-6736</td>\n",
        "      <td>               LANCET</td>\n",
        "      <td>   19</td>\n",
        "    </tr>\n",
        "    <tr>\n",
        "      <th>19  </th>\n",
        "      <td>  5.0701</td>\n",
        "      <td> 0.345906</td>\n",
        "      <td>  1530-6984</td>\n",
        "      <td>            NANO LETT</td>\n",
        "      <td>   20</td>\n",
        "    </tr>\n",
        "    <tr>\n",
        "      <th>20  </th>\n",
        "      <td>  5.9733</td>\n",
        "      <td> 0.339278</td>\n",
        "      <td>  0009-7322</td>\n",
        "      <td>          CIRCULATION</td>\n",
        "      <td>   21</td>\n",
        "    </tr>\n",
        "    <tr>\n",
        "      <th>21  </th>\n",
        "      <td>  1.4057</td>\n",
        "      <td> 0.332456</td>\n",
        "      <td>  0148-0227</td>\n",
        "      <td>        J GEOPHYS RES</td>\n",
        "      <td>   22</td>\n",
        "    </tr>\n",
        "    <tr>\n",
        "      <th>22  </th>\n",
        "      <td> 17.5835</td>\n",
        "      <td> 0.329901</td>\n",
        "      <td>  1061-4036</td>\n",
        "      <td>            NAT GENET</td>\n",
        "      <td>   23</td>\n",
        "    </tr>\n",
        "    <tr>\n",
        "      <th>23  </th>\n",
        "      <td>  3.0072</td>\n",
        "      <td> 0.304882</td>\n",
        "      <td>  0305-1048</td>\n",
        "      <td>    NUCLEIC ACIDS RES</td>\n",
        "      <td>   24</td>\n",
        "    </tr>\n",
        "    <tr>\n",
        "      <th>24  </th>\n",
        "      <td>  0.8355</td>\n",
        "      <td> 0.301562</td>\n",
        "      <td>  0021-8979</td>\n",
        "      <td>          J APPL PHYS</td>\n",
        "      <td>   25</td>\n",
        "    </tr>\n",
        "    <tr>\n",
        "      <th>25  </th>\n",
        "      <td>  1.2451</td>\n",
        "      <td> 0.300804</td>\n",
        "      <td>  1550-7998</td>\n",
        "      <td>           PHYS REV D</td>\n",
        "      <td>   26</td>\n",
        "    </tr>\n",
        "    <tr>\n",
        "      <th>26  </th>\n",
        "      <td>  13.111</td>\n",
        "      <td> 0.285664</td>\n",
        "      <td>  0098-7484</td>\n",
        "      <td>  JAMA-J AM MED ASSOC</td>\n",
        "      <td>   27</td>\n",
        "    </tr>\n",
        "    <tr>\n",
        "      <th>27  </th>\n",
        "      <td>  1.3421</td>\n",
        "      <td> 0.284716</td>\n",
        "      <td>  1932-7447</td>\n",
        "      <td>        J PHYS CHEM C</td>\n",
        "      <td>   28</td>\n",
        "    </tr>\n",
        "    <tr>\n",
        "      <th>28  </th>\n",
        "      <td>  4.0706</td>\n",
        "      <td> 0.262413</td>\n",
        "      <td>  0935-9648</td>\n",
        "      <td>            ADV MATER</td>\n",
        "      <td>   29</td>\n",
        "    </tr>\n",
        "    <tr>\n",
        "      <th>29  </th>\n",
        "      <td>  1.4742</td>\n",
        "      <td> 0.254252</td>\n",
        "      <td>  0004-6361</td>\n",
        "      <td>     ASTRON ASTROPHYS</td>\n",
        "      <td>   30</td>\n",
        "    </tr>\n",
        "    <tr>\n",
        "      <th>...</th>\n",
        "      <td>...</td>\n",
        "      <td>...</td>\n",
        "      <td>...</td>\n",
        "      <td>...</td>\n",
        "      <td>...</td>\n",
        "    </tr>\n",
        "    <tr>\n",
        "      <th>1220</th>\n",
        "      <td>  0.4879</td>\n",
        "      <td> 0.015875</td>\n",
        "      <td>  0925-2312</td>\n",
        "      <td>       NEUROCOMPUTING</td>\n",
        "      <td> 1221</td>\n",
        "    </tr>\n",
        "    <tr>\n",
        "      <th>1221</th>\n",
        "      <td>  2.6986</td>\n",
        "      <td> 0.015837</td>\n",
        "      <td>  0734-9750</td>\n",
        "      <td>       BIOTECHNOL ADV</td>\n",
        "      <td> 1222</td>\n",
        "    </tr>\n",
        "    <tr>\n",
        "      <th>1222</th>\n",
        "      <td>  0.6601</td>\n",
        "      <td> 0.015836</td>\n",
        "      <td>  0020-1383</td>\n",
        "      <td>               INJURY</td>\n",
        "      <td> 1223</td>\n",
        "    </tr>\n",
        "    <tr>\n",
        "      <th>1223</th>\n",
        "      <td>  0.8928</td>\n",
        "      <td> 0.015801</td>\n",
        "      <td>  0883-2927</td>\n",
        "      <td>         APPL GEOCHEM</td>\n",
        "      <td> 1224</td>\n",
        "    </tr>\n",
        "    <tr>\n",
        "      <th>1224</th>\n",
        "      <td>  3.9486</td>\n",
        "      <td> 0.015787</td>\n",
        "      <td>  1044-5323</td>\n",
        "      <td>        SEMIN IMMUNOL</td>\n",
        "      <td> 1225</td>\n",
        "    </tr>\n",
        "    <tr>\n",
        "      <th>1225</th>\n",
        "      <td>    1.47</td>\n",
        "      <td> 0.015744</td>\n",
        "      <td>  0304-4149</td>\n",
        "      <td>      STOCH PROC APPL</td>\n",
        "      <td> 1226</td>\n",
        "    </tr>\n",
        "    <tr>\n",
        "      <th>1226</th>\n",
        "      <td>  0.8651</td>\n",
        "      <td> 0.015724</td>\n",
        "      <td>  0960-0760</td>\n",
        "      <td>    J STEROID BIOCHEM</td>\n",
        "      <td> 1227</td>\n",
        "    </tr>\n",
        "    <tr>\n",
        "      <th>1227</th>\n",
        "      <td>  0.9203</td>\n",
        "      <td> 0.015697</td>\n",
        "      <td>  1054-1500</td>\n",
        "      <td>                CHAOS</td>\n",
        "      <td> 1228</td>\n",
        "    </tr>\n",
        "    <tr>\n",
        "      <th>1228</th>\n",
        "      <td>  1.7995</td>\n",
        "      <td> 0.015677</td>\n",
        "      <td>  0075-4102</td>\n",
        "      <td>   J REINE ANGEW MATH</td>\n",
        "      <td> 1229</td>\n",
        "    </tr>\n",
        "    <tr>\n",
        "      <th>1229</th>\n",
        "      <td>  0.7712</td>\n",
        "      <td> 0.015671</td>\n",
        "      <td>  0148-639X</td>\n",
        "      <td>         MUSCLE NERVE</td>\n",
        "      <td> 1230</td>\n",
        "    </tr>\n",
        "    <tr>\n",
        "      <th>1230</th>\n",
        "      <td>  2.3423</td>\n",
        "      <td> 0.015637</td>\n",
        "      <td>  1467-7881</td>\n",
        "      <td>             OBES REV</td>\n",
        "      <td> 1231</td>\n",
        "    </tr>\n",
        "    <tr>\n",
        "      <th>1231</th>\n",
        "      <td>  0.4334</td>\n",
        "      <td> 0.015636</td>\n",
        "      <td>  0932-0113</td>\n",
        "      <td>        PARASITOL RES</td>\n",
        "      <td> 1232</td>\n",
        "    </tr>\n",
        "    <tr>\n",
        "      <th>1232</th>\n",
        "      <td>  1.6383</td>\n",
        "      <td> 0.015624</td>\n",
        "      <td>  0899-8256</td>\n",
        "      <td>      GAME ECON BEHAV</td>\n",
        "      <td> 1233</td>\n",
        "    </tr>\n",
        "    <tr>\n",
        "      <th>1233</th>\n",
        "      <td>  1.1631</td>\n",
        "      <td> 0.015614</td>\n",
        "      <td>  0167-2681</td>\n",
        "      <td>   J ECON BEHAV ORGAN</td>\n",
        "      <td> 1234</td>\n",
        "    </tr>\n",
        "    <tr>\n",
        "      <th>1234</th>\n",
        "      <td>  1.7922</td>\n",
        "      <td> 0.015613</td>\n",
        "      <td>  0278-6133</td>\n",
        "      <td>       HEALTH PSYCHOL</td>\n",
        "      <td> 1235</td>\n",
        "    </tr>\n",
        "    <tr>\n",
        "      <th>1235</th>\n",
        "      <td>  0.7228</td>\n",
        "      <td> 0.015602</td>\n",
        "      <td>  0091-3057</td>\n",
        "      <td> PHARMACOL BIOCHEM BE</td>\n",
        "      <td> 1236</td>\n",
        "    </tr>\n",
        "    <tr>\n",
        "      <th>1236</th>\n",
        "      <td>  1.4209</td>\n",
        "      <td> 0.015583</td>\n",
        "      <td>  0889-1591</td>\n",
        "      <td>    BRAIN BEHAV IMMUN</td>\n",
        "      <td> 1237</td>\n",
        "    </tr>\n",
        "    <tr>\n",
        "      <th>1237</th>\n",
        "      <td>  0.7918</td>\n",
        "      <td> 0.015553</td>\n",
        "      <td>  0162-0134</td>\n",
        "      <td>      J INORG BIOCHEM</td>\n",
        "      <td> 1238</td>\n",
        "    </tr>\n",
        "    <tr>\n",
        "      <th>1238</th>\n",
        "      <td>    1.26</td>\n",
        "      <td> 0.015551</td>\n",
        "      <td>  1471-2229</td>\n",
        "      <td>       BMC PLANT BIOL</td>\n",
        "      <td> 1239</td>\n",
        "    </tr>\n",
        "    <tr>\n",
        "      <th>1239</th>\n",
        "      <td>  0.8589</td>\n",
        "      <td> 0.015532</td>\n",
        "      <td>  1069-6563</td>\n",
        "      <td>       ACAD EMERG MED</td>\n",
        "      <td> 1240</td>\n",
        "    </tr>\n",
        "    <tr>\n",
        "      <th>1240</th>\n",
        "      <td>  0.8018</td>\n",
        "      <td> 0.015514</td>\n",
        "      <td>  0090-6964</td>\n",
        "      <td>       ANN BIOMED ENG</td>\n",
        "      <td> 1241</td>\n",
        "    </tr>\n",
        "    <tr>\n",
        "      <th>1241</th>\n",
        "      <td>  0.9531</td>\n",
        "      <td> 0.015505</td>\n",
        "      <td>  0306-5251</td>\n",
        "      <td> BRIT J CLIN PHARMACO</td>\n",
        "      <td> 1242</td>\n",
        "    </tr>\n",
        "    <tr>\n",
        "      <th>1242</th>\n",
        "      <td>  1.1153</td>\n",
        "      <td> 0.015505</td>\n",
        "      <td>  0266-5611</td>\n",
        "      <td>        INVERSE PROBL</td>\n",
        "      <td> 1243</td>\n",
        "    </tr>\n",
        "    <tr>\n",
        "      <th>1243</th>\n",
        "      <td>  0.6266</td>\n",
        "      <td> 0.015503</td>\n",
        "      <td>  0931-041X</td>\n",
        "      <td>      PEDIATR NEPHROL</td>\n",
        "      <td> 1244</td>\n",
        "    </tr>\n",
        "    <tr>\n",
        "      <th>1244</th>\n",
        "      <td>  1.0341</td>\n",
        "      <td> 0.015495</td>\n",
        "      <td>  0027-5107</td>\n",
        "      <td> MUTAT RES-FUND MOL M</td>\n",
        "      <td> 1245</td>\n",
        "    </tr>\n",
        "    <tr>\n",
        "      <th>1245</th>\n",
        "      <td>  2.8898</td>\n",
        "      <td> 0.015476</td>\n",
        "      <td>  1047-7039</td>\n",
        "      <td>            ORGAN SCI</td>\n",
        "      <td> 1246</td>\n",
        "    </tr>\n",
        "    <tr>\n",
        "      <th>1246</th>\n",
        "      <td>  1.3493</td>\n",
        "      <td> 0.015417</td>\n",
        "      <td>  1047-2797</td>\n",
        "      <td>        ANN EPIDEMIOL</td>\n",
        "      <td> 1247</td>\n",
        "    </tr>\n",
        "    <tr>\n",
        "      <th>1247</th>\n",
        "      <td>  0.7597</td>\n",
        "      <td> 0.015409</td>\n",
        "      <td>  0022-4790</td>\n",
        "      <td>         J SURG ONCOL</td>\n",
        "      <td> 1248</td>\n",
        "    </tr>\n",
        "    <tr>\n",
        "      <th>1248</th>\n",
        "      <td>  1.9063</td>\n",
        "      <td> 0.015383</td>\n",
        "      <td>  0079-6611</td>\n",
        "      <td>        PROG OCEANOGR</td>\n",
        "      <td> 1249</td>\n",
        "    </tr>\n",
        "    <tr>\n",
        "      <th>1249</th>\n",
        "      <td>  0.6067</td>\n",
        "      <td> 0.015376</td>\n",
        "      <td>  0928-4931</td>\n",
        "      <td>  MAT SCI ENG C-MATER</td>\n",
        "      <td> 1250</td>\n",
        "    </tr>\n",
        "  </tbody>\n",
        "</table>\n",
        "<p>1250 rows \u00d7 5 columns</p>\n",
        "</div>"
       ],
       "metadata": {},
       "output_type": "pyout",
       "prompt_number": 112,
       "text": [
        "           AI        EF        issn               journal  rank\n",
        "0      20.373   1.65524   0028-0836                NATURE     1\n",
        "1      4.8961   1.60168   0027-8424   P NATL ACAD SCI USA     2\n",
        "2     17.5248   1.41162   0036-8075               SCIENCE     3\n",
        "3      3.5175   1.14457   0031-9007         PHYS REV LETT     4\n",
        "4      2.7989  0.817303   0002-7863         J AM CHEM SOC     5\n",
        "5      1.4281  0.756039   1098-0121            PHYS REV B     6\n",
        "6      2.0307  0.742127   0021-9258           J BIOL CHEM     7\n",
        "7      1.3875  0.675752   0003-6951        APPL PHYS LETT     8\n",
        "8      21.304   0.66383   0028-4793        NEW ENGL J MED     9\n",
        "9      20.554  0.660816   0092-8674                  CELL    10\n",
        "10     3.3776  0.514213   1433-7851   ANGEW CHEM INT EDIT    11\n",
        "11     1.7984  0.501622   1932-6203              PLOS ONE    12\n",
        "12     3.2549  0.449625   0270-6474            J NEUROSCI    13\n",
        "13     1.8047  0.429616   0004-637X           ASTROPHYS J    14\n",
        "14      3.692  0.427942   0006-4971                 BLOOD    15\n",
        "15       5.56  0.394631   0732-183X          J CLIN ONCOL    16\n",
        "16     2.2661  0.369891   0022-1767             J IMMUNOL    17\n",
        "17     3.0995  0.362734   0008-5472            CANCER RES    18\n",
        "18    13.6107  0.360954   0140-6736                LANCET    19\n",
        "19     5.0701  0.345906   1530-6984             NANO LETT    20\n",
        "20     5.9733  0.339278   0009-7322           CIRCULATION    21\n",
        "21     1.4057  0.332456   0148-0227         J GEOPHYS RES    22\n",
        "22    17.5835  0.329901   1061-4036             NAT GENET    23\n",
        "23     3.0072  0.304882   0305-1048     NUCLEIC ACIDS RES    24\n",
        "24     0.8355  0.301562   0021-8979           J APPL PHYS    25\n",
        "25     1.2451  0.300804   1550-7998            PHYS REV D    26\n",
        "26     13.111  0.285664   0098-7484   JAMA-J AM MED ASSOC    27\n",
        "27     1.3421  0.284716   1932-7447         J PHYS CHEM C    28\n",
        "28     4.0706  0.262413   0935-9648             ADV MATER    29\n",
        "29     1.4742  0.254252   0004-6361      ASTRON ASTROPHYS    30\n",
        "...       ...       ...         ...                   ...   ...\n",
        "1220   0.4879  0.015875   0925-2312        NEUROCOMPUTING  1221\n",
        "1221   2.6986  0.015837   0734-9750        BIOTECHNOL ADV  1222\n",
        "1222   0.6601  0.015836   0020-1383                INJURY  1223\n",
        "1223   0.8928  0.015801   0883-2927          APPL GEOCHEM  1224\n",
        "1224   3.9486  0.015787   1044-5323         SEMIN IMMUNOL  1225\n",
        "1225     1.47  0.015744   0304-4149       STOCH PROC APPL  1226\n",
        "1226   0.8651  0.015724   0960-0760     J STEROID BIOCHEM  1227\n",
        "1227   0.9203  0.015697   1054-1500                 CHAOS  1228\n",
        "1228   1.7995  0.015677   0075-4102    J REINE ANGEW MATH  1229\n",
        "1229   0.7712  0.015671   0148-639X          MUSCLE NERVE  1230\n",
        "1230   2.3423  0.015637   1467-7881              OBES REV  1231\n",
        "1231   0.4334  0.015636   0932-0113         PARASITOL RES  1232\n",
        "1232   1.6383  0.015624   0899-8256       GAME ECON BEHAV  1233\n",
        "1233   1.1631  0.015614   0167-2681    J ECON BEHAV ORGAN  1234\n",
        "1234   1.7922  0.015613   0278-6133        HEALTH PSYCHOL  1235\n",
        "1235   0.7228  0.015602   0091-3057  PHARMACOL BIOCHEM BE  1236\n",
        "1236   1.4209  0.015583   0889-1591     BRAIN BEHAV IMMUN  1237\n",
        "1237   0.7918  0.015553   0162-0134       J INORG BIOCHEM  1238\n",
        "1238     1.26  0.015551   1471-2229        BMC PLANT BIOL  1239\n",
        "1239   0.8589  0.015532   1069-6563        ACAD EMERG MED  1240\n",
        "1240   0.8018  0.015514   0090-6964        ANN BIOMED ENG  1241\n",
        "1241   0.9531  0.015505   0306-5251  BRIT J CLIN PHARMACO  1242\n",
        "1242   1.1153  0.015505   0266-5611         INVERSE PROBL  1243\n",
        "1243   0.6266  0.015503   0931-041X       PEDIATR NEPHROL  1244\n",
        "1244   1.0341  0.015495   0027-5107  MUTAT RES-FUND MOL M  1245\n",
        "1245   2.8898  0.015476   1047-7039             ORGAN SCI  1246\n",
        "1246   1.3493  0.015417   1047-2797         ANN EPIDEMIOL  1247\n",
        "1247   0.7597  0.015409   0022-4790          J SURG ONCOL  1248\n",
        "1248   1.9063  0.015383   0079-6611         PROG OCEANOGR  1249\n",
        "1249   0.6067  0.015376   0928-4931   MAT SCI ENG C-MATER  1250\n",
        "\n",
        "[1250 rows x 5 columns]"
       ]
      }
     ],
     "prompt_number": 112
    },
    {
     "cell_type": "code",
     "collapsed": false,
     "input": [
      "eigenfactorsDF.to_csv(\"/vagrant/cs109_firstOrPerish/data_munging/eigenfactor.csv\")"
     ],
     "language": "python",
     "metadata": {},
     "outputs": [],
     "prompt_number": 113
    },
    {
     "cell_type": "code",
     "collapsed": false,
     "input": [],
     "language": "python",
     "metadata": {},
     "outputs": []
    }
   ],
   "metadata": {}
  }
 ]
}