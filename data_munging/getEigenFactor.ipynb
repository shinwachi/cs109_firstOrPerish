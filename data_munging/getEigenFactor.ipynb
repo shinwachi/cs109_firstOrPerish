{
 "metadata": {
  "name": "",
  "signature": "sha256:600e8c97cb60ad57cfda1af09f71b65921f5ea9e847ec987e50f282622165630"
 },
 "nbformat": 3,
 "nbformat_minor": 0,
 "worksheets": [
  {
   "cells": [
    {
     "cell_type": "code",
     "collapsed": false,
     "input": [
      "# preamble\n",
      "import os\n",
      "import codecs\n",
      "import csv\n",
      "import unicodedata\n",
      "from bs4 import BeautifulSoup\n",
      "import gzip\n",
      "from bs4 import SoupStrainer\n",
      "from collections import OrderedDict"
     ],
     "language": "python",
     "metadata": {},
     "outputs": [],
     "prompt_number": 48
    },
    {
     "cell_type": "code",
     "collapsed": false,
     "input": [
      "x"
     ],
     "language": "python",
     "metadata": {},
     "outputs": [
      {
       "metadata": {},
       "output_type": "pyout",
       "prompt_number": 2,
       "text": [
        "'\\r\\n\\r\\n\\r\\n\\t\\t\\t\\r\\n\\t\\t\\t<html lang=\"en-US\">\\r\\n\\r\\n\\t\\t\\t<head>\\r\\n\\r\\n\\t\\t\\t\\t<meta name=\"author\" content=\"Jevin D. West\"></meta>\\r\\n\\t\\t\\t\\t<meta name=\"description\" content=\"Eigenfactor: ranking and mapping scientific knowledge\"></meta> \\r\\n\\t\\t\\t\\t<meta name=\"keywords\" content=\"Eigenfactor, journal ranking, mapping science\"></meta>\\r\\n\\t\\t\\t\\t \\r\\n\\t\\t\\t\\t<title>Eigenfactor</title>\\r\\n\\t\\t\\t\\t<link rel=\"shortcut icon\" href=\"http://www.eigenfactor.org/images/EFlogo.png\" type=\"image/png\" />\\r\\n\\r\\n\\r\\n\\t\\t\\t\\t<link rel=\"stylesheet\" href=\"http://www.eigenfactor.org/css/ef.css\" type=\"text/css\"></link>\\r\\n\\t\\t\\t\\t\\r\\n\\t\\t\\t\\t<link rel=\"stylesheet\" href=\"http://www.eigenfactor.org/css/p7exp.css\" type=\"text/css\"></link>\\t\\r\\n\\t\\t\\t\\t<link rel=\"stylesheet\" href=\"http://www.eigenfactor.org/css/quickmenu_styles.css\" type=\"text/css\"></link>\\r\\n\\t\\t\\t\\t\\r\\n\\t\\t\\t\\t<link rel=\"stylesheet\" href=\"http://www.eigenfactor.org/css/jquery-ui-1.8.16.custom.css\" type=\"text/css\"></link>\\r\\n\\t\\t\\t\\t<link rel=\"stylesheet\" type=\"text/css\" href=\"http://www.eigenfactor.org/css/jquery.jqplot.css\" />\\r\\n\\t\\t\\t\\t\\r\\n\\t\\t\\t\\t\\r\\n\\t\\t\\t\\t<script type=\"text/javascript\" src=\"http://www.eigenfactor.org/js/quickmenu.js\"></script>\\r\\n\\t\\t\\t\\t<script type=\"text/javascript\" src=\"http://www.eigenfactor.org/js/p7exp.js\"></script>\\t\\t\\r\\n\\t\\t\\t\\t\\r\\n\\t\\t\\t\\t<script type=\"text/javascript\" src=\"http://www.eigenfactor.org/js/jquery-1.6.2.min.js\"></script>\\r\\n\\t\\t\\t\\t<script type=\"text/javascript\" src=\"http://www.eigenfactor.org/js/jquery-ui-1.8.16.custom.min.js\"></script>\\t\\t\\r\\n\\t\\t\\t\\t\\r\\n\\t\\t\\t</head>\\r\\n\\r\\n\\r\\n\\t\\t\\t<body>\\r\\n\\t\\t\\t\\t\\r\\n\\t\\t\\t\\t<!-- Main Container -->\\r\\n\\t\\t\\t\\t<div class=\"container\">\\r\\n\\r\\n\\t\\t\\t\\t  <!-- Left Panel -->\\r\\n\\t\\t\\t\\t\\t<div class=\"leftside\"></div>\\r\\n\\r\\n\\t\\t\\t\\t\\t<!-- Content -->\\r\\n\\t\\t\\t\\t\\t<div class=\"middleside\">\\r\\n\\t\\t\\t\\t\\t\\t\\r\\n\\t\\t\\t\\t\\t\\t<!-- Header -->\\r\\n\\t\\t\\t\\t\\t\\t<div id=\"headerimage\"><a href=\"http://www.eigenfactor.org\"><img src=\"http://www.eigenfactor.org/images/header.jpg\" width=\"700\" height=\"150\" border=\"0\" /></a></div>\\r\\n\\t\\t\\t\\t\\t\\t\\r\\n\\t\\t\\t\\t\\t\\t<!-- Space Bar -->\\r\\n\\t\\t\\t\\t\\t\\t<div class=\"spacebar1\"></div>\\r\\n\\r\\n\\t\\t\\t\\t\\t\\t\\r\\n\\t\\t\\t\\t\\t\\t\\r\\n\\t\\t\\t\\t\\t\\t<!-- Navigation Bar -->\\r\\n\\t\\t\\t\\t\\t\\t<div class=\"navigation\">\\r\\n\\r\\n\\t\\t\\t\\t\\t\\t\\t<!-- navigation contents -->\\r\\n\\t\\t\\t\\t\\t\\t\\t<ul id=\"qm0\" class=\"qmmc\">\\r\\n\\r\\n\\t\\t\\t\\t\\t\\t\\t\\t<li><a class=\"qmparent\" href=\"http://www.eigenfactor.org/index.php\">eigenfactor search</a>\\r\\n\\t\\t\\t\\t\\t\\t\\t\\t    <ul>\\r\\n\\t\\t\\t\\t\\t\\t\\t\\t       <li><a href=\"http://www.eigenfactor.org/motion/\">motion graphs</a></li>\\r\\n\\t\\t\\t\\t\\t\\t\\t\\t       <li><span class=\"qmdivider qmdividerx\" ></span></li>\\r\\n\\t\\t\\t\\t\\t\\t\\t\\t       <li><a href=\"http://www.eigenfactor.org/advanced.php\">advanced search</a></li>\\r\\n\\t\\t\\t\\t\\t\\t\\t\\t    </ul>\\r\\n\\t\\t\\t\\t\\t\\t\\t\\t</li>\\r\\n\\r\\n\\t\\t\\t\\t\\t\\t\\t\\t<li><span class=\"qmdivider qmdividery\" ></span></li>\\r\\n\\r\\n\\t\\t\\t\\t\\t\\t\\t\\t<li><a class=\"qmparent\" href=\"/map/index.php\">mapping</a>\\r\\n\\t\\t\\t\\t\\t\\t\\t\\t\\t  <ul>\\r\\n\\t\\t\\t\\t\\t\\t\\t\\t\\t     <li><a href=\"http://www.eigenfactor.org/map/index.php\">interactive browser</a></li>\\r\\n\\t\\t\\t\\t\\t\\t\\t         <li><a href=\"http://www.eigenfactor.org/map/maps.php\">maps</a></li>\\r\\n\\t\\t\\t\\t\\t\\t\\t\\t\\t\\t\\t<li><a href=\"http://mas.eigenfactor.org/journalLevel/indexIframe.php\">mas</a></li>\\r\\n\\t\\t\\t\\t\\t\\t\\t\\t\\t     <li><a href=\"http://www.eigenfactor.org/map/methods.php\">methods</a></li>\\r\\n\\t\\t\\t\\t\\t\\t\\t\\t\\t     <li><span class=\"qmdivider qmdividerx\" ></span></li>\\r\\n\\t\\t\\t\\t\\t\\t\\t\\t\\t\\t\\t <li><a href=\"http://www.mapequation.org\">mapequation.org</a></li>\\r\\n\\t\\t\\t\\t\\t\\t\\t\\t\\t  </ul>\\r\\n\\t\\t\\t\\t\\t\\t\\t\\t</li>\\r\\n\\r\\n\\t\\t\\t\\t\\t\\t\\t\\t<li><span class=\"qmdivider qmdividery\" ></span></li>\\r\\n\\r\\n\\t\\t\\t\\t\\t\\t\\t\\t<li><a class=\"qmparent\" href=\"http://www.eigenfactor.org/methods.php\">information</a>\\r\\n\\t\\t\\t\\t\\t\\t\\t\\t\\t  <ul>\\r\\n\\t\\t\\t\\t\\t\\t\\t\\t\\t     <li><a href=\"http://www.eigenfactor.org/whyeigenfactor.php\">why eigenfactor</a></li>\\r\\n\\t\\t\\t\\t\\t\\t\\t\\t\\t     <li><a href=\"http://www.eigenfactor.org/methods.php\">methods</a></li>\\r\\n\\t\\t\\t\\t\\t\\t\\t\\t\\t     <li><a href=\"http://www.eigenfactor.org/stats.php\">stats</a></li>\\r\\n\\t\\t\\t\\t\\t\\t\\t\\t\\t     <li><span class=\"qmdivider qmdividerx\" ></span></li>\\r\\n\\t\\t\\t\\t\\t\\t\\t         <li><a href=\"http://www.eigenfactor.org/papers.php\">papers</a></li>\\r\\n\\t\\t\\t\\t\\t\\t\\t\\t\\t  </ul>\\r\\n\\t\\t\\t\\t\\t\\t\\t\\t</li>\\r\\n\\r\\n\\t\\t\\t\\t\\t\\t\\t\\t<li><span class=\"qmdivider qmdividery\" ></span></li>\\r\\n\\r\\n\\t\\t\\t\\t\\t\\t\\t  <li><a href=\"http://well-formed.eigenfactor.org\">well-formed</a></li>\\r\\n\\r\\n\\t\\t\\t\\t\\t\\t\\t  <li><span class=\"qmdivider qmdividery\" ></span></li>\\r\\n\\t\\t\\t\\t\\t\\t\\t\\r\\n\\t\\t\\t\\t\\t\\t\\t  <li><a class=\"qmparent\" href=\"http://www.eigenfactor.org/openaccess/\">cost effectiveness</a>\\r\\n\\t\\t\\t\\t\\t\\t\\t\\t\\t\\t<ul>\\r\\n\\t\\t\\t\\t\\t\\t\\t\\t       <li><a href=\"http://www.eigenfactor.org/costeffectiveness.php\">Subscriptions</a></li>\\r\\n\\t\\t\\t\\t\\t             <li><a href=\"http://www.eigenfactor.org/openaccess/\">Open Access Author Fees (Beta)</a></li>\\r\\n\\t\\t\\t\\t\\t\\t\\t\\t    </ul>\\r\\n\\t\\t\\t\\t\\t\\t\\t\\r\\n\\t\\t\\t\\t\\t\\t\\t\\t<li><span class=\"qmdivider qmdividery\" ></span></li>\\r\\n\\r\\n\\t\\t\\t\\t\\t\\t\\t\\t<li><a class=\"qmparent\" href=\"http://mas.eigenfactor.org/\">recommendation</a>\\r\\n\\t\\t\\t\\t\\t\\t\\t\\t  <ul>\\r\\n\\t\\t\\t\\t\\t\\t\\t\\t       <li><a href=\"http://mas.eigenfactor.org\">Microsoft Academic Search</a></li>\\r\\n\\t\\t\\t\\t\\t                   <li><a href=\"http://jstor.eigenfactor.org/\">JSTOR</a></li>\\r\\n\\t\\t\\t\\t\\t\\t\\t\\t  </ul>\\r\\n\\t\\t\\t\\t\\t\\t\\t\\t</li>\\r\\n\\r\\n\\t\\t\\t\\t\\t\\t\\t\\t<li><span class=\"qmdivider qmdividery\" ></span></li>\\r\\n\\r\\n\\t\\t\\t\\t\\t\\t\\t\\t<li><a class=\"qmparent\" href=\"http://www.eigenfactor.org/gender\">gender</a>\\r\\n\\t\\t\\t\\t\\t\\t\\t\\t\\r\\n\\t\\t\\t\\t\\t\\t\\t\\t<li><span class=\"qmdivider qmdividery\" ></span></li>\\r\\n\\r\\n\\t\\t\\t\\t\\t\\t\\t  <li><a class=\"qmparent\" href=\"http://www.eigenfactor.org/about.php\">about</a>\\r\\n\\t\\t\\t\\t\\t          <ul>\\r\\n\\t\\t\\t\\t\\t\\t\\t\\t       <li><a href=\"http://www.eigenfactor.org/faq.php\">faq</a></li>\\r\\n\\t\\t\\t\\t\\t\\t\\t\\t       <li><span class=\"qmdivider qmdividerx\" ></span></li>\\r\\n\\t\\t\\t\\t\\t             <li><a href=\"http://www.eigenfactor.org/about.php\">contact</a></li>\\r\\n\\t\\t\\t\\t\\t\\t\\t\\t    </ul>\\r\\n\\t\\t\\t\\t\\t\\t\\t\\t</li>\\r\\n\\r\\n\\t\\t\\t\\t\\t\\t\\t  <li class=\"qmclear\">&nbsp;</li>\\r\\n\\r\\n\\t\\t\\t\\t\\t\\t\\t</ul>\\r\\n\\t\\t\\t\\t\\t\\t  <!-- End navigation contents -->\\r\\n\\r\\n\\r\\n\\t\\t\\t\\t\\t\\t</div>\\r\\n\\t\\t\\t\\t\\t\\t<!-- End Navigation Bar -->\\r\\n\\r\\n\\r\\n\\t\\t\\t\\t\\t\\t<!-- Space Bar1 -->\\r\\n\\t\\t\\t\\t\\t\\t<div class=\"spacebar1\"></div>\\r\\n\\t\\t\\t\\t\\t\\t\\r\\n\\t\\t\\t\\t\\t\\t<!-- Beginning of Content -->\\r\\n\\t\\t\\t\\t\\t\\t\\r\\n\\t\\t\\t\\r\\n\\t  \\r\\n\\r\\n<link href=\"css/pagination.css\" rel=\"stylesheet\" type=\"text/css\" />\\r\\n\\t<link href=\"css/grey.css\" rel=\"stylesheet\" type=\"text/css\" />\\r\\n\\r\\n<!-- JS -->\\r\\n\\r\\n<script language=\"javascript\" type=\"text/javascript\" src=\"http://www.eigenfactor.org/js/jquery.jqplot.min.js\"></script>\\r\\n<script type=\"text/javascript\" src=\"http://www.eigenfactor.org/js/jqplot.canvasTextRenderer.min.js\"></script>\\r\\n<script type=\"text/javascript\" src=\"http://www.eigenfactor.org/js/jqplot.canvasAxisLabelRenderer.min.js\"></script>\\r\\n<script type=\"text/javascript\" src=\"http://www.eigenfactor.org/js/jqplot.json2.min.js\"></script>\\r\\n<script type=\"text/javascript\" src=\"http://www.eigenfactor.org/js/jqplot.ciParser.min.js\"></script>\\r\\n<script language=\"javascript\" type=\"text/javascript\" src=\"http://www.eigenfactor.org/js/jqplot.highlighter.min.js\"></script>\\r\\n<script language=\"javascript\" type=\"text/javascript\" src=\"http://www.eigenfactor.org/js/jqplot.logAxisRenderer.min.js\"></script>\\r\\n\\r\\n\\r\\n<script type=\"text/javascript\">\\r\\n    $(function(){\\r\\n        // Accordion //\\r\\n        $(\"#accordion\").accordion({ header: \"h3\",collapsible: true,active: false});\\r\\n        $(\"#accordion a\").click(function(evt) {\\r\\n              var galleryId = $(this).attr(\\'href\\').split(\\'#\\')[1];\\r\\n              var contentDiv = $(\\'#\\' + galleryId);\\r\\n              if(contentDiv.html() == \"Loading...\") {\\r\\n\\t\\t\\t\\t\\t\\t\\t\\t\\t\\t$(contentDiv).load(\\'getdetails.php?year=\\' + galleryId.substring(0,4) + \\'&issn=\\' + galleryId.substring(4));\\r\\n              }\\r\\n         });\\r\\n\\t\\t\\t\\t$(\"#accordion span\").click(function(evt2) {\\r\\n              var galleryId = $(this).next().attr(\\'href\\').split(\\'#\\')[1];\\r\\n              var contentDiv = $(\\'#\\' + galleryId);\\r\\n              if(contentDiv.html() == \"Loading...\") {\\r\\n\\t\\t\\t\\t\\t\\t\\t\\t\\t\\t$(contentDiv).load(\\'getdetails.php?year=\\' + galleryId.substring(0,4) + \\'&issn=\\' + galleryId.substring(4));\\r\\n              }\\r\\n         });\\r\\n    });\\r\\n</script>\\r\\n\\r\\n\\r\\n<!-- END JS -->\\r\\n\\r\\n\\r\\n\\r\\n\\r\\n<!-- Content Box -->\\r\\n<div class=\"content_box\">\\r\\n\\r\\n\\r\\n\\t\\r\\n\\t<!-- Header Bar -->\\r\\n\\t<div class=\"results\" style=\"margin-left: 30px; margin-top: 20px; height:40px;\">\\r\\n\\t\\r\\n\\t\\t<div class=\"rank\"><h3>Order</h3></div>\\r\\n\\t\\t<div class=\"journal\" style=\"width:320px;\"><h3>Journal</h3></div>\\r\\n\\t\\t<div class=\"percentile\" style=\"width:170px;\"><h3>Percentile</h3></div>\\r\\n\\t\\t<div class=\"EF\" style=\"text-align:center;\"><h3>EF <a href=\"http://www.eigenfactor.org/rankings.php?bsearch=2011&searchby=year&orderby=eigenfactor\">&#8595</a></h3></div>\\r\\n\\t\\t<div class=\"AI\" style=\"text-align:center;\"><h3>AI <a href=\"http://www.eigenfactor.org/rankings.php?bsearch=2011&searchby=year&orderby=articleinfluence\">&#8595</a></h3></div>\\r\\n\\t\\r\\n\\t</div>\\r\\n\\t<!-- End Header Bar -->\\r\\n\\t\\r\\n\\t\\r\\n\\t<div id=\"accordion\"><h3><a href=\"#20110028-0836\"><div class=\"results\"><div class=\"rank\">1</div><div class=\"journal\">NATURE<div class=\"issn\">ISSN: 0028-0836</div></div><div class=\"percentile\"><div class=\"pholder1\"><div class=\"pname1\">EF: </div><div class=\"pbar1\"><div class=\"pfill1\" style=\"width: 100px;\"></div></div><div class =\"pnum1\">100</div></div><div class=\"pholder2\"><div class=\"pname2\">AI: </div><div class=\"pbar2\"><div class=\"pfill2\" style=\"width: 100px;\"></div></div><div class =\"pnum2\">100</div></div></div><div class=\"EF\">1.65524</div><div class=\"AI\">20.373</div></div></a></h3><div class=\"details\" id=\"20110028-0836\">Loading...</div><h3><a href=\"#20110027-8424\"><div class=\"results\"><div class=\"rank\">2</div><div class=\"journal\">P NATL ACAD SCI USA<div class=\"issn\">ISSN: 0027-8424</div></div><div class=\"percentile\"><div class=\"pholder1\"><div class=\"pname1\">EF: </div><div class=\"pbar1\"><div class=\"pfill1\" style=\"width: 100px;\"></div></div><div class =\"pnum1\">100</div></div><div class=\"pholder2\"><div class=\"pname2\">AI: </div><div class=\"pbar2\"><div class=\"pfill2\" style=\"width: 99px;\"></div></div><div class =\"pnum2\">99</div></div></div><div class=\"EF\">1.60168</div><div class=\"AI\">4.8961</div></div></a></h3><div class=\"details\" id=\"20110027-8424\">Loading...</div><h3><a href=\"#20110036-8075\"><div class=\"results\"><div class=\"rank\">3</div><div class=\"journal\">SCIENCE<div class=\"issn\">ISSN: 0036-8075</div></div><div class=\"percentile\"><div class=\"pholder1\"><div class=\"pname1\">EF: </div><div class=\"pbar1\"><div class=\"pfill1\" style=\"width: 100px;\"></div></div><div class =\"pnum1\">100</div></div><div class=\"pholder2\"><div class=\"pname2\">AI: </div><div class=\"pbar2\"><div class=\"pfill2\" style=\"width: 100px;\"></div></div><div class =\"pnum2\">100</div></div></div><div class=\"EF\">1.41162</div><div class=\"AI\">17.5248</div></div></a></h3><div class=\"details\" id=\"20110036-8075\">Loading...</div><h3><a href=\"#20110031-9007\"><div class=\"results\"><div class=\"rank\">4</div><div class=\"journal\">PHYS REV LETT<div class=\"issn\">ISSN: 0031-9007</div></div><div class=\"percentile\"><div class=\"pholder1\"><div class=\"pname1\">EF: </div><div class=\"pbar1\"><div class=\"pfill1\" style=\"width: 100px;\"></div></div><div class =\"pnum1\">100</div></div><div class=\"pholder2\"><div class=\"pname2\">AI: </div><div class=\"pbar2\"><div class=\"pfill2\" style=\"width: 98px;\"></div></div><div class =\"pnum2\">98</div></div></div><div class=\"EF\">1.14457</div><div class=\"AI\">3.5175</div></div></a></h3><div class=\"details\" id=\"20110031-9007\">Loading...</div><h3><a href=\"#20110002-7863\"><div class=\"results\"><div class=\"rank\">5</div><div class=\"journal\">J AM CHEM SOC<div class=\"issn\">ISSN: 0002-7863</div></div><div class=\"percentile\"><div class=\"pholder1\"><div class=\"pname1\">EF: </div><div class=\"pbar1\"><div class=\"pfill1\" style=\"width: 100px;\"></div></div><div class =\"pnum1\">100</div></div><div class=\"pholder2\"><div class=\"pname2\">AI: </div><div class=\"pbar2\"><div class=\"pfill2\" style=\"width: 97px;\"></div></div><div class =\"pnum2\">97</div></div></div><div class=\"EF\">0.817303</div><div class=\"AI\">2.7989</div></div></a></h3><div class=\"details\" id=\"20110002-7863\">Loading...</div><h3><a href=\"#20111098-0121\"><div class=\"results\"><div class=\"rank\">6</div><div class=\"journal\">PHYS REV B<div class=\"issn\">ISSN: 1098-0121</div></div><div class=\"percentile\"><div class=\"pholder1\"><div class=\"pname1\">EF: </div><div class=\"pbar1\"><div class=\"pfill1\" style=\"width: 100px;\"></div></div><div class =\"pnum1\">100</div></div><div class=\"pholder2\"><div class=\"pname2\">AI: </div><div class=\"pbar2\"><div class=\"pfill2\" style=\"width: 89px;\"></div></div><div class =\"pnum2\">89</div></div></div><div class=\"EF\">0.756039</div><div class=\"AI\">1.4281</div></div></a></h3><div class=\"details\" id=\"20111098-0121\">Loading...</div><h3><a href=\"#20110021-9258\"><div class=\"results\"><div class=\"rank\">7</div><div class=\"journal\">J BIOL CHEM<div class=\"issn\">ISSN: 0021-9258</div></div><div class=\"percentile\"><div class=\"pholder1\"><div class=\"pname1\">EF: </div><div class=\"pbar1\"><div class=\"pfill1\" style=\"width: 100px;\"></div></div><div class =\"pnum1\">100</div></div><div class=\"pholder2\"><div class=\"pname2\">AI: </div><div class=\"pbar2\"><div class=\"pfill2\" style=\"width: 94px;\"></div></div><div class =\"pnum2\">94</div></div></div><div class=\"EF\">0.742127</div><div class=\"AI\">2.0307</div></div></a></h3><div class=\"details\" id=\"20110021-9258\">Loading...</div><h3><a href=\"#20110003-6951\"><div class=\"results\"><div class=\"rank\">8</div><div class=\"journal\">APPL PHYS LETT<div class=\"issn\">ISSN: 0003-6951</div></div><div class=\"percentile\"><div class=\"pholder1\"><div class=\"pname1\">EF: </div><div class=\"pbar1\"><div class=\"pfill1\" style=\"width: 100px;\"></div></div><div class =\"pnum1\">100</div></div><div class=\"pholder2\"><div class=\"pname2\">AI: </div><div class=\"pbar2\"><div class=\"pfill2\" style=\"width: 89px;\"></div></div><div class =\"pnum2\">89</div></div></div><div class=\"EF\">0.675752</div><div class=\"AI\">1.3875</div></div></a></h3><div class=\"details\" id=\"20110003-6951\">Loading...</div><h3><a href=\"#20110028-4793\"><div class=\"results\"><div class=\"rank\">9</div><div class=\"journal\">NEW ENGL J MED<div class=\"issn\">ISSN: 0028-4793</div></div><div class=\"percentile\"><div class=\"pholder1\"><div class=\"pname1\">EF: </div><div class=\"pbar1\"><div class=\"pfill1\" style=\"width: 100px;\"></div></div><div class =\"pnum1\">100</div></div><div class=\"pholder2\"><div class=\"pname2\">AI: </div><div class=\"pbar2\"><div class=\"pfill2\" style=\"width: 100px;\"></div></div><div class =\"pnum2\">100</div></div></div><div class=\"EF\">0.66383</div><div class=\"AI\">21.304</div></div></a></h3><div class=\"details\" id=\"20110028-4793\">Loading...</div><h3><a href=\"#20110092-8674\"><div class=\"results\"><div class=\"rank\">10</div><div class=\"journal\">CELL<div class=\"issn\">ISSN: 0092-8674</div></div><div class=\"percentile\"><div class=\"pholder1\"><div class=\"pname1\">EF: </div><div class=\"pbar1\"><div class=\"pfill1\" style=\"width: 100px;\"></div></div><div class =\"pnum1\">100</div></div><div class=\"pholder2\"><div class=\"pname2\">AI: </div><div class=\"pbar2\"><div class=\"pfill2\" style=\"width: 100px;\"></div></div><div class =\"pnum2\">100</div></div></div><div class=\"EF\">0.660816</div><div class=\"AI\">20.554</div></div></a></h3><div class=\"details\" id=\"20110092-8674\">Loading...</div><h3><a href=\"#20111433-7851\"><div class=\"results\"><div class=\"rank\">11</div><div class=\"journal\">ANGEW CHEM INT EDIT<div class=\"issn\">ISSN: 1433-7851</div></div><div class=\"percentile\"><div class=\"pholder1\"><div class=\"pname1\">EF: </div><div class=\"pbar1\"><div class=\"pfill1\" style=\"width: 100px;\"></div></div><div class =\"pnum1\">100</div></div><div class=\"pholder2\"><div class=\"pname2\">AI: </div><div class=\"pbar2\"><div class=\"pfill2\" style=\"width: 98px;\"></div></div><div class =\"pnum2\">98</div></div></div><div class=\"EF\">0.514213</div><div class=\"AI\">3.3776</div></div></a></h3><div class=\"details\" id=\"20111433-7851\">Loading...</div><h3><a href=\"#20111932-6203\"><div class=\"results\"><div class=\"rank\">12</div><div class=\"journal\">PLOS ONE<div class=\"issn\">ISSN: 1932-6203</div></div><div class=\"percentile\"><div class=\"pholder1\"><div class=\"pname1\">EF: </div><div class=\"pbar1\"><div class=\"pfill1\" style=\"width: 100px;\"></div></div><div class =\"pnum1\">100</div></div><div class=\"pholder2\"><div class=\"pname2\">AI: </div><div class=\"pbar2\"><div class=\"pfill2\" style=\"width: 93px;\"></div></div><div class =\"pnum2\">93</div></div></div><div class=\"EF\">0.501622</div><div class=\"AI\">1.7984</div></div></a></h3><div class=\"details\" id=\"20111932-6203\">Loading...</div><h3><a href=\"#20110270-6474\"><div class=\"results\"><div class=\"rank\">13</div><div class=\"journal\">J NEUROSCI<div class=\"issn\">ISSN: 0270-6474</div></div><div class=\"percentile\"><div class=\"pholder1\"><div class=\"pname1\">EF: </div><div class=\"pbar1\"><div class=\"pfill1\" style=\"width: 100px;\"></div></div><div class =\"pnum1\">100</div></div><div class=\"pholder2\"><div class=\"pname2\">AI: </div><div class=\"pbar2\"><div class=\"pfill2\" style=\"width: 97px;\"></div></div><div class =\"pnum2\">97</div></div></div><div class=\"EF\">0.449625</div><div class=\"AI\">3.2549</div></div></a></h3><div class=\"details\" id=\"20110270-6474\">Loading...</div><h3><a href=\"#20110004-637X\"><div class=\"results\"><div class=\"rank\">14</div><div class=\"journal\">ASTROPHYS J<div class=\"issn\">ISSN: 0004-637X</div></div><div class=\"percentile\"><div class=\"pholder1\"><div class=\"pname1\">EF: </div><div class=\"pbar1\"><div class=\"pfill1\" style=\"width: 100px;\"></div></div><div class =\"pnum1\">100</div></div><div class=\"pholder2\"><div class=\"pname2\">AI: </div><div class=\"pbar2\"><div class=\"pfill2\" style=\"width: 93px;\"></div></div><div class =\"pnum2\">93</div></div></div><div class=\"EF\">0.429616</div><div class=\"AI\">1.8047</div></div></a></h3><div class=\"details\" id=\"20110004-637X\">Loading...</div><h3><a href=\"#20110006-4971\"><div class=\"results\"><div class=\"rank\">15</div><div class=\"journal\">BLOOD<div class=\"issn\">ISSN: 0006-4971</div></div><div class=\"percentile\"><div class=\"pholder1\"><div class=\"pname1\">EF: </div><div class=\"pbar1\"><div class=\"pfill1\" style=\"width: 100px;\"></div></div><div class =\"pnum1\">100</div></div><div class=\"pholder2\"><div class=\"pname2\">AI: </div><div class=\"pbar2\"><div class=\"pfill2\" style=\"width: 98px;\"></div></div><div class =\"pnum2\">98</div></div></div><div class=\"EF\">0.427942</div><div class=\"AI\">3.692</div></div></a></h3><div class=\"details\" id=\"20110006-4971\">Loading...</div><h3><a href=\"#20110732-183X\"><div class=\"results\"><div class=\"rank\">16</div><div class=\"journal\">J CLIN ONCOL<div class=\"issn\">ISSN: 0732-183X</div></div><div class=\"percentile\"><div class=\"pholder1\"><div class=\"pname1\">EF: </div><div class=\"pbar1\"><div class=\"pfill1\" style=\"width: 100px;\"></div></div><div class =\"pnum1\">100</div></div><div class=\"pholder2\"><div class=\"pname2\">AI: </div><div class=\"pbar2\"><div class=\"pfill2\" style=\"width: 99px;\"></div></div><div class =\"pnum2\">99</div></div></div><div class=\"EF\">0.394631</div><div class=\"AI\">5.56</div></div></a></h3><div class=\"details\" id=\"20110732-183X\">Loading...</div><h3><a href=\"#20110022-1767\"><div class=\"results\"><div class=\"rank\">17</div><div class=\"journal\">J IMMUNOL<div class=\"issn\">ISSN: 0022-1767</div></div><div class=\"percentile\"><div class=\"pholder1\"><div class=\"pname1\">EF: </div><div class=\"pbar1\"><div class=\"pfill1\" style=\"width: 100px;\"></div></div><div class =\"pnum1\">100</div></div><div class=\"pholder2\"><div class=\"pname2\">AI: </div><div class=\"pbar2\"><div class=\"pfill2\" style=\"width: 95px;\"></div></div><div class =\"pnum2\">95</div></div></div><div class=\"EF\">0.369891</div><div class=\"AI\">2.2661</div></div></a></h3><div class=\"details\" id=\"20110022-1767\">Loading...</div><h3><a href=\"#20110008-5472\"><div class=\"results\"><div class=\"rank\">18</div><div class=\"journal\">CANCER RES<div class=\"issn\">ISSN: 0008-5472</div></div><div class=\"percentile\"><div class=\"pholder1\"><div class=\"pname1\">EF: </div><div class=\"pbar1\"><div class=\"pfill1\" style=\"width: 100px;\"></div></div><div class =\"pnum1\">100</div></div><div class=\"pholder2\"><div class=\"pname2\">AI: </div><div class=\"pbar2\"><div class=\"pfill2\" style=\"width: 97px;\"></div></div><div class =\"pnum2\">97</div></div></div><div class=\"EF\">0.362734</div><div class=\"AI\">3.0995</div></div></a></h3><div class=\"details\" id=\"20110008-5472\">Loading...</div><h3><a href=\"#20110140-6736\"><div class=\"results\"><div class=\"rank\">19</div><div class=\"journal\">LANCET<div class=\"issn\">ISSN: 0140-6736</div></div><div class=\"percentile\"><div class=\"pholder1\"><div class=\"pname1\">EF: </div><div class=\"pbar1\"><div class=\"pfill1\" style=\"width: 100px;\"></div></div><div class =\"pnum1\">100</div></div><div class=\"pholder2\"><div class=\"pname2\">AI: </div><div class=\"pbar2\"><div class=\"pfill2\" style=\"width: 100px;\"></div></div><div class =\"pnum2\">100</div></div></div><div class=\"EF\">0.360954</div><div class=\"AI\">13.6107</div></div></a></h3><div class=\"details\" id=\"20110140-6736\">Loading...</div><h3><a href=\"#20111530-6984\"><div class=\"results\"><div class=\"rank\">20</div><div class=\"journal\">NANO LETT<div class=\"issn\">ISSN: 1530-6984</div></div><div class=\"percentile\"><div class=\"pholder1\"><div class=\"pname1\">EF: </div><div class=\"pbar1\"><div class=\"pfill1\" style=\"width: 100px;\"></div></div><div class =\"pnum1\">100</div></div><div class=\"pholder2\"><div class=\"pname2\">AI: </div><div class=\"pbar2\"><div class=\"pfill2\" style=\"width: 99px;\"></div></div><div class =\"pnum2\">99</div></div></div><div class=\"EF\">0.345906</div><div class=\"AI\">5.0701</div></div></a></h3><div class=\"details\" id=\"20111530-6984\">Loading...</div><h3><a href=\"#20110009-7322\"><div class=\"results\"><div class=\"rank\">21</div><div class=\"journal\">CIRCULATION<div class=\"issn\">ISSN: 0009-7322</div></div><div class=\"percentile\"><div class=\"pholder1\"><div class=\"pname1\">EF: </div><div class=\"pbar1\"><div class=\"pfill1\" style=\"width: 100px;\"></div></div><div class =\"pnum1\">100</div></div><div class=\"pholder2\"><div class=\"pname2\">AI: </div><div class=\"pbar2\"><div class=\"pfill2\" style=\"width: 99px;\"></div></div><div class =\"pnum2\">99</div></div></div><div class=\"EF\">0.339278</div><div class=\"AI\">5.9733</div></div></a></h3><div class=\"details\" id=\"20110009-7322\">Loading...</div><h3><a href=\"#20110148-0227\"><div class=\"results\"><div class=\"rank\">22</div><div class=\"journal\">J GEOPHYS RES<div class=\"issn\">ISSN: 0148-0227</div></div><div class=\"percentile\"><div class=\"pholder1\"><div class=\"pname1\">EF: </div><div class=\"pbar1\"><div class=\"pfill1\" style=\"width: 100px;\"></div></div><div class =\"pnum1\">100</div></div><div class=\"pholder2\"><div class=\"pname2\">AI: </div><div class=\"pbar2\"><div class=\"pfill2\" style=\"width: 89px;\"></div></div><div class =\"pnum2\">89</div></div></div><div class=\"EF\">0.332456</div><div class=\"AI\">1.4057</div></div></a></h3><div class=\"details\" id=\"20110148-0227\">Loading...</div><h3><a href=\"#20111061-4036\"><div class=\"results\"><div class=\"rank\">23</div><div class=\"journal\">NAT GENET<div class=\"issn\">ISSN: 1061-4036</div></div><div class=\"percentile\"><div class=\"pholder1\"><div class=\"pname1\">EF: </div><div class=\"pbar1\"><div class=\"pfill1\" style=\"width: 100px;\"></div></div><div class =\"pnum1\">100</div></div><div class=\"pholder2\"><div class=\"pname2\">AI: </div><div class=\"pbar2\"><div class=\"pfill2\" style=\"width: 100px;\"></div></div><div class =\"pnum2\">100</div></div></div><div class=\"EF\">0.329901</div><div class=\"AI\">17.5835</div></div></a></h3><div class=\"details\" id=\"20111061-4036\">Loading...</div><h3><a href=\"#20110305-1048\"><div class=\"results\"><div class=\"rank\">24</div><div class=\"journal\">NUCLEIC ACIDS RES<div class=\"issn\">ISSN: 0305-1048</div></div><div class=\"percentile\"><div class=\"pholder1\"><div class=\"pname1\">EF: </div><div class=\"pbar1\"><div class=\"pfill1\" style=\"width: 100px;\"></div></div><div class =\"pnum1\">100</div></div><div class=\"pholder2\"><div class=\"pname2\">AI: </div><div class=\"pbar2\"><div class=\"pfill2\" style=\"width: 97px;\"></div></div><div class =\"pnum2\">97</div></div></div><div class=\"EF\">0.304882</div><div class=\"AI\">3.0072</div></div></a></h3><div class=\"details\" id=\"20110305-1048\">Loading...</div><h3><a href=\"#20110021-8979\"><div class=\"results\"><div class=\"rank\">25</div><div class=\"journal\">J APPL PHYS<div class=\"issn\">ISSN: 0021-8979</div></div><div class=\"percentile\"><div class=\"pholder1\"><div class=\"pname1\">EF: </div><div class=\"pbar1\"><div class=\"pfill1\" style=\"width: 100px;\"></div></div><div class =\"pnum1\">100</div></div><div class=\"pholder2\"><div class=\"pname2\">AI: </div><div class=\"pbar2\"><div class=\"pfill2\" style=\"width: 73px;\"></div></div><div class =\"pnum2\">73</div></div></div><div class=\"EF\">0.301562</div><div class=\"AI\">0.8355</div></div></a></h3><div class=\"details\" id=\"20110021-8979\">Loading...</div><h3><a href=\"#20111550-7998\"><div class=\"results\"><div class=\"rank\">26</div><div class=\"journal\">PHYS REV D<div class=\"issn\">ISSN: 1550-7998</div></div><div class=\"percentile\"><div class=\"pholder1\"><div class=\"pname1\">EF: </div><div class=\"pbar1\"><div class=\"pfill1\" style=\"width: 100px;\"></div></div><div class =\"pnum1\">100</div></div><div class=\"pholder2\"><div class=\"pname2\">AI: </div><div class=\"pbar2\"><div class=\"pfill2\" style=\"width: 86px;\"></div></div><div class =\"pnum2\">86</div></div></div><div class=\"EF\">0.300804</div><div class=\"AI\">1.2451</div></div></a></h3><div class=\"details\" id=\"20111550-7998\">Loading...</div><h3><a href=\"#20110098-7484\"><div class=\"results\"><div class=\"rank\">27</div><div class=\"journal\">JAMA-J AM MED ASSOC<div class=\"issn\">ISSN: 0098-7484</div></div><div class=\"percentile\"><div class=\"pholder1\"><div class=\"pname1\">EF: </div><div class=\"pbar1\"><div class=\"pfill1\" style=\"width: 100px;\"></div></div><div class =\"pnum1\">100</div></div><div class=\"pholder2\"><div class=\"pname2\">AI: </div><div class=\"pbar2\"><div class=\"pfill2\" style=\"width: 100px;\"></div></div><div class =\"pnum2\">100</div></div></div><div class=\"EF\">0.285664</div><div class=\"AI\">13.111</div></div></a></h3><div class=\"details\" id=\"20110098-7484\">Loading...</div><h3><a href=\"#20111932-7447\"><div class=\"results\"><div class=\"rank\">28</div><div class=\"journal\">J PHYS CHEM C<div class=\"issn\">ISSN: 1932-7447</div></div><div class=\"percentile\"><div class=\"pholder1\"><div class=\"pname1\">EF: </div><div class=\"pbar1\"><div class=\"pfill1\" style=\"width: 100px;\"></div></div><div class =\"pnum1\">100</div></div><div class=\"pholder2\"><div class=\"pname2\">AI: </div><div class=\"pbar2\"><div class=\"pfill2\" style=\"width: 88px;\"></div></div><div class =\"pnum2\">88</div></div></div><div class=\"EF\">0.284716</div><div class=\"AI\">1.3421</div></div></a></h3><div class=\"details\" id=\"20111932-7447\">Loading...</div><h3><a href=\"#20110935-9648\"><div class=\"results\"><div class=\"rank\">29</div><div class=\"journal\">ADV MATER<div class=\"issn\">ISSN: 0935-9648</div></div><div class=\"percentile\"><div class=\"pholder1\"><div class=\"pname1\">EF: </div><div class=\"pbar1\"><div class=\"pfill1\" style=\"width: 100px;\"></div></div><div class =\"pnum1\">100</div></div><div class=\"pholder2\"><div class=\"pname2\">AI: </div><div class=\"pbar2\"><div class=\"pfill2\" style=\"width: 98px;\"></div></div><div class =\"pnum2\">98</div></div></div><div class=\"EF\">0.262413</div><div class=\"AI\">4.0706</div></div></a></h3><div class=\"details\" id=\"20110935-9648\">Loading...</div><h3><a href=\"#20110004-6361\"><div class=\"results\"><div class=\"rank\">30</div><div class=\"journal\">ASTRON ASTROPHYS<div class=\"issn\">ISSN: 0004-6361</div></div><div class=\"percentile\"><div class=\"pholder1\"><div class=\"pname1\">EF: </div><div class=\"pbar1\"><div class=\"pfill1\" style=\"width: 100px;\"></div></div><div class =\"pnum1\">100</div></div><div class=\"pholder2\"><div class=\"pname2\">AI: </div><div class=\"pbar2\"><div class=\"pfill2\" style=\"width: 90px;\"></div></div><div class =\"pnum2\">90</div></div></div><div class=\"EF\">0.254252</div><div class=\"AI\">1.4742</div></div></a></h3><div class=\"details\" id=\"20110004-6361\">Loading...</div><h3><a href=\"#20111097-2765\"><div class=\"results\"><div class=\"rank\">31</div><div class=\"journal\">MOL CELL<div class=\"issn\">ISSN: 1097-2765</div></div><div class=\"percentile\"><div class=\"pholder1\"><div class=\"pname1\">EF: </div><div class=\"pbar1\"><div class=\"pfill1\" style=\"width: 100px;\"></div></div><div class =\"pnum1\">100</div></div><div class=\"pholder2\"><div class=\"pname2\">AI: </div><div class=\"pbar2\"><div class=\"pfill2\" style=\"width: 100px;\"></div></div><div class =\"pnum2\">100</div></div></div><div class=\"EF\">0.250753</div><div class=\"AI\">8.9479</div></div></a></h3><div class=\"details\" id=\"20111097-2765\">Loading...</div><h3><a href=\"#20110035-8711\"><div class=\"results\"><div class=\"rank\">32</div><div class=\"journal\">MON NOT R ASTRON SOC<div class=\"issn\">ISSN: 0035-8711</div></div><div class=\"percentile\"><div class=\"pholder1\"><div class=\"pname1\">EF: </div><div class=\"pbar1\"><div class=\"pfill1\" style=\"width: 100px;\"></div></div><div class =\"pnum1\">100</div></div><div class=\"pholder2\"><div class=\"pname2\">AI: </div><div class=\"pbar2\"><div class=\"pfill2\" style=\"width: 91px;\"></div></div><div class =\"pnum2\">91</div></div></div><div class=\"EF\">0.248839</div><div class=\"AI\">1.6034</div></div></a></h3><div class=\"details\" id=\"20110035-8711\">Loading...</div><h3><a href=\"#20111520-6106\"><div class=\"results\"><div class=\"rank\">33</div><div class=\"journal\">J PHYS CHEM B<div class=\"issn\">ISSN: 1520-6106</div></div><div class=\"percentile\"><div class=\"pholder1\"><div class=\"pname1\">EF: </div><div class=\"pbar1\"><div class=\"pfill1\" style=\"width: 100px;\"></div></div><div class =\"pnum1\">100</div></div><div class=\"pholder2\"><div class=\"pname2\">AI: </div><div class=\"pbar2\"><div class=\"pfill2\" style=\"width: 84px;\"></div></div><div class =\"pnum2\">84</div></div></div><div class=\"EF\">0.246515</div><div class=\"AI\">1.1608</div></div></a></h3><div class=\"details\" id=\"20111520-6106\">Loading...</div><h3><a href=\"#20111359-7345\"><div class=\"results\"><div class=\"rank\">34</div><div class=\"journal\">CHEM COMMUN<div class=\"issn\">ISSN: 1359-7345</div></div><div class=\"percentile\"><div class=\"pholder1\"><div class=\"pname1\">EF: </div><div class=\"pbar1\"><div class=\"pfill1\" style=\"width: 100px;\"></div></div><div class =\"pnum1\">100</div></div><div class=\"pholder2\"><div class=\"pname2\">AI: </div><div class=\"pbar2\"><div class=\"pfill2\" style=\"width: 91px;\"></div></div><div class =\"pnum2\">91</div></div></div><div class=\"EF\">0.241003</div><div class=\"AI\">1.5516</div></div></a></h3><div class=\"details\" id=\"20111359-7345\">Loading...</div><h3><a href=\"#20111094-4087\"><div class=\"results\"><div class=\"rank\">35</div><div class=\"journal\">OPT EXPRESS<div class=\"issn\">ISSN: 1094-4087</div></div><div class=\"percentile\"><div class=\"pholder1\"><div class=\"pname1\">EF: </div><div class=\"pbar1\"><div class=\"pfill1\" style=\"width: 100px;\"></div></div><div class =\"pnum1\">100</div></div><div class=\"pholder2\"><div class=\"pname2\">AI: </div><div class=\"pbar2\"><div class=\"pfill2\" style=\"width: 85px;\"></div></div><div class =\"pnum2\">85</div></div></div><div class=\"EF\">0.240848</div><div class=\"AI\">1.1685</div></div></a></h3><div class=\"details\" id=\"20111094-4087\">Loading...</div><h3><a href=\"#20110094-8276\"><div class=\"results\"><div class=\"rank\">36</div><div class=\"journal\">GEOPHYS RES LETT<div class=\"issn\">ISSN: 0094-8276</div></div><div class=\"percentile\"><div class=\"pholder1\"><div class=\"pname1\">EF: </div><div class=\"pbar1\"><div class=\"pfill1\" style=\"width: 100px;\"></div></div><div class =\"pnum1\">100</div></div><div class=\"pholder2\"><div class=\"pname2\">AI: </div><div class=\"pbar2\"><div class=\"pfill2\" style=\"width: 94px;\"></div></div><div class =\"pnum2\">94</div></div></div><div class=\"EF\">0.23991</div><div class=\"AI\">1.9391</div></div></a></h3><div class=\"details\" id=\"20110094-8276\">Loading...</div><h3><a href=\"#20110021-9606\"><div class=\"results\"><div class=\"rank\">37</div><div class=\"journal\">J CHEM PHYS<div class=\"issn\">ISSN: 0021-9606</div></div><div class=\"percentile\"><div class=\"pholder1\"><div class=\"pname1\">EF: </div><div class=\"pbar1\"><div class=\"pfill1\" style=\"width: 100px;\"></div></div><div class =\"pnum1\">100</div></div><div class=\"pholder2\"><div class=\"pname2\">AI: </div><div class=\"pbar2\"><div class=\"pfill2\" style=\"width: 80px;\"></div></div><div class =\"pnum2\">80</div></div></div><div class=\"EF\">0.232653</div><div class=\"AI\">0.9931</div></div></a></h3><div class=\"details\" id=\"20110021-9606\">Loading...</div><h3><a href=\"#20110896-6273\"><div class=\"results\"><div class=\"rank\">38</div><div class=\"journal\">NEURON<div class=\"issn\">ISSN: 0896-6273</div></div><div class=\"percentile\"><div class=\"pholder1\"><div class=\"pname1\">EF: </div><div class=\"pbar1\"><div class=\"pfill1\" style=\"width: 100px;\"></div></div><div class =\"pnum1\">100</div></div><div class=\"pholder2\"><div class=\"pname2\">AI: </div><div class=\"pbar2\"><div class=\"pfill2\" style=\"width: 99px;\"></div></div><div class =\"pnum2\">99</div></div></div><div class=\"EF\">0.227501</div><div class=\"AI\">8.5079</div></div></a></h3><div class=\"details\" id=\"20110896-6273\">Loading...</div><h3><a href=\"#20110743-7463\"><div class=\"results\"><div class=\"rank\">39</div><div class=\"journal\">LANGMUIR<div class=\"issn\">ISSN: 0743-7463</div></div><div class=\"percentile\"><div class=\"pholder1\"><div class=\"pname1\">EF: </div><div class=\"pbar1\"><div class=\"pfill1\" style=\"width: 100px;\"></div></div><div class =\"pnum1\">100</div></div><div class=\"pholder2\"><div class=\"pname2\">AI: </div><div class=\"pbar2\"><div class=\"pfill2\" style=\"width: 85px;\"></div></div><div class =\"pnum2\">85</div></div></div><div class=\"EF\">0.22322</div><div class=\"AI\">1.1824</div></div></a></h3><div class=\"details\" id=\"20110743-7463\">Loading...</div><h3><a href=\"#20111476-1122\"><div class=\"results\"><div class=\"rank\">40</div><div class=\"journal\">NAT MATER<div class=\"issn\">ISSN: 1476-1122</div></div><div class=\"percentile\"><div class=\"pholder1\"><div class=\"pname1\">EF: </div><div class=\"pbar1\"><div class=\"pfill1\" style=\"width: 100px;\"></div></div><div class =\"pnum1\">100</div></div><div class=\"pholder2\"><div class=\"pname2\">AI: </div><div class=\"pbar2\"><div class=\"pfill2\" style=\"width: 100px;\"></div></div><div class =\"pnum2\">100</div></div></div><div class=\"EF\">0.220911</div><div class=\"AI\">17.9245</div></div></a></h3><div class=\"details\" id=\"20111476-1122\">Loading...</div><h3><a href=\"#20110735-1097\"><div class=\"results\"><div class=\"rank\">41</div><div class=\"journal\">J AM COLL CARDIOL<div class=\"issn\">ISSN: 0735-1097</div></div><div class=\"percentile\"><div class=\"pholder1\"><div class=\"pname1\">EF: </div><div class=\"pbar1\"><div class=\"pfill1\" style=\"width: 100px;\"></div></div><div class =\"pnum1\">100</div></div><div class=\"pholder2\"><div class=\"pname2\">AI: </div><div class=\"pbar2\"><div class=\"pfill2\" style=\"width: 99px;\"></div></div><div class =\"pnum2\">99</div></div></div><div class=\"EF\">0.22035</div><div class=\"AI\">4.884</div></div></a></h3><div class=\"details\" id=\"20110735-1097\">Loading...</div><h3><a href=\"#20111050-2947\"><div class=\"results\"><div class=\"rank\">42</div><div class=\"journal\">PHYS REV A<div class=\"issn\">ISSN: 1050-2947</div></div><div class=\"percentile\"><div class=\"pholder1\"><div class=\"pname1\">EF: </div><div class=\"pbar1\"><div class=\"pfill1\" style=\"width: 100px;\"></div></div><div class =\"pnum1\">100</div></div><div class=\"pholder2\"><div class=\"pname2\">AI: </div><div class=\"pbar2\"><div class=\"pfill2\" style=\"width: 79px;\"></div></div><div class =\"pnum2\">79</div></div></div><div class=\"EF\">0.219831</div><div class=\"AI\">0.9797</div></div></a></h3><div class=\"details\" id=\"20111050-2947\">Loading...</div><h3><a href=\"#20110021-9738\"><div class=\"results\"><div class=\"rank\">43</div><div class=\"journal\">J CLIN INVEST<div class=\"issn\">ISSN: 0021-9738</div></div><div class=\"percentile\"><div class=\"pholder1\"><div class=\"pname1\">EF: </div><div class=\"pbar1\"><div class=\"pfill1\" style=\"width: 100px;\"></div></div><div class =\"pnum1\">100</div></div><div class=\"pholder2\"><div class=\"pname2\">AI: </div><div class=\"pbar2\"><div class=\"pfill2\" style=\"width: 99px;\"></div></div><div class =\"pnum2\">99</div></div></div><div class=\"EF\">0.218367</div><div class=\"AI\">6.9507</div></div></a></h3><div class=\"details\" id=\"20110021-9738\">Loading...</div><h3><a href=\"#20110009-2665\"><div class=\"results\"><div class=\"rank\">44</div><div class=\"journal\">CHEM REV<div class=\"issn\">ISSN: 0009-2665</div></div><div class=\"percentile\"><div class=\"pholder1\"><div class=\"pname1\">EF: </div><div class=\"pbar1\"><div class=\"pfill1\" style=\"width: 100px;\"></div></div><div class =\"pnum1\">100</div></div><div class=\"pholder2\"><div class=\"pname2\">AI: </div><div class=\"pbar2\"><div class=\"pfill2\" style=\"width: 100px;\"></div></div><div class =\"pnum2\">100</div></div></div><div class=\"EF\">0.214699</div><div class=\"AI\">13.3332</div></div></a></h3><div class=\"details\" id=\"20110009-2665\">Loading...</div><h3><a href=\"#20110890-9369\"><div class=\"results\"><div class=\"rank\">45</div><div class=\"journal\">GENE DEV<div class=\"issn\">ISSN: 0890-9369</div></div><div class=\"percentile\"><div class=\"pholder1\"><div class=\"pname1\">EF: </div><div class=\"pbar1\"><div class=\"pfill1\" style=\"width: 100px;\"></div></div><div class =\"pnum1\">100</div></div><div class=\"pholder2\"><div class=\"pname2\">AI: </div><div class=\"pbar2\"><div class=\"pfill2\" style=\"width: 99px;\"></div></div><div class =\"pnum2\">99</div></div></div><div class=\"EF\">0.209552</div><div class=\"AI\">8.0181</div></div></a></h3><div class=\"details\" id=\"20110890-9369\">Loading...</div><h3><a href=\"#20111078-0432\"><div class=\"results\"><div class=\"rank\">46</div><div class=\"journal\">CLIN CANCER RES<div class=\"issn\">ISSN: 1078-0432</div></div><div class=\"percentile\"><div class=\"pholder1\"><div class=\"pname1\">EF: </div><div class=\"pbar1\"><div class=\"pfill1\" style=\"width: 100px;\"></div></div><div class =\"pnum1\">100</div></div><div class=\"pholder2\"><div class=\"pname2\">AI: </div><div class=\"pbar2\"><div class=\"pfill2\" style=\"width: 96px;\"></div></div><div class =\"pnum2\">96</div></div></div><div class=\"EF\">0.20597</div><div class=\"AI\">2.538</div></div></a></h3><div class=\"details\" id=\"20111078-0432\">Loading...</div><h3><a href=\"#20111539-3755\"><div class=\"results\"><div class=\"rank\">47</div><div class=\"journal\">PHYS REV E<div class=\"issn\">ISSN: 1539-3755</div></div><div class=\"percentile\"><div class=\"pholder1\"><div class=\"pname1\">EF: </div><div class=\"pbar1\"><div class=\"pfill1\" style=\"width: 100px;\"></div></div><div class =\"pnum1\">100</div></div><div class=\"pholder2\"><div class=\"pname2\">AI: </div><div class=\"pbar2\"><div class=\"pfill2\" style=\"width: 79px;\"></div></div><div class =\"pnum2\">79</div></div></div><div class=\"EF\">0.205905</div><div class=\"AI\">0.958</div></div></a></h3><div class=\"details\" id=\"20111539-3755\">Loading...</div><h3><a href=\"#20110022-538X\"><div class=\"results\"><div class=\"rank\">48</div><div class=\"journal\">J VIROL<div class=\"issn\">ISSN: 0022-538X</div></div><div class=\"percentile\"><div class=\"pholder1\"><div class=\"pname1\">EF: </div><div class=\"pbar1\"><div class=\"pfill1\" style=\"width: 100px;\"></div></div><div class =\"pnum1\">100</div></div><div class=\"pholder2\"><div class=\"pname2\">AI: </div><div class=\"pbar2\"><div class=\"pfill2\" style=\"width: 91px;\"></div></div><div class =\"pnum2\">91</div></div></div><div class=\"EF\">0.190607</div><div class=\"AI\">1.5928</div></div></a></h3><div class=\"details\" id=\"20110022-538X\">Loading...</div><h3><a href=\"#20110013-936X\"><div class=\"results\"><div class=\"rank\">49</div><div class=\"journal\">ENVIRON SCI TECHNOL<div class=\"issn\">ISSN: 0013-936X</div></div><div class=\"percentile\"><div class=\"pholder1\"><div class=\"pname1\">EF: </div><div class=\"pbar1\"><div class=\"pfill1\" style=\"width: 100px;\"></div></div><div class =\"pnum1\">100</div></div><div class=\"pholder2\"><div class=\"pname2\">AI: </div><div class=\"pbar2\"><div class=\"pfill2\" style=\"width: 91px;\"></div></div><div class =\"pnum2\">91</div></div></div><div class=\"EF\">0.189289</div><div class=\"AI\">1.6039</div></div></a></h3><div class=\"details\" id=\"20110013-936X\">Loading...</div><h3><a href=\"#20110022-1007\"><div class=\"results\"><div class=\"rank\">50</div><div class=\"journal\">J EXP MED<div class=\"issn\">ISSN: 0022-1007</div></div><div class=\"percentile\"><div class=\"pholder1\"><div class=\"pname1\">EF: </div><div class=\"pbar1\"><div class=\"pfill1\" style=\"width: 100px;\"></div></div><div class =\"pnum1\">100</div></div><div class=\"pholder2\"><div class=\"pname2\">AI: </div><div class=\"pbar2\"><div class=\"pfill2\" style=\"width: 99px;\"></div></div><div class =\"pnum2\">99</div></div></div><div class=\"EF\">0.188512</div><div class=\"AI\">7.8344</div></div></a></h3><div class=\"details\" id=\"20110022-1007\">Loading...</div></div><ul class=\\'pagination\\'><li class=\\'detailsPG\\'>Page 1 of 215</li><li><a class=\\'current\\'>1</a></li><li><a href=\\'?bsearch=2011&searchby=year&orderby=eigenfactor&page=2\\'>2</a></li><li><a href=\\'?bsearch=2011&searchby=year&orderby=eigenfactor&page=3\\'>3</a></li><li><a href=\\'?bsearch=2011&searchby=year&orderby=eigenfactor&page=4\\'>4</a></li><li><a href=\\'?bsearch=2011&searchby=year&orderby=eigenfactor&page=5\\'>5</a></li><li><a href=\\'?bsearch=2011&searchby=year&orderby=eigenfactor&page=6\\'>6</a></li><li><a href=\\'?bsearch=2011&searchby=year&orderby=eigenfactor&page=7\\'>7</a></li><li class=\\'dot\\'>...</li><li><a href=\\'?bsearch=2011&searchby=year&orderby=eigenfactor&page=214\\'>214</a></li><li><a href=\\'?bsearch=2011&searchby=year&orderby=eigenfactor&page=215\\'>215</a></li><li><a href=\\'?bsearch=2011&searchby=year&orderby=eigenfactor&page=2\\'>Next</a></li><li><a href=\\'?bsearch=2011&searchby=year&orderby=eigenfactor&page=215\\'>Last</a></li></ul>\\n</div>\\t\\r\\n      <!-- End Content Box -->\\r\\n\\r\\n\\r\\n\\r\\n\\t\\t\\t\\t\\t\\t<!-- End of Content -->\\r\\n\\t\\t\\t\\t\\t\\t\\r\\n\\t\\t\\t\\t\\t\\t <!-- Space Bar1 -->\\r\\n\\t\\t\\t\\t\\t\\t<div class=\"spacebar1\"></div>\\r\\n\\r\\n\\t\\t\\t\\t\\t\\t<!-- Footer -->\\r\\n\\t\\t\\t\\t\\t\\t<div class=\"footer\"><p>Copyright &copy; 2012 <a href=\"http://www.washington.edu/\">University of Washington</a></p></div>\\r\\n\\r\\n\\t\\t\\t\\t\\t</div>\\r\\n\\t\\t\\t\\t\\t<!-- End Content -->\\r\\n\\r\\n\\t\\t\\t\\t\\t<!-- Right Panel -->\\r\\n\\t\\t\\t\\t\\t<div class=\"rightside\"></div>\\r\\n\\r\\n\\t\\t\\t\\t</div>\\r\\n\\t\\t\\t  <!-- End Main Container -->\\r\\n\\r\\n\\t\\t\\t</body>\\r\\n\\r\\n\\t\\t\\t</html>\\r\\n\\t\\t\\t\\r\\n\\t\\t'"
       ]
      }
     ],
     "prompt_number": 2
    },
    {
     "cell_type": "code",
     "collapsed": false,
     "input": [
      "import time\n",
      "import random\n",
      "\n",
      "random.randint(2,7)"
     ],
     "language": "python",
     "metadata": {},
     "outputs": [
      {
       "metadata": {},
       "output_type": "pyout",
       "prompt_number": 8,
       "text": [
        "7"
       ]
      }
     ],
     "prompt_number": 8
    },
    {
     "cell_type": "code",
     "collapsed": false,
     "input": [
      "data = []\n",
      "import urllib2\n",
      "for page in range(1,25+1):\n",
      "    url = \"http://www.eigenfactor.org/rankings.php?bsearch=2011&searchby=year&orderby=eigenfactor&page=%d\"%page\n",
      "    f = urllib2.urlopen(url)\n",
      "    x = f.read()\n",
      "    data.append(x)\n",
      "    f.close()\n",
      "    sleepsec = random.randint(2,7)\n",
      "    print \"read page %d. Sleeping for %d sec.\"%(page, sleepsec)\n",
      "    time.sleep(sleepsec)\n",
      "    \n",
      "    "
     ],
     "language": "python",
     "metadata": {},
     "outputs": [
      {
       "output_type": "stream",
       "stream": "stdout",
       "text": [
        "read page 1. Sleeping for 3 sec.\n",
        "read page 2. Sleeping for 6 sec."
       ]
      },
      {
       "output_type": "stream",
       "stream": "stdout",
       "text": [
        "\n",
        "read page 3. Sleeping for 3 sec."
       ]
      },
      {
       "output_type": "stream",
       "stream": "stdout",
       "text": [
        "\n",
        "read page 4. Sleeping for 6 sec."
       ]
      },
      {
       "output_type": "stream",
       "stream": "stdout",
       "text": [
        "\n",
        "read page 5. Sleeping for 3 sec."
       ]
      },
      {
       "output_type": "stream",
       "stream": "stdout",
       "text": [
        "\n",
        "read page 6. Sleeping for 5 sec."
       ]
      },
      {
       "output_type": "stream",
       "stream": "stdout",
       "text": [
        "\n",
        "read page 7. Sleeping for 7 sec."
       ]
      },
      {
       "output_type": "stream",
       "stream": "stdout",
       "text": [
        "\n",
        "read page 8. Sleeping for 2 sec."
       ]
      },
      {
       "output_type": "stream",
       "stream": "stdout",
       "text": [
        "\n",
        "read page 9. Sleeping for 6 sec."
       ]
      },
      {
       "output_type": "stream",
       "stream": "stdout",
       "text": [
        "\n",
        "read page 10. Sleeping for 6 sec."
       ]
      },
      {
       "output_type": "stream",
       "stream": "stdout",
       "text": [
        "\n",
        "read page 11. Sleeping for 5 sec."
       ]
      },
      {
       "output_type": "stream",
       "stream": "stdout",
       "text": [
        "\n",
        "read page 12. Sleeping for 7 sec."
       ]
      },
      {
       "output_type": "stream",
       "stream": "stdout",
       "text": [
        "\n",
        "read page 13. Sleeping for 5 sec."
       ]
      },
      {
       "output_type": "stream",
       "stream": "stdout",
       "text": [
        "\n",
        "read page 14. Sleeping for 4 sec."
       ]
      },
      {
       "output_type": "stream",
       "stream": "stdout",
       "text": [
        "\n",
        "read page 15. Sleeping for 2 sec."
       ]
      },
      {
       "output_type": "stream",
       "stream": "stdout",
       "text": [
        "\n",
        "read page 16. Sleeping for 5 sec."
       ]
      },
      {
       "output_type": "stream",
       "stream": "stdout",
       "text": [
        "\n",
        "read page 17. Sleeping for 4 sec."
       ]
      },
      {
       "output_type": "stream",
       "stream": "stdout",
       "text": [
        "\n",
        "read page 18. Sleeping for 7 sec."
       ]
      },
      {
       "output_type": "stream",
       "stream": "stdout",
       "text": [
        "\n",
        "read page 19. Sleeping for 2 sec."
       ]
      },
      {
       "output_type": "stream",
       "stream": "stdout",
       "text": [
        "\n",
        "read page 20. Sleeping for 2 sec."
       ]
      },
      {
       "output_type": "stream",
       "stream": "stdout",
       "text": [
        "\n",
        "read page 21. Sleeping for 7 sec."
       ]
      },
      {
       "output_type": "stream",
       "stream": "stdout",
       "text": [
        "\n",
        "read page 22. Sleeping for 3 sec."
       ]
      },
      {
       "output_type": "stream",
       "stream": "stdout",
       "text": [
        "\n",
        "read page 23. Sleeping for 2 sec."
       ]
      },
      {
       "output_type": "stream",
       "stream": "stdout",
       "text": [
        "\n",
        "read page 24. Sleeping for 6 sec."
       ]
      },
      {
       "output_type": "stream",
       "stream": "stdout",
       "text": [
        "\n",
        "read page 25. Sleeping for 5 sec."
       ]
      },
      {
       "output_type": "stream",
       "stream": "stdout",
       "text": [
        "\n"
       ]
      }
     ],
     "prompt_number": 10
    },
    {
     "cell_type": "code",
     "collapsed": false,
     "input": [
      "# save the result:\n",
      "\n",
      "import csv\n",
      "f = open('/vagrant/cs109_firstOrPerish/data_munging/eigenRaw.csv', 'w')\n",
      "writer = csv.writer(f, dialect=csv.excel)\n",
      "for d in data:\n",
      "    writer.writerow(d)\n",
      "f.close()"
     ],
     "language": "python",
     "metadata": {},
     "outputs": [],
     "prompt_number": 12
    },
    {
     "cell_type": "code",
     "collapsed": false,
     "input": [
      "data[0]"
     ],
     "language": "python",
     "metadata": {},
     "outputs": [
      {
       "metadata": {},
       "output_type": "pyout",
       "prompt_number": 13,
       "text": [
        "'\\r\\n\\r\\n\\r\\n\\t\\t\\t\\r\\n\\t\\t\\t<html lang=\"en-US\">\\r\\n\\r\\n\\t\\t\\t<head>\\r\\n\\r\\n\\t\\t\\t\\t<meta name=\"author\" content=\"Jevin D. West\"></meta>\\r\\n\\t\\t\\t\\t<meta name=\"description\" content=\"Eigenfactor: ranking and mapping scientific knowledge\"></meta> \\r\\n\\t\\t\\t\\t<meta name=\"keywords\" content=\"Eigenfactor, journal ranking, mapping science\"></meta>\\r\\n\\t\\t\\t\\t \\r\\n\\t\\t\\t\\t<title>Eigenfactor</title>\\r\\n\\t\\t\\t\\t<link rel=\"shortcut icon\" href=\"http://www.eigenfactor.org/images/EFlogo.png\" type=\"image/png\" />\\r\\n\\r\\n\\r\\n\\t\\t\\t\\t<link rel=\"stylesheet\" href=\"http://www.eigenfactor.org/css/ef.css\" type=\"text/css\"></link>\\r\\n\\t\\t\\t\\t\\r\\n\\t\\t\\t\\t<link rel=\"stylesheet\" href=\"http://www.eigenfactor.org/css/p7exp.css\" type=\"text/css\"></link>\\t\\r\\n\\t\\t\\t\\t<link rel=\"stylesheet\" href=\"http://www.eigenfactor.org/css/quickmenu_styles.css\" type=\"text/css\"></link>\\r\\n\\t\\t\\t\\t\\r\\n\\t\\t\\t\\t<link rel=\"stylesheet\" href=\"http://www.eigenfactor.org/css/jquery-ui-1.8.16.custom.css\" type=\"text/css\"></link>\\r\\n\\t\\t\\t\\t<link rel=\"stylesheet\" type=\"text/css\" href=\"http://www.eigenfactor.org/css/jquery.jqplot.css\" />\\r\\n\\t\\t\\t\\t\\r\\n\\t\\t\\t\\t\\r\\n\\t\\t\\t\\t<script type=\"text/javascript\" src=\"http://www.eigenfactor.org/js/quickmenu.js\"></script>\\r\\n\\t\\t\\t\\t<script type=\"text/javascript\" src=\"http://www.eigenfactor.org/js/p7exp.js\"></script>\\t\\t\\r\\n\\t\\t\\t\\t\\r\\n\\t\\t\\t\\t<script type=\"text/javascript\" src=\"http://www.eigenfactor.org/js/jquery-1.6.2.min.js\"></script>\\r\\n\\t\\t\\t\\t<script type=\"text/javascript\" src=\"http://www.eigenfactor.org/js/jquery-ui-1.8.16.custom.min.js\"></script>\\t\\t\\r\\n\\t\\t\\t\\t\\r\\n\\t\\t\\t</head>\\r\\n\\r\\n\\r\\n\\t\\t\\t<body>\\r\\n\\t\\t\\t\\t\\r\\n\\t\\t\\t\\t<!-- Main Container -->\\r\\n\\t\\t\\t\\t<div class=\"container\">\\r\\n\\r\\n\\t\\t\\t\\t  <!-- Left Panel -->\\r\\n\\t\\t\\t\\t\\t<div class=\"leftside\"></div>\\r\\n\\r\\n\\t\\t\\t\\t\\t<!-- Content -->\\r\\n\\t\\t\\t\\t\\t<div class=\"middleside\">\\r\\n\\t\\t\\t\\t\\t\\t\\r\\n\\t\\t\\t\\t\\t\\t<!-- Header -->\\r\\n\\t\\t\\t\\t\\t\\t<div id=\"headerimage\"><a href=\"http://www.eigenfactor.org\"><img src=\"http://www.eigenfactor.org/images/header.jpg\" width=\"700\" height=\"150\" border=\"0\" /></a></div>\\r\\n\\t\\t\\t\\t\\t\\t\\r\\n\\t\\t\\t\\t\\t\\t<!-- Space Bar -->\\r\\n\\t\\t\\t\\t\\t\\t<div class=\"spacebar1\"></div>\\r\\n\\r\\n\\t\\t\\t\\t\\t\\t\\r\\n\\t\\t\\t\\t\\t\\t\\r\\n\\t\\t\\t\\t\\t\\t<!-- Navigation Bar -->\\r\\n\\t\\t\\t\\t\\t\\t<div class=\"navigation\">\\r\\n\\r\\n\\t\\t\\t\\t\\t\\t\\t<!-- navigation contents -->\\r\\n\\t\\t\\t\\t\\t\\t\\t<ul id=\"qm0\" class=\"qmmc\">\\r\\n\\r\\n\\t\\t\\t\\t\\t\\t\\t\\t<li><a class=\"qmparent\" href=\"http://www.eigenfactor.org/index.php\">eigenfactor search</a>\\r\\n\\t\\t\\t\\t\\t\\t\\t\\t    <ul>\\r\\n\\t\\t\\t\\t\\t\\t\\t\\t       <li><a href=\"http://www.eigenfactor.org/motion/\">motion graphs</a></li>\\r\\n\\t\\t\\t\\t\\t\\t\\t\\t       <li><span class=\"qmdivider qmdividerx\" ></span></li>\\r\\n\\t\\t\\t\\t\\t\\t\\t\\t       <li><a href=\"http://www.eigenfactor.org/advanced.php\">advanced search</a></li>\\r\\n\\t\\t\\t\\t\\t\\t\\t\\t    </ul>\\r\\n\\t\\t\\t\\t\\t\\t\\t\\t</li>\\r\\n\\r\\n\\t\\t\\t\\t\\t\\t\\t\\t<li><span class=\"qmdivider qmdividery\" ></span></li>\\r\\n\\r\\n\\t\\t\\t\\t\\t\\t\\t\\t<li><a class=\"qmparent\" href=\"/map/index.php\">mapping</a>\\r\\n\\t\\t\\t\\t\\t\\t\\t\\t\\t  <ul>\\r\\n\\t\\t\\t\\t\\t\\t\\t\\t\\t     <li><a href=\"http://www.eigenfactor.org/map/index.php\">interactive browser</a></li>\\r\\n\\t\\t\\t\\t\\t\\t\\t         <li><a href=\"http://www.eigenfactor.org/map/maps.php\">maps</a></li>\\r\\n\\t\\t\\t\\t\\t\\t\\t\\t\\t\\t\\t<li><a href=\"http://mas.eigenfactor.org/journalLevel/indexIframe.php\">mas</a></li>\\r\\n\\t\\t\\t\\t\\t\\t\\t\\t\\t     <li><a href=\"http://www.eigenfactor.org/map/methods.php\">methods</a></li>\\r\\n\\t\\t\\t\\t\\t\\t\\t\\t\\t     <li><span class=\"qmdivider qmdividerx\" ></span></li>\\r\\n\\t\\t\\t\\t\\t\\t\\t\\t\\t\\t\\t <li><a href=\"http://www.mapequation.org\">mapequation.org</a></li>\\r\\n\\t\\t\\t\\t\\t\\t\\t\\t\\t  </ul>\\r\\n\\t\\t\\t\\t\\t\\t\\t\\t</li>\\r\\n\\r\\n\\t\\t\\t\\t\\t\\t\\t\\t<li><span class=\"qmdivider qmdividery\" ></span></li>\\r\\n\\r\\n\\t\\t\\t\\t\\t\\t\\t\\t<li><a class=\"qmparent\" href=\"http://www.eigenfactor.org/methods.php\">information</a>\\r\\n\\t\\t\\t\\t\\t\\t\\t\\t\\t  <ul>\\r\\n\\t\\t\\t\\t\\t\\t\\t\\t\\t     <li><a href=\"http://www.eigenfactor.org/whyeigenfactor.php\">why eigenfactor</a></li>\\r\\n\\t\\t\\t\\t\\t\\t\\t\\t\\t     <li><a href=\"http://www.eigenfactor.org/methods.php\">methods</a></li>\\r\\n\\t\\t\\t\\t\\t\\t\\t\\t\\t     <li><a href=\"http://www.eigenfactor.org/stats.php\">stats</a></li>\\r\\n\\t\\t\\t\\t\\t\\t\\t\\t\\t     <li><span class=\"qmdivider qmdividerx\" ></span></li>\\r\\n\\t\\t\\t\\t\\t\\t\\t         <li><a href=\"http://www.eigenfactor.org/papers.php\">papers</a></li>\\r\\n\\t\\t\\t\\t\\t\\t\\t\\t\\t  </ul>\\r\\n\\t\\t\\t\\t\\t\\t\\t\\t</li>\\r\\n\\r\\n\\t\\t\\t\\t\\t\\t\\t\\t<li><span class=\"qmdivider qmdividery\" ></span></li>\\r\\n\\r\\n\\t\\t\\t\\t\\t\\t\\t  <li><a href=\"http://well-formed.eigenfactor.org\">well-formed</a></li>\\r\\n\\r\\n\\t\\t\\t\\t\\t\\t\\t  <li><span class=\"qmdivider qmdividery\" ></span></li>\\r\\n\\t\\t\\t\\t\\t\\t\\t\\r\\n\\t\\t\\t\\t\\t\\t\\t  <li><a class=\"qmparent\" href=\"http://www.eigenfactor.org/openaccess/\">cost effectiveness</a>\\r\\n\\t\\t\\t\\t\\t\\t\\t\\t\\t\\t<ul>\\r\\n\\t\\t\\t\\t\\t\\t\\t\\t       <li><a href=\"http://www.eigenfactor.org/costeffectiveness.php\">Subscriptions</a></li>\\r\\n\\t\\t\\t\\t\\t             <li><a href=\"http://www.eigenfactor.org/openaccess/\">Open Access Author Fees (Beta)</a></li>\\r\\n\\t\\t\\t\\t\\t\\t\\t\\t    </ul>\\r\\n\\t\\t\\t\\t\\t\\t\\t\\r\\n\\t\\t\\t\\t\\t\\t\\t\\t<li><span class=\"qmdivider qmdividery\" ></span></li>\\r\\n\\r\\n\\t\\t\\t\\t\\t\\t\\t\\t<li><a class=\"qmparent\" href=\"http://mas.eigenfactor.org/\">recommendation</a>\\r\\n\\t\\t\\t\\t\\t\\t\\t\\t  <ul>\\r\\n\\t\\t\\t\\t\\t\\t\\t\\t       <li><a href=\"http://mas.eigenfactor.org\">Microsoft Academic Search</a></li>\\r\\n\\t\\t\\t\\t\\t                   <li><a href=\"http://jstor.eigenfactor.org/\">JSTOR</a></li>\\r\\n\\t\\t\\t\\t\\t\\t\\t\\t  </ul>\\r\\n\\t\\t\\t\\t\\t\\t\\t\\t</li>\\r\\n\\r\\n\\t\\t\\t\\t\\t\\t\\t\\t<li><span class=\"qmdivider qmdividery\" ></span></li>\\r\\n\\r\\n\\t\\t\\t\\t\\t\\t\\t\\t<li><a class=\"qmparent\" href=\"http://www.eigenfactor.org/gender\">gender</a>\\r\\n\\t\\t\\t\\t\\t\\t\\t\\t\\r\\n\\t\\t\\t\\t\\t\\t\\t\\t<li><span class=\"qmdivider qmdividery\" ></span></li>\\r\\n\\r\\n\\t\\t\\t\\t\\t\\t\\t  <li><a class=\"qmparent\" href=\"http://www.eigenfactor.org/about.php\">about</a>\\r\\n\\t\\t\\t\\t\\t          <ul>\\r\\n\\t\\t\\t\\t\\t\\t\\t\\t       <li><a href=\"http://www.eigenfactor.org/faq.php\">faq</a></li>\\r\\n\\t\\t\\t\\t\\t\\t\\t\\t       <li><span class=\"qmdivider qmdividerx\" ></span></li>\\r\\n\\t\\t\\t\\t\\t             <li><a href=\"http://www.eigenfactor.org/about.php\">contact</a></li>\\r\\n\\t\\t\\t\\t\\t\\t\\t\\t    </ul>\\r\\n\\t\\t\\t\\t\\t\\t\\t\\t</li>\\r\\n\\r\\n\\t\\t\\t\\t\\t\\t\\t  <li class=\"qmclear\">&nbsp;</li>\\r\\n\\r\\n\\t\\t\\t\\t\\t\\t\\t</ul>\\r\\n\\t\\t\\t\\t\\t\\t  <!-- End navigation contents -->\\r\\n\\r\\n\\r\\n\\t\\t\\t\\t\\t\\t</div>\\r\\n\\t\\t\\t\\t\\t\\t<!-- End Navigation Bar -->\\r\\n\\r\\n\\r\\n\\t\\t\\t\\t\\t\\t<!-- Space Bar1 -->\\r\\n\\t\\t\\t\\t\\t\\t<div class=\"spacebar1\"></div>\\r\\n\\t\\t\\t\\t\\t\\t\\r\\n\\t\\t\\t\\t\\t\\t<!-- Beginning of Content -->\\r\\n\\t\\t\\t\\t\\t\\t\\r\\n\\t\\t\\t\\r\\n\\t  \\r\\n\\r\\n<link href=\"css/pagination.css\" rel=\"stylesheet\" type=\"text/css\" />\\r\\n\\t<link href=\"css/grey.css\" rel=\"stylesheet\" type=\"text/css\" />\\r\\n\\r\\n<!-- JS -->\\r\\n\\r\\n<script language=\"javascript\" type=\"text/javascript\" src=\"http://www.eigenfactor.org/js/jquery.jqplot.min.js\"></script>\\r\\n<script type=\"text/javascript\" src=\"http://www.eigenfactor.org/js/jqplot.canvasTextRenderer.min.js\"></script>\\r\\n<script type=\"text/javascript\" src=\"http://www.eigenfactor.org/js/jqplot.canvasAxisLabelRenderer.min.js\"></script>\\r\\n<script type=\"text/javascript\" src=\"http://www.eigenfactor.org/js/jqplot.json2.min.js\"></script>\\r\\n<script type=\"text/javascript\" src=\"http://www.eigenfactor.org/js/jqplot.ciParser.min.js\"></script>\\r\\n<script language=\"javascript\" type=\"text/javascript\" src=\"http://www.eigenfactor.org/js/jqplot.highlighter.min.js\"></script>\\r\\n<script language=\"javascript\" type=\"text/javascript\" src=\"http://www.eigenfactor.org/js/jqplot.logAxisRenderer.min.js\"></script>\\r\\n\\r\\n\\r\\n<script type=\"text/javascript\">\\r\\n    $(function(){\\r\\n        // Accordion //\\r\\n        $(\"#accordion\").accordion({ header: \"h3\",collapsible: true,active: false});\\r\\n        $(\"#accordion a\").click(function(evt) {\\r\\n              var galleryId = $(this).attr(\\'href\\').split(\\'#\\')[1];\\r\\n              var contentDiv = $(\\'#\\' + galleryId);\\r\\n              if(contentDiv.html() == \"Loading...\") {\\r\\n\\t\\t\\t\\t\\t\\t\\t\\t\\t\\t$(contentDiv).load(\\'getdetails.php?year=\\' + galleryId.substring(0,4) + \\'&issn=\\' + galleryId.substring(4));\\r\\n              }\\r\\n         });\\r\\n\\t\\t\\t\\t$(\"#accordion span\").click(function(evt2) {\\r\\n              var galleryId = $(this).next().attr(\\'href\\').split(\\'#\\')[1];\\r\\n              var contentDiv = $(\\'#\\' + galleryId);\\r\\n              if(contentDiv.html() == \"Loading...\") {\\r\\n\\t\\t\\t\\t\\t\\t\\t\\t\\t\\t$(contentDiv).load(\\'getdetails.php?year=\\' + galleryId.substring(0,4) + \\'&issn=\\' + galleryId.substring(4));\\r\\n              }\\r\\n         });\\r\\n    });\\r\\n</script>\\r\\n\\r\\n\\r\\n<!-- END JS -->\\r\\n\\r\\n\\r\\n\\r\\n\\r\\n<!-- Content Box -->\\r\\n<div class=\"content_box\">\\r\\n\\r\\n\\r\\n\\t\\r\\n\\t<!-- Header Bar -->\\r\\n\\t<div class=\"results\" style=\"margin-left: 30px; margin-top: 20px; height:40px;\">\\r\\n\\t\\r\\n\\t\\t<div class=\"rank\"><h3>Order</h3></div>\\r\\n\\t\\t<div class=\"journal\" style=\"width:320px;\"><h3>Journal</h3></div>\\r\\n\\t\\t<div class=\"percentile\" style=\"width:170px;\"><h3>Percentile</h3></div>\\r\\n\\t\\t<div class=\"EF\" style=\"text-align:center;\"><h3>EF <a href=\"http://www.eigenfactor.org/rankings.php?bsearch=2011&searchby=year&orderby=eigenfactor\">&#8595</a></h3></div>\\r\\n\\t\\t<div class=\"AI\" style=\"text-align:center;\"><h3>AI <a href=\"http://www.eigenfactor.org/rankings.php?bsearch=2011&searchby=year&orderby=articleinfluence\">&#8595</a></h3></div>\\r\\n\\t\\r\\n\\t</div>\\r\\n\\t<!-- End Header Bar -->\\r\\n\\t\\r\\n\\t\\r\\n\\t<div id=\"accordion\"><h3><a href=\"#20110028-0836\"><div class=\"results\"><div class=\"rank\">1</div><div class=\"journal\">NATURE<div class=\"issn\">ISSN: 0028-0836</div></div><div class=\"percentile\"><div class=\"pholder1\"><div class=\"pname1\">EF: </div><div class=\"pbar1\"><div class=\"pfill1\" style=\"width: 100px;\"></div></div><div class =\"pnum1\">100</div></div><div class=\"pholder2\"><div class=\"pname2\">AI: </div><div class=\"pbar2\"><div class=\"pfill2\" style=\"width: 100px;\"></div></div><div class =\"pnum2\">100</div></div></div><div class=\"EF\">1.65524</div><div class=\"AI\">20.373</div></div></a></h3><div class=\"details\" id=\"20110028-0836\">Loading...</div><h3><a href=\"#20110027-8424\"><div class=\"results\"><div class=\"rank\">2</div><div class=\"journal\">P NATL ACAD SCI USA<div class=\"issn\">ISSN: 0027-8424</div></div><div class=\"percentile\"><div class=\"pholder1\"><div class=\"pname1\">EF: </div><div class=\"pbar1\"><div class=\"pfill1\" style=\"width: 100px;\"></div></div><div class =\"pnum1\">100</div></div><div class=\"pholder2\"><div class=\"pname2\">AI: </div><div class=\"pbar2\"><div class=\"pfill2\" style=\"width: 99px;\"></div></div><div class =\"pnum2\">99</div></div></div><div class=\"EF\">1.60168</div><div class=\"AI\">4.8961</div></div></a></h3><div class=\"details\" id=\"20110027-8424\">Loading...</div><h3><a href=\"#20110036-8075\"><div class=\"results\"><div class=\"rank\">3</div><div class=\"journal\">SCIENCE<div class=\"issn\">ISSN: 0036-8075</div></div><div class=\"percentile\"><div class=\"pholder1\"><div class=\"pname1\">EF: </div><div class=\"pbar1\"><div class=\"pfill1\" style=\"width: 100px;\"></div></div><div class =\"pnum1\">100</div></div><div class=\"pholder2\"><div class=\"pname2\">AI: </div><div class=\"pbar2\"><div class=\"pfill2\" style=\"width: 100px;\"></div></div><div class =\"pnum2\">100</div></div></div><div class=\"EF\">1.41162</div><div class=\"AI\">17.5248</div></div></a></h3><div class=\"details\" id=\"20110036-8075\">Loading...</div><h3><a href=\"#20110031-9007\"><div class=\"results\"><div class=\"rank\">4</div><div class=\"journal\">PHYS REV LETT<div class=\"issn\">ISSN: 0031-9007</div></div><div class=\"percentile\"><div class=\"pholder1\"><div class=\"pname1\">EF: </div><div class=\"pbar1\"><div class=\"pfill1\" style=\"width: 100px;\"></div></div><div class =\"pnum1\">100</div></div><div class=\"pholder2\"><div class=\"pname2\">AI: </div><div class=\"pbar2\"><div class=\"pfill2\" style=\"width: 98px;\"></div></div><div class =\"pnum2\">98</div></div></div><div class=\"EF\">1.14457</div><div class=\"AI\">3.5175</div></div></a></h3><div class=\"details\" id=\"20110031-9007\">Loading...</div><h3><a href=\"#20110002-7863\"><div class=\"results\"><div class=\"rank\">5</div><div class=\"journal\">J AM CHEM SOC<div class=\"issn\">ISSN: 0002-7863</div></div><div class=\"percentile\"><div class=\"pholder1\"><div class=\"pname1\">EF: </div><div class=\"pbar1\"><div class=\"pfill1\" style=\"width: 100px;\"></div></div><div class =\"pnum1\">100</div></div><div class=\"pholder2\"><div class=\"pname2\">AI: </div><div class=\"pbar2\"><div class=\"pfill2\" style=\"width: 97px;\"></div></div><div class =\"pnum2\">97</div></div></div><div class=\"EF\">0.817303</div><div class=\"AI\">2.7989</div></div></a></h3><div class=\"details\" id=\"20110002-7863\">Loading...</div><h3><a href=\"#20111098-0121\"><div class=\"results\"><div class=\"rank\">6</div><div class=\"journal\">PHYS REV B<div class=\"issn\">ISSN: 1098-0121</div></div><div class=\"percentile\"><div class=\"pholder1\"><div class=\"pname1\">EF: </div><div class=\"pbar1\"><div class=\"pfill1\" style=\"width: 100px;\"></div></div><div class =\"pnum1\">100</div></div><div class=\"pholder2\"><div class=\"pname2\">AI: </div><div class=\"pbar2\"><div class=\"pfill2\" style=\"width: 89px;\"></div></div><div class =\"pnum2\">89</div></div></div><div class=\"EF\">0.756039</div><div class=\"AI\">1.4281</div></div></a></h3><div class=\"details\" id=\"20111098-0121\">Loading...</div><h3><a href=\"#20110021-9258\"><div class=\"results\"><div class=\"rank\">7</div><div class=\"journal\">J BIOL CHEM<div class=\"issn\">ISSN: 0021-9258</div></div><div class=\"percentile\"><div class=\"pholder1\"><div class=\"pname1\">EF: </div><div class=\"pbar1\"><div class=\"pfill1\" style=\"width: 100px;\"></div></div><div class =\"pnum1\">100</div></div><div class=\"pholder2\"><div class=\"pname2\">AI: </div><div class=\"pbar2\"><div class=\"pfill2\" style=\"width: 94px;\"></div></div><div class =\"pnum2\">94</div></div></div><div class=\"EF\">0.742127</div><div class=\"AI\">2.0307</div></div></a></h3><div class=\"details\" id=\"20110021-9258\">Loading...</div><h3><a href=\"#20110003-6951\"><div class=\"results\"><div class=\"rank\">8</div><div class=\"journal\">APPL PHYS LETT<div class=\"issn\">ISSN: 0003-6951</div></div><div class=\"percentile\"><div class=\"pholder1\"><div class=\"pname1\">EF: </div><div class=\"pbar1\"><div class=\"pfill1\" style=\"width: 100px;\"></div></div><div class =\"pnum1\">100</div></div><div class=\"pholder2\"><div class=\"pname2\">AI: </div><div class=\"pbar2\"><div class=\"pfill2\" style=\"width: 89px;\"></div></div><div class =\"pnum2\">89</div></div></div><div class=\"EF\">0.675752</div><div class=\"AI\">1.3875</div></div></a></h3><div class=\"details\" id=\"20110003-6951\">Loading...</div><h3><a href=\"#20110028-4793\"><div class=\"results\"><div class=\"rank\">9</div><div class=\"journal\">NEW ENGL J MED<div class=\"issn\">ISSN: 0028-4793</div></div><div class=\"percentile\"><div class=\"pholder1\"><div class=\"pname1\">EF: </div><div class=\"pbar1\"><div class=\"pfill1\" style=\"width: 100px;\"></div></div><div class =\"pnum1\">100</div></div><div class=\"pholder2\"><div class=\"pname2\">AI: </div><div class=\"pbar2\"><div class=\"pfill2\" style=\"width: 100px;\"></div></div><div class =\"pnum2\">100</div></div></div><div class=\"EF\">0.66383</div><div class=\"AI\">21.304</div></div></a></h3><div class=\"details\" id=\"20110028-4793\">Loading...</div><h3><a href=\"#20110092-8674\"><div class=\"results\"><div class=\"rank\">10</div><div class=\"journal\">CELL<div class=\"issn\">ISSN: 0092-8674</div></div><div class=\"percentile\"><div class=\"pholder1\"><div class=\"pname1\">EF: </div><div class=\"pbar1\"><div class=\"pfill1\" style=\"width: 100px;\"></div></div><div class =\"pnum1\">100</div></div><div class=\"pholder2\"><div class=\"pname2\">AI: </div><div class=\"pbar2\"><div class=\"pfill2\" style=\"width: 100px;\"></div></div><div class =\"pnum2\">100</div></div></div><div class=\"EF\">0.660816</div><div class=\"AI\">20.554</div></div></a></h3><div class=\"details\" id=\"20110092-8674\">Loading...</div><h3><a href=\"#20111433-7851\"><div class=\"results\"><div class=\"rank\">11</div><div class=\"journal\">ANGEW CHEM INT EDIT<div class=\"issn\">ISSN: 1433-7851</div></div><div class=\"percentile\"><div class=\"pholder1\"><div class=\"pname1\">EF: </div><div class=\"pbar1\"><div class=\"pfill1\" style=\"width: 100px;\"></div></div><div class =\"pnum1\">100</div></div><div class=\"pholder2\"><div class=\"pname2\">AI: </div><div class=\"pbar2\"><div class=\"pfill2\" style=\"width: 98px;\"></div></div><div class =\"pnum2\">98</div></div></div><div class=\"EF\">0.514213</div><div class=\"AI\">3.3776</div></div></a></h3><div class=\"details\" id=\"20111433-7851\">Loading...</div><h3><a href=\"#20111932-6203\"><div class=\"results\"><div class=\"rank\">12</div><div class=\"journal\">PLOS ONE<div class=\"issn\">ISSN: 1932-6203</div></div><div class=\"percentile\"><div class=\"pholder1\"><div class=\"pname1\">EF: </div><div class=\"pbar1\"><div class=\"pfill1\" style=\"width: 100px;\"></div></div><div class =\"pnum1\">100</div></div><div class=\"pholder2\"><div class=\"pname2\">AI: </div><div class=\"pbar2\"><div class=\"pfill2\" style=\"width: 93px;\"></div></div><div class =\"pnum2\">93</div></div></div><div class=\"EF\">0.501622</div><div class=\"AI\">1.7984</div></div></a></h3><div class=\"details\" id=\"20111932-6203\">Loading...</div><h3><a href=\"#20110270-6474\"><div class=\"results\"><div class=\"rank\">13</div><div class=\"journal\">J NEUROSCI<div class=\"issn\">ISSN: 0270-6474</div></div><div class=\"percentile\"><div class=\"pholder1\"><div class=\"pname1\">EF: </div><div class=\"pbar1\"><div class=\"pfill1\" style=\"width: 100px;\"></div></div><div class =\"pnum1\">100</div></div><div class=\"pholder2\"><div class=\"pname2\">AI: </div><div class=\"pbar2\"><div class=\"pfill2\" style=\"width: 97px;\"></div></div><div class =\"pnum2\">97</div></div></div><div class=\"EF\">0.449625</div><div class=\"AI\">3.2549</div></div></a></h3><div class=\"details\" id=\"20110270-6474\">Loading...</div><h3><a href=\"#20110004-637X\"><div class=\"results\"><div class=\"rank\">14</div><div class=\"journal\">ASTROPHYS J<div class=\"issn\">ISSN: 0004-637X</div></div><div class=\"percentile\"><div class=\"pholder1\"><div class=\"pname1\">EF: </div><div class=\"pbar1\"><div class=\"pfill1\" style=\"width: 100px;\"></div></div><div class =\"pnum1\">100</div></div><div class=\"pholder2\"><div class=\"pname2\">AI: </div><div class=\"pbar2\"><div class=\"pfill2\" style=\"width: 93px;\"></div></div><div class =\"pnum2\">93</div></div></div><div class=\"EF\">0.429616</div><div class=\"AI\">1.8047</div></div></a></h3><div class=\"details\" id=\"20110004-637X\">Loading...</div><h3><a href=\"#20110006-4971\"><div class=\"results\"><div class=\"rank\">15</div><div class=\"journal\">BLOOD<div class=\"issn\">ISSN: 0006-4971</div></div><div class=\"percentile\"><div class=\"pholder1\"><div class=\"pname1\">EF: </div><div class=\"pbar1\"><div class=\"pfill1\" style=\"width: 100px;\"></div></div><div class =\"pnum1\">100</div></div><div class=\"pholder2\"><div class=\"pname2\">AI: </div><div class=\"pbar2\"><div class=\"pfill2\" style=\"width: 98px;\"></div></div><div class =\"pnum2\">98</div></div></div><div class=\"EF\">0.427942</div><div class=\"AI\">3.692</div></div></a></h3><div class=\"details\" id=\"20110006-4971\">Loading...</div><h3><a href=\"#20110732-183X\"><div class=\"results\"><div class=\"rank\">16</div><div class=\"journal\">J CLIN ONCOL<div class=\"issn\">ISSN: 0732-183X</div></div><div class=\"percentile\"><div class=\"pholder1\"><div class=\"pname1\">EF: </div><div class=\"pbar1\"><div class=\"pfill1\" style=\"width: 100px;\"></div></div><div class =\"pnum1\">100</div></div><div class=\"pholder2\"><div class=\"pname2\">AI: </div><div class=\"pbar2\"><div class=\"pfill2\" style=\"width: 99px;\"></div></div><div class =\"pnum2\">99</div></div></div><div class=\"EF\">0.394631</div><div class=\"AI\">5.56</div></div></a></h3><div class=\"details\" id=\"20110732-183X\">Loading...</div><h3><a href=\"#20110022-1767\"><div class=\"results\"><div class=\"rank\">17</div><div class=\"journal\">J IMMUNOL<div class=\"issn\">ISSN: 0022-1767</div></div><div class=\"percentile\"><div class=\"pholder1\"><div class=\"pname1\">EF: </div><div class=\"pbar1\"><div class=\"pfill1\" style=\"width: 100px;\"></div></div><div class =\"pnum1\">100</div></div><div class=\"pholder2\"><div class=\"pname2\">AI: </div><div class=\"pbar2\"><div class=\"pfill2\" style=\"width: 95px;\"></div></div><div class =\"pnum2\">95</div></div></div><div class=\"EF\">0.369891</div><div class=\"AI\">2.2661</div></div></a></h3><div class=\"details\" id=\"20110022-1767\">Loading...</div><h3><a href=\"#20110008-5472\"><div class=\"results\"><div class=\"rank\">18</div><div class=\"journal\">CANCER RES<div class=\"issn\">ISSN: 0008-5472</div></div><div class=\"percentile\"><div class=\"pholder1\"><div class=\"pname1\">EF: </div><div class=\"pbar1\"><div class=\"pfill1\" style=\"width: 100px;\"></div></div><div class =\"pnum1\">100</div></div><div class=\"pholder2\"><div class=\"pname2\">AI: </div><div class=\"pbar2\"><div class=\"pfill2\" style=\"width: 97px;\"></div></div><div class =\"pnum2\">97</div></div></div><div class=\"EF\">0.362734</div><div class=\"AI\">3.0995</div></div></a></h3><div class=\"details\" id=\"20110008-5472\">Loading...</div><h3><a href=\"#20110140-6736\"><div class=\"results\"><div class=\"rank\">19</div><div class=\"journal\">LANCET<div class=\"issn\">ISSN: 0140-6736</div></div><div class=\"percentile\"><div class=\"pholder1\"><div class=\"pname1\">EF: </div><div class=\"pbar1\"><div class=\"pfill1\" style=\"width: 100px;\"></div></div><div class =\"pnum1\">100</div></div><div class=\"pholder2\"><div class=\"pname2\">AI: </div><div class=\"pbar2\"><div class=\"pfill2\" style=\"width: 100px;\"></div></div><div class =\"pnum2\">100</div></div></div><div class=\"EF\">0.360954</div><div class=\"AI\">13.6107</div></div></a></h3><div class=\"details\" id=\"20110140-6736\">Loading...</div><h3><a href=\"#20111530-6984\"><div class=\"results\"><div class=\"rank\">20</div><div class=\"journal\">NANO LETT<div class=\"issn\">ISSN: 1530-6984</div></div><div class=\"percentile\"><div class=\"pholder1\"><div class=\"pname1\">EF: </div><div class=\"pbar1\"><div class=\"pfill1\" style=\"width: 100px;\"></div></div><div class =\"pnum1\">100</div></div><div class=\"pholder2\"><div class=\"pname2\">AI: </div><div class=\"pbar2\"><div class=\"pfill2\" style=\"width: 99px;\"></div></div><div class =\"pnum2\">99</div></div></div><div class=\"EF\">0.345906</div><div class=\"AI\">5.0701</div></div></a></h3><div class=\"details\" id=\"20111530-6984\">Loading...</div><h3><a href=\"#20110009-7322\"><div class=\"results\"><div class=\"rank\">21</div><div class=\"journal\">CIRCULATION<div class=\"issn\">ISSN: 0009-7322</div></div><div class=\"percentile\"><div class=\"pholder1\"><div class=\"pname1\">EF: </div><div class=\"pbar1\"><div class=\"pfill1\" style=\"width: 100px;\"></div></div><div class =\"pnum1\">100</div></div><div class=\"pholder2\"><div class=\"pname2\">AI: </div><div class=\"pbar2\"><div class=\"pfill2\" style=\"width: 99px;\"></div></div><div class =\"pnum2\">99</div></div></div><div class=\"EF\">0.339278</div><div class=\"AI\">5.9733</div></div></a></h3><div class=\"details\" id=\"20110009-7322\">Loading...</div><h3><a href=\"#20110148-0227\"><div class=\"results\"><div class=\"rank\">22</div><div class=\"journal\">J GEOPHYS RES<div class=\"issn\">ISSN: 0148-0227</div></div><div class=\"percentile\"><div class=\"pholder1\"><div class=\"pname1\">EF: </div><div class=\"pbar1\"><div class=\"pfill1\" style=\"width: 100px;\"></div></div><div class =\"pnum1\">100</div></div><div class=\"pholder2\"><div class=\"pname2\">AI: </div><div class=\"pbar2\"><div class=\"pfill2\" style=\"width: 89px;\"></div></div><div class =\"pnum2\">89</div></div></div><div class=\"EF\">0.332456</div><div class=\"AI\">1.4057</div></div></a></h3><div class=\"details\" id=\"20110148-0227\">Loading...</div><h3><a href=\"#20111061-4036\"><div class=\"results\"><div class=\"rank\">23</div><div class=\"journal\">NAT GENET<div class=\"issn\">ISSN: 1061-4036</div></div><div class=\"percentile\"><div class=\"pholder1\"><div class=\"pname1\">EF: </div><div class=\"pbar1\"><div class=\"pfill1\" style=\"width: 100px;\"></div></div><div class =\"pnum1\">100</div></div><div class=\"pholder2\"><div class=\"pname2\">AI: </div><div class=\"pbar2\"><div class=\"pfill2\" style=\"width: 100px;\"></div></div><div class =\"pnum2\">100</div></div></div><div class=\"EF\">0.329901</div><div class=\"AI\">17.5835</div></div></a></h3><div class=\"details\" id=\"20111061-4036\">Loading...</div><h3><a href=\"#20110305-1048\"><div class=\"results\"><div class=\"rank\">24</div><div class=\"journal\">NUCLEIC ACIDS RES<div class=\"issn\">ISSN: 0305-1048</div></div><div class=\"percentile\"><div class=\"pholder1\"><div class=\"pname1\">EF: </div><div class=\"pbar1\"><div class=\"pfill1\" style=\"width: 100px;\"></div></div><div class =\"pnum1\">100</div></div><div class=\"pholder2\"><div class=\"pname2\">AI: </div><div class=\"pbar2\"><div class=\"pfill2\" style=\"width: 97px;\"></div></div><div class =\"pnum2\">97</div></div></div><div class=\"EF\">0.304882</div><div class=\"AI\">3.0072</div></div></a></h3><div class=\"details\" id=\"20110305-1048\">Loading...</div><h3><a href=\"#20110021-8979\"><div class=\"results\"><div class=\"rank\">25</div><div class=\"journal\">J APPL PHYS<div class=\"issn\">ISSN: 0021-8979</div></div><div class=\"percentile\"><div class=\"pholder1\"><div class=\"pname1\">EF: </div><div class=\"pbar1\"><div class=\"pfill1\" style=\"width: 100px;\"></div></div><div class =\"pnum1\">100</div></div><div class=\"pholder2\"><div class=\"pname2\">AI: </div><div class=\"pbar2\"><div class=\"pfill2\" style=\"width: 73px;\"></div></div><div class =\"pnum2\">73</div></div></div><div class=\"EF\">0.301562</div><div class=\"AI\">0.8355</div></div></a></h3><div class=\"details\" id=\"20110021-8979\">Loading...</div><h3><a href=\"#20111550-7998\"><div class=\"results\"><div class=\"rank\">26</div><div class=\"journal\">PHYS REV D<div class=\"issn\">ISSN: 1550-7998</div></div><div class=\"percentile\"><div class=\"pholder1\"><div class=\"pname1\">EF: </div><div class=\"pbar1\"><div class=\"pfill1\" style=\"width: 100px;\"></div></div><div class =\"pnum1\">100</div></div><div class=\"pholder2\"><div class=\"pname2\">AI: </div><div class=\"pbar2\"><div class=\"pfill2\" style=\"width: 86px;\"></div></div><div class =\"pnum2\">86</div></div></div><div class=\"EF\">0.300804</div><div class=\"AI\">1.2451</div></div></a></h3><div class=\"details\" id=\"20111550-7998\">Loading...</div><h3><a href=\"#20110098-7484\"><div class=\"results\"><div class=\"rank\">27</div><div class=\"journal\">JAMA-J AM MED ASSOC<div class=\"issn\">ISSN: 0098-7484</div></div><div class=\"percentile\"><div class=\"pholder1\"><div class=\"pname1\">EF: </div><div class=\"pbar1\"><div class=\"pfill1\" style=\"width: 100px;\"></div></div><div class =\"pnum1\">100</div></div><div class=\"pholder2\"><div class=\"pname2\">AI: </div><div class=\"pbar2\"><div class=\"pfill2\" style=\"width: 100px;\"></div></div><div class =\"pnum2\">100</div></div></div><div class=\"EF\">0.285664</div><div class=\"AI\">13.111</div></div></a></h3><div class=\"details\" id=\"20110098-7484\">Loading...</div><h3><a href=\"#20111932-7447\"><div class=\"results\"><div class=\"rank\">28</div><div class=\"journal\">J PHYS CHEM C<div class=\"issn\">ISSN: 1932-7447</div></div><div class=\"percentile\"><div class=\"pholder1\"><div class=\"pname1\">EF: </div><div class=\"pbar1\"><div class=\"pfill1\" style=\"width: 100px;\"></div></div><div class =\"pnum1\">100</div></div><div class=\"pholder2\"><div class=\"pname2\">AI: </div><div class=\"pbar2\"><div class=\"pfill2\" style=\"width: 88px;\"></div></div><div class =\"pnum2\">88</div></div></div><div class=\"EF\">0.284716</div><div class=\"AI\">1.3421</div></div></a></h3><div class=\"details\" id=\"20111932-7447\">Loading...</div><h3><a href=\"#20110935-9648\"><div class=\"results\"><div class=\"rank\">29</div><div class=\"journal\">ADV MATER<div class=\"issn\">ISSN: 0935-9648</div></div><div class=\"percentile\"><div class=\"pholder1\"><div class=\"pname1\">EF: </div><div class=\"pbar1\"><div class=\"pfill1\" style=\"width: 100px;\"></div></div><div class =\"pnum1\">100</div></div><div class=\"pholder2\"><div class=\"pname2\">AI: </div><div class=\"pbar2\"><div class=\"pfill2\" style=\"width: 98px;\"></div></div><div class =\"pnum2\">98</div></div></div><div class=\"EF\">0.262413</div><div class=\"AI\">4.0706</div></div></a></h3><div class=\"details\" id=\"20110935-9648\">Loading...</div><h3><a href=\"#20110004-6361\"><div class=\"results\"><div class=\"rank\">30</div><div class=\"journal\">ASTRON ASTROPHYS<div class=\"issn\">ISSN: 0004-6361</div></div><div class=\"percentile\"><div class=\"pholder1\"><div class=\"pname1\">EF: </div><div class=\"pbar1\"><div class=\"pfill1\" style=\"width: 100px;\"></div></div><div class =\"pnum1\">100</div></div><div class=\"pholder2\"><div class=\"pname2\">AI: </div><div class=\"pbar2\"><div class=\"pfill2\" style=\"width: 90px;\"></div></div><div class =\"pnum2\">90</div></div></div><div class=\"EF\">0.254252</div><div class=\"AI\">1.4742</div></div></a></h3><div class=\"details\" id=\"20110004-6361\">Loading...</div><h3><a href=\"#20111097-2765\"><div class=\"results\"><div class=\"rank\">31</div><div class=\"journal\">MOL CELL<div class=\"issn\">ISSN: 1097-2765</div></div><div class=\"percentile\"><div class=\"pholder1\"><div class=\"pname1\">EF: </div><div class=\"pbar1\"><div class=\"pfill1\" style=\"width: 100px;\"></div></div><div class =\"pnum1\">100</div></div><div class=\"pholder2\"><div class=\"pname2\">AI: </div><div class=\"pbar2\"><div class=\"pfill2\" style=\"width: 100px;\"></div></div><div class =\"pnum2\">100</div></div></div><div class=\"EF\">0.250753</div><div class=\"AI\">8.9479</div></div></a></h3><div class=\"details\" id=\"20111097-2765\">Loading...</div><h3><a href=\"#20110035-8711\"><div class=\"results\"><div class=\"rank\">32</div><div class=\"journal\">MON NOT R ASTRON SOC<div class=\"issn\">ISSN: 0035-8711</div></div><div class=\"percentile\"><div class=\"pholder1\"><div class=\"pname1\">EF: </div><div class=\"pbar1\"><div class=\"pfill1\" style=\"width: 100px;\"></div></div><div class =\"pnum1\">100</div></div><div class=\"pholder2\"><div class=\"pname2\">AI: </div><div class=\"pbar2\"><div class=\"pfill2\" style=\"width: 91px;\"></div></div><div class =\"pnum2\">91</div></div></div><div class=\"EF\">0.248839</div><div class=\"AI\">1.6034</div></div></a></h3><div class=\"details\" id=\"20110035-8711\">Loading...</div><h3><a href=\"#20111520-6106\"><div class=\"results\"><div class=\"rank\">33</div><div class=\"journal\">J PHYS CHEM B<div class=\"issn\">ISSN: 1520-6106</div></div><div class=\"percentile\"><div class=\"pholder1\"><div class=\"pname1\">EF: </div><div class=\"pbar1\"><div class=\"pfill1\" style=\"width: 100px;\"></div></div><div class =\"pnum1\">100</div></div><div class=\"pholder2\"><div class=\"pname2\">AI: </div><div class=\"pbar2\"><div class=\"pfill2\" style=\"width: 84px;\"></div></div><div class =\"pnum2\">84</div></div></div><div class=\"EF\">0.246515</div><div class=\"AI\">1.1608</div></div></a></h3><div class=\"details\" id=\"20111520-6106\">Loading...</div><h3><a href=\"#20111359-7345\"><div class=\"results\"><div class=\"rank\">34</div><div class=\"journal\">CHEM COMMUN<div class=\"issn\">ISSN: 1359-7345</div></div><div class=\"percentile\"><div class=\"pholder1\"><div class=\"pname1\">EF: </div><div class=\"pbar1\"><div class=\"pfill1\" style=\"width: 100px;\"></div></div><div class =\"pnum1\">100</div></div><div class=\"pholder2\"><div class=\"pname2\">AI: </div><div class=\"pbar2\"><div class=\"pfill2\" style=\"width: 91px;\"></div></div><div class =\"pnum2\">91</div></div></div><div class=\"EF\">0.241003</div><div class=\"AI\">1.5516</div></div></a></h3><div class=\"details\" id=\"20111359-7345\">Loading...</div><h3><a href=\"#20111094-4087\"><div class=\"results\"><div class=\"rank\">35</div><div class=\"journal\">OPT EXPRESS<div class=\"issn\">ISSN: 1094-4087</div></div><div class=\"percentile\"><div class=\"pholder1\"><div class=\"pname1\">EF: </div><div class=\"pbar1\"><div class=\"pfill1\" style=\"width: 100px;\"></div></div><div class =\"pnum1\">100</div></div><div class=\"pholder2\"><div class=\"pname2\">AI: </div><div class=\"pbar2\"><div class=\"pfill2\" style=\"width: 85px;\"></div></div><div class =\"pnum2\">85</div></div></div><div class=\"EF\">0.240848</div><div class=\"AI\">1.1685</div></div></a></h3><div class=\"details\" id=\"20111094-4087\">Loading...</div><h3><a href=\"#20110094-8276\"><div class=\"results\"><div class=\"rank\">36</div><div class=\"journal\">GEOPHYS RES LETT<div class=\"issn\">ISSN: 0094-8276</div></div><div class=\"percentile\"><div class=\"pholder1\"><div class=\"pname1\">EF: </div><div class=\"pbar1\"><div class=\"pfill1\" style=\"width: 100px;\"></div></div><div class =\"pnum1\">100</div></div><div class=\"pholder2\"><div class=\"pname2\">AI: </div><div class=\"pbar2\"><div class=\"pfill2\" style=\"width: 94px;\"></div></div><div class =\"pnum2\">94</div></div></div><div class=\"EF\">0.23991</div><div class=\"AI\">1.9391</div></div></a></h3><div class=\"details\" id=\"20110094-8276\">Loading...</div><h3><a href=\"#20110021-9606\"><div class=\"results\"><div class=\"rank\">37</div><div class=\"journal\">J CHEM PHYS<div class=\"issn\">ISSN: 0021-9606</div></div><div class=\"percentile\"><div class=\"pholder1\"><div class=\"pname1\">EF: </div><div class=\"pbar1\"><div class=\"pfill1\" style=\"width: 100px;\"></div></div><div class =\"pnum1\">100</div></div><div class=\"pholder2\"><div class=\"pname2\">AI: </div><div class=\"pbar2\"><div class=\"pfill2\" style=\"width: 80px;\"></div></div><div class =\"pnum2\">80</div></div></div><div class=\"EF\">0.232653</div><div class=\"AI\">0.9931</div></div></a></h3><div class=\"details\" id=\"20110021-9606\">Loading...</div><h3><a href=\"#20110896-6273\"><div class=\"results\"><div class=\"rank\">38</div><div class=\"journal\">NEURON<div class=\"issn\">ISSN: 0896-6273</div></div><div class=\"percentile\"><div class=\"pholder1\"><div class=\"pname1\">EF: </div><div class=\"pbar1\"><div class=\"pfill1\" style=\"width: 100px;\"></div></div><div class =\"pnum1\">100</div></div><div class=\"pholder2\"><div class=\"pname2\">AI: </div><div class=\"pbar2\"><div class=\"pfill2\" style=\"width: 99px;\"></div></div><div class =\"pnum2\">99</div></div></div><div class=\"EF\">0.227501</div><div class=\"AI\">8.5079</div></div></a></h3><div class=\"details\" id=\"20110896-6273\">Loading...</div><h3><a href=\"#20110743-7463\"><div class=\"results\"><div class=\"rank\">39</div><div class=\"journal\">LANGMUIR<div class=\"issn\">ISSN: 0743-7463</div></div><div class=\"percentile\"><div class=\"pholder1\"><div class=\"pname1\">EF: </div><div class=\"pbar1\"><div class=\"pfill1\" style=\"width: 100px;\"></div></div><div class =\"pnum1\">100</div></div><div class=\"pholder2\"><div class=\"pname2\">AI: </div><div class=\"pbar2\"><div class=\"pfill2\" style=\"width: 85px;\"></div></div><div class =\"pnum2\">85</div></div></div><div class=\"EF\">0.22322</div><div class=\"AI\">1.1824</div></div></a></h3><div class=\"details\" id=\"20110743-7463\">Loading...</div><h3><a href=\"#20111476-1122\"><div class=\"results\"><div class=\"rank\">40</div><div class=\"journal\">NAT MATER<div class=\"issn\">ISSN: 1476-1122</div></div><div class=\"percentile\"><div class=\"pholder1\"><div class=\"pname1\">EF: </div><div class=\"pbar1\"><div class=\"pfill1\" style=\"width: 100px;\"></div></div><div class =\"pnum1\">100</div></div><div class=\"pholder2\"><div class=\"pname2\">AI: </div><div class=\"pbar2\"><div class=\"pfill2\" style=\"width: 100px;\"></div></div><div class =\"pnum2\">100</div></div></div><div class=\"EF\">0.220911</div><div class=\"AI\">17.9245</div></div></a></h3><div class=\"details\" id=\"20111476-1122\">Loading...</div><h3><a href=\"#20110735-1097\"><div class=\"results\"><div class=\"rank\">41</div><div class=\"journal\">J AM COLL CARDIOL<div class=\"issn\">ISSN: 0735-1097</div></div><div class=\"percentile\"><div class=\"pholder1\"><div class=\"pname1\">EF: </div><div class=\"pbar1\"><div class=\"pfill1\" style=\"width: 100px;\"></div></div><div class =\"pnum1\">100</div></div><div class=\"pholder2\"><div class=\"pname2\">AI: </div><div class=\"pbar2\"><div class=\"pfill2\" style=\"width: 99px;\"></div></div><div class =\"pnum2\">99</div></div></div><div class=\"EF\">0.22035</div><div class=\"AI\">4.884</div></div></a></h3><div class=\"details\" id=\"20110735-1097\">Loading...</div><h3><a href=\"#20111050-2947\"><div class=\"results\"><div class=\"rank\">42</div><div class=\"journal\">PHYS REV A<div class=\"issn\">ISSN: 1050-2947</div></div><div class=\"percentile\"><div class=\"pholder1\"><div class=\"pname1\">EF: </div><div class=\"pbar1\"><div class=\"pfill1\" style=\"width: 100px;\"></div></div><div class =\"pnum1\">100</div></div><div class=\"pholder2\"><div class=\"pname2\">AI: </div><div class=\"pbar2\"><div class=\"pfill2\" style=\"width: 79px;\"></div></div><div class =\"pnum2\">79</div></div></div><div class=\"EF\">0.219831</div><div class=\"AI\">0.9797</div></div></a></h3><div class=\"details\" id=\"20111050-2947\">Loading...</div><h3><a href=\"#20110021-9738\"><div class=\"results\"><div class=\"rank\">43</div><div class=\"journal\">J CLIN INVEST<div class=\"issn\">ISSN: 0021-9738</div></div><div class=\"percentile\"><div class=\"pholder1\"><div class=\"pname1\">EF: </div><div class=\"pbar1\"><div class=\"pfill1\" style=\"width: 100px;\"></div></div><div class =\"pnum1\">100</div></div><div class=\"pholder2\"><div class=\"pname2\">AI: </div><div class=\"pbar2\"><div class=\"pfill2\" style=\"width: 99px;\"></div></div><div class =\"pnum2\">99</div></div></div><div class=\"EF\">0.218367</div><div class=\"AI\">6.9507</div></div></a></h3><div class=\"details\" id=\"20110021-9738\">Loading...</div><h3><a href=\"#20110009-2665\"><div class=\"results\"><div class=\"rank\">44</div><div class=\"journal\">CHEM REV<div class=\"issn\">ISSN: 0009-2665</div></div><div class=\"percentile\"><div class=\"pholder1\"><div class=\"pname1\">EF: </div><div class=\"pbar1\"><div class=\"pfill1\" style=\"width: 100px;\"></div></div><div class =\"pnum1\">100</div></div><div class=\"pholder2\"><div class=\"pname2\">AI: </div><div class=\"pbar2\"><div class=\"pfill2\" style=\"width: 100px;\"></div></div><div class =\"pnum2\">100</div></div></div><div class=\"EF\">0.214699</div><div class=\"AI\">13.3332</div></div></a></h3><div class=\"details\" id=\"20110009-2665\">Loading...</div><h3><a href=\"#20110890-9369\"><div class=\"results\"><div class=\"rank\">45</div><div class=\"journal\">GENE DEV<div class=\"issn\">ISSN: 0890-9369</div></div><div class=\"percentile\"><div class=\"pholder1\"><div class=\"pname1\">EF: </div><div class=\"pbar1\"><div class=\"pfill1\" style=\"width: 100px;\"></div></div><div class =\"pnum1\">100</div></div><div class=\"pholder2\"><div class=\"pname2\">AI: </div><div class=\"pbar2\"><div class=\"pfill2\" style=\"width: 99px;\"></div></div><div class =\"pnum2\">99</div></div></div><div class=\"EF\">0.209552</div><div class=\"AI\">8.0181</div></div></a></h3><div class=\"details\" id=\"20110890-9369\">Loading...</div><h3><a href=\"#20111078-0432\"><div class=\"results\"><div class=\"rank\">46</div><div class=\"journal\">CLIN CANCER RES<div class=\"issn\">ISSN: 1078-0432</div></div><div class=\"percentile\"><div class=\"pholder1\"><div class=\"pname1\">EF: </div><div class=\"pbar1\"><div class=\"pfill1\" style=\"width: 100px;\"></div></div><div class =\"pnum1\">100</div></div><div class=\"pholder2\"><div class=\"pname2\">AI: </div><div class=\"pbar2\"><div class=\"pfill2\" style=\"width: 96px;\"></div></div><div class =\"pnum2\">96</div></div></div><div class=\"EF\">0.20597</div><div class=\"AI\">2.538</div></div></a></h3><div class=\"details\" id=\"20111078-0432\">Loading...</div><h3><a href=\"#20111539-3755\"><div class=\"results\"><div class=\"rank\">47</div><div class=\"journal\">PHYS REV E<div class=\"issn\">ISSN: 1539-3755</div></div><div class=\"percentile\"><div class=\"pholder1\"><div class=\"pname1\">EF: </div><div class=\"pbar1\"><div class=\"pfill1\" style=\"width: 100px;\"></div></div><div class =\"pnum1\">100</div></div><div class=\"pholder2\"><div class=\"pname2\">AI: </div><div class=\"pbar2\"><div class=\"pfill2\" style=\"width: 79px;\"></div></div><div class =\"pnum2\">79</div></div></div><div class=\"EF\">0.205905</div><div class=\"AI\">0.958</div></div></a></h3><div class=\"details\" id=\"20111539-3755\">Loading...</div><h3><a href=\"#20110022-538X\"><div class=\"results\"><div class=\"rank\">48</div><div class=\"journal\">J VIROL<div class=\"issn\">ISSN: 0022-538X</div></div><div class=\"percentile\"><div class=\"pholder1\"><div class=\"pname1\">EF: </div><div class=\"pbar1\"><div class=\"pfill1\" style=\"width: 100px;\"></div></div><div class =\"pnum1\">100</div></div><div class=\"pholder2\"><div class=\"pname2\">AI: </div><div class=\"pbar2\"><div class=\"pfill2\" style=\"width: 91px;\"></div></div><div class =\"pnum2\">91</div></div></div><div class=\"EF\">0.190607</div><div class=\"AI\">1.5928</div></div></a></h3><div class=\"details\" id=\"20110022-538X\">Loading...</div><h3><a href=\"#20110013-936X\"><div class=\"results\"><div class=\"rank\">49</div><div class=\"journal\">ENVIRON SCI TECHNOL<div class=\"issn\">ISSN: 0013-936X</div></div><div class=\"percentile\"><div class=\"pholder1\"><div class=\"pname1\">EF: </div><div class=\"pbar1\"><div class=\"pfill1\" style=\"width: 100px;\"></div></div><div class =\"pnum1\">100</div></div><div class=\"pholder2\"><div class=\"pname2\">AI: </div><div class=\"pbar2\"><div class=\"pfill2\" style=\"width: 91px;\"></div></div><div class =\"pnum2\">91</div></div></div><div class=\"EF\">0.189289</div><div class=\"AI\">1.6039</div></div></a></h3><div class=\"details\" id=\"20110013-936X\">Loading...</div><h3><a href=\"#20110022-1007\"><div class=\"results\"><div class=\"rank\">50</div><div class=\"journal\">J EXP MED<div class=\"issn\">ISSN: 0022-1007</div></div><div class=\"percentile\"><div class=\"pholder1\"><div class=\"pname1\">EF: </div><div class=\"pbar1\"><div class=\"pfill1\" style=\"width: 100px;\"></div></div><div class =\"pnum1\">100</div></div><div class=\"pholder2\"><div class=\"pname2\">AI: </div><div class=\"pbar2\"><div class=\"pfill2\" style=\"width: 99px;\"></div></div><div class =\"pnum2\">99</div></div></div><div class=\"EF\">0.188512</div><div class=\"AI\">7.8344</div></div></a></h3><div class=\"details\" id=\"20110022-1007\">Loading...</div></div><ul class=\\'pagination\\'><li class=\\'detailsPG\\'>Page 1 of 215</li><li><a class=\\'current\\'>1</a></li><li><a href=\\'?bsearch=2011&searchby=year&orderby=eigenfactor&page=2\\'>2</a></li><li><a href=\\'?bsearch=2011&searchby=year&orderby=eigenfactor&page=3\\'>3</a></li><li><a href=\\'?bsearch=2011&searchby=year&orderby=eigenfactor&page=4\\'>4</a></li><li><a href=\\'?bsearch=2011&searchby=year&orderby=eigenfactor&page=5\\'>5</a></li><li><a href=\\'?bsearch=2011&searchby=year&orderby=eigenfactor&page=6\\'>6</a></li><li><a href=\\'?bsearch=2011&searchby=year&orderby=eigenfactor&page=7\\'>7</a></li><li class=\\'dot\\'>...</li><li><a href=\\'?bsearch=2011&searchby=year&orderby=eigenfactor&page=214\\'>214</a></li><li><a href=\\'?bsearch=2011&searchby=year&orderby=eigenfactor&page=215\\'>215</a></li><li><a href=\\'?bsearch=2011&searchby=year&orderby=eigenfactor&page=2\\'>Next</a></li><li><a href=\\'?bsearch=2011&searchby=year&orderby=eigenfactor&page=215\\'>Last</a></li></ul>\\n</div>\\t\\r\\n      <!-- End Content Box -->\\r\\n\\r\\n\\r\\n\\r\\n\\t\\t\\t\\t\\t\\t<!-- End of Content -->\\r\\n\\t\\t\\t\\t\\t\\t\\r\\n\\t\\t\\t\\t\\t\\t <!-- Space Bar1 -->\\r\\n\\t\\t\\t\\t\\t\\t<div class=\"spacebar1\"></div>\\r\\n\\r\\n\\t\\t\\t\\t\\t\\t<!-- Footer -->\\r\\n\\t\\t\\t\\t\\t\\t<div class=\"footer\"><p>Copyright &copy; 2012 <a href=\"http://www.washington.edu/\">University of Washington</a></p></div>\\r\\n\\r\\n\\t\\t\\t\\t\\t</div>\\r\\n\\t\\t\\t\\t\\t<!-- End Content -->\\r\\n\\r\\n\\t\\t\\t\\t\\t<!-- Right Panel -->\\r\\n\\t\\t\\t\\t\\t<div class=\"rightside\"></div>\\r\\n\\r\\n\\t\\t\\t\\t</div>\\r\\n\\t\\t\\t  <!-- End Main Container -->\\r\\n\\r\\n\\t\\t\\t</body>\\r\\n\\r\\n\\t\\t\\t</html>\\r\\n\\t\\t\\t\\r\\n\\t\\t'"
       ]
      }
     ],
     "prompt_number": 13
    },
    {
     "cell_type": "code",
     "collapsed": false,
     "input": [
      "from bs4 import BeautifulSoup"
     ],
     "language": "python",
     "metadata": {},
     "outputs": [],
     "prompt_number": 18
    },
    {
     "cell_type": "code",
     "collapsed": false,
     "input": [
      "BeautifulSoup(data[0])"
     ],
     "language": "python",
     "metadata": {},
     "outputs": [
      {
       "metadata": {},
       "output_type": "pyout",
       "prompt_number": 23,
       "text": [
        "<html lang=\"en-US\">\n",
        "<head>\n",
        "<meta content=\"Jevin D. West\" name=\"author\"/>\n",
        "<meta content=\"Eigenfactor: ranking and mapping scientific knowledge\" name=\"description\"/>\n",
        "<meta content=\"Eigenfactor, journal ranking, mapping science\" name=\"keywords\"/>\n",
        "<title>Eigenfactor</title>\n",
        "<link href=\"http://www.eigenfactor.org/images/EFlogo.png\" rel=\"shortcut icon\" type=\"image/png\"/>\n",
        "<link href=\"http://www.eigenfactor.org/css/ef.css\" rel=\"stylesheet\" type=\"text/css\"/>\n",
        "<link href=\"http://www.eigenfactor.org/css/p7exp.css\" rel=\"stylesheet\" type=\"text/css\"/>\n",
        "<link href=\"http://www.eigenfactor.org/css/quickmenu_styles.css\" rel=\"stylesheet\" type=\"text/css\"/>\n",
        "<link href=\"http://www.eigenfactor.org/css/jquery-ui-1.8.16.custom.css\" rel=\"stylesheet\" type=\"text/css\"/>\n",
        "<link href=\"http://www.eigenfactor.org/css/jquery.jqplot.css\" rel=\"stylesheet\" type=\"text/css\"/>\n",
        "<script src=\"http://www.eigenfactor.org/js/quickmenu.js\" type=\"text/javascript\"></script>\n",
        "<script src=\"http://www.eigenfactor.org/js/p7exp.js\" type=\"text/javascript\"></script>\n",
        "<script src=\"http://www.eigenfactor.org/js/jquery-1.6.2.min.js\" type=\"text/javascript\"></script>\n",
        "<script src=\"http://www.eigenfactor.org/js/jquery-ui-1.8.16.custom.min.js\" type=\"text/javascript\"></script>\n",
        "</head>\n",
        "<body>\n",
        "<!-- Main Container -->\n",
        "<div class=\"container\">\n",
        "<!-- Left Panel -->\n",
        "<div class=\"leftside\"></div>\n",
        "<!-- Content -->\n",
        "<div class=\"middleside\">\n",
        "<!-- Header -->\n",
        "<div id=\"headerimage\"><a href=\"http://www.eigenfactor.org\"><img border=\"0\" height=\"150\" src=\"http://www.eigenfactor.org/images/header.jpg\" width=\"700\"/></a></div>\n",
        "<!-- Space Bar -->\n",
        "<div class=\"spacebar1\"></div>\n",
        "<!-- Navigation Bar -->\n",
        "<div class=\"navigation\">\n",
        "<!-- navigation contents -->\n",
        "<ul class=\"qmmc\" id=\"qm0\">\n",
        "<li><a class=\"qmparent\" href=\"http://www.eigenfactor.org/index.php\">eigenfactor search</a>\n",
        "<ul>\n",
        "<li><a href=\"http://www.eigenfactor.org/motion/\">motion graphs</a></li>\n",
        "<li><span class=\"qmdivider qmdividerx\"></span></li>\n",
        "<li><a href=\"http://www.eigenfactor.org/advanced.php\">advanced search</a></li>\n",
        "</ul>\n",
        "</li>\n",
        "<li><span class=\"qmdivider qmdividery\"></span></li>\n",
        "<li><a class=\"qmparent\" href=\"/map/index.php\">mapping</a>\n",
        "<ul>\n",
        "<li><a href=\"http://www.eigenfactor.org/map/index.php\">interactive browser</a></li>\n",
        "<li><a href=\"http://www.eigenfactor.org/map/maps.php\">maps</a></li>\n",
        "<li><a href=\"http://mas.eigenfactor.org/journalLevel/indexIframe.php\">mas</a></li>\n",
        "<li><a href=\"http://www.eigenfactor.org/map/methods.php\">methods</a></li>\n",
        "<li><span class=\"qmdivider qmdividerx\"></span></li>\n",
        "<li><a href=\"http://www.mapequation.org\">mapequation.org</a></li>\n",
        "</ul>\n",
        "</li>\n",
        "<li><span class=\"qmdivider qmdividery\"></span></li>\n",
        "<li><a class=\"qmparent\" href=\"http://www.eigenfactor.org/methods.php\">information</a>\n",
        "<ul>\n",
        "<li><a href=\"http://www.eigenfactor.org/whyeigenfactor.php\">why eigenfactor</a></li>\n",
        "<li><a href=\"http://www.eigenfactor.org/methods.php\">methods</a></li>\n",
        "<li><a href=\"http://www.eigenfactor.org/stats.php\">stats</a></li>\n",
        "<li><span class=\"qmdivider qmdividerx\"></span></li>\n",
        "<li><a href=\"http://www.eigenfactor.org/papers.php\">papers</a></li>\n",
        "</ul>\n",
        "</li>\n",
        "<li><span class=\"qmdivider qmdividery\"></span></li>\n",
        "<li><a href=\"http://well-formed.eigenfactor.org\">well-formed</a></li>\n",
        "<li><span class=\"qmdivider qmdividery\"></span></li>\n",
        "<li><a class=\"qmparent\" href=\"http://www.eigenfactor.org/openaccess/\">cost effectiveness</a>\n",
        "<ul>\n",
        "<li><a href=\"http://www.eigenfactor.org/costeffectiveness.php\">Subscriptions</a></li>\n",
        "<li><a href=\"http://www.eigenfactor.org/openaccess/\">Open Access Author Fees (Beta)</a></li>\n",
        "</ul>\n",
        "</li><li><span class=\"qmdivider qmdividery\"></span></li>\n",
        "<li><a class=\"qmparent\" href=\"http://mas.eigenfactor.org/\">recommendation</a>\n",
        "<ul>\n",
        "<li><a href=\"http://mas.eigenfactor.org\">Microsoft Academic Search</a></li>\n",
        "<li><a href=\"http://jstor.eigenfactor.org/\">JSTOR</a></li>\n",
        "</ul>\n",
        "</li>\n",
        "<li><span class=\"qmdivider qmdividery\"></span></li>\n",
        "<li><a class=\"qmparent\" href=\"http://www.eigenfactor.org/gender\">gender</a>\n",
        "</li><li><span class=\"qmdivider qmdividery\"></span></li>\n",
        "<li><a class=\"qmparent\" href=\"http://www.eigenfactor.org/about.php\">about</a>\n",
        "<ul>\n",
        "<li><a href=\"http://www.eigenfactor.org/faq.php\">faq</a></li>\n",
        "<li><span class=\"qmdivider qmdividerx\"></span></li>\n",
        "<li><a href=\"http://www.eigenfactor.org/about.php\">contact</a></li>\n",
        "</ul>\n",
        "</li>\n",
        "<li class=\"qmclear\">\u00a0</li>\n",
        "</ul>\n",
        "<!-- End navigation contents -->\n",
        "</div>\n",
        "<!-- End Navigation Bar -->\n",
        "<!-- Space Bar1 -->\n",
        "<div class=\"spacebar1\"></div>\n",
        "<!-- Beginning of Content -->\n",
        "<link href=\"css/pagination.css\" rel=\"stylesheet\" type=\"text/css\"/>\n",
        "<link href=\"css/grey.css\" rel=\"stylesheet\" type=\"text/css\"/>\n",
        "<!-- JS -->\n",
        "<script language=\"javascript\" src=\"http://www.eigenfactor.org/js/jquery.jqplot.min.js\" type=\"text/javascript\"></script>\n",
        "<script src=\"http://www.eigenfactor.org/js/jqplot.canvasTextRenderer.min.js\" type=\"text/javascript\"></script>\n",
        "<script src=\"http://www.eigenfactor.org/js/jqplot.canvasAxisLabelRenderer.min.js\" type=\"text/javascript\"></script>\n",
        "<script src=\"http://www.eigenfactor.org/js/jqplot.json2.min.js\" type=\"text/javascript\"></script>\n",
        "<script src=\"http://www.eigenfactor.org/js/jqplot.ciParser.min.js\" type=\"text/javascript\"></script>\n",
        "<script language=\"javascript\" src=\"http://www.eigenfactor.org/js/jqplot.highlighter.min.js\" type=\"text/javascript\"></script>\n",
        "<script language=\"javascript\" src=\"http://www.eigenfactor.org/js/jqplot.logAxisRenderer.min.js\" type=\"text/javascript\"></script>\n",
        "<script type=\"text/javascript\">\n",
        "    $(function(){\n",
        "        // Accordion //\n",
        "        $(\"#accordion\").accordion({ header: \"h3\",collapsible: true,active: false});\n",
        "        $(\"#accordion a\").click(function(evt) {\n",
        "              var galleryId = $(this).attr('href').split('#')[1];\n",
        "              var contentDiv = $('#' + galleryId);\n",
        "              if(contentDiv.html() == \"Loading...\") {\n",
        "\t\t\t\t\t\t\t\t\t\t$(contentDiv).load('getdetails.php?year=' + galleryId.substring(0,4) + '&issn=' + galleryId.substring(4));\n",
        "              }\n",
        "         });\n",
        "\t\t\t\t$(\"#accordion span\").click(function(evt2) {\n",
        "              var galleryId = $(this).next().attr('href').split('#')[1];\n",
        "              var contentDiv = $('#' + galleryId);\n",
        "              if(contentDiv.html() == \"Loading...\") {\n",
        "\t\t\t\t\t\t\t\t\t\t$(contentDiv).load('getdetails.php?year=' + galleryId.substring(0,4) + '&issn=' + galleryId.substring(4));\n",
        "              }\n",
        "         });\n",
        "    });\n",
        "</script>\n",
        "<!-- END JS -->\n",
        "<!-- Content Box -->\n",
        "<div class=\"content_box\">\n",
        "<!-- Header Bar -->\n",
        "<div class=\"results\" style=\"margin-left: 30px; margin-top: 20px; height:40px;\">\n",
        "<div class=\"rank\"><h3>Order</h3></div>\n",
        "<div class=\"journal\" style=\"width:320px;\"><h3>Journal</h3></div>\n",
        "<div class=\"percentile\" style=\"width:170px;\"><h3>Percentile</h3></div>\n",
        "<div class=\"EF\" style=\"text-align:center;\"><h3>EF <a href=\"http://www.eigenfactor.org/rankings.php?bsearch=2011&amp;searchby=year&amp;orderby=eigenfactor\">\u2193</a></h3></div>\n",
        "<div class=\"AI\" style=\"text-align:center;\"><h3>AI <a href=\"http://www.eigenfactor.org/rankings.php?bsearch=2011&amp;searchby=year&amp;orderby=articleinfluence\">\u2193</a></h3></div>\n",
        "</div>\n",
        "<!-- End Header Bar -->\n",
        "<div id=\"accordion\"><h3><a href=\"#20110028-0836\"><div class=\"results\"><div class=\"rank\">1</div><div class=\"journal\">NATURE<div class=\"issn\">ISSN: 0028-0836</div></div><div class=\"percentile\"><div class=\"pholder1\"><div class=\"pname1\">EF: </div><div class=\"pbar1\"><div class=\"pfill1\" style=\"width: 100px;\"></div></div><div class=\"pnum1\">100</div></div><div class=\"pholder2\"><div class=\"pname2\">AI: </div><div class=\"pbar2\"><div class=\"pfill2\" style=\"width: 100px;\"></div></div><div class=\"pnum2\">100</div></div></div><div class=\"EF\">1.65524</div><div class=\"AI\">20.373</div></div></a></h3><div class=\"details\" id=\"20110028-0836\">Loading...</div><h3><a href=\"#20110027-8424\"><div class=\"results\"><div class=\"rank\">2</div><div class=\"journal\">P NATL ACAD SCI USA<div class=\"issn\">ISSN: 0027-8424</div></div><div class=\"percentile\"><div class=\"pholder1\"><div class=\"pname1\">EF: </div><div class=\"pbar1\"><div class=\"pfill1\" style=\"width: 100px;\"></div></div><div class=\"pnum1\">100</div></div><div class=\"pholder2\"><div class=\"pname2\">AI: </div><div class=\"pbar2\"><div class=\"pfill2\" style=\"width: 99px;\"></div></div><div class=\"pnum2\">99</div></div></div><div class=\"EF\">1.60168</div><div class=\"AI\">4.8961</div></div></a></h3><div class=\"details\" id=\"20110027-8424\">Loading...</div><h3><a href=\"#20110036-8075\"><div class=\"results\"><div class=\"rank\">3</div><div class=\"journal\">SCIENCE<div class=\"issn\">ISSN: 0036-8075</div></div><div class=\"percentile\"><div class=\"pholder1\"><div class=\"pname1\">EF: </div><div class=\"pbar1\"><div class=\"pfill1\" style=\"width: 100px;\"></div></div><div class=\"pnum1\">100</div></div><div class=\"pholder2\"><div class=\"pname2\">AI: </div><div class=\"pbar2\"><div class=\"pfill2\" style=\"width: 100px;\"></div></div><div class=\"pnum2\">100</div></div></div><div class=\"EF\">1.41162</div><div class=\"AI\">17.5248</div></div></a></h3><div class=\"details\" id=\"20110036-8075\">Loading...</div><h3><a href=\"#20110031-9007\"><div class=\"results\"><div class=\"rank\">4</div><div class=\"journal\">PHYS REV LETT<div class=\"issn\">ISSN: 0031-9007</div></div><div class=\"percentile\"><div class=\"pholder1\"><div class=\"pname1\">EF: </div><div class=\"pbar1\"><div class=\"pfill1\" style=\"width: 100px;\"></div></div><div class=\"pnum1\">100</div></div><div class=\"pholder2\"><div class=\"pname2\">AI: </div><div class=\"pbar2\"><div class=\"pfill2\" style=\"width: 98px;\"></div></div><div class=\"pnum2\">98</div></div></div><div class=\"EF\">1.14457</div><div class=\"AI\">3.5175</div></div></a></h3><div class=\"details\" id=\"20110031-9007\">Loading...</div><h3><a href=\"#20110002-7863\"><div class=\"results\"><div class=\"rank\">5</div><div class=\"journal\">J AM CHEM SOC<div class=\"issn\">ISSN: 0002-7863</div></div><div class=\"percentile\"><div class=\"pholder1\"><div class=\"pname1\">EF: </div><div class=\"pbar1\"><div class=\"pfill1\" style=\"width: 100px;\"></div></div><div class=\"pnum1\">100</div></div><div class=\"pholder2\"><div class=\"pname2\">AI: </div><div class=\"pbar2\"><div class=\"pfill2\" style=\"width: 97px;\"></div></div><div class=\"pnum2\">97</div></div></div><div class=\"EF\">0.817303</div><div class=\"AI\">2.7989</div></div></a></h3><div class=\"details\" id=\"20110002-7863\">Loading...</div><h3><a href=\"#20111098-0121\"><div class=\"results\"><div class=\"rank\">6</div><div class=\"journal\">PHYS REV B<div class=\"issn\">ISSN: 1098-0121</div></div><div class=\"percentile\"><div class=\"pholder1\"><div class=\"pname1\">EF: </div><div class=\"pbar1\"><div class=\"pfill1\" style=\"width: 100px;\"></div></div><div class=\"pnum1\">100</div></div><div class=\"pholder2\"><div class=\"pname2\">AI: </div><div class=\"pbar2\"><div class=\"pfill2\" style=\"width: 89px;\"></div></div><div class=\"pnum2\">89</div></div></div><div class=\"EF\">0.756039</div><div class=\"AI\">1.4281</div></div></a></h3><div class=\"details\" id=\"20111098-0121\">Loading...</div><h3><a href=\"#20110021-9258\"><div class=\"results\"><div class=\"rank\">7</div><div class=\"journal\">J BIOL CHEM<div class=\"issn\">ISSN: 0021-9258</div></div><div class=\"percentile\"><div class=\"pholder1\"><div class=\"pname1\">EF: </div><div class=\"pbar1\"><div class=\"pfill1\" style=\"width: 100px;\"></div></div><div class=\"pnum1\">100</div></div><div class=\"pholder2\"><div class=\"pname2\">AI: </div><div class=\"pbar2\"><div class=\"pfill2\" style=\"width: 94px;\"></div></div><div class=\"pnum2\">94</div></div></div><div class=\"EF\">0.742127</div><div class=\"AI\">2.0307</div></div></a></h3><div class=\"details\" id=\"20110021-9258\">Loading...</div><h3><a href=\"#20110003-6951\"><div class=\"results\"><div class=\"rank\">8</div><div class=\"journal\">APPL PHYS LETT<div class=\"issn\">ISSN: 0003-6951</div></div><div class=\"percentile\"><div class=\"pholder1\"><div class=\"pname1\">EF: </div><div class=\"pbar1\"><div class=\"pfill1\" style=\"width: 100px;\"></div></div><div class=\"pnum1\">100</div></div><div class=\"pholder2\"><div class=\"pname2\">AI: </div><div class=\"pbar2\"><div class=\"pfill2\" style=\"width: 89px;\"></div></div><div class=\"pnum2\">89</div></div></div><div class=\"EF\">0.675752</div><div class=\"AI\">1.3875</div></div></a></h3><div class=\"details\" id=\"20110003-6951\">Loading...</div><h3><a href=\"#20110028-4793\"><div class=\"results\"><div class=\"rank\">9</div><div class=\"journal\">NEW ENGL J MED<div class=\"issn\">ISSN: 0028-4793</div></div><div class=\"percentile\"><div class=\"pholder1\"><div class=\"pname1\">EF: </div><div class=\"pbar1\"><div class=\"pfill1\" style=\"width: 100px;\"></div></div><div class=\"pnum1\">100</div></div><div class=\"pholder2\"><div class=\"pname2\">AI: </div><div class=\"pbar2\"><div class=\"pfill2\" style=\"width: 100px;\"></div></div><div class=\"pnum2\">100</div></div></div><div class=\"EF\">0.66383</div><div class=\"AI\">21.304</div></div></a></h3><div class=\"details\" id=\"20110028-4793\">Loading...</div><h3><a href=\"#20110092-8674\"><div class=\"results\"><div class=\"rank\">10</div><div class=\"journal\">CELL<div class=\"issn\">ISSN: 0092-8674</div></div><div class=\"percentile\"><div class=\"pholder1\"><div class=\"pname1\">EF: </div><div class=\"pbar1\"><div class=\"pfill1\" style=\"width: 100px;\"></div></div><div class=\"pnum1\">100</div></div><div class=\"pholder2\"><div class=\"pname2\">AI: </div><div class=\"pbar2\"><div class=\"pfill2\" style=\"width: 100px;\"></div></div><div class=\"pnum2\">100</div></div></div><div class=\"EF\">0.660816</div><div class=\"AI\">20.554</div></div></a></h3><div class=\"details\" id=\"20110092-8674\">Loading...</div><h3><a href=\"#20111433-7851\"><div class=\"results\"><div class=\"rank\">11</div><div class=\"journal\">ANGEW CHEM INT EDIT<div class=\"issn\">ISSN: 1433-7851</div></div><div class=\"percentile\"><div class=\"pholder1\"><div class=\"pname1\">EF: </div><div class=\"pbar1\"><div class=\"pfill1\" style=\"width: 100px;\"></div></div><div class=\"pnum1\">100</div></div><div class=\"pholder2\"><div class=\"pname2\">AI: </div><div class=\"pbar2\"><div class=\"pfill2\" style=\"width: 98px;\"></div></div><div class=\"pnum2\">98</div></div></div><div class=\"EF\">0.514213</div><div class=\"AI\">3.3776</div></div></a></h3><div class=\"details\" id=\"20111433-7851\">Loading...</div><h3><a href=\"#20111932-6203\"><div class=\"results\"><div class=\"rank\">12</div><div class=\"journal\">PLOS ONE<div class=\"issn\">ISSN: 1932-6203</div></div><div class=\"percentile\"><div class=\"pholder1\"><div class=\"pname1\">EF: </div><div class=\"pbar1\"><div class=\"pfill1\" style=\"width: 100px;\"></div></div><div class=\"pnum1\">100</div></div><div class=\"pholder2\"><div class=\"pname2\">AI: </div><div class=\"pbar2\"><div class=\"pfill2\" style=\"width: 93px;\"></div></div><div class=\"pnum2\">93</div></div></div><div class=\"EF\">0.501622</div><div class=\"AI\">1.7984</div></div></a></h3><div class=\"details\" id=\"20111932-6203\">Loading...</div><h3><a href=\"#20110270-6474\"><div class=\"results\"><div class=\"rank\">13</div><div class=\"journal\">J NEUROSCI<div class=\"issn\">ISSN: 0270-6474</div></div><div class=\"percentile\"><div class=\"pholder1\"><div class=\"pname1\">EF: </div><div class=\"pbar1\"><div class=\"pfill1\" style=\"width: 100px;\"></div></div><div class=\"pnum1\">100</div></div><div class=\"pholder2\"><div class=\"pname2\">AI: </div><div class=\"pbar2\"><div class=\"pfill2\" style=\"width: 97px;\"></div></div><div class=\"pnum2\">97</div></div></div><div class=\"EF\">0.449625</div><div class=\"AI\">3.2549</div></div></a></h3><div class=\"details\" id=\"20110270-6474\">Loading...</div><h3><a href=\"#20110004-637X\"><div class=\"results\"><div class=\"rank\">14</div><div class=\"journal\">ASTROPHYS J<div class=\"issn\">ISSN: 0004-637X</div></div><div class=\"percentile\"><div class=\"pholder1\"><div class=\"pname1\">EF: </div><div class=\"pbar1\"><div class=\"pfill1\" style=\"width: 100px;\"></div></div><div class=\"pnum1\">100</div></div><div class=\"pholder2\"><div class=\"pname2\">AI: </div><div class=\"pbar2\"><div class=\"pfill2\" style=\"width: 93px;\"></div></div><div class=\"pnum2\">93</div></div></div><div class=\"EF\">0.429616</div><div class=\"AI\">1.8047</div></div></a></h3><div class=\"details\" id=\"20110004-637X\">Loading...</div><h3><a href=\"#20110006-4971\"><div class=\"results\"><div class=\"rank\">15</div><div class=\"journal\">BLOOD<div class=\"issn\">ISSN: 0006-4971</div></div><div class=\"percentile\"><div class=\"pholder1\"><div class=\"pname1\">EF: </div><div class=\"pbar1\"><div class=\"pfill1\" style=\"width: 100px;\"></div></div><div class=\"pnum1\">100</div></div><div class=\"pholder2\"><div class=\"pname2\">AI: </div><div class=\"pbar2\"><div class=\"pfill2\" style=\"width: 98px;\"></div></div><div class=\"pnum2\">98</div></div></div><div class=\"EF\">0.427942</div><div class=\"AI\">3.692</div></div></a></h3><div class=\"details\" id=\"20110006-4971\">Loading...</div><h3><a href=\"#20110732-183X\"><div class=\"results\"><div class=\"rank\">16</div><div class=\"journal\">J CLIN ONCOL<div class=\"issn\">ISSN: 0732-183X</div></div><div class=\"percentile\"><div class=\"pholder1\"><div class=\"pname1\">EF: </div><div class=\"pbar1\"><div class=\"pfill1\" style=\"width: 100px;\"></div></div><div class=\"pnum1\">100</div></div><div class=\"pholder2\"><div class=\"pname2\">AI: </div><div class=\"pbar2\"><div class=\"pfill2\" style=\"width: 99px;\"></div></div><div class=\"pnum2\">99</div></div></div><div class=\"EF\">0.394631</div><div class=\"AI\">5.56</div></div></a></h3><div class=\"details\" id=\"20110732-183X\">Loading...</div><h3><a href=\"#20110022-1767\"><div class=\"results\"><div class=\"rank\">17</div><div class=\"journal\">J IMMUNOL<div class=\"issn\">ISSN: 0022-1767</div></div><div class=\"percentile\"><div class=\"pholder1\"><div class=\"pname1\">EF: </div><div class=\"pbar1\"><div class=\"pfill1\" style=\"width: 100px;\"></div></div><div class=\"pnum1\">100</div></div><div class=\"pholder2\"><div class=\"pname2\">AI: </div><div class=\"pbar2\"><div class=\"pfill2\" style=\"width: 95px;\"></div></div><div class=\"pnum2\">95</div></div></div><div class=\"EF\">0.369891</div><div class=\"AI\">2.2661</div></div></a></h3><div class=\"details\" id=\"20110022-1767\">Loading...</div><h3><a href=\"#20110008-5472\"><div class=\"results\"><div class=\"rank\">18</div><div class=\"journal\">CANCER RES<div class=\"issn\">ISSN: 0008-5472</div></div><div class=\"percentile\"><div class=\"pholder1\"><div class=\"pname1\">EF: </div><div class=\"pbar1\"><div class=\"pfill1\" style=\"width: 100px;\"></div></div><div class=\"pnum1\">100</div></div><div class=\"pholder2\"><div class=\"pname2\">AI: </div><div class=\"pbar2\"><div class=\"pfill2\" style=\"width: 97px;\"></div></div><div class=\"pnum2\">97</div></div></div><div class=\"EF\">0.362734</div><div class=\"AI\">3.0995</div></div></a></h3><div class=\"details\" id=\"20110008-5472\">Loading...</div><h3><a href=\"#20110140-6736\"><div class=\"results\"><div class=\"rank\">19</div><div class=\"journal\">LANCET<div class=\"issn\">ISSN: 0140-6736</div></div><div class=\"percentile\"><div class=\"pholder1\"><div class=\"pname1\">EF: </div><div class=\"pbar1\"><div class=\"pfill1\" style=\"width: 100px;\"></div></div><div class=\"pnum1\">100</div></div><div class=\"pholder2\"><div class=\"pname2\">AI: </div><div class=\"pbar2\"><div class=\"pfill2\" style=\"width: 100px;\"></div></div><div class=\"pnum2\">100</div></div></div><div class=\"EF\">0.360954</div><div class=\"AI\">13.6107</div></div></a></h3><div class=\"details\" id=\"20110140-6736\">Loading...</div><h3><a href=\"#20111530-6984\"><div class=\"results\"><div class=\"rank\">20</div><div class=\"journal\">NANO LETT<div class=\"issn\">ISSN: 1530-6984</div></div><div class=\"percentile\"><div class=\"pholder1\"><div class=\"pname1\">EF: </div><div class=\"pbar1\"><div class=\"pfill1\" style=\"width: 100px;\"></div></div><div class=\"pnum1\">100</div></div><div class=\"pholder2\"><div class=\"pname2\">AI: </div><div class=\"pbar2\"><div class=\"pfill2\" style=\"width: 99px;\"></div></div><div class=\"pnum2\">99</div></div></div><div class=\"EF\">0.345906</div><div class=\"AI\">5.0701</div></div></a></h3><div class=\"details\" id=\"20111530-6984\">Loading...</div><h3><a href=\"#20110009-7322\"><div class=\"results\"><div class=\"rank\">21</div><div class=\"journal\">CIRCULATION<div class=\"issn\">ISSN: 0009-7322</div></div><div class=\"percentile\"><div class=\"pholder1\"><div class=\"pname1\">EF: </div><div class=\"pbar1\"><div class=\"pfill1\" style=\"width: 100px;\"></div></div><div class=\"pnum1\">100</div></div><div class=\"pholder2\"><div class=\"pname2\">AI: </div><div class=\"pbar2\"><div class=\"pfill2\" style=\"width: 99px;\"></div></div><div class=\"pnum2\">99</div></div></div><div class=\"EF\">0.339278</div><div class=\"AI\">5.9733</div></div></a></h3><div class=\"details\" id=\"20110009-7322\">Loading...</div><h3><a href=\"#20110148-0227\"><div class=\"results\"><div class=\"rank\">22</div><div class=\"journal\">J GEOPHYS RES<div class=\"issn\">ISSN: 0148-0227</div></div><div class=\"percentile\"><div class=\"pholder1\"><div class=\"pname1\">EF: </div><div class=\"pbar1\"><div class=\"pfill1\" style=\"width: 100px;\"></div></div><div class=\"pnum1\">100</div></div><div class=\"pholder2\"><div class=\"pname2\">AI: </div><div class=\"pbar2\"><div class=\"pfill2\" style=\"width: 89px;\"></div></div><div class=\"pnum2\">89</div></div></div><div class=\"EF\">0.332456</div><div class=\"AI\">1.4057</div></div></a></h3><div class=\"details\" id=\"20110148-0227\">Loading...</div><h3><a href=\"#20111061-4036\"><div class=\"results\"><div class=\"rank\">23</div><div class=\"journal\">NAT GENET<div class=\"issn\">ISSN: 1061-4036</div></div><div class=\"percentile\"><div class=\"pholder1\"><div class=\"pname1\">EF: </div><div class=\"pbar1\"><div class=\"pfill1\" style=\"width: 100px;\"></div></div><div class=\"pnum1\">100</div></div><div class=\"pholder2\"><div class=\"pname2\">AI: </div><div class=\"pbar2\"><div class=\"pfill2\" style=\"width: 100px;\"></div></div><div class=\"pnum2\">100</div></div></div><div class=\"EF\">0.329901</div><div class=\"AI\">17.5835</div></div></a></h3><div class=\"details\" id=\"20111061-4036\">Loading...</div><h3><a href=\"#20110305-1048\"><div class=\"results\"><div class=\"rank\">24</div><div class=\"journal\">NUCLEIC ACIDS RES<div class=\"issn\">ISSN: 0305-1048</div></div><div class=\"percentile\"><div class=\"pholder1\"><div class=\"pname1\">EF: </div><div class=\"pbar1\"><div class=\"pfill1\" style=\"width: 100px;\"></div></div><div class=\"pnum1\">100</div></div><div class=\"pholder2\"><div class=\"pname2\">AI: </div><div class=\"pbar2\"><div class=\"pfill2\" style=\"width: 97px;\"></div></div><div class=\"pnum2\">97</div></div></div><div class=\"EF\">0.304882</div><div class=\"AI\">3.0072</div></div></a></h3><div class=\"details\" id=\"20110305-1048\">Loading...</div><h3><a href=\"#20110021-8979\"><div class=\"results\"><div class=\"rank\">25</div><div class=\"journal\">J APPL PHYS<div class=\"issn\">ISSN: 0021-8979</div></div><div class=\"percentile\"><div class=\"pholder1\"><div class=\"pname1\">EF: </div><div class=\"pbar1\"><div class=\"pfill1\" style=\"width: 100px;\"></div></div><div class=\"pnum1\">100</div></div><div class=\"pholder2\"><div class=\"pname2\">AI: </div><div class=\"pbar2\"><div class=\"pfill2\" style=\"width: 73px;\"></div></div><div class=\"pnum2\">73</div></div></div><div class=\"EF\">0.301562</div><div class=\"AI\">0.8355</div></div></a></h3><div class=\"details\" id=\"20110021-8979\">Loading...</div><h3><a href=\"#20111550-7998\"><div class=\"results\"><div class=\"rank\">26</div><div class=\"journal\">PHYS REV D<div class=\"issn\">ISSN: 1550-7998</div></div><div class=\"percentile\"><div class=\"pholder1\"><div class=\"pname1\">EF: </div><div class=\"pbar1\"><div class=\"pfill1\" style=\"width: 100px;\"></div></div><div class=\"pnum1\">100</div></div><div class=\"pholder2\"><div class=\"pname2\">AI: </div><div class=\"pbar2\"><div class=\"pfill2\" style=\"width: 86px;\"></div></div><div class=\"pnum2\">86</div></div></div><div class=\"EF\">0.300804</div><div class=\"AI\">1.2451</div></div></a></h3><div class=\"details\" id=\"20111550-7998\">Loading...</div><h3><a href=\"#20110098-7484\"><div class=\"results\"><div class=\"rank\">27</div><div class=\"journal\">JAMA-J AM MED ASSOC<div class=\"issn\">ISSN: 0098-7484</div></div><div class=\"percentile\"><div class=\"pholder1\"><div class=\"pname1\">EF: </div><div class=\"pbar1\"><div class=\"pfill1\" style=\"width: 100px;\"></div></div><div class=\"pnum1\">100</div></div><div class=\"pholder2\"><div class=\"pname2\">AI: </div><div class=\"pbar2\"><div class=\"pfill2\" style=\"width: 100px;\"></div></div><div class=\"pnum2\">100</div></div></div><div class=\"EF\">0.285664</div><div class=\"AI\">13.111</div></div></a></h3><div class=\"details\" id=\"20110098-7484\">Loading...</div><h3><a href=\"#20111932-7447\"><div class=\"results\"><div class=\"rank\">28</div><div class=\"journal\">J PHYS CHEM C<div class=\"issn\">ISSN: 1932-7447</div></div><div class=\"percentile\"><div class=\"pholder1\"><div class=\"pname1\">EF: </div><div class=\"pbar1\"><div class=\"pfill1\" style=\"width: 100px;\"></div></div><div class=\"pnum1\">100</div></div><div class=\"pholder2\"><div class=\"pname2\">AI: </div><div class=\"pbar2\"><div class=\"pfill2\" style=\"width: 88px;\"></div></div><div class=\"pnum2\">88</div></div></div><div class=\"EF\">0.284716</div><div class=\"AI\">1.3421</div></div></a></h3><div class=\"details\" id=\"20111932-7447\">Loading...</div><h3><a href=\"#20110935-9648\"><div class=\"results\"><div class=\"rank\">29</div><div class=\"journal\">ADV MATER<div class=\"issn\">ISSN: 0935-9648</div></div><div class=\"percentile\"><div class=\"pholder1\"><div class=\"pname1\">EF: </div><div class=\"pbar1\"><div class=\"pfill1\" style=\"width: 100px;\"></div></div><div class=\"pnum1\">100</div></div><div class=\"pholder2\"><div class=\"pname2\">AI: </div><div class=\"pbar2\"><div class=\"pfill2\" style=\"width: 98px;\"></div></div><div class=\"pnum2\">98</div></div></div><div class=\"EF\">0.262413</div><div class=\"AI\">4.0706</div></div></a></h3><div class=\"details\" id=\"20110935-9648\">Loading...</div><h3><a href=\"#20110004-6361\"><div class=\"results\"><div class=\"rank\">30</div><div class=\"journal\">ASTRON ASTROPHYS<div class=\"issn\">ISSN: 0004-6361</div></div><div class=\"percentile\"><div class=\"pholder1\"><div class=\"pname1\">EF: </div><div class=\"pbar1\"><div class=\"pfill1\" style=\"width: 100px;\"></div></div><div class=\"pnum1\">100</div></div><div class=\"pholder2\"><div class=\"pname2\">AI: </div><div class=\"pbar2\"><div class=\"pfill2\" style=\"width: 90px;\"></div></div><div class=\"pnum2\">90</div></div></div><div class=\"EF\">0.254252</div><div class=\"AI\">1.4742</div></div></a></h3><div class=\"details\" id=\"20110004-6361\">Loading...</div><h3><a href=\"#20111097-2765\"><div class=\"results\"><div class=\"rank\">31</div><div class=\"journal\">MOL CELL<div class=\"issn\">ISSN: 1097-2765</div></div><div class=\"percentile\"><div class=\"pholder1\"><div class=\"pname1\">EF: </div><div class=\"pbar1\"><div class=\"pfill1\" style=\"width: 100px;\"></div></div><div class=\"pnum1\">100</div></div><div class=\"pholder2\"><div class=\"pname2\">AI: </div><div class=\"pbar2\"><div class=\"pfill2\" style=\"width: 100px;\"></div></div><div class=\"pnum2\">100</div></div></div><div class=\"EF\">0.250753</div><div class=\"AI\">8.9479</div></div></a></h3><div class=\"details\" id=\"20111097-2765\">Loading...</div><h3><a href=\"#20110035-8711\"><div class=\"results\"><div class=\"rank\">32</div><div class=\"journal\">MON NOT R ASTRON SOC<div class=\"issn\">ISSN: 0035-8711</div></div><div class=\"percentile\"><div class=\"pholder1\"><div class=\"pname1\">EF: </div><div class=\"pbar1\"><div class=\"pfill1\" style=\"width: 100px;\"></div></div><div class=\"pnum1\">100</div></div><div class=\"pholder2\"><div class=\"pname2\">AI: </div><div class=\"pbar2\"><div class=\"pfill2\" style=\"width: 91px;\"></div></div><div class=\"pnum2\">91</div></div></div><div class=\"EF\">0.248839</div><div class=\"AI\">1.6034</div></div></a></h3><div class=\"details\" id=\"20110035-8711\">Loading...</div><h3><a href=\"#20111520-6106\"><div class=\"results\"><div class=\"rank\">33</div><div class=\"journal\">J PHYS CHEM B<div class=\"issn\">ISSN: 1520-6106</div></div><div class=\"percentile\"><div class=\"pholder1\"><div class=\"pname1\">EF: </div><div class=\"pbar1\"><div class=\"pfill1\" style=\"width: 100px;\"></div></div><div class=\"pnum1\">100</div></div><div class=\"pholder2\"><div class=\"pname2\">AI: </div><div class=\"pbar2\"><div class=\"pfill2\" style=\"width: 84px;\"></div></div><div class=\"pnum2\">84</div></div></div><div class=\"EF\">0.246515</div><div class=\"AI\">1.1608</div></div></a></h3><div class=\"details\" id=\"20111520-6106\">Loading...</div><h3><a href=\"#20111359-7345\"><div class=\"results\"><div class=\"rank\">34</div><div class=\"journal\">CHEM COMMUN<div class=\"issn\">ISSN: 1359-7345</div></div><div class=\"percentile\"><div class=\"pholder1\"><div class=\"pname1\">EF: </div><div class=\"pbar1\"><div class=\"pfill1\" style=\"width: 100px;\"></div></div><div class=\"pnum1\">100</div></div><div class=\"pholder2\"><div class=\"pname2\">AI: </div><div class=\"pbar2\"><div class=\"pfill2\" style=\"width: 91px;\"></div></div><div class=\"pnum2\">91</div></div></div><div class=\"EF\">0.241003</div><div class=\"AI\">1.5516</div></div></a></h3><div class=\"details\" id=\"20111359-7345\">Loading...</div><h3><a href=\"#20111094-4087\"><div class=\"results\"><div class=\"rank\">35</div><div class=\"journal\">OPT EXPRESS<div class=\"issn\">ISSN: 1094-4087</div></div><div class=\"percentile\"><div class=\"pholder1\"><div class=\"pname1\">EF: </div><div class=\"pbar1\"><div class=\"pfill1\" style=\"width: 100px;\"></div></div><div class=\"pnum1\">100</div></div><div class=\"pholder2\"><div class=\"pname2\">AI: </div><div class=\"pbar2\"><div class=\"pfill2\" style=\"width: 85px;\"></div></div><div class=\"pnum2\">85</div></div></div><div class=\"EF\">0.240848</div><div class=\"AI\">1.1685</div></div></a></h3><div class=\"details\" id=\"20111094-4087\">Loading...</div><h3><a href=\"#20110094-8276\"><div class=\"results\"><div class=\"rank\">36</div><div class=\"journal\">GEOPHYS RES LETT<div class=\"issn\">ISSN: 0094-8276</div></div><div class=\"percentile\"><div class=\"pholder1\"><div class=\"pname1\">EF: </div><div class=\"pbar1\"><div class=\"pfill1\" style=\"width: 100px;\"></div></div><div class=\"pnum1\">100</div></div><div class=\"pholder2\"><div class=\"pname2\">AI: </div><div class=\"pbar2\"><div class=\"pfill2\" style=\"width: 94px;\"></div></div><div class=\"pnum2\">94</div></div></div><div class=\"EF\">0.23991</div><div class=\"AI\">1.9391</div></div></a></h3><div class=\"details\" id=\"20110094-8276\">Loading...</div><h3><a href=\"#20110021-9606\"><div class=\"results\"><div class=\"rank\">37</div><div class=\"journal\">J CHEM PHYS<div class=\"issn\">ISSN: 0021-9606</div></div><div class=\"percentile\"><div class=\"pholder1\"><div class=\"pname1\">EF: </div><div class=\"pbar1\"><div class=\"pfill1\" style=\"width: 100px;\"></div></div><div class=\"pnum1\">100</div></div><div class=\"pholder2\"><div class=\"pname2\">AI: </div><div class=\"pbar2\"><div class=\"pfill2\" style=\"width: 80px;\"></div></div><div class=\"pnum2\">80</div></div></div><div class=\"EF\">0.232653</div><div class=\"AI\">0.9931</div></div></a></h3><div class=\"details\" id=\"20110021-9606\">Loading...</div><h3><a href=\"#20110896-6273\"><div class=\"results\"><div class=\"rank\">38</div><div class=\"journal\">NEURON<div class=\"issn\">ISSN: 0896-6273</div></div><div class=\"percentile\"><div class=\"pholder1\"><div class=\"pname1\">EF: </div><div class=\"pbar1\"><div class=\"pfill1\" style=\"width: 100px;\"></div></div><div class=\"pnum1\">100</div></div><div class=\"pholder2\"><div class=\"pname2\">AI: </div><div class=\"pbar2\"><div class=\"pfill2\" style=\"width: 99px;\"></div></div><div class=\"pnum2\">99</div></div></div><div class=\"EF\">0.227501</div><div class=\"AI\">8.5079</div></div></a></h3><div class=\"details\" id=\"20110896-6273\">Loading...</div><h3><a href=\"#20110743-7463\"><div class=\"results\"><div class=\"rank\">39</div><div class=\"journal\">LANGMUIR<div class=\"issn\">ISSN: 0743-7463</div></div><div class=\"percentile\"><div class=\"pholder1\"><div class=\"pname1\">EF: </div><div class=\"pbar1\"><div class=\"pfill1\" style=\"width: 100px;\"></div></div><div class=\"pnum1\">100</div></div><div class=\"pholder2\"><div class=\"pname2\">AI: </div><div class=\"pbar2\"><div class=\"pfill2\" style=\"width: 85px;\"></div></div><div class=\"pnum2\">85</div></div></div><div class=\"EF\">0.22322</div><div class=\"AI\">1.1824</div></div></a></h3><div class=\"details\" id=\"20110743-7463\">Loading...</div><h3><a href=\"#20111476-1122\"><div class=\"results\"><div class=\"rank\">40</div><div class=\"journal\">NAT MATER<div class=\"issn\">ISSN: 1476-1122</div></div><div class=\"percentile\"><div class=\"pholder1\"><div class=\"pname1\">EF: </div><div class=\"pbar1\"><div class=\"pfill1\" style=\"width: 100px;\"></div></div><div class=\"pnum1\">100</div></div><div class=\"pholder2\"><div class=\"pname2\">AI: </div><div class=\"pbar2\"><div class=\"pfill2\" style=\"width: 100px;\"></div></div><div class=\"pnum2\">100</div></div></div><div class=\"EF\">0.220911</div><div class=\"AI\">17.9245</div></div></a></h3><div class=\"details\" id=\"20111476-1122\">Loading...</div><h3><a href=\"#20110735-1097\"><div class=\"results\"><div class=\"rank\">41</div><div class=\"journal\">J AM COLL CARDIOL<div class=\"issn\">ISSN: 0735-1097</div></div><div class=\"percentile\"><div class=\"pholder1\"><div class=\"pname1\">EF: </div><div class=\"pbar1\"><div class=\"pfill1\" style=\"width: 100px;\"></div></div><div class=\"pnum1\">100</div></div><div class=\"pholder2\"><div class=\"pname2\">AI: </div><div class=\"pbar2\"><div class=\"pfill2\" style=\"width: 99px;\"></div></div><div class=\"pnum2\">99</div></div></div><div class=\"EF\">0.22035</div><div class=\"AI\">4.884</div></div></a></h3><div class=\"details\" id=\"20110735-1097\">Loading...</div><h3><a href=\"#20111050-2947\"><div class=\"results\"><div class=\"rank\">42</div><div class=\"journal\">PHYS REV A<div class=\"issn\">ISSN: 1050-2947</div></div><div class=\"percentile\"><div class=\"pholder1\"><div class=\"pname1\">EF: </div><div class=\"pbar1\"><div class=\"pfill1\" style=\"width: 100px;\"></div></div><div class=\"pnum1\">100</div></div><div class=\"pholder2\"><div class=\"pname2\">AI: </div><div class=\"pbar2\"><div class=\"pfill2\" style=\"width: 79px;\"></div></div><div class=\"pnum2\">79</div></div></div><div class=\"EF\">0.219831</div><div class=\"AI\">0.9797</div></div></a></h3><div class=\"details\" id=\"20111050-2947\">Loading...</div><h3><a href=\"#20110021-9738\"><div class=\"results\"><div class=\"rank\">43</div><div class=\"journal\">J CLIN INVEST<div class=\"issn\">ISSN: 0021-9738</div></div><div class=\"percentile\"><div class=\"pholder1\"><div class=\"pname1\">EF: </div><div class=\"pbar1\"><div class=\"pfill1\" style=\"width: 100px;\"></div></div><div class=\"pnum1\">100</div></div><div class=\"pholder2\"><div class=\"pname2\">AI: </div><div class=\"pbar2\"><div class=\"pfill2\" style=\"width: 99px;\"></div></div><div class=\"pnum2\">99</div></div></div><div class=\"EF\">0.218367</div><div class=\"AI\">6.9507</div></div></a></h3><div class=\"details\" id=\"20110021-9738\">Loading...</div><h3><a href=\"#20110009-2665\"><div class=\"results\"><div class=\"rank\">44</div><div class=\"journal\">CHEM REV<div class=\"issn\">ISSN: 0009-2665</div></div><div class=\"percentile\"><div class=\"pholder1\"><div class=\"pname1\">EF: </div><div class=\"pbar1\"><div class=\"pfill1\" style=\"width: 100px;\"></div></div><div class=\"pnum1\">100</div></div><div class=\"pholder2\"><div class=\"pname2\">AI: </div><div class=\"pbar2\"><div class=\"pfill2\" style=\"width: 100px;\"></div></div><div class=\"pnum2\">100</div></div></div><div class=\"EF\">0.214699</div><div class=\"AI\">13.3332</div></div></a></h3><div class=\"details\" id=\"20110009-2665\">Loading...</div><h3><a href=\"#20110890-9369\"><div class=\"results\"><div class=\"rank\">45</div><div class=\"journal\">GENE DEV<div class=\"issn\">ISSN: 0890-9369</div></div><div class=\"percentile\"><div class=\"pholder1\"><div class=\"pname1\">EF: </div><div class=\"pbar1\"><div class=\"pfill1\" style=\"width: 100px;\"></div></div><div class=\"pnum1\">100</div></div><div class=\"pholder2\"><div class=\"pname2\">AI: </div><div class=\"pbar2\"><div class=\"pfill2\" style=\"width: 99px;\"></div></div><div class=\"pnum2\">99</div></div></div><div class=\"EF\">0.209552</div><div class=\"AI\">8.0181</div></div></a></h3><div class=\"details\" id=\"20110890-9369\">Loading...</div><h3><a href=\"#20111078-0432\"><div class=\"results\"><div class=\"rank\">46</div><div class=\"journal\">CLIN CANCER RES<div class=\"issn\">ISSN: 1078-0432</div></div><div class=\"percentile\"><div class=\"pholder1\"><div class=\"pname1\">EF: </div><div class=\"pbar1\"><div class=\"pfill1\" style=\"width: 100px;\"></div></div><div class=\"pnum1\">100</div></div><div class=\"pholder2\"><div class=\"pname2\">AI: </div><div class=\"pbar2\"><div class=\"pfill2\" style=\"width: 96px;\"></div></div><div class=\"pnum2\">96</div></div></div><div class=\"EF\">0.20597</div><div class=\"AI\">2.538</div></div></a></h3><div class=\"details\" id=\"20111078-0432\">Loading...</div><h3><a href=\"#20111539-3755\"><div class=\"results\"><div class=\"rank\">47</div><div class=\"journal\">PHYS REV E<div class=\"issn\">ISSN: 1539-3755</div></div><div class=\"percentile\"><div class=\"pholder1\"><div class=\"pname1\">EF: </div><div class=\"pbar1\"><div class=\"pfill1\" style=\"width: 100px;\"></div></div><div class=\"pnum1\">100</div></div><div class=\"pholder2\"><div class=\"pname2\">AI: </div><div class=\"pbar2\"><div class=\"pfill2\" style=\"width: 79px;\"></div></div><div class=\"pnum2\">79</div></div></div><div class=\"EF\">0.205905</div><div class=\"AI\">0.958</div></div></a></h3><div class=\"details\" id=\"20111539-3755\">Loading...</div><h3><a href=\"#20110022-538X\"><div class=\"results\"><div class=\"rank\">48</div><div class=\"journal\">J VIROL<div class=\"issn\">ISSN: 0022-538X</div></div><div class=\"percentile\"><div class=\"pholder1\"><div class=\"pname1\">EF: </div><div class=\"pbar1\"><div class=\"pfill1\" style=\"width: 100px;\"></div></div><div class=\"pnum1\">100</div></div><div class=\"pholder2\"><div class=\"pname2\">AI: </div><div class=\"pbar2\"><div class=\"pfill2\" style=\"width: 91px;\"></div></div><div class=\"pnum2\">91</div></div></div><div class=\"EF\">0.190607</div><div class=\"AI\">1.5928</div></div></a></h3><div class=\"details\" id=\"20110022-538X\">Loading...</div><h3><a href=\"#20110013-936X\"><div class=\"results\"><div class=\"rank\">49</div><div class=\"journal\">ENVIRON SCI TECHNOL<div class=\"issn\">ISSN: 0013-936X</div></div><div class=\"percentile\"><div class=\"pholder1\"><div class=\"pname1\">EF: </div><div class=\"pbar1\"><div class=\"pfill1\" style=\"width: 100px;\"></div></div><div class=\"pnum1\">100</div></div><div class=\"pholder2\"><div class=\"pname2\">AI: </div><div class=\"pbar2\"><div class=\"pfill2\" style=\"width: 91px;\"></div></div><div class=\"pnum2\">91</div></div></div><div class=\"EF\">0.189289</div><div class=\"AI\">1.6039</div></div></a></h3><div class=\"details\" id=\"20110013-936X\">Loading...</div><h3><a href=\"#20110022-1007\"><div class=\"results\"><div class=\"rank\">50</div><div class=\"journal\">J EXP MED<div class=\"issn\">ISSN: 0022-1007</div></div><div class=\"percentile\"><div class=\"pholder1\"><div class=\"pname1\">EF: </div><div class=\"pbar1\"><div class=\"pfill1\" style=\"width: 100px;\"></div></div><div class=\"pnum1\">100</div></div><div class=\"pholder2\"><div class=\"pname2\">AI: </div><div class=\"pbar2\"><div class=\"pfill2\" style=\"width: 99px;\"></div></div><div class=\"pnum2\">99</div></div></div><div class=\"EF\">0.188512</div><div class=\"AI\">7.8344</div></div></a></h3><div class=\"details\" id=\"20110022-1007\">Loading...</div></div><ul class=\"pagination\"><li class=\"detailsPG\">Page 1 of 215</li><li><a class=\"current\">1</a></li><li><a href=\"?bsearch=2011&amp;searchby=year&amp;orderby=eigenfactor&amp;page=2\">2</a></li><li><a href=\"?bsearch=2011&amp;searchby=year&amp;orderby=eigenfactor&amp;page=3\">3</a></li><li><a href=\"?bsearch=2011&amp;searchby=year&amp;orderby=eigenfactor&amp;page=4\">4</a></li><li><a href=\"?bsearch=2011&amp;searchby=year&amp;orderby=eigenfactor&amp;page=5\">5</a></li><li><a href=\"?bsearch=2011&amp;searchby=year&amp;orderby=eigenfactor&amp;page=6\">6</a></li><li><a href=\"?bsearch=2011&amp;searchby=year&amp;orderby=eigenfactor&amp;page=7\">7</a></li><li class=\"dot\">...</li><li><a href=\"?bsearch=2011&amp;searchby=year&amp;orderby=eigenfactor&amp;page=214\">214</a></li><li><a href=\"?bsearch=2011&amp;searchby=year&amp;orderby=eigenfactor&amp;page=215\">215</a></li><li><a href=\"?bsearch=2011&amp;searchby=year&amp;orderby=eigenfactor&amp;page=2\">Next</a></li><li><a href=\"?bsearch=2011&amp;searchby=year&amp;orderby=eigenfactor&amp;page=215\">Last</a></li></ul>\n",
        "</div>\n",
        "<!-- End Content Box -->\n",
        "<!-- End of Content -->\n",
        "<!-- Space Bar1 -->\n",
        "<div class=\"spacebar1\"></div>\n",
        "<!-- Footer -->\n",
        "<div class=\"footer\"><p>Copyright \u00a9 2012 <a href=\"http://www.washington.edu/\">University of Washington</a></p></div>\n",
        "</div>\n",
        "<!-- End Content -->\n",
        "<!-- Right Panel -->\n",
        "<div class=\"rightside\"></div>\n",
        "</div>\n",
        "<!-- End Main Container -->\n",
        "</body>\n",
        "</html>"
       ]
      }
     ],
     "prompt_number": 23
    },
    {
     "cell_type": "code",
     "collapsed": false,
     "input": [
      "z = data[0].split('div class=\"results\">')\n",
      "z[0]"
     ],
     "language": "python",
     "metadata": {},
     "outputs": [
      {
       "metadata": {},
       "output_type": "pyout",
       "prompt_number": 40,
       "text": [
        "'\\r\\n\\r\\n\\r\\n\\t\\t\\t\\r\\n\\t\\t\\t<html lang=\"en-US\">\\r\\n\\r\\n\\t\\t\\t<head>\\r\\n\\r\\n\\t\\t\\t\\t<meta name=\"author\" content=\"Jevin D. West\"></meta>\\r\\n\\t\\t\\t\\t<meta name=\"description\" content=\"Eigenfactor: ranking and mapping scientific knowledge\"></meta> \\r\\n\\t\\t\\t\\t<meta name=\"keywords\" content=\"Eigenfactor, journal ranking, mapping science\"></meta>\\r\\n\\t\\t\\t\\t \\r\\n\\t\\t\\t\\t<title>Eigenfactor</title>\\r\\n\\t\\t\\t\\t<link rel=\"shortcut icon\" href=\"http://www.eigenfactor.org/images/EFlogo.png\" type=\"image/png\" />\\r\\n\\r\\n\\r\\n\\t\\t\\t\\t<link rel=\"stylesheet\" href=\"http://www.eigenfactor.org/css/ef.css\" type=\"text/css\"></link>\\r\\n\\t\\t\\t\\t\\r\\n\\t\\t\\t\\t<link rel=\"stylesheet\" href=\"http://www.eigenfactor.org/css/p7exp.css\" type=\"text/css\"></link>\\t\\r\\n\\t\\t\\t\\t<link rel=\"stylesheet\" href=\"http://www.eigenfactor.org/css/quickmenu_styles.css\" type=\"text/css\"></link>\\r\\n\\t\\t\\t\\t\\r\\n\\t\\t\\t\\t<link rel=\"stylesheet\" href=\"http://www.eigenfactor.org/css/jquery-ui-1.8.16.custom.css\" type=\"text/css\"></link>\\r\\n\\t\\t\\t\\t<link rel=\"stylesheet\" type=\"text/css\" href=\"http://www.eigenfactor.org/css/jquery.jqplot.css\" />\\r\\n\\t\\t\\t\\t\\r\\n\\t\\t\\t\\t\\r\\n\\t\\t\\t\\t<script type=\"text/javascript\" src=\"http://www.eigenfactor.org/js/quickmenu.js\"></script>\\r\\n\\t\\t\\t\\t<script type=\"text/javascript\" src=\"http://www.eigenfactor.org/js/p7exp.js\"></script>\\t\\t\\r\\n\\t\\t\\t\\t\\r\\n\\t\\t\\t\\t<script type=\"text/javascript\" src=\"http://www.eigenfactor.org/js/jquery-1.6.2.min.js\"></script>\\r\\n\\t\\t\\t\\t<script type=\"text/javascript\" src=\"http://www.eigenfactor.org/js/jquery-ui-1.8.16.custom.min.js\"></script>\\t\\t\\r\\n\\t\\t\\t\\t\\r\\n\\t\\t\\t</head>\\r\\n\\r\\n\\r\\n\\t\\t\\t<body>\\r\\n\\t\\t\\t\\t\\r\\n\\t\\t\\t\\t<!-- Main Container -->\\r\\n\\t\\t\\t\\t<div class=\"container\">\\r\\n\\r\\n\\t\\t\\t\\t  <!-- Left Panel -->\\r\\n\\t\\t\\t\\t\\t<div class=\"leftside\"></div>\\r\\n\\r\\n\\t\\t\\t\\t\\t<!-- Content -->\\r\\n\\t\\t\\t\\t\\t<div class=\"middleside\">\\r\\n\\t\\t\\t\\t\\t\\t\\r\\n\\t\\t\\t\\t\\t\\t<!-- Header -->\\r\\n\\t\\t\\t\\t\\t\\t<div id=\"headerimage\"><a href=\"http://www.eigenfactor.org\"><img src=\"http://www.eigenfactor.org/images/header.jpg\" width=\"700\" height=\"150\" border=\"0\" /></a></div>\\r\\n\\t\\t\\t\\t\\t\\t\\r\\n\\t\\t\\t\\t\\t\\t<!-- Space Bar -->\\r\\n\\t\\t\\t\\t\\t\\t<div class=\"spacebar1\"></div>\\r\\n\\r\\n\\t\\t\\t\\t\\t\\t\\r\\n\\t\\t\\t\\t\\t\\t\\r\\n\\t\\t\\t\\t\\t\\t<!-- Navigation Bar -->\\r\\n\\t\\t\\t\\t\\t\\t<div class=\"navigation\">\\r\\n\\r\\n\\t\\t\\t\\t\\t\\t\\t<!-- navigation contents -->\\r\\n\\t\\t\\t\\t\\t\\t\\t<ul id=\"qm0\" class=\"qmmc\">\\r\\n\\r\\n\\t\\t\\t\\t\\t\\t\\t\\t<li><a class=\"qmparent\" href=\"http://www.eigenfactor.org/index.php\">eigenfactor search</a>\\r\\n\\t\\t\\t\\t\\t\\t\\t\\t    <ul>\\r\\n\\t\\t\\t\\t\\t\\t\\t\\t       <li><a href=\"http://www.eigenfactor.org/motion/\">motion graphs</a></li>\\r\\n\\t\\t\\t\\t\\t\\t\\t\\t       <li><span class=\"qmdivider qmdividerx\" ></span></li>\\r\\n\\t\\t\\t\\t\\t\\t\\t\\t       <li><a href=\"http://www.eigenfactor.org/advanced.php\">advanced search</a></li>\\r\\n\\t\\t\\t\\t\\t\\t\\t\\t    </ul>\\r\\n\\t\\t\\t\\t\\t\\t\\t\\t</li>\\r\\n\\r\\n\\t\\t\\t\\t\\t\\t\\t\\t<li><span class=\"qmdivider qmdividery\" ></span></li>\\r\\n\\r\\n\\t\\t\\t\\t\\t\\t\\t\\t<li><a class=\"qmparent\" href=\"/map/index.php\">mapping</a>\\r\\n\\t\\t\\t\\t\\t\\t\\t\\t\\t  <ul>\\r\\n\\t\\t\\t\\t\\t\\t\\t\\t\\t     <li><a href=\"http://www.eigenfactor.org/map/index.php\">interactive browser</a></li>\\r\\n\\t\\t\\t\\t\\t\\t\\t         <li><a href=\"http://www.eigenfactor.org/map/maps.php\">maps</a></li>\\r\\n\\t\\t\\t\\t\\t\\t\\t\\t\\t\\t\\t<li><a href=\"http://mas.eigenfactor.org/journalLevel/indexIframe.php\">mas</a></li>\\r\\n\\t\\t\\t\\t\\t\\t\\t\\t\\t     <li><a href=\"http://www.eigenfactor.org/map/methods.php\">methods</a></li>\\r\\n\\t\\t\\t\\t\\t\\t\\t\\t\\t     <li><span class=\"qmdivider qmdividerx\" ></span></li>\\r\\n\\t\\t\\t\\t\\t\\t\\t\\t\\t\\t\\t <li><a href=\"http://www.mapequation.org\">mapequation.org</a></li>\\r\\n\\t\\t\\t\\t\\t\\t\\t\\t\\t  </ul>\\r\\n\\t\\t\\t\\t\\t\\t\\t\\t</li>\\r\\n\\r\\n\\t\\t\\t\\t\\t\\t\\t\\t<li><span class=\"qmdivider qmdividery\" ></span></li>\\r\\n\\r\\n\\t\\t\\t\\t\\t\\t\\t\\t<li><a class=\"qmparent\" href=\"http://www.eigenfactor.org/methods.php\">information</a>\\r\\n\\t\\t\\t\\t\\t\\t\\t\\t\\t  <ul>\\r\\n\\t\\t\\t\\t\\t\\t\\t\\t\\t     <li><a href=\"http://www.eigenfactor.org/whyeigenfactor.php\">why eigenfactor</a></li>\\r\\n\\t\\t\\t\\t\\t\\t\\t\\t\\t     <li><a href=\"http://www.eigenfactor.org/methods.php\">methods</a></li>\\r\\n\\t\\t\\t\\t\\t\\t\\t\\t\\t     <li><a href=\"http://www.eigenfactor.org/stats.php\">stats</a></li>\\r\\n\\t\\t\\t\\t\\t\\t\\t\\t\\t     <li><span class=\"qmdivider qmdividerx\" ></span></li>\\r\\n\\t\\t\\t\\t\\t\\t\\t         <li><a href=\"http://www.eigenfactor.org/papers.php\">papers</a></li>\\r\\n\\t\\t\\t\\t\\t\\t\\t\\t\\t  </ul>\\r\\n\\t\\t\\t\\t\\t\\t\\t\\t</li>\\r\\n\\r\\n\\t\\t\\t\\t\\t\\t\\t\\t<li><span class=\"qmdivider qmdividery\" ></span></li>\\r\\n\\r\\n\\t\\t\\t\\t\\t\\t\\t  <li><a href=\"http://well-formed.eigenfactor.org\">well-formed</a></li>\\r\\n\\r\\n\\t\\t\\t\\t\\t\\t\\t  <li><span class=\"qmdivider qmdividery\" ></span></li>\\r\\n\\t\\t\\t\\t\\t\\t\\t\\r\\n\\t\\t\\t\\t\\t\\t\\t  <li><a class=\"qmparent\" href=\"http://www.eigenfactor.org/openaccess/\">cost effectiveness</a>\\r\\n\\t\\t\\t\\t\\t\\t\\t\\t\\t\\t<ul>\\r\\n\\t\\t\\t\\t\\t\\t\\t\\t       <li><a href=\"http://www.eigenfactor.org/costeffectiveness.php\">Subscriptions</a></li>\\r\\n\\t\\t\\t\\t\\t             <li><a href=\"http://www.eigenfactor.org/openaccess/\">Open Access Author Fees (Beta)</a></li>\\r\\n\\t\\t\\t\\t\\t\\t\\t\\t    </ul>\\r\\n\\t\\t\\t\\t\\t\\t\\t\\r\\n\\t\\t\\t\\t\\t\\t\\t\\t<li><span class=\"qmdivider qmdividery\" ></span></li>\\r\\n\\r\\n\\t\\t\\t\\t\\t\\t\\t\\t<li><a class=\"qmparent\" href=\"http://mas.eigenfactor.org/\">recommendation</a>\\r\\n\\t\\t\\t\\t\\t\\t\\t\\t  <ul>\\r\\n\\t\\t\\t\\t\\t\\t\\t\\t       <li><a href=\"http://mas.eigenfactor.org\">Microsoft Academic Search</a></li>\\r\\n\\t\\t\\t\\t\\t                   <li><a href=\"http://jstor.eigenfactor.org/\">JSTOR</a></li>\\r\\n\\t\\t\\t\\t\\t\\t\\t\\t  </ul>\\r\\n\\t\\t\\t\\t\\t\\t\\t\\t</li>\\r\\n\\r\\n\\t\\t\\t\\t\\t\\t\\t\\t<li><span class=\"qmdivider qmdividery\" ></span></li>\\r\\n\\r\\n\\t\\t\\t\\t\\t\\t\\t\\t<li><a class=\"qmparent\" href=\"http://www.eigenfactor.org/gender\">gender</a>\\r\\n\\t\\t\\t\\t\\t\\t\\t\\t\\r\\n\\t\\t\\t\\t\\t\\t\\t\\t<li><span class=\"qmdivider qmdividery\" ></span></li>\\r\\n\\r\\n\\t\\t\\t\\t\\t\\t\\t  <li><a class=\"qmparent\" href=\"http://www.eigenfactor.org/about.php\">about</a>\\r\\n\\t\\t\\t\\t\\t          <ul>\\r\\n\\t\\t\\t\\t\\t\\t\\t\\t       <li><a href=\"http://www.eigenfactor.org/faq.php\">faq</a></li>\\r\\n\\t\\t\\t\\t\\t\\t\\t\\t       <li><span class=\"qmdivider qmdividerx\" ></span></li>\\r\\n\\t\\t\\t\\t\\t             <li><a href=\"http://www.eigenfactor.org/about.php\">contact</a></li>\\r\\n\\t\\t\\t\\t\\t\\t\\t\\t    </ul>\\r\\n\\t\\t\\t\\t\\t\\t\\t\\t</li>\\r\\n\\r\\n\\t\\t\\t\\t\\t\\t\\t  <li class=\"qmclear\">&nbsp;</li>\\r\\n\\r\\n\\t\\t\\t\\t\\t\\t\\t</ul>\\r\\n\\t\\t\\t\\t\\t\\t  <!-- End navigation contents -->\\r\\n\\r\\n\\r\\n\\t\\t\\t\\t\\t\\t</div>\\r\\n\\t\\t\\t\\t\\t\\t<!-- End Navigation Bar -->\\r\\n\\r\\n\\r\\n\\t\\t\\t\\t\\t\\t<!-- Space Bar1 -->\\r\\n\\t\\t\\t\\t\\t\\t<div class=\"spacebar1\"></div>\\r\\n\\t\\t\\t\\t\\t\\t\\r\\n\\t\\t\\t\\t\\t\\t<!-- Beginning of Content -->\\r\\n\\t\\t\\t\\t\\t\\t\\r\\n\\t\\t\\t\\r\\n\\t  \\r\\n\\r\\n<link href=\"css/pagination.css\" rel=\"stylesheet\" type=\"text/css\" />\\r\\n\\t<link href=\"css/grey.css\" rel=\"stylesheet\" type=\"text/css\" />\\r\\n\\r\\n<!-- JS -->\\r\\n\\r\\n<script language=\"javascript\" type=\"text/javascript\" src=\"http://www.eigenfactor.org/js/jquery.jqplot.min.js\"></script>\\r\\n<script type=\"text/javascript\" src=\"http://www.eigenfactor.org/js/jqplot.canvasTextRenderer.min.js\"></script>\\r\\n<script type=\"text/javascript\" src=\"http://www.eigenfactor.org/js/jqplot.canvasAxisLabelRenderer.min.js\"></script>\\r\\n<script type=\"text/javascript\" src=\"http://www.eigenfactor.org/js/jqplot.json2.min.js\"></script>\\r\\n<script type=\"text/javascript\" src=\"http://www.eigenfactor.org/js/jqplot.ciParser.min.js\"></script>\\r\\n<script language=\"javascript\" type=\"text/javascript\" src=\"http://www.eigenfactor.org/js/jqplot.highlighter.min.js\"></script>\\r\\n<script language=\"javascript\" type=\"text/javascript\" src=\"http://www.eigenfactor.org/js/jqplot.logAxisRenderer.min.js\"></script>\\r\\n\\r\\n\\r\\n<script type=\"text/javascript\">\\r\\n    $(function(){\\r\\n        // Accordion //\\r\\n        $(\"#accordion\").accordion({ header: \"h3\",collapsible: true,active: false});\\r\\n        $(\"#accordion a\").click(function(evt) {\\r\\n              var galleryId = $(this).attr(\\'href\\').split(\\'#\\')[1];\\r\\n              var contentDiv = $(\\'#\\' + galleryId);\\r\\n              if(contentDiv.html() == \"Loading...\") {\\r\\n\\t\\t\\t\\t\\t\\t\\t\\t\\t\\t$(contentDiv).load(\\'getdetails.php?year=\\' + galleryId.substring(0,4) + \\'&issn=\\' + galleryId.substring(4));\\r\\n              }\\r\\n         });\\r\\n\\t\\t\\t\\t$(\"#accordion span\").click(function(evt2) {\\r\\n              var galleryId = $(this).next().attr(\\'href\\').split(\\'#\\')[1];\\r\\n              var contentDiv = $(\\'#\\' + galleryId);\\r\\n              if(contentDiv.html() == \"Loading...\") {\\r\\n\\t\\t\\t\\t\\t\\t\\t\\t\\t\\t$(contentDiv).load(\\'getdetails.php?year=\\' + galleryId.substring(0,4) + \\'&issn=\\' + galleryId.substring(4));\\r\\n              }\\r\\n         });\\r\\n    });\\r\\n</script>\\r\\n\\r\\n\\r\\n<!-- END JS -->\\r\\n\\r\\n\\r\\n\\r\\n\\r\\n<!-- Content Box -->\\r\\n<div class=\"content_box\">\\r\\n\\r\\n\\r\\n\\t\\r\\n\\t<!-- Header Bar -->\\r\\n\\t<div class=\"results\" style=\"margin-left: 30px; margin-top: 20px; height:40px;\">\\r\\n\\t\\r\\n\\t\\t<div class=\"rank\"><h3>Order</h3></div>\\r\\n\\t\\t<div class=\"journal\" style=\"width:320px;\"><h3>Journal</h3></div>\\r\\n\\t\\t<div class=\"percentile\" style=\"width:170px;\"><h3>Percentile</h3></div>\\r\\n\\t\\t<div class=\"EF\" style=\"text-align:center;\"><h3>EF <a href=\"http://www.eigenfactor.org/rankings.php?bsearch=2011&searchby=year&orderby=eigenfactor\">&#8595</a></h3></div>\\r\\n\\t\\t<div class=\"AI\" style=\"text-align:center;\"><h3>AI <a href=\"http://www.eigenfactor.org/rankings.php?bsearch=2011&searchby=year&orderby=articleinfluence\">&#8595</a></h3></div>\\r\\n\\t\\r\\n\\t</div>\\r\\n\\t<!-- End Header Bar -->\\r\\n\\t\\r\\n\\t\\r\\n\\t<div id=\"accordion\"><h3><a href=\"#20110028-0836\"><'"
       ]
      }
     ],
     "prompt_number": 40
    },
    {
     "cell_type": "code",
     "collapsed": false,
     "input": [
      "len(z)"
     ],
     "language": "python",
     "metadata": {},
     "outputs": [
      {
       "metadata": {},
       "output_type": "pyout",
       "prompt_number": 41,
       "text": [
        "51"
       ]
      }
     ],
     "prompt_number": 41
    },
    {
     "cell_type": "code",
     "collapsed": false,
     "input": [
      "z[1]"
     ],
     "language": "python",
     "metadata": {},
     "outputs": [
      {
       "metadata": {},
       "output_type": "pyout",
       "prompt_number": 44,
       "text": [
        "'<div class=\"rank\">1</div><div class=\"journal\">NATURE<div class=\"issn\">ISSN: 0028-0836</div></div><div class=\"percentile\"><div class=\"pholder1\"><div class=\"pname1\">EF: </div><div class=\"pbar1\"><div class=\"pfill1\" style=\"width: 100px;\"></div></div><div class =\"pnum1\">100</div></div><div class=\"pholder2\"><div class=\"pname2\">AI: </div><div class=\"pbar2\"><div class=\"pfill2\" style=\"width: 100px;\"></div></div><div class =\"pnum2\">100</div></div></div><div class=\"EF\">1.65524</div><div class=\"AI\">20.373</div></div></a></h3><div class=\"details\" id=\"20110028-0836\">Loading...</div><h3><a href=\"#20110027-8424\"><'"
       ]
      }
     ],
     "prompt_number": 44
    },
    {
     "cell_type": "code",
     "collapsed": false,
     "input": [
      "def bsFragment(xmlfragment):\n",
      "    return BeautifulSoup(str(xmlfragment))\n",
      "\n",
      "def getFields(leafxmlfragment, fieldlist):\n",
      "    \n",
      "    answerdict = {}\n",
      "    for field in fieldlist:\n",
      "        # get rid of unicode\n",
      "        x = bsFragment(leafxmlfragment).find_all(field)\n",
      "        if x:\n",
      "            x = x[0].string # convert to string\n",
      "            x = unicodedata.normalize('NFKD',unicode(x)).encode('ascii','ignore')\n",
      "            answerdict[field] = x\n",
      "        else:\n",
      "            answerdict[field] = ''\n",
      "    return answerdict\n",
      "\n",
      "def getFields(leafxmlfragment, fieldlist):\n",
      "    \n",
      "    answerdict = {}\n",
      "    for field in fieldlist:\n",
      "        # get rid of unicode\n",
      "        x = bsFragment(leafxmlfragment).find_all(field)\n",
      "        if x:\n",
      "            x = x[0].string # convert to string\n",
      "            x = unicodedata.normalize('NFKD',unicode(x)).encode('ascii','ignore')\n",
      "            answerdict[field] = x\n",
      "        else:\n",
      "            answerdict[field] = ''\n",
      "    return answerdict\n"
     ],
     "language": "python",
     "metadata": {},
     "outputs": [],
     "prompt_number": 46
    },
    {
     "cell_type": "code",
     "collapsed": false,
     "input": [
      "#http://stackoverflow.com/questions/5041008/handling-class-attribute-in-beautifulsoup\n",
      "htmfragments = []\n",
      "for d in data:\n",
      "    htmfragments.extend((BeautifulSoup(d).findAll(\"div\", { \"class\" : \"results\" }))[1:])\n"
     ],
     "language": "python",
     "metadata": {},
     "outputs": [],
     "prompt_number": 73
    },
    {
     "cell_type": "code",
     "collapsed": false,
     "input": [
      "len(htmfragments)"
     ],
     "language": "python",
     "metadata": {},
     "outputs": [
      {
       "metadata": {},
       "output_type": "pyout",
       "prompt_number": 102,
       "text": [
        "1250"
       ]
      }
     ],
     "prompt_number": 102
    },
    {
     "cell_type": "code",
     "collapsed": false,
     "input": [
      "z = htmfragments[0]\n",
      "z"
     ],
     "language": "python",
     "metadata": {},
     "outputs": [
      {
       "metadata": {},
       "output_type": "pyout",
       "prompt_number": 76,
       "text": [
        "<div class=\"results\"><div class=\"rank\">1</div><div class=\"journal\">NATURE<div class=\"issn\">ISSN: 0028-0836</div></div><div class=\"percentile\"><div class=\"pholder1\"><div class=\"pname1\">EF: </div><div class=\"pbar1\"><div class=\"pfill1\" style=\"width: 100px;\"></div></div><div class=\"pnum1\">100</div></div><div class=\"pholder2\"><div class=\"pname2\">AI: </div><div class=\"pbar2\"><div class=\"pfill2\" style=\"width: 100px;\"></div></div><div class=\"pnum2\">100</div></div></div><div class=\"EF\">1.65524</div><div class=\"AI\">20.373</div></div>"
       ]
      }
     ],
     "prompt_number": 76
    },
    {
     "cell_type": "code",
     "collapsed": false,
     "input": [
      "z.find(\"div\", {\"class\" :\"rank\"})"
     ],
     "language": "python",
     "metadata": {},
     "outputs": [
      {
       "metadata": {},
       "output_type": "pyout",
       "prompt_number": 93,
       "text": [
        "<div class=\"rank\">1</div>"
       ]
      }
     ],
     "prompt_number": 93
    },
    {
     "cell_type": "code",
     "collapsed": false,
     "input": [
      "z.findAll(\"div\", {\"class\" :\"journal\"})"
     ],
     "language": "python",
     "metadata": {},
     "outputs": [
      {
       "metadata": {},
       "output_type": "pyout",
       "prompt_number": 82,
       "text": [
        "[<div class=\"journal\">NATURE<div class=\"issn\">ISSN: 0028-0836</div></div>]"
       ]
      }
     ],
     "prompt_number": 82
    },
    {
     "cell_type": "code",
     "collapsed": false,
     "input": [
      "z.findAll(\"div\", {\"class\" :\"EF\"})"
     ],
     "language": "python",
     "metadata": {},
     "outputs": [
      {
       "metadata": {},
       "output_type": "pyout",
       "prompt_number": 83,
       "text": [
        "[<div class=\"EF\">1.65524</div>]"
       ]
      }
     ],
     "prompt_number": 83
    },
    {
     "cell_type": "code",
     "collapsed": false,
     "input": [
      "z.findAll(\"div\", {\"class\" :\"AI\"})"
     ],
     "language": "python",
     "metadata": {},
     "outputs": [
      {
       "metadata": {},
       "output_type": "pyout",
       "prompt_number": 84,
       "text": [
        "[<div class=\"AI\">20.373</div>]"
       ]
      }
     ],
     "prompt_number": 84
    },
    {
     "cell_type": "code",
     "collapsed": false,
     "input": [
      "zj = z.findAll(\"div\", {\"class\" :\"journal\"})\n",
      "zj"
     ],
     "language": "python",
     "metadata": {},
     "outputs": [
      {
       "metadata": {},
       "output_type": "pyout",
       "prompt_number": 86,
       "text": [
        "[<div class=\"journal\">NATURE<div class=\"issn\">ISSN: 0028-0836</div></div>]"
       ]
      }
     ],
     "prompt_number": 86
    },
    {
     "cell_type": "code",
     "collapsed": false,
     "input": [
      "zj[0].getText().split(\"ISSN:\")"
     ],
     "language": "python",
     "metadata": {},
     "outputs": [
      {
       "metadata": {},
       "output_type": "pyout",
       "prompt_number": 90,
       "text": [
        "[u'NATURE', u' 0028-0836']"
       ]
      }
     ],
     "prompt_number": 90
    },
    {
     "cell_type": "code",
     "collapsed": false,
     "input": [
      "def unicode2ascii(x):\n",
      "    return unicodedata.normalize('NFKD',unicode(x)).encode('ascii','ignore')"
     ],
     "language": "python",
     "metadata": {},
     "outputs": [],
     "prompt_number": 91
    },
    {
     "cell_type": "code",
     "collapsed": false,
     "input": [
      "[unicode2ascii(x) for x in zj[0].getText().split(\"ISSN:\")]"
     ],
     "language": "python",
     "metadata": {},
     "outputs": [
      {
       "metadata": {},
       "output_type": "pyout",
       "prompt_number": 92,
       "text": [
        "['NATURE', ' 0028-0836']"
       ]
      }
     ],
     "prompt_number": 92
    },
    {
     "cell_type": "code",
     "collapsed": false,
     "input": [
      "def getJournalInfo(bsfragment):\n",
      "    divclasses = \"rank journal EF AI\".split()\n",
      "    fields = {}\n",
      "    for dc in divclasses:\n",
      "        x = bsfragment.find(\"div\", {\"class\" : dc}).getText()\n",
      "        x = unicodedata.normalize('NFKD',unicode(x)).encode('ascii','ignore')\n",
      "        if dc == 'journal':\n",
      "            \n",
      "            fields['journal'], fields['issn'] = [z.strip() for z in x.split(\"ISSN:\")]\n",
      "        else:\n",
      "            fields[dc] = x\n",
      "\n",
      "    return fields\n"
     ],
     "language": "python",
     "metadata": {},
     "outputs": [],
     "prompt_number": 157
    },
    {
     "cell_type": "code",
     "collapsed": false,
     "input": [
      "getJournalInfo(htmfragments[0])"
     ],
     "language": "python",
     "metadata": {},
     "outputs": [
      {
       "metadata": {},
       "output_type": "pyout",
       "prompt_number": 158,
       "text": [
        "{'AI': '20.373',\n",
        " 'EF': '1.65524',\n",
        " 'issn': '0028-0836',\n",
        " 'journal': 'NATURE',\n",
        " 'rank': '1'}"
       ]
      }
     ],
     "prompt_number": 158
    },
    {
     "cell_type": "code",
     "collapsed": false,
     "input": [
      "eigenfactors = [getJournalInfo(x) for x in htmfragments]"
     ],
     "language": "python",
     "metadata": {},
     "outputs": [],
     "prompt_number": 159
    },
    {
     "cell_type": "code",
     "collapsed": false,
     "input": [
      "from pandas import DataFrame\n",
      "eigenfactorsDF = DataFrame(eigenfactors)\n",
      "eigenfactorsDF"
     ],
     "language": "python",
     "metadata": {},
     "outputs": [
      {
       "html": [
        "<div style=\"max-height:1000px;max-width:1500px;overflow:auto;\">\n",
        "<table border=\"1\" class=\"dataframe\">\n",
        "  <thead>\n",
        "    <tr style=\"text-align: right;\">\n",
        "      <th></th>\n",
        "      <th>AI</th>\n",
        "      <th>EF</th>\n",
        "      <th>issn</th>\n",
        "      <th>journal</th>\n",
        "      <th>rank</th>\n",
        "    </tr>\n",
        "  </thead>\n",
        "  <tbody>\n",
        "    <tr>\n",
        "      <th>0   </th>\n",
        "      <td>  20.373</td>\n",
        "      <td>  1.65524</td>\n",
        "      <td> 0028-0836</td>\n",
        "      <td>               NATURE</td>\n",
        "      <td>    1</td>\n",
        "    </tr>\n",
        "    <tr>\n",
        "      <th>1   </th>\n",
        "      <td>  4.8961</td>\n",
        "      <td>  1.60168</td>\n",
        "      <td> 0027-8424</td>\n",
        "      <td>  P NATL ACAD SCI USA</td>\n",
        "      <td>    2</td>\n",
        "    </tr>\n",
        "    <tr>\n",
        "      <th>2   </th>\n",
        "      <td> 17.5248</td>\n",
        "      <td>  1.41162</td>\n",
        "      <td> 0036-8075</td>\n",
        "      <td>              SCIENCE</td>\n",
        "      <td>    3</td>\n",
        "    </tr>\n",
        "    <tr>\n",
        "      <th>3   </th>\n",
        "      <td>  3.5175</td>\n",
        "      <td>  1.14457</td>\n",
        "      <td> 0031-9007</td>\n",
        "      <td>        PHYS REV LETT</td>\n",
        "      <td>    4</td>\n",
        "    </tr>\n",
        "    <tr>\n",
        "      <th>4   </th>\n",
        "      <td>  2.7989</td>\n",
        "      <td> 0.817303</td>\n",
        "      <td> 0002-7863</td>\n",
        "      <td>        J AM CHEM SOC</td>\n",
        "      <td>    5</td>\n",
        "    </tr>\n",
        "    <tr>\n",
        "      <th>5   </th>\n",
        "      <td>  1.4281</td>\n",
        "      <td> 0.756039</td>\n",
        "      <td> 1098-0121</td>\n",
        "      <td>           PHYS REV B</td>\n",
        "      <td>    6</td>\n",
        "    </tr>\n",
        "    <tr>\n",
        "      <th>6   </th>\n",
        "      <td>  2.0307</td>\n",
        "      <td> 0.742127</td>\n",
        "      <td> 0021-9258</td>\n",
        "      <td>          J BIOL CHEM</td>\n",
        "      <td>    7</td>\n",
        "    </tr>\n",
        "    <tr>\n",
        "      <th>7   </th>\n",
        "      <td>  1.3875</td>\n",
        "      <td> 0.675752</td>\n",
        "      <td> 0003-6951</td>\n",
        "      <td>       APPL PHYS LETT</td>\n",
        "      <td>    8</td>\n",
        "    </tr>\n",
        "    <tr>\n",
        "      <th>8   </th>\n",
        "      <td>  21.304</td>\n",
        "      <td>  0.66383</td>\n",
        "      <td> 0028-4793</td>\n",
        "      <td>       NEW ENGL J MED</td>\n",
        "      <td>    9</td>\n",
        "    </tr>\n",
        "    <tr>\n",
        "      <th>9   </th>\n",
        "      <td>  20.554</td>\n",
        "      <td> 0.660816</td>\n",
        "      <td> 0092-8674</td>\n",
        "      <td>                 CELL</td>\n",
        "      <td>   10</td>\n",
        "    </tr>\n",
        "    <tr>\n",
        "      <th>10  </th>\n",
        "      <td>  3.3776</td>\n",
        "      <td> 0.514213</td>\n",
        "      <td> 1433-7851</td>\n",
        "      <td>  ANGEW CHEM INT EDIT</td>\n",
        "      <td>   11</td>\n",
        "    </tr>\n",
        "    <tr>\n",
        "      <th>11  </th>\n",
        "      <td>  1.7984</td>\n",
        "      <td> 0.501622</td>\n",
        "      <td> 1932-6203</td>\n",
        "      <td>             PLOS ONE</td>\n",
        "      <td>   12</td>\n",
        "    </tr>\n",
        "    <tr>\n",
        "      <th>12  </th>\n",
        "      <td>  3.2549</td>\n",
        "      <td> 0.449625</td>\n",
        "      <td> 0270-6474</td>\n",
        "      <td>           J NEUROSCI</td>\n",
        "      <td>   13</td>\n",
        "    </tr>\n",
        "    <tr>\n",
        "      <th>13  </th>\n",
        "      <td>  1.8047</td>\n",
        "      <td> 0.429616</td>\n",
        "      <td> 0004-637X</td>\n",
        "      <td>          ASTROPHYS J</td>\n",
        "      <td>   14</td>\n",
        "    </tr>\n",
        "    <tr>\n",
        "      <th>14  </th>\n",
        "      <td>   3.692</td>\n",
        "      <td> 0.427942</td>\n",
        "      <td> 0006-4971</td>\n",
        "      <td>                BLOOD</td>\n",
        "      <td>   15</td>\n",
        "    </tr>\n",
        "    <tr>\n",
        "      <th>15  </th>\n",
        "      <td>    5.56</td>\n",
        "      <td> 0.394631</td>\n",
        "      <td> 0732-183X</td>\n",
        "      <td>         J CLIN ONCOL</td>\n",
        "      <td>   16</td>\n",
        "    </tr>\n",
        "    <tr>\n",
        "      <th>16  </th>\n",
        "      <td>  2.2661</td>\n",
        "      <td> 0.369891</td>\n",
        "      <td> 0022-1767</td>\n",
        "      <td>            J IMMUNOL</td>\n",
        "      <td>   17</td>\n",
        "    </tr>\n",
        "    <tr>\n",
        "      <th>17  </th>\n",
        "      <td>  3.0995</td>\n",
        "      <td> 0.362734</td>\n",
        "      <td> 0008-5472</td>\n",
        "      <td>           CANCER RES</td>\n",
        "      <td>   18</td>\n",
        "    </tr>\n",
        "    <tr>\n",
        "      <th>18  </th>\n",
        "      <td> 13.6107</td>\n",
        "      <td> 0.360954</td>\n",
        "      <td> 0140-6736</td>\n",
        "      <td>               LANCET</td>\n",
        "      <td>   19</td>\n",
        "    </tr>\n",
        "    <tr>\n",
        "      <th>19  </th>\n",
        "      <td>  5.0701</td>\n",
        "      <td> 0.345906</td>\n",
        "      <td> 1530-6984</td>\n",
        "      <td>            NANO LETT</td>\n",
        "      <td>   20</td>\n",
        "    </tr>\n",
        "    <tr>\n",
        "      <th>20  </th>\n",
        "      <td>  5.9733</td>\n",
        "      <td> 0.339278</td>\n",
        "      <td> 0009-7322</td>\n",
        "      <td>          CIRCULATION</td>\n",
        "      <td>   21</td>\n",
        "    </tr>\n",
        "    <tr>\n",
        "      <th>21  </th>\n",
        "      <td>  1.4057</td>\n",
        "      <td> 0.332456</td>\n",
        "      <td> 0148-0227</td>\n",
        "      <td>        J GEOPHYS RES</td>\n",
        "      <td>   22</td>\n",
        "    </tr>\n",
        "    <tr>\n",
        "      <th>22  </th>\n",
        "      <td> 17.5835</td>\n",
        "      <td> 0.329901</td>\n",
        "      <td> 1061-4036</td>\n",
        "      <td>            NAT GENET</td>\n",
        "      <td>   23</td>\n",
        "    </tr>\n",
        "    <tr>\n",
        "      <th>23  </th>\n",
        "      <td>  3.0072</td>\n",
        "      <td> 0.304882</td>\n",
        "      <td> 0305-1048</td>\n",
        "      <td>    NUCLEIC ACIDS RES</td>\n",
        "      <td>   24</td>\n",
        "    </tr>\n",
        "    <tr>\n",
        "      <th>24  </th>\n",
        "      <td>  0.8355</td>\n",
        "      <td> 0.301562</td>\n",
        "      <td> 0021-8979</td>\n",
        "      <td>          J APPL PHYS</td>\n",
        "      <td>   25</td>\n",
        "    </tr>\n",
        "    <tr>\n",
        "      <th>25  </th>\n",
        "      <td>  1.2451</td>\n",
        "      <td> 0.300804</td>\n",
        "      <td> 1550-7998</td>\n",
        "      <td>           PHYS REV D</td>\n",
        "      <td>   26</td>\n",
        "    </tr>\n",
        "    <tr>\n",
        "      <th>26  </th>\n",
        "      <td>  13.111</td>\n",
        "      <td> 0.285664</td>\n",
        "      <td> 0098-7484</td>\n",
        "      <td>  JAMA-J AM MED ASSOC</td>\n",
        "      <td>   27</td>\n",
        "    </tr>\n",
        "    <tr>\n",
        "      <th>27  </th>\n",
        "      <td>  1.3421</td>\n",
        "      <td> 0.284716</td>\n",
        "      <td> 1932-7447</td>\n",
        "      <td>        J PHYS CHEM C</td>\n",
        "      <td>   28</td>\n",
        "    </tr>\n",
        "    <tr>\n",
        "      <th>28  </th>\n",
        "      <td>  4.0706</td>\n",
        "      <td> 0.262413</td>\n",
        "      <td> 0935-9648</td>\n",
        "      <td>            ADV MATER</td>\n",
        "      <td>   29</td>\n",
        "    </tr>\n",
        "    <tr>\n",
        "      <th>29  </th>\n",
        "      <td>  1.4742</td>\n",
        "      <td> 0.254252</td>\n",
        "      <td> 0004-6361</td>\n",
        "      <td>     ASTRON ASTROPHYS</td>\n",
        "      <td>   30</td>\n",
        "    </tr>\n",
        "    <tr>\n",
        "      <th>...</th>\n",
        "      <td>...</td>\n",
        "      <td>...</td>\n",
        "      <td>...</td>\n",
        "      <td>...</td>\n",
        "      <td>...</td>\n",
        "    </tr>\n",
        "    <tr>\n",
        "      <th>1220</th>\n",
        "      <td>  0.4879</td>\n",
        "      <td> 0.015875</td>\n",
        "      <td> 0925-2312</td>\n",
        "      <td>       NEUROCOMPUTING</td>\n",
        "      <td> 1221</td>\n",
        "    </tr>\n",
        "    <tr>\n",
        "      <th>1221</th>\n",
        "      <td>  2.6986</td>\n",
        "      <td> 0.015837</td>\n",
        "      <td> 0734-9750</td>\n",
        "      <td>       BIOTECHNOL ADV</td>\n",
        "      <td> 1222</td>\n",
        "    </tr>\n",
        "    <tr>\n",
        "      <th>1222</th>\n",
        "      <td>  0.6601</td>\n",
        "      <td> 0.015836</td>\n",
        "      <td> 0020-1383</td>\n",
        "      <td>               INJURY</td>\n",
        "      <td> 1223</td>\n",
        "    </tr>\n",
        "    <tr>\n",
        "      <th>1223</th>\n",
        "      <td>  0.8928</td>\n",
        "      <td> 0.015801</td>\n",
        "      <td> 0883-2927</td>\n",
        "      <td>         APPL GEOCHEM</td>\n",
        "      <td> 1224</td>\n",
        "    </tr>\n",
        "    <tr>\n",
        "      <th>1224</th>\n",
        "      <td>  3.9486</td>\n",
        "      <td> 0.015787</td>\n",
        "      <td> 1044-5323</td>\n",
        "      <td>        SEMIN IMMUNOL</td>\n",
        "      <td> 1225</td>\n",
        "    </tr>\n",
        "    <tr>\n",
        "      <th>1225</th>\n",
        "      <td>    1.47</td>\n",
        "      <td> 0.015744</td>\n",
        "      <td> 0304-4149</td>\n",
        "      <td>      STOCH PROC APPL</td>\n",
        "      <td> 1226</td>\n",
        "    </tr>\n",
        "    <tr>\n",
        "      <th>1226</th>\n",
        "      <td>  0.8651</td>\n",
        "      <td> 0.015724</td>\n",
        "      <td> 0960-0760</td>\n",
        "      <td>    J STEROID BIOCHEM</td>\n",
        "      <td> 1227</td>\n",
        "    </tr>\n",
        "    <tr>\n",
        "      <th>1227</th>\n",
        "      <td>  0.9203</td>\n",
        "      <td> 0.015697</td>\n",
        "      <td> 1054-1500</td>\n",
        "      <td>                CHAOS</td>\n",
        "      <td> 1228</td>\n",
        "    </tr>\n",
        "    <tr>\n",
        "      <th>1228</th>\n",
        "      <td>  1.7995</td>\n",
        "      <td> 0.015677</td>\n",
        "      <td> 0075-4102</td>\n",
        "      <td>   J REINE ANGEW MATH</td>\n",
        "      <td> 1229</td>\n",
        "    </tr>\n",
        "    <tr>\n",
        "      <th>1229</th>\n",
        "      <td>  0.7712</td>\n",
        "      <td> 0.015671</td>\n",
        "      <td> 0148-639X</td>\n",
        "      <td>         MUSCLE NERVE</td>\n",
        "      <td> 1230</td>\n",
        "    </tr>\n",
        "    <tr>\n",
        "      <th>1230</th>\n",
        "      <td>  2.3423</td>\n",
        "      <td> 0.015637</td>\n",
        "      <td> 1467-7881</td>\n",
        "      <td>             OBES REV</td>\n",
        "      <td> 1231</td>\n",
        "    </tr>\n",
        "    <tr>\n",
        "      <th>1231</th>\n",
        "      <td>  0.4334</td>\n",
        "      <td> 0.015636</td>\n",
        "      <td> 0932-0113</td>\n",
        "      <td>        PARASITOL RES</td>\n",
        "      <td> 1232</td>\n",
        "    </tr>\n",
        "    <tr>\n",
        "      <th>1232</th>\n",
        "      <td>  1.6383</td>\n",
        "      <td> 0.015624</td>\n",
        "      <td> 0899-8256</td>\n",
        "      <td>      GAME ECON BEHAV</td>\n",
        "      <td> 1233</td>\n",
        "    </tr>\n",
        "    <tr>\n",
        "      <th>1233</th>\n",
        "      <td>  1.1631</td>\n",
        "      <td> 0.015614</td>\n",
        "      <td> 0167-2681</td>\n",
        "      <td>   J ECON BEHAV ORGAN</td>\n",
        "      <td> 1234</td>\n",
        "    </tr>\n",
        "    <tr>\n",
        "      <th>1234</th>\n",
        "      <td>  1.7922</td>\n",
        "      <td> 0.015613</td>\n",
        "      <td> 0278-6133</td>\n",
        "      <td>       HEALTH PSYCHOL</td>\n",
        "      <td> 1235</td>\n",
        "    </tr>\n",
        "    <tr>\n",
        "      <th>1235</th>\n",
        "      <td>  0.7228</td>\n",
        "      <td> 0.015602</td>\n",
        "      <td> 0091-3057</td>\n",
        "      <td> PHARMACOL BIOCHEM BE</td>\n",
        "      <td> 1236</td>\n",
        "    </tr>\n",
        "    <tr>\n",
        "      <th>1236</th>\n",
        "      <td>  1.4209</td>\n",
        "      <td> 0.015583</td>\n",
        "      <td> 0889-1591</td>\n",
        "      <td>    BRAIN BEHAV IMMUN</td>\n",
        "      <td> 1237</td>\n",
        "    </tr>\n",
        "    <tr>\n",
        "      <th>1237</th>\n",
        "      <td>  0.7918</td>\n",
        "      <td> 0.015553</td>\n",
        "      <td> 0162-0134</td>\n",
        "      <td>      J INORG BIOCHEM</td>\n",
        "      <td> 1238</td>\n",
        "    </tr>\n",
        "    <tr>\n",
        "      <th>1238</th>\n",
        "      <td>    1.26</td>\n",
        "      <td> 0.015551</td>\n",
        "      <td> 1471-2229</td>\n",
        "      <td>       BMC PLANT BIOL</td>\n",
        "      <td> 1239</td>\n",
        "    </tr>\n",
        "    <tr>\n",
        "      <th>1239</th>\n",
        "      <td>  0.8589</td>\n",
        "      <td> 0.015532</td>\n",
        "      <td> 1069-6563</td>\n",
        "      <td>       ACAD EMERG MED</td>\n",
        "      <td> 1240</td>\n",
        "    </tr>\n",
        "    <tr>\n",
        "      <th>1240</th>\n",
        "      <td>  0.8018</td>\n",
        "      <td> 0.015514</td>\n",
        "      <td> 0090-6964</td>\n",
        "      <td>       ANN BIOMED ENG</td>\n",
        "      <td> 1241</td>\n",
        "    </tr>\n",
        "    <tr>\n",
        "      <th>1241</th>\n",
        "      <td>  0.9531</td>\n",
        "      <td> 0.015505</td>\n",
        "      <td> 0306-5251</td>\n",
        "      <td> BRIT J CLIN PHARMACO</td>\n",
        "      <td> 1242</td>\n",
        "    </tr>\n",
        "    <tr>\n",
        "      <th>1242</th>\n",
        "      <td>  1.1153</td>\n",
        "      <td> 0.015505</td>\n",
        "      <td> 0266-5611</td>\n",
        "      <td>        INVERSE PROBL</td>\n",
        "      <td> 1243</td>\n",
        "    </tr>\n",
        "    <tr>\n",
        "      <th>1243</th>\n",
        "      <td>  0.6266</td>\n",
        "      <td> 0.015503</td>\n",
        "      <td> 0931-041X</td>\n",
        "      <td>      PEDIATR NEPHROL</td>\n",
        "      <td> 1244</td>\n",
        "    </tr>\n",
        "    <tr>\n",
        "      <th>1244</th>\n",
        "      <td>  1.0341</td>\n",
        "      <td> 0.015495</td>\n",
        "      <td> 0027-5107</td>\n",
        "      <td> MUTAT RES-FUND MOL M</td>\n",
        "      <td> 1245</td>\n",
        "    </tr>\n",
        "    <tr>\n",
        "      <th>1245</th>\n",
        "      <td>  2.8898</td>\n",
        "      <td> 0.015476</td>\n",
        "      <td> 1047-7039</td>\n",
        "      <td>            ORGAN SCI</td>\n",
        "      <td> 1246</td>\n",
        "    </tr>\n",
        "    <tr>\n",
        "      <th>1246</th>\n",
        "      <td>  1.3493</td>\n",
        "      <td> 0.015417</td>\n",
        "      <td> 1047-2797</td>\n",
        "      <td>        ANN EPIDEMIOL</td>\n",
        "      <td> 1247</td>\n",
        "    </tr>\n",
        "    <tr>\n",
        "      <th>1247</th>\n",
        "      <td>  0.7597</td>\n",
        "      <td> 0.015409</td>\n",
        "      <td> 0022-4790</td>\n",
        "      <td>         J SURG ONCOL</td>\n",
        "      <td> 1248</td>\n",
        "    </tr>\n",
        "    <tr>\n",
        "      <th>1248</th>\n",
        "      <td>  1.9063</td>\n",
        "      <td> 0.015383</td>\n",
        "      <td> 0079-6611</td>\n",
        "      <td>        PROG OCEANOGR</td>\n",
        "      <td> 1249</td>\n",
        "    </tr>\n",
        "    <tr>\n",
        "      <th>1249</th>\n",
        "      <td>  0.6067</td>\n",
        "      <td> 0.015376</td>\n",
        "      <td> 0928-4931</td>\n",
        "      <td>  MAT SCI ENG C-MATER</td>\n",
        "      <td> 1250</td>\n",
        "    </tr>\n",
        "  </tbody>\n",
        "</table>\n",
        "<p>1250 rows \u00d7 5 columns</p>\n",
        "</div>"
       ],
       "metadata": {},
       "output_type": "pyout",
       "prompt_number": 161,
       "text": [
        "           AI        EF       issn               journal  rank\n",
        "0      20.373   1.65524  0028-0836                NATURE     1\n",
        "1      4.8961   1.60168  0027-8424   P NATL ACAD SCI USA     2\n",
        "2     17.5248   1.41162  0036-8075               SCIENCE     3\n",
        "3      3.5175   1.14457  0031-9007         PHYS REV LETT     4\n",
        "4      2.7989  0.817303  0002-7863         J AM CHEM SOC     5\n",
        "5      1.4281  0.756039  1098-0121            PHYS REV B     6\n",
        "6      2.0307  0.742127  0021-9258           J BIOL CHEM     7\n",
        "7      1.3875  0.675752  0003-6951        APPL PHYS LETT     8\n",
        "8      21.304   0.66383  0028-4793        NEW ENGL J MED     9\n",
        "9      20.554  0.660816  0092-8674                  CELL    10\n",
        "10     3.3776  0.514213  1433-7851   ANGEW CHEM INT EDIT    11\n",
        "11     1.7984  0.501622  1932-6203              PLOS ONE    12\n",
        "12     3.2549  0.449625  0270-6474            J NEUROSCI    13\n",
        "13     1.8047  0.429616  0004-637X           ASTROPHYS J    14\n",
        "14      3.692  0.427942  0006-4971                 BLOOD    15\n",
        "15       5.56  0.394631  0732-183X          J CLIN ONCOL    16\n",
        "16     2.2661  0.369891  0022-1767             J IMMUNOL    17\n",
        "17     3.0995  0.362734  0008-5472            CANCER RES    18\n",
        "18    13.6107  0.360954  0140-6736                LANCET    19\n",
        "19     5.0701  0.345906  1530-6984             NANO LETT    20\n",
        "20     5.9733  0.339278  0009-7322           CIRCULATION    21\n",
        "21     1.4057  0.332456  0148-0227         J GEOPHYS RES    22\n",
        "22    17.5835  0.329901  1061-4036             NAT GENET    23\n",
        "23     3.0072  0.304882  0305-1048     NUCLEIC ACIDS RES    24\n",
        "24     0.8355  0.301562  0021-8979           J APPL PHYS    25\n",
        "25     1.2451  0.300804  1550-7998            PHYS REV D    26\n",
        "26     13.111  0.285664  0098-7484   JAMA-J AM MED ASSOC    27\n",
        "27     1.3421  0.284716  1932-7447         J PHYS CHEM C    28\n",
        "28     4.0706  0.262413  0935-9648             ADV MATER    29\n",
        "29     1.4742  0.254252  0004-6361      ASTRON ASTROPHYS    30\n",
        "...       ...       ...        ...                   ...   ...\n",
        "1220   0.4879  0.015875  0925-2312        NEUROCOMPUTING  1221\n",
        "1221   2.6986  0.015837  0734-9750        BIOTECHNOL ADV  1222\n",
        "1222   0.6601  0.015836  0020-1383                INJURY  1223\n",
        "1223   0.8928  0.015801  0883-2927          APPL GEOCHEM  1224\n",
        "1224   3.9486  0.015787  1044-5323         SEMIN IMMUNOL  1225\n",
        "1225     1.47  0.015744  0304-4149       STOCH PROC APPL  1226\n",
        "1226   0.8651  0.015724  0960-0760     J STEROID BIOCHEM  1227\n",
        "1227   0.9203  0.015697  1054-1500                 CHAOS  1228\n",
        "1228   1.7995  0.015677  0075-4102    J REINE ANGEW MATH  1229\n",
        "1229   0.7712  0.015671  0148-639X          MUSCLE NERVE  1230\n",
        "1230   2.3423  0.015637  1467-7881              OBES REV  1231\n",
        "1231   0.4334  0.015636  0932-0113         PARASITOL RES  1232\n",
        "1232   1.6383  0.015624  0899-8256       GAME ECON BEHAV  1233\n",
        "1233   1.1631  0.015614  0167-2681    J ECON BEHAV ORGAN  1234\n",
        "1234   1.7922  0.015613  0278-6133        HEALTH PSYCHOL  1235\n",
        "1235   0.7228  0.015602  0091-3057  PHARMACOL BIOCHEM BE  1236\n",
        "1236   1.4209  0.015583  0889-1591     BRAIN BEHAV IMMUN  1237\n",
        "1237   0.7918  0.015553  0162-0134       J INORG BIOCHEM  1238\n",
        "1238     1.26  0.015551  1471-2229        BMC PLANT BIOL  1239\n",
        "1239   0.8589  0.015532  1069-6563        ACAD EMERG MED  1240\n",
        "1240   0.8018  0.015514  0090-6964        ANN BIOMED ENG  1241\n",
        "1241   0.9531  0.015505  0306-5251  BRIT J CLIN PHARMACO  1242\n",
        "1242   1.1153  0.015505  0266-5611         INVERSE PROBL  1243\n",
        "1243   0.6266  0.015503  0931-041X       PEDIATR NEPHROL  1244\n",
        "1244   1.0341  0.015495  0027-5107  MUTAT RES-FUND MOL M  1245\n",
        "1245   2.8898  0.015476  1047-7039             ORGAN SCI  1246\n",
        "1246   1.3493  0.015417  1047-2797         ANN EPIDEMIOL  1247\n",
        "1247   0.7597  0.015409  0022-4790          J SURG ONCOL  1248\n",
        "1248   1.9063  0.015383  0079-6611         PROG OCEANOGR  1249\n",
        "1249   0.6067  0.015376  0928-4931   MAT SCI ENG C-MATER  1250\n",
        "\n",
        "[1250 rows x 5 columns]"
       ]
      }
     ],
     "prompt_number": 161
    },
    {
     "cell_type": "code",
     "collapsed": false,
     "input": [
      "# eigenfactorsDF.to_csv(\"/vagrant/cs109_firstOrPerish/data_munging/eigenfactor.csv\")"
     ],
     "language": "python",
     "metadata": {},
     "outputs": [],
     "prompt_number": 113
    },
    {
     "cell_type": "code",
     "collapsed": false,
     "input": [
      "import json\n",
      "def jsonLoads(jsonString):\n",
      "    '''\n",
      "    # helper function to convert unicode to str\n",
      "    # used to decode SOAP reply\n",
      "    # http://stackoverflow.com/questions/956867/how-to-get-string-objects-instead-of-unicode-ones-from-json-in-python\n",
      "\n",
      "    replace:\n",
      "        json.loads(result.PE_executeResponse.Response, object_hook=decode_dict)\n",
      "    with:\n",
      "        jsonLoads(result.PE_executeResponse.Response)\n",
      "    '''\n",
      "    def _decode_list(data):\n",
      "        rv = []\n",
      "        for item in data:\n",
      "            if isinstance(item, unicode):\n",
      "                item = item.encode('utf-8')\n",
      "            elif isinstance(item, list):\n",
      "                item = _decode_list(item)\n",
      "            elif isinstance(item, dict):\n",
      "                item = _decode_dict(item)\n",
      "            rv.append(item)\n",
      "        return rv\n",
      "\n",
      "    def _decode_dict(data):\n",
      "        rv = {}\n",
      "        for key, value in data.iteritems():\n",
      "            if isinstance(key, unicode):\n",
      "                key = key.encode('utf-8')\n",
      "            if isinstance(value, unicode):\n",
      "                value = value.encode('utf-8')\n",
      "            elif isinstance(value, list):\n",
      "                value = _decode_list(value)\n",
      "            elif isinstance(value, dict):\n",
      "                value = _decode_dict(value)\n",
      "            rv[key] = value\n",
      "        return rv\n",
      "    return json.loads(jsonString, object_hook=_decode_dict)"
     ],
     "language": "python",
     "metadata": {},
     "outputs": [],
     "prompt_number": 120
    },
    {
     "cell_type": "code",
     "collapsed": false,
     "input": [
      "f = open(\"/vagrant/cs109_firstOrPerish/data_munging/outfiles/medline14n0682.txt\", 'r')\n",
      "data = f.readlines()\n",
      "f.close()"
     ],
     "language": "python",
     "metadata": {},
     "outputs": [],
     "prompt_number": 121
    },
    {
     "cell_type": "code",
     "collapsed": false,
     "input": [
      "x = jsonLoads(data[0])"
     ],
     "language": "python",
     "metadata": {},
     "outputs": [],
     "prompt_number": 123
    },
    {
     "cell_type": "code",
     "collapsed": false,
     "input": [
      "x['journal']"
     ],
     "language": "python",
     "metadata": {},
     "outputs": [
      {
       "metadata": {},
       "output_type": "pyout",
       "prompt_number": 125,
       "text": [
        "{'country': 'United States',\n",
        " 'issnlinking': '0099-2240',\n",
        " 'medlineta': 'Appl Environ Microbiol',\n",
        " 'nlmuniqueid': '7605801'}"
       ]
      }
     ],
     "prompt_number": 125
    },
    {
     "cell_type": "code",
     "collapsed": false,
     "input": [
      "import os\n",
      "# source: http://stackoverflow.com/questions/9816816/relative-and-absolute-paths-of-all-files\n",
      "\n",
      "def absoluteFilePaths(directory):\n",
      "   for dirpath,_,filenames in os.walk(directory):\n",
      "       for f in filenames:\n",
      "           yield os.path.abspath(os.path.join(dirpath, f))\n"
     ],
     "language": "python",
     "metadata": {},
     "outputs": [],
     "prompt_number": 134
    },
    {
     "cell_type": "code",
     "collapsed": false,
     "input": [
      "list(absoluteFilePaths('/vagrant/cs109_firstOrPerish/data_munging/outfiles'))"
     ],
     "language": "python",
     "metadata": {},
     "outputs": [
      {
       "metadata": {},
       "output_type": "pyout",
       "prompt_number": 137,
       "text": [
        "['/vagrant/cs109_firstOrPerish/data_munging/outfiles/medline14n0682.txt']"
       ]
      }
     ],
     "prompt_number": 137
    },
    {
     "cell_type": "code",
     "collapsed": false,
     "input": [
      "def getIssnDict(infile):\n",
      "    f = open(infile, 'r')\n",
      "    data = f.readlines()\n",
      "    f.close()\n",
      "\n",
      "    answer = {}\n",
      "    for d in data:\n",
      "        try:\n",
      "            k = jsonLoads(d)['journal']\n",
      "            answer[ k['issnlinking'] ]  = k['nlmuniqueid']\n",
      "        except:\n",
      "            pass\n",
      "    return answer\n",
      "\n",
      "\n",
      "\n",
      "    \n"
     ],
     "language": "python",
     "metadata": {},
     "outputs": [],
     "prompt_number": 140
    },
    {
     "cell_type": "code",
     "collapsed": false,
     "input": [
      "answer = {}\n",
      "indirectory = '/vagrant/cs109_firstOrPerish/data_munging/outfile_version2/'\n",
      "for infile in absoluteFilePaths(indirectory):\n",
      "    print \"updating with: \", infile[len(indirectory)+1:]\n",
      "    answer.update(getIssnDict(infile))\n",
      "issnDict = answer"
     ],
     "language": "python",
     "metadata": {},
     "outputs": [
      {
       "output_type": "stream",
       "stream": "stdout",
       "text": [
        "updating with:  edline14n0672.txt\n",
        "updating with: "
       ]
      },
      {
       "output_type": "stream",
       "stream": "stdout",
       "text": [
        " edline14n0673.txt\n",
        "updating with: "
       ]
      },
      {
       "output_type": "stream",
       "stream": "stdout",
       "text": [
        " edline14n0674.txt\n",
        "updating with: "
       ]
      },
      {
       "output_type": "stream",
       "stream": "stdout",
       "text": [
        " edline14n0675.txt\n",
        "updating with: "
       ]
      },
      {
       "output_type": "stream",
       "stream": "stdout",
       "text": [
        " edline14n0676.txt\n",
        "updating with: "
       ]
      },
      {
       "output_type": "stream",
       "stream": "stdout",
       "text": [
        " edline14n0677.txt\n",
        "updating with: "
       ]
      },
      {
       "output_type": "stream",
       "stream": "stdout",
       "text": [
        " edline14n0678.txt\n",
        "updating with: "
       ]
      },
      {
       "output_type": "stream",
       "stream": "stdout",
       "text": [
        " edline14n0679.txt\n",
        "updating with: "
       ]
      },
      {
       "output_type": "stream",
       "stream": "stdout",
       "text": [
        " edline14n0680.txt\n",
        "updating with: "
       ]
      },
      {
       "output_type": "stream",
       "stream": "stdout",
       "text": [
        " edline14n0681.txt\n",
        "updating with: "
       ]
      },
      {
       "output_type": "stream",
       "stream": "stdout",
       "text": [
        " edline14n0682.txt\n",
        "updating with: "
       ]
      },
      {
       "output_type": "stream",
       "stream": "stdout",
       "text": [
        " edline14n0683.txt\n",
        "updating with: "
       ]
      },
      {
       "output_type": "stream",
       "stream": "stdout",
       "text": [
        " edline14n0684.txt\n",
        "updating with: "
       ]
      },
      {
       "output_type": "stream",
       "stream": "stdout",
       "text": [
        " edline14n0685.txt\n",
        "updating with: "
       ]
      },
      {
       "output_type": "stream",
       "stream": "stdout",
       "text": [
        " edline14n0686.txt\n",
        "updating with: "
       ]
      },
      {
       "output_type": "stream",
       "stream": "stdout",
       "text": [
        " edline14n0687.txt\n",
        "updating with: "
       ]
      },
      {
       "output_type": "stream",
       "stream": "stdout",
       "text": [
        " edline14n0688.txt\n",
        "updating with: "
       ]
      },
      {
       "output_type": "stream",
       "stream": "stdout",
       "text": [
        " edline14n0689.txt\n",
        "updating with: "
       ]
      },
      {
       "output_type": "stream",
       "stream": "stdout",
       "text": [
        " edline14n0690.txt\n",
        "updating with: "
       ]
      },
      {
       "output_type": "stream",
       "stream": "stdout",
       "text": [
        " edline14n0691.txt\n",
        "updating with: "
       ]
      },
      {
       "output_type": "stream",
       "stream": "stdout",
       "text": [
        " edline14n0692.txt\n",
        "updating with: "
       ]
      },
      {
       "output_type": "stream",
       "stream": "stdout",
       "text": [
        " edline14n0693.txt\n",
        "updating with: "
       ]
      },
      {
       "output_type": "stream",
       "stream": "stdout",
       "text": [
        " edline14n0694.txt\n",
        "updating with: "
       ]
      },
      {
       "output_type": "stream",
       "stream": "stdout",
       "text": [
        " edline14n0695.txt\n",
        "updating with: "
       ]
      },
      {
       "output_type": "stream",
       "stream": "stdout",
       "text": [
        " edline14n0696.txt\n",
        "updating with: "
       ]
      },
      {
       "output_type": "stream",
       "stream": "stdout",
       "text": [
        " edline14n0697.txt\n",
        "updating with: "
       ]
      },
      {
       "output_type": "stream",
       "stream": "stdout",
       "text": [
        " edline14n0698.txt\n",
        "updating with: "
       ]
      },
      {
       "output_type": "stream",
       "stream": "stdout",
       "text": [
        " edline14n0699.txt\n",
        "updating with: "
       ]
      },
      {
       "output_type": "stream",
       "stream": "stdout",
       "text": [
        " edline14n0700.txt\n",
        "updating with: "
       ]
      },
      {
       "output_type": "stream",
       "stream": "stdout",
       "text": [
        " edline14n0701.txt\n",
        "updating with: "
       ]
      },
      {
       "output_type": "stream",
       "stream": "stdout",
       "text": [
        " edline14n0702.txt\n",
        "updating with: "
       ]
      },
      {
       "output_type": "stream",
       "stream": "stdout",
       "text": [
        " edline14n0703.txt\n",
        "updating with: "
       ]
      },
      {
       "output_type": "stream",
       "stream": "stdout",
       "text": [
        " edline14n0704.txt\n",
        "updating with: "
       ]
      },
      {
       "output_type": "stream",
       "stream": "stdout",
       "text": [
        " edline14n0705.txt\n",
        "updating with: "
       ]
      },
      {
       "output_type": "stream",
       "stream": "stdout",
       "text": [
        " edline14n0706.txt\n",
        "updating with: "
       ]
      },
      {
       "output_type": "stream",
       "stream": "stdout",
       "text": [
        " edline14n0707.txt\n",
        "updating with: "
       ]
      },
      {
       "output_type": "stream",
       "stream": "stdout",
       "text": [
        " edline14n0708.txt\n",
        "updating with: "
       ]
      },
      {
       "output_type": "stream",
       "stream": "stdout",
       "text": [
        " edline14n0709.txt\n",
        "updating with: "
       ]
      },
      {
       "output_type": "stream",
       "stream": "stdout",
       "text": [
        " edline14n0710.txt\n",
        "updating with: "
       ]
      },
      {
       "output_type": "stream",
       "stream": "stdout",
       "text": [
        " edline14n0711.txt\n",
        "updating with: "
       ]
      },
      {
       "output_type": "stream",
       "stream": "stdout",
       "text": [
        " edline14n0712.txt\n",
        "updating with: "
       ]
      },
      {
       "output_type": "stream",
       "stream": "stdout",
       "text": [
        " edline14n0713.txt\n",
        "updating with: "
       ]
      },
      {
       "output_type": "stream",
       "stream": "stdout",
       "text": [
        " edline14n0714.txt\n",
        "updating with: "
       ]
      },
      {
       "output_type": "stream",
       "stream": "stdout",
       "text": [
        " edline14n0715.txt\n",
        "updating with: "
       ]
      },
      {
       "output_type": "stream",
       "stream": "stdout",
       "text": [
        " edline14n0716.txt\n",
        "updating with: "
       ]
      },
      {
       "output_type": "stream",
       "stream": "stdout",
       "text": [
        " edline14n0717.txt\n",
        "updating with: "
       ]
      },
      {
       "output_type": "stream",
       "stream": "stdout",
       "text": [
        " edline14n0718.txt\n",
        "updating with: "
       ]
      },
      {
       "output_type": "stream",
       "stream": "stdout",
       "text": [
        " edline14n0719.txt\n",
        "updating with: "
       ]
      },
      {
       "output_type": "stream",
       "stream": "stdout",
       "text": [
        " edline14n0720.txt\n",
        "updating with: "
       ]
      },
      {
       "output_type": "stream",
       "stream": "stdout",
       "text": [
        " edline14n0721.txt\n",
        "updating with: "
       ]
      },
      {
       "output_type": "stream",
       "stream": "stdout",
       "text": [
        " edline14n0722.txt\n",
        "updating with: "
       ]
      },
      {
       "output_type": "stream",
       "stream": "stdout",
       "text": [
        " edline14n0723.txt\n",
        "updating with: "
       ]
      },
      {
       "output_type": "stream",
       "stream": "stdout",
       "text": [
        " edline14n0724.txt\n",
        "updating with: "
       ]
      },
      {
       "output_type": "stream",
       "stream": "stdout",
       "text": [
        " edline14n0725.txt\n",
        "updating with: "
       ]
      },
      {
       "output_type": "stream",
       "stream": "stdout",
       "text": [
        " edline14n0726.txt\n",
        "updating with: "
       ]
      },
      {
       "output_type": "stream",
       "stream": "stdout",
       "text": [
        " edline14n0727.txt\n",
        "updating with: "
       ]
      },
      {
       "output_type": "stream",
       "stream": "stdout",
       "text": [
        " edline14n0728.txt\n",
        "updating with: "
       ]
      },
      {
       "output_type": "stream",
       "stream": "stdout",
       "text": [
        " edline14n0729.txt\n",
        "updating with: "
       ]
      },
      {
       "output_type": "stream",
       "stream": "stdout",
       "text": [
        " edline14n0730.txt\n",
        "updating with: "
       ]
      },
      {
       "output_type": "stream",
       "stream": "stdout",
       "text": [
        " edline14n0731.txt\n",
        "updating with: "
       ]
      },
      {
       "output_type": "stream",
       "stream": "stdout",
       "text": [
        " edline14n0732.txt\n",
        "updating with: "
       ]
      },
      {
       "output_type": "stream",
       "stream": "stdout",
       "text": [
        " edline14n0733.txt\n",
        "updating with: "
       ]
      },
      {
       "output_type": "stream",
       "stream": "stdout",
       "text": [
        " edline14n0734.txt\n",
        "updating with: "
       ]
      },
      {
       "output_type": "stream",
       "stream": "stdout",
       "text": [
        " edline14n0735.txt\n",
        "updating with: "
       ]
      },
      {
       "output_type": "stream",
       "stream": "stdout",
       "text": [
        " edline14n0736.txt\n",
        "updating with: "
       ]
      },
      {
       "output_type": "stream",
       "stream": "stdout",
       "text": [
        " edline14n0737.txt\n",
        "updating with: "
       ]
      },
      {
       "output_type": "stream",
       "stream": "stdout",
       "text": [
        " edline14n0738.txt\n",
        "updating with: "
       ]
      },
      {
       "output_type": "stream",
       "stream": "stdout",
       "text": [
        " edline14n0739.txt\n",
        "updating with: "
       ]
      },
      {
       "output_type": "stream",
       "stream": "stdout",
       "text": [
        " edline14n0740.txt\n",
        "updating with: "
       ]
      },
      {
       "output_type": "stream",
       "stream": "stdout",
       "text": [
        " edline14n0741.txt\n",
        "updating with: "
       ]
      },
      {
       "output_type": "stream",
       "stream": "stdout",
       "text": [
        " edline14n0742.txt\n",
        "updating with: "
       ]
      },
      {
       "output_type": "stream",
       "stream": "stdout",
       "text": [
        " edline14n0743.txt\n",
        "updating with: "
       ]
      },
      {
       "output_type": "stream",
       "stream": "stdout",
       "text": [
        " edline14n0744.txt\n",
        "updating with: "
       ]
      },
      {
       "output_type": "stream",
       "stream": "stdout",
       "text": [
        " edline14n0745.txt\n",
        "updating with: "
       ]
      },
      {
       "output_type": "stream",
       "stream": "stdout",
       "text": [
        " edline14n0746.txt\n",
        "updating with: "
       ]
      },
      {
       "output_type": "stream",
       "stream": "stdout",
       "text": [
        " edline14n0560.txt\n",
        "updating with: "
       ]
      },
      {
       "output_type": "stream",
       "stream": "stdout",
       "text": [
        " edline14n0561.txt\n",
        "updating with: "
       ]
      },
      {
       "output_type": "stream",
       "stream": "stdout",
       "text": [
        " edline14n0562.txt\n",
        "updating with: "
       ]
      },
      {
       "output_type": "stream",
       "stream": "stdout",
       "text": [
        " edline14n0563.txt\n",
        "updating with: "
       ]
      },
      {
       "output_type": "stream",
       "stream": "stdout",
       "text": [
        " edline14n0564.txt\n",
        "updating with: "
       ]
      },
      {
       "output_type": "stream",
       "stream": "stdout",
       "text": [
        " edline14n0565.txt\n",
        "updating with: "
       ]
      },
      {
       "output_type": "stream",
       "stream": "stdout",
       "text": [
        " edline14n0566.txt\n",
        "updating with: "
       ]
      },
      {
       "output_type": "stream",
       "stream": "stdout",
       "text": [
        " edline14n0567.txt\n",
        "updating with: "
       ]
      },
      {
       "output_type": "stream",
       "stream": "stdout",
       "text": [
        " edline14n0568.txt\n",
        "updating with: "
       ]
      },
      {
       "output_type": "stream",
       "stream": "stdout",
       "text": [
        " edline14n0569.txt\n",
        "updating with: "
       ]
      },
      {
       "output_type": "stream",
       "stream": "stdout",
       "text": [
        " edline14n0570.txt\n",
        "updating with: "
       ]
      },
      {
       "output_type": "stream",
       "stream": "stdout",
       "text": [
        " edline14n0571.txt\n",
        "updating with: "
       ]
      },
      {
       "output_type": "stream",
       "stream": "stdout",
       "text": [
        " edline14n0572.txt\n",
        "updating with: "
       ]
      },
      {
       "output_type": "stream",
       "stream": "stdout",
       "text": [
        " edline14n0573.txt\n",
        "updating with: "
       ]
      },
      {
       "output_type": "stream",
       "stream": "stdout",
       "text": [
        " edline14n0574.txt\n",
        "updating with: "
       ]
      },
      {
       "output_type": "stream",
       "stream": "stdout",
       "text": [
        " edline14n0575.txt\n",
        "updating with: "
       ]
      },
      {
       "output_type": "stream",
       "stream": "stdout",
       "text": [
        " edline14n0576.txt\n",
        "updating with: "
       ]
      },
      {
       "output_type": "stream",
       "stream": "stdout",
       "text": [
        " edline14n0577.txt\n",
        "updating with: "
       ]
      },
      {
       "output_type": "stream",
       "stream": "stdout",
       "text": [
        " edline14n0578.txt\n",
        "updating with: "
       ]
      },
      {
       "output_type": "stream",
       "stream": "stdout",
       "text": [
        " edline14n0579.txt\n",
        "updating with: "
       ]
      },
      {
       "output_type": "stream",
       "stream": "stdout",
       "text": [
        " edline14n0580.txt\n",
        "updating with: "
       ]
      },
      {
       "output_type": "stream",
       "stream": "stdout",
       "text": [
        " edline14n0581.txt\n",
        "updating with: "
       ]
      },
      {
       "output_type": "stream",
       "stream": "stdout",
       "text": [
        " edline14n0582.txt\n",
        "updating with: "
       ]
      },
      {
       "output_type": "stream",
       "stream": "stdout",
       "text": [
        " edline14n0583.txt\n",
        "updating with: "
       ]
      },
      {
       "output_type": "stream",
       "stream": "stdout",
       "text": [
        " edline14n0584.txt\n",
        "updating with: "
       ]
      },
      {
       "output_type": "stream",
       "stream": "stdout",
       "text": [
        " edline14n0585.txt\n",
        "updating with: "
       ]
      },
      {
       "output_type": "stream",
       "stream": "stdout",
       "text": [
        " edline14n0586.txt\n",
        "updating with: "
       ]
      },
      {
       "output_type": "stream",
       "stream": "stdout",
       "text": [
        " edline14n0587.txt\n",
        "updating with: "
       ]
      },
      {
       "output_type": "stream",
       "stream": "stdout",
       "text": [
        " edline14n0588.txt\n",
        "updating with: "
       ]
      },
      {
       "output_type": "stream",
       "stream": "stdout",
       "text": [
        " edline14n0589.txt\n",
        "updating with: "
       ]
      },
      {
       "output_type": "stream",
       "stream": "stdout",
       "text": [
        " edline14n0590.txt\n",
        "updating with: "
       ]
      },
      {
       "output_type": "stream",
       "stream": "stdout",
       "text": [
        " edline14n0591.txt\n",
        "updating with: "
       ]
      },
      {
       "output_type": "stream",
       "stream": "stdout",
       "text": [
        " edline14n0592.txt\n",
        "updating with: "
       ]
      },
      {
       "output_type": "stream",
       "stream": "stdout",
       "text": [
        " edline14n0593.txt\n",
        "updating with: "
       ]
      },
      {
       "output_type": "stream",
       "stream": "stdout",
       "text": [
        " edline14n0594.txt\n",
        "updating with: "
       ]
      },
      {
       "output_type": "stream",
       "stream": "stdout",
       "text": [
        " edline14n0595.txt\n",
        "updating with: "
       ]
      },
      {
       "output_type": "stream",
       "stream": "stdout",
       "text": [
        " edline14n0596.txt\n",
        "updating with: "
       ]
      },
      {
       "output_type": "stream",
       "stream": "stdout",
       "text": [
        " edline14n0597.txt\n",
        "updating with: "
       ]
      },
      {
       "output_type": "stream",
       "stream": "stdout",
       "text": [
        " edline14n0598.txt\n",
        "updating with: "
       ]
      },
      {
       "output_type": "stream",
       "stream": "stdout",
       "text": [
        " edline14n0599.txt\n",
        "updating with: "
       ]
      },
      {
       "output_type": "stream",
       "stream": "stdout",
       "text": [
        " edline14n0600.txt\n",
        "updating with: "
       ]
      },
      {
       "output_type": "stream",
       "stream": "stdout",
       "text": [
        " edline14n0601.txt\n",
        "updating with: "
       ]
      },
      {
       "output_type": "stream",
       "stream": "stdout",
       "text": [
        " edline14n0602.txt\n",
        "updating with: "
       ]
      },
      {
       "output_type": "stream",
       "stream": "stdout",
       "text": [
        " edline14n0603.txt\n",
        "updating with: "
       ]
      },
      {
       "output_type": "stream",
       "stream": "stdout",
       "text": [
        " edline14n0604.txt\n",
        "updating with: "
       ]
      },
      {
       "output_type": "stream",
       "stream": "stdout",
       "text": [
        " edline14n0605.txt\n",
        "updating with: "
       ]
      },
      {
       "output_type": "stream",
       "stream": "stdout",
       "text": [
        " edline14n0606.txt\n",
        "updating with: "
       ]
      },
      {
       "output_type": "stream",
       "stream": "stdout",
       "text": [
        " edline14n0607.txt\n",
        "updating with: "
       ]
      },
      {
       "output_type": "stream",
       "stream": "stdout",
       "text": [
        " edline14n0608.txt\n",
        "updating with: "
       ]
      },
      {
       "output_type": "stream",
       "stream": "stdout",
       "text": [
        " edline14n0609.txt\n",
        "updating with: "
       ]
      },
      {
       "output_type": "stream",
       "stream": "stdout",
       "text": [
        " edline14n0610.txt\n",
        "updating with: "
       ]
      },
      {
       "output_type": "stream",
       "stream": "stdout",
       "text": [
        " edline14n0611.txt\n",
        "updating with: "
       ]
      },
      {
       "output_type": "stream",
       "stream": "stdout",
       "text": [
        " edline14n0612.txt\n",
        "updating with: "
       ]
      },
      {
       "output_type": "stream",
       "stream": "stdout",
       "text": [
        " edline14n0613.txt\n",
        "updating with: "
       ]
      },
      {
       "output_type": "stream",
       "stream": "stdout",
       "text": [
        " edline14n0614.txt\n",
        "updating with: "
       ]
      },
      {
       "output_type": "stream",
       "stream": "stdout",
       "text": [
        " edline14n0615.txt\n",
        "updating with: "
       ]
      },
      {
       "output_type": "stream",
       "stream": "stdout",
       "text": [
        " edline14n0616.txt\n",
        "updating with: "
       ]
      },
      {
       "output_type": "stream",
       "stream": "stdout",
       "text": [
        " edline14n0617.txt\n",
        "updating with: "
       ]
      },
      {
       "output_type": "stream",
       "stream": "stdout",
       "text": [
        " edline14n0618.txt\n",
        "updating with: "
       ]
      },
      {
       "output_type": "stream",
       "stream": "stdout",
       "text": [
        " edline14n0619.txt\n",
        "updating with: "
       ]
      },
      {
       "output_type": "stream",
       "stream": "stdout",
       "text": [
        " edline14n0620.txt\n",
        "updating with: "
       ]
      },
      {
       "output_type": "stream",
       "stream": "stdout",
       "text": [
        " edline14n0621.txt\n",
        "updating with: "
       ]
      },
      {
       "output_type": "stream",
       "stream": "stdout",
       "text": [
        " edline14n0622.txt\n",
        "updating with: "
       ]
      },
      {
       "output_type": "stream",
       "stream": "stdout",
       "text": [
        " edline14n0623.txt\n",
        "updating with: "
       ]
      },
      {
       "output_type": "stream",
       "stream": "stdout",
       "text": [
        " edline14n0624.txt\n",
        "updating with: "
       ]
      },
      {
       "output_type": "stream",
       "stream": "stdout",
       "text": [
        " edline14n0625.txt\n",
        "updating with: "
       ]
      },
      {
       "output_type": "stream",
       "stream": "stdout",
       "text": [
        " edline14n0626.txt\n",
        "updating with: "
       ]
      },
      {
       "output_type": "stream",
       "stream": "stdout",
       "text": [
        " edline14n0627.txt\n",
        "updating with: "
       ]
      },
      {
       "output_type": "stream",
       "stream": "stdout",
       "text": [
        " edline14n0628.txt\n",
        "updating with: "
       ]
      },
      {
       "output_type": "stream",
       "stream": "stdout",
       "text": [
        " edline14n0629.txt\n",
        "updating with: "
       ]
      },
      {
       "output_type": "stream",
       "stream": "stdout",
       "text": [
        " edline14n0630.txt\n",
        "updating with: "
       ]
      },
      {
       "output_type": "stream",
       "stream": "stdout",
       "text": [
        " edline14n0631.txt\n",
        "updating with: "
       ]
      },
      {
       "output_type": "stream",
       "stream": "stdout",
       "text": [
        " edline14n0632.txt\n",
        "updating with: "
       ]
      },
      {
       "output_type": "stream",
       "stream": "stdout",
       "text": [
        " edline14n0633.txt\n",
        "updating with: "
       ]
      },
      {
       "output_type": "stream",
       "stream": "stdout",
       "text": [
        " edline14n0634.txt\n",
        "updating with: "
       ]
      },
      {
       "output_type": "stream",
       "stream": "stdout",
       "text": [
        " edline14n0635.txt\n",
        "updating with: "
       ]
      },
      {
       "output_type": "stream",
       "stream": "stdout",
       "text": [
        " edline14n0636.txt\n",
        "updating with: "
       ]
      },
      {
       "output_type": "stream",
       "stream": "stdout",
       "text": [
        " edline14n0637.txt\n",
        "updating with: "
       ]
      },
      {
       "output_type": "stream",
       "stream": "stdout",
       "text": [
        " edline14n0638.txt\n",
        "updating with: "
       ]
      },
      {
       "output_type": "stream",
       "stream": "stdout",
       "text": [
        " edline14n0639.txt\n",
        "updating with: "
       ]
      },
      {
       "output_type": "stream",
       "stream": "stdout",
       "text": [
        " edline14n0640.txt\n",
        "updating with: "
       ]
      },
      {
       "output_type": "stream",
       "stream": "stdout",
       "text": [
        " edline14n0641.txt\n",
        "updating with: "
       ]
      },
      {
       "output_type": "stream",
       "stream": "stdout",
       "text": [
        " edline14n0642.txt\n",
        "updating with: "
       ]
      },
      {
       "output_type": "stream",
       "stream": "stdout",
       "text": [
        " edline14n0643.txt\n",
        "updating with: "
       ]
      },
      {
       "output_type": "stream",
       "stream": "stdout",
       "text": [
        " edline14n0644.txt\n",
        "updating with: "
       ]
      },
      {
       "output_type": "stream",
       "stream": "stdout",
       "text": [
        " edline14n0645.txt\n",
        "updating with: "
       ]
      },
      {
       "output_type": "stream",
       "stream": "stdout",
       "text": [
        " edline14n0646.txt\n",
        "updating with: "
       ]
      },
      {
       "output_type": "stream",
       "stream": "stdout",
       "text": [
        " edline14n0647.txt\n",
        "updating with: "
       ]
      },
      {
       "output_type": "stream",
       "stream": "stdout",
       "text": [
        " edline14n0648.txt\n",
        "updating with: "
       ]
      },
      {
       "output_type": "stream",
       "stream": "stdout",
       "text": [
        " edline14n0649.txt\n",
        "updating with: "
       ]
      },
      {
       "output_type": "stream",
       "stream": "stdout",
       "text": [
        " edline14n0650.txt\n",
        "updating with: "
       ]
      },
      {
       "output_type": "stream",
       "stream": "stdout",
       "text": [
        " edline14n0651.txt\n",
        "updating with: "
       ]
      },
      {
       "output_type": "stream",
       "stream": "stdout",
       "text": [
        " edline14n0652.txt\n",
        "updating with: "
       ]
      },
      {
       "output_type": "stream",
       "stream": "stdout",
       "text": [
        " edline14n0653.txt\n",
        "updating with: "
       ]
      },
      {
       "output_type": "stream",
       "stream": "stdout",
       "text": [
        " edline14n0654.txt\n",
        "updating with: "
       ]
      },
      {
       "output_type": "stream",
       "stream": "stdout",
       "text": [
        " edline14n0655.txt\n",
        "updating with: "
       ]
      },
      {
       "output_type": "stream",
       "stream": "stdout",
       "text": [
        " edline14n0656.txt\n",
        "updating with: "
       ]
      },
      {
       "output_type": "stream",
       "stream": "stdout",
       "text": [
        " edline14n0657.txt\n",
        "updating with: "
       ]
      },
      {
       "output_type": "stream",
       "stream": "stdout",
       "text": [
        " edline14n0658.txt\n",
        "updating with: "
       ]
      },
      {
       "output_type": "stream",
       "stream": "stdout",
       "text": [
        " edline14n0659.txt\n",
        "updating with: "
       ]
      },
      {
       "output_type": "stream",
       "stream": "stdout",
       "text": [
        " edline14n0660.txt\n",
        "updating with: "
       ]
      },
      {
       "output_type": "stream",
       "stream": "stdout",
       "text": [
        " edline14n0661.txt\n",
        "updating with: "
       ]
      },
      {
       "output_type": "stream",
       "stream": "stdout",
       "text": [
        " edline14n0662.txt\n",
        "updating with: "
       ]
      },
      {
       "output_type": "stream",
       "stream": "stdout",
       "text": [
        " edline14n0663.txt\n",
        "updating with: "
       ]
      },
      {
       "output_type": "stream",
       "stream": "stdout",
       "text": [
        " edline14n0664.txt\n",
        "updating with: "
       ]
      },
      {
       "output_type": "stream",
       "stream": "stdout",
       "text": [
        " edline14n0665.txt\n",
        "updating with: "
       ]
      },
      {
       "output_type": "stream",
       "stream": "stdout",
       "text": [
        " edline14n0666.txt\n",
        "updating with: "
       ]
      },
      {
       "output_type": "stream",
       "stream": "stdout",
       "text": [
        " edline14n0667.txt\n",
        "updating with: "
       ]
      },
      {
       "output_type": "stream",
       "stream": "stdout",
       "text": [
        " edline14n0668.txt\n",
        "updating with: "
       ]
      },
      {
       "output_type": "stream",
       "stream": "stdout",
       "text": [
        " edline14n0669.txt\n",
        "updating with: "
       ]
      },
      {
       "output_type": "stream",
       "stream": "stdout",
       "text": [
        " edline14n0670.txt\n",
        "updating with: "
       ]
      },
      {
       "output_type": "stream",
       "stream": "stdout",
       "text": [
        " edline14n0671.txt\n",
        "updating with: "
       ]
      },
      {
       "output_type": "stream",
       "stream": "stdout",
       "text": [
        " edline14n0448.txt\n",
        "updating with: "
       ]
      },
      {
       "output_type": "stream",
       "stream": "stdout",
       "text": [
        " edline14n0449.txt\n",
        "updating with: "
       ]
      },
      {
       "output_type": "stream",
       "stream": "stdout",
       "text": [
        " edline14n0450.txt\n",
        "updating with: "
       ]
      },
      {
       "output_type": "stream",
       "stream": "stdout",
       "text": [
        " edline14n0451.txt\n",
        "updating with: "
       ]
      },
      {
       "output_type": "stream",
       "stream": "stdout",
       "text": [
        " edline14n0452.txt\n",
        "updating with: "
       ]
      },
      {
       "output_type": "stream",
       "stream": "stdout",
       "text": [
        " edline14n0453.txt\n",
        "updating with: "
       ]
      },
      {
       "output_type": "stream",
       "stream": "stdout",
       "text": [
        " edline14n0454.txt\n",
        "updating with: "
       ]
      },
      {
       "output_type": "stream",
       "stream": "stdout",
       "text": [
        " edline14n0455.txt\n",
        "updating with: "
       ]
      },
      {
       "output_type": "stream",
       "stream": "stdout",
       "text": [
        " edline14n0456.txt\n",
        "updating with: "
       ]
      },
      {
       "output_type": "stream",
       "stream": "stdout",
       "text": [
        " edline14n0457.txt\n",
        "updating with: "
       ]
      },
      {
       "output_type": "stream",
       "stream": "stdout",
       "text": [
        " edline14n0458.txt\n",
        "updating with: "
       ]
      },
      {
       "output_type": "stream",
       "stream": "stdout",
       "text": [
        " edline14n0459.txt\n",
        "updating with: "
       ]
      },
      {
       "output_type": "stream",
       "stream": "stdout",
       "text": [
        " edline14n0460.txt\n",
        "updating with: "
       ]
      },
      {
       "output_type": "stream",
       "stream": "stdout",
       "text": [
        " edline14n0461.txt\n",
        "updating with: "
       ]
      },
      {
       "output_type": "stream",
       "stream": "stdout",
       "text": [
        " edline14n0462.txt\n",
        "updating with: "
       ]
      },
      {
       "output_type": "stream",
       "stream": "stdout",
       "text": [
        " edline14n0463.txt\n",
        "updating with: "
       ]
      },
      {
       "output_type": "stream",
       "stream": "stdout",
       "text": [
        " edline14n0464.txt\n",
        "updating with: "
       ]
      },
      {
       "output_type": "stream",
       "stream": "stdout",
       "text": [
        " edline14n0465.txt\n",
        "updating with: "
       ]
      },
      {
       "output_type": "stream",
       "stream": "stdout",
       "text": [
        " edline14n0466.txt\n",
        "updating with: "
       ]
      },
      {
       "output_type": "stream",
       "stream": "stdout",
       "text": [
        " edline14n0467.txt\n",
        "updating with: "
       ]
      },
      {
       "output_type": "stream",
       "stream": "stdout",
       "text": [
        " edline14n0468.txt\n",
        "updating with: "
       ]
      },
      {
       "output_type": "stream",
       "stream": "stdout",
       "text": [
        " edline14n0469.txt\n",
        "updating with: "
       ]
      },
      {
       "output_type": "stream",
       "stream": "stdout",
       "text": [
        " edline14n0470.txt\n",
        "updating with: "
       ]
      },
      {
       "output_type": "stream",
       "stream": "stdout",
       "text": [
        " edline14n0471.txt\n",
        "updating with: "
       ]
      },
      {
       "output_type": "stream",
       "stream": "stdout",
       "text": [
        " edline14n0472.txt\n",
        "updating with: "
       ]
      },
      {
       "output_type": "stream",
       "stream": "stdout",
       "text": [
        " edline14n0473.txt\n",
        "updating with: "
       ]
      },
      {
       "output_type": "stream",
       "stream": "stdout",
       "text": [
        " edline14n0474.txt\n",
        "updating with: "
       ]
      },
      {
       "output_type": "stream",
       "stream": "stdout",
       "text": [
        " edline14n0475.txt\n",
        "updating with: "
       ]
      },
      {
       "output_type": "stream",
       "stream": "stdout",
       "text": [
        " edline14n0476.txt\n",
        "updating with: "
       ]
      },
      {
       "output_type": "stream",
       "stream": "stdout",
       "text": [
        " edline14n0477.txt\n",
        "updating with: "
       ]
      },
      {
       "output_type": "stream",
       "stream": "stdout",
       "text": [
        " edline14n0478.txt\n",
        "updating with: "
       ]
      },
      {
       "output_type": "stream",
       "stream": "stdout",
       "text": [
        " edline14n0479.txt\n",
        "updating with: "
       ]
      },
      {
       "output_type": "stream",
       "stream": "stdout",
       "text": [
        " edline14n0480.txt\n",
        "updating with: "
       ]
      },
      {
       "output_type": "stream",
       "stream": "stdout",
       "text": [
        " edline14n0481.txt\n",
        "updating with: "
       ]
      },
      {
       "output_type": "stream",
       "stream": "stdout",
       "text": [
        " edline14n0482.txt\n",
        "updating with: "
       ]
      },
      {
       "output_type": "stream",
       "stream": "stdout",
       "text": [
        " edline14n0483.txt\n",
        "updating with: "
       ]
      },
      {
       "output_type": "stream",
       "stream": "stdout",
       "text": [
        " edline14n0484.txt\n",
        "updating with: "
       ]
      },
      {
       "output_type": "stream",
       "stream": "stdout",
       "text": [
        " edline14n0485.txt\n",
        "updating with: "
       ]
      },
      {
       "output_type": "stream",
       "stream": "stdout",
       "text": [
        " edline14n0486.txt\n",
        "updating with: "
       ]
      },
      {
       "output_type": "stream",
       "stream": "stdout",
       "text": [
        " edline14n0487.txt\n",
        "updating with: "
       ]
      },
      {
       "output_type": "stream",
       "stream": "stdout",
       "text": [
        " edline14n0488.txt\n",
        "updating with: "
       ]
      },
      {
       "output_type": "stream",
       "stream": "stdout",
       "text": [
        " edline14n0489.txt\n",
        "updating with: "
       ]
      },
      {
       "output_type": "stream",
       "stream": "stdout",
       "text": [
        " edline14n0490.txt\n",
        "updating with: "
       ]
      },
      {
       "output_type": "stream",
       "stream": "stdout",
       "text": [
        " edline14n0491.txt\n",
        "updating with: "
       ]
      },
      {
       "output_type": "stream",
       "stream": "stdout",
       "text": [
        " edline14n0492.txt\n",
        "updating with: "
       ]
      },
      {
       "output_type": "stream",
       "stream": "stdout",
       "text": [
        " edline14n0493.txt\n",
        "updating with: "
       ]
      },
      {
       "output_type": "stream",
       "stream": "stdout",
       "text": [
        " edline14n0494.txt\n",
        "updating with: "
       ]
      },
      {
       "output_type": "stream",
       "stream": "stdout",
       "text": [
        " edline14n0495.txt\n",
        "updating with: "
       ]
      },
      {
       "output_type": "stream",
       "stream": "stdout",
       "text": [
        " edline14n0496.txt\n",
        "updating with: "
       ]
      },
      {
       "output_type": "stream",
       "stream": "stdout",
       "text": [
        " edline14n0497.txt\n",
        "updating with: "
       ]
      },
      {
       "output_type": "stream",
       "stream": "stdout",
       "text": [
        " edline14n0498.txt\n",
        "updating with: "
       ]
      },
      {
       "output_type": "stream",
       "stream": "stdout",
       "text": [
        " edline14n0499.txt\n",
        "updating with: "
       ]
      },
      {
       "output_type": "stream",
       "stream": "stdout",
       "text": [
        " edline14n0500.txt\n",
        "updating with: "
       ]
      },
      {
       "output_type": "stream",
       "stream": "stdout",
       "text": [
        " edline14n0501.txt\n",
        "updating with: "
       ]
      },
      {
       "output_type": "stream",
       "stream": "stdout",
       "text": [
        " edline14n0502.txt\n",
        "updating with: "
       ]
      },
      {
       "output_type": "stream",
       "stream": "stdout",
       "text": [
        " edline14n0503.txt\n",
        "updating with: "
       ]
      },
      {
       "output_type": "stream",
       "stream": "stdout",
       "text": [
        " edline14n0504.txt\n",
        "updating with: "
       ]
      },
      {
       "output_type": "stream",
       "stream": "stdout",
       "text": [
        " edline14n0505.txt\n",
        "updating with: "
       ]
      },
      {
       "output_type": "stream",
       "stream": "stdout",
       "text": [
        " edline14n0506.txt\n",
        "updating with: "
       ]
      },
      {
       "output_type": "stream",
       "stream": "stdout",
       "text": [
        " edline14n0507.txt\n",
        "updating with: "
       ]
      },
      {
       "output_type": "stream",
       "stream": "stdout",
       "text": [
        " edline14n0508.txt\n",
        "updating with: "
       ]
      },
      {
       "output_type": "stream",
       "stream": "stdout",
       "text": [
        " edline14n0509.txt\n",
        "updating with: "
       ]
      },
      {
       "output_type": "stream",
       "stream": "stdout",
       "text": [
        " edline14n0510.txt\n",
        "updating with: "
       ]
      },
      {
       "output_type": "stream",
       "stream": "stdout",
       "text": [
        " edline14n0511.txt\n",
        "updating with: "
       ]
      },
      {
       "output_type": "stream",
       "stream": "stdout",
       "text": [
        " edline14n0512.txt\n",
        "updating with: "
       ]
      },
      {
       "output_type": "stream",
       "stream": "stdout",
       "text": [
        " edline14n0513.txt\n",
        "updating with: "
       ]
      },
      {
       "output_type": "stream",
       "stream": "stdout",
       "text": [
        " edline14n0514.txt\n",
        "updating with: "
       ]
      },
      {
       "output_type": "stream",
       "stream": "stdout",
       "text": [
        " edline14n0515.txt\n",
        "updating with: "
       ]
      },
      {
       "output_type": "stream",
       "stream": "stdout",
       "text": [
        " edline14n0516.txt\n",
        "updating with: "
       ]
      },
      {
       "output_type": "stream",
       "stream": "stdout",
       "text": [
        " edline14n0517.txt\n",
        "updating with: "
       ]
      },
      {
       "output_type": "stream",
       "stream": "stdout",
       "text": [
        " edline14n0518.txt\n",
        "updating with: "
       ]
      },
      {
       "output_type": "stream",
       "stream": "stdout",
       "text": [
        " edline14n0519.txt\n",
        "updating with: "
       ]
      },
      {
       "output_type": "stream",
       "stream": "stdout",
       "text": [
        " edline14n0520.txt\n",
        "updating with: "
       ]
      },
      {
       "output_type": "stream",
       "stream": "stdout",
       "text": [
        " edline14n0521.txt\n",
        "updating with: "
       ]
      },
      {
       "output_type": "stream",
       "stream": "stdout",
       "text": [
        " edline14n0522.txt\n",
        "updating with: "
       ]
      },
      {
       "output_type": "stream",
       "stream": "stdout",
       "text": [
        " edline14n0523.txt\n",
        "updating with: "
       ]
      },
      {
       "output_type": "stream",
       "stream": "stdout",
       "text": [
        " edline14n0524.txt\n",
        "updating with: "
       ]
      },
      {
       "output_type": "stream",
       "stream": "stdout",
       "text": [
        " edline14n0525.txt\n",
        "updating with: "
       ]
      },
      {
       "output_type": "stream",
       "stream": "stdout",
       "text": [
        " edline14n0526.txt\n",
        "updating with: "
       ]
      },
      {
       "output_type": "stream",
       "stream": "stdout",
       "text": [
        " edline14n0527.txt\n",
        "updating with: "
       ]
      },
      {
       "output_type": "stream",
       "stream": "stdout",
       "text": [
        " edline14n0528.txt\n",
        "updating with: "
       ]
      },
      {
       "output_type": "stream",
       "stream": "stdout",
       "text": [
        " edline14n0529.txt\n",
        "updating with: "
       ]
      },
      {
       "output_type": "stream",
       "stream": "stdout",
       "text": [
        " edline14n0530.txt\n",
        "updating with: "
       ]
      },
      {
       "output_type": "stream",
       "stream": "stdout",
       "text": [
        " edline14n0531.txt\n",
        "updating with: "
       ]
      },
      {
       "output_type": "stream",
       "stream": "stdout",
       "text": [
        " edline14n0532.txt\n",
        "updating with: "
       ]
      },
      {
       "output_type": "stream",
       "stream": "stdout",
       "text": [
        " edline14n0533.txt\n",
        "updating with: "
       ]
      },
      {
       "output_type": "stream",
       "stream": "stdout",
       "text": [
        " edline14n0534.txt\n",
        "updating with: "
       ]
      },
      {
       "output_type": "stream",
       "stream": "stdout",
       "text": [
        " edline14n0535.txt\n",
        "updating with: "
       ]
      },
      {
       "output_type": "stream",
       "stream": "stdout",
       "text": [
        " edline14n0536.txt\n",
        "updating with: "
       ]
      },
      {
       "output_type": "stream",
       "stream": "stdout",
       "text": [
        " edline14n0537.txt\n",
        "updating with: "
       ]
      },
      {
       "output_type": "stream",
       "stream": "stdout",
       "text": [
        " edline14n0538.txt\n",
        "updating with: "
       ]
      },
      {
       "output_type": "stream",
       "stream": "stdout",
       "text": [
        " edline14n0539.txt\n",
        "updating with: "
       ]
      },
      {
       "output_type": "stream",
       "stream": "stdout",
       "text": [
        " edline14n0540.txt\n",
        "updating with: "
       ]
      },
      {
       "output_type": "stream",
       "stream": "stdout",
       "text": [
        " edline14n0541.txt\n",
        "updating with: "
       ]
      },
      {
       "output_type": "stream",
       "stream": "stdout",
       "text": [
        " edline14n0542.txt\n",
        "updating with: "
       ]
      },
      {
       "output_type": "stream",
       "stream": "stdout",
       "text": [
        " edline14n0543.txt\n",
        "updating with: "
       ]
      },
      {
       "output_type": "stream",
       "stream": "stdout",
       "text": [
        " edline14n0544.txt\n",
        "updating with: "
       ]
      },
      {
       "output_type": "stream",
       "stream": "stdout",
       "text": [
        " edline14n0545.txt\n",
        "updating with: "
       ]
      },
      {
       "output_type": "stream",
       "stream": "stdout",
       "text": [
        " edline14n0546.txt\n",
        "updating with: "
       ]
      },
      {
       "output_type": "stream",
       "stream": "stdout",
       "text": [
        " edline14n0547.txt\n",
        "updating with: "
       ]
      },
      {
       "output_type": "stream",
       "stream": "stdout",
       "text": [
        " edline14n0548.txt\n",
        "updating with: "
       ]
      },
      {
       "output_type": "stream",
       "stream": "stdout",
       "text": [
        " edline14n0549.txt\n",
        "updating with: "
       ]
      },
      {
       "output_type": "stream",
       "stream": "stdout",
       "text": [
        " edline14n0550.txt\n",
        "updating with: "
       ]
      },
      {
       "output_type": "stream",
       "stream": "stdout",
       "text": [
        " edline14n0551.txt\n",
        "updating with: "
       ]
      },
      {
       "output_type": "stream",
       "stream": "stdout",
       "text": [
        " edline14n0552.txt\n",
        "updating with: "
       ]
      },
      {
       "output_type": "stream",
       "stream": "stdout",
       "text": [
        " edline14n0553.txt\n",
        "updating with: "
       ]
      },
      {
       "output_type": "stream",
       "stream": "stdout",
       "text": [
        " edline14n0554.txt\n",
        "updating with: "
       ]
      },
      {
       "output_type": "stream",
       "stream": "stdout",
       "text": [
        " edline14n0555.txt\n",
        "updating with: "
       ]
      },
      {
       "output_type": "stream",
       "stream": "stdout",
       "text": [
        " edline14n0556.txt\n",
        "updating with: "
       ]
      },
      {
       "output_type": "stream",
       "stream": "stdout",
       "text": [
        " edline14n0557.txt\n",
        "updating with: "
       ]
      },
      {
       "output_type": "stream",
       "stream": "stdout",
       "text": [
        " edline14n0558.txt\n",
        "updating with: "
       ]
      },
      {
       "output_type": "stream",
       "stream": "stdout",
       "text": [
        " edline14n0559.txt\n",
        "updating with: "
       ]
      },
      {
       "output_type": "stream",
       "stream": "stdout",
       "text": [
        " edline14n0336.txt\n",
        "updating with: "
       ]
      },
      {
       "output_type": "stream",
       "stream": "stdout",
       "text": [
        " edline14n0337.txt\n",
        "updating with: "
       ]
      },
      {
       "output_type": "stream",
       "stream": "stdout",
       "text": [
        " edline14n0338.txt\n",
        "updating with: "
       ]
      },
      {
       "output_type": "stream",
       "stream": "stdout",
       "text": [
        " edline14n0339.txt\n",
        "updating with: "
       ]
      },
      {
       "output_type": "stream",
       "stream": "stdout",
       "text": [
        " edline14n0340.txt\n",
        "updating with: "
       ]
      },
      {
       "output_type": "stream",
       "stream": "stdout",
       "text": [
        " edline14n0341.txt\n",
        "updating with: "
       ]
      },
      {
       "output_type": "stream",
       "stream": "stdout",
       "text": [
        " edline14n0342.txt\n",
        "updating with: "
       ]
      },
      {
       "output_type": "stream",
       "stream": "stdout",
       "text": [
        " edline14n0343.txt\n",
        "updating with: "
       ]
      },
      {
       "output_type": "stream",
       "stream": "stdout",
       "text": [
        " edline14n0344.txt\n",
        "updating with: "
       ]
      },
      {
       "output_type": "stream",
       "stream": "stdout",
       "text": [
        " edline14n0345.txt\n",
        "updating with: "
       ]
      },
      {
       "output_type": "stream",
       "stream": "stdout",
       "text": [
        " edline14n0346.txt\n",
        "updating with: "
       ]
      },
      {
       "output_type": "stream",
       "stream": "stdout",
       "text": [
        " edline14n0347.txt\n",
        "updating with: "
       ]
      },
      {
       "output_type": "stream",
       "stream": "stdout",
       "text": [
        " edline14n0348.txt\n",
        "updating with: "
       ]
      },
      {
       "output_type": "stream",
       "stream": "stdout",
       "text": [
        " edline14n0349.txt\n",
        "updating with: "
       ]
      },
      {
       "output_type": "stream",
       "stream": "stdout",
       "text": [
        " edline14n0350.txt\n",
        "updating with: "
       ]
      },
      {
       "output_type": "stream",
       "stream": "stdout",
       "text": [
        " edline14n0351.txt\n",
        "updating with: "
       ]
      },
      {
       "output_type": "stream",
       "stream": "stdout",
       "text": [
        " edline14n0352.txt\n",
        "updating with: "
       ]
      },
      {
       "output_type": "stream",
       "stream": "stdout",
       "text": [
        " edline14n0353.txt\n",
        "updating with: "
       ]
      },
      {
       "output_type": "stream",
       "stream": "stdout",
       "text": [
        " edline14n0354.txt\n",
        "updating with: "
       ]
      },
      {
       "output_type": "stream",
       "stream": "stdout",
       "text": [
        " edline14n0355.txt\n",
        "updating with: "
       ]
      },
      {
       "output_type": "stream",
       "stream": "stdout",
       "text": [
        " edline14n0356.txt\n",
        "updating with: "
       ]
      },
      {
       "output_type": "stream",
       "stream": "stdout",
       "text": [
        " edline14n0357.txt\n",
        "updating with: "
       ]
      },
      {
       "output_type": "stream",
       "stream": "stdout",
       "text": [
        " edline14n0358.txt\n",
        "updating with: "
       ]
      },
      {
       "output_type": "stream",
       "stream": "stdout",
       "text": [
        " edline14n0359.txt\n",
        "updating with: "
       ]
      },
      {
       "output_type": "stream",
       "stream": "stdout",
       "text": [
        " edline14n0360.txt\n",
        "updating with: "
       ]
      },
      {
       "output_type": "stream",
       "stream": "stdout",
       "text": [
        " edline14n0361.txt\n",
        "updating with: "
       ]
      },
      {
       "output_type": "stream",
       "stream": "stdout",
       "text": [
        " edline14n0362.txt\n",
        "updating with: "
       ]
      },
      {
       "output_type": "stream",
       "stream": "stdout",
       "text": [
        " edline14n0363.txt\n",
        "updating with: "
       ]
      },
      {
       "output_type": "stream",
       "stream": "stdout",
       "text": [
        " edline14n0364.txt\n",
        "updating with: "
       ]
      },
      {
       "output_type": "stream",
       "stream": "stdout",
       "text": [
        " edline14n0365.txt\n",
        "updating with: "
       ]
      },
      {
       "output_type": "stream",
       "stream": "stdout",
       "text": [
        " edline14n0366.txt\n",
        "updating with: "
       ]
      },
      {
       "output_type": "stream",
       "stream": "stdout",
       "text": [
        " edline14n0367.txt\n",
        "updating with: "
       ]
      },
      {
       "output_type": "stream",
       "stream": "stdout",
       "text": [
        " edline14n0368.txt\n",
        "updating with: "
       ]
      },
      {
       "output_type": "stream",
       "stream": "stdout",
       "text": [
        " edline14n0369.txt\n",
        "updating with: "
       ]
      },
      {
       "output_type": "stream",
       "stream": "stdout",
       "text": [
        " edline14n0370.txt\n",
        "updating with: "
       ]
      },
      {
       "output_type": "stream",
       "stream": "stdout",
       "text": [
        " edline14n0371.txt\n",
        "updating with: "
       ]
      },
      {
       "output_type": "stream",
       "stream": "stdout",
       "text": [
        " edline14n0372.txt\n",
        "updating with: "
       ]
      },
      {
       "output_type": "stream",
       "stream": "stdout",
       "text": [
        " edline14n0373.txt\n",
        "updating with: "
       ]
      },
      {
       "output_type": "stream",
       "stream": "stdout",
       "text": [
        " edline14n0374.txt\n",
        "updating with: "
       ]
      },
      {
       "output_type": "stream",
       "stream": "stdout",
       "text": [
        " edline14n0375.txt\n",
        "updating with: "
       ]
      },
      {
       "output_type": "stream",
       "stream": "stdout",
       "text": [
        " edline14n0376.txt\n",
        "updating with: "
       ]
      },
      {
       "output_type": "stream",
       "stream": "stdout",
       "text": [
        " edline14n0377.txt\n",
        "updating with: "
       ]
      },
      {
       "output_type": "stream",
       "stream": "stdout",
       "text": [
        " edline14n0378.txt\n",
        "updating with: "
       ]
      },
      {
       "output_type": "stream",
       "stream": "stdout",
       "text": [
        " edline14n0379.txt\n",
        "updating with: "
       ]
      },
      {
       "output_type": "stream",
       "stream": "stdout",
       "text": [
        " edline14n0380.txt\n",
        "updating with: "
       ]
      },
      {
       "output_type": "stream",
       "stream": "stdout",
       "text": [
        " edline14n0381.txt\n",
        "updating with: "
       ]
      },
      {
       "output_type": "stream",
       "stream": "stdout",
       "text": [
        " edline14n0382.txt\n",
        "updating with: "
       ]
      },
      {
       "output_type": "stream",
       "stream": "stdout",
       "text": [
        " edline14n0383.txt\n",
        "updating with: "
       ]
      },
      {
       "output_type": "stream",
       "stream": "stdout",
       "text": [
        " edline14n0384.txt\n",
        "updating with: "
       ]
      },
      {
       "output_type": "stream",
       "stream": "stdout",
       "text": [
        " edline14n0385.txt\n",
        "updating with: "
       ]
      },
      {
       "output_type": "stream",
       "stream": "stdout",
       "text": [
        " edline14n0386.txt\n",
        "updating with: "
       ]
      },
      {
       "output_type": "stream",
       "stream": "stdout",
       "text": [
        " edline14n0387.txt\n",
        "updating with: "
       ]
      },
      {
       "output_type": "stream",
       "stream": "stdout",
       "text": [
        " edline14n0388.txt\n",
        "updating with: "
       ]
      },
      {
       "output_type": "stream",
       "stream": "stdout",
       "text": [
        " edline14n0389.txt\n",
        "updating with: "
       ]
      },
      {
       "output_type": "stream",
       "stream": "stdout",
       "text": [
        " edline14n0390.txt\n",
        "updating with: "
       ]
      },
      {
       "output_type": "stream",
       "stream": "stdout",
       "text": [
        " edline14n0391.txt\n",
        "updating with: "
       ]
      },
      {
       "output_type": "stream",
       "stream": "stdout",
       "text": [
        " edline14n0392.txt\n",
        "updating with: "
       ]
      },
      {
       "output_type": "stream",
       "stream": "stdout",
       "text": [
        " edline14n0393.txt\n",
        "updating with: "
       ]
      },
      {
       "output_type": "stream",
       "stream": "stdout",
       "text": [
        " edline14n0394.txt\n",
        "updating with: "
       ]
      },
      {
       "output_type": "stream",
       "stream": "stdout",
       "text": [
        " edline14n0395.txt\n",
        "updating with: "
       ]
      },
      {
       "output_type": "stream",
       "stream": "stdout",
       "text": [
        " edline14n0396.txt\n",
        "updating with: "
       ]
      },
      {
       "output_type": "stream",
       "stream": "stdout",
       "text": [
        " edline14n0397.txt\n",
        "updating with: "
       ]
      },
      {
       "output_type": "stream",
       "stream": "stdout",
       "text": [
        " edline14n0398.txt\n",
        "updating with: "
       ]
      },
      {
       "output_type": "stream",
       "stream": "stdout",
       "text": [
        " edline14n0399.txt\n",
        "updating with: "
       ]
      },
      {
       "output_type": "stream",
       "stream": "stdout",
       "text": [
        " edline14n0400.txt\n",
        "updating with: "
       ]
      },
      {
       "output_type": "stream",
       "stream": "stdout",
       "text": [
        " edline14n0401.txt\n",
        "updating with: "
       ]
      },
      {
       "output_type": "stream",
       "stream": "stdout",
       "text": [
        " edline14n0402.txt\n",
        "updating with: "
       ]
      },
      {
       "output_type": "stream",
       "stream": "stdout",
       "text": [
        " edline14n0403.txt\n",
        "updating with: "
       ]
      },
      {
       "output_type": "stream",
       "stream": "stdout",
       "text": [
        " edline14n0404.txt\n",
        "updating with: "
       ]
      },
      {
       "output_type": "stream",
       "stream": "stdout",
       "text": [
        " edline14n0405.txt\n",
        "updating with: "
       ]
      },
      {
       "output_type": "stream",
       "stream": "stdout",
       "text": [
        " edline14n0406.txt\n",
        "updating with: "
       ]
      },
      {
       "output_type": "stream",
       "stream": "stdout",
       "text": [
        " edline14n0407.txt\n",
        "updating with: "
       ]
      },
      {
       "output_type": "stream",
       "stream": "stdout",
       "text": [
        " edline14n0408.txt\n",
        "updating with: "
       ]
      },
      {
       "output_type": "stream",
       "stream": "stdout",
       "text": [
        " edline14n0409.txt\n",
        "updating with: "
       ]
      },
      {
       "output_type": "stream",
       "stream": "stdout",
       "text": [
        " edline14n0410.txt\n",
        "updating with: "
       ]
      },
      {
       "output_type": "stream",
       "stream": "stdout",
       "text": [
        " edline14n0411.txt\n",
        "updating with: "
       ]
      },
      {
       "output_type": "stream",
       "stream": "stdout",
       "text": [
        " edline14n0412.txt\n",
        "updating with: "
       ]
      },
      {
       "output_type": "stream",
       "stream": "stdout",
       "text": [
        " edline14n0413.txt\n",
        "updating with: "
       ]
      },
      {
       "output_type": "stream",
       "stream": "stdout",
       "text": [
        " edline14n0414.txt\n",
        "updating with: "
       ]
      },
      {
       "output_type": "stream",
       "stream": "stdout",
       "text": [
        " edline14n0415.txt\n",
        "updating with: "
       ]
      },
      {
       "output_type": "stream",
       "stream": "stdout",
       "text": [
        " edline14n0416.txt\n",
        "updating with: "
       ]
      },
      {
       "output_type": "stream",
       "stream": "stdout",
       "text": [
        " edline14n0417.txt\n",
        "updating with: "
       ]
      },
      {
       "output_type": "stream",
       "stream": "stdout",
       "text": [
        " edline14n0418.txt\n",
        "updating with: "
       ]
      },
      {
       "output_type": "stream",
       "stream": "stdout",
       "text": [
        " edline14n0419.txt\n",
        "updating with: "
       ]
      },
      {
       "output_type": "stream",
       "stream": "stdout",
       "text": [
        " edline14n0420.txt\n",
        "updating with: "
       ]
      },
      {
       "output_type": "stream",
       "stream": "stdout",
       "text": [
        " edline14n0421.txt\n",
        "updating with: "
       ]
      },
      {
       "output_type": "stream",
       "stream": "stdout",
       "text": [
        " edline14n0422.txt\n",
        "updating with: "
       ]
      },
      {
       "output_type": "stream",
       "stream": "stdout",
       "text": [
        " edline14n0423.txt\n",
        "updating with: "
       ]
      },
      {
       "output_type": "stream",
       "stream": "stdout",
       "text": [
        " edline14n0424.txt\n",
        "updating with: "
       ]
      },
      {
       "output_type": "stream",
       "stream": "stdout",
       "text": [
        " edline14n0425.txt\n",
        "updating with: "
       ]
      },
      {
       "output_type": "stream",
       "stream": "stdout",
       "text": [
        " edline14n0426.txt\n",
        "updating with: "
       ]
      },
      {
       "output_type": "stream",
       "stream": "stdout",
       "text": [
        " edline14n0427.txt\n",
        "updating with: "
       ]
      },
      {
       "output_type": "stream",
       "stream": "stdout",
       "text": [
        " edline14n0428.txt\n",
        "updating with: "
       ]
      },
      {
       "output_type": "stream",
       "stream": "stdout",
       "text": [
        " edline14n0429.txt\n",
        "updating with: "
       ]
      },
      {
       "output_type": "stream",
       "stream": "stdout",
       "text": [
        " edline14n0430.txt\n",
        "updating with: "
       ]
      },
      {
       "output_type": "stream",
       "stream": "stdout",
       "text": [
        " edline14n0431.txt\n",
        "updating with: "
       ]
      },
      {
       "output_type": "stream",
       "stream": "stdout",
       "text": [
        " edline14n0432.txt\n",
        "updating with: "
       ]
      },
      {
       "output_type": "stream",
       "stream": "stdout",
       "text": [
        " edline14n0433.txt\n",
        "updating with: "
       ]
      },
      {
       "output_type": "stream",
       "stream": "stdout",
       "text": [
        " edline14n0434.txt\n",
        "updating with: "
       ]
      },
      {
       "output_type": "stream",
       "stream": "stdout",
       "text": [
        " edline14n0435.txt\n",
        "updating with: "
       ]
      },
      {
       "output_type": "stream",
       "stream": "stdout",
       "text": [
        " edline14n0436.txt\n",
        "updating with: "
       ]
      },
      {
       "output_type": "stream",
       "stream": "stdout",
       "text": [
        " edline14n0437.txt\n",
        "updating with: "
       ]
      },
      {
       "output_type": "stream",
       "stream": "stdout",
       "text": [
        " edline14n0438.txt\n",
        "updating with: "
       ]
      },
      {
       "output_type": "stream",
       "stream": "stdout",
       "text": [
        " edline14n0439.txt\n",
        "updating with: "
       ]
      },
      {
       "output_type": "stream",
       "stream": "stdout",
       "text": [
        " edline14n0440.txt\n",
        "updating with: "
       ]
      },
      {
       "output_type": "stream",
       "stream": "stdout",
       "text": [
        " edline14n0441.txt\n",
        "updating with: "
       ]
      },
      {
       "output_type": "stream",
       "stream": "stdout",
       "text": [
        " edline14n0442.txt\n",
        "updating with: "
       ]
      },
      {
       "output_type": "stream",
       "stream": "stdout",
       "text": [
        " edline14n0443.txt\n",
        "updating with: "
       ]
      },
      {
       "output_type": "stream",
       "stream": "stdout",
       "text": [
        " edline14n0444.txt\n",
        "updating with: "
       ]
      },
      {
       "output_type": "stream",
       "stream": "stdout",
       "text": [
        " edline14n0445.txt\n",
        "updating with: "
       ]
      },
      {
       "output_type": "stream",
       "stream": "stdout",
       "text": [
        " edline14n0446.txt\n",
        "updating with: "
       ]
      },
      {
       "output_type": "stream",
       "stream": "stdout",
       "text": [
        " edline14n0447.txt\n",
        "updating with: "
       ]
      },
      {
       "output_type": "stream",
       "stream": "stdout",
       "text": [
        " edline14n0224.txt\n",
        "updating with: "
       ]
      },
      {
       "output_type": "stream",
       "stream": "stdout",
       "text": [
        " edline14n0225.txt\n",
        "updating with: "
       ]
      },
      {
       "output_type": "stream",
       "stream": "stdout",
       "text": [
        " edline14n0226.txt\n",
        "updating with: "
       ]
      },
      {
       "output_type": "stream",
       "stream": "stdout",
       "text": [
        " edline14n0227.txt\n",
        "updating with: "
       ]
      },
      {
       "output_type": "stream",
       "stream": "stdout",
       "text": [
        " edline14n0228.txt\n",
        "updating with: "
       ]
      },
      {
       "output_type": "stream",
       "stream": "stdout",
       "text": [
        " edline14n0229.txt\n",
        "updating with: "
       ]
      },
      {
       "output_type": "stream",
       "stream": "stdout",
       "text": [
        " edline14n0230.txt\n",
        "updating with: "
       ]
      },
      {
       "output_type": "stream",
       "stream": "stdout",
       "text": [
        " edline14n0231.txt\n",
        "updating with: "
       ]
      },
      {
       "output_type": "stream",
       "stream": "stdout",
       "text": [
        " edline14n0232.txt\n",
        "updating with: "
       ]
      },
      {
       "output_type": "stream",
       "stream": "stdout",
       "text": [
        " edline14n0233.txt\n",
        "updating with: "
       ]
      },
      {
       "output_type": "stream",
       "stream": "stdout",
       "text": [
        " edline14n0234.txt\n",
        "updating with: "
       ]
      },
      {
       "output_type": "stream",
       "stream": "stdout",
       "text": [
        " edline14n0235.txt\n",
        "updating with: "
       ]
      },
      {
       "output_type": "stream",
       "stream": "stdout",
       "text": [
        " edline14n0236.txt\n",
        "updating with: "
       ]
      },
      {
       "output_type": "stream",
       "stream": "stdout",
       "text": [
        " edline14n0237.txt\n",
        "updating with: "
       ]
      },
      {
       "output_type": "stream",
       "stream": "stdout",
       "text": [
        " edline14n0238.txt\n",
        "updating with: "
       ]
      },
      {
       "output_type": "stream",
       "stream": "stdout",
       "text": [
        " edline14n0239.txt\n",
        "updating with: "
       ]
      },
      {
       "output_type": "stream",
       "stream": "stdout",
       "text": [
        " edline14n0240.txt\n",
        "updating with: "
       ]
      },
      {
       "output_type": "stream",
       "stream": "stdout",
       "text": [
        " edline14n0241.txt\n",
        "updating with: "
       ]
      },
      {
       "output_type": "stream",
       "stream": "stdout",
       "text": [
        " edline14n0242.txt\n",
        "updating with: "
       ]
      },
      {
       "output_type": "stream",
       "stream": "stdout",
       "text": [
        " edline14n0243.txt\n",
        "updating with: "
       ]
      },
      {
       "output_type": "stream",
       "stream": "stdout",
       "text": [
        " edline14n0244.txt\n",
        "updating with: "
       ]
      },
      {
       "output_type": "stream",
       "stream": "stdout",
       "text": [
        " edline14n0245.txt\n",
        "updating with: "
       ]
      },
      {
       "output_type": "stream",
       "stream": "stdout",
       "text": [
        " edline14n0246.txt\n",
        "updating with: "
       ]
      },
      {
       "output_type": "stream",
       "stream": "stdout",
       "text": [
        " edline14n0247.txt\n",
        "updating with: "
       ]
      },
      {
       "output_type": "stream",
       "stream": "stdout",
       "text": [
        " edline14n0248.txt\n",
        "updating with: "
       ]
      },
      {
       "output_type": "stream",
       "stream": "stdout",
       "text": [
        " edline14n0249.txt\n",
        "updating with: "
       ]
      },
      {
       "output_type": "stream",
       "stream": "stdout",
       "text": [
        " edline14n0250.txt\n",
        "updating with: "
       ]
      },
      {
       "output_type": "stream",
       "stream": "stdout",
       "text": [
        " edline14n0251.txt\n",
        "updating with: "
       ]
      },
      {
       "output_type": "stream",
       "stream": "stdout",
       "text": [
        " edline14n0252.txt\n",
        "updating with: "
       ]
      },
      {
       "output_type": "stream",
       "stream": "stdout",
       "text": [
        " edline14n0253.txt\n",
        "updating with: "
       ]
      },
      {
       "output_type": "stream",
       "stream": "stdout",
       "text": [
        " edline14n0254.txt\n",
        "updating with: "
       ]
      },
      {
       "output_type": "stream",
       "stream": "stdout",
       "text": [
        " edline14n0255.txt\n",
        "updating with: "
       ]
      },
      {
       "output_type": "stream",
       "stream": "stdout",
       "text": [
        " edline14n0256.txt\n",
        "updating with: "
       ]
      },
      {
       "output_type": "stream",
       "stream": "stdout",
       "text": [
        " edline14n0257.txt\n",
        "updating with: "
       ]
      },
      {
       "output_type": "stream",
       "stream": "stdout",
       "text": [
        " edline14n0258.txt\n",
        "updating with: "
       ]
      },
      {
       "output_type": "stream",
       "stream": "stdout",
       "text": [
        " edline14n0259.txt\n",
        "updating with: "
       ]
      },
      {
       "output_type": "stream",
       "stream": "stdout",
       "text": [
        " edline14n0260.txt\n",
        "updating with: "
       ]
      },
      {
       "output_type": "stream",
       "stream": "stdout",
       "text": [
        " edline14n0261.txt\n",
        "updating with: "
       ]
      },
      {
       "output_type": "stream",
       "stream": "stdout",
       "text": [
        " edline14n0262.txt\n",
        "updating with: "
       ]
      },
      {
       "output_type": "stream",
       "stream": "stdout",
       "text": [
        " edline14n0263.txt\n",
        "updating with: "
       ]
      },
      {
       "output_type": "stream",
       "stream": "stdout",
       "text": [
        " edline14n0264.txt\n",
        "updating with: "
       ]
      },
      {
       "output_type": "stream",
       "stream": "stdout",
       "text": [
        " edline14n0265.txt\n",
        "updating with: "
       ]
      },
      {
       "output_type": "stream",
       "stream": "stdout",
       "text": [
        " edline14n0266.txt\n",
        "updating with: "
       ]
      },
      {
       "output_type": "stream",
       "stream": "stdout",
       "text": [
        " edline14n0267.txt\n",
        "updating with: "
       ]
      },
      {
       "output_type": "stream",
       "stream": "stdout",
       "text": [
        " edline14n0268.txt\n",
        "updating with: "
       ]
      },
      {
       "output_type": "stream",
       "stream": "stdout",
       "text": [
        " edline14n0269.txt\n",
        "updating with: "
       ]
      },
      {
       "output_type": "stream",
       "stream": "stdout",
       "text": [
        " edline14n0270.txt\n",
        "updating with: "
       ]
      },
      {
       "output_type": "stream",
       "stream": "stdout",
       "text": [
        " edline14n0271.txt\n",
        "updating with: "
       ]
      },
      {
       "output_type": "stream",
       "stream": "stdout",
       "text": [
        " edline14n0272.txt\n",
        "updating with: "
       ]
      },
      {
       "output_type": "stream",
       "stream": "stdout",
       "text": [
        " edline14n0273.txt\n",
        "updating with: "
       ]
      },
      {
       "output_type": "stream",
       "stream": "stdout",
       "text": [
        " edline14n0274.txt\n",
        "updating with: "
       ]
      },
      {
       "output_type": "stream",
       "stream": "stdout",
       "text": [
        " edline14n0275.txt\n",
        "updating with: "
       ]
      },
      {
       "output_type": "stream",
       "stream": "stdout",
       "text": [
        " edline14n0276.txt\n",
        "updating with: "
       ]
      },
      {
       "output_type": "stream",
       "stream": "stdout",
       "text": [
        " edline14n0277.txt\n",
        "updating with: "
       ]
      },
      {
       "output_type": "stream",
       "stream": "stdout",
       "text": [
        " edline14n0278.txt\n",
        "updating with: "
       ]
      },
      {
       "output_type": "stream",
       "stream": "stdout",
       "text": [
        " edline14n0279.txt\n",
        "updating with: "
       ]
      },
      {
       "output_type": "stream",
       "stream": "stdout",
       "text": [
        " edline14n0280.txt\n",
        "updating with: "
       ]
      },
      {
       "output_type": "stream",
       "stream": "stdout",
       "text": [
        " edline14n0281.txt\n",
        "updating with: "
       ]
      },
      {
       "output_type": "stream",
       "stream": "stdout",
       "text": [
        " edline14n0282.txt\n",
        "updating with: "
       ]
      },
      {
       "output_type": "stream",
       "stream": "stdout",
       "text": [
        " edline14n0283.txt\n",
        "updating with: "
       ]
      },
      {
       "output_type": "stream",
       "stream": "stdout",
       "text": [
        " edline14n0284.txt\n",
        "updating with: "
       ]
      },
      {
       "output_type": "stream",
       "stream": "stdout",
       "text": [
        " edline14n0285.txt\n",
        "updating with: "
       ]
      },
      {
       "output_type": "stream",
       "stream": "stdout",
       "text": [
        " edline14n0286.txt\n",
        "updating with: "
       ]
      },
      {
       "output_type": "stream",
       "stream": "stdout",
       "text": [
        " edline14n0287.txt\n",
        "updating with: "
       ]
      },
      {
       "output_type": "stream",
       "stream": "stdout",
       "text": [
        " edline14n0288.txt\n",
        "updating with: "
       ]
      },
      {
       "output_type": "stream",
       "stream": "stdout",
       "text": [
        " edline14n0289.txt\n",
        "updating with: "
       ]
      },
      {
       "output_type": "stream",
       "stream": "stdout",
       "text": [
        " edline14n0290.txt\n",
        "updating with: "
       ]
      },
      {
       "output_type": "stream",
       "stream": "stdout",
       "text": [
        " edline14n0291.txt\n",
        "updating with: "
       ]
      },
      {
       "output_type": "stream",
       "stream": "stdout",
       "text": [
        " edline14n0292.txt\n",
        "updating with: "
       ]
      },
      {
       "output_type": "stream",
       "stream": "stdout",
       "text": [
        " edline14n0293.txt\n",
        "updating with: "
       ]
      },
      {
       "output_type": "stream",
       "stream": "stdout",
       "text": [
        " edline14n0294.txt\n",
        "updating with: "
       ]
      },
      {
       "output_type": "stream",
       "stream": "stdout",
       "text": [
        " edline14n0295.txt\n",
        "updating with: "
       ]
      },
      {
       "output_type": "stream",
       "stream": "stdout",
       "text": [
        " edline14n0296.txt\n",
        "updating with: "
       ]
      },
      {
       "output_type": "stream",
       "stream": "stdout",
       "text": [
        " edline14n0297.txt\n",
        "updating with: "
       ]
      },
      {
       "output_type": "stream",
       "stream": "stdout",
       "text": [
        " edline14n0298.txt\n",
        "updating with: "
       ]
      },
      {
       "output_type": "stream",
       "stream": "stdout",
       "text": [
        " edline14n0299.txt\n",
        "updating with: "
       ]
      },
      {
       "output_type": "stream",
       "stream": "stdout",
       "text": [
        " edline14n0300.txt\n",
        "updating with: "
       ]
      },
      {
       "output_type": "stream",
       "stream": "stdout",
       "text": [
        " edline14n0301.txt\n",
        "updating with: "
       ]
      },
      {
       "output_type": "stream",
       "stream": "stdout",
       "text": [
        " edline14n0302.txt\n",
        "updating with: "
       ]
      },
      {
       "output_type": "stream",
       "stream": "stdout",
       "text": [
        " edline14n0303.txt\n",
        "updating with: "
       ]
      },
      {
       "output_type": "stream",
       "stream": "stdout",
       "text": [
        " edline14n0304.txt\n",
        "updating with: "
       ]
      },
      {
       "output_type": "stream",
       "stream": "stdout",
       "text": [
        " edline14n0305.txt\n",
        "updating with: "
       ]
      },
      {
       "output_type": "stream",
       "stream": "stdout",
       "text": [
        " edline14n0306.txt\n",
        "updating with: "
       ]
      },
      {
       "output_type": "stream",
       "stream": "stdout",
       "text": [
        " edline14n0307.txt\n",
        "updating with: "
       ]
      },
      {
       "output_type": "stream",
       "stream": "stdout",
       "text": [
        " edline14n0308.txt\n",
        "updating with: "
       ]
      },
      {
       "output_type": "stream",
       "stream": "stdout",
       "text": [
        " edline14n0309.txt\n",
        "updating with: "
       ]
      },
      {
       "output_type": "stream",
       "stream": "stdout",
       "text": [
        " edline14n0310.txt\n",
        "updating with: "
       ]
      },
      {
       "output_type": "stream",
       "stream": "stdout",
       "text": [
        " edline14n0311.txt\n",
        "updating with: "
       ]
      },
      {
       "output_type": "stream",
       "stream": "stdout",
       "text": [
        " edline14n0312.txt\n",
        "updating with: "
       ]
      },
      {
       "output_type": "stream",
       "stream": "stdout",
       "text": [
        " edline14n0313.txt\n",
        "updating with: "
       ]
      },
      {
       "output_type": "stream",
       "stream": "stdout",
       "text": [
        " edline14n0314.txt\n",
        "updating with: "
       ]
      },
      {
       "output_type": "stream",
       "stream": "stdout",
       "text": [
        " edline14n0315.txt\n",
        "updating with: "
       ]
      },
      {
       "output_type": "stream",
       "stream": "stdout",
       "text": [
        " edline14n0316.txt\n",
        "updating with: "
       ]
      },
      {
       "output_type": "stream",
       "stream": "stdout",
       "text": [
        " edline14n0317.txt\n",
        "updating with: "
       ]
      },
      {
       "output_type": "stream",
       "stream": "stdout",
       "text": [
        " edline14n0318.txt\n",
        "updating with: "
       ]
      },
      {
       "output_type": "stream",
       "stream": "stdout",
       "text": [
        " edline14n0319.txt\n",
        "updating with: "
       ]
      },
      {
       "output_type": "stream",
       "stream": "stdout",
       "text": [
        " edline14n0320.txt\n",
        "updating with: "
       ]
      },
      {
       "output_type": "stream",
       "stream": "stdout",
       "text": [
        " edline14n0321.txt\n",
        "updating with: "
       ]
      },
      {
       "output_type": "stream",
       "stream": "stdout",
       "text": [
        " edline14n0322.txt\n",
        "updating with: "
       ]
      },
      {
       "output_type": "stream",
       "stream": "stdout",
       "text": [
        " edline14n0323.txt\n",
        "updating with: "
       ]
      },
      {
       "output_type": "stream",
       "stream": "stdout",
       "text": [
        " edline14n0324.txt\n",
        "updating with: "
       ]
      },
      {
       "output_type": "stream",
       "stream": "stdout",
       "text": [
        " edline14n0325.txt\n",
        "updating with: "
       ]
      },
      {
       "output_type": "stream",
       "stream": "stdout",
       "text": [
        " edline14n0326.txt\n",
        "updating with: "
       ]
      },
      {
       "output_type": "stream",
       "stream": "stdout",
       "text": [
        " edline14n0327.txt\n",
        "updating with: "
       ]
      },
      {
       "output_type": "stream",
       "stream": "stdout",
       "text": [
        " edline14n0328.txt\n",
        "updating with: "
       ]
      },
      {
       "output_type": "stream",
       "stream": "stdout",
       "text": [
        " edline14n0329.txt\n",
        "updating with: "
       ]
      },
      {
       "output_type": "stream",
       "stream": "stdout",
       "text": [
        " edline14n0330.txt\n",
        "updating with: "
       ]
      },
      {
       "output_type": "stream",
       "stream": "stdout",
       "text": [
        " edline14n0331.txt\n",
        "updating with: "
       ]
      },
      {
       "output_type": "stream",
       "stream": "stdout",
       "text": [
        " edline14n0332.txt\n",
        "updating with: "
       ]
      },
      {
       "output_type": "stream",
       "stream": "stdout",
       "text": [
        " edline14n0333.txt\n",
        "updating with: "
       ]
      },
      {
       "output_type": "stream",
       "stream": "stdout",
       "text": [
        " edline14n0334.txt\n",
        "updating with: "
       ]
      },
      {
       "output_type": "stream",
       "stream": "stdout",
       "text": [
        " edline14n0335.txt\n",
        "updating with: "
       ]
      },
      {
       "output_type": "stream",
       "stream": "stdout",
       "text": [
        " edline14n0112.txt\n",
        "updating with: "
       ]
      },
      {
       "output_type": "stream",
       "stream": "stdout",
       "text": [
        " edline14n0113.txt\n",
        "updating with: "
       ]
      },
      {
       "output_type": "stream",
       "stream": "stdout",
       "text": [
        " edline14n0114.txt\n",
        "updating with: "
       ]
      },
      {
       "output_type": "stream",
       "stream": "stdout",
       "text": [
        " edline14n0115.txt\n",
        "updating with: "
       ]
      },
      {
       "output_type": "stream",
       "stream": "stdout",
       "text": [
        " edline14n0116.txt\n",
        "updating with: "
       ]
      },
      {
       "output_type": "stream",
       "stream": "stdout",
       "text": [
        " edline14n0117.txt\n",
        "updating with: "
       ]
      },
      {
       "output_type": "stream",
       "stream": "stdout",
       "text": [
        " edline14n0118.txt\n",
        "updating with: "
       ]
      },
      {
       "output_type": "stream",
       "stream": "stdout",
       "text": [
        " edline14n0119.txt\n",
        "updating with: "
       ]
      },
      {
       "output_type": "stream",
       "stream": "stdout",
       "text": [
        " edline14n0120.txt\n",
        "updating with: "
       ]
      },
      {
       "output_type": "stream",
       "stream": "stdout",
       "text": [
        " edline14n0121.txt\n",
        "updating with: "
       ]
      },
      {
       "output_type": "stream",
       "stream": "stdout",
       "text": [
        " edline14n0122.txt\n",
        "updating with: "
       ]
      },
      {
       "output_type": "stream",
       "stream": "stdout",
       "text": [
        " edline14n0123.txt\n",
        "updating with: "
       ]
      },
      {
       "output_type": "stream",
       "stream": "stdout",
       "text": [
        " edline14n0124.txt\n",
        "updating with: "
       ]
      },
      {
       "output_type": "stream",
       "stream": "stdout",
       "text": [
        " edline14n0125.txt\n",
        "updating with: "
       ]
      },
      {
       "output_type": "stream",
       "stream": "stdout",
       "text": [
        " edline14n0126.txt\n",
        "updating with: "
       ]
      },
      {
       "output_type": "stream",
       "stream": "stdout",
       "text": [
        " edline14n0127.txt\n",
        "updating with: "
       ]
      },
      {
       "output_type": "stream",
       "stream": "stdout",
       "text": [
        " edline14n0128.txt\n",
        "updating with: "
       ]
      },
      {
       "output_type": "stream",
       "stream": "stdout",
       "text": [
        " edline14n0129.txt\n",
        "updating with: "
       ]
      },
      {
       "output_type": "stream",
       "stream": "stdout",
       "text": [
        " edline14n0130.txt\n",
        "updating with: "
       ]
      },
      {
       "output_type": "stream",
       "stream": "stdout",
       "text": [
        " edline14n0131.txt\n",
        "updating with: "
       ]
      },
      {
       "output_type": "stream",
       "stream": "stdout",
       "text": [
        " edline14n0132.txt\n",
        "updating with: "
       ]
      },
      {
       "output_type": "stream",
       "stream": "stdout",
       "text": [
        " edline14n0133.txt\n",
        "updating with: "
       ]
      },
      {
       "output_type": "stream",
       "stream": "stdout",
       "text": [
        " edline14n0134.txt\n",
        "updating with: "
       ]
      },
      {
       "output_type": "stream",
       "stream": "stdout",
       "text": [
        " edline14n0135.txt\n",
        "updating with: "
       ]
      },
      {
       "output_type": "stream",
       "stream": "stdout",
       "text": [
        " edline14n0136.txt\n",
        "updating with: "
       ]
      },
      {
       "output_type": "stream",
       "stream": "stdout",
       "text": [
        " edline14n0137.txt\n",
        "updating with: "
       ]
      },
      {
       "output_type": "stream",
       "stream": "stdout",
       "text": [
        " edline14n0138.txt\n",
        "updating with: "
       ]
      },
      {
       "output_type": "stream",
       "stream": "stdout",
       "text": [
        " edline14n0139.txt\n",
        "updating with: "
       ]
      },
      {
       "output_type": "stream",
       "stream": "stdout",
       "text": [
        " edline14n0140.txt\n",
        "updating with: "
       ]
      },
      {
       "output_type": "stream",
       "stream": "stdout",
       "text": [
        " edline14n0141.txt\n",
        "updating with: "
       ]
      },
      {
       "output_type": "stream",
       "stream": "stdout",
       "text": [
        " edline14n0142.txt\n",
        "updating with: "
       ]
      },
      {
       "output_type": "stream",
       "stream": "stdout",
       "text": [
        " edline14n0143.txt\n",
        "updating with: "
       ]
      },
      {
       "output_type": "stream",
       "stream": "stdout",
       "text": [
        " edline14n0144.txt\n",
        "updating with: "
       ]
      },
      {
       "output_type": "stream",
       "stream": "stdout",
       "text": [
        " edline14n0145.txt\n",
        "updating with: "
       ]
      },
      {
       "output_type": "stream",
       "stream": "stdout",
       "text": [
        " edline14n0146.txt\n",
        "updating with: "
       ]
      },
      {
       "output_type": "stream",
       "stream": "stdout",
       "text": [
        " edline14n0147.txt\n",
        "updating with: "
       ]
      },
      {
       "output_type": "stream",
       "stream": "stdout",
       "text": [
        " edline14n0148.txt\n",
        "updating with: "
       ]
      },
      {
       "output_type": "stream",
       "stream": "stdout",
       "text": [
        " edline14n0149.txt\n",
        "updating with: "
       ]
      },
      {
       "output_type": "stream",
       "stream": "stdout",
       "text": [
        " edline14n0150.txt\n",
        "updating with: "
       ]
      },
      {
       "output_type": "stream",
       "stream": "stdout",
       "text": [
        " edline14n0151.txt\n",
        "updating with: "
       ]
      },
      {
       "output_type": "stream",
       "stream": "stdout",
       "text": [
        " edline14n0152.txt\n",
        "updating with: "
       ]
      },
      {
       "output_type": "stream",
       "stream": "stdout",
       "text": [
        " edline14n0153.txt\n",
        "updating with: "
       ]
      },
      {
       "output_type": "stream",
       "stream": "stdout",
       "text": [
        " edline14n0154.txt\n",
        "updating with: "
       ]
      },
      {
       "output_type": "stream",
       "stream": "stdout",
       "text": [
        " edline14n0155.txt\n",
        "updating with: "
       ]
      },
      {
       "output_type": "stream",
       "stream": "stdout",
       "text": [
        " edline14n0156.txt\n",
        "updating with: "
       ]
      },
      {
       "output_type": "stream",
       "stream": "stdout",
       "text": [
        " edline14n0157.txt\n",
        "updating with: "
       ]
      },
      {
       "output_type": "stream",
       "stream": "stdout",
       "text": [
        " edline14n0158.txt\n",
        "updating with: "
       ]
      },
      {
       "output_type": "stream",
       "stream": "stdout",
       "text": [
        " edline14n0159.txt\n",
        "updating with: "
       ]
      },
      {
       "output_type": "stream",
       "stream": "stdout",
       "text": [
        " edline14n0160.txt\n",
        "updating with: "
       ]
      },
      {
       "output_type": "stream",
       "stream": "stdout",
       "text": [
        " edline14n0161.txt\n",
        "updating with: "
       ]
      },
      {
       "output_type": "stream",
       "stream": "stdout",
       "text": [
        " edline14n0162.txt\n",
        "updating with: "
       ]
      },
      {
       "output_type": "stream",
       "stream": "stdout",
       "text": [
        " edline14n0163.txt\n",
        "updating with: "
       ]
      },
      {
       "output_type": "stream",
       "stream": "stdout",
       "text": [
        " edline14n0164.txt\n",
        "updating with: "
       ]
      },
      {
       "output_type": "stream",
       "stream": "stdout",
       "text": [
        " edline14n0165.txt\n",
        "updating with: "
       ]
      },
      {
       "output_type": "stream",
       "stream": "stdout",
       "text": [
        " edline14n0166.txt\n",
        "updating with: "
       ]
      },
      {
       "output_type": "stream",
       "stream": "stdout",
       "text": [
        " edline14n0167.txt\n",
        "updating with: "
       ]
      },
      {
       "output_type": "stream",
       "stream": "stdout",
       "text": [
        " edline14n0168.txt\n",
        "updating with: "
       ]
      },
      {
       "output_type": "stream",
       "stream": "stdout",
       "text": [
        " edline14n0169.txt\n",
        "updating with: "
       ]
      },
      {
       "output_type": "stream",
       "stream": "stdout",
       "text": [
        " edline14n0170.txt\n",
        "updating with: "
       ]
      },
      {
       "output_type": "stream",
       "stream": "stdout",
       "text": [
        " edline14n0171.txt\n",
        "updating with: "
       ]
      },
      {
       "output_type": "stream",
       "stream": "stdout",
       "text": [
        " edline14n0172.txt\n",
        "updating with: "
       ]
      },
      {
       "output_type": "stream",
       "stream": "stdout",
       "text": [
        " edline14n0173.txt\n",
        "updating with: "
       ]
      },
      {
       "output_type": "stream",
       "stream": "stdout",
       "text": [
        " edline14n0174.txt\n",
        "updating with: "
       ]
      },
      {
       "output_type": "stream",
       "stream": "stdout",
       "text": [
        " edline14n0175.txt\n",
        "updating with: "
       ]
      },
      {
       "output_type": "stream",
       "stream": "stdout",
       "text": [
        " edline14n0176.txt\n",
        "updating with: "
       ]
      },
      {
       "output_type": "stream",
       "stream": "stdout",
       "text": [
        " edline14n0177.txt\n",
        "updating with: "
       ]
      },
      {
       "output_type": "stream",
       "stream": "stdout",
       "text": [
        " edline14n0178.txt\n",
        "updating with: "
       ]
      },
      {
       "output_type": "stream",
       "stream": "stdout",
       "text": [
        " edline14n0179.txt\n",
        "updating with: "
       ]
      },
      {
       "output_type": "stream",
       "stream": "stdout",
       "text": [
        " edline14n0180.txt\n",
        "updating with: "
       ]
      },
      {
       "output_type": "stream",
       "stream": "stdout",
       "text": [
        " edline14n0181.txt\n",
        "updating with: "
       ]
      },
      {
       "output_type": "stream",
       "stream": "stdout",
       "text": [
        " edline14n0182.txt\n",
        "updating with: "
       ]
      },
      {
       "output_type": "stream",
       "stream": "stdout",
       "text": [
        " edline14n0183.txt\n",
        "updating with: "
       ]
      },
      {
       "output_type": "stream",
       "stream": "stdout",
       "text": [
        " edline14n0184.txt\n",
        "updating with: "
       ]
      },
      {
       "output_type": "stream",
       "stream": "stdout",
       "text": [
        " edline14n0185.txt\n",
        "updating with: "
       ]
      },
      {
       "output_type": "stream",
       "stream": "stdout",
       "text": [
        " edline14n0186.txt\n",
        "updating with: "
       ]
      },
      {
       "output_type": "stream",
       "stream": "stdout",
       "text": [
        " edline14n0187.txt\n",
        "updating with: "
       ]
      },
      {
       "output_type": "stream",
       "stream": "stdout",
       "text": [
        " edline14n0188.txt\n",
        "updating with: "
       ]
      },
      {
       "output_type": "stream",
       "stream": "stdout",
       "text": [
        " edline14n0189.txt\n",
        "updating with: "
       ]
      },
      {
       "output_type": "stream",
       "stream": "stdout",
       "text": [
        " edline14n0190.txt\n",
        "updating with: "
       ]
      },
      {
       "output_type": "stream",
       "stream": "stdout",
       "text": [
        " edline14n0191.txt\n",
        "updating with: "
       ]
      },
      {
       "output_type": "stream",
       "stream": "stdout",
       "text": [
        " edline14n0192.txt\n",
        "updating with: "
       ]
      },
      {
       "output_type": "stream",
       "stream": "stdout",
       "text": [
        " edline14n0193.txt\n",
        "updating with: "
       ]
      },
      {
       "output_type": "stream",
       "stream": "stdout",
       "text": [
        " edline14n0194.txt\n",
        "updating with: "
       ]
      },
      {
       "output_type": "stream",
       "stream": "stdout",
       "text": [
        " edline14n0195.txt\n",
        "updating with: "
       ]
      },
      {
       "output_type": "stream",
       "stream": "stdout",
       "text": [
        " edline14n0196.txt\n",
        "updating with: "
       ]
      },
      {
       "output_type": "stream",
       "stream": "stdout",
       "text": [
        " edline14n0197.txt\n",
        "updating with: "
       ]
      },
      {
       "output_type": "stream",
       "stream": "stdout",
       "text": [
        " edline14n0198.txt\n",
        "updating with: "
       ]
      },
      {
       "output_type": "stream",
       "stream": "stdout",
       "text": [
        " edline14n0199.txt\n",
        "updating with: "
       ]
      },
      {
       "output_type": "stream",
       "stream": "stdout",
       "text": [
        " edline14n0200.txt\n",
        "updating with: "
       ]
      },
      {
       "output_type": "stream",
       "stream": "stdout",
       "text": [
        " edline14n0201.txt\n",
        "updating with: "
       ]
      },
      {
       "output_type": "stream",
       "stream": "stdout",
       "text": [
        " edline14n0202.txt\n",
        "updating with: "
       ]
      },
      {
       "output_type": "stream",
       "stream": "stdout",
       "text": [
        " edline14n0203.txt\n",
        "updating with: "
       ]
      },
      {
       "output_type": "stream",
       "stream": "stdout",
       "text": [
        " edline14n0204.txt\n",
        "updating with: "
       ]
      },
      {
       "output_type": "stream",
       "stream": "stdout",
       "text": [
        " edline14n0205.txt\n",
        "updating with: "
       ]
      },
      {
       "output_type": "stream",
       "stream": "stdout",
       "text": [
        " edline14n0206.txt\n",
        "updating with: "
       ]
      },
      {
       "output_type": "stream",
       "stream": "stdout",
       "text": [
        " edline14n0207.txt\n",
        "updating with: "
       ]
      },
      {
       "output_type": "stream",
       "stream": "stdout",
       "text": [
        " edline14n0208.txt\n",
        "updating with: "
       ]
      },
      {
       "output_type": "stream",
       "stream": "stdout",
       "text": [
        " edline14n0209.txt\n",
        "updating with: "
       ]
      },
      {
       "output_type": "stream",
       "stream": "stdout",
       "text": [
        " edline14n0210.txt\n",
        "updating with: "
       ]
      },
      {
       "output_type": "stream",
       "stream": "stdout",
       "text": [
        " edline14n0211.txt\n",
        "updating with: "
       ]
      },
      {
       "output_type": "stream",
       "stream": "stdout",
       "text": [
        " edline14n0212.txt\n",
        "updating with: "
       ]
      },
      {
       "output_type": "stream",
       "stream": "stdout",
       "text": [
        " edline14n0213.txt\n",
        "updating with: "
       ]
      },
      {
       "output_type": "stream",
       "stream": "stdout",
       "text": [
        " edline14n0214.txt\n",
        "updating with: "
       ]
      },
      {
       "output_type": "stream",
       "stream": "stdout",
       "text": [
        " edline14n0215.txt\n",
        "updating with: "
       ]
      },
      {
       "output_type": "stream",
       "stream": "stdout",
       "text": [
        " edline14n0216.txt\n",
        "updating with: "
       ]
      },
      {
       "output_type": "stream",
       "stream": "stdout",
       "text": [
        " edline14n0217.txt\n",
        "updating with: "
       ]
      },
      {
       "output_type": "stream",
       "stream": "stdout",
       "text": [
        " edline14n0218.txt\n",
        "updating with: "
       ]
      },
      {
       "output_type": "stream",
       "stream": "stdout",
       "text": [
        " edline14n0219.txt\n",
        "updating with: "
       ]
      },
      {
       "output_type": "stream",
       "stream": "stdout",
       "text": [
        " edline14n0220.txt\n",
        "updating with: "
       ]
      },
      {
       "output_type": "stream",
       "stream": "stdout",
       "text": [
        " edline14n0221.txt\n",
        "updating with: "
       ]
      },
      {
       "output_type": "stream",
       "stream": "stdout",
       "text": [
        " edline14n0222.txt\n",
        "updating with: "
       ]
      },
      {
       "output_type": "stream",
       "stream": "stdout",
       "text": [
        " edline14n0223.txt\n",
        "updating with: "
       ]
      },
      {
       "output_type": "stream",
       "stream": "stdout",
       "text": [
        " edline14n0001.txt\n",
        "updating with: "
       ]
      },
      {
       "output_type": "stream",
       "stream": "stdout",
       "text": [
        " edline14n0002.txt\n",
        "updating with: "
       ]
      },
      {
       "output_type": "stream",
       "stream": "stdout",
       "text": [
        " edline14n0003.txt\n",
        "updating with: "
       ]
      },
      {
       "output_type": "stream",
       "stream": "stdout",
       "text": [
        " edline14n0004.txt\n",
        "updating with: "
       ]
      },
      {
       "output_type": "stream",
       "stream": "stdout",
       "text": [
        " edline14n0005.txt\n",
        "updating with: "
       ]
      },
      {
       "output_type": "stream",
       "stream": "stdout",
       "text": [
        " edline14n0006.txt\n",
        "updating with: "
       ]
      },
      {
       "output_type": "stream",
       "stream": "stdout",
       "text": [
        " edline14n0007.txt\n",
        "updating with: "
       ]
      },
      {
       "output_type": "stream",
       "stream": "stdout",
       "text": [
        " edline14n0008.txt\n",
        "updating with: "
       ]
      },
      {
       "output_type": "stream",
       "stream": "stdout",
       "text": [
        " edline14n0009.txt\n",
        "updating with: "
       ]
      },
      {
       "output_type": "stream",
       "stream": "stdout",
       "text": [
        " edline14n0010.txt\n",
        "updating with: "
       ]
      },
      {
       "output_type": "stream",
       "stream": "stdout",
       "text": [
        " edline14n0011.txt\n",
        "updating with: "
       ]
      },
      {
       "output_type": "stream",
       "stream": "stdout",
       "text": [
        " edline14n0012.txt\n",
        "updating with: "
       ]
      },
      {
       "output_type": "stream",
       "stream": "stdout",
       "text": [
        " edline14n0013.txt\n",
        "updating with: "
       ]
      },
      {
       "output_type": "stream",
       "stream": "stdout",
       "text": [
        " edline14n0014.txt\n",
        "updating with: "
       ]
      },
      {
       "output_type": "stream",
       "stream": "stdout",
       "text": [
        " edline14n0015.txt\n",
        "updating with: "
       ]
      },
      {
       "output_type": "stream",
       "stream": "stdout",
       "text": [
        " edline14n0016.txt\n",
        "updating with: "
       ]
      },
      {
       "output_type": "stream",
       "stream": "stdout",
       "text": [
        " edline14n0017.txt\n",
        "updating with: "
       ]
      },
      {
       "output_type": "stream",
       "stream": "stdout",
       "text": [
        " edline14n0018.txt\n",
        "updating with: "
       ]
      },
      {
       "output_type": "stream",
       "stream": "stdout",
       "text": [
        " edline14n0019.txt\n",
        "updating with: "
       ]
      },
      {
       "output_type": "stream",
       "stream": "stdout",
       "text": [
        " edline14n0020.txt\n",
        "updating with: "
       ]
      },
      {
       "output_type": "stream",
       "stream": "stdout",
       "text": [
        " edline14n0021.txt\n",
        "updating with: "
       ]
      },
      {
       "output_type": "stream",
       "stream": "stdout",
       "text": [
        " edline14n0022.txt\n",
        "updating with: "
       ]
      },
      {
       "output_type": "stream",
       "stream": "stdout",
       "text": [
        " edline14n0023.txt\n",
        "updating with: "
       ]
      },
      {
       "output_type": "stream",
       "stream": "stdout",
       "text": [
        " edline14n0024.txt\n",
        "updating with: "
       ]
      },
      {
       "output_type": "stream",
       "stream": "stdout",
       "text": [
        " edline14n0025.txt\n",
        "updating with: "
       ]
      },
      {
       "output_type": "stream",
       "stream": "stdout",
       "text": [
        " edline14n0026.txt\n",
        "updating with: "
       ]
      },
      {
       "output_type": "stream",
       "stream": "stdout",
       "text": [
        " edline14n0027.txt\n",
        "updating with: "
       ]
      },
      {
       "output_type": "stream",
       "stream": "stdout",
       "text": [
        " edline14n0028.txt\n",
        "updating with: "
       ]
      },
      {
       "output_type": "stream",
       "stream": "stdout",
       "text": [
        " edline14n0029.txt\n",
        "updating with: "
       ]
      },
      {
       "output_type": "stream",
       "stream": "stdout",
       "text": [
        " edline14n0030.txt\n",
        "updating with: "
       ]
      },
      {
       "output_type": "stream",
       "stream": "stdout",
       "text": [
        " edline14n0031.txt\n",
        "updating with: "
       ]
      },
      {
       "output_type": "stream",
       "stream": "stdout",
       "text": [
        " edline14n0032.txt\n",
        "updating with: "
       ]
      },
      {
       "output_type": "stream",
       "stream": "stdout",
       "text": [
        " edline14n0033.txt\n",
        "updating with: "
       ]
      },
      {
       "output_type": "stream",
       "stream": "stdout",
       "text": [
        " edline14n0034.txt\n",
        "updating with: "
       ]
      },
      {
       "output_type": "stream",
       "stream": "stdout",
       "text": [
        " edline14n0035.txt\n",
        "updating with: "
       ]
      },
      {
       "output_type": "stream",
       "stream": "stdout",
       "text": [
        " edline14n0036.txt\n",
        "updating with: "
       ]
      },
      {
       "output_type": "stream",
       "stream": "stdout",
       "text": [
        " edline14n0037.txt\n",
        "updating with: "
       ]
      },
      {
       "output_type": "stream",
       "stream": "stdout",
       "text": [
        " edline14n0038.txt\n",
        "updating with: "
       ]
      },
      {
       "output_type": "stream",
       "stream": "stdout",
       "text": [
        " edline14n0039.txt\n",
        "updating with: "
       ]
      },
      {
       "output_type": "stream",
       "stream": "stdout",
       "text": [
        " edline14n0040.txt\n",
        "updating with: "
       ]
      },
      {
       "output_type": "stream",
       "stream": "stdout",
       "text": [
        " edline14n0041.txt\n",
        "updating with: "
       ]
      },
      {
       "output_type": "stream",
       "stream": "stdout",
       "text": [
        " edline14n0042.txt\n",
        "updating with: "
       ]
      },
      {
       "output_type": "stream",
       "stream": "stdout",
       "text": [
        " edline14n0043.txt\n",
        "updating with: "
       ]
      },
      {
       "output_type": "stream",
       "stream": "stdout",
       "text": [
        " edline14n0044.txt\n",
        "updating with: "
       ]
      },
      {
       "output_type": "stream",
       "stream": "stdout",
       "text": [
        " edline14n0045.txt\n",
        "updating with: "
       ]
      },
      {
       "output_type": "stream",
       "stream": "stdout",
       "text": [
        " edline14n0046.txt\n",
        "updating with: "
       ]
      },
      {
       "output_type": "stream",
       "stream": "stdout",
       "text": [
        " edline14n0047.txt\n",
        "updating with: "
       ]
      },
      {
       "output_type": "stream",
       "stream": "stdout",
       "text": [
        " edline14n0048.txt\n",
        "updating with: "
       ]
      },
      {
       "output_type": "stream",
       "stream": "stdout",
       "text": [
        " edline14n0049.txt\n",
        "updating with: "
       ]
      },
      {
       "output_type": "stream",
       "stream": "stdout",
       "text": [
        " edline14n0050.txt\n",
        "updating with: "
       ]
      },
      {
       "output_type": "stream",
       "stream": "stdout",
       "text": [
        " edline14n0051.txt\n",
        "updating with: "
       ]
      },
      {
       "output_type": "stream",
       "stream": "stdout",
       "text": [
        " edline14n0052.txt\n",
        "updating with: "
       ]
      },
      {
       "output_type": "stream",
       "stream": "stdout",
       "text": [
        " edline14n0053.txt\n",
        "updating with: "
       ]
      },
      {
       "output_type": "stream",
       "stream": "stdout",
       "text": [
        " edline14n0054.txt\n",
        "updating with: "
       ]
      },
      {
       "output_type": "stream",
       "stream": "stdout",
       "text": [
        " edline14n0055.txt\n",
        "updating with: "
       ]
      },
      {
       "output_type": "stream",
       "stream": "stdout",
       "text": [
        " edline14n0056.txt\n",
        "updating with: "
       ]
      },
      {
       "output_type": "stream",
       "stream": "stdout",
       "text": [
        " edline14n0057.txt\n",
        "updating with: "
       ]
      },
      {
       "output_type": "stream",
       "stream": "stdout",
       "text": [
        " edline14n0058.txt\n",
        "updating with: "
       ]
      },
      {
       "output_type": "stream",
       "stream": "stdout",
       "text": [
        " edline14n0059.txt\n",
        "updating with: "
       ]
      },
      {
       "output_type": "stream",
       "stream": "stdout",
       "text": [
        " edline14n0060.txt\n",
        "updating with: "
       ]
      },
      {
       "output_type": "stream",
       "stream": "stdout",
       "text": [
        " edline14n0061.txt\n",
        "updating with: "
       ]
      },
      {
       "output_type": "stream",
       "stream": "stdout",
       "text": [
        " edline14n0062.txt\n",
        "updating with: "
       ]
      },
      {
       "output_type": "stream",
       "stream": "stdout",
       "text": [
        " edline14n0063.txt\n",
        "updating with: "
       ]
      },
      {
       "output_type": "stream",
       "stream": "stdout",
       "text": [
        " edline14n0064.txt\n",
        "updating with: "
       ]
      },
      {
       "output_type": "stream",
       "stream": "stdout",
       "text": [
        " edline14n0065.txt\n",
        "updating with: "
       ]
      },
      {
       "output_type": "stream",
       "stream": "stdout",
       "text": [
        " edline14n0066.txt\n",
        "updating with: "
       ]
      },
      {
       "output_type": "stream",
       "stream": "stdout",
       "text": [
        " edline14n0067.txt\n",
        "updating with: "
       ]
      },
      {
       "output_type": "stream",
       "stream": "stdout",
       "text": [
        " edline14n0068.txt\n",
        "updating with: "
       ]
      },
      {
       "output_type": "stream",
       "stream": "stdout",
       "text": [
        " edline14n0069.txt\n",
        "updating with: "
       ]
      },
      {
       "output_type": "stream",
       "stream": "stdout",
       "text": [
        " edline14n0070.txt\n",
        "updating with: "
       ]
      },
      {
       "output_type": "stream",
       "stream": "stdout",
       "text": [
        " edline14n0071.txt\n",
        "updating with: "
       ]
      },
      {
       "output_type": "stream",
       "stream": "stdout",
       "text": [
        " edline14n0072.txt\n",
        "updating with: "
       ]
      },
      {
       "output_type": "stream",
       "stream": "stdout",
       "text": [
        " edline14n0073.txt\n",
        "updating with: "
       ]
      },
      {
       "output_type": "stream",
       "stream": "stdout",
       "text": [
        " edline14n0074.txt\n",
        "updating with: "
       ]
      },
      {
       "output_type": "stream",
       "stream": "stdout",
       "text": [
        " edline14n0075.txt\n",
        "updating with: "
       ]
      },
      {
       "output_type": "stream",
       "stream": "stdout",
       "text": [
        " edline14n0076.txt\n",
        "updating with: "
       ]
      },
      {
       "output_type": "stream",
       "stream": "stdout",
       "text": [
        " edline14n0077.txt\n",
        "updating with: "
       ]
      },
      {
       "output_type": "stream",
       "stream": "stdout",
       "text": [
        " edline14n0078.txt\n",
        "updating with: "
       ]
      },
      {
       "output_type": "stream",
       "stream": "stdout",
       "text": [
        " edline14n0079.txt\n",
        "updating with: "
       ]
      },
      {
       "output_type": "stream",
       "stream": "stdout",
       "text": [
        " edline14n0080.txt\n",
        "updating with: "
       ]
      },
      {
       "output_type": "stream",
       "stream": "stdout",
       "text": [
        " edline14n0081.txt\n",
        "updating with: "
       ]
      },
      {
       "output_type": "stream",
       "stream": "stdout",
       "text": [
        " edline14n0082.txt\n",
        "updating with: "
       ]
      },
      {
       "output_type": "stream",
       "stream": "stdout",
       "text": [
        " edline14n0083.txt\n",
        "updating with: "
       ]
      },
      {
       "output_type": "stream",
       "stream": "stdout",
       "text": [
        " edline14n0084.txt\n",
        "updating with: "
       ]
      },
      {
       "output_type": "stream",
       "stream": "stdout",
       "text": [
        " edline14n0085.txt\n",
        "updating with: "
       ]
      },
      {
       "output_type": "stream",
       "stream": "stdout",
       "text": [
        " edline14n0086.txt\n",
        "updating with: "
       ]
      },
      {
       "output_type": "stream",
       "stream": "stdout",
       "text": [
        " edline14n0087.txt\n",
        "updating with: "
       ]
      },
      {
       "output_type": "stream",
       "stream": "stdout",
       "text": [
        " edline14n0088.txt\n",
        "updating with: "
       ]
      },
      {
       "output_type": "stream",
       "stream": "stdout",
       "text": [
        " edline14n0089.txt\n",
        "updating with: "
       ]
      },
      {
       "output_type": "stream",
       "stream": "stdout",
       "text": [
        " edline14n0090.txt\n",
        "updating with: "
       ]
      },
      {
       "output_type": "stream",
       "stream": "stdout",
       "text": [
        " edline14n0091.txt\n",
        "updating with: "
       ]
      },
      {
       "output_type": "stream",
       "stream": "stdout",
       "text": [
        " edline14n0092.txt\n",
        "updating with: "
       ]
      },
      {
       "output_type": "stream",
       "stream": "stdout",
       "text": [
        " edline14n0093.txt\n",
        "updating with: "
       ]
      },
      {
       "output_type": "stream",
       "stream": "stdout",
       "text": [
        " edline14n0094.txt\n",
        "updating with: "
       ]
      },
      {
       "output_type": "stream",
       "stream": "stdout",
       "text": [
        " edline14n0095.txt\n",
        "updating with: "
       ]
      },
      {
       "output_type": "stream",
       "stream": "stdout",
       "text": [
        " edline14n0096.txt\n",
        "updating with: "
       ]
      },
      {
       "output_type": "stream",
       "stream": "stdout",
       "text": [
        " edline14n0097.txt\n",
        "updating with: "
       ]
      },
      {
       "output_type": "stream",
       "stream": "stdout",
       "text": [
        " edline14n0098.txt\n",
        "updating with: "
       ]
      },
      {
       "output_type": "stream",
       "stream": "stdout",
       "text": [
        " edline14n0099.txt\n",
        "updating with: "
       ]
      },
      {
       "output_type": "stream",
       "stream": "stdout",
       "text": [
        " edline14n0100.txt\n",
        "updating with: "
       ]
      },
      {
       "output_type": "stream",
       "stream": "stdout",
       "text": [
        " edline14n0101.txt\n",
        "updating with: "
       ]
      },
      {
       "output_type": "stream",
       "stream": "stdout",
       "text": [
        " edline14n0102.txt\n",
        "updating with: "
       ]
      },
      {
       "output_type": "stream",
       "stream": "stdout",
       "text": [
        " edline14n0103.txt\n",
        "updating with: "
       ]
      },
      {
       "output_type": "stream",
       "stream": "stdout",
       "text": [
        " edline14n0104.txt\n",
        "updating with: "
       ]
      },
      {
       "output_type": "stream",
       "stream": "stdout",
       "text": [
        " edline14n0105.txt\n",
        "updating with: "
       ]
      },
      {
       "output_type": "stream",
       "stream": "stdout",
       "text": [
        " edline14n0106.txt\n",
        "updating with: "
       ]
      },
      {
       "output_type": "stream",
       "stream": "stdout",
       "text": [
        " edline14n0107.txt\n",
        "updating with: "
       ]
      },
      {
       "output_type": "stream",
       "stream": "stdout",
       "text": [
        " edline14n0108.txt\n",
        "updating with: "
       ]
      },
      {
       "output_type": "stream",
       "stream": "stdout",
       "text": [
        " edline14n0109.txt\n",
        "updating with: "
       ]
      },
      {
       "output_type": "stream",
       "stream": "stdout",
       "text": [
        " edline14n0110.txt\n",
        "updating with: "
       ]
      },
      {
       "output_type": "stream",
       "stream": "stdout",
       "text": [
        " edline14n0111.txt\n"
       ]
      }
     ],
     "prompt_number": 146
    },
    {
     "cell_type": "code",
     "collapsed": false,
     "input": [
      "x = []\n",
      "for issn, nlm in issnDict.items():\n",
      "    x.append( dict(issn=issn, nlmuniqueid=nlm))\n",
      "xx = DataFrame(x)\n",
      "xx.to_csv(\"/vagrant/cs109_firstOrPerish/data_munging/issn_nlmuniqueid.csv\")\n",
      "xx"
     ],
     "language": "python",
     "metadata": {},
     "outputs": [
      {
       "html": [
        "<div style=\"max-height:1000px;max-width:1500px;overflow:auto;\">\n",
        "<table border=\"1\" class=\"dataframe\">\n",
        "  <thead>\n",
        "    <tr style=\"text-align: right;\">\n",
        "      <th></th>\n",
        "      <th>issn</th>\n",
        "      <th>nlmuniqueid</th>\n",
        "    </tr>\n",
        "  </thead>\n",
        "  <tbody>\n",
        "    <tr>\n",
        "      <th>0    </th>\n",
        "      <td>          </td>\n",
        "      <td>          </td>\n",
        "    </tr>\n",
        "    <tr>\n",
        "      <th>1    </th>\n",
        "      <td> 1087-0792</td>\n",
        "      <td>   9804678</td>\n",
        "    </tr>\n",
        "    <tr>\n",
        "      <th>2    </th>\n",
        "      <td> 0303-691X</td>\n",
        "      <td>   0427176</td>\n",
        "    </tr>\n",
        "    <tr>\n",
        "      <th>3    </th>\n",
        "      <td> 1087-0024</td>\n",
        "      <td>   9609059</td>\n",
        "    </tr>\n",
        "    <tr>\n",
        "      <th>4    </th>\n",
        "      <td> 0098-8235</td>\n",
        "      <td>   7514189</td>\n",
        "    </tr>\n",
        "    <tr>\n",
        "      <th>5    </th>\n",
        "      <td> 0192-9720</td>\n",
        "      <td> 100971813</td>\n",
        "    </tr>\n",
        "    <tr>\n",
        "      <th>6    </th>\n",
        "      <td> 1748-7161</td>\n",
        "      <td> 101271527</td>\n",
        "    </tr>\n",
        "    <tr>\n",
        "      <th>7    </th>\n",
        "      <td> 0093-0423</td>\n",
        "      <td>   7509335</td>\n",
        "    </tr>\n",
        "    <tr>\n",
        "      <th>8    </th>\n",
        "      <td> 0269-2325</td>\n",
        "      <td> 101091058</td>\n",
        "    </tr>\n",
        "    <tr>\n",
        "      <th>9    </th>\n",
        "      <td> 1471-2377</td>\n",
        "      <td> 100968555</td>\n",
        "    </tr>\n",
        "    <tr>\n",
        "      <th>10   </th>\n",
        "      <td> 0308-5821</td>\n",
        "      <td> 101090756</td>\n",
        "    </tr>\n",
        "    <tr>\n",
        "      <th>11   </th>\n",
        "      <td> 1138-9672</td>\n",
        "      <td> 100890196</td>\n",
        "    </tr>\n",
        "    <tr>\n",
        "      <th>12   </th>\n",
        "      <td> 0147-0353</td>\n",
        "      <td>   7801228</td>\n",
        "    </tr>\n",
        "    <tr>\n",
        "      <th>13   </th>\n",
        "      <td> 0024-0915</td>\n",
        "      <td> 100966853</td>\n",
        "    </tr>\n",
        "    <tr>\n",
        "      <th>14   </th>\n",
        "      <td> 0890-3344</td>\n",
        "      <td>   8709498</td>\n",
        "    </tr>\n",
        "    <tr>\n",
        "      <th>15   </th>\n",
        "      <td> 0733-155X</td>\n",
        "      <td> 101082887</td>\n",
        "    </tr>\n",
        "    <tr>\n",
        "      <th>16   </th>\n",
        "      <td> 0141-7681</td>\n",
        "      <td>   7806055</td>\n",
        "    </tr>\n",
        "    <tr>\n",
        "      <th>17   </th>\n",
        "      <td> 0732-0515</td>\n",
        "      <td>   9878834</td>\n",
        "    </tr>\n",
        "    <tr>\n",
        "      <th>18   </th>\n",
        "      <td> 1045-1056</td>\n",
        "      <td>   9004494</td>\n",
        "    </tr>\n",
        "    <tr>\n",
        "      <th>19   </th>\n",
        "      <td> 0368-1610</td>\n",
        "      <td> 17840150R</td>\n",
        "    </tr>\n",
        "    <tr>\n",
        "      <th>20   </th>\n",
        "      <td> 0035-6905</td>\n",
        "      <td>   0404364</td>\n",
        "    </tr>\n",
        "    <tr>\n",
        "      <th>21   </th>\n",
        "      <td> 0022-1031</td>\n",
        "      <td>   0045332</td>\n",
        "    </tr>\n",
        "    <tr>\n",
        "      <th>22   </th>\n",
        "      <td> 0018-5620</td>\n",
        "      <td>   0152562</td>\n",
        "    </tr>\n",
        "    <tr>\n",
        "      <th>23   </th>\n",
        "      <td> 0035-2683</td>\n",
        "      <td> 100966326</td>\n",
        "    </tr>\n",
        "    <tr>\n",
        "      <th>24   </th>\n",
        "      <td> 1542-8826</td>\n",
        "      <td> 100954650</td>\n",
        "    </tr>\n",
        "    <tr>\n",
        "      <th>25   </th>\n",
        "      <td> 1674-2818</td>\n",
        "      <td> 101504351</td>\n",
        "    </tr>\n",
        "    <tr>\n",
        "      <th>26   </th>\n",
        "      <td> 1016-8710</td>\n",
        "      <td>   9004485</td>\n",
        "    </tr>\n",
        "    <tr>\n",
        "      <th>27   </th>\n",
        "      <td> 0046-2233</td>\n",
        "      <td>   0372224</td>\n",
        "    </tr>\n",
        "    <tr>\n",
        "      <th>28   </th>\n",
        "      <td> 1872-2156</td>\n",
        "      <td> 101299745</td>\n",
        "    </tr>\n",
        "    <tr>\n",
        "      <th>29   </th>\n",
        "      <td> 1064-0266</td>\n",
        "      <td>   9315161</td>\n",
        "    </tr>\n",
        "    <tr>\n",
        "      <th>...</th>\n",
        "      <td>...</td>\n",
        "      <td>...</td>\n",
        "    </tr>\n",
        "    <tr>\n",
        "      <th>18785</th>\n",
        "      <td> 0300-5577</td>\n",
        "      <td>   0361031</td>\n",
        "    </tr>\n",
        "    <tr>\n",
        "      <th>18786</th>\n",
        "      <td> 0162-5721</td>\n",
        "      <td> 100966356</td>\n",
        "    </tr>\n",
        "    <tr>\n",
        "      <th>18787</th>\n",
        "      <td> 0266-6502</td>\n",
        "      <td>   7905922</td>\n",
        "    </tr>\n",
        "    <tr>\n",
        "      <th>18788</th>\n",
        "      <td> 0002-9165</td>\n",
        "      <td>   0376027</td>\n",
        "    </tr>\n",
        "    <tr>\n",
        "      <th>18789</th>\n",
        "      <td> 1350-4533</td>\n",
        "      <td>   9422753</td>\n",
        "    </tr>\n",
        "    <tr>\n",
        "      <th>18790</th>\n",
        "      <td> 0009-2665</td>\n",
        "      <td>  2985134R</td>\n",
        "    </tr>\n",
        "    <tr>\n",
        "      <th>18791</th>\n",
        "      <td> 0196-9846</td>\n",
        "      <td>   7810187</td>\n",
        "    </tr>\n",
        "    <tr>\n",
        "      <th>18792</th>\n",
        "      <td> 0090-3779</td>\n",
        "      <td> 100966171</td>\n",
        "    </tr>\n",
        "    <tr>\n",
        "      <th>18793</th>\n",
        "      <td> 0021-8332</td>\n",
        "      <td>   0320134</td>\n",
        "    </tr>\n",
        "    <tr>\n",
        "      <th>18794</th>\n",
        "      <td> 0016-3813</td>\n",
        "      <td>   0010333</td>\n",
        "    </tr>\n",
        "    <tr>\n",
        "      <th>18795</th>\n",
        "      <td> 0022-0337</td>\n",
        "      <td>   8000150</td>\n",
        "    </tr>\n",
        "    <tr>\n",
        "      <th>18796</th>\n",
        "      <td> 0028-7326</td>\n",
        "      <td> 100972829</td>\n",
        "    </tr>\n",
        "    <tr>\n",
        "      <th>18797</th>\n",
        "      <td> 1746-4269</td>\n",
        "      <td> 101245794</td>\n",
        "    </tr>\n",
        "    <tr>\n",
        "      <th>18798</th>\n",
        "      <td> 0045-8856</td>\n",
        "      <td> 100967278</td>\n",
        "    </tr>\n",
        "    <tr>\n",
        "      <th>18799</th>\n",
        "      <td> 0730-8884</td>\n",
        "      <td>   9879749</td>\n",
        "    </tr>\n",
        "    <tr>\n",
        "      <th>18800</th>\n",
        "      <td> 0003-2670</td>\n",
        "      <td>   0370534</td>\n",
        "    </tr>\n",
        "    <tr>\n",
        "      <th>18801</th>\n",
        "      <td> 1050-2289</td>\n",
        "      <td>   9886049</td>\n",
        "    </tr>\n",
        "    <tr>\n",
        "      <th>18802</th>\n",
        "      <td> 0081-6582</td>\n",
        "      <td> 17340500R</td>\n",
        "    </tr>\n",
        "    <tr>\n",
        "      <th>18803</th>\n",
        "      <td> 1592-5986</td>\n",
        "      <td> 100901776</td>\n",
        "    </tr>\n",
        "    <tr>\n",
        "      <th>18804</th>\n",
        "      <td> 0030-0934</td>\n",
        "      <td> 100969662</td>\n",
        "    </tr>\n",
        "    <tr>\n",
        "      <th>18805</th>\n",
        "      <td> 1364-8535</td>\n",
        "      <td>   9801902</td>\n",
        "    </tr>\n",
        "    <tr>\n",
        "      <th>18806</th>\n",
        "      <td> 0954-0113</td>\n",
        "      <td> 101092172</td>\n",
        "    </tr>\n",
        "    <tr>\n",
        "      <th>18807</th>\n",
        "      <td> 0249-6402</td>\n",
        "      <td>   7901212</td>\n",
        "    </tr>\n",
        "    <tr>\n",
        "      <th>18808</th>\n",
        "      <td> 0085-5367</td>\n",
        "      <td> 19940460R</td>\n",
        "    </tr>\n",
        "    <tr>\n",
        "      <th>18809</th>\n",
        "      <td> 1093-1783</td>\n",
        "      <td>   9716901</td>\n",
        "    </tr>\n",
        "    <tr>\n",
        "      <th>18810</th>\n",
        "      <td> 1550-8579</td>\n",
        "      <td> 101225178</td>\n",
        "    </tr>\n",
        "    <tr>\n",
        "      <th>18811</th>\n",
        "      <td> 0578-0160</td>\n",
        "      <td> 100967120</td>\n",
        "    </tr>\n",
        "    <tr>\n",
        "      <th>18812</th>\n",
        "      <td> 0730-9139</td>\n",
        "      <td> 101535566</td>\n",
        "    </tr>\n",
        "    <tr>\n",
        "      <th>18813</th>\n",
        "      <td> 0084-2559</td>\n",
        "      <td> 101083633</td>\n",
        "    </tr>\n",
        "    <tr>\n",
        "      <th>18814</th>\n",
        "      <td> 1548-923X</td>\n",
        "      <td> 101214977</td>\n",
        "    </tr>\n",
        "  </tbody>\n",
        "</table>\n",
        "<p>18815 rows \u00d7 2 columns</p>\n",
        "</div>"
       ],
       "metadata": {},
       "output_type": "pyout",
       "prompt_number": 151,
       "text": [
        "            issn nlmuniqueid\n",
        "0                           \n",
        "1      1087-0792     9804678\n",
        "2      0303-691X     0427176\n",
        "3      1087-0024     9609059\n",
        "4      0098-8235     7514189\n",
        "5      0192-9720   100971813\n",
        "6      1748-7161   101271527\n",
        "7      0093-0423     7509335\n",
        "8      0269-2325   101091058\n",
        "9      1471-2377   100968555\n",
        "10     0308-5821   101090756\n",
        "11     1138-9672   100890196\n",
        "12     0147-0353     7801228\n",
        "13     0024-0915   100966853\n",
        "14     0890-3344     8709498\n",
        "15     0733-155X   101082887\n",
        "16     0141-7681     7806055\n",
        "17     0732-0515     9878834\n",
        "18     1045-1056     9004494\n",
        "19     0368-1610   17840150R\n",
        "20     0035-6905     0404364\n",
        "21     0022-1031     0045332\n",
        "22     0018-5620     0152562\n",
        "23     0035-2683   100966326\n",
        "24     1542-8826   100954650\n",
        "25     1674-2818   101504351\n",
        "26     1016-8710     9004485\n",
        "27     0046-2233     0372224\n",
        "28     1872-2156   101299745\n",
        "29     1064-0266     9315161\n",
        "...          ...         ...\n",
        "18785  0300-5577     0361031\n",
        "18786  0162-5721   100966356\n",
        "18787  0266-6502     7905922\n",
        "18788  0002-9165     0376027\n",
        "18789  1350-4533     9422753\n",
        "18790  0009-2665    2985134R\n",
        "18791  0196-9846     7810187\n",
        "18792  0090-3779   100966171\n",
        "18793  0021-8332     0320134\n",
        "18794  0016-3813     0010333\n",
        "18795  0022-0337     8000150\n",
        "18796  0028-7326   100972829\n",
        "18797  1746-4269   101245794\n",
        "18798  0045-8856   100967278\n",
        "18799  0730-8884     9879749\n",
        "18800  0003-2670     0370534\n",
        "18801  1050-2289     9886049\n",
        "18802  0081-6582   17340500R\n",
        "18803  1592-5986   100901776\n",
        "18804  0030-0934   100969662\n",
        "18805  1364-8535     9801902\n",
        "18806  0954-0113   101092172\n",
        "18807  0249-6402     7901212\n",
        "18808  0085-5367   19940460R\n",
        "18809  1093-1783     9716901\n",
        "18810  1550-8579   101225178\n",
        "18811  0578-0160   100967120\n",
        "18812  0730-9139   101535566\n",
        "18813  0084-2559   101083633\n",
        "18814  1548-923X   101214977\n",
        "\n",
        "[18815 rows x 2 columns]"
       ]
      }
     ],
     "prompt_number": 151
    },
    {
     "cell_type": "code",
     "collapsed": false,
     "input": [],
     "language": "python",
     "metadata": {},
     "outputs": [],
     "prompt_number": 152
    },
    {
     "cell_type": "code",
     "collapsed": false,
     "input": [
      "#eigenfactors"
     ],
     "language": "python",
     "metadata": {},
     "outputs": [],
     "prompt_number": 1
    },
    {
     "cell_type": "code",
     "collapsed": false,
     "input": [
      "issnDict.keys()[1]"
     ],
     "language": "python",
     "metadata": {},
     "outputs": [
      {
       "metadata": {},
       "output_type": "pyout",
       "prompt_number": 150,
       "text": [
        "'1087-0792'"
       ]
      }
     ],
     "prompt_number": 150
    },
    {
     "cell_type": "code",
     "collapsed": false,
     "input": [
      "# x = []\n",
      "for efrow in eigenfactors:\n",
      "    nui = ''\n",
      "    if efrow['issn'].strip() in issnDict.keys():\n",
      "        nui = issnDict[efrow['issn'].strip()]\n",
      "    efrow['nlmuniqueid'] = nui\n"
     ],
     "language": "python",
     "metadata": {},
     "outputs": [],
     "prompt_number": 162
    },
    {
     "cell_type": "code",
     "collapsed": false,
     "input": [
      "eigenfactors"
     ],
     "language": "python",
     "metadata": {},
     "outputs": [
      {
       "metadata": {},
       "output_type": "pyout",
       "prompt_number": 163,
       "text": [
        "[{'AI': '20.373',\n",
        "  'EF': '1.65524',\n",
        "  'issn': '0028-0836',\n",
        "  'journal': 'NATURE',\n",
        "  'nlmuniqueid': '0410462',\n",
        "  'rank': '1'},\n",
        " {'AI': '4.8961',\n",
        "  'EF': '1.60168',\n",
        "  'issn': '0027-8424',\n",
        "  'journal': 'P NATL ACAD SCI USA',\n",
        "  'nlmuniqueid': '7505876',\n",
        "  'rank': '2'},\n",
        " {'AI': '17.5248',\n",
        "  'EF': '1.41162',\n",
        "  'issn': '0036-8075',\n",
        "  'journal': 'SCIENCE',\n",
        "  'nlmuniqueid': '0404511',\n",
        "  'rank': '3'},\n",
        " {'AI': '3.5175',\n",
        "  'EF': '1.14457',\n",
        "  'issn': '0031-9007',\n",
        "  'journal': 'PHYS REV LETT',\n",
        "  'nlmuniqueid': '0401141',\n",
        "  'rank': '4'},\n",
        " {'AI': '2.7989',\n",
        "  'EF': '0.817303',\n",
        "  'issn': '0002-7863',\n",
        "  'journal': 'J AM CHEM SOC',\n",
        "  'nlmuniqueid': '7503056',\n",
        "  'rank': '5'},\n",
        " {'AI': '1.4281',\n",
        "  'EF': '0.756039',\n",
        "  'issn': '1098-0121',\n",
        "  'journal': 'PHYS REV B',\n",
        "  'nlmuniqueid': '',\n",
        "  'rank': '6'},\n",
        " {'AI': '2.0307',\n",
        "  'EF': '0.742127',\n",
        "  'issn': '0021-9258',\n",
        "  'journal': 'J BIOL CHEM',\n",
        "  'nlmuniqueid': '2985121R',\n",
        "  'rank': '7'},\n",
        " {'AI': '1.3875',\n",
        "  'EF': '0.675752',\n",
        "  'issn': '0003-6951',\n",
        "  'journal': 'APPL PHYS LETT',\n",
        "  'nlmuniqueid': '',\n",
        "  'rank': '8'},\n",
        " {'AI': '21.304',\n",
        "  'EF': '0.66383',\n",
        "  'issn': '0028-4793',\n",
        "  'journal': 'NEW ENGL J MED',\n",
        "  'nlmuniqueid': '0255562',\n",
        "  'rank': '9'},\n",
        " {'AI': '20.554',\n",
        "  'EF': '0.660816',\n",
        "  'issn': '0092-8674',\n",
        "  'journal': 'CELL',\n",
        "  'nlmuniqueid': '0413066',\n",
        "  'rank': '10'},\n",
        " {'AI': '3.3776',\n",
        "  'EF': '0.514213',\n",
        "  'issn': '1433-7851',\n",
        "  'journal': 'ANGEW CHEM INT EDIT',\n",
        "  'nlmuniqueid': '0370543',\n",
        "  'rank': '11'},\n",
        " {'AI': '1.7984',\n",
        "  'EF': '0.501622',\n",
        "  'issn': '1932-6203',\n",
        "  'journal': 'PLOS ONE',\n",
        "  'nlmuniqueid': '101285081',\n",
        "  'rank': '12'},\n",
        " {'AI': '3.2549',\n",
        "  'EF': '0.449625',\n",
        "  'issn': '0270-6474',\n",
        "  'journal': 'J NEUROSCI',\n",
        "  'nlmuniqueid': '8102140',\n",
        "  'rank': '13'},\n",
        " {'AI': '1.8047',\n",
        "  'EF': '0.429616',\n",
        "  'issn': '0004-637X',\n",
        "  'journal': 'ASTROPHYS J',\n",
        "  'nlmuniqueid': '9890633',\n",
        "  'rank': '14'},\n",
        " {'AI': '3.692',\n",
        "  'EF': '0.427942',\n",
        "  'issn': '0006-4971',\n",
        "  'journal': 'BLOOD',\n",
        "  'nlmuniqueid': '7603509',\n",
        "  'rank': '15'},\n",
        " {'AI': '5.56',\n",
        "  'EF': '0.394631',\n",
        "  'issn': '0732-183X',\n",
        "  'journal': 'J CLIN ONCOL',\n",
        "  'nlmuniqueid': '8309333',\n",
        "  'rank': '16'},\n",
        " {'AI': '2.2661',\n",
        "  'EF': '0.369891',\n",
        "  'issn': '0022-1767',\n",
        "  'journal': 'J IMMUNOL',\n",
        "  'nlmuniqueid': '2985117R',\n",
        "  'rank': '17'},\n",
        " {'AI': '3.0995',\n",
        "  'EF': '0.362734',\n",
        "  'issn': '0008-5472',\n",
        "  'journal': 'CANCER RES',\n",
        "  'nlmuniqueid': '2984705R',\n",
        "  'rank': '18'},\n",
        " {'AI': '13.6107',\n",
        "  'EF': '0.360954',\n",
        "  'issn': '0140-6736',\n",
        "  'journal': 'LANCET',\n",
        "  'nlmuniqueid': '2985213R',\n",
        "  'rank': '19'},\n",
        " {'AI': '5.0701',\n",
        "  'EF': '0.345906',\n",
        "  'issn': '1530-6984',\n",
        "  'journal': 'NANO LETT',\n",
        "  'nlmuniqueid': '101088070',\n",
        "  'rank': '20'},\n",
        " {'AI': '5.9733',\n",
        "  'EF': '0.339278',\n",
        "  'issn': '0009-7322',\n",
        "  'journal': 'CIRCULATION',\n",
        "  'nlmuniqueid': '0147763',\n",
        "  'rank': '21'},\n",
        " {'AI': '1.4057',\n",
        "  'EF': '0.332456',\n",
        "  'issn': '0148-0227',\n",
        "  'journal': 'J GEOPHYS RES',\n",
        "  'nlmuniqueid': '100971480',\n",
        "  'rank': '22'},\n",
        " {'AI': '17.5835',\n",
        "  'EF': '0.329901',\n",
        "  'issn': '1061-4036',\n",
        "  'journal': 'NAT GENET',\n",
        "  'nlmuniqueid': '9216904',\n",
        "  'rank': '23'},\n",
        " {'AI': '3.0072',\n",
        "  'EF': '0.304882',\n",
        "  'issn': '0305-1048',\n",
        "  'journal': 'NUCLEIC ACIDS RES',\n",
        "  'nlmuniqueid': '0411011',\n",
        "  'rank': '24'},\n",
        " {'AI': '0.8355',\n",
        "  'EF': '0.301562',\n",
        "  'issn': '0021-8979',\n",
        "  'journal': 'J APPL PHYS',\n",
        "  'nlmuniqueid': '2985119R',\n",
        "  'rank': '25'},\n",
        " {'AI': '1.2451',\n",
        "  'EF': '0.300804',\n",
        "  'issn': '1550-7998',\n",
        "  'journal': 'PHYS REV D',\n",
        "  'nlmuniqueid': '',\n",
        "  'rank': '26'},\n",
        " {'AI': '13.111',\n",
        "  'EF': '0.285664',\n",
        "  'issn': '0098-7484',\n",
        "  'journal': 'JAMA-J AM MED ASSOC',\n",
        "  'nlmuniqueid': '7501160',\n",
        "  'rank': '27'},\n",
        " {'AI': '1.3421',\n",
        "  'EF': '0.284716',\n",
        "  'issn': '1932-7447',\n",
        "  'journal': 'J PHYS CHEM C',\n",
        "  'nlmuniqueid': '',\n",
        "  'rank': '28'},\n",
        " {'AI': '4.0706',\n",
        "  'EF': '0.262413',\n",
        "  'issn': '0935-9648',\n",
        "  'journal': 'ADV MATER',\n",
        "  'nlmuniqueid': '9885358',\n",
        "  'rank': '29'},\n",
        " {'AI': '1.4742',\n",
        "  'EF': '0.254252',\n",
        "  'issn': '0004-6361',\n",
        "  'journal': 'ASTRON ASTROPHYS',\n",
        "  'nlmuniqueid': '100971304',\n",
        "  'rank': '30'},\n",
        " {'AI': '8.9479',\n",
        "  'EF': '0.250753',\n",
        "  'issn': '1097-2765',\n",
        "  'journal': 'MOL CELL',\n",
        "  'nlmuniqueid': '9802571',\n",
        "  'rank': '31'},\n",
        " {'AI': '1.6034',\n",
        "  'EF': '0.248839',\n",
        "  'issn': '0035-8711',\n",
        "  'journal': 'MON NOT R ASTRON SOC',\n",
        "  'nlmuniqueid': '100954591',\n",
        "  'rank': '32'},\n",
        " {'AI': '1.1608',\n",
        "  'EF': '0.246515',\n",
        "  'issn': '1520-6106',\n",
        "  'journal': 'J PHYS CHEM B',\n",
        "  'nlmuniqueid': '',\n",
        "  'rank': '33'},\n",
        " {'AI': '1.5516',\n",
        "  'EF': '0.241003',\n",
        "  'issn': '1359-7345',\n",
        "  'journal': 'CHEM COMMUN',\n",
        "  'nlmuniqueid': '9610838',\n",
        "  'rank': '34'},\n",
        " {'AI': '1.1685',\n",
        "  'EF': '0.240848',\n",
        "  'issn': '1094-4087',\n",
        "  'journal': 'OPT EXPRESS',\n",
        "  'nlmuniqueid': '101137103',\n",
        "  'rank': '35'},\n",
        " {'AI': '1.9391',\n",
        "  'EF': '0.23991',\n",
        "  'issn': '0094-8276',\n",
        "  'journal': 'GEOPHYS RES LETT',\n",
        "  'nlmuniqueid': '9882887',\n",
        "  'rank': '36'},\n",
        " {'AI': '0.9931',\n",
        "  'EF': '0.232653',\n",
        "  'issn': '0021-9606',\n",
        "  'journal': 'J CHEM PHYS',\n",
        "  'nlmuniqueid': '0375360',\n",
        "  'rank': '37'},\n",
        " {'AI': '8.5079',\n",
        "  'EF': '0.227501',\n",
        "  'issn': '0896-6273',\n",
        "  'journal': 'NEURON',\n",
        "  'nlmuniqueid': '8809320',\n",
        "  'rank': '38'},\n",
        " {'AI': '1.1824',\n",
        "  'EF': '0.22322',\n",
        "  'issn': '0743-7463',\n",
        "  'journal': 'LANGMUIR',\n",
        "  'nlmuniqueid': '9882736',\n",
        "  'rank': '39'},\n",
        " {'AI': '17.9245',\n",
        "  'EF': '0.220911',\n",
        "  'issn': '1476-1122',\n",
        "  'journal': 'NAT MATER',\n",
        "  'nlmuniqueid': '101155473',\n",
        "  'rank': '40'},\n",
        " {'AI': '4.884',\n",
        "  'EF': '0.22035',\n",
        "  'issn': '0735-1097',\n",
        "  'journal': 'J AM COLL CARDIOL',\n",
        "  'nlmuniqueid': '8301365',\n",
        "  'rank': '41'},\n",
        " {'AI': '0.9797',\n",
        "  'EF': '0.219831',\n",
        "  'issn': '1050-2947',\n",
        "  'journal': 'PHYS REV A',\n",
        "  'nlmuniqueid': '9887339',\n",
        "  'rank': '42'},\n",
        " {'AI': '6.9507',\n",
        "  'EF': '0.218367',\n",
        "  'issn': '0021-9738',\n",
        "  'journal': 'J CLIN INVEST',\n",
        "  'nlmuniqueid': '7802877',\n",
        "  'rank': '43'},\n",
        " {'AI': '13.3332',\n",
        "  'EF': '0.214699',\n",
        "  'issn': '0009-2665',\n",
        "  'journal': 'CHEM REV',\n",
        "  'nlmuniqueid': '2985134R',\n",
        "  'rank': '44'},\n",
        " {'AI': '8.0181',\n",
        "  'EF': '0.209552',\n",
        "  'issn': '0890-9369',\n",
        "  'journal': 'GENE DEV',\n",
        "  'nlmuniqueid': '8711660',\n",
        "  'rank': '45'},\n",
        " {'AI': '2.538',\n",
        "  'EF': '0.20597',\n",
        "  'issn': '1078-0432',\n",
        "  'journal': 'CLIN CANCER RES',\n",
        "  'nlmuniqueid': '9502500',\n",
        "  'rank': '46'},\n",
        " {'AI': '0.958',\n",
        "  'EF': '0.205905',\n",
        "  'issn': '1539-3755',\n",
        "  'journal': 'PHYS REV E',\n",
        "  'nlmuniqueid': '101136452',\n",
        "  'rank': '47'},\n",
        " {'AI': '1.5928',\n",
        "  'EF': '0.190607',\n",
        "  'issn': '0022-538X',\n",
        "  'journal': 'J VIROL',\n",
        "  'nlmuniqueid': '0113724',\n",
        "  'rank': '48'},\n",
        " {'AI': '1.6039',\n",
        "  'EF': '0.189289',\n",
        "  'issn': '0013-936X',\n",
        "  'journal': 'ENVIRON SCI TECHNOL',\n",
        "  'nlmuniqueid': '0213155',\n",
        "  'rank': '49'},\n",
        " {'AI': '7.8344',\n",
        "  'EF': '0.188512',\n",
        "  'issn': '0022-1007',\n",
        "  'journal': 'J EXP MED',\n",
        "  'nlmuniqueid': '2985109R',\n",
        "  'rank': '50'},\n",
        " {'AI': '1.4158',\n",
        "  'EF': '0.187963',\n",
        "  'issn': '1523-7060',\n",
        "  'journal': 'ORG LETT',\n",
        "  'nlmuniqueid': '',\n",
        "  'rank': '51'},\n",
        " {'AI': '5.5788',\n",
        "  'EF': '0.186318',\n",
        "  'issn': '0021-9525',\n",
        "  'journal': 'J CELL BIOL',\n",
        "  'nlmuniqueid': '0375356',\n",
        "  'rank': '52'},\n",
        " {'AI': '5.8882',\n",
        "  'EF': '0.186069',\n",
        "  'issn': '0960-9822',\n",
        "  'journal': 'CURR BIOL',\n",
        "  'nlmuniqueid': '9107782',\n",
        "  'rank': '53'},\n",
        " {'AI': '1.5531',\n",
        "  'EF': '0.17583',\n",
        "  'issn': '0003-2700',\n",
        "  'journal': 'ANAL CHEM',\n",
        "  'nlmuniqueid': '0370536',\n",
        "  'rank': '54'},\n",
        " {'AI': '23.8609',\n",
        "  'EF': '0.17417',\n",
        "  'issn': '1471-0072',\n",
        "  'journal': 'NAT REV MOL CELL BIO',\n",
        "  'nlmuniqueid': '100962782',\n",
        "  'rank': '55'},\n",
        " {'AI': '3.0188',\n",
        "  'EF': '0.173844',\n",
        "  'issn': '0270-7306',\n",
        "  'journal': 'MOL CELL BIOL',\n",
        "  'nlmuniqueid': '8109087',\n",
        "  'rank': '56'},\n",
        " {'AI': '4.8671',\n",
        "  'EF': '0.173348',\n",
        "  'issn': '0261-4189',\n",
        "  'journal': 'EMBO J',\n",
        "  'nlmuniqueid': '8208664',\n",
        "  'rank': '57'},\n",
        " {'AI': '13.6075',\n",
        "  'EF': '0.172449',\n",
        "  'issn': '1745-2473',\n",
        "  'journal': 'NAT PHYS',\n",
        "  'nlmuniqueid': '',\n",
        "  'rank': '58'},\n",
        " {'AI': '2.8204',\n",
        "  'EF': '0.171682',\n",
        "  'issn': '0950-9232',\n",
        "  'journal': 'ONCOGENE',\n",
        "  'nlmuniqueid': '8711562',\n",
        "  'rank': '59'},\n",
        " {'AI': '1.5319',\n",
        "  'EF': '0.169081',\n",
        "  'issn': '0947-6539',\n",
        "  'journal': 'CHEM-EUR J',\n",
        "  'nlmuniqueid': '9513783',\n",
        "  'rank': '60'},\n",
        " {'AI': '1.459',\n",
        "  'EF': '0.167126',\n",
        "  'issn': '1126-6708',\n",
        "  'journal': 'J HIGH ENERGY PHYS',\n",
        "  'nlmuniqueid': '',\n",
        "  'rank': '61'},\n",
        " {'AI': '12.1561',\n",
        "  'EF': '0.165425',\n",
        "  'issn': '1078-8956',\n",
        "  'journal': 'NAT MED',\n",
        "  'nlmuniqueid': '9502015',\n",
        "  'rank': '62'},\n",
        " {'AI': '13.4347',\n",
        "  'EF': '0.163359',\n",
        "  'issn': '1529-2908',\n",
        "  'journal': 'NAT IMMUNOL',\n",
        "  'nlmuniqueid': '100941354',\n",
        "  'rank': '63'},\n",
        " {'AI': '1.8228',\n",
        "  'EF': '0.161968',\n",
        "  'issn': '0022-2836',\n",
        "  'journal': 'J MOL BIOL',\n",
        "  'nlmuniqueid': '2985088R',\n",
        "  'rank': '64'},\n",
        " {'AI': '1.2683',\n",
        "  'EF': '0.161774',\n",
        "  'issn': '0006-2960',\n",
        "  'journal': 'BIOCHEMISTRY-US',\n",
        "  'nlmuniqueid': '0370623',\n",
        "  'rank': '65'},\n",
        " {'AI': '0.826',\n",
        "  'EF': '0.160561',\n",
        "  'issn': '0006-291X',\n",
        "  'journal': 'BIOCHEM BIOPH RES CO',\n",
        "  'nlmuniqueid': '0372516',\n",
        "  'rank': '66'},\n",
        " {'AI': '8.6177',\n",
        "  'EF': '0.159631',\n",
        "  'issn': '1097-6256',\n",
        "  'journal': 'NAT NEUROSCI',\n",
        "  'nlmuniqueid': '9809671',\n",
        "  'rank': '67'},\n",
        " {'AI': '2.6073',\n",
        "  'EF': '0.159043',\n",
        "  'issn': '1367-4803',\n",
        "  'journal': 'BIOINFORMATICS',\n",
        "  'nlmuniqueid': '9808944',\n",
        "  'rank': '68'},\n",
        " {'AI': '11.6513',\n",
        "  'EF': '0.158769',\n",
        "  'issn': '1465-7392',\n",
        "  'journal': 'NAT CELL BIOL',\n",
        "  'nlmuniqueid': '100890575',\n",
        "  'rank': '69'},\n",
        " {'AI': '1.9154',\n",
        "  'EF': '0.158362',\n",
        "  'issn': '0897-4756',\n",
        "  'journal': 'CHEM MATER',\n",
        "  'nlmuniqueid': '9884133',\n",
        "  'rank': '70'},\n",
        " {'AI': '4.0273',\n",
        "  'EF': '0.157326',\n",
        "  'issn': '2041-8205',\n",
        "  'journal': 'ASTROPHYS J LETT',\n",
        "  'nlmuniqueid': '',\n",
        "  'rank': '71'},\n",
        " {'AI': '11.9807',\n",
        "  'EF': '0.157105',\n",
        "  'issn': '1074-7613',\n",
        "  'journal': 'IMMUNITY',\n",
        "  'nlmuniqueid': '9432918',\n",
        "  'rank': '72'},\n",
        " {'AI': '4.5144',\n",
        "  'EF': '0.1564',\n",
        "  'issn': '0016-5085',\n",
        "  'journal': 'GASTROENTEROLOGY',\n",
        "  'nlmuniqueid': '0374630',\n",
        "  'rank': '73'},\n",
        " {'AI': '5.1071',\n",
        "  'EF': '0.154264',\n",
        "  'issn': '1553-7390',\n",
        "  'journal': 'PLOS GENET',\n",
        "  'nlmuniqueid': '101239074',\n",
        "  'rank': '74'},\n",
        " {'AI': '2.1619',\n",
        "  'EF': '0.153561',\n",
        "  'issn': '1053-8119',\n",
        "  'journal': 'NEUROIMAGE',\n",
        "  'nlmuniqueid': '9215515',\n",
        "  'rank': '75'},\n",
        " {'AI': '1.2404',\n",
        "  'EF': '0.149937',\n",
        "  'issn': '0024-9297',\n",
        "  'journal': 'MACROMOLECULES',\n",
        "  'nlmuniqueid': '0365316',\n",
        "  'rank': '76'},\n",
        " {'AI': '7.8352',\n",
        "  'EF': '0.149589',\n",
        "  'issn': '1544-9173',\n",
        "  'journal': 'PLOS BIOL',\n",
        "  'nlmuniqueid': '101183755',\n",
        "  'rank': '77'},\n",
        " {'AI': '5.4044',\n",
        "  'EF': '0.144018',\n",
        "  'issn': '0959-535X',\n",
        "  'journal': 'BRIT MED J',\n",
        "  'nlmuniqueid': '8900488',\n",
        "  'rank': '78'},\n",
        " {'AI': '2.6719',\n",
        "  'EF': '0.143825',\n",
        "  'issn': '0028-3878',\n",
        "  'journal': 'NEUROLOGY',\n",
        "  'nlmuniqueid': '0401060',\n",
        "  'rank': '79'},\n",
        " {'AI': '2.0296',\n",
        "  'EF': '0.142864',\n",
        "  'issn': '0031-4005',\n",
        "  'journal': 'PEDIATRICS',\n",
        "  'nlmuniqueid': '0376422',\n",
        "  'rank': '80'},\n",
        " {'AI': '1.2359',\n",
        "  'EF': '0.13861',\n",
        "  'issn': '0957-4484',\n",
        "  'journal': 'NANOTECHNOLOGY',\n",
        "  'nlmuniqueid': '101241272',\n",
        "  'rank': '81'},\n",
        " {'AI': '3.6755',\n",
        "  'EF': '0.138526',\n",
        "  'issn': '0950-1991',\n",
        "  'journal': 'DEVELOPMENT',\n",
        "  'nlmuniqueid': '8701744',\n",
        "  'rank': '82'},\n",
        " {'AI': '1.0569',\n",
        "  'EF': '0.138461',\n",
        "  'issn': '0022-3263',\n",
        "  'journal': 'J ORG CHEM',\n",
        "  'nlmuniqueid': '2985193R',\n",
        "  'rank': '83'},\n",
        " {'AI': '8.0889',\n",
        "  'EF': '0.136779',\n",
        "  'issn': '0306-0012',\n",
        "  'journal': 'CHEM SOC REV',\n",
        "  'nlmuniqueid': '0335405',\n",
        "  'rank': '84'},\n",
        " {'AI': '1.0117',\n",
        "  'EF': '0.135787',\n",
        "  'issn': '0953-8984',\n",
        "  'journal': 'J PHYS-CONDENS MAT',\n",
        "  'nlmuniqueid': '101165248',\n",
        "  'rank': '85'},\n",
        " {'AI': '1.65',\n",
        "  'EF': '0.135179',\n",
        "  'issn': '0006-3495',\n",
        "  'journal': 'BIOPHYS J',\n",
        "  'nlmuniqueid': '0370626',\n",
        "  'rank': '86'},\n",
        " {'AI': '3.1215',\n",
        "  'EF': '0.13396',\n",
        "  'issn': '1058-4838',\n",
        "  'journal': 'CLIN INFECT DIS',\n",
        "  'nlmuniqueid': '9203213',\n",
        "  'rank': '87'},\n",
        " {'AI': '2.0313',\n",
        "  'EF': '0.130653',\n",
        "  'issn': '0142-9612',\n",
        "  'journal': 'BIOMATERIALS',\n",
        "  'nlmuniqueid': '8100316',\n",
        "  'rank': '88'},\n",
        " {'AI': '12.9481',\n",
        "  'EF': '0.129421',\n",
        "  'issn': '1087-0156',\n",
        "  'journal': 'NAT BIOTECHNOL',\n",
        "  'nlmuniqueid': '9604648',\n",
        "  'rank': '89'},\n",
        " {'AI': '14.8852',\n",
        "  'EF': '0.128581',\n",
        "  'issn': '1748-3387',\n",
        "  'journal': 'NAT NANOTECHNOL',\n",
        "  'nlmuniqueid': '101283273',\n",
        "  'rank': '90'},\n",
        " {'AI': '2.0026',\n",
        "  'EF': '0.128177',\n",
        "  'issn': '0021-972X',\n",
        "  'journal': 'J CLIN ENDOCR METAB',\n",
        "  'nlmuniqueid': '0375362',\n",
        "  'rank': '91'},\n",
        " {'AI': '1.3397',\n",
        "  'EF': '0.127691',\n",
        "  'issn': '0099-2240',\n",
        "  'journal': 'APPL ENVIRON MICROB',\n",
        "  'nlmuniqueid': '7605801',\n",
        "  'rank': '92'},\n",
        " {'AI': '0.9658',\n",
        "  'EF': '0.127591',\n",
        "  'issn': '0020-1669',\n",
        "  'journal': 'INORG CHEM',\n",
        "  'nlmuniqueid': '0366543',\n",
        "  'rank': '93'},\n",
        " {'AI': '1.1677',\n",
        "  'EF': '0.127083',\n",
        "  'issn': '0146-9592',\n",
        "  'journal': 'OPT LETT',\n",
        "  'nlmuniqueid': '7708433',\n",
        "  'rank': '94'},\n",
        " {'AI': '7.1545',\n",
        "  'EF': '0.127016',\n",
        "  'issn': '1088-9051',\n",
        "  'journal': 'GENOME RES',\n",
        "  'nlmuniqueid': '9518021',\n",
        "  'rank': '95'},\n",
        " {'AI': '1.5754',\n",
        "  'EF': '0.12641',\n",
        "  'issn': '0959-9428',\n",
        "  'journal': 'J MATER CHEM',\n",
        "  'nlmuniqueid': '',\n",
        "  'rank': '96'},\n",
        " {'AI': '17.9489',\n",
        "  'EF': '0.126078',\n",
        "  'issn': '1474-175X',\n",
        "  'journal': 'NAT REV CANCER',\n",
        "  'nlmuniqueid': '101124168',\n",
        "  'rank': '97'},\n",
        " {'AI': '11.1473',\n",
        "  'EF': '0.125119',\n",
        "  'issn': '1548-7091',\n",
        "  'journal': 'NAT METHODS',\n",
        "  'nlmuniqueid': '101215604',\n",
        "  'rank': '98'},\n",
        " {'AI': '1.0915',\n",
        "  'EF': '0.124798',\n",
        "  'issn': '0378-7753',\n",
        "  'journal': 'J POWER SOURCES',\n",
        "  'nlmuniqueid': '',\n",
        "  'rank': '99'},\n",
        " {'AI': '0.8113',\n",
        "  'EF': '0.124653',\n",
        "  'issn': '1089-5639',\n",
        "  'journal': 'J PHYS CHEM A',\n",
        "  'nlmuniqueid': '9890903',\n",
        "  'rank': '100'},\n",
        " {'AI': '7.7091',\n",
        "  'EF': '0.122864',\n",
        "  'issn': '1545-9985',\n",
        "  'journal': 'NAT STRUCT MOL BIOL',\n",
        "  'nlmuniqueid': '101186374',\n",
        "  'rank': '101'},\n",
        " {'AI': '2.18',\n",
        "  'EF': '0.121703',\n",
        "  'issn': '1469-493X',\n",
        "  'journal': 'COCHRANE DB SYST REV',\n",
        "  'nlmuniqueid': '',\n",
        "  'rank': '102'},\n",
        " {'AI': '16.9613',\n",
        "  'EF': '0.121318',\n",
        "  'issn': '1471-0056',\n",
        "  'journal': 'NAT REV GENET',\n",
        "  'nlmuniqueid': '100962779',\n",
        "  'rank': '103'},\n",
        " {'AI': '3.0116',\n",
        "  'EF': '0.12096',\n",
        "  'issn': '0021-9533',\n",
        "  'journal': 'J CELL SCI',\n",
        "  'nlmuniqueid': '0052457',\n",
        "  'rank': '104'},\n",
        " {'AI': '3.7668',\n",
        "  'EF': '0.120827',\n",
        "  'issn': '1936-0851',\n",
        "  'journal': 'ACS NANO',\n",
        "  'nlmuniqueid': '101313589',\n",
        "  'rank': '105'},\n",
        " {'AI': '7.9118',\n",
        "  'EF': '0.12029',\n",
        "  'issn': '0003-4819',\n",
        "  'journal': 'ANN INTERN MED',\n",
        "  'nlmuniqueid': '0372351',\n",
        "  'rank': '106'},\n",
        " {'AI': '3.5216',\n",
        "  'EF': '0.120261',\n",
        "  'issn': '0270-9139',\n",
        "  'journal': 'HEPATOLOGY',\n",
        "  'nlmuniqueid': '8302946',\n",
        "  'rank': '107'},\n",
        " {'AI': '16.8203',\n",
        "  'EF': '0.119692',\n",
        "  'issn': '1474-1733',\n",
        "  'journal': 'NAT REV IMMUNOL',\n",
        "  'nlmuniqueid': '101124169',\n",
        "  'rank': '108'},\n",
        " {'AI': '2.1006',\n",
        "  'EF': '0.118812',\n",
        "  'issn': '1367-2630',\n",
        "  'journal': 'NEW J PHYS',\n",
        "  'nlmuniqueid': '',\n",
        "  'rank': '109'},\n",
        " {'AI': '8.9284',\n",
        "  'EF': '0.11839',\n",
        "  'issn': '1534-5807',\n",
        "  'journal': 'DEV CELL',\n",
        "  'nlmuniqueid': '101120028',\n",
        "  'rank': '110'},\n",
        " {'AI': '1.4405',\n",
        "  'EF': '0.117987',\n",
        "  'issn': '0370-2693',\n",
        "  'journal': 'PHYS LETT B',\n",
        "  'nlmuniqueid': '8407789',\n",
        "  'rank': '111'},\n",
        " {'AI': '0.92',\n",
        "  'EF': '0.117708',\n",
        "  'issn': '0304-3894',\n",
        "  'journal': 'J HAZARD MATER',\n",
        "  'nlmuniqueid': '9422688',\n",
        "  'rank': '112'},\n",
        " {'AI': '28.9002',\n",
        "  'EF': '0.116607',\n",
        "  'issn': '0034-6861',\n",
        "  'journal': 'REV MOD PHYS',\n",
        "  'nlmuniqueid': '',\n",
        "  'rank': '113'},\n",
        " {'AI': '2.3586',\n",
        "  'EF': '0.115582',\n",
        "  'issn': '0012-821X',\n",
        "  'journal': 'EARTH PLANET SC LETT',\n",
        "  'nlmuniqueid': '100971345',\n",
        "  'rank': '114'},\n",
        " {'AI': '3.1597',\n",
        "  'EF': '0.115143',\n",
        "  'issn': '0964-6906',\n",
        "  'journal': 'HUM MOL GENET',\n",
        "  'nlmuniqueid': '9208958',\n",
        "  'rank': '115'},\n",
        " {'AI': '15.267',\n",
        "  'EF': '0.11452',\n",
        "  'issn': '1535-6108',\n",
        "  'journal': 'CANCER CELL',\n",
        "  'nlmuniqueid': '101130617',\n",
        "  'rank': '116'},\n",
        " {'AI': '2.4453',\n",
        "  'EF': '0.114226',\n",
        "  'issn': '0149-5992',\n",
        "  'journal': 'DIABETES CARE',\n",
        "  'nlmuniqueid': '7805975',\n",
        "  'rank': '117'},\n",
        " {'AI': '4.0857',\n",
        "  'EF': '0.113822',\n",
        "  'issn': '1553-7366',\n",
        "  'journal': 'PLOS PATHOG',\n",
        "  'nlmuniqueid': '101238921',\n",
        "  'rank': '118'},\n",
        " {'AI': '1.9259',\n",
        "  'EF': '0.113171',\n",
        "  'issn': '0008-543X',\n",
        "  'journal': 'CANCER-AM CANCER SOC',\n",
        "  'nlmuniqueid': '0374236',\n",
        "  'rank': '119'},\n",
        " {'AI': '2.7215',\n",
        "  'EF': '0.11315',\n",
        "  'issn': '1059-1524',\n",
        "  'journal': 'MOL BIOL CELL',\n",
        "  'nlmuniqueid': '9201390',\n",
        "  'rank': '120'},\n",
        " {'AI': '2.9455',\n",
        "  'EF': '0.112686',\n",
        "  'issn': '1616-301X',\n",
        "  'journal': 'ADV FUNCT MATER',\n",
        "  'nlmuniqueid': '',\n",
        "  'rank': '121'},\n",
        " {'AI': '1.6737',\n",
        "  'EF': '0.112347',\n",
        "  'issn': '0020-7136',\n",
        "  'journal': 'INT J CANCER',\n",
        "  'nlmuniqueid': '0042124',\n",
        "  'rank': '122'},\n",
        " {'AI': '1.2429',\n",
        "  'EF': '0.111607',\n",
        "  'issn': '1463-9076',\n",
        "  'journal': 'PHYS CHEM CHEM PHYS',\n",
        "  'nlmuniqueid': '100888160',\n",
        "  'rank': '123'},\n",
        " {'AI': '1.3583',\n",
        "  'EF': '0.111406',\n",
        "  'issn': '0021-9193',\n",
        "  'journal': 'J BACTERIOL',\n",
        "  'nlmuniqueid': '2985120R',\n",
        "  'rank': '124'},\n",
        " {'AI': '3.8922',\n",
        "  'EF': '0.111143',\n",
        "  'issn': '0195-668X',\n",
        "  'journal': 'EUR HEART J',\n",
        "  'nlmuniqueid': '8006263',\n",
        "  'rank': '125'},\n",
        " {'AI': '3.889',\n",
        "  'EF': '0.108841',\n",
        "  'issn': '0009-7330',\n",
        "  'journal': 'CIRC RES',\n",
        "  'nlmuniqueid': '0047103',\n",
        "  'rank': '126'},\n",
        " {'AI': '4.7602',\n",
        "  'EF': '0.107643',\n",
        "  'issn': '0003-9926',\n",
        "  'journal': 'ARCH INTERN MED',\n",
        "  'nlmuniqueid': '0372440',\n",
        "  'rank': '127'},\n",
        " {'AI': '4.4296',\n",
        "  'EF': '0.107156',\n",
        "  'issn': '1754-2189',\n",
        "  'journal': 'NAT PROTOC',\n",
        "  'nlmuniqueid': '',\n",
        "  'rank': '128'},\n",
        " {'AI': '5.8665',\n",
        "  'EF': '0.10684',\n",
        "  'issn': '0002-9297',\n",
        "  'journal': 'AM J HUM GENET',\n",
        "  'nlmuniqueid': '0370475',\n",
        "  'rank': '129'},\n",
        " {'AI': '0.7237',\n",
        "  'EF': '0.106422',\n",
        "  'issn': '0021-8561',\n",
        "  'journal': 'J AGR FOOD CHEM',\n",
        "  'nlmuniqueid': '0374755',\n",
        "  'rank': '130'},\n",
        " {'AI': '16.1169',\n",
        "  'EF': '0.106116',\n",
        "  'issn': '1471-0048',\n",
        "  'journal': 'NAT REV NEUROSCI',\n",
        "  'nlmuniqueid': '',\n",
        "  'rank': '131'},\n",
        " {'AI': '2.1811',\n",
        "  'EF': '0.105964',\n",
        "  'issn': '0039-2499',\n",
        "  'journal': 'STROKE',\n",
        "  'nlmuniqueid': '0235266',\n",
        "  'rank': '132'},\n",
        " {'AI': '2.9186',\n",
        "  'EF': '0.104165',\n",
        "  'issn': '0012-1797',\n",
        "  'journal': 'DIABETES',\n",
        "  'nlmuniqueid': '0372763',\n",
        "  'rank': '133'},\n",
        " {'AI': '3.7005',\n",
        "  'EF': '0.102819',\n",
        "  'issn': '1073-449X',\n",
        "  'journal': 'AM J RESP CRIT CARE',\n",
        "  'nlmuniqueid': '9421642',\n",
        "  'rank': '134'},\n",
        " {'AI': '2.2874',\n",
        "  'EF': '0.102739',\n",
        "  'issn': '0022-1899',\n",
        "  'journal': 'J INFECT DIS',\n",
        "  'nlmuniqueid': '0413675',\n",
        "  'rank': '135'},\n",
        " {'AI': '1.0438',\n",
        "  'EF': '0.101273',\n",
        "  'issn': '0077-8923',\n",
        "  'journal': 'ANN NY ACAD SCI',\n",
        "  'nlmuniqueid': '7506858',\n",
        "  'rank': '136'},\n",
        " {'AI': '7.2991',\n",
        "  'EF': '0.101202',\n",
        "  'issn': '0001-4842',\n",
        "  'journal': 'ACCOUNTS CHEM RES',\n",
        "  'nlmuniqueid': '0157313',\n",
        "  'rank': '137'},\n",
        " {'AI': '15.9807',\n",
        "  'EF': '0.100822',\n",
        "  'issn': '1934-5909',\n",
        "  'journal': 'CELL STEM CELL',\n",
        "  'nlmuniqueid': '',\n",
        "  'rank': '138'},\n",
        " {'AI': '5.6739',\n",
        "  'EF': '0.100417',\n",
        "  'issn': '0002-8282',\n",
        "  'journal': 'AM ECON REV',\n",
        "  'nlmuniqueid': '14810500R',\n",
        "  'rank': '139'},\n",
        " {'AI': '3.9141',\n",
        "  'EF': '0.099638',\n",
        "  'issn': '0006-8950',\n",
        "  'journal': 'BRAIN',\n",
        "  'nlmuniqueid': '0372537',\n",
        "  'rank': '140'},\n",
        " {'AI': '0.5754',\n",
        "  'EF': '0.099061',\n",
        "  'issn': '0040-4039',\n",
        "  'journal': 'TETRAHEDRON LETT',\n",
        "  'nlmuniqueid': '2984819R',\n",
        "  'rank': '141'},\n",
        " {'AI': '2.2191',\n",
        "  'EF': '0.098774',\n",
        "  'issn': '0032-0889',\n",
        "  'journal': 'PLANT PHYSIOL',\n",
        "  'nlmuniqueid': '0401224',\n",
        "  'rank': '142'},\n",
        " {'AI': '0.9234',\n",
        "  'EF': '0.098694',\n",
        "  'issn': '0021-9673',\n",
        "  'journal': 'J CHROMATOGR A',\n",
        "  'nlmuniqueid': '0427043',\n",
        "  'rank': '143'},\n",
        " {'AI': '2.6477',\n",
        "  'EF': '0.098672',\n",
        "  'issn': '0004-3591',\n",
        "  'journal': 'ARTHRITIS RHEUM-US',\n",
        "  'nlmuniqueid': '0370605',\n",
        "  'rank': '144'},\n",
        " {'AI': '0.5086',\n",
        "  'EF': '0.097443',\n",
        "  'issn': '0925-8388',\n",
        "  'journal': 'J ALLOY COMPD',\n",
        "  'nlmuniqueid': '',\n",
        "  'rank': '145'},\n",
        " {'AI': '2.0462',\n",
        "  'EF': '0.096522',\n",
        "  'issn': '0012-1606',\n",
        "  'journal': 'DEV BIOL',\n",
        "  'nlmuniqueid': '0372762',\n",
        "  'rank': '146'},\n",
        " {'AI': '1.7094',\n",
        "  'EF': '0.096404',\n",
        "  'issn': '1359-6454',\n",
        "  'journal': 'ACTA MATER',\n",
        "  'nlmuniqueid': '',\n",
        "  'rank': '147'},\n",
        " {'AI': '1.3024',\n",
        "  'EF': '0.096358',\n",
        "  'issn': '0022-2623',\n",
        "  'journal': 'J MED CHEM',\n",
        "  'nlmuniqueid': '9716531',\n",
        "  'rank': '148'},\n",
        " {'AI': '2.4542',\n",
        "  'EF': '0.096142',\n",
        "  'issn': '0962-8452',\n",
        "  'journal': 'P ROY SOC B-BIOL SCI',\n",
        "  'nlmuniqueid': '101245157',\n",
        "  'rank': '149'},\n",
        " {'AI': '1.4041',\n",
        "  'EF': '0.095745',\n",
        "  'issn': '0066-4804',\n",
        "  'journal': 'ANTIMICROB AGENTS CH',\n",
        "  'nlmuniqueid': '0315061',\n",
        "  'rank': '150'},\n",
        " {'AI': '1.2879',\n",
        "  'EF': '0.095329',\n",
        "  'issn': '0014-5793',\n",
        "  'journal': 'FEBS LETT',\n",
        "  'nlmuniqueid': '0155157',\n",
        "  'rank': '151'},\n",
        " {'AI': '3.191',\n",
        "  'EF': '0.093872',\n",
        "  'issn': '0006-3223',\n",
        "  'journal': 'BIOL PSYCHIAT',\n",
        "  'nlmuniqueid': '0213264',\n",
        "  'rank': '152'},\n",
        " {'AI': '2.3797',\n",
        "  'EF': '0.093835',\n",
        "  'issn': '0002-9165',\n",
        "  'journal': 'AM J CLIN NUTR',\n",
        "  'nlmuniqueid': '0376027',\n",
        "  'rank': '153'},\n",
        " {'AI': '16.1296',\n",
        "  'EF': '0.093775',\n",
        "  'issn': '1749-4885',\n",
        "  'journal': 'NAT PHOTONICS',\n",
        "  'nlmuniqueid': '',\n",
        "  'rank': '154'},\n",
        " {'AI': '0.9835',\n",
        "  'EF': '0.093653',\n",
        "  'issn': '0013-4686',\n",
        "  'journal': 'ELECTROCHIM ACTA',\n",
        "  'nlmuniqueid': '9875994',\n",
        "  'rank': '155'},\n",
        " {'AI': '0.8518',\n",
        "  'EF': '0.093562',\n",
        "  'issn': '0006-8993',\n",
        "  'journal': 'BRAIN RES',\n",
        "  'nlmuniqueid': '0045503',\n",
        "  'rank': '156'},\n",
        " {'AI': '0.7263',\n",
        "  'EF': '0.092169',\n",
        "  'issn': '0921-5093',\n",
        "  'journal': 'MAT SCI ENG A-STRUCT',\n",
        "  'nlmuniqueid': '',\n",
        "  'rank': '157'},\n",
        " {'AI': '3.8385',\n",
        "  'EF': '0.092012',\n",
        "  'issn': '0737-4038',\n",
        "  'journal': 'MOL BIOL EVOL',\n",
        "  'nlmuniqueid': '8501455',\n",
        "  'rank': '158'},\n",
        " {'AI': '1.1452',\n",
        "  'EF': '0.091758',\n",
        "  'issn': '0306-4522',\n",
        "  'journal': 'NEUROSCIENCE',\n",
        "  'nlmuniqueid': '7605074',\n",
        "  'rank': '159'},\n",
        " {'AI': '0.9713',\n",
        "  'EF': '0.091174',\n",
        "  'issn': '0264-410X',\n",
        "  'journal': 'VACCINE',\n",
        "  'nlmuniqueid': '8406899',\n",
        "  'rank': '160'},\n",
        " {'AI': '0.9003',\n",
        "  'EF': '0.090999',\n",
        "  'issn': '0022-3727',\n",
        "  'journal': 'J PHYS D APPL PHYS',\n",
        "  'nlmuniqueid': '1256300',\n",
        "  'rank': '161'},\n",
        " {'AI': '1.5634',\n",
        "  'EF': '0.09069',\n",
        "  'issn': '0022-3077',\n",
        "  'journal': 'J NEUROPHYSIOL',\n",
        "  'nlmuniqueid': '0375404',\n",
        "  'rank': '162'},\n",
        " {'AI': '2.1564',\n",
        "  'EF': '0.090568',\n",
        "  'issn': '0950-382X',\n",
        "  'journal': 'MOL MICROBIOL',\n",
        "  'nlmuniqueid': '8712028',\n",
        "  'rank': '163'},\n",
        " {'AI': '1.2819',\n",
        "  'EF': '0.090207',\n",
        "  'issn': '0095-1137',\n",
        "  'journal': 'J CLIN MICROBIOL',\n",
        "  'nlmuniqueid': '7505564',\n",
        "  'rank': '164'},\n",
        " {'AI': '2.8514',\n",
        "  'EF': '0.089685',\n",
        "  'issn': '0091-6749',\n",
        "  'journal': 'J ALLERGY CLIN IMMUN',\n",
        "  'nlmuniqueid': '1275002',\n",
        "  'rank': '165'},\n",
        " {'AI': '3.7516',\n",
        "  'EF': '0.089377',\n",
        "  'issn': '1040-4651',\n",
        "  'journal': 'PLANT CELL',\n",
        "  'nlmuniqueid': '9208688',\n",
        "  'rank': '166'},\n",
        " {'AI': '2.2426',\n",
        "  'EF': '0.088759',\n",
        "  'issn': '0892-6638',\n",
        "  'journal': 'FASEB J',\n",
        "  'nlmuniqueid': '8804484',\n",
        "  'rank': '167'},\n",
        " {'AI': '2.1576',\n",
        "  'EF': '0.088636',\n",
        "  'issn': '0012-3692',\n",
        "  'journal': 'CHEST',\n",
        "  'nlmuniqueid': '0231335',\n",
        "  'rank': '168'},\n",
        " {'AI': '2.4748',\n",
        "  'EF': '0.087916',\n",
        "  'issn': '0894-8755',\n",
        "  'journal': 'J CLIMATE',\n",
        "  'nlmuniqueid': '',\n",
        "  'rank': '169'},\n",
        " {'AI': '1.9027',\n",
        "  'EF': '0.086505',\n",
        "  'issn': '0016-6731',\n",
        "  'journal': 'GENETICS',\n",
        "  'nlmuniqueid': '0374636',\n",
        "  'rank': '170'},\n",
        " {'AI': '0.5961',\n",
        "  'EF': '0.08647',\n",
        "  'issn': '0040-6090',\n",
        "  'journal': 'THIN SOLID FILMS',\n",
        "  'nlmuniqueid': '',\n",
        "  'rank': '171'},\n",
        " {'AI': '1.5028',\n",
        "  'EF': '0.086018',\n",
        "  'issn': '0013-7227',\n",
        "  'journal': 'ENDOCRINOLOGY',\n",
        "  'nlmuniqueid': '0375040',\n",
        "  'rank': '172'},\n",
        " {'AI': '0.7273',\n",
        "  'EF': '0.085942',\n",
        "  'issn': '0040-4020',\n",
        "  'journal': 'TETRAHEDRON',\n",
        "  'nlmuniqueid': '2984170R',\n",
        "  'rank': '173'},\n",
        " {'AI': '1.1752',\n",
        "  'EF': '0.083026',\n",
        "  'issn': '0022-5347',\n",
        "  'journal': 'J UROLOGY',\n",
        "  'nlmuniqueid': '0376374',\n",
        "  'rank': '174'},\n",
        " {'AI': '1.9098',\n",
        "  'EF': '0.082694',\n",
        "  'issn': '0022-3751',\n",
        "  'journal': 'J PHYSIOL-LONDON',\n",
        "  'nlmuniqueid': '0266262',\n",
        "  'rank': '175'},\n",
        " {'AI': '1.6456',\n",
        "  'EF': '0.082633',\n",
        "  'issn': '0007-0920',\n",
        "  'journal': 'BRIT J CANCER',\n",
        "  'nlmuniqueid': '0370635',\n",
        "  'rank': '176'},\n",
        " {'AI': '0.9905',\n",
        "  'EF': '0.08249',\n",
        "  'issn': '0960-8524',\n",
        "  'journal': 'BIORESOURCE TECHNOL',\n",
        "  'nlmuniqueid': '9889523',\n",
        "  'rank': '177'},\n",
        " {'AI': '2.607',\n",
        "  'EF': '0.082477',\n",
        "  'issn': '1079-5642',\n",
        "  'journal': 'ARTERIOSCL THROM VAS',\n",
        "  'nlmuniqueid': '9505803',\n",
        "  'rank': '178'},\n",
        " {'AI': '4.1303',\n",
        "  'EF': '0.08219',\n",
        "  'issn': '1474-760X',\n",
        "  'journal': 'GENOME BIOL',\n",
        "  'nlmuniqueid': '',\n",
        "  'rank': '179'},\n",
        " {'AI': '1.306',\n",
        "  'EF': '0.081727',\n",
        "  'issn': '0002-9149',\n",
        "  'journal': 'AM J CARDIOL',\n",
        "  'nlmuniqueid': '0207277',\n",
        "  'rank': '180'},\n",
        " {'AI': '2.6366',\n",
        "  'EF': '0.081672',\n",
        "  'issn': '0012-9658',\n",
        "  'journal': 'ECOLOGY',\n",
        "  'nlmuniqueid': '0043541',\n",
        "  'rank': '181'},\n",
        " {'AI': '2.9351',\n",
        "  'EF': '0.081176',\n",
        "  'issn': '1066-5099',\n",
        "  'journal': 'STEM CELLS',\n",
        "  'nlmuniqueid': '9304532',\n",
        "  'rank': '182'},\n",
        " {'AI': '1.333',\n",
        "  'EF': '0.081116',\n",
        "  'issn': '0022-3042',\n",
        "  'journal': 'J NEUROCHEM',\n",
        "  'nlmuniqueid': '2985190R',\n",
        "  'rank': '183'},\n",
        " {'AI': '6.1877',\n",
        "  'EF': '0.080687',\n",
        "  'issn': '0027-8874',\n",
        "  'journal': 'J NATL CANCER I',\n",
        "  'nlmuniqueid': '7503089',\n",
        "  'rank': '184'},\n",
        " {'AI': '1.1728',\n",
        "  'EF': '0.080679',\n",
        "  'issn': '0295-5075',\n",
        "  'journal': 'EPL-EUROPHYS LETT',\n",
        "  'nlmuniqueid': '9886346',\n",
        "  'rank': '185'},\n",
        " {'AI': '0.9247',\n",
        "  'EF': '0.080644',\n",
        "  'issn': '0556-2813',\n",
        "  'journal': 'PHYS REV C',\n",
        "  'nlmuniqueid': '0250143',\n",
        "  'rank': '186'},\n",
        " {'AI': '1.4778',\n",
        "  'EF': '0.080629',\n",
        "  'issn': '1471-2164',\n",
        "  'journal': 'BMC GENOMICS',\n",
        "  'nlmuniqueid': '100965258',\n",
        "  'rank': '187'},\n",
        " {'AI': '2.1681',\n",
        "  'EF': '0.08036',\n",
        "  'issn': '0090-3493',\n",
        "  'journal': 'CRIT CARE MED',\n",
        "  'nlmuniqueid': '0355501',\n",
        "  'rank': '188'},\n",
        " {'AI': '2.0637',\n",
        "  'EF': '0.07986',\n",
        "  'issn': '0002-9440',\n",
        "  'journal': 'AM J PATHOL',\n",
        "  'nlmuniqueid': '0370502',\n",
        "  'rank': '189'},\n",
        " {'AI': '2.0478',\n",
        "  'EF': '0.079808',\n",
        "  'issn': '0004-6256',\n",
        "  'journal': 'ASTRON J',\n",
        "  'nlmuniqueid': '100955716',\n",
        "  'rank': '190'},\n",
        " {'AI': '0.8409',\n",
        "  'EF': '0.079766',\n",
        "  'issn': '0308-8146',\n",
        "  'journal': 'FOOD CHEM',\n",
        "  'nlmuniqueid': '7702639',\n",
        "  'rank': '191'},\n",
        " {'AI': '0.8998',\n",
        "  'EF': '0.079508',\n",
        "  'issn': '0045-6535',\n",
        "  'journal': 'CHEMOSPHERE',\n",
        "  'nlmuniqueid': '0320657',\n",
        "  'rank': '192'},\n",
        " {'AI': '1.8589',\n",
        "  'EF': '0.079096',\n",
        "  'issn': '0264-6021',\n",
        "  'journal': 'BIOCHEM J',\n",
        "  'nlmuniqueid': '2984726R',\n",
        "  'rank': '193'},\n",
        " {'AI': '2.82',\n",
        "  'EF': '0.078303',\n",
        "  'issn': '1046-6673',\n",
        "  'journal': 'J AM SOC NEPHROL',\n",
        "  'nlmuniqueid': '9013836',\n",
        "  'rank': '194'},\n",
        " {'AI': '0.6956',\n",
        "  'EF': '0.078017',\n",
        "  'issn': '0009-2614',\n",
        "  'journal': 'CHEM PHYS LETT',\n",
        "  'nlmuniqueid': '9882685',\n",
        "  'rank': '195'},\n",
        " {'AI': '1.713',\n",
        "  'EF': '0.078006',\n",
        "  'issn': '1538-4101',\n",
        "  'journal': 'CELL CYCLE',\n",
        "  'nlmuniqueid': '',\n",
        "  'rank': '196'},\n",
        " {'AI': '0.8842',\n",
        "  'EF': '0.077632',\n",
        "  'issn': '1477-9226',\n",
        "  'journal': 'DALTON T',\n",
        "  'nlmuniqueid': '101176026',\n",
        "  'rank': '197'},\n",
        " {'AI': '1.3157',\n",
        "  'EF': '0.077508',\n",
        "  'issn': '1471-2105',\n",
        "  'journal': 'BMC BIOINFORMATICS',\n",
        "  'nlmuniqueid': '100965194',\n",
        "  'rank': '198'},\n",
        " {'AI': '3.3',\n",
        "  'EF': '0.077288',\n",
        "  'issn': '0962-8436',\n",
        "  'journal': 'PHILOS T R SOC B',\n",
        "  'nlmuniqueid': '7503623',\n",
        "  'rank': '199'},\n",
        " {'AI': '1.8987',\n",
        "  'EF': '0.077202',\n",
        "  'issn': '0018-9448',\n",
        "  'journal': 'IEEE T INFORM THEORY',\n",
        "  'nlmuniqueid': '',\n",
        "  'rank': '200'},\n",
        " {'AI': '0.5503',\n",
        "  'EF': '0.077198',\n",
        "  'issn': '0169-4332',\n",
        "  'journal': 'APPL SURF SCI',\n",
        "  'nlmuniqueid': '',\n",
        "  'rank': '201'},\n",
        " {'AI': '2.4231',\n",
        "  'EF': '0.07648',\n",
        "  'issn': '0960-7412',\n",
        "  'journal': 'PLANT J',\n",
        "  'nlmuniqueid': '9207397',\n",
        "  'rank': '202'},\n",
        " {'AI': '5.8675',\n",
        "  'EF': '0.076403',\n",
        "  'issn': '0067-0049',\n",
        "  'journal': 'ASTROPHYS J SUPPL S',\n",
        "  'nlmuniqueid': '100955717',\n",
        "  'rank': '203'},\n",
        " {'AI': '6.2998',\n",
        "  'EF': '0.076256',\n",
        "  'issn': '1549-1277',\n",
        "  'journal': 'PLOS MED',\n",
        "  'nlmuniqueid': '101231360',\n",
        "  'rank': '204'},\n",
        " {'AI': '1.2754',\n",
        "  'EF': '0.076135',\n",
        "  'issn': '0019-9567',\n",
        "  'journal': 'INFECT IMMUN',\n",
        "  'nlmuniqueid': '0246127',\n",
        "  'rank': '205'},\n",
        " {'AI': '1.6172',\n",
        "  'EF': '0.075366',\n",
        "  'issn': '1680-7316',\n",
        "  'journal': 'ATMOS CHEM PHYS',\n",
        "  'nlmuniqueid': '',\n",
        "  'rank': '206'},\n",
        " {'AI': '1.0817',\n",
        "  'EF': '0.075229',\n",
        "  'issn': '0146-0404',\n",
        "  'journal': 'INVEST OPHTH VIS SCI',\n",
        "  'nlmuniqueid': '7703701',\n",
        "  'rank': '207'},\n",
        " {'AI': '1.9631',\n",
        "  'EF': '0.074778',\n",
        "  'issn': '0016-7037',\n",
        "  'journal': 'GEOCHIM COSMOCHIM AC',\n",
        "  'nlmuniqueid': '9876074',\n",
        "  'rank': '208'},\n",
        " {'AI': '1.015',\n",
        "  'EF': '0.074686',\n",
        "  'issn': '0032-3861',\n",
        "  'journal': 'POLYMER',\n",
        "  'nlmuniqueid': '',\n",
        "  'rank': '209'},\n",
        " {'AI': '0.5721',\n",
        "  'EF': '0.073528',\n",
        "  'issn': '0960-894X',\n",
        "  'journal': 'BIOORG MED CHEM LETT',\n",
        "  'nlmuniqueid': '9107377',\n",
        "  'rank': '210'},\n",
        " {'AI': '2.0961',\n",
        "  'EF': '0.073464',\n",
        "  'issn': '0033-8419',\n",
        "  'journal': 'RADIOLOGY',\n",
        "  'nlmuniqueid': '0401260',\n",
        "  'rank': '211'},\n",
        " {'AI': '2.0817',\n",
        "  'EF': '0.07334',\n",
        "  'issn': '0962-1083',\n",
        "  'journal': 'MOL ECOL',\n",
        "  'nlmuniqueid': '9214478',\n",
        "  'rank': '212'},\n",
        " {'AI': '0.8016',\n",
        "  'EF': '0.073063',\n",
        "  'issn': '0013-4651',\n",
        "  'journal': 'J ELECTROCHEM SOC',\n",
        "  'nlmuniqueid': '',\n",
        "  'rank': '213'},\n",
        " {'AI': '2.2101',\n",
        "  'EF': '0.073',\n",
        "  'issn': '0269-9370',\n",
        "  'journal': 'AIDS',\n",
        "  'nlmuniqueid': '8710219',\n",
        "  'rank': '214'},\n",
        " {'AI': '2.997',\n",
        "  'EF': '0.072774',\n",
        "  'issn': '1047-3211',\n",
        "  'journal': 'CEREB CORTEX',\n",
        "  'nlmuniqueid': '9110718',\n",
        "  'rank': '215'},\n",
        " {'AI': '1.3908',\n",
        "  'EF': '0.072388',\n",
        "  'issn': '0953-816X',\n",
        "  'journal': 'EUR J NEUROSCI',\n",
        "  'nlmuniqueid': '8918110',\n",
        "  'rank': '216'},\n",
        " {'AI': '2.5134',\n",
        "  'EF': '0.072372',\n",
        "  'issn': '1613-6810',\n",
        "  'journal': 'SMALL',\n",
        "  'nlmuniqueid': '101235338',\n",
        "  'rank': '217'},\n",
        " {'AI': '8.6062',\n",
        "  'EF': '0.071501',\n",
        "  'issn': '1550-4131',\n",
        "  'journal': 'CELL METAB',\n",
        "  'nlmuniqueid': '101233170',\n",
        "  'rank': '218'},\n",
        " {'AI': '2.0605',\n",
        "  'EF': '0.07127',\n",
        "  'issn': '0085-2538',\n",
        "  'journal': 'KIDNEY INT',\n",
        "  'nlmuniqueid': '0323470',\n",
        "  'rank': '219'},\n",
        " {'AI': '0.9672',\n",
        "  'EF': '0.071023',\n",
        "  'issn': '0003-2670',\n",
        "  'journal': 'ANAL CHIM ACTA',\n",
        "  'nlmuniqueid': '0370534',\n",
        "  'rank': '220'},\n",
        " {'AI': '0.8367',\n",
        "  'EF': '0.070912',\n",
        "  'issn': '0021-9797',\n",
        "  'journal': 'J COLLOID INTERF SCI',\n",
        "  'nlmuniqueid': '0043125',\n",
        "  'rank': '221'},\n",
        " {'AI': '3.0363',\n",
        "  'EF': '0.070665',\n",
        "  'issn': '0003-4932',\n",
        "  'journal': 'ANN SURG',\n",
        "  'nlmuniqueid': '0372354',\n",
        "  'rank': '222'},\n",
        " {'AI': '0.64',\n",
        "  'EF': '0.070323',\n",
        "  'issn': '0888-5885',\n",
        "  'journal': 'IND ENG CHEM RES',\n",
        "  'nlmuniqueid': '9882836',\n",
        "  'rank': '223'},\n",
        " {'AI': '1.5344',\n",
        "  'EF': '0.069902',\n",
        "  'issn': '1535-3893',\n",
        "  'journal': 'J PROTEOME RES',\n",
        "  'nlmuniqueid': '101128775',\n",
        "  'rank': '224'},\n",
        " {'AI': '2.7237',\n",
        "  'EF': '0.069585',\n",
        "  'issn': '1553-734X',\n",
        "  'journal': 'PLOS COMPUT BIOL',\n",
        "  'nlmuniqueid': '101238922',\n",
        "  'rank': '225'},\n",
        " {'AI': '7.4206',\n",
        "  'EF': '0.069136',\n",
        "  'issn': '1470-2045',\n",
        "  'journal': 'LANCET ONCOL',\n",
        "  'nlmuniqueid': '100957246',\n",
        "  'rank': '226'},\n",
        " {'AI': '11.8481',\n",
        "  'EF': '0.0691',\n",
        "  'issn': '1474-1776',\n",
        "  'journal': 'NAT REV DRUG DISCOV',\n",
        "  'nlmuniqueid': '101124171',\n",
        "  'rank': '227'},\n",
        " {'AI': '1.1588',\n",
        "  'EF': '0.069052',\n",
        "  'issn': '0360-3016',\n",
        "  'journal': 'INT J RADIAT ONCOL',\n",
        "  'nlmuniqueid': '7603616',\n",
        "  'rank': '228'},\n",
        " {'AI': '7.9188',\n",
        "  'EF': '0.068985',\n",
        "  'issn': '1474-4422',\n",
        "  'journal': 'LANCET NEUROL',\n",
        "  'nlmuniqueid': '101139309',\n",
        "  'rank': '229'},\n",
        " {'AI': '1.2363',\n",
        "  'EF': '0.068566',\n",
        "  'issn': '0363-6135',\n",
        "  'journal': 'AM J PHYSIOL-HEART C',\n",
        "  'nlmuniqueid': '100901228',\n",
        "  'rank': '230'},\n",
        " {'AI': '2.3708',\n",
        "  'EF': '0.06822',\n",
        "  'issn': '0003-4967',\n",
        "  'journal': 'ANN RHEUM DIS',\n",
        "  'nlmuniqueid': '0372355',\n",
        "  'rank': '231'},\n",
        " {'AI': '1.2616',\n",
        "  'EF': '0.067908',\n",
        "  'issn': '0003-4975',\n",
        "  'journal': 'ANN THORAC SURG',\n",
        "  'nlmuniqueid': '15030100R',\n",
        "  'rank': '232'},\n",
        " {'AI': '3.3286',\n",
        "  'EF': '0.06764',\n",
        "  'issn': '0887-6924',\n",
        "  'journal': 'LEUKEMIA',\n",
        "  'nlmuniqueid': '8704895',\n",
        "  'rank': '233'},\n",
        " {'AI': '0.8309',\n",
        "  'EF': '0.06763',\n",
        "  'issn': '0276-7333',\n",
        "  'journal': 'ORGANOMETALLICS',\n",
        "  'nlmuniqueid': '',\n",
        "  'rank': '234'},\n",
        " {'AI': '4.5436',\n",
        "  'EF': '0.067581',\n",
        "  'issn': '0002-953X',\n",
        "  'journal': 'AM J PSYCHIAT',\n",
        "  'nlmuniqueid': '0370512',\n",
        "  'rank': '235'},\n",
        " {'AI': '4.188',\n",
        "  'EF': '0.067362',\n",
        "  'issn': '0364-5134',\n",
        "  'journal': 'ANN NEUROL',\n",
        "  'nlmuniqueid': '7707449',\n",
        "  'rank': '236'},\n",
        " {'AI': '0.7442',\n",
        "  'EF': '0.067315',\n",
        "  'issn': '0022-247X',\n",
        "  'journal': 'J MATH ANAL APPL',\n",
        "  'nlmuniqueid': '9890562',\n",
        "  'rank': '237'},\n",
        " {'AI': '2.4977',\n",
        "  'EF': '0.067155',\n",
        "  'issn': '0002-9262',\n",
        "  'journal': 'AM J EPIDEMIOL',\n",
        "  'nlmuniqueid': '7910653',\n",
        "  'rank': '238'},\n",
        " {'AI': '7.38',\n",
        "  'EF': '0.067134',\n",
        "  'issn': '1461-023X',\n",
        "  'journal': 'ECOL LETT',\n",
        "  'nlmuniqueid': '101121949',\n",
        "  'rank': '239'},\n",
        " {'AI': '1.03',\n",
        "  'EF': '0.066967',\n",
        "  'issn': '1352-2310',\n",
        "  'journal': 'ATMOS ENVIRON',\n",
        "  'nlmuniqueid': '',\n",
        "  'rank': '240'},\n",
        " {'AI': '2.1572',\n",
        "  'EF': '0.066863',\n",
        "  'issn': '1080-6040',\n",
        "  'journal': 'EMERG INFECT DIS',\n",
        "  'nlmuniqueid': '9508155',\n",
        "  'rank': '241'},\n",
        " {'AI': '9.0177',\n",
        "  'EF': '0.066816',\n",
        "  'issn': '1740-1526',\n",
        "  'journal': 'NAT REV MICROBIOL',\n",
        "  'nlmuniqueid': '101190261',\n",
        "  'rank': '242'},\n",
        " {'AI': '2.1854',\n",
        "  'EF': '0.066412',\n",
        "  'issn': '0194-911X',\n",
        "  'journal': 'HYPERTENSION',\n",
        "  'nlmuniqueid': '7906255',\n",
        "  'rank': '243'},\n",
        " {'AI': '1.7968',\n",
        "  'EF': '0.066136',\n",
        "  'issn': '0923-7534',\n",
        "  'journal': 'ANN ONCOL',\n",
        "  'nlmuniqueid': '9007735',\n",
        "  'rank': '244'},\n",
        " {'AI': '2.5018',\n",
        "  'EF': '0.065199',\n",
        "  'issn': '1420-682X',\n",
        "  'journal': 'CELL MOL LIFE SCI',\n",
        "  'nlmuniqueid': '9705402',\n",
        "  'rank': '245'},\n",
        " {'AI': '7.3531',\n",
        "  'EF': '0.065135',\n",
        "  'issn': '1552-4450',\n",
        "  'journal': 'NAT CHEM BIOL',\n",
        "  'nlmuniqueid': '101231976',\n",
        "  'rank': '246'},\n",
        " {'AI': '1.2076',\n",
        "  'EF': '0.065027',\n",
        "  'issn': '1359-6462',\n",
        "  'journal': 'SCRIPTA MATER',\n",
        "  'nlmuniqueid': '',\n",
        "  'rank': '247'},\n",
        " {'AI': '3.188',\n",
        "  'EF': '0.06455',\n",
        "  'issn': '1354-1013',\n",
        "  'journal': 'GLOBAL CHANGE BIOL',\n",
        "  'nlmuniqueid': '9888746',\n",
        "  'rank': '248'},\n",
        " {'AI': '2.2743',\n",
        "  'EF': '0.063859',\n",
        "  'issn': '0028-646X',\n",
        "  'journal': 'NEW PHYTOL',\n",
        "  'nlmuniqueid': '9882884',\n",
        "  'rank': '249'},\n",
        " {'AI': '6.9504',\n",
        "  'EF': '0.063736',\n",
        "  'issn': '0955-0674',\n",
        "  'journal': 'CURR OPIN CELL BIOL',\n",
        "  'nlmuniqueid': '8913428',\n",
        "  'rank': '250'},\n",
        " {'AI': '3.1857',\n",
        "  'EF': '0.063276',\n",
        "  'issn': '0956-7976',\n",
        "  'journal': 'PSYCHOL SCI',\n",
        "  'nlmuniqueid': '9007542',\n",
        "  'rank': '251'},\n",
        " {'AI': '0.9721',\n",
        "  'EF': '0.063185',\n",
        "  'issn': '1618-2642',\n",
        "  'journal': 'ANAL BIOANAL CHEM',\n",
        "  'nlmuniqueid': '',\n",
        "  'rank': '252'},\n",
        " {'AI': '2.3243',\n",
        "  'EF': '0.063132',\n",
        "  'issn': '0091-6765',\n",
        "  'journal': 'ENVIRON HEALTH PERSP',\n",
        "  'nlmuniqueid': '0330411',\n",
        "  'rank': '253'},\n",
        " {'AI': '5.4356',\n",
        "  'EF': '0.062505',\n",
        "  'issn': '0003-990X',\n",
        "  'journal': 'ARCH GEN PSYCHIAT',\n",
        "  'nlmuniqueid': '0372435',\n",
        "  'rank': '254'},\n",
        " {'AI': '2.1133',\n",
        "  'EF': '0.062323',\n",
        "  'issn': '0002-9270',\n",
        "  'journal': 'AM J GASTROENTEROL',\n",
        "  'nlmuniqueid': '0421030',\n",
        "  'rank': '255'},\n",
        " {'AI': '3.2578',\n",
        "  'EF': '0.062139',\n",
        "  'issn': '0017-5749',\n",
        "  'journal': 'GUT',\n",
        "  'nlmuniqueid': '2985108R',\n",
        "  'rank': '256'},\n",
        " {'AI': '0.6174',\n",
        "  'EF': '0.06169',\n",
        "  'issn': '1751-8113',\n",
        "  'journal': 'J PHYS A-MATH THEOR',\n",
        "  'nlmuniqueid': '',\n",
        "  'rank': '257'},\n",
        " {'AI': '1.0189',\n",
        "  'EF': '0.061519',\n",
        "  'issn': '0048-9697',\n",
        "  'journal': 'SCI TOTAL ENVIRON',\n",
        "  'nlmuniqueid': '0330500',\n",
        "  'rank': '258'},\n",
        " {'AI': '0.644',\n",
        "  'EF': '0.061319',\n",
        "  'issn': '0375-9601',\n",
        "  'journal': 'PHYS LETT A',\n",
        "  'nlmuniqueid': '0406646',\n",
        "  'rank': '259'},\n",
        " {'AI': '1.612',\n",
        "  'EF': '0.061109',\n",
        "  'issn': '1055-9965',\n",
        "  'journal': 'CANCER EPIDEM BIOMAR',\n",
        "  'nlmuniqueid': '9200608',\n",
        "  'rank': '260'},\n",
        " {'AI': '0.9246',\n",
        "  'EF': '0.061043',\n",
        "  'issn': '0377-2217',\n",
        "  'journal': 'EUR J OPER RES',\n",
        "  'nlmuniqueid': '100973201',\n",
        "  'rank': '261'},\n",
        " {'AI': '1.5994',\n",
        "  'EF': '0.060779',\n",
        "  'issn': '0008-6223',\n",
        "  'journal': 'CARBON',\n",
        "  'nlmuniqueid': '',\n",
        "  'rank': '262'},\n",
        " {'AI': '1.3973',\n",
        "  'EF': '0.060453',\n",
        "  'issn': '1525-7797',\n",
        "  'journal': 'BIOMACROMOLECULES',\n",
        "  'nlmuniqueid': '100892849',\n",
        "  'rank': '263'},\n",
        " {'AI': '0.6421',\n",
        "  'EF': '0.060328',\n",
        "  'issn': '1007-9327',\n",
        "  'journal': 'WORLD J GASTROENTERO',\n",
        "  'nlmuniqueid': '100883448',\n",
        "  'rank': '264'},\n",
        " {'AI': '1.3035',\n",
        "  'EF': '0.060171',\n",
        "  'issn': '0043-1354',\n",
        "  'journal': 'WATER RES',\n",
        "  'nlmuniqueid': '0105072',\n",
        "  'rank': '265'},\n",
        " {'AI': '7.9134',\n",
        "  'EF': '0.060085',\n",
        "  'issn': '0169-5347',\n",
        "  'journal': 'TRENDS ECOL EVOL',\n",
        "  'nlmuniqueid': '8805125',\n",
        "  'rank': '266'},\n",
        " {'AI': '2.0059',\n",
        "  'EF': '0.060076',\n",
        "  'issn': '0014-2980',\n",
        "  'journal': 'EUR J IMMUNOL',\n",
        "  'nlmuniqueid': '1273201',\n",
        "  'rank': '267'},\n",
        " {'AI': '1.9586',\n",
        "  'EF': '0.059484',\n",
        "  'issn': '1600-6135',\n",
        "  'journal': 'AM J TRANSPLANT',\n",
        "  'nlmuniqueid': '100968638',\n",
        "  'rank': '268'},\n",
        " {'AI': '0.7203',\n",
        "  'EF': '0.059218',\n",
        "  'issn': '0360-3199',\n",
        "  'journal': 'INT J HYDROGEN ENERG',\n",
        "  'nlmuniqueid': '100971333',\n",
        "  'rank': '269'},\n",
        " {'AI': '2.197',\n",
        "  'EF': '0.058869',\n",
        "  'issn': '0012-186X',\n",
        "  'journal': 'DIABETOLOGIA',\n",
        "  'nlmuniqueid': '0006777',\n",
        "  'rank': '270'},\n",
        " {'AI': '0.3296',\n",
        "  'EF': '0.058782',\n",
        "  'issn': '0021-4922',\n",
        "  'journal': 'JPN J APPL PHYS',\n",
        "  'nlmuniqueid': '',\n",
        "  'rank': '271'},\n",
        " {'AI': '1.3692',\n",
        "  'EF': '0.058007',\n",
        "  'issn': '0021-9991',\n",
        "  'journal': 'J COMPUT PHYS',\n",
        "  'nlmuniqueid': '',\n",
        "  'rank': '272'},\n",
        " {'AI': '0.6336',\n",
        "  'EF': '0.057588',\n",
        "  'issn': '0304-3940',\n",
        "  'journal': 'NEUROSCI LETT',\n",
        "  'nlmuniqueid': '7600130',\n",
        "  'rank': '273'},\n",
        " {'AI': '3.2393',\n",
        "  'EF': '0.057509',\n",
        "  'issn': '1350-9047',\n",
        "  'journal': 'CELL DEATH DIFFER',\n",
        "  'nlmuniqueid': '9437445',\n",
        "  'rank': '274'},\n",
        " {'AI': '0.7405',\n",
        "  'EF': '0.057501',\n",
        "  'issn': '1070-664X',\n",
        "  'journal': 'PHYS PLASMAS',\n",
        "  'nlmuniqueid': '',\n",
        "  'rank': '275'},\n",
        " {'AI': '1.2998',\n",
        "  'EF': '0.057498',\n",
        "  'issn': '0022-1120',\n",
        "  'journal': 'J FLUID MECH',\n",
        "  'nlmuniqueid': '100971395',\n",
        "  'rank': '276'},\n",
        " {'AI': '1.7871',\n",
        "  'EF': '0.057424',\n",
        "  'issn': '1535-7163',\n",
        "  'journal': 'MOL CANCER THER',\n",
        "  'nlmuniqueid': '101132535',\n",
        "  'rank': '277'},\n",
        " {'AI': '0.8034',\n",
        "  'EF': '0.057403',\n",
        "  'issn': '0925-4005',\n",
        "  'journal': 'SENSOR ACTUAT B-CHEM',\n",
        "  'nlmuniqueid': '101149755',\n",
        "  'rank': '278'},\n",
        " {'AI': '0.8982',\n",
        "  'EF': '0.057323',\n",
        "  'issn': '0376-7388',\n",
        "  'journal': 'J MEMBRANE SCI',\n",
        "  'nlmuniqueid': '7606202',\n",
        "  'rank': '279'},\n",
        " {'AI': '0.7173',\n",
        "  'EF': '0.057229',\n",
        "  'issn': '0968-0896',\n",
        "  'journal': 'BIOORGAN MED CHEM',\n",
        "  'nlmuniqueid': '9413298',\n",
        "  'rank': '280'},\n",
        " {'AI': '0.3058',\n",
        "  'EF': '0.05721',\n",
        "  'issn': '0021-8995',\n",
        "  'journal': 'J APPL POLYM SCI',\n",
        "  'nlmuniqueid': '',\n",
        "  'rank': '281'},\n",
        " {'AI': '1.7513',\n",
        "  'EF': '0.057203',\n",
        "  'issn': '0002-8703',\n",
        "  'journal': 'AM HEART J',\n",
        "  'nlmuniqueid': '0370465',\n",
        "  'rank': '282'},\n",
        " {'AI': '1.2488',\n",
        "  'EF': '0.057143',\n",
        "  'issn': '1053-587X',\n",
        "  'journal': 'IEEE T SIGNAL PROCES',\n",
        "  'nlmuniqueid': '',\n",
        "  'rank': '283'},\n",
        " {'AI': '19.755',\n",
        "  'EF': '0.056883',\n",
        "  'issn': '0066-4154',\n",
        "  'journal': 'ANNU REV BIOCHEM',\n",
        "  'nlmuniqueid': '2985150R',\n",
        "  'rank': '284'},\n",
        " {'AI': '1.8631',\n",
        "  'EF': '0.056686',\n",
        "  'issn': '1475-7516',\n",
        "  'journal': 'J COSMOL ASTROPART P',\n",
        "  'nlmuniqueid': '',\n",
        "  'rank': '285'},\n",
        " {'AI': '2.2203',\n",
        "  'EF': '0.056358',\n",
        "  'issn': '0091-7613',\n",
        "  'journal': 'GEOLOGY',\n",
        "  'nlmuniqueid': '100971468',\n",
        "  'rank': '286'},\n",
        " {'AI': '1.888',\n",
        "  'EF': '0.056335',\n",
        "  'issn': '0161-6420',\n",
        "  'journal': 'OPHTHALMOLOGY',\n",
        "  'nlmuniqueid': '7802443',\n",
        "  'rank': '287'},\n",
        " {'AI': '1.454',\n",
        "  'EF': '0.055919',\n",
        "  'issn': '0305-7453',\n",
        "  'journal': 'J ANTIMICROB CHEMOTH',\n",
        "  'nlmuniqueid': '7513617',\n",
        "  'rank': '288'},\n",
        " {'AI': '1.2936',\n",
        "  'EF': '0.055895',\n",
        "  'issn': '1388-2481',\n",
        "  'journal': 'ELECTROCHEM COMMUN',\n",
        "  'nlmuniqueid': '',\n",
        "  'rank': '289'},\n",
        " {'AI': '2.4312',\n",
        "  'EF': '0.05569',\n",
        "  'issn': '0014-3820',\n",
        "  'journal': 'EVOLUTION',\n",
        "  'nlmuniqueid': '0373224',\n",
        "  'rank': '290'},\n",
        " {'AI': '1.1849',\n",
        "  'EF': '0.055652',\n",
        "  'issn': '0022-3565',\n",
        "  'journal': 'J PHARMACOL EXP THER',\n",
        "  'nlmuniqueid': '0376362',\n",
        "  'rank': '291'},\n",
        " {'AI': '1.9489',\n",
        "  'EF': '0.055651',\n",
        "  'issn': '0903-1936',\n",
        "  'journal': 'EUR RESPIR J',\n",
        "  'nlmuniqueid': '8803460',\n",
        "  'rank': '292'},\n",
        " {'AI': '1.2724',\n",
        "  'EF': '0.055588',\n",
        "  'issn': '0277-9536',\n",
        "  'journal': 'SOC SCI MED',\n",
        "  'nlmuniqueid': '8303205',\n",
        "  'rank': '293'},\n",
        " {'AI': '1.1151',\n",
        "  'EF': '0.05534',\n",
        "  'issn': '1536-1276',\n",
        "  'journal': 'IEEE T WIREL COMMUN',\n",
        "  'nlmuniqueid': '',\n",
        "  'rank': '294'},\n",
        " {'AI': '5.3194',\n",
        "  'EF': '0.055218',\n",
        "  'issn': '0105-2896',\n",
        "  'journal': 'IMMUNOL REV',\n",
        "  'nlmuniqueid': '7702118',\n",
        "  'rank': '295'},\n",
        " {'AI': '1.1829',\n",
        "  'EF': '0.055171',\n",
        "  'issn': '1742-464X',\n",
        "  'journal': 'FEBS J',\n",
        "  'nlmuniqueid': '101229646',\n",
        "  'rank': '296'},\n",
        " {'AI': '0.647',\n",
        "  'EF': '0.055068',\n",
        "  'issn': '0034-6748',\n",
        "  'journal': 'REV SCI INSTRUM',\n",
        "  'nlmuniqueid': '0405571',\n",
        "  'rank': '297'},\n",
        " {'AI': '0.5829',\n",
        "  'EF': '0.054935',\n",
        "  'issn': '0167-577X',\n",
        "  'journal': 'MATER LETT',\n",
        "  'nlmuniqueid': '',\n",
        "  'rank': '298'},\n",
        " {'AI': '7.4735',\n",
        "  'EF': '0.054689',\n",
        "  'issn': '0022-1082',\n",
        "  'journal': 'J FINANC',\n",
        "  'nlmuniqueid': '',\n",
        "  'rank': '299'},\n",
        " {'AI': '2.5891',\n",
        "  'EF': '0.054607',\n",
        "  'issn': '1355-8382',\n",
        "  'journal': 'RNA',\n",
        "  'nlmuniqueid': '9509184',\n",
        "  'rank': '300'},\n",
        " {'AI': '0.8128',\n",
        "  'EF': '0.054606',\n",
        "  'issn': '0039-9140',\n",
        "  'journal': 'TALANTA',\n",
        "  'nlmuniqueid': '2984816R',\n",
        "  'rank': '301'},\n",
        " {'AI': '1.5869',\n",
        "  'EF': '0.0546',\n",
        "  'issn': '1744-683X',\n",
        "  'journal': 'SOFT MATTER',\n",
        "  'nlmuniqueid': '',\n",
        "  'rank': '302'},\n",
        " {'AI': '1.2738',\n",
        "  'EF': '0.054571',\n",
        "  'issn': '8750-7587',\n",
        "  'journal': 'J APPL PHYSIOL',\n",
        "  'nlmuniqueid': '',\n",
        "  'rank': '303'},\n",
        " {'AI': '7.3694',\n",
        "  'EF': '0.054332',\n",
        "  'issn': '1752-0894',\n",
        "  'journal': 'NAT GEOSCI',\n",
        "  'nlmuniqueid': '',\n",
        "  'rank': '304'},\n",
        " {'AI': '1.0256',\n",
        "  'EF': '0.054282',\n",
        "  'issn': '0171-8630',\n",
        "  'journal': 'MAR ECOL-PROG SER',\n",
        "  'nlmuniqueid': '',\n",
        "  'rank': '305'},\n",
        " {'AI': '2.9788',\n",
        "  'EF': '0.054249',\n",
        "  'issn': '1535-9476',\n",
        "  'journal': 'MOL CELL PROTEOMICS',\n",
        "  'nlmuniqueid': '101125647',\n",
        "  'rank': '306'},\n",
        " {'AI': '1.9876',\n",
        "  'EF': '0.054169',\n",
        "  'issn': '1538-7933',\n",
        "  'journal': 'J THROMB HAEMOST',\n",
        "  'nlmuniqueid': '',\n",
        "  'rank': '307'},\n",
        " {'AI': '3.7114',\n",
        "  'EF': '0.053842',\n",
        "  'issn': '0907-4449',\n",
        "  'journal': 'ACTA CRYSTALLOGR D',\n",
        "  'nlmuniqueid': '9305878',\n",
        "  'rank': '308'},\n",
        " {'AI': '1.335',\n",
        "  'EF': '0.053791',\n",
        "  'issn': '0007-1188',\n",
        "  'journal': 'BRIT J PHARMACOL',\n",
        "  'nlmuniqueid': '7502536',\n",
        "  'rank': '309'},\n",
        " {'AI': '2.3093',\n",
        "  'EF': '0.05345',\n",
        "  'issn': '0893-133X',\n",
        "  'journal': 'NEUROPSYCHOPHARMACOL',\n",
        "  'nlmuniqueid': '',\n",
        "  'rank': '310'},\n",
        " {'AI': '1.5777',\n",
        "  'EF': '0.053413',\n",
        "  'issn': '0891-5849',\n",
        "  'journal': 'FREE RADICAL BIO MED',\n",
        "  'nlmuniqueid': '8709159',\n",
        "  'rank': '311'},\n",
        " {'AI': '0.9138',\n",
        "  'EF': '0.053397',\n",
        "  'issn': '1528-7483',\n",
        "  'journal': 'CRYST GROWTH DES',\n",
        "  'nlmuniqueid': '',\n",
        "  'rank': '312'},\n",
        " {'AI': '0.611',\n",
        "  'EF': '0.053395',\n",
        "  'issn': '0257-8972',\n",
        "  'journal': 'SURF COAT TECH',\n",
        "  'nlmuniqueid': '',\n",
        "  'rank': '313'},\n",
        " {'AI': '1.6363',\n",
        "  'EF': '0.053389',\n",
        "  'issn': '0550-3213',\n",
        "  'journal': 'NUCL PHYS B',\n",
        "  'nlmuniqueid': '',\n",
        "  'rank': '314'},\n",
        " {'AI': '0.5844',\n",
        "  'EF': '0.05323',\n",
        "  'issn': '0022-2461',\n",
        "  'journal': 'J MATER SCI',\n",
        "  'nlmuniqueid': '',\n",
        "  'rank': '315'},\n",
        " {'AI': '1.592',\n",
        "  'EF': '0.053169',\n",
        "  'issn': '1930-7381',\n",
        "  'journal': 'OBESITY',\n",
        "  'nlmuniqueid': '101264860',\n",
        "  'rank': '316'},\n",
        " {'AI': '1.2383',\n",
        "  'EF': '0.053163',\n",
        "  'issn': '0021-9150',\n",
        "  'journal': 'ATHEROSCLEROSIS',\n",
        "  'nlmuniqueid': '0242543',\n",
        "  'rank': '317'},\n",
        " {'AI': '1.6465',\n",
        "  'EF': '0.053055',\n",
        "  'issn': '0959-8049',\n",
        "  'journal': 'EUR J CANCER',\n",
        "  'nlmuniqueid': '9005373',\n",
        "  'rank': '318'},\n",
        " {'AI': '1.5983',\n",
        "  'EF': '0.05285',\n",
        "  'issn': '0022-0957',\n",
        "  'journal': 'J EXP BOT',\n",
        "  'nlmuniqueid': '9882906',\n",
        "  'rank': '319'},\n",
        " {'AI': '1.1673',\n",
        "  'EF': '0.052771',\n",
        "  'issn': '0041-1337',\n",
        "  'journal': 'TRANSPLANTATION',\n",
        "  'nlmuniqueid': '0132144',\n",
        "  'rank': '320'},\n",
        " {'AI': '1.9711',\n",
        "  'EF': '0.052743',\n",
        "  'issn': '0090-0036',\n",
        "  'journal': 'AM J PUBLIC HEALTH',\n",
        "  'nlmuniqueid': '1254074',\n",
        "  'rank': '321'},\n",
        " {'AI': '6.4575',\n",
        "  'EF': '0.052702',\n",
        "  'issn': '0893-9454',\n",
        "  'journal': 'REV FINANC STUD',\n",
        "  'nlmuniqueid': '',\n",
        "  'rank': '322'},\n",
        " {'AI': '2.4605',\n",
        "  'EF': '0.052346',\n",
        "  'issn': '0168-8278',\n",
        "  'journal': 'J HEPATOL',\n",
        "  'nlmuniqueid': '8503886',\n",
        "  'rank': '323'},\n",
        " {'AI': '2.1867',\n",
        "  'EF': '0.052135',\n",
        "  'issn': '1462-2912',\n",
        "  'journal': 'ENVIRON MICROBIOL',\n",
        "  'nlmuniqueid': '100883692',\n",
        "  'rank': '324'},\n",
        " {'AI': '0.9656',\n",
        "  'EF': '0.051996',\n",
        "  'issn': '1477-0520',\n",
        "  'journal': 'ORG BIOMOL CHEM',\n",
        "  'nlmuniqueid': '101154995',\n",
        "  'rank': '325'},\n",
        " {'AI': '23.427',\n",
        "  'EF': '0.051988',\n",
        "  'issn': '0732-0582',\n",
        "  'journal': 'ANNU REV IMMUNOL',\n",
        "  'nlmuniqueid': '8309206',\n",
        "  'rank': '326'},\n",
        " {'AI': '1.5976',\n",
        "  'EF': '0.051539',\n",
        "  'issn': '0028-3932',\n",
        "  'journal': 'NEUROPSYCHOLOGIA',\n",
        "  'nlmuniqueid': '0020713',\n",
        "  'rank': '327'},\n",
        " {'AI': '1.2286',\n",
        "  'EF': '0.05151',\n",
        "  'issn': '1615-9853',\n",
        "  'journal': 'PROTEOMICS',\n",
        "  'nlmuniqueid': '101092707',\n",
        "  'rank': '328'},\n",
        " {'AI': '1.1528',\n",
        "  'EF': '0.051502',\n",
        "  'issn': '0002-9378',\n",
        "  'journal': 'AM J OBSTET GYNECOL',\n",
        "  'nlmuniqueid': '0370476',\n",
        "  'rank': '329'},\n",
        " {'AI': '2.0699',\n",
        "  'EF': '0.051478',\n",
        "  'issn': '0008-6363',\n",
        "  'journal': 'CARDIOVASC RES',\n",
        "  'nlmuniqueid': '0077427',\n",
        "  'rank': '330'},\n",
        " {'AI': '2.078',\n",
        "  'EF': '0.051067',\n",
        "  'issn': '0302-2838',\n",
        "  'journal': 'EUR UROL',\n",
        "  'nlmuniqueid': '7512719',\n",
        "  'rank': '331'},\n",
        " {'AI': '2.2608',\n",
        "  'EF': '0.050999',\n",
        "  'issn': '0278-2715',\n",
        "  'journal': 'HEALTH AFFAIR',\n",
        "  'nlmuniqueid': '8303128',\n",
        "  'rank': '332'},\n",
        " {'AI': '1.2096',\n",
        "  'EF': '0.050582',\n",
        "  'issn': '0956-5663',\n",
        "  'journal': 'BIOSENS BIOELECTRON',\n",
        "  'nlmuniqueid': '9001289',\n",
        "  'rank': '333'},\n",
        " {'AI': '5.7576',\n",
        "  'EF': '0.05058',\n",
        "  'issn': '0304-405X',\n",
        "  'journal': 'J FINANC ECON',\n",
        "  'nlmuniqueid': '',\n",
        "  'rank': '334'},\n",
        " {'AI': '1.0414',\n",
        "  'EF': '0.050557',\n",
        "  'issn': '0042-6822',\n",
        "  'journal': 'VIROLOGY',\n",
        "  'nlmuniqueid': '0110674',\n",
        "  'rank': '335'},\n",
        " {'AI': '9.5603',\n",
        "  'EF': '0.050497',\n",
        "  'issn': '0108-7673',\n",
        "  'journal': 'ACTA CRYSTALLOGR A',\n",
        "  'nlmuniqueid': '8305825',\n",
        "  'rank': '336'},\n",
        " {'AI': '1.7162',\n",
        "  'EF': '0.050361',\n",
        "  'issn': '1473-0197',\n",
        "  'journal': 'LAB CHIP',\n",
        "  'nlmuniqueid': '',\n",
        "  'rank': '337'},\n",
        " {'AI': '1.6184',\n",
        "  'EF': '0.05025',\n",
        "  'issn': '0029-7844',\n",
        "  'journal': 'OBSTET GYNECOL',\n",
        "  'nlmuniqueid': '0401101',\n",
        "  'rank': '338'},\n",
        " {'AI': '1.9564',\n",
        "  'EF': '0.050124',\n",
        "  'issn': '0022-202X',\n",
        "  'journal': 'J INVEST DERMATOL',\n",
        "  'nlmuniqueid': '0426720',\n",
        "  'rank': '339'},\n",
        " {'AI': '1.3651',\n",
        "  'EF': '0.05012',\n",
        "  'issn': '0022-5223',\n",
        "  'journal': 'J THORAC CARDIOV SUR',\n",
        "  'nlmuniqueid': '0376343',\n",
        "  'rank': '340'},\n",
        " {'AI': '1.8396',\n",
        "  'EF': '0.050069',\n",
        "  'issn': '0022-2275',\n",
        "  'journal': 'J LIPID RES',\n",
        "  'nlmuniqueid': '0376606',\n",
        "  'rank': '341'},\n",
        " {'AI': '0.9652',\n",
        "  'EF': '0.049921',\n",
        "  'issn': '0931-0509',\n",
        "  'journal': 'NEPHROL DIAL TRANSPL',\n",
        "  'nlmuniqueid': '8706402',\n",
        "  'rank': '342'},\n",
        " {'AI': '1.6738',\n",
        "  'EF': '0.049853',\n",
        "  'issn': '0007-1048',\n",
        "  'journal': 'BRIT J HAEMATOL',\n",
        "  'nlmuniqueid': '0372544',\n",
        "  'rank': '343'},\n",
        " {'AI': '0.8209',\n",
        "  'EF': '0.049712',\n",
        "  'issn': '1434-193X',\n",
        "  'journal': 'EUR J ORG CHEM',\n",
        "  'nlmuniqueid': '',\n",
        "  'rank': '344'},\n",
        " {'AI': '0.4763',\n",
        "  'EF': '0.049656',\n",
        "  'issn': '0304-8853',\n",
        "  'journal': 'J MAGN MAGN MATER',\n",
        "  'nlmuniqueid': '',\n",
        "  'rank': '345'},\n",
        " {'AI': '3.6579',\n",
        "  'EF': '0.049443',\n",
        "  'issn': '0022-3514',\n",
        "  'journal': 'J PERS SOC PSYCHOL',\n",
        "  'nlmuniqueid': '0014171',\n",
        "  'rank': '346'},\n",
        " {'AI': '0.5168',\n",
        "  'EF': '0.049357',\n",
        "  'issn': '0003-6935',\n",
        "  'journal': 'APPL OPTICS',\n",
        "  'nlmuniqueid': '0247660',\n",
        "  'rank': '347'},\n",
        " {'AI': '12.6138',\n",
        "  'EF': '0.049044',\n",
        "  'issn': '0033-5533',\n",
        "  'journal': 'Q J ECON',\n",
        "  'nlmuniqueid': '9879565',\n",
        "  'rank': '348'},\n",
        " {'AI': '1.092',\n",
        "  'EF': '0.048925',\n",
        "  'issn': '0264-9381',\n",
        "  'journal': 'CLASSICAL QUANT GRAV',\n",
        "  'nlmuniqueid': '',\n",
        "  'rank': '349'},\n",
        " {'AI': '2.9234',\n",
        "  'EF': '0.048843',\n",
        "  'issn': '0162-8828',\n",
        "  'journal': 'IEEE T PATTERN ANAL',\n",
        "  'nlmuniqueid': '',\n",
        "  'rank': '350'},\n",
        " {'AI': '0.9248',\n",
        "  'EF': '0.048355',\n",
        "  'issn': '0361-803X',\n",
        "  'journal': 'AM J ROENTGENOL',\n",
        "  'nlmuniqueid': '7708173',\n",
        "  'rank': '351'},\n",
        " {'AI': '2.2493',\n",
        "  'EF': '0.048306',\n",
        "  'issn': '0884-0431',\n",
        "  'journal': 'J BONE MINER RES',\n",
        "  'nlmuniqueid': '8610640',\n",
        "  'rank': '352'},\n",
        " {'AI': '0.469',\n",
        "  'EF': '0.048287',\n",
        "  'issn': '0096-3003',\n",
        "  'journal': 'APPL MATH COMPUT',\n",
        "  'nlmuniqueid': '',\n",
        "  'rank': '353'},\n",
        " {'AI': '0.7135',\n",
        "  'EF': '0.048221',\n",
        "  'issn': '0014-2999',\n",
        "  'journal': 'EUR J PHARMACOL',\n",
        "  'nlmuniqueid': '1254354',\n",
        "  'rank': '354'},\n",
        " {'AI': '0.8555',\n",
        "  'EF': '0.048215',\n",
        "  'issn': '0362-2436',\n",
        "  'journal': 'SPINE',\n",
        "  'nlmuniqueid': '7610646',\n",
        "  'rank': '355'},\n",
        " {'AI': '1.594',\n",
        "  'EF': '0.048206',\n",
        "  'issn': '0193-1849',\n",
        "  'journal': 'AM J PHYSIOL-ENDOC M',\n",
        "  'nlmuniqueid': '100901226',\n",
        "  'rank': '356'},\n",
        " {'AI': '1.4876',\n",
        "  'EF': '0.048073',\n",
        "  'issn': '1615-4150',\n",
        "  'journal': 'ADV SYNTH CATAL',\n",
        "  'nlmuniqueid': '',\n",
        "  'rank': '357'},\n",
        " {'AI': '0.3617',\n",
        "  'EF': '0.048056',\n",
        "  'issn': '0168-9002',\n",
        "  'journal': 'NUCL INSTRUM METH A',\n",
        "  'nlmuniqueid': '9881767',\n",
        "  'rank': '358'},\n",
        " {'AI': '2.877',\n",
        "  'EF': '0.047963',\n",
        "  'issn': '0021-8898',\n",
        "  'journal': 'J APPL CRYSTALLOGR',\n",
        "  'nlmuniqueid': '',\n",
        "  'rank': '359'},\n",
        " {'AI': '1.5515',\n",
        "  'EF': '0.047917',\n",
        "  'issn': '0019-1035',\n",
        "  'journal': 'ICARUS',\n",
        "  'nlmuniqueid': '9890634',\n",
        "  'rank': '360'},\n",
        " {'AI': '1.2651',\n",
        "  'EF': '0.047866',\n",
        "  'issn': '0022-3166',\n",
        "  'journal': 'J NUTR',\n",
        "  'nlmuniqueid': '0404243',\n",
        "  'rank': '361'},\n",
        " {'AI': '3.3388',\n",
        "  'EF': '0.047762',\n",
        "  'issn': '0969-2126',\n",
        "  'journal': 'STRUCTURE',\n",
        "  'nlmuniqueid': '101087697',\n",
        "  'rank': '362'},\n",
        " {'AI': '0.767',\n",
        "  'EF': '0.047672',\n",
        "  'issn': '0002-7820',\n",
        "  'journal': 'J AM CERAM SOC',\n",
        "  'nlmuniqueid': '',\n",
        "  'rank': '363'},\n",
        " {'AI': '0.9185',\n",
        "  'EF': '0.047571',\n",
        "  'issn': '0015-0282',\n",
        "  'journal': 'FERTIL STERIL',\n",
        "  'nlmuniqueid': '0372772',\n",
        "  'rank': '364'},\n",
        " {'AI': '0.7048',\n",
        "  'EF': '0.047553',\n",
        "  'issn': '0362-546X',\n",
        "  'journal': 'NONLINEAR ANAL-THEOR',\n",
        "  'nlmuniqueid': '',\n",
        "  'rank': '365'},\n",
        " {'AI': '1.1797',\n",
        "  'EF': '0.047492',\n",
        "  'issn': '0304-3835',\n",
        "  'journal': 'CANCER LETT',\n",
        "  'nlmuniqueid': '7600053',\n",
        "  'rank': '366'},\n",
        " {'AI': '1.4249',\n",
        "  'EF': '0.047354',\n",
        "  'issn': '0926-3373',\n",
        "  'journal': 'APPL CATAL B-ENVIRON',\n",
        "  'nlmuniqueid': '',\n",
        "  'rank': '367'},\n",
        " {'AI': '0.969',\n",
        "  'EF': '0.047326',\n",
        "  'issn': '0031-9015',\n",
        "  'journal': 'J PHYS SOC JPN',\n",
        "  'nlmuniqueid': '',\n",
        "  'rank': '368'},\n",
        " {'AI': '1.3706',\n",
        "  'EF': '0.047282',\n",
        "  'issn': '1068-9265',\n",
        "  'journal': 'ANN SURG ONCOL',\n",
        "  'nlmuniqueid': '9420840',\n",
        "  'rank': '369'},\n",
        " {'AI': '1.5753',\n",
        "  'EF': '0.047267',\n",
        "  'issn': '0006-3207',\n",
        "  'journal': 'BIOL CONSERV',\n",
        "  'nlmuniqueid': '',\n",
        "  'rank': '370'},\n",
        " {'AI': '14.9826',\n",
        "  'EF': '0.047263',\n",
        "  'issn': '0031-9333',\n",
        "  'journal': 'PHYSIOL REV',\n",
        "  'nlmuniqueid': '0231714',\n",
        "  'rank': '371'},\n",
        " {'AI': '1.8701',\n",
        "  'EF': '0.047262',\n",
        "  'issn': '0304-3959',\n",
        "  'journal': 'PAIN',\n",
        "  'nlmuniqueid': '7508686',\n",
        "  'rank': '372'},\n",
        " {'AI': '1.2245',\n",
        "  'EF': '0.047248',\n",
        "  'issn': '0887-3585',\n",
        "  'journal': 'PROTEINS',\n",
        "  'nlmuniqueid': '8700181',\n",
        "  'rank': '373'},\n",
        " {'AI': '1.9095',\n",
        "  'EF': '0.047243',\n",
        "  'issn': '0161-5505',\n",
        "  'journal': 'J NUCL MED',\n",
        "  'nlmuniqueid': '0217410',\n",
        "  'rank': '374'},\n",
        " {'AI': '1.8332',\n",
        "  'EF': '0.047103',\n",
        "  'issn': '1471-2148',\n",
        "  'journal': 'BMC EVOL BIOL',\n",
        "  'nlmuniqueid': '100966975',\n",
        "  'rank': '375'},\n",
        " {'AI': '6.5228',\n",
        "  'EF': '0.047014',\n",
        "  'issn': '0962-8924',\n",
        "  'journal': 'TRENDS CELL BIOL',\n",
        "  'nlmuniqueid': '9200566',\n",
        "  'rank': '376'},\n",
        " {'AI': '7.1329',\n",
        "  'EF': '0.046702',\n",
        "  'issn': '1364-6613',\n",
        "  'journal': 'TRENDS COGN SCI',\n",
        "  'nlmuniqueid': '9708669',\n",
        "  'rank': '377'},\n",
        " {'AI': '3.7476',\n",
        "  'EF': '0.0466',\n",
        "  'issn': '1469-221X',\n",
        "  'journal': 'EMBO REP',\n",
        "  'nlmuniqueid': '100963049',\n",
        "  'rank': '378'},\n",
        " {'AI': '1.7403',\n",
        "  'EF': '0.046568',\n",
        "  'issn': '0741-5400',\n",
        "  'journal': 'J LEUKOCYTE BIOL',\n",
        "  'nlmuniqueid': '8405628',\n",
        "  'rank': '379'},\n",
        " {'AI': '2.1494',\n",
        "  'EF': '0.046516',\n",
        "  'issn': '0009-9147',\n",
        "  'journal': 'CLIN CHEM',\n",
        "  'nlmuniqueid': '9421549',\n",
        "  'rank': '380'},\n",
        " {'AI': '1.6154',\n",
        "  'EF': '0.046456',\n",
        "  'issn': '0021-9967',\n",
        "  'journal': 'J COMP NEUROL',\n",
        "  'nlmuniqueid': '0406041',\n",
        "  'rank': '381'},\n",
        " {'AI': '1.6998',\n",
        "  'EF': '0.04645',\n",
        "  'issn': '0143-3334',\n",
        "  'journal': 'CARCINOGENESIS',\n",
        "  'nlmuniqueid': '8008055',\n",
        "  'rank': '382'},\n",
        " {'AI': '2.2314',\n",
        "  'EF': '0.046449',\n",
        "  'issn': '0390-6078',\n",
        "  'journal': 'HAEMATOL-HEMATOL J',\n",
        "  'nlmuniqueid': '0417435',\n",
        "  'rank': '383'},\n",
        " {'AI': '1.7482',\n",
        "  'EF': '0.046427',\n",
        "  'issn': '0168-3659',\n",
        "  'journal': 'J CONTROL RELEASE',\n",
        "  'nlmuniqueid': '8607908',\n",
        "  'rank': '384'},\n",
        " {'AI': '1.1362',\n",
        "  'EF': '0.046157',\n",
        "  'issn': '0022-0949',\n",
        "  'journal': 'J EXP BIOL',\n",
        "  'nlmuniqueid': '0243705',\n",
        "  'rank': '385'},\n",
        " {'AI': '0.9108',\n",
        "  'EF': '0.046019',\n",
        "  'issn': '0175-7598',\n",
        "  'journal': 'APPL MICROBIOL BIOT',\n",
        "  'nlmuniqueid': '8406612',\n",
        "  'rank': '386'},\n",
        " {'AI': '6.6258',\n",
        "  'EF': '0.045691',\n",
        "  'issn': '0166-2236',\n",
        "  'journal': 'TRENDS NEUROSCI',\n",
        "  'nlmuniqueid': '7808616',\n",
        "  'rank': '387'},\n",
        " {'AI': '2.4792',\n",
        "  'EF': '0.045605',\n",
        "  'issn': '0003-9942',\n",
        "  'journal': 'ARCH NEUROL-CHICAGO',\n",
        "  'nlmuniqueid': '0372436',\n",
        "  'rank': '388'},\n",
        " {'AI': '1.2601',\n",
        "  'EF': '0.045574',\n",
        "  'issn': '0885-3185',\n",
        "  'journal': 'MOVEMENT DISORD',\n",
        "  'nlmuniqueid': '8610688',\n",
        "  'rank': '389'},\n",
        " {'AI': '0.9313',\n",
        "  'EF': '0.045418',\n",
        "  'issn': '0926-860X',\n",
        "  'journal': 'APPL CATAL A-GEN',\n",
        "  'nlmuniqueid': '',\n",
        "  'rank': '390'},\n",
        " {'AI': '1.1974',\n",
        "  'EF': '0.045414',\n",
        "  'issn': '0018-9480',\n",
        "  'journal': 'IEEE T MICROW THEORY',\n",
        "  'nlmuniqueid': '',\n",
        "  'rank': '391'},\n",
        " {'AI': '10.7437',\n",
        "  'EF': '0.04532',\n",
        "  'issn': '0370-1573',\n",
        "  'journal': 'PHYS REP',\n",
        "  'nlmuniqueid': '9876465',\n",
        "  'rank': '392'},\n",
        " {'AI': '1.3547',\n",
        "  'EF': '0.045318',\n",
        "  'issn': '0021-9541',\n",
        "  'journal': 'J CELL PHYSIOL',\n",
        "  'nlmuniqueid': '0050222',\n",
        "  'rank': '393'},\n",
        " {'AI': '1.5182',\n",
        "  'EF': '0.045246',\n",
        "  'issn': '0026-895X',\n",
        "  'journal': 'MOL PHARMACOL',\n",
        "  'nlmuniqueid': '0035623',\n",
        "  'rank': '394'},\n",
        " {'AI': '0.9918',\n",
        "  'EF': '0.045239',\n",
        "  'issn': '1070-6631',\n",
        "  'journal': 'PHYS FLUIDS',\n",
        "  'nlmuniqueid': '',\n",
        "  'rank': '395'},\n",
        " {'AI': '1.3757',\n",
        "  'EF': '0.045212',\n",
        "  'issn': '0006-2952',\n",
        "  'journal': 'BIOCHEM PHARMACOL',\n",
        "  'nlmuniqueid': '0101032',\n",
        "  'rank': '396'},\n",
        " {'AI': '1.0963',\n",
        "  'EF': '0.045199',\n",
        "  'issn': '0148-396X',\n",
        "  'journal': 'NEUROSURGERY',\n",
        "  'nlmuniqueid': '7802914',\n",
        "  'rank': '397'},\n",
        " {'AI': '24.5356',\n",
        "  'EF': '0.044999',\n",
        "  'issn': '0007-9235',\n",
        "  'journal': 'CA-CANCER J CLIN',\n",
        "  'nlmuniqueid': '0370647',\n",
        "  'rank': '398'},\n",
        " {'AI': '1.0575',\n",
        "  'EF': '0.044839',\n",
        "  'issn': '0269-7491',\n",
        "  'journal': 'ENVIRON POLLUT',\n",
        "  'nlmuniqueid': '8804476',\n",
        "  'rank': '399'},\n",
        " {'AI': '1.077',\n",
        "  'EF': '0.044836',\n",
        "  'issn': '0741-5214',\n",
        "  'journal': 'J VASC SURG',\n",
        "  'nlmuniqueid': '8407742',\n",
        "  'rank': '400'},\n",
        " {'AI': '1.107',\n",
        "  'EF': '0.044746',\n",
        "  'issn': '0043-1397',\n",
        "  'journal': 'WATER RESOUR RES',\n",
        "  'nlmuniqueid': '7501965',\n",
        "  'rank': '401'},\n",
        " {'AI': '1.257',\n",
        "  'EF': '0.044678',\n",
        "  'issn': '0956-540X',\n",
        "  'journal': 'GEOPHYS J INT',\n",
        "  'nlmuniqueid': '',\n",
        "  'rank': '402'},\n",
        " {'AI': '2.6105',\n",
        "  'EF': '0.044477',\n",
        "  'issn': '0003-0147',\n",
        "  'journal': 'AM NAT',\n",
        "  'nlmuniqueid': '2984688R',\n",
        "  'rank': '403'},\n",
        " {'AI': '1.7189',\n",
        "  'EF': '0.044388',\n",
        "  'issn': '1525-4135',\n",
        "  'journal': 'JAIDS-J ACQ IMM DEF',\n",
        "  'nlmuniqueid': '100892005',\n",
        "  'rank': '404'},\n",
        " {'AI': '1.0226',\n",
        "  'EF': '0.044375',\n",
        "  'issn': '0022-1694',\n",
        "  'journal': 'J HYDROL',\n",
        "  'nlmuniqueid': '',\n",
        "  'rank': '405'},\n",
        " {'AI': '1.3917',\n",
        "  'EF': '0.044309',\n",
        "  'issn': '0167-6806',\n",
        "  'journal': 'BREAST CANCER RES TR',\n",
        "  'nlmuniqueid': '8111104',\n",
        "  'rank': '406'},\n",
        " {'AI': '1.5726',\n",
        "  'EF': '0.044185',\n",
        "  'issn': '0021-9517',\n",
        "  'journal': 'J CATAL',\n",
        "  'nlmuniqueid': '',\n",
        "  'rank': '407'},\n",
        " {'AI': '8.6478',\n",
        "  'EF': '0.043933',\n",
        "  'issn': '0012-9682',\n",
        "  'journal': 'ECONOMETRICA',\n",
        "  'nlmuniqueid': '101085302',\n",
        "  'rank': '408'},\n",
        " {'AI': '1.0848',\n",
        "  'EF': '0.043592',\n",
        "  'issn': '0363-6119',\n",
        "  'journal': 'AM J PHYSIOL-REG I',\n",
        "  'nlmuniqueid': '100901230',\n",
        "  'rank': '409'},\n",
        " {'AI': '4.1569',\n",
        "  'EF': '0.043151',\n",
        "  'issn': '0090-5364',\n",
        "  'journal': 'ANN STAT',\n",
        "  'nlmuniqueid': '',\n",
        "  'rank': '410'},\n",
        " {'AI': '0.72',\n",
        "  'EF': '0.043048',\n",
        "  'issn': '0887-624X',\n",
        "  'journal': 'J POLYM SCI POL CHEM',\n",
        "  'nlmuniqueid': '',\n",
        "  'rank': '411'},\n",
        " {'AI': '2.0219',\n",
        "  'EF': '0.042978',\n",
        "  'issn': '1525-0016',\n",
        "  'journal': 'MOL THER',\n",
        "  'nlmuniqueid': '100890581',\n",
        "  'rank': '412'},\n",
        " {'AI': '1.4986',\n",
        "  'EF': '0.042792',\n",
        "  'issn': '0300-5127',\n",
        "  'journal': 'BIOCHEM SOC T',\n",
        "  'nlmuniqueid': '7506897',\n",
        "  'rank': '413'},\n",
        " {'AI': '1.6491',\n",
        "  'EF': '0.042676',\n",
        "  'issn': '0018-9200',\n",
        "  'journal': 'IEEE J SOLID-ST CIRC',\n",
        "  'nlmuniqueid': '',\n",
        "  'rank': '414'},\n",
        " {'AI': '1.1243',\n",
        "  'EF': '0.042517',\n",
        "  'issn': '0268-1161',\n",
        "  'journal': 'HUM REPROD',\n",
        "  'nlmuniqueid': '8701199',\n",
        "  'rank': '415'},\n",
        " {'AI': '1.3719',\n",
        "  'EF': '0.04237',\n",
        "  'issn': '0363-6143',\n",
        "  'journal': 'AM J PHYSIOL-CELL PH',\n",
        "  'nlmuniqueid': '100901225',\n",
        "  'rank': '416'},\n",
        " {'AI': '1.3304',\n",
        "  'EF': '0.042334',\n",
        "  'issn': '1055-7903',\n",
        "  'journal': 'MOL PHYLOGENET EVOL',\n",
        "  'nlmuniqueid': '9304400',\n",
        "  'rank': '417'},\n",
        " {'AI': '0.4914',\n",
        "  'EF': '0.042167',\n",
        "  'issn': '0022-0248',\n",
        "  'journal': 'J CRYST GROWTH',\n",
        "  'nlmuniqueid': '100971389',\n",
        "  'rank': '418'},\n",
        " {'AI': '1.0564',\n",
        "  'EF': '0.042121',\n",
        "  'issn': '0730-2312',\n",
        "  'journal': 'J CELL BIOCHEM',\n",
        "  'nlmuniqueid': '8205768',\n",
        "  'rank': '419'},\n",
        " {'AI': '1.8448',\n",
        "  'EF': '0.042089',\n",
        "  'issn': '0010-3616',\n",
        "  'journal': 'COMMUN MATH PHYS',\n",
        "  'nlmuniqueid': '',\n",
        "  'rank': '420'},\n",
        " {'AI': '1.3658',\n",
        "  'EF': '0.042081',\n",
        "  'issn': '0014-4827',\n",
        "  'journal': 'EXP CELL RES',\n",
        "  'nlmuniqueid': '0373226',\n",
        "  'rank': '421'},\n",
        " {'AI': '0.733',\n",
        "  'EF': '0.042024',\n",
        "  'issn': '0887-0624',\n",
        "  'journal': 'ENERG FUEL',\n",
        "  'nlmuniqueid': '100971627',\n",
        "  'rank': '422'},\n",
        " {'AI': '0.8248',\n",
        "  'EF': '0.04198',\n",
        "  'issn': '0017-9310',\n",
        "  'journal': 'INT J HEAT MASS TRAN',\n",
        "  'nlmuniqueid': '',\n",
        "  'rank': '423'},\n",
        " {'AI': '6.9747',\n",
        "  'EF': '0.041957',\n",
        "  'issn': '1931-3128',\n",
        "  'journal': 'CELL HOST MICROBE',\n",
        "  'nlmuniqueid': '101302316',\n",
        "  'rank': '424'},\n",
        " {'AI': '2.5126',\n",
        "  'EF': '0.041887',\n",
        "  'issn': '0898-929X',\n",
        "  'journal': 'J COGNITIVE NEUROSCI',\n",
        "  'nlmuniqueid': '8910747',\n",
        "  'rank': '425'},\n",
        " {'AI': '2.7197',\n",
        "  'EF': '0.0417',\n",
        "  'issn': '0733-8716',\n",
        "  'journal': 'IEEE J SEL AREA COMM',\n",
        "  'nlmuniqueid': '',\n",
        "  'rank': '426'},\n",
        " {'AI': '3.211',\n",
        "  'EF': '0.041694',\n",
        "  'issn': '0010-8545',\n",
        "  'journal': 'COORDIN CHEM REV',\n",
        "  'nlmuniqueid': '',\n",
        "  'rank': '427'},\n",
        " {'AI': '5.8696',\n",
        "  'EF': '0.04166',\n",
        "  'issn': '0968-0004',\n",
        "  'journal': 'TRENDS BIOCHEM SCI',\n",
        "  'nlmuniqueid': '7610674',\n",
        "  'rank': '428'},\n",
        " {'AI': '1.2007',\n",
        "  'EF': '0.04164',\n",
        "  'issn': '0013-9580',\n",
        "  'journal': 'EPILEPSIA',\n",
        "  'nlmuniqueid': '2983306R',\n",
        "  'rank': '429'},\n",
        " {'AI': '1.1892',\n",
        "  'EF': '0.041396',\n",
        "  'issn': '1439-4235',\n",
        "  'journal': 'CHEMPHYSCHEM',\n",
        "  'nlmuniqueid': '100954211',\n",
        "  'rank': '430'},\n",
        " {'AI': '0.9217',\n",
        "  'EF': '0.041329',\n",
        "  'issn': '0920-5861',\n",
        "  'journal': 'CATAL TODAY',\n",
        "  'nlmuniqueid': '',\n",
        "  'rank': '431'},\n",
        " {'AI': '0.788',\n",
        "  'EF': '0.041291',\n",
        "  'issn': '0378-5173',\n",
        "  'journal': 'INT J PHARMACEUT',\n",
        "  'nlmuniqueid': '7804127',\n",
        "  'rank': '432'},\n",
        " {'AI': '1.5127',\n",
        "  'EF': '0.041255',\n",
        "  'issn': '0277-6715',\n",
        "  'journal': 'STAT MED',\n",
        "  'nlmuniqueid': '8215016',\n",
        "  'rank': '433'},\n",
        " {'AI': '1.2134',\n",
        "  'EF': '0.041192',\n",
        "  'issn': '0741-3106',\n",
        "  'journal': 'IEEE ELECTR DEVICE L',\n",
        "  'nlmuniqueid': '',\n",
        "  'rank': '434'},\n",
        " {'AI': '4.8697',\n",
        "  'EF': '0.041083',\n",
        "  'issn': '0959-440X',\n",
        "  'journal': 'CURR OPIN STRUC BIOL',\n",
        "  'nlmuniqueid': '9107784',\n",
        "  'rank': '435'},\n",
        " {'AI': '1.5329',\n",
        "  'EF': '0.041017',\n",
        "  'issn': '0022-3476',\n",
        "  'journal': 'J PEDIATR-US',\n",
        "  'nlmuniqueid': '0375410',\n",
        "  'rank': '436'},\n",
        " {'AI': '0.7367',\n",
        "  'EF': '0.040977',\n",
        "  'issn': '0090-4295',\n",
        "  'journal': 'UROLOGY',\n",
        "  'nlmuniqueid': '0366151',\n",
        "  'rank': '437'},\n",
        " {'AI': '1.5995',\n",
        "  'EF': '0.040865',\n",
        "  'issn': '0884-8734',\n",
        "  'journal': 'J GEN INTERN MED',\n",
        "  'nlmuniqueid': '8605834',\n",
        "  'rank': '438'},\n",
        " {'AI': '0.892',\n",
        "  'EF': '0.040851',\n",
        "  'issn': '0733-8724',\n",
        "  'journal': 'J LIGHTWAVE TECHNOL',\n",
        "  'nlmuniqueid': '',\n",
        "  'rank': '439'},\n",
        " {'AI': '3.3766',\n",
        "  'EF': '0.04081',\n",
        "  'issn': '0018-9219',\n",
        "  'journal': 'P IEEE',\n",
        "  'nlmuniqueid': '',\n",
        "  'rank': '440'},\n",
        " {'AI': '0.7936',\n",
        "  'EF': '0.040694',\n",
        "  'issn': '0378-1127',\n",
        "  'journal': 'FOREST ECOL MANAG',\n",
        "  'nlmuniqueid': '',\n",
        "  'rank': '441'},\n",
        " {'AI': '0.6615',\n",
        "  'EF': '0.040633',\n",
        "  'issn': '0936-5214',\n",
        "  'journal': 'SYNLETT',\n",
        "  'nlmuniqueid': '',\n",
        "  'rank': '442'},\n",
        " {'AI': '1.438',\n",
        "  'EF': '0.040588',\n",
        "  'issn': '0005-1098',\n",
        "  'journal': 'AUTOMATICA',\n",
        "  'nlmuniqueid': '',\n",
        "  'rank': '443'},\n",
        " {'AI': '4.6472',\n",
        "  'EF': '0.04057',\n",
        "  'issn': '1359-4184',\n",
        "  'journal': 'MOL PSYCHIATR',\n",
        "  'nlmuniqueid': '9607835',\n",
        "  'rank': '444'},\n",
        " {'AI': '1.4964',\n",
        "  'EF': '0.040342',\n",
        "  'issn': '0029-8549',\n",
        "  'journal': 'OECOLOGIA',\n",
        "  'nlmuniqueid': '0150372',\n",
        "  'rank': '445'},\n",
        " {'AI': '4.725',\n",
        "  'EF': '0.040295',\n",
        "  'issn': '0959-4388',\n",
        "  'journal': 'CURR OPIN NEUROBIOL',\n",
        "  'nlmuniqueid': '9111376',\n",
        "  'rank': '446'},\n",
        " {'AI': '0.8158',\n",
        "  'EF': '0.04029',\n",
        "  'issn': '0022-5282',\n",
        "  'journal': 'J TRAUMA',\n",
        "  'nlmuniqueid': '0376373',\n",
        "  'rank': '447'},\n",
        " {'AI': '1.1349',\n",
        "  'EF': '0.040253',\n",
        "  'issn': '0278-0046',\n",
        "  'journal': 'IEEE T IND ELECTRON',\n",
        "  'nlmuniqueid': '',\n",
        "  'rank': '448'},\n",
        " {'AI': '2.3449',\n",
        "  'EF': '0.040211',\n",
        "  'issn': '1059-7794',\n",
        "  'journal': 'HUM MUTAT',\n",
        "  'nlmuniqueid': '9215429',\n",
        "  'rank': '449'},\n",
        " {'AI': '1.327',\n",
        "  'EF': '0.04018',\n",
        "  'issn': '0045-7825',\n",
        "  'journal': 'COMPUT METHOD APPL M',\n",
        "  'nlmuniqueid': '',\n",
        "  'rank': '450'},\n",
        " {'AI': '0.9996',\n",
        "  'EF': '0.040149',\n",
        "  'issn': '0018-9383',\n",
        "  'journal': 'IEEE T ELECTRON DEV',\n",
        "  'nlmuniqueid': '',\n",
        "  'rank': '451'},\n",
        " {'AI': '1.7178',\n",
        "  'EF': '0.040136',\n",
        "  'issn': '1549-9618',\n",
        "  'journal': 'J CHEM THEORY COMPUT',\n",
        "  'nlmuniqueid': '',\n",
        "  'rank': '452'},\n",
        " {'AI': '0.834',\n",
        "  'EF': '0.040122',\n",
        "  'issn': '0031-9155',\n",
        "  'journal': 'PHYS MED BIOL',\n",
        "  'nlmuniqueid': '0401220',\n",
        "  'rank': '453'},\n",
        " {'AI': '1.425',\n",
        "  'EF': '0.040063',\n",
        "  'issn': '8756-3282',\n",
        "  'journal': 'BONE',\n",
        "  'nlmuniqueid': '',\n",
        "  'rank': '454'},\n",
        " {'AI': '1.7572',\n",
        "  'EF': '0.040026',\n",
        "  'issn': '0307-0565',\n",
        "  'journal': 'INT J OBESITY',\n",
        "  'nlmuniqueid': '7703240',\n",
        "  'rank': '455'},\n",
        " {'AI': '1.751',\n",
        "  'EF': '0.039949',\n",
        "  'issn': '0022-3050',\n",
        "  'journal': 'J NEUROL NEUROSUR PS',\n",
        "  'nlmuniqueid': '2985191R',\n",
        "  'rank': '456'},\n",
        " {'AI': '0.8635',\n",
        "  'EF': '0.039876',\n",
        "  'issn': '1464-4096',\n",
        "  'journal': 'BJU INT',\n",
        "  'nlmuniqueid': '100886721',\n",
        "  'rank': '457'},\n",
        " {'AI': '0.5829',\n",
        "  'EF': '0.039748',\n",
        "  'issn': '0001-4966',\n",
        "  'journal': 'J ACOUST SOC AM',\n",
        "  'nlmuniqueid': '7503051',\n",
        "  'rank': '458'},\n",
        " {'AI': '1.5194',\n",
        "  'EF': '0.03971',\n",
        "  'issn': '0002-8614',\n",
        "  'journal': 'J AM GERIATR SOC',\n",
        "  'nlmuniqueid': '7503062',\n",
        "  'rank': '459'},\n",
        " {'AI': '0.8489',\n",
        "  'EF': '0.039702',\n",
        "  'issn': '0003-2999',\n",
        "  'journal': 'ANESTH ANALG',\n",
        "  'nlmuniqueid': '1310650',\n",
        "  'rank': '460'},\n",
        " {'AI': '1.4309',\n",
        "  'EF': '0.039678',\n",
        "  'issn': '0920-9964',\n",
        "  'journal': 'SCHIZOPHR RES',\n",
        "  'nlmuniqueid': '',\n",
        "  'rank': '461'},\n",
        " {'AI': '1.1401',\n",
        "  'EF': '0.039582',\n",
        "  'issn': '1350-0872',\n",
        "  'journal': 'MICROBIOL-SGM',\n",
        "  'nlmuniqueid': '9430468',\n",
        "  'rank': '462'},\n",
        " {'AI': '0.705',\n",
        "  'EF': '0.03958',\n",
        "  'issn': '0009-2509',\n",
        "  'journal': 'CHEM ENG SCI',\n",
        "  'nlmuniqueid': '',\n",
        "  'rank': '463'},\n",
        " {'AI': '1.7108',\n",
        "  'EF': '0.039503',\n",
        "  'issn': '0009-2541',\n",
        "  'journal': 'CHEM GEOL',\n",
        "  'nlmuniqueid': '100971315',\n",
        "  'rank': '464'},\n",
        " {'AI': '3.8584',\n",
        "  'EF': '0.039344',\n",
        "  'issn': '0169-409X',\n",
        "  'journal': 'ADV DRUG DELIVER REV',\n",
        "  'nlmuniqueid': '8710523',\n",
        "  'rank': '465'},\n",
        " {'AI': '0.8209',\n",
        "  'EF': '0.039281',\n",
        "  'issn': '1385-8947',\n",
        "  'journal': 'CHEM ENG J',\n",
        "  'nlmuniqueid': '',\n",
        "  'rank': '466'},\n",
        " {'AI': '1.3372',\n",
        "  'EF': '0.039264',\n",
        "  'issn': '0002-9394',\n",
        "  'journal': 'AM J OPHTHALMOL',\n",
        "  'nlmuniqueid': '0370500',\n",
        "  'rank': '467'},\n",
        " {'AI': '1.2058',\n",
        "  'EF': '0.039208',\n",
        "  'issn': '1931-857X',\n",
        "  'journal': 'AM J PHYSIOL-RENAL',\n",
        "  'nlmuniqueid': '',\n",
        "  'rank': '468'},\n",
        " {'AI': '5.8328',\n",
        "  'EF': '0.039153',\n",
        "  'issn': '1744-4292',\n",
        "  'journal': 'MOL SYST BIOL',\n",
        "  'nlmuniqueid': '101235389',\n",
        "  'rank': '469'},\n",
        " {'AI': '1.1776',\n",
        "  'EF': '0.039006',\n",
        "  'issn': '1076-3279',\n",
        "  'journal': 'TISSUE ENG',\n",
        "  'nlmuniqueid': '9505538',\n",
        "  'rank': '470'},\n",
        " {'AI': '0.7512',\n",
        "  'EF': '0.039002',\n",
        "  'issn': '1570-0232',\n",
        "  'journal': 'J CHROMATOGR B',\n",
        "  'nlmuniqueid': '101139554',\n",
        "  'rank': '471'},\n",
        " {'AI': '1.3961',\n",
        "  'EF': '0.038997',\n",
        "  'issn': '1462-0324',\n",
        "  'journal': 'RHEUMATOLOGY',\n",
        "  'nlmuniqueid': '100883501',\n",
        "  'rank': '472'},\n",
        " {'AI': '1.3745',\n",
        "  'EF': '0.038847',\n",
        "  'issn': '0014-4886',\n",
        "  'journal': 'EXP NEUROL',\n",
        "  'nlmuniqueid': '0370712',\n",
        "  'rank': '473'},\n",
        " {'AI': '1.2506',\n",
        "  'EF': '0.038761',\n",
        "  'issn': '0033-3158',\n",
        "  'journal': 'PSYCHOPHARMACOLOGY',\n",
        "  'nlmuniqueid': '7609417',\n",
        "  'rank': '474'},\n",
        " {'AI': '1.3141',\n",
        "  'EF': '0.038682',\n",
        "  'issn': '0927-0248',\n",
        "  'journal': 'SOL ENERG MAT SOL C',\n",
        "  'nlmuniqueid': '',\n",
        "  'rank': '475'},\n",
        " {'AI': '1.0075',\n",
        "  'EF': '0.038414',\n",
        "  'issn': '0090-8258',\n",
        "  'journal': 'GYNECOL ONCOL',\n",
        "  'nlmuniqueid': '0365304',\n",
        "  'rank': '476'},\n",
        " {'AI': '1.3255',\n",
        "  'EF': '0.038409',\n",
        "  'issn': '0018-9286',\n",
        "  'journal': 'IEEE T AUTOMAT CONTR',\n",
        "  'nlmuniqueid': '',\n",
        "  'rank': '477'},\n",
        " {'AI': '1.0101',\n",
        "  'EF': '0.038347',\n",
        "  'issn': '1471-2407',\n",
        "  'journal': 'BMC CANCER',\n",
        "  'nlmuniqueid': '100967800',\n",
        "  'rank': '478'},\n",
        " {'AI': '0.9647',\n",
        "  'EF': '0.03834',\n",
        "  'issn': '0166-4328',\n",
        "  'journal': 'BEHAV BRAIN RES',\n",
        "  'nlmuniqueid': '8004872',\n",
        "  'rank': '479'},\n",
        " {'AI': '1.2712',\n",
        "  'EF': '0.038329',\n",
        "  'issn': '0003-3472',\n",
        "  'journal': 'ANIM BEHAV',\n",
        "  'nlmuniqueid': '0376746',\n",
        "  'rank': '480'},\n",
        " {'AI': '1.9296',\n",
        "  'EF': '0.038184',\n",
        "  'issn': '0001-8708',\n",
        "  'journal': 'ADV MATH',\n",
        "  'nlmuniqueid': '',\n",
        "  'rank': '481'},\n",
        " {'AI': '1.2333',\n",
        "  'EF': '0.038158',\n",
        "  'issn': '1434-6044',\n",
        "  'journal': 'EUR PHYS J C',\n",
        "  'nlmuniqueid': '',\n",
        "  'rank': '482'},\n",
        " {'AI': '1.905',\n",
        "  'EF': '0.038152',\n",
        "  'issn': '0277-3791',\n",
        "  'journal': 'QUATERNARY SCI REV',\n",
        "  'nlmuniqueid': '',\n",
        "  'rank': '483'},\n",
        " {'AI': '1.2899',\n",
        "  'EF': '0.038135',\n",
        "  'issn': '1058-8388',\n",
        "  'journal': 'DEV DYNAM',\n",
        "  'nlmuniqueid': '9201927',\n",
        "  'rank': '484'},\n",
        " {'AI': '1.9208',\n",
        "  'EF': '0.038116',\n",
        "  'issn': '0749-3797',\n",
        "  'journal': 'AM J PREV MED',\n",
        "  'nlmuniqueid': '8704773',\n",
        "  'rank': '485'},\n",
        " {'AI': '0.6139',\n",
        "  'EF': '0.038066',\n",
        "  'issn': '1041-1135',\n",
        "  'journal': 'IEEE PHOTONIC TECH L',\n",
        "  'nlmuniqueid': '',\n",
        "  'rank': '486'},\n",
        " {'AI': '4.1364',\n",
        "  'EF': '0.037931',\n",
        "  'issn': '0952-7915',\n",
        "  'journal': 'CURR OPIN IMMUNOL',\n",
        "  'nlmuniqueid': '8900118',\n",
        "  'rank': '487'},\n",
        " {'AI': '1.549',\n",
        "  'EF': '0.037868',\n",
        "  'issn': '1355-6037',\n",
        "  'journal': 'HEART',\n",
        "  'nlmuniqueid': '9602087',\n",
        "  'rank': '488'},\n",
        " {'AI': '0.7537',\n",
        "  'EF': '0.037737',\n",
        "  'issn': '0301-4215',\n",
        "  'journal': 'ENERG POLICY',\n",
        "  'nlmuniqueid': '9876005',\n",
        "  'rank': '489'},\n",
        " {'AI': '1.1393',\n",
        "  'EF': '0.037716',\n",
        "  'issn': '0266-3538',\n",
        "  'journal': 'COMPOS SCI TECHNOL',\n",
        "  'nlmuniqueid': '',\n",
        "  'rank': '490'},\n",
        " {'AI': '2.2339',\n",
        "  'EF': '0.037611',\n",
        "  'issn': '1051-0761',\n",
        "  'journal': 'ECOL APPL',\n",
        "  'nlmuniqueid': '9889808',\n",
        "  'rank': '491'},\n",
        " {'AI': '0.9518',\n",
        "  'EF': '0.037584',\n",
        "  'issn': '0930-2794',\n",
        "  'journal': 'SURG ENDOSC',\n",
        "  'nlmuniqueid': '8806653',\n",
        "  'rank': '492'},\n",
        " {'AI': '2.8896',\n",
        "  'EF': '0.037468',\n",
        "  'issn': '0300-5771',\n",
        "  'journal': 'INT J EPIDEMIOL',\n",
        "  'nlmuniqueid': '7802871',\n",
        "  'rank': '493'},\n",
        " {'AI': '1.6919',\n",
        "  'EF': '0.037452',\n",
        "  'issn': '0272-6386',\n",
        "  'journal': 'AM J KIDNEY DIS',\n",
        "  'nlmuniqueid': '8110075',\n",
        "  'rank': '494'},\n",
        " {'AI': '1.7375',\n",
        "  'EF': '0.037282',\n",
        "  'issn': '1555-9041',\n",
        "  'journal': 'CLIN J AM SOC NEPHRO',\n",
        "  'nlmuniqueid': '101271570',\n",
        "  'rank': '495'},\n",
        " {'AI': '0.6302',\n",
        "  'EF': '0.037261',\n",
        "  'issn': '0254-0584',\n",
        "  'journal': 'MATER CHEM PHYS',\n",
        "  'nlmuniqueid': '',\n",
        "  'rank': '496'},\n",
        " {'AI': '0.8237',\n",
        "  'EF': '0.037237',\n",
        "  'issn': '0018-926X',\n",
        "  'journal': 'IEEE T ANTENN PROPAG',\n",
        "  'nlmuniqueid': '',\n",
        "  'rank': '497'},\n",
        " {'AI': '1.5449',\n",
        "  'EF': '0.037203',\n",
        "  'issn': '0003-3022',\n",
        "  'journal': 'ANESTHESIOLOGY',\n",
        "  'nlmuniqueid': '1300217',\n",
        "  'rank': '498'},\n",
        " {'AI': '1.6099',\n",
        "  'EF': '0.037172',\n",
        "  'issn': '1057-7149',\n",
        "  'journal': 'IEEE T IMAGE PROCESS',\n",
        "  'nlmuniqueid': '9886191',\n",
        "  'rank': '499'},\n",
        " {'AI': '0.5846',\n",
        "  'EF': '0.037121',\n",
        "  'issn': '0924-0136',\n",
        "  'journal': 'J MATER PROCESS TECH',\n",
        "  'nlmuniqueid': '',\n",
        "  'rank': '500'},\n",
        " {'AI': '1.61',\n",
        "  'EF': '0.037028',\n",
        "  'issn': '1357-2725',\n",
        "  'journal': 'INT J BIOCHEM CELL B',\n",
        "  'nlmuniqueid': '9508482',\n",
        "  'rank': '501'},\n",
        " {'AI': '2.3691',\n",
        "  'EF': '0.037018',\n",
        "  'issn': '1523-0864',\n",
        "  'journal': 'ANTIOXID REDOX SIGN',\n",
        "  'nlmuniqueid': '100888899',\n",
        "  'rank': '502'},\n",
        " {'AI': '0.696',\n",
        "  'EF': '0.037007',\n",
        "  'issn': '0022-460X',\n",
        "  'journal': 'J SOUND VIB',\n",
        "  'nlmuniqueid': '',\n",
        "  'rank': '503'},\n",
        " {'AI': '1.1473',\n",
        "  'EF': '0.036908',\n",
        "  'issn': '0007-0963',\n",
        "  'journal': 'BRIT J DERMATOL',\n",
        "  'nlmuniqueid': '0004041',\n",
        "  'rank': '504'},\n",
        " {'AI': '3.1151',\n",
        "  'EF': '0.036907',\n",
        "  'issn': '0162-1459',\n",
        "  'journal': 'J AM STAT ASSOC',\n",
        "  'nlmuniqueid': '01510020R',\n",
        "  'rank': '505'},\n",
        " {'AI': '1.1905',\n",
        "  'EF': '0.0369',\n",
        "  'issn': '0038-0717',\n",
        "  'journal': 'SOIL BIOL BIOCHEM',\n",
        "  'nlmuniqueid': '0244736',\n",
        "  'rank': '506'},\n",
        " {'AI': '0.7676',\n",
        "  'EF': '0.036787',\n",
        "  'issn': '0038-1098',\n",
        "  'journal': 'SOLID STATE COMMUN',\n",
        "  'nlmuniqueid': '',\n",
        "  'rank': '507'},\n",
        " {'AI': '1.0632',\n",
        "  'EF': '0.03652',\n",
        "  'issn': '0195-6108',\n",
        "  'journal': 'AM J NEURORADIOL',\n",
        "  'nlmuniqueid': '8003708',\n",
        "  'rank': '508'},\n",
        " {'AI': '1.6889',\n",
        "  'EF': '0.036395',\n",
        "  'issn': '0160-6689',\n",
        "  'journal': 'J CLIN PSYCHIAT',\n",
        "  'nlmuniqueid': '7801243',\n",
        "  'rank': '509'},\n",
        " {'AI': '2.8386',\n",
        "  'EF': '0.036391',\n",
        "  'issn': '0304-4076',\n",
        "  'journal': 'J ECONOMETRICS',\n",
        "  'nlmuniqueid': '101085117',\n",
        "  'rank': '510'},\n",
        " {'AI': '1.1174',\n",
        "  'EF': '0.036335',\n",
        "  'issn': '0315-162X',\n",
        "  'journal': 'J RHEUMATOL',\n",
        "  'nlmuniqueid': '7501984',\n",
        "  'rank': '511'},\n",
        " {'AI': '0.6647',\n",
        "  'EF': '0.036317',\n",
        "  'issn': '1434-1948',\n",
        "  'journal': 'EUR J INORG CHEM',\n",
        "  'nlmuniqueid': '',\n",
        "  'rank': '512'},\n",
        " {'AI': '1.0982',\n",
        "  'EF': '0.036316',\n",
        "  'issn': '0740-3194',\n",
        "  'journal': 'MAGN RESON MED',\n",
        "  'nlmuniqueid': '8505245',\n",
        "  'rank': '513'},\n",
        " {'AI': '0.5883',\n",
        "  'EF': '0.036273',\n",
        "  'issn': '0927-7757',\n",
        "  'journal': 'COLLOID SURFACE A',\n",
        "  'nlmuniqueid': '',\n",
        "  'rank': '514'},\n",
        " {'AI': '0.505',\n",
        "  'EF': '0.036211',\n",
        "  'issn': '0011-9164',\n",
        "  'journal': 'DESALINATION',\n",
        "  'nlmuniqueid': '',\n",
        "  'rank': '515'},\n",
        " {'AI': '1.3653',\n",
        "  'EF': '0.036206',\n",
        "  'issn': '0016-5107',\n",
        "  'journal': 'GASTROINTEST ENDOSC',\n",
        "  'nlmuniqueid': '0010505',\n",
        "  'rank': '516'},\n",
        " {'AI': '2.3818',\n",
        "  'EF': '0.036169',\n",
        "  'issn': '1065-9471',\n",
        "  'journal': 'HUM BRAIN MAPP',\n",
        "  'nlmuniqueid': '9419065',\n",
        "  'rank': '517'},\n",
        " {'AI': '0.8223',\n",
        "  'EF': '0.036134',\n",
        "  'issn': '1471-2458',\n",
        "  'journal': 'BMC PUBLIC HEALTH',\n",
        "  'nlmuniqueid': '100968562',\n",
        "  'rank': '518'},\n",
        " {'AI': '4.4765',\n",
        "  'EF': '0.036124',\n",
        "  'issn': '0168-9525',\n",
        "  'journal': 'TRENDS GENET',\n",
        "  'nlmuniqueid': '8507085',\n",
        "  'rank': '519'},\n",
        " {'AI': '1.4069',\n",
        "  'EF': '0.036072',\n",
        "  'issn': '0195-9131',\n",
        "  'journal': 'MED SCI SPORT EXER',\n",
        "  'nlmuniqueid': '8005433',\n",
        "  'rank': '520'},\n",
        " {'AI': '2.4304',\n",
        "  'EF': '0.035927',\n",
        "  'issn': '0040-6376',\n",
        "  'journal': 'THORAX',\n",
        "  'nlmuniqueid': '0417353',\n",
        "  'rank': '521'},\n",
        " {'AI': '0.8522',\n",
        "  'EF': '0.035902',\n",
        "  'issn': '0014-4819',\n",
        "  'journal': 'EXP BRAIN RES',\n",
        "  'nlmuniqueid': '0043312',\n",
        "  'rank': '522'},\n",
        " {'AI': '1.616',\n",
        "  'EF': '0.035832',\n",
        "  'issn': '1466-609X',\n",
        "  'journal': 'CRIT CARE',\n",
        "  'nlmuniqueid': '',\n",
        "  'rank': '523'},\n",
        " {'AI': '1.1747',\n",
        "  'EF': '0.035807',\n",
        "  'issn': '0031-0182',\n",
        "  'journal': 'PALAEOGEOGR PALAEOCL',\n",
        "  'nlmuniqueid': '100971411',\n",
        "  'rank': '524'},\n",
        " {'AI': '1.1522',\n",
        "  'EF': '0.035797',\n",
        "  'issn': '1093-9946',\n",
        "  'journal': 'FRONT BIOSCI-LANDMRK',\n",
        "  'nlmuniqueid': '',\n",
        "  'rank': '525'},\n",
        " {'AI': '1.8408',\n",
        "  'EF': '0.035616',\n",
        "  'issn': '0888-8809',\n",
        "  'journal': 'MOL ENDOCRINOL',\n",
        "  'nlmuniqueid': '8801431',\n",
        "  'rank': '526'},\n",
        " {'AI': '0.882',\n",
        "  'EF': '0.035572',\n",
        "  'issn': '0021-9290',\n",
        "  'journal': 'J BIOMECH',\n",
        "  'nlmuniqueid': '0157375',\n",
        "  'rank': '527'},\n",
        " {'AI': '1.5099',\n",
        "  'EF': '0.035557',\n",
        "  'issn': '0034-4257',\n",
        "  'journal': 'REMOTE SENS ENVIRON',\n",
        "  'nlmuniqueid': '',\n",
        "  'rank': '528'},\n",
        " {'AI': '0.9006',\n",
        "  'EF': '0.035545',\n",
        "  'issn': '0009-921X',\n",
        "  'journal': 'CLIN ORTHOP RELAT R',\n",
        "  'nlmuniqueid': '0075674',\n",
        "  'rank': '529'},\n",
        " {'AI': '0.799',\n",
        "  'EF': '0.035507',\n",
        "  'issn': '1549-3296',\n",
        "  'journal': 'J BIOMED MATER RES A',\n",
        "  'nlmuniqueid': '101234237',\n",
        "  'rank': '530'},\n",
        " {'AI': '1.6503',\n",
        "  'EF': '0.035442',\n",
        "  'issn': '0024-3590',\n",
        "  'journal': 'LIMNOL OCEANOGR',\n",
        "  'nlmuniqueid': '9882871',\n",
        "  'rank': '531'},\n",
        " {'AI': '0.415',\n",
        "  'EF': '0.035388',\n",
        "  'issn': '0013-5194',\n",
        "  'journal': 'ELECTRON LETT',\n",
        "  'nlmuniqueid': '',\n",
        "  'rank': '532'},\n",
        " {'AI': '1.7929',\n",
        "  'EF': '0.03538',\n",
        "  'issn': '0002-9343',\n",
        "  'journal': 'AM J MED',\n",
        "  'nlmuniqueid': '0267200',\n",
        "  'rank': '533'},\n",
        " {'AI': '0.3239',\n",
        "  'EF': '0.035348',\n",
        "  'issn': '0921-4526',\n",
        "  'journal': 'PHYSICA B',\n",
        "  'nlmuniqueid': '',\n",
        "  'rank': '534'},\n",
        " {'AI': '1.0245',\n",
        "  'EF': '0.035343',\n",
        "  'issn': '0006-3592',\n",
        "  'journal': 'BIOTECHNOL BIOENG',\n",
        "  'nlmuniqueid': '7502021',\n",
        "  'rank': '535'},\n",
        " {'AI': '1.2272',\n",
        "  'EF': '0.035335',\n",
        "  'issn': '0954-3899',\n",
        "  'journal': 'J PHYS G NUCL PARTIC',\n",
        "  'nlmuniqueid': '100971606',\n",
        "  'rank': '536'},\n",
        " {'AI': '0.8394',\n",
        "  'EF': '0.035314',\n",
        "  'issn': '0032-1052',\n",
        "  'journal': 'PLAST RECONSTR SURG',\n",
        "  'nlmuniqueid': '',\n",
        "  'rank': '537'},\n",
        " {'AI': '1.0925',\n",
        "  'EF': '0.035284',\n",
        "  'issn': '0076-6879',\n",
        "  'journal': 'METHOD ENZYMOL',\n",
        "  'nlmuniqueid': '0212271',\n",
        "  'rank': '538'},\n",
        " {'AI': '6.1922',\n",
        "  'EF': '0.035205',\n",
        "  'issn': '1473-3099',\n",
        "  'journal': 'LANCET INFECT DIS',\n",
        "  'nlmuniqueid': '101130150',\n",
        "  'rank': '539'},\n",
        " {'AI': '1.2775',\n",
        "  'EF': '0.035075',\n",
        "  'issn': '0031-3203',\n",
        "  'journal': 'PATTERN RECOGN',\n",
        "  'nlmuniqueid': '',\n",
        "  'rank': '540'},\n",
        " {'AI': '1.2843',\n",
        "  'EF': '0.034907',\n",
        "  'issn': '0340-6245',\n",
        "  'journal': 'THROMB HAEMOSTASIS',\n",
        "  'nlmuniqueid': '7608063',\n",
        "  'rank': '541'},\n",
        " {'AI': '1.5094',\n",
        "  'EF': '0.034852',\n",
        "  'issn': '0342-4642',\n",
        "  'journal': 'INTENS CARE MED',\n",
        "  'nlmuniqueid': '7704851',\n",
        "  'rank': '542'},\n",
        " {'AI': '1.7431',\n",
        "  'EF': '0.034781',\n",
        "  'issn': '1525-2027',\n",
        "  'journal': 'GEOCHEM GEOPHY GEOSY',\n",
        "  'nlmuniqueid': '',\n",
        "  'rank': '543'},\n",
        " {'AI': '0.7668',\n",
        "  'EF': '0.034737',\n",
        "  'issn': '1381-1169',\n",
        "  'journal': 'J MOL CATAL A-CHEM',\n",
        "  'nlmuniqueid': '',\n",
        "  'rank': '544'},\n",
        " {'AI': '1.5175',\n",
        "  'EF': '0.034733',\n",
        "  'issn': '0192-8651',\n",
        "  'journal': 'J COMPUT CHEM',\n",
        "  'nlmuniqueid': '9878362',\n",
        "  'rank': '545'},\n",
        " {'AI': '1.5827',\n",
        "  'EF': '0.034716',\n",
        "  'issn': '1072-7515',\n",
        "  'journal': 'J AM COLL SURGEONS',\n",
        "  'nlmuniqueid': '9431305',\n",
        "  'rank': '546'},\n",
        " {'AI': '0.9838',\n",
        "  'EF': '0.034698',\n",
        "  'issn': '0016-2361',\n",
        "  'journal': 'FUEL',\n",
        "  'nlmuniqueid': '',\n",
        "  'rank': '547'},\n",
        " {'AI': '1.3529',\n",
        "  'EF': '0.034565',\n",
        "  'issn': '1096-6080',\n",
        "  'journal': 'TOXICOL SCI',\n",
        "  'nlmuniqueid': '',\n",
        "  'rank': '548'},\n",
        " {'AI': '1.681',\n",
        "  'EF': '0.03456',\n",
        "  'issn': '0969-9961',\n",
        "  'journal': 'NEUROBIOL DIS',\n",
        "  'nlmuniqueid': '9500169',\n",
        "  'rank': '549'},\n",
        " {'AI': '2.0899',\n",
        "  'EF': '0.034534',\n",
        "  'issn': '1542-3565',\n",
        "  'journal': 'CLIN GASTROENTEROL H',\n",
        "  'nlmuniqueid': '101160775',\n",
        "  'rank': '550'},\n",
        " {'AI': '1.3084',\n",
        "  'EF': '0.034532',\n",
        "  'issn': '0263-6352',\n",
        "  'journal': 'J HYPERTENS',\n",
        "  'nlmuniqueid': '8306882',\n",
        "  'rank': '551'},\n",
        " {'AI': '0.9528',\n",
        "  'EF': '0.034493',\n",
        "  'issn': '0020-7683',\n",
        "  'journal': 'INT J SOLIDS STRUCT',\n",
        "  'nlmuniqueid': '',\n",
        "  'rank': '552'},\n",
        " {'AI': '0.9954',\n",
        "  'EF': '0.034429',\n",
        "  'issn': '0022-1317',\n",
        "  'journal': 'J GEN VIROL',\n",
        "  'nlmuniqueid': '0077340',\n",
        "  'rank': '553'},\n",
        " {'AI': '2.2929',\n",
        "  'EF': '0.034398',\n",
        "  'issn': '0888-8892',\n",
        "  'journal': 'CONSERV BIOL',\n",
        "  'nlmuniqueid': '9882301',\n",
        "  'rank': '554'},\n",
        " {'AI': '0.4019',\n",
        "  'EF': '0.03435',\n",
        "  'issn': '0030-4018',\n",
        "  'journal': 'OPT COMMUN',\n",
        "  'nlmuniqueid': '9876434',\n",
        "  'rank': '555'},\n",
        " {'AI': '0.9369',\n",
        "  'EF': '0.034347',\n",
        "  'issn': '0021-9355',\n",
        "  'journal': 'J BONE JOINT SURG AM',\n",
        "  'nlmuniqueid': '',\n",
        "  'rank': '556'},\n",
        " {'AI': '0.914',\n",
        "  'EF': '0.034331',\n",
        "  'issn': '0003-2697',\n",
        "  'journal': 'ANAL BIOCHEM',\n",
        "  'nlmuniqueid': '0370535',\n",
        "  'rank': '557'},\n",
        " {'AI': '0.8012',\n",
        "  'EF': '0.034325',\n",
        "  'issn': '1387-1811',\n",
        "  'journal': 'MICROPOR MESOPOR MAT',\n",
        "  'nlmuniqueid': '',\n",
        "  'rank': '558'},\n",
        " {'AI': '2.3305',\n",
        "  'EF': '0.034322',\n",
        "  'issn': '0007-1250',\n",
        "  'journal': 'BRIT J PSYCHIAT',\n",
        "  'nlmuniqueid': '0342367',\n",
        "  'rank': '559'},\n",
        " {'AI': '0.6199',\n",
        "  'EF': '0.034288',\n",
        "  'issn': '0039-6028',\n",
        "  'journal': 'SURF SCI',\n",
        "  'nlmuniqueid': '',\n",
        "  'rank': '560'},\n",
        " {'AI': '1.3497',\n",
        "  'EF': '0.03426',\n",
        "  'issn': '1043-1802',\n",
        "  'journal': 'BIOCONJUGATE CHEM',\n",
        "  'nlmuniqueid': '9010319',\n",
        "  'rank': '561'},\n",
        " {'AI': '1.2063',\n",
        "  'EF': '0.03418',\n",
        "  'issn': '1439-4227',\n",
        "  'journal': 'CHEMBIOCHEM',\n",
        "  'nlmuniqueid': '100937360',\n",
        "  'rank': '562'},\n",
        " {'AI': '1.4303',\n",
        "  'EF': '0.034154',\n",
        "  'issn': '0002-9947',\n",
        "  'journal': 'T AM MATH SOC',\n",
        "  'nlmuniqueid': '',\n",
        "  'rank': '563'},\n",
        " {'AI': '2.2323',\n",
        "  'EF': '0.034062',\n",
        "  'issn': '0022-3417',\n",
        "  'journal': 'J PATHOL',\n",
        "  'nlmuniqueid': '0204634',\n",
        "  'rank': '564'},\n",
        " {'AI': '0.9516',\n",
        "  'EF': '0.034031',\n",
        "  'issn': '0007-1145',\n",
        "  'journal': 'BRIT J NUTR',\n",
        "  'nlmuniqueid': '0372547',\n",
        "  'rank': '565'},\n",
        " {'AI': '0.7291',\n",
        "  'EF': '0.033951',\n",
        "  'issn': '0094-2405',\n",
        "  'journal': 'MED PHYS',\n",
        "  'nlmuniqueid': '0425746',\n",
        "  'rank': '566'},\n",
        " {'AI': '2.178',\n",
        "  'EF': '0.033874',\n",
        "  'issn': '0033-2917',\n",
        "  'journal': 'PSYCHOL MED',\n",
        "  'nlmuniqueid': '1254142',\n",
        "  'rank': '567'},\n",
        " {'AI': '0.387',\n",
        "  'EF': '0.033838',\n",
        "  'issn': '0018-9464',\n",
        "  'journal': 'IEEE T MAGN',\n",
        "  'nlmuniqueid': '100971385',\n",
        "  'rank': '568'},\n",
        " {'AI': '1.851',\n",
        "  'EF': '0.033777',\n",
        "  'issn': '0197-4580',\n",
        "  'journal': 'NEUROBIOL AGING',\n",
        "  'nlmuniqueid': '8100437',\n",
        "  'rank': '569'},\n",
        " {'AI': '4.3783',\n",
        "  'EF': '0.033725',\n",
        "  'issn': '0959-437X',\n",
        "  'journal': 'CURR OPIN GENET DEV',\n",
        "  'nlmuniqueid': '9111375',\n",
        "  'rank': '570'},\n",
        " {'AI': '1.0128',\n",
        "  'EF': '0.033584',\n",
        "  'issn': '1053-1807',\n",
        "  'journal': 'J MAGN RESON IMAGING',\n",
        "  'nlmuniqueid': '9105850',\n",
        "  'rank': '571'},\n",
        " {'AI': '1.1916',\n",
        "  'EF': '0.033481',\n",
        "  'issn': '1347-9032',\n",
        "  'journal': 'CANCER SCI',\n",
        "  'nlmuniqueid': '101168776',\n",
        "  'rank': '572'},\n",
        " {'AI': '0.9591',\n",
        "  'EF': '0.033422',\n",
        "  'issn': '0167-5273',\n",
        "  'journal': 'INT J CARDIOL',\n",
        "  'nlmuniqueid': '8200291',\n",
        "  'rank': '573'},\n",
        " {'AI': '0.8949',\n",
        "  'EF': '0.033335',\n",
        "  'issn': '0022-3085',\n",
        "  'journal': 'J NEUROSURG',\n",
        "  'nlmuniqueid': '0253357',\n",
        "  'rank': '574'},\n",
        " {'AI': '1.0818',\n",
        "  'EF': '0.033054',\n",
        "  'issn': '1381-6128',\n",
        "  'journal': 'CURR PHARM DESIGN',\n",
        "  'nlmuniqueid': '9602487',\n",
        "  'rank': '575'},\n",
        " {'AI': '3.2567',\n",
        "  'EF': '0.03297',\n",
        "  'issn': '0021-9010',\n",
        "  'journal': 'J APPL PSYCHOL',\n",
        "  'nlmuniqueid': '0222526',\n",
        "  'rank': '576'},\n",
        " {'AI': '7.9572',\n",
        "  'EF': '0.032836',\n",
        "  'issn': '1755-4330',\n",
        "  'journal': 'NAT CHEM',\n",
        "  'nlmuniqueid': '101499734',\n",
        "  'rank': '577'},\n",
        " {'AI': '0.7644',\n",
        "  'EF': '0.032819',\n",
        "  'issn': '0951-4198',\n",
        "  'journal': 'RAPID COMMUN MASS SP',\n",
        "  'nlmuniqueid': '8802365',\n",
        "  'rank': '578'},\n",
        " {'AI': '7.5335',\n",
        "  'EF': '0.032745',\n",
        "  'issn': '0034-6527',\n",
        "  'journal': 'REV ECON STUD',\n",
        "  'nlmuniqueid': '101085345',\n",
        "  'rank': '579'},\n",
        " {'AI': '0.7479',\n",
        "  'EF': '0.03274',\n",
        "  'issn': '0021-8693',\n",
        "  'journal': 'J ALGEBRA',\n",
        "  'nlmuniqueid': '',\n",
        "  'rank': '580'},\n",
        " {'AI': '2.4654',\n",
        "  'EF': '0.032736',\n",
        "  'issn': '1398-9219',\n",
        "  'journal': 'TRAFFIC',\n",
        "  'nlmuniqueid': '100939340',\n",
        "  'rank': '581'},\n",
        " {'AI': '0.3652',\n",
        "  'EF': '0.032676',\n",
        "  'issn': '0168-583X',\n",
        "  'journal': 'NUCL INSTRUM METH B',\n",
        "  'nlmuniqueid': '9881766',\n",
        "  'rank': '582'},\n",
        " {'AI': '1.0137',\n",
        "  'EF': '0.032627',\n",
        "  'issn': '0938-7994',\n",
        "  'journal': 'EUR RADIOL',\n",
        "  'nlmuniqueid': '9114774',\n",
        "  'rank': '583'},\n",
        " {'AI': '1.4176',\n",
        "  'EF': '0.032603',\n",
        "  'issn': '0027-0644',\n",
        "  'journal': 'MON WEATHER REV',\n",
        "  'nlmuniqueid': '',\n",
        "  'rank': '584'},\n",
        " {'AI': '1.1949',\n",
        "  'EF': '0.032565',\n",
        "  'issn': '0193-1857',\n",
        "  'journal': 'AM J PHYSIOL-GASTR L',\n",
        "  'nlmuniqueid': '100901227',\n",
        "  'rank': '585'},\n",
        " {'AI': '0.4782',\n",
        "  'EF': '0.032443',\n",
        "  'issn': '0378-4371',\n",
        "  'journal': 'PHYSICA A',\n",
        "  'nlmuniqueid': '9890571',\n",
        "  'rank': '586'},\n",
        " {'AI': '2.5127',\n",
        "  'EF': '0.032442',\n",
        "  'issn': '0025-1909',\n",
        "  'journal': 'MANAGE SCI',\n",
        "  'nlmuniqueid': '9879580',\n",
        "  'rank': '587'},\n",
        " {'AI': '0.6233',\n",
        "  'EF': '0.03236',\n",
        "  'issn': '0039-7881',\n",
        "  'journal': 'SYNTHESIS-STUTTGART',\n",
        "  'nlmuniqueid': '',\n",
        "  'rank': '588'},\n",
        " {'AI': '3.8091',\n",
        "  'EF': '0.032345',\n",
        "  'issn': '1937-9145',\n",
        "  'journal': 'SCI SIGNAL',\n",
        "  'nlmuniqueid': '',\n",
        "  'rank': '589'},\n",
        " {'AI': '0.8768',\n",
        "  'EF': '0.032338',\n",
        "  'issn': '0002-9637',\n",
        "  'journal': 'AM J TROP MED HYG',\n",
        "  'nlmuniqueid': '0370507',\n",
        "  'rank': '590'},\n",
        " {'AI': '1.4218',\n",
        "  'EF': '0.032335',\n",
        "  'issn': '1364-503X',\n",
        "  'journal': 'PHILOS T R SOC A',\n",
        "  'nlmuniqueid': '101133385',\n",
        "  'rank': '591'},\n",
        " {'AI': '1.9748',\n",
        "  'EF': '0.032307',\n",
        "  'issn': '1462-5814',\n",
        "  'journal': 'CELL MICROBIOL',\n",
        "  'nlmuniqueid': '100883691',\n",
        "  'rank': '592'},\n",
        " {'AI': '1.3291',\n",
        "  'EF': '0.03225',\n",
        "  'issn': '0005-2736',\n",
        "  'journal': 'BBA-BIOMEMBRANES',\n",
        "  'nlmuniqueid': '',\n",
        "  'rank': '593'},\n",
        " {'AI': '1.5681',\n",
        "  'EF': '0.032238',\n",
        "  'issn': '1010-061X',\n",
        "  'journal': 'J EVOLUTION BIOL',\n",
        "  'nlmuniqueid': '8809954',\n",
        "  'rank': '594'},\n",
        " {'AI': '0.5865',\n",
        "  'EF': '0.032174',\n",
        "  'issn': '0022-3115',\n",
        "  'journal': 'J NUCL MATER',\n",
        "  'nlmuniqueid': '',\n",
        "  'rank': '595'},\n",
        " {'AI': '0.8392',\n",
        "  'EF': '0.03209',\n",
        "  'issn': '0022-5193',\n",
        "  'journal': 'J THEOR BIOL',\n",
        "  'nlmuniqueid': '0376342',\n",
        "  'rank': '596'},\n",
        " {'AI': '0.6914',\n",
        "  'EF': '0.032067',\n",
        "  'issn': '0955-2219',\n",
        "  'journal': 'J EUR CERAM SOC',\n",
        "  'nlmuniqueid': '',\n",
        "  'rank': '597'},\n",
        " {'AI': '1.2369',\n",
        "  'EF': '0.032008',\n",
        "  'issn': '0022-0396',\n",
        "  'journal': 'J DIFFER EQUATIONS',\n",
        "  'nlmuniqueid': '',\n",
        "  'rank': '598'},\n",
        " {'AI': '0.9739',\n",
        "  'EF': '0.032007',\n",
        "  'issn': '0161-5890',\n",
        "  'journal': 'MOL IMMUNOL',\n",
        "  'nlmuniqueid': '7905289',\n",
        "  'rank': '599'},\n",
        " {'AI': '0.6232',\n",
        "  'EF': '0.032004',\n",
        "  'issn': '0044-8486',\n",
        "  'journal': 'AQUACULTURE',\n",
        "  'nlmuniqueid': '9875921',\n",
        "  'rank': '600'},\n",
        " {'AI': '1.3853',\n",
        "  'EF': '0.031937',\n",
        "  'issn': '1040-0605',\n",
        "  'journal': 'AM J PHYSIOL-LUNG C',\n",
        "  'nlmuniqueid': '100901229',\n",
        "  'rank': '601'},\n",
        " {'AI': '3.7113',\n",
        "  'EF': '0.031923',\n",
        "  'issn': '0304-3932',\n",
        "  'journal': 'J MONETARY ECON',\n",
        "  'nlmuniqueid': '',\n",
        "  'rank': '602'},\n",
        " {'AI': '0.6723',\n",
        "  'EF': '0.031908',\n",
        "  'issn': '0953-4075',\n",
        "  'journal': 'J PHYS B-AT MOL OPT',\n",
        "  'nlmuniqueid': '8901658',\n",
        "  'rank': '603'},\n",
        " {'AI': '0.4604',\n",
        "  'EF': '0.031892',\n",
        "  'issn': '0022-3093',\n",
        "  'journal': 'J NON-CRYST SOLIDS',\n",
        "  'nlmuniqueid': '',\n",
        "  'rank': '604'},\n",
        " {'AI': '1.917',\n",
        "  'EF': '0.031888',\n",
        "  'issn': '0167-4889',\n",
        "  'journal': 'BBA-MOL CELL RES',\n",
        "  'nlmuniqueid': '',\n",
        "  'rank': '605'},\n",
        " {'AI': '1.4996',\n",
        "  'EF': '0.031849',\n",
        "  'issn': '1463-9262',\n",
        "  'journal': 'GREEN CHEM',\n",
        "  'nlmuniqueid': '',\n",
        "  'rank': '606'},\n",
        " {'AI': '1.2123',\n",
        "  'EF': '0.031794',\n",
        "  'issn': '0190-9622',\n",
        "  'journal': 'J AM ACAD DERMATOL',\n",
        "  'nlmuniqueid': '7907132',\n",
        "  'rank': '607'},\n",
        " {'AI': '1.1059',\n",
        "  'EF': '0.031782',\n",
        "  'issn': '0269-2813',\n",
        "  'journal': 'ALIMENT PHARM THER',\n",
        "  'nlmuniqueid': '8707234',\n",
        "  'rank': '608'},\n",
        " {'AI': '1.2995',\n",
        "  'EF': '0.031768',\n",
        "  'issn': '0929-8673',\n",
        "  'journal': 'CURR MED CHEM',\n",
        "  'nlmuniqueid': '9440157',\n",
        "  'rank': '609'},\n",
        " {'AI': '0.5929',\n",
        "  'EF': '0.031676',\n",
        "  'issn': '0022-0302',\n",
        "  'journal': 'J DAIRY SCI',\n",
        "  'nlmuniqueid': '2985126R',\n",
        "  'rank': '610'},\n",
        " {'AI': '0.7235',\n",
        "  'EF': '0.031619',\n",
        "  'issn': '0002-9939',\n",
        "  'journal': 'P AM MATH SOC',\n",
        "  'nlmuniqueid': '',\n",
        "  'rank': '611'},\n",
        " {'AI': '0.511',\n",
        "  'EF': '0.031614',\n",
        "  'issn': '0065-2598',\n",
        "  'journal': 'ADV EXP MED BIOL',\n",
        "  'nlmuniqueid': '0121103',\n",
        "  'rank': '612'},\n",
        " {'AI': '1.0249',\n",
        "  'EF': '0.031596',\n",
        "  'issn': '0007-1161',\n",
        "  'journal': 'BRIT J OPHTHALMOL',\n",
        "  'nlmuniqueid': '0421041',\n",
        "  'rank': '613'},\n",
        " {'AI': '1.752',\n",
        "  'EF': '0.031457',\n",
        "  'issn': '0105-4538',\n",
        "  'journal': 'ALLERGY',\n",
        "  'nlmuniqueid': '7804028',\n",
        "  'rank': '614'},\n",
        " {'AI': '1.7121',\n",
        "  'EF': '0.031368',\n",
        "  'issn': '0022-2828',\n",
        "  'journal': 'J MOL CELL CARDIOL',\n",
        "  'nlmuniqueid': '0262322',\n",
        "  'rank': '615'},\n",
        " {'AI': '1.309',\n",
        "  'EF': '0.03133',\n",
        "  'issn': '0022-1236',\n",
        "  'journal': 'J FUNCT ANAL',\n",
        "  'nlmuniqueid': '',\n",
        "  'rank': '616'},\n",
        " {'AI': '1.6696',\n",
        "  'EF': '0.031325',\n",
        "  'issn': '2151-464X',\n",
        "  'journal': 'ARTHRIT CARE RES',\n",
        "  'nlmuniqueid': '101518086',\n",
        "  'rank': '617'},\n",
        " {'AI': '0.9679',\n",
        "  'EF': '0.031297',\n",
        "  'issn': '0360-4012',\n",
        "  'journal': 'J NEUROSCI RES',\n",
        "  'nlmuniqueid': '7600111',\n",
        "  'rank': '618'},\n",
        " {'AI': '3.8847',\n",
        "  'EF': '0.031277',\n",
        "  'issn': '1360-1385',\n",
        "  'journal': 'TRENDS PLANT SCI',\n",
        "  'nlmuniqueid': '9890299',\n",
        "  'rank': '619'},\n",
        " {'AI': '1.3148',\n",
        "  'EF': '0.031155',\n",
        "  'issn': '1742-7061',\n",
        "  'journal': 'ACTA BIOMATER',\n",
        "  'nlmuniqueid': '101233144',\n",
        "  'rank': '620'},\n",
        " {'AI': '5.6303',\n",
        "  'EF': '0.031081',\n",
        "  'issn': '0001-4273',\n",
        "  'journal': 'ACAD MANAGE J',\n",
        "  'nlmuniqueid': '7703609',\n",
        "  'rank': '621'},\n",
        " {'AI': '1.6893',\n",
        "  'EF': '0.031014',\n",
        "  'issn': '0965-2140',\n",
        "  'journal': 'ADDICTION',\n",
        "  'nlmuniqueid': '9304118',\n",
        "  'rank': '622'},\n",
        " {'AI': '1.3855',\n",
        "  'EF': '0.030976',\n",
        "  'issn': '1198-743X',\n",
        "  'journal': 'CLIN MICROBIOL INFEC',\n",
        "  'nlmuniqueid': '9516420',\n",
        "  'rank': '623'},\n",
        " {'AI': '1.9378',\n",
        "  'EF': '0.03092',\n",
        "  'issn': '0025-7079',\n",
        "  'journal': 'MED CARE',\n",
        "  'nlmuniqueid': '0230027',\n",
        "  'rank': '624'},\n",
        " {'AI': '1.4792',\n",
        "  'EF': '0.0309',\n",
        "  'issn': '0898-6568',\n",
        "  'journal': 'CELL SIGNAL',\n",
        "  'nlmuniqueid': '8904683',\n",
        "  'rank': '625'},\n",
        " {'AI': '0.601',\n",
        "  'EF': '0.030832',\n",
        "  'issn': '0377-0427',\n",
        "  'journal': 'J COMPUT APPL MATH',\n",
        "  'nlmuniqueid': '',\n",
        "  'rank': '626'},\n",
        " {'AI': '1.9428',\n",
        "  'EF': '0.030821',\n",
        "  'issn': '0009-9236',\n",
        "  'journal': 'CLIN PHARMACOL THER',\n",
        "  'nlmuniqueid': '0372741',\n",
        "  'rank': '627'},\n",
        " {'AI': '1.5305',\n",
        "  'EF': '0.03082',\n",
        "  'issn': '1478-6362',\n",
        "  'journal': 'ARTHRITIS RES THER',\n",
        "  'nlmuniqueid': '',\n",
        "  'rank': '628'},\n",
        " {'AI': '1.2249',\n",
        "  'EF': '0.030552',\n",
        "  'issn': '1022-1336',\n",
        "  'journal': 'MACROMOL RAPID COMM',\n",
        "  'nlmuniqueid': '9888239',\n",
        "  'rank': '629'},\n",
        " {'AI': '16.1685',\n",
        "  'EF': '0.030543',\n",
        "  'issn': '0147-006X',\n",
        "  'journal': 'ANNU REV NEUROSCI',\n",
        "  'nlmuniqueid': '7804039',\n",
        "  'rank': '630'},\n",
        " {'AI': '1.3106',\n",
        "  'EF': '0.030526',\n",
        "  'issn': '0961-8368',\n",
        "  'journal': 'PROTEIN SCI',\n",
        "  'nlmuniqueid': '9211750',\n",
        "  'rank': '631'},\n",
        " {'AI': '2.1698',\n",
        "  'EF': '0.030523',\n",
        "  'issn': '0730-0301',\n",
        "  'journal': 'ACM T GRAPHIC',\n",
        "  'nlmuniqueid': '',\n",
        "  'rank': '632'},\n",
        " {'AI': '3.523',\n",
        "  'EF': '0.030497',\n",
        "  'issn': '1369-5266',\n",
        "  'journal': 'CURR OPIN PLANT BIOL',\n",
        "  'nlmuniqueid': '100883395',\n",
        "  'rank': '633'},\n",
        " {'AI': '1.5423',\n",
        "  'EF': '0.030493',\n",
        "  'issn': '0030-1299',\n",
        "  'journal': 'OIKOS',\n",
        "  'nlmuniqueid': '',\n",
        "  'rank': '634'},\n",
        " {'AI': '2.2842',\n",
        "  'EF': '0.030413',\n",
        "  'issn': '0022-2593',\n",
        "  'journal': 'J MED GENET',\n",
        "  'nlmuniqueid': '2985087R',\n",
        "  'rank': '635'},\n",
        " {'AI': '1.4093',\n",
        "  'EF': '0.03037',\n",
        "  'issn': '0022-4928',\n",
        "  'journal': 'J ATMOS SCI',\n",
        "  'nlmuniqueid': '',\n",
        "  'rank': '636'},\n",
        " {'AI': '1.8513',\n",
        "  'EF': '0.030151',\n",
        "  'issn': '0271-678X',\n",
        "  'journal': 'J CEREBR BLOOD F MET',\n",
        "  'nlmuniqueid': '8112566',\n",
        "  'rank': '637'},\n",
        " {'AI': '1.6173',\n",
        "  'EF': '0.030106',\n",
        "  'issn': '0007-1323',\n",
        "  'journal': 'BRIT J SURG',\n",
        "  'nlmuniqueid': '0372553',\n",
        "  'rank': '638'},\n",
        " {'AI': '2.5044',\n",
        "  'EF': '0.029947',\n",
        "  'issn': '1554-8627',\n",
        "  'journal': 'AUTOPHAGY',\n",
        "  'nlmuniqueid': '101265188',\n",
        "  'rank': '639'},\n",
        " {'AI': '1.3718',\n",
        "  'EF': '0.029939',\n",
        "  'issn': '0376-8716',\n",
        "  'journal': 'DRUG ALCOHOL DEPEN',\n",
        "  'nlmuniqueid': '7513587',\n",
        "  'rank': '640'},\n",
        " {'AI': '1.7227',\n",
        "  'EF': '0.02992',\n",
        "  'issn': '1744-9561',\n",
        "  'journal': 'BIOL LETTERS',\n",
        "  'nlmuniqueid': '101247722',\n",
        "  'rank': '641'},\n",
        " {'AI': '1.0879',\n",
        "  'EF': '0.029728',\n",
        "  'issn': '0165-0327',\n",
        "  'journal': 'J AFFECT DISORDERS',\n",
        "  'nlmuniqueid': '7906073',\n",
        "  'rank': '642'},\n",
        " {'AI': '2.9598',\n",
        "  'EF': '0.029693',\n",
        "  'issn': '0586-7614',\n",
        "  'journal': 'SCHIZOPHRENIA BULL',\n",
        "  'nlmuniqueid': '0236760',\n",
        "  'rank': '643'},\n",
        " {'AI': '8.095',\n",
        "  'EF': '0.029693',\n",
        "  'issn': '0033-2909',\n",
        "  'journal': 'PSYCHOL BULL',\n",
        "  'nlmuniqueid': '0376473',\n",
        "  'rank': '644'},\n",
        " {'AI': '3.5424',\n",
        "  'EF': '0.02969',\n",
        "  'issn': '1369-5274',\n",
        "  'journal': 'CURR OPIN MICROBIOL',\n",
        "  'nlmuniqueid': '9815056',\n",
        "  'rank': '645'},\n",
        " {'AI': '0.6282',\n",
        "  'EF': '0.02969',\n",
        "  'issn': '0173-0835',\n",
        "  'journal': 'ELECTROPHORESIS',\n",
        "  'nlmuniqueid': '8204476',\n",
        "  'rank': '646'},\n",
        " {'AI': '3.3686',\n",
        "  'EF': '0.029654',\n",
        "  'issn': '0149-7634',\n",
        "  'journal': 'NEUROSCI BIOBEHAV R',\n",
        "  'nlmuniqueid': '7806090',\n",
        "  'rank': '647'},\n",
        " {'AI': '2.4245',\n",
        "  'EF': '0.029614',\n",
        "  'issn': '0038-6308',\n",
        "  'journal': 'SPACE SCI REV',\n",
        "  'nlmuniqueid': '100971458',\n",
        "  'rank': '648'},\n",
        " {'AI': '8.2348',\n",
        "  'EF': '0.029601',\n",
        "  'issn': '0079-6700',\n",
        "  'journal': 'PROG POLYM SCI',\n",
        "  'nlmuniqueid': '',\n",
        "  'rank': '649'},\n",
        " {'AI': '12.044',\n",
        "  'EF': '0.029599',\n",
        "  'issn': '1543-5008',\n",
        "  'journal': 'ANNU REV PLANT BIOL',\n",
        "  'nlmuniqueid': '101140127',\n",
        "  'rank': '650'},\n",
        " {'AI': '0.9129',\n",
        "  'EF': '0.029518',\n",
        "  'issn': '0168-1605',\n",
        "  'journal': 'INT J FOOD MICROBIOL',\n",
        "  'nlmuniqueid': '8412849',\n",
        "  'rank': '651'},\n",
        " {'AI': '3.015',\n",
        "  'EF': '0.029472',\n",
        "  'issn': '0820-3946',\n",
        "  'journal': 'CAN MED ASSOC J',\n",
        "  'nlmuniqueid': '9711805',\n",
        "  'rank': '652'},\n",
        " {'AI': '1.417',\n",
        "  'EF': '0.029443',\n",
        "  'issn': '0147-5185',\n",
        "  'journal': 'AM J SURG PATHOL',\n",
        "  'nlmuniqueid': '7707904',\n",
        "  'rank': '653'},\n",
        " {'AI': '0.7002',\n",
        "  'EF': '0.029406',\n",
        "  'issn': '0375-9474',\n",
        "  'journal': 'NUCL PHYS A',\n",
        "  'nlmuniqueid': '101083919',\n",
        "  'rank': '654'},\n",
        " {'AI': '0.8821',\n",
        "  'EF': '0.029281',\n",
        "  'issn': '0304-3800',\n",
        "  'journal': 'ECOL MODEL',\n",
        "  'nlmuniqueid': '9882888',\n",
        "  'rank': '655'},\n",
        " {'AI': '1.2582',\n",
        "  'EF': '0.029236',\n",
        "  'issn': '0028-3908',\n",
        "  'journal': 'NEUROPHARMACOLOGY',\n",
        "  'nlmuniqueid': '0236217',\n",
        "  'rank': '656'},\n",
        " {'AI': '0.7571',\n",
        "  'EF': '0.029229',\n",
        "  'issn': '0378-1097',\n",
        "  'journal': 'FEMS MICROBIOL LETT',\n",
        "  'nlmuniqueid': '7705721',\n",
        "  'rank': '657'},\n",
        " {'AI': '2.9458',\n",
        "  'EF': '0.029175',\n",
        "  'issn': '0163-7258',\n",
        "  'journal': 'PHARMACOL THERAPEUT',\n",
        "  'nlmuniqueid': '7905840',\n",
        "  'rank': '658'},\n",
        " {'AI': '0.6718',\n",
        "  'EF': '0.029137',\n",
        "  'issn': '0022-4596',\n",
        "  'journal': 'J SOLID STATE CHEM',\n",
        "  'nlmuniqueid': '',\n",
        "  'rank': '659'},\n",
        " {'AI': '1.1607',\n",
        "  'EF': '0.02908',\n",
        "  'issn': '1388-2457',\n",
        "  'journal': 'CLIN NEUROPHYSIOL',\n",
        "  'nlmuniqueid': '100883319',\n",
        "  'rank': '660'},\n",
        " {'AI': '1.1948',\n",
        "  'EF': '0.029077',\n",
        "  'issn': '0303-7207',\n",
        "  'journal': 'MOL CELL ENDOCRINOL',\n",
        "  'nlmuniqueid': '7500844',\n",
        "  'rank': '661'},\n",
        " {'AI': '1.4676',\n",
        "  'EF': '0.029069',\n",
        "  'issn': '1547-5271',\n",
        "  'journal': 'HEART RHYTHM',\n",
        "  'nlmuniqueid': '101200317',\n",
        "  'rank': '662'},\n",
        " {'AI': '7.7275',\n",
        "  'EF': '0.029053',\n",
        "  'issn': '0034-4885',\n",
        "  'journal': 'REP PROG PHYS',\n",
        "  'nlmuniqueid': '19620690R',\n",
        "  'rank': '663'},\n",
        " {'AI': '1.19',\n",
        "  'EF': '0.029049',\n",
        "  'issn': '0891-3668',\n",
        "  'journal': 'PEDIATR INFECT DIS J',\n",
        "  'nlmuniqueid': '8701858',\n",
        "  'rank': '664'},\n",
        " {'AI': '3.7206',\n",
        "  'EF': '0.029',\n",
        "  'issn': '0165-6147',\n",
        "  'journal': 'TRENDS PHARMACOL SCI',\n",
        "  'nlmuniqueid': '7906158',\n",
        "  'rank': '665'},\n",
        " {'AI': '1.0475',\n",
        "  'EF': '0.028971',\n",
        "  'issn': '0041-008X',\n",
        "  'journal': 'TOXICOL APPL PHARM',\n",
        "  'nlmuniqueid': '0416575',\n",
        "  'rank': '666'},\n",
        " {'AI': '1.5007',\n",
        "  'EF': '0.028954',\n",
        "  'issn': '0937-941X',\n",
        "  'journal': 'OSTEOPOROSIS INT',\n",
        "  'nlmuniqueid': '9100105',\n",
        "  'rank': '667'},\n",
        " {'AI': '0.6119',\n",
        "  'EF': '0.028953',\n",
        "  'issn': '0947-8396',\n",
        "  'journal': 'APPL PHYS A-MATER',\n",
        "  'nlmuniqueid': '',\n",
        "  'rank': '668'},\n",
        " {'AI': '1.6952',\n",
        "  'EF': '0.028945',\n",
        "  'issn': '0893-3952',\n",
        "  'journal': 'MODERN PATHOL',\n",
        "  'nlmuniqueid': '8806605',\n",
        "  'rank': '669'},\n",
        " {'AI': '0.8591',\n",
        "  'EF': '0.028741',\n",
        "  'issn': '1552-4825',\n",
        "  'journal': 'AM J MED GENET A',\n",
        "  'nlmuniqueid': '101235741',\n",
        "  'rank': '670'},\n",
        " {'AI': '1.8766',\n",
        "  'EF': '0.028738',\n",
        "  'issn': '0161-8105',\n",
        "  'journal': 'SLEEP',\n",
        "  'nlmuniqueid': '7809084',\n",
        "  'rank': '671'},\n",
        " {'AI': '0.4955',\n",
        "  'EF': '0.028732',\n",
        "  'issn': '0960-0779',\n",
        "  'journal': 'CHAOS SOLITON FRACT',\n",
        "  'nlmuniqueid': '100971564',\n",
        "  'rank': '672'},\n",
        " {'AI': '0.8588',\n",
        "  'EF': '0.028712',\n",
        "  'issn': '0196-2892',\n",
        "  'journal': 'IEEE T GEOSCI REMOTE',\n",
        "  'nlmuniqueid': '',\n",
        "  'rank': '673'},\n",
        " {'AI': '1.2429',\n",
        "  'EF': '0.028676',\n",
        "  'issn': '1534-7362',\n",
        "  'journal': 'J VISION',\n",
        "  'nlmuniqueid': '101147197',\n",
        "  'rank': '674'},\n",
        " {'AI': '2.1706',\n",
        "  'EF': '0.028662',\n",
        "  'issn': '0021-8901',\n",
        "  'journal': 'J APPL ECOL',\n",
        "  'nlmuniqueid': '',\n",
        "  'rank': '675'},\n",
        " {'AI': '1.0545',\n",
        "  'EF': '0.028545',\n",
        "  'issn': '0029-5981',\n",
        "  'journal': 'INT J NUMER METH ENG',\n",
        "  'nlmuniqueid': '',\n",
        "  'rank': '676'},\n",
        " {'AI': '1.3756',\n",
        "  'EF': '0.028408',\n",
        "  'issn': '0899-823X',\n",
        "  'journal': 'INFECT CONT HOSP EP',\n",
        "  'nlmuniqueid': '8804099',\n",
        "  'rank': '677'},\n",
        " {'AI': '0.746',\n",
        "  'EF': '0.028403',\n",
        "  'issn': '0144-8617',\n",
        "  'journal': 'CARBOHYD POLYM',\n",
        "  'nlmuniqueid': '8307156',\n",
        "  'rank': '678'},\n",
        " {'AI': '2.4916',\n",
        "  'EF': '0.028378',\n",
        "  'issn': '0930-7575',\n",
        "  'journal': 'CLIM DYNAM',\n",
        "  'nlmuniqueid': '',\n",
        "  'rank': '679'},\n",
        " {'AI': '0.4683',\n",
        "  'EF': '0.028308',\n",
        "  'issn': '0957-4174',\n",
        "  'journal': 'EXPERT SYST APPL',\n",
        "  'nlmuniqueid': '',\n",
        "  'rank': '680'},\n",
        " {'AI': '0.6483',\n",
        "  'EF': '0.028274',\n",
        "  'issn': '0731-7085',\n",
        "  'journal': 'J PHARMACEUT BIOMED',\n",
        "  'nlmuniqueid': '8309336',\n",
        "  'rank': '681'},\n",
        " {'AI': '0.7448',\n",
        "  'EF': '0.028192',\n",
        "  'issn': '1364-5072',\n",
        "  'journal': 'J APPL MICROBIOL',\n",
        "  'nlmuniqueid': '9706280',\n",
        "  'rank': '682'},\n",
        " {'AI': '0.8412',\n",
        "  'EF': '0.02814',\n",
        "  'issn': '1010-7940',\n",
        "  'journal': 'EUR J CARDIO-THORAC',\n",
        "  'nlmuniqueid': '8804069',\n",
        "  'rank': '683'},\n",
        " {'AI': '0.854',\n",
        "  'EF': '0.028034',\n",
        "  'issn': '0167-2738',\n",
        "  'journal': 'SOLID STATE IONICS',\n",
        "  'nlmuniqueid': '',\n",
        "  'rank': '684'},\n",
        " {'AI': '3.1309',\n",
        "  'EF': '0.027964',\n",
        "  'issn': '1001-0602',\n",
        "  'journal': 'CELL RES',\n",
        "  'nlmuniqueid': '9425763',\n",
        "  'rank': '685'},\n",
        " {'AI': '5.0298',\n",
        "  'EF': '0.027951',\n",
        "  'issn': '0003-486X',\n",
        "  'journal': 'ANN MATH',\n",
        "  'nlmuniqueid': '',\n",
        "  'rank': '686'},\n",
        " {'AI': '1.1973',\n",
        "  'EF': '0.027909',\n",
        "  'issn': '0724-8741',\n",
        "  'journal': 'PHARM RES-DORDR',\n",
        "  'nlmuniqueid': '8406521',\n",
        "  'rank': '687'},\n",
        " {'AI': '3.4231',\n",
        "  'EF': '0.027874',\n",
        "  'issn': '1367-5931',\n",
        "  'journal': 'CURR OPIN CHEM BIOL',\n",
        "  'nlmuniqueid': '9811312',\n",
        "  'rank': '688'},\n",
        " {'AI': '1.0936',\n",
        "  'EF': '0.027859',\n",
        "  'issn': '0040-1951',\n",
        "  'journal': 'TECTONOPHYSICS',\n",
        "  'nlmuniqueid': '',\n",
        "  'rank': '689'},\n",
        " {'AI': '0.8557',\n",
        "  'EF': '0.027824',\n",
        "  'issn': '0364-2313',\n",
        "  'journal': 'WORLD J SURG',\n",
        "  'nlmuniqueid': '7704052',\n",
        "  'rank': '690'},\n",
        " {'AI': '2.3853',\n",
        "  'EF': '0.027823',\n",
        "  'issn': '0022-0477',\n",
        "  'journal': 'J ECOL',\n",
        "  'nlmuniqueid': '',\n",
        "  'rank': '691'},\n",
        " {'AI': '1.7743',\n",
        "  'EF': '0.027822',\n",
        "  'issn': '0305-0270',\n",
        "  'journal': 'J BIOGEOGR',\n",
        "  'nlmuniqueid': '',\n",
        "  'rank': '692'},\n",
        " {'AI': '0.605',\n",
        "  'EF': '0.027796',\n",
        "  'issn': '0260-8774',\n",
        "  'journal': 'J FOOD ENG',\n",
        "  'nlmuniqueid': '',\n",
        "  'rank': '693'},\n",
        " {'AI': '0.7492',\n",
        "  'EF': '0.027769',\n",
        "  'issn': '0960-1317',\n",
        "  'journal': 'J MICROMECH MICROENG',\n",
        "  'nlmuniqueid': '',\n",
        "  'rank': '694'},\n",
        " {'AI': '1.0718',\n",
        "  'EF': '0.027754',\n",
        "  'issn': '1742-5468',\n",
        "  'journal': 'J STAT MECH-THEORY E',\n",
        "  'nlmuniqueid': '',\n",
        "  'rank': '695'},\n",
        " {'AI': '6.8128',\n",
        "  'EF': '0.027738',\n",
        "  'issn': '0895-3309',\n",
        "  'journal': 'J ECON PERSPECT',\n",
        "  'nlmuniqueid': '9885204',\n",
        "  'rank': '696'},\n",
        " {'AI': '0.8127',\n",
        "  'EF': '0.027679',\n",
        "  'issn': '0740-3224',\n",
        "  'journal': 'J OPT SOC AM B',\n",
        "  'nlmuniqueid': '9880875',\n",
        "  'rank': '697'},\n",
        " {'AI': '2.4389',\n",
        "  'EF': '0.027598',\n",
        "  'issn': '1074-5521',\n",
        "  'journal': 'CHEM BIOL',\n",
        "  'nlmuniqueid': '9500160',\n",
        "  'rank': '698'},\n",
        " {'AI': '2.3002',\n",
        "  'EF': '0.027548',\n",
        "  'issn': '0021-9630',\n",
        "  'journal': 'J CHILD PSYCHOL PSYC',\n",
        "  'nlmuniqueid': '0375361',\n",
        "  'rank': '699'},\n",
        " {'AI': '3.8765',\n",
        "  'EF': '0.027514',\n",
        "  'issn': '0003-0007',\n",
        "  'journal': 'B AM METEOROL SOC',\n",
        "  'nlmuniqueid': '100971607',\n",
        "  'rank': '700'},\n",
        " {'AI': '0.8468',\n",
        "  'EF': '0.027505',\n",
        "  'issn': '0165-0270',\n",
        "  'journal': 'J NEUROSCI METH',\n",
        "  'nlmuniqueid': '7905558',\n",
        "  'rank': '701'},\n",
        " {'AI': '0.7032',\n",
        "  'EF': '0.027497',\n",
        "  'issn': '0946-2171',\n",
        "  'journal': 'APPL PHYS B-LASERS O',\n",
        "  'nlmuniqueid': '100910685',\n",
        "  'rank': '702'},\n",
        " {'AI': '1.0084',\n",
        "  'EF': '0.027463',\n",
        "  'issn': '0031-9384',\n",
        "  'journal': 'PHYSIOL BEHAV',\n",
        "  'nlmuniqueid': '0151504',\n",
        "  'rank': '703'},\n",
        " {'AI': '1.8679',\n",
        "  'EF': '0.02744',\n",
        "  'issn': '0894-1491',\n",
        "  'journal': 'GLIA',\n",
        "  'nlmuniqueid': '8806785',\n",
        "  'rank': '704'},\n",
        " {'AI': '11.4212',\n",
        "  'EF': '0.02744',\n",
        "  'issn': '1081-0706',\n",
        "  'journal': 'ANNU REV CELL DEV BI',\n",
        "  'nlmuniqueid': '9600627',\n",
        "  'rank': '705'},\n",
        " {'AI': '2.5087',\n",
        "  'EF': '0.027422',\n",
        "  'issn': '0009-3920',\n",
        "  'journal': 'CHILD DEV',\n",
        "  'nlmuniqueid': '0372725',\n",
        "  'rank': '706'},\n",
        " {'AI': '1.1592',\n",
        "  'EF': '0.02732',\n",
        "  'issn': '0363-5465',\n",
        "  'journal': 'AM J SPORT MED',\n",
        "  'nlmuniqueid': '7609541',\n",
        "  'rank': '707'},\n",
        " {'AI': '3.8187',\n",
        "  'EF': '0.027314',\n",
        "  'issn': '1471-4906',\n",
        "  'journal': 'TRENDS IMMUNOL',\n",
        "  'nlmuniqueid': '100966032',\n",
        "  'rank': '708'},\n",
        " {'AI': '0.8007',\n",
        "  'EF': '0.027284',\n",
        "  'issn': '0018-9545',\n",
        "  'journal': 'IEEE T VEH TECHNOL',\n",
        "  'nlmuniqueid': '',\n",
        "  'rank': '709'},\n",
        " {'AI': '0.6083',\n",
        "  'EF': '0.027022',\n",
        "  'issn': '0018-8158',\n",
        "  'journal': 'HYDROBIOLOGIA',\n",
        "  'nlmuniqueid': '9879627',\n",
        "  'rank': '710'},\n",
        " {'AI': '0.7474',\n",
        "  'EF': '0.027003',\n",
        "  'issn': '0014-3057',\n",
        "  'journal': 'EUR POLYM J',\n",
        "  'nlmuniqueid': '',\n",
        "  'rank': '711'},\n",
        " {'AI': '4.5117',\n",
        "  'EF': '0.026975',\n",
        "  'issn': '0020-9910',\n",
        "  'journal': 'INVENT MATH',\n",
        "  'nlmuniqueid': '',\n",
        "  'rank': '712'},\n",
        " {'AI': '1.2453',\n",
        "  'EF': '0.026974',\n",
        "  'issn': '0305-7364',\n",
        "  'journal': 'ANN BOT-LONDON',\n",
        "  'nlmuniqueid': '0372347',\n",
        "  'rank': '713'},\n",
        " {'AI': '0.9165',\n",
        "  'EF': '0.026895',\n",
        "  'issn': '0042-6989',\n",
        "  'journal': 'VISION RES',\n",
        "  'nlmuniqueid': '0417402',\n",
        "  'rank': '714'},\n",
        " {'AI': '2.2013',\n",
        "  'EF': '0.026887',\n",
        "  'issn': '0012-1649',\n",
        "  'journal': 'DEV PSYCHOL',\n",
        "  'nlmuniqueid': '0260564',\n",
        "  'rank': '715'},\n",
        " {'AI': '0.8857',\n",
        "  'EF': '0.026866',\n",
        "  'issn': '0090-6778',\n",
        "  'journal': 'IEEE T COMMUN',\n",
        "  'nlmuniqueid': '',\n",
        "  'rank': '716'},\n",
        " {'AI': '1.3554',\n",
        "  'EF': '0.026772',\n",
        "  'issn': '0010-4655',\n",
        "  'journal': 'COMPUT PHYS COMMUN',\n",
        "  'nlmuniqueid': '100971327',\n",
        "  'rank': '717'},\n",
        " {'AI': '4.6394',\n",
        "  'EF': '0.026717',\n",
        "  'issn': '1063-5157',\n",
        "  'journal': 'SYST BIOL',\n",
        "  'nlmuniqueid': '9302532',\n",
        "  'rank': '718'},\n",
        " {'AI': '0.9777',\n",
        "  'EF': '0.026717',\n",
        "  'issn': '0169-555X',\n",
        "  'journal': 'GEOMORPHOLOGY',\n",
        "  'nlmuniqueid': '',\n",
        "  'rank': '719'},\n",
        " {'AI': '1.8468',\n",
        "  'EF': '0.026622',\n",
        "  'issn': '1568-7864',\n",
        "  'journal': 'DNA REPAIR',\n",
        "  'nlmuniqueid': '',\n",
        "  'rank': '720'},\n",
        " {'AI': '0.7067',\n",
        "  'EF': '0.026595',\n",
        "  'issn': '0223-5234',\n",
        "  'journal': 'EUR J MED CHEM',\n",
        "  'nlmuniqueid': '0420510',\n",
        "  'rank': '721'},\n",
        " {'AI': '0.6483',\n",
        "  'EF': '0.026587',\n",
        "  'issn': '0022-2488',\n",
        "  'journal': 'J MATH PHYS',\n",
        "  'nlmuniqueid': '',\n",
        "  'rank': '722'},\n",
        " {'AI': '1.0809',\n",
        "  'EF': '0.026583',\n",
        "  'issn': '0921-8009',\n",
        "  'journal': 'ECOL ECON',\n",
        "  'nlmuniqueid': '101085818',\n",
        "  'rank': '723'},\n",
        " {'AI': '0.7021',\n",
        "  'EF': '0.026498',\n",
        "  'issn': '1615-9306',\n",
        "  'journal': 'J SEP SCI',\n",
        "  'nlmuniqueid': '101088554',\n",
        "  'rank': '724'},\n",
        " {'AI': '2.1846',\n",
        "  'EF': '0.026484',\n",
        "  'issn': '1465-5411',\n",
        "  'journal': 'BREAST CANCER RES',\n",
        "  'nlmuniqueid': '100927353',\n",
        "  'rank': '725'},\n",
        " {'AI': '0.9044',\n",
        "  'EF': '0.026455',\n",
        "  'issn': '0032-079X',\n",
        "  'journal': 'PLANT SOIL',\n",
        "  'nlmuniqueid': '9882808',\n",
        "  'rank': '726'},\n",
        " {'AI': '0.7477',\n",
        "  'EF': '0.026438',\n",
        "  'issn': '1566-7367',\n",
        "  'journal': 'CATAL COMMUN',\n",
        "  'nlmuniqueid': '',\n",
        "  'rank': '727'},\n",
        " {'AI': '1.3212',\n",
        "  'EF': '0.026436',\n",
        "  'issn': '1619-7070',\n",
        "  'journal': 'EUR J NUCL MED MOL I',\n",
        "  'nlmuniqueid': '101140988',\n",
        "  'rank': '728'},\n",
        " {'AI': '1.066',\n",
        "  'EF': '0.026393',\n",
        "  'issn': '1549-8328',\n",
        "  'journal': 'IEEE T CIRCUITS-I',\n",
        "  'nlmuniqueid': '',\n",
        "  'rank': '729'},\n",
        " {'AI': '2.328',\n",
        "  'EF': '0.026386',\n",
        "  'issn': '0001-6322',\n",
        "  'journal': 'ACTA NEUROPATHOL',\n",
        "  'nlmuniqueid': '0412041',\n",
        "  'rank': '730'},\n",
        " {'AI': '1.8445',\n",
        "  'EF': '0.026353',\n",
        "  'issn': '0165-0009',\n",
        "  'journal': 'CLIMATIC CHANGE',\n",
        "  'nlmuniqueid': '101087507',\n",
        "  'rank': '731'},\n",
        " {'AI': '1.6287',\n",
        "  'EF': '0.026286',\n",
        "  'issn': '0163-6804',\n",
        "  'journal': 'IEEE COMMUN MAG',\n",
        "  'nlmuniqueid': '',\n",
        "  'rank': '732'},\n",
        " {'AI': '2.425',\n",
        "  'EF': '0.026285',\n",
        "  'issn': '0022-0531',\n",
        "  'journal': 'J ECON THEORY',\n",
        "  'nlmuniqueid': '101086004',\n",
        "  'rank': '733'},\n",
        " {'AI': '0.8385',\n",
        "  'EF': '0.026251',\n",
        "  'issn': '0167-9473',\n",
        "  'journal': 'COMPUT STAT DATA AN',\n",
        "  'nlmuniqueid': '',\n",
        "  'rank': '734'},\n",
        " {'AI': '0.2912',\n",
        "  'EF': '0.026246',\n",
        "  'issn': '1533-4880',\n",
        "  'journal': 'J NANOSCI NANOTECHNO',\n",
        "  'nlmuniqueid': '101088195',\n",
        "  'rank': '735'},\n",
        " {'AI': '0.7577',\n",
        "  'EF': '0.026125',\n",
        "  'issn': '1099-0062',\n",
        "  'journal': 'ELECTROCHEM SOLID ST',\n",
        "  'nlmuniqueid': '',\n",
        "  'rank': '736'},\n",
        " {'AI': '0.8341',\n",
        "  'EF': '0.026068',\n",
        "  'issn': '0378-1135',\n",
        "  'journal': 'VET MICROBIOL',\n",
        "  'nlmuniqueid': '7705469',\n",
        "  'rank': '737'},\n",
        " {'AI': '1.3732',\n",
        "  'EF': '0.026015',\n",
        "  'issn': '1582-1838',\n",
        "  'journal': 'J CELL MOL MED',\n",
        "  'nlmuniqueid': '101083777',\n",
        "  'rank': '738'},\n",
        " {'AI': '1.9377',\n",
        "  'EF': '0.025978',\n",
        "  'issn': '0010-0277',\n",
        "  'journal': 'COGNITION',\n",
        "  'nlmuniqueid': '0367541',\n",
        "  'rank': '739'},\n",
        " {'AI': '0.7753',\n",
        "  'EF': '0.025964',\n",
        "  'issn': '0022-510X',\n",
        "  'journal': 'J NEUROL SCI',\n",
        "  'nlmuniqueid': '0375403',\n",
        "  'rank': '740'},\n",
        " {'AI': '0.9272',\n",
        "  'EF': '0.025949',\n",
        "  'issn': '0003-9861',\n",
        "  'journal': 'ARCH BIOCHEM BIOPHYS',\n",
        "  'nlmuniqueid': '0372430',\n",
        "  'rank': '741'},\n",
        " {'AI': '8.7858',\n",
        "  'EF': '0.025943',\n",
        "  'issn': '0022-3808',\n",
        "  'journal': 'J POLIT ECON',\n",
        "  'nlmuniqueid': '9878848',\n",
        "  'rank': '742'},\n",
        " {'AI': '0.6399',\n",
        "  'EF': '0.025842',\n",
        "  'issn': '0924-4247',\n",
        "  'journal': 'SENSOR ACTUAT A-PHYS',\n",
        "  'nlmuniqueid': '101137102',\n",
        "  'rank': '743'},\n",
        " {'AI': '1.3729',\n",
        "  'EF': '0.025809',\n",
        "  'issn': '1535-9778',\n",
        "  'journal': 'EUKARYOT CELL',\n",
        "  'nlmuniqueid': '',\n",
        "  'rank': '744'},\n",
        " {'AI': '1.6729',\n",
        "  'EF': '0.025772',\n",
        "  'issn': '1044-1549',\n",
        "  'journal': 'AM J RESP CELL MOL',\n",
        "  'nlmuniqueid': '8917225',\n",
        "  'rank': '745'},\n",
        " {'AI': '11.3236',\n",
        "  'EF': '0.025752',\n",
        "  'issn': '0066-4308',\n",
        "  'journal': 'ANNU REV PSYCHOL',\n",
        "  'nlmuniqueid': '0372374',\n",
        "  'rank': '746'},\n",
        " {'AI': '1.623',\n",
        "  'EF': '0.025748',\n",
        "  'issn': '1047-8477',\n",
        "  'journal': 'J STRUCT BIOL',\n",
        "  'nlmuniqueid': '9011206',\n",
        "  'rank': '747'},\n",
        " {'AI': '2.0672',\n",
        "  'EF': '0.025742',\n",
        "  'issn': '0021-8790',\n",
        "  'journal': 'J ANIM ECOL',\n",
        "  'nlmuniqueid': '0376574',\n",
        "  'rank': '748'},\n",
        " {'AI': '0.7111',\n",
        "  'EF': '0.025679',\n",
        "  'issn': '0024-3205',\n",
        "  'journal': 'LIFE SCI',\n",
        "  'nlmuniqueid': '0375521',\n",
        "  'rank': '749'},\n",
        " {'AI': '1.092',\n",
        "  'EF': '0.025675',\n",
        "  'issn': '0006-3363',\n",
        "  'journal': 'BIOL REPROD',\n",
        "  'nlmuniqueid': '0207224',\n",
        "  'rank': '750'},\n",
        " {'AI': '0.945',\n",
        "  'EF': '0.02565',\n",
        "  'issn': '0002-9610',\n",
        "  'journal': 'AM J SURG',\n",
        "  'nlmuniqueid': '0370473',\n",
        "  'rank': '751'},\n",
        " {'AI': '1.4744',\n",
        "  'EF': '0.025634',\n",
        "  'issn': '1078-0998',\n",
        "  'journal': 'INFLAMM BOWEL DIS',\n",
        "  'nlmuniqueid': '9508162',\n",
        "  'rank': '752'},\n",
        " {'AI': '1.2744',\n",
        "  'EF': '0.025594',\n",
        "  'issn': '1470-0328',\n",
        "  'journal': 'BJOG-INT J OBSTET GY',\n",
        "  'nlmuniqueid': '100935741',\n",
        "  'rank': '753'},\n",
        " {'AI': '1.1545',\n",
        "  'EF': '0.025578',\n",
        "  'issn': '0167-8140',\n",
        "  'journal': 'RADIOTHER ONCOL',\n",
        "  'nlmuniqueid': '8407192',\n",
        "  'rank': '754'},\n",
        " {'AI': '0.6832',\n",
        "  'EF': '0.025548',\n",
        "  'issn': '0163-3864',\n",
        "  'journal': 'J NAT PROD',\n",
        "  'nlmuniqueid': '7906882',\n",
        "  'rank': '755'},\n",
        " {'AI': '0.6859',\n",
        "  'EF': '0.025548',\n",
        "  'issn': '0023-852X',\n",
        "  'journal': 'LARYNGOSCOPE',\n",
        "  'nlmuniqueid': '8607378',\n",
        "  'rank': '756'},\n",
        " {'AI': '0.6846',\n",
        "  'EF': '0.025525',\n",
        "  'issn': '1434-6028',\n",
        "  'journal': 'EUR PHYS J B',\n",
        "  'nlmuniqueid': '',\n",
        "  'rank': '757'},\n",
        " {'AI': '1.232',\n",
        "  'EF': '0.02551',\n",
        "  'issn': '1556-0864',\n",
        "  'journal': 'J THORAC ONCOL',\n",
        "  'nlmuniqueid': '101274235',\n",
        "  'rank': '758'},\n",
        " {'AI': '1.3533',\n",
        "  'EF': '0.025489',\n",
        "  'issn': '0003-9950',\n",
        "  'journal': 'ARCH OPHTHALMOL-CHIC',\n",
        "  'nlmuniqueid': '7706534',\n",
        "  'rank': '759'},\n",
        " {'AI': '0.6358',\n",
        "  'EF': '0.025467',\n",
        "  'issn': '0278-6915',\n",
        "  'journal': 'FOOD CHEM TOXICOL',\n",
        "  'nlmuniqueid': '8207483',\n",
        "  'rank': '760'},\n",
        " {'AI': '1.7459',\n",
        "  'EF': '0.025423',\n",
        "  'issn': '0140-7791',\n",
        "  'journal': 'PLANT CELL ENVIRON',\n",
        "  'nlmuniqueid': '9309004',\n",
        "  'rank': '761'},\n",
        " {'AI': '2.0739',\n",
        "  'EF': '0.02537',\n",
        "  'issn': '0890-8567',\n",
        "  'journal': 'J AM ACAD CHILD PSY',\n",
        "  'nlmuniqueid': '8704565',\n",
        "  'rank': '762'},\n",
        " {'AI': '0.9322',\n",
        "  'EF': '0.025339',\n",
        "  'issn': '0090-9556',\n",
        "  'journal': 'DRUG METAB DISPOS',\n",
        "  'nlmuniqueid': '9421550',\n",
        "  'rank': '763'},\n",
        " {'AI': '4.3972',\n",
        "  'EF': '0.025322',\n",
        "  'issn': '0034-6535',\n",
        "  'journal': 'REV ECON STAT',\n",
        "  'nlmuniqueid': '9877925',\n",
        "  'rank': '764'},\n",
        " {'AI': '0.9867',\n",
        "  'EF': '0.025279',\n",
        "  'issn': '0885-8993',\n",
        "  'journal': 'IEEE T POWER ELECTR',\n",
        "  'nlmuniqueid': '',\n",
        "  'rank': '765'},\n",
        " {'AI': '0.8778',\n",
        "  'EF': '0.025243',\n",
        "  'issn': '0885-6087',\n",
        "  'journal': 'HYDROL PROCESS',\n",
        "  'nlmuniqueid': '',\n",
        "  'rank': '766'},\n",
        " {'AI': '1.7441',\n",
        "  'EF': '0.025238',\n",
        "  'issn': '0895-4356',\n",
        "  'journal': 'J CLIN EPIDEMIOL',\n",
        "  'nlmuniqueid': '8801383',\n",
        "  'rank': '767'},\n",
        " {'AI': '0.5856',\n",
        "  'EF': '0.025197',\n",
        "  'issn': '0898-1221',\n",
        "  'journal': 'COMPUT MATH APPL',\n",
        "  'nlmuniqueid': '101092359',\n",
        "  'rank': '768'},\n",
        " {'AI': '1.1388',\n",
        "  'EF': '0.025168',\n",
        "  'issn': '0804-4643',\n",
        "  'journal': 'EUR J ENDOCRINOL',\n",
        "  'nlmuniqueid': '9423848',\n",
        "  'rank': '769'},\n",
        " {'AI': '12.1338',\n",
        "  'EF': '0.025147',\n",
        "  'issn': '0066-4197',\n",
        "  'journal': 'ANNU REV GENET',\n",
        "  'nlmuniqueid': '0117605',\n",
        "  'rank': '770'},\n",
        " {'AI': '1.4555',\n",
        "  'EF': '0.025145',\n",
        "  'issn': '1018-4813',\n",
        "  'journal': 'EUR J HUM GENET',\n",
        "  'nlmuniqueid': '9302235',\n",
        "  'rank': '771'},\n",
        " {'AI': '2.9597',\n",
        "  'EF': '0.025133',\n",
        "  'issn': '0920-5691',\n",
        "  'journal': 'INT J COMPUT VISION',\n",
        "  'nlmuniqueid': '',\n",
        "  'rank': '772'},\n",
        " {'AI': '0.406',\n",
        "  'EF': '0.02507',\n",
        "  'issn': '0250-7005',\n",
        "  'journal': 'ANTICANCER RES',\n",
        "  'nlmuniqueid': '8102988',\n",
        "  'rank': '773'},\n",
        " {'AI': '0.8685',\n",
        "  'EF': '0.025054',\n",
        "  'issn': '0378-1119',\n",
        "  'journal': 'GENE',\n",
        "  'nlmuniqueid': '7706761',\n",
        "  'rank': '774'},\n",
        " {'AI': '1.4511',\n",
        "  'EF': '0.025043',\n",
        "  'issn': '0079-6123',\n",
        "  'journal': 'PROG BRAIN RES',\n",
        "  'nlmuniqueid': '0376441',\n",
        "  'rank': '775'},\n",
        " {'AI': '1.0644',\n",
        "  'EF': '0.025027',\n",
        "  'issn': '0003-2654',\n",
        "  'journal': 'ANALYST',\n",
        "  'nlmuniqueid': '0372652',\n",
        "  'rank': '776'},\n",
        " {'AI': '0.728',\n",
        "  'EF': '0.024968',\n",
        "  'issn': '0010-938X',\n",
        "  'journal': 'CORROS SCI',\n",
        "  'nlmuniqueid': '',\n",
        "  'rank': '777'},\n",
        " {'AI': '1.3274',\n",
        "  'EF': '0.024954',\n",
        "  'issn': '1882-0778',\n",
        "  'journal': 'APPL PHYS EXPRESS',\n",
        "  'nlmuniqueid': '',\n",
        "  'rank': '778'},\n",
        " {'AI': '0.8402',\n",
        "  'EF': '0.024934',\n",
        "  'issn': '1383-5866',\n",
        "  'journal': 'SEP PURIF TECHNOL',\n",
        "  'nlmuniqueid': '',\n",
        "  'rank': '779'},\n",
        " {'AI': '0.587',\n",
        "  'EF': '0.024857',\n",
        "  'issn': '0378-8741',\n",
        "  'journal': 'J ETHNOPHARMACOL',\n",
        "  'nlmuniqueid': '7903310',\n",
        "  'rank': '780'},\n",
        " {'AI': '1.3145',\n",
        "  'EF': '0.024856',\n",
        "  'issn': '0029-5515',\n",
        "  'journal': 'NUCL FUSION',\n",
        "  'nlmuniqueid': '',\n",
        "  'rank': '781'},\n",
        " {'AI': '2.9589',\n",
        "  'EF': '0.024854',\n",
        "  'issn': '1560-7917',\n",
        "  'journal': 'EUROSURVEILLANCE',\n",
        "  'nlmuniqueid': '',\n",
        "  'rank': '782'},\n",
        " {'AI': '0.4552',\n",
        "  'EF': '0.024797',\n",
        "  'issn': '0021-9568',\n",
        "  'journal': 'J CHEM ENG DATA',\n",
        "  'nlmuniqueid': '',\n",
        "  'rank': '783'},\n",
        " {'AI': '1.1731',\n",
        "  'EF': '0.024784',\n",
        "  'issn': '0039-6060',\n",
        "  'journal': 'SURGERY',\n",
        "  'nlmuniqueid': '0417347',\n",
        "  'rank': '784'},\n",
        " {'AI': '1.5077',\n",
        "  'EF': '0.024776',\n",
        "  'issn': '0005-2728',\n",
        "  'journal': 'BBA-BIOENERGETICS',\n",
        "  'nlmuniqueid': '',\n",
        "  'rank': '785'},\n",
        " {'AI': '0.6496',\n",
        "  'EF': '0.024696',\n",
        "  'issn': '0261-3069',\n",
        "  'journal': 'MATER DESIGN',\n",
        "  'nlmuniqueid': '',\n",
        "  'rank': '786'},\n",
        " {'AI': '2.8367',\n",
        "  'EF': '0.024608',\n",
        "  'issn': '1084-9521',\n",
        "  'journal': 'SEMIN CELL DEV BIOL',\n",
        "  'nlmuniqueid': '9607332',\n",
        "  'rank': '787'},\n",
        " {'AI': '0.8448',\n",
        "  'EF': '0.024603',\n",
        "  'issn': '0272-7714',\n",
        "  'journal': 'ESTUAR COAST SHELF S',\n",
        "  'nlmuniqueid': '',\n",
        "  'rank': '788'},\n",
        " {'AI': '0.8916',\n",
        "  'EF': '0.024593',\n",
        "  'issn': '0031-9422',\n",
        "  'journal': 'PHYTOCHEMISTRY',\n",
        "  'nlmuniqueid': '0151434',\n",
        "  'rank': '789'},\n",
        " {'AI': '1.03',\n",
        "  'EF': '0.024577',\n",
        "  'issn': '1531-1309',\n",
        "  'journal': 'IEEE MICROW WIREL CO',\n",
        "  'nlmuniqueid': '',\n",
        "  'rank': '790'},\n",
        " {'AI': '0.5316',\n",
        "  'EF': '0.024561',\n",
        "  'issn': '0012-365X',\n",
        "  'journal': 'DISCRETE MATH',\n",
        "  'nlmuniqueid': '',\n",
        "  'rank': '791'},\n",
        " {'AI': '2.682',\n",
        "  'EF': '0.024545',\n",
        "  'issn': '1532-4435',\n",
        "  'journal': 'J MACH LEARN RES',\n",
        "  'nlmuniqueid': '',\n",
        "  'rank': '792'},\n",
        " {'AI': '0.7904',\n",
        "  'EF': '0.024513',\n",
        "  'issn': '0730-7268',\n",
        "  'journal': 'ENVIRON TOXICOL CHEM',\n",
        "  'nlmuniqueid': '8308958',\n",
        "  'rank': '793'},\n",
        " {'AI': '0.2674',\n",
        "  'EF': '0.024471',\n",
        "  'issn': '0041-1345',\n",
        "  'journal': 'TRANSPL P',\n",
        "  'nlmuniqueid': '0243532',\n",
        "  'rank': '794'},\n",
        " {'AI': '1.9585',\n",
        "  'EF': '0.02446',\n",
        "  'issn': '1072-4710',\n",
        "  'journal': 'ARCH PEDIAT ADOL MED',\n",
        "  'nlmuniqueid': '9422751',\n",
        "  'rank': '795'},\n",
        " {'AI': '1.5949',\n",
        "  'EF': '0.024395',\n",
        "  'issn': '1364-0321',\n",
        "  'journal': 'RENEW SUST ENERG REV',\n",
        "  'nlmuniqueid': '',\n",
        "  'rank': '796'},\n",
        " {'AI': '2.6435',\n",
        "  'EF': '0.024386',\n",
        "  'issn': '0886-6236',\n",
        "  'journal': 'GLOBAL BIOGEOCHEM CY',\n",
        "  'nlmuniqueid': '100971590',\n",
        "  'rank': '797'},\n",
        " {'AI': '0.4479',\n",
        "  'EF': '0.024365',\n",
        "  'issn': '0022-328X',\n",
        "  'journal': 'J ORGANOMET CHEM',\n",
        "  'nlmuniqueid': '',\n",
        "  'rank': '798'},\n",
        " {'AI': '1.0386',\n",
        "  'EF': '0.024343',\n",
        "  'issn': '0340-5354',\n",
        "  'journal': 'J NEUROL',\n",
        "  'nlmuniqueid': '0423161',\n",
        "  'rank': '799'},\n",
        " {'AI': '0.4916',\n",
        "  'EF': '0.024179',\n",
        "  'issn': '0167-9317',\n",
        "  'journal': 'MICROELECTRON ENG',\n",
        "  'nlmuniqueid': '',\n",
        "  'rank': '800'},\n",
        " {'AI': '2.6786',\n",
        "  'EF': '0.02417',\n",
        "  'issn': '1044-3983',\n",
        "  'journal': 'EPIDEMIOLOGY',\n",
        "  'nlmuniqueid': '9009644',\n",
        "  'rank': '801'},\n",
        " {'AI': '2.0752',\n",
        "  'EF': '0.024167',\n",
        "  'issn': '1948-7185',\n",
        "  'journal': 'J PHYS CHEM LETT',\n",
        "  'nlmuniqueid': '',\n",
        "  'rank': '802'},\n",
        " {'AI': '0.5042',\n",
        "  'EF': '0.024124',\n",
        "  'issn': '0370-1972',\n",
        "  'journal': 'PHYS STATUS SOLIDI B',\n",
        "  'nlmuniqueid': '',\n",
        "  'rank': '803'},\n",
        " {'AI': '2.0625',\n",
        "  'EF': '0.024095',\n",
        "  'issn': '0265-9247',\n",
        "  'journal': 'BIOESSAYS',\n",
        "  'nlmuniqueid': '8510851',\n",
        "  'rank': '804'},\n",
        " {'AI': '1.7916',\n",
        "  'EF': '0.024052',\n",
        "  'issn': '1726-4170',\n",
        "  'journal': 'BIOGEOSCIENCES',\n",
        "  'nlmuniqueid': '',\n",
        "  'rank': '805'},\n",
        " {'AI': '0.5058',\n",
        "  'EF': '0.02399',\n",
        "  'issn': '1862-6300',\n",
        "  'journal': 'PHYS STATUS SOLIDI A',\n",
        "  'nlmuniqueid': '',\n",
        "  'rank': '806'},\n",
        " {'AI': '0.7943',\n",
        "  'EF': '0.023934',\n",
        "  'issn': '0022-3549',\n",
        "  'journal': 'J PHARM SCI-US',\n",
        "  'nlmuniqueid': '2985195R',\n",
        "  'rank': '807'},\n",
        " {'AI': '0.4842',\n",
        "  'EF': '0.023825',\n",
        "  'issn': '1071-1023',\n",
        "  'journal': 'J VAC SCI TECHNOL B',\n",
        "  'nlmuniqueid': '',\n",
        "  'rank': '808'},\n",
        " {'AI': '0.904',\n",
        "  'EF': '0.023809',\n",
        "  'issn': '0168-1656',\n",
        "  'journal': 'J BIOTECHNOL',\n",
        "  'nlmuniqueid': '8411927',\n",
        "  'rank': '809'},\n",
        " {'AI': '1.724',\n",
        "  'EF': '0.023808',\n",
        "  'issn': '0004-0010',\n",
        "  'journal': 'ARCH SURG-CHICAGO',\n",
        "  'nlmuniqueid': '9716528',\n",
        "  'rank': '810'},\n",
        " {'AI': '1.3746',\n",
        "  'EF': '0.023747',\n",
        "  'issn': '1054-139X',\n",
        "  'journal': 'J ADOLESCENT HEALTH',\n",
        "  'nlmuniqueid': '9102136',\n",
        "  'rank': '811'},\n",
        " {'AI': '1.9377',\n",
        "  'EF': '0.023668',\n",
        "  'issn': '0269-8463',\n",
        "  'journal': 'FUNCT ECOL',\n",
        "  'nlmuniqueid': '',\n",
        "  'rank': '812'},\n",
        " {'AI': '0.6203',\n",
        "  'EF': '0.023642',\n",
        "  'issn': '0021-8812',\n",
        "  'journal': 'J ANIM SCI',\n",
        "  'nlmuniqueid': '8003002',\n",
        "  'rank': '813'},\n",
        " {'AI': '0.888',\n",
        "  'EF': '0.023599',\n",
        "  'issn': '0301-4797',\n",
        "  'journal': 'J ENVIRON MANAGE',\n",
        "  'nlmuniqueid': '0401664',\n",
        "  'rank': '814'},\n",
        " {'AI': '2.9202',\n",
        "  'EF': '0.023565',\n",
        "  'issn': '0958-1669',\n",
        "  'journal': 'CURR OPIN BIOTECH',\n",
        "  'nlmuniqueid': '9100492',\n",
        "  'rank': '815'},\n",
        " {'AI': '1.1957',\n",
        "  'EF': '0.023552',\n",
        "  'issn': '0167-8809',\n",
        "  'journal': 'AGR ECOSYST ENVIRON',\n",
        "  'nlmuniqueid': '',\n",
        "  'rank': '816'},\n",
        " {'AI': '0.694',\n",
        "  'EF': '0.023545',\n",
        "  'issn': '0043-1648',\n",
        "  'journal': 'WEAR',\n",
        "  'nlmuniqueid': '',\n",
        "  'rank': '817'},\n",
        " {'AI': '0.9125',\n",
        "  'EF': '0.023513',\n",
        "  'issn': '1091-255X',\n",
        "  'journal': 'J GASTROINTEST SURG',\n",
        "  'nlmuniqueid': '9706084',\n",
        "  'rank': '818'},\n",
        " {'AI': '0.6424',\n",
        "  'EF': '0.023503',\n",
        "  'issn': '0301-0104',\n",
        "  'journal': 'CHEM PHYS',\n",
        "  'nlmuniqueid': '0371632',\n",
        "  'rank': '819'},\n",
        " {'AI': '0.5631',\n",
        "  'EF': '0.023442',\n",
        "  'issn': '0163-2116',\n",
        "  'journal': 'DIGEST DIS SCI',\n",
        "  'nlmuniqueid': '7902782',\n",
        "  'rank': '820'},\n",
        " {'AI': '2.8125',\n",
        "  'EF': '0.023418',\n",
        "  'issn': '1751-7362',\n",
        "  'journal': 'ISME J',\n",
        "  'nlmuniqueid': '101301086',\n",
        "  'rank': '821'},\n",
        " {'AI': '0.7574',\n",
        "  'EF': '0.023406',\n",
        "  'issn': '1073-5623',\n",
        "  'journal': 'METALL MATER TRANS A',\n",
        "  'nlmuniqueid': '',\n",
        "  'rank': '822'},\n",
        " {'AI': '1.445',\n",
        "  'EF': '0.0234',\n",
        "  'issn': '0143-005X',\n",
        "  'journal': 'J EPIDEMIOL COMMUN H',\n",
        "  'nlmuniqueid': '7909766',\n",
        "  'rank': '823'},\n",
        " {'AI': '8.1589',\n",
        "  'EF': '0.023343',\n",
        "  'issn': '0163-769X',\n",
        "  'journal': 'ENDOCR REV',\n",
        "  'nlmuniqueid': '8006258',\n",
        "  'rank': '824'},\n",
        " {'AI': '1.4148',\n",
        "  'EF': '0.023327',\n",
        "  'issn': '0032-0781',\n",
        "  'journal': 'PLANT CELL PHYSIOL',\n",
        "  'nlmuniqueid': '9430925',\n",
        "  'rank': '825'},\n",
        " {'AI': '9.2731',\n",
        "  'EF': '0.0233',\n",
        "  'issn': '1543-592X',\n",
        "  'journal': 'ANNU REV ECOL EVOL S',\n",
        "  'nlmuniqueid': '',\n",
        "  'rank': '826'},\n",
        " {'AI': '1.009',\n",
        "  'EF': '0.023298',\n",
        "  'issn': '0300-0664',\n",
        "  'journal': 'CLIN ENDOCRINOL',\n",
        "  'nlmuniqueid': '0346653',\n",
        "  'rank': '827'},\n",
        " {'AI': '1.2788',\n",
        "  'EF': '0.023266',\n",
        "  'issn': '1063-4584',\n",
        "  'journal': 'OSTEOARTHR CARTILAGE',\n",
        "  'nlmuniqueid': '9305697',\n",
        "  'rank': '828'},\n",
        " {'AI': '0.7865',\n",
        "  'EF': '0.023252',\n",
        "  'issn': '0191-8869',\n",
        "  'journal': 'PERS INDIV DIFFER',\n",
        "  'nlmuniqueid': '8006972',\n",
        "  'rank': '829'},\n",
        " {'AI': '0.805',\n",
        "  'EF': '0.023238',\n",
        "  'issn': '1083-3668',\n",
        "  'journal': 'J BIOMED OPT',\n",
        "  'nlmuniqueid': '9605853',\n",
        "  'rank': '830'},\n",
        " {'AI': '1.3393',\n",
        "  'EF': '0.023236',\n",
        "  'issn': '0024-4937',\n",
        "  'journal': 'LITHOS',\n",
        "  'nlmuniqueid': '',\n",
        "  'rank': '831'},\n",
        " {'AI': '0.595',\n",
        "  'EF': '0.023232',\n",
        "  'issn': '0957-4166',\n",
        "  'journal': 'TETRAHEDRON-ASYMMETR',\n",
        "  'nlmuniqueid': '',\n",
        "  'rank': '832'},\n",
        " {'AI': '1.302',\n",
        "  'EF': '0.023139',\n",
        "  'issn': '1077-260X',\n",
        "  'journal': 'IEEE J SEL TOP QUANT',\n",
        "  'nlmuniqueid': '',\n",
        "  'rank': '833'},\n",
        " {'AI': '2.38',\n",
        "  'EF': '0.023135',\n",
        "  'issn': '0042-9686',\n",
        "  'journal': 'B WORLD HEALTH ORGAN',\n",
        "  'nlmuniqueid': '7507052',\n",
        "  'rank': '834'},\n",
        " {'AI': '1.948',\n",
        "  'EF': '0.023114',\n",
        "  'issn': '1046-2023',\n",
        "  'journal': 'METHODS',\n",
        "  'nlmuniqueid': '9426302',\n",
        "  'rank': '835'},\n",
        " {'AI': '1.4924',\n",
        "  'EF': '0.023102',\n",
        "  'issn': '1079-5006',\n",
        "  'journal': 'J GERONTOL A-BIOL',\n",
        "  'nlmuniqueid': '9502837',\n",
        "  'rank': '836'},\n",
        " {'AI': '0.997',\n",
        "  'EF': '0.023093',\n",
        "  'issn': '0009-9104',\n",
        "  'journal': 'CLIN EXP IMMUNOL',\n",
        "  'nlmuniqueid': '0057202',\n",
        "  'rank': '837'},\n",
        " {'AI': '0.9871',\n",
        "  'EF': '0.023063',\n",
        "  'issn': '0040-5752',\n",
        "  'journal': 'THEOR APPL GENET',\n",
        "  'nlmuniqueid': '0145600',\n",
        "  'rank': '838'},\n",
        " {'AI': '0.4872',\n",
        "  'EF': '0.023007',\n",
        "  'issn': '1466-5026',\n",
        "  'journal': 'INT J SYST EVOL MICR',\n",
        "  'nlmuniqueid': '100899600',\n",
        "  'rank': '839'},\n",
        " {'AI': '1.785',\n",
        "  'EF': '0.022981',\n",
        "  'issn': '1742-5689',\n",
        "  'journal': 'J R SOC INTERFACE',\n",
        "  'nlmuniqueid': '',\n",
        "  'rank': '840'},\n",
        " {'AI': '1.6982',\n",
        "  'EF': '0.022955',\n",
        "  'issn': '1083-7159',\n",
        "  'journal': 'ONCOLOGIST',\n",
        "  'nlmuniqueid': '9607837',\n",
        "  'rank': '841'},\n",
        " {'AI': '5.5477',\n",
        "  'EF': '0.022791',\n",
        "  'issn': '1943-0264',\n",
        "  'journal': 'CSH PERSPECT BIOL',\n",
        "  'nlmuniqueid': '',\n",
        "  'rank': '842'},\n",
        " {'AI': '1.9716',\n",
        "  'EF': '0.02278',\n",
        "  'issn': '0025-6196',\n",
        "  'journal': 'MAYO CLIN PROC',\n",
        "  'nlmuniqueid': '0405543',\n",
        "  'rank': '843'},\n",
        " {'AI': '1.0851',\n",
        "  'EF': '0.022728',\n",
        "  'issn': '0741-3335',\n",
        "  'journal': 'PLASMA PHYS CONTR F',\n",
        "  'nlmuniqueid': '',\n",
        "  'rank': '844'},\n",
        " {'AI': '0.5354',\n",
        "  'EF': '0.022724',\n",
        "  'issn': '0957-0233',\n",
        "  'journal': 'MEAS SCI TECHNOL',\n",
        "  'nlmuniqueid': '9005438',\n",
        "  'rank': '845'},\n",
        " {'AI': '3.6968',\n",
        "  'EF': '0.022645',\n",
        "  'issn': '1471-4914',\n",
        "  'journal': 'TRENDS MOL MED',\n",
        "  'nlmuniqueid': '100966035',\n",
        "  'rank': '846'},\n",
        " {'AI': '2.3685',\n",
        "  'EF': '0.022588',\n",
        "  'issn': '0022-006X',\n",
        "  'journal': 'J CONSULT CLIN PSYCH',\n",
        "  'nlmuniqueid': '0136553',\n",
        "  'rank': '847'},\n",
        " {'AI': '3.3543',\n",
        "  'EF': '0.022515',\n",
        "  'issn': '0165-0173',\n",
        "  'journal': 'BRAIN RES REV',\n",
        "  'nlmuniqueid': '101300366',\n",
        "  'rank': '848'},\n",
        " {'AI': '0.7315',\n",
        "  'EF': '0.022512',\n",
        "  'issn': '0815-9319',\n",
        "  'journal': 'J GASTROEN HEPATOL',\n",
        "  'nlmuniqueid': '8607909',\n",
        "  'rank': '849'},\n",
        " {'AI': '0.6477',\n",
        "  'EF': '0.022511',\n",
        "  'issn': '0927-0256',\n",
        "  'journal': 'COMP MATER SCI',\n",
        "  'nlmuniqueid': '',\n",
        "  'rank': '850'},\n",
        " {'AI': '1.9262',\n",
        "  'EF': '0.022504',\n",
        "  'issn': '0146-1672',\n",
        "  'journal': 'PERS SOC PSYCHOL B',\n",
        "  'nlmuniqueid': '7809042',\n",
        "  'rank': '851'},\n",
        " {'AI': '1.6709',\n",
        "  'EF': '0.022494',\n",
        "  'issn': '1541-7786',\n",
        "  'journal': 'MOL CANCER RES',\n",
        "  'nlmuniqueid': '101150042',\n",
        "  'rank': '852'},\n",
        " {'AI': '1.0561',\n",
        "  'EF': '0.022488',\n",
        "  'issn': '1044-0305',\n",
        "  'journal': 'J AM SOC MASS SPECTR',\n",
        "  'nlmuniqueid': '9010412',\n",
        "  'rank': '853'},\n",
        " {'AI': '0.7293',\n",
        "  'EF': '0.022469',\n",
        "  'issn': '1019-6439',\n",
        "  'journal': 'INT J ONCOL',\n",
        "  'nlmuniqueid': '9306042',\n",
        "  'rank': '854'},\n",
        " {'AI': '0.8149',\n",
        "  'EF': '0.022463',\n",
        "  'issn': '0041-1132',\n",
        "  'journal': 'TRANSFUSION',\n",
        "  'nlmuniqueid': '0417360',\n",
        "  'rank': '855'},\n",
        " {'AI': '1.0722',\n",
        "  'EF': '0.022438',\n",
        "  'issn': '0007-0912',\n",
        "  'journal': 'BRIT J ANAESTH',\n",
        "  'nlmuniqueid': '0372541',\n",
        "  'rank': '856'},\n",
        " {'AI': '1.1622',\n",
        "  'EF': '0.022402',\n",
        "  'issn': '1053-2498',\n",
        "  'journal': 'J HEART LUNG TRANSPL',\n",
        "  'nlmuniqueid': '9102703',\n",
        "  'rank': '857'},\n",
        " {'AI': '0.3931',\n",
        "  'EF': '0.022387',\n",
        "  'issn': '0020-1693',\n",
        "  'journal': 'INORG CHIM ACTA',\n",
        "  'nlmuniqueid': '',\n",
        "  'rank': '858'},\n",
        " {'AI': '2.1599',\n",
        "  'EF': '0.022302',\n",
        "  'issn': '1050-9631',\n",
        "  'journal': 'HIPPOCAMPUS',\n",
        "  'nlmuniqueid': '9108167',\n",
        "  'rank': '859'},\n",
        " {'AI': '1.8066',\n",
        "  'EF': '0.022299',\n",
        "  'issn': '1388-1981',\n",
        "  'journal': 'BBA-MOL CELL BIOL L',\n",
        "  'nlmuniqueid': '',\n",
        "  'rank': '860'},\n",
        " {'AI': '1.4164',\n",
        "  'EF': '0.022288',\n",
        "  'issn': '0022-3670',\n",
        "  'journal': 'J PHYS OCEANOGR',\n",
        "  'nlmuniqueid': '',\n",
        "  'rank': '861'},\n",
        " {'AI': '1.2803',\n",
        "  'EF': '0.022283',\n",
        "  'issn': '0168-6496',\n",
        "  'journal': 'FEMS MICROBIOL ECOL',\n",
        "  'nlmuniqueid': '8901229',\n",
        "  'rank': '862'},\n",
        " {'AI': '0.8123',\n",
        "  'EF': '0.022256',\n",
        "  'issn': '0953-2048',\n",
        "  'journal': 'SUPERCOND SCI TECH',\n",
        "  'nlmuniqueid': '',\n",
        "  'rank': '863'},\n",
        " {'AI': '1.2544',\n",
        "  'EF': '0.022201',\n",
        "  'issn': '0954-7894',\n",
        "  'journal': 'CLIN EXP ALLERGY',\n",
        "  'nlmuniqueid': '8906443',\n",
        "  'rank': '864'},\n",
        " {'AI': '0.7192',\n",
        "  'EF': '0.0222',\n",
        "  'issn': '0009-8981',\n",
        "  'journal': 'CLIN CHIM ACTA',\n",
        "  'nlmuniqueid': '1302422',\n",
        "  'rank': '865'},\n",
        " {'AI': '0.2003',\n",
        "  'EF': '0.022162',\n",
        "  'issn': '1175-5326',\n",
        "  'journal': 'ZOOTAXA',\n",
        "  'nlmuniqueid': '',\n",
        "  'rank': '866'},\n",
        " {'AI': '9.6571',\n",
        "  'EF': '0.022139',\n",
        "  'issn': '0066-4278',\n",
        "  'journal': 'ANNU REV PHYSIOL',\n",
        "  'nlmuniqueid': '0370600',\n",
        "  'rank': '867'},\n",
        " {'AI': '0.7744',\n",
        "  'EF': '0.022058',\n",
        "  'issn': '0020-0255',\n",
        "  'journal': 'INFORM SCIENCES',\n",
        "  'nlmuniqueid': '9875661',\n",
        "  'rank': '868'},\n",
        " {'AI': '1.004',\n",
        "  'EF': '0.02204',\n",
        "  'issn': '0145-6008',\n",
        "  'journal': 'ALCOHOL CLIN EXP RES',\n",
        "  'nlmuniqueid': '7707242',\n",
        "  'rank': '869'},\n",
        " {'AI': '5.9453',\n",
        "  'EF': '0.022026',\n",
        "  'issn': '0033-295X',\n",
        "  'journal': 'PSYCHOL REV',\n",
        "  'nlmuniqueid': '0376476',\n",
        "  'rank': '870'},\n",
        " {'AI': '1.0914',\n",
        "  'EF': '0.022017',\n",
        "  'issn': '0037-1106',\n",
        "  'journal': 'B SEISMOL SOC AM',\n",
        "  'nlmuniqueid': '',\n",
        "  'rank': '871'},\n",
        " {'AI': '0.6662',\n",
        "  'EF': '0.022006',\n",
        "  'issn': '1545-5009',\n",
        "  'journal': 'PEDIATR BLOOD CANCER',\n",
        "  'nlmuniqueid': '101186624',\n",
        "  'rank': '872'},\n",
        " {'AI': '0.7939',\n",
        "  'EF': '0.021985',\n",
        "  'issn': '0360-5442',\n",
        "  'journal': 'ENERGY',\n",
        "  'nlmuniqueid': '',\n",
        "  'rank': '873'},\n",
        " {'AI': '1.0124',\n",
        "  'EF': '0.021983',\n",
        "  'issn': '0268-3369',\n",
        "  'journal': 'BONE MARROW TRANSPL',\n",
        "  'nlmuniqueid': '8702459',\n",
        "  'rank': '874'},\n",
        " {'AI': '1.612',\n",
        "  'EF': '0.021907',\n",
        "  'issn': '0022-1031',\n",
        "  'journal': 'J EXP SOC PSYCHOL',\n",
        "  'nlmuniqueid': '0045332',\n",
        "  'rank': '875'},\n",
        " {'AI': '2.8366',\n",
        "  'EF': '0.021902',\n",
        "  'issn': '0167-7799',\n",
        "  'journal': 'TRENDS BIOTECHNOL',\n",
        "  'nlmuniqueid': '8310903',\n",
        "  'rank': '876'},\n",
        " {'AI': '1.2895',\n",
        "  'EF': '0.021899',\n",
        "  'issn': '1083-8791',\n",
        "  'journal': 'BIOL BLOOD MARROW TR',\n",
        "  'nlmuniqueid': '9600628',\n",
        "  'rank': '877'},\n",
        " {'AI': '0.672',\n",
        "  'EF': '0.021889',\n",
        "  'issn': '0196-8904',\n",
        "  'journal': 'ENERG CONVERS MANAGE',\n",
        "  'nlmuniqueid': '',\n",
        "  'rank': '878'},\n",
        " {'AI': '1.3921',\n",
        "  'EF': '0.021855',\n",
        "  'issn': '0167-7055',\n",
        "  'journal': 'COMPUT GRAPH FORUM',\n",
        "  'nlmuniqueid': '',\n",
        "  'rank': '879'},\n",
        " {'AI': '1.8822',\n",
        "  'EF': '0.021851',\n",
        "  'issn': '1359-6446',\n",
        "  'journal': 'DRUG DISCOV TODAY',\n",
        "  'nlmuniqueid': '9604391',\n",
        "  'rank': '880'},\n",
        " {'AI': '1.502',\n",
        "  'EF': '0.021817',\n",
        "  'issn': '1069-9384',\n",
        "  'journal': 'PSYCHON B REV',\n",
        "  'nlmuniqueid': '9502924',\n",
        "  'rank': '881'},\n",
        " {'AI': '2.715',\n",
        "  'EF': '0.02176',\n",
        "  'issn': '0013-0133',\n",
        "  'journal': 'ECON J',\n",
        "  'nlmuniqueid': '101518442',\n",
        "  'rank': '882'},\n",
        " {'AI': '0.3826',\n",
        "  'EF': '0.021746',\n",
        "  'issn': '0366-7022',\n",
        "  'journal': 'CHEM LETT',\n",
        "  'nlmuniqueid': '',\n",
        "  'rank': '883'},\n",
        " {'AI': '0.9516',\n",
        "  'EF': '0.021746',\n",
        "  'issn': '0025-729X',\n",
        "  'journal': 'MED J AUSTRALIA',\n",
        "  'nlmuniqueid': '0400714',\n",
        "  'rank': '884'},\n",
        " {'AI': '0.8155',\n",
        "  'EF': '0.021731',\n",
        "  'issn': '0720-048X',\n",
        "  'journal': 'EUR J RADIOL',\n",
        "  'nlmuniqueid': '8106411',\n",
        "  'rank': '885'},\n",
        " {'AI': '0.7506',\n",
        "  'EF': '0.021724',\n",
        "  'issn': '1466-8033',\n",
        "  'journal': 'CRYSTENGCOMM',\n",
        "  'nlmuniqueid': '',\n",
        "  'rank': '886'},\n",
        " {'AI': '1.5854',\n",
        "  'EF': '0.02172',\n",
        "  'issn': '0306-4530',\n",
        "  'journal': 'PSYCHONEUROENDOCRINO',\n",
        "  'nlmuniqueid': '7612148',\n",
        "  'rank': '887'},\n",
        " {'AI': '0.9766',\n",
        "  'EF': '0.021708',\n",
        "  'issn': '0377-0273',\n",
        "  'journal': 'J VOLCANOL GEOTH RES',\n",
        "  'nlmuniqueid': '',\n",
        "  'rank': '888'},\n",
        " {'AI': '1.249',\n",
        "  'EF': '0.021693',\n",
        "  'issn': '0022-0345',\n",
        "  'journal': 'J DENT RES',\n",
        "  'nlmuniqueid': '0354343',\n",
        "  'rank': '889'},\n",
        " {'AI': '6.8366',\n",
        "  'EF': '0.021692',\n",
        "  'issn': '0893-8512',\n",
        "  'journal': 'CLIN MICROBIOL REV',\n",
        "  'nlmuniqueid': '8807282',\n",
        "  'rank': '890'},\n",
        " {'AI': '1.4538',\n",
        "  'EF': '0.021623',\n",
        "  'issn': '0035-9009',\n",
        "  'journal': 'Q J ROY METEOR SOC',\n",
        "  'nlmuniqueid': '',\n",
        "  'rank': '891'},\n",
        " {'AI': '0.5756',\n",
        "  'EF': '0.021598',\n",
        "  'issn': '0024-3795',\n",
        "  'journal': 'LINEAR ALGEBRA APPL',\n",
        "  'nlmuniqueid': '',\n",
        "  'rank': '892'},\n",
        " {'AI': '0.5789',\n",
        "  'EF': '0.021584',\n",
        "  'issn': '0304-3975',\n",
        "  'journal': 'THEOR COMPUT SCI',\n",
        "  'nlmuniqueid': '',\n",
        "  'rank': '893'},\n",
        " {'AI': '0.5847',\n",
        "  'EF': '0.021511',\n",
        "  'issn': '0884-2914',\n",
        "  'journal': 'J MATER RES',\n",
        "  'nlmuniqueid': '',\n",
        "  'rank': '894'},\n",
        " {'AI': '1.3196',\n",
        "  'EF': '0.021491',\n",
        "  'issn': '0038-0938',\n",
        "  'journal': 'SOL PHYS',\n",
        "  'nlmuniqueid': '',\n",
        "  'rank': '895'},\n",
        " {'AI': '1.277',\n",
        "  'EF': '0.021453',\n",
        "  'issn': '1944-8244',\n",
        "  'journal': 'ACS APPL MATER INTER',\n",
        "  'nlmuniqueid': '101504991',\n",
        "  'rank': '896'},\n",
        " {'AI': '1.0267',\n",
        "  'EF': '0.021428',\n",
        "  'issn': '1527-6465',\n",
        "  'journal': 'LIVER TRANSPLANT',\n",
        "  'nlmuniqueid': '100909185',\n",
        "  'rank': '897'},\n",
        " {'AI': '1.0459',\n",
        "  'EF': '0.021407',\n",
        "  'issn': '0924-8579',\n",
        "  'journal': 'INT J ANTIMICROB AG',\n",
        "  'nlmuniqueid': '9111860',\n",
        "  'rank': '898'},\n",
        " {'AI': '1.3192',\n",
        "  'EF': '0.021387',\n",
        "  'issn': '0031-6768',\n",
        "  'journal': 'PFLUG ARCH EUR J PHY',\n",
        "  'nlmuniqueid': '0154720',\n",
        "  'rank': '899'},\n",
        " {'AI': '2.1486',\n",
        "  'EF': '0.021318',\n",
        "  'issn': '0047-2727',\n",
        "  'journal': 'J PUBLIC ECON',\n",
        "  'nlmuniqueid': '101084660',\n",
        "  'rank': '900'},\n",
        " {'AI': '0.815',\n",
        "  'EF': '0.021269',\n",
        "  'issn': '0960-1481',\n",
        "  'journal': 'RENEW ENERG',\n",
        "  'nlmuniqueid': '',\n",
        "  'rank': '901'},\n",
        " {'AI': '1.5415',\n",
        "  'EF': '0.02126',\n",
        "  'issn': '1044-7431',\n",
        "  'journal': 'MOL CELL NEUROSCI',\n",
        "  'nlmuniqueid': '9100095',\n",
        "  'rank': '902'},\n",
        " {'AI': '1.0792',\n",
        "  'EF': '0.021257',\n",
        "  'issn': '1471-2180',\n",
        "  'journal': 'BMC MICROBIOL',\n",
        "  'nlmuniqueid': '100966981',\n",
        "  'rank': '903'},\n",
        " {'AI': '1.4581',\n",
        "  'EF': '0.021233',\n",
        "  'issn': '1064-8275',\n",
        "  'journal': 'SIAM J SCI COMPUT',\n",
        "  'nlmuniqueid': '',\n",
        "  'rank': '904'},\n",
        " {'AI': '0.74',\n",
        "  'EF': '0.021186',\n",
        "  'issn': '0927-7765',\n",
        "  'journal': 'COLLOID SURFACE B',\n",
        "  'nlmuniqueid': '9315133',\n",
        "  'rank': '905'},\n",
        " {'AI': '1.3702',\n",
        "  'EF': '0.021185',\n",
        "  'issn': '0005-7967',\n",
        "  'journal': 'BEHAV RES THER',\n",
        "  'nlmuniqueid': '0372477',\n",
        "  'rank': '906'},\n",
        " {'AI': '1.0428',\n",
        "  'EF': '0.021172',\n",
        "  'issn': '0893-228X',\n",
        "  'journal': 'CHEM RES TOXICOL',\n",
        "  'nlmuniqueid': '8807448',\n",
        "  'rank': '907'},\n",
        " {'AI': '1.2008',\n",
        "  'EF': '0.021163',\n",
        "  'issn': '0019-2805',\n",
        "  'journal': 'IMMUNOLOGY',\n",
        "  'nlmuniqueid': '0374672',\n",
        "  'rank': '908'},\n",
        " {'AI': '0.684',\n",
        "  'EF': '0.021163',\n",
        "  'issn': '1346-9843',\n",
        "  'journal': 'CIRC J',\n",
        "  'nlmuniqueid': '101137683',\n",
        "  'rank': '909'},\n",
        " {'AI': '1.0073',\n",
        "  'EF': '0.021153',\n",
        "  'issn': '0736-0266',\n",
        "  'journal': 'J ORTHOP RES',\n",
        "  'nlmuniqueid': '8404726',\n",
        "  'rank': '910'},\n",
        " {'AI': '0.7887',\n",
        "  'EF': '0.021147',\n",
        "  'issn': '0141-0296',\n",
        "  'journal': 'ENG STRUCT',\n",
        "  'nlmuniqueid': '',\n",
        "  'rank': '911'},\n",
        " {'AI': '17.1569',\n",
        "  'EF': '0.021082',\n",
        "  'issn': '0066-4146',\n",
        "  'journal': 'ANNU REV ASTRON ASTR',\n",
        "  'nlmuniqueid': '101137067',\n",
        "  'rank': '912'},\n",
        " {'AI': '1.0892',\n",
        "  'EF': '0.021054',\n",
        "  'issn': '0742-3071',\n",
        "  'journal': 'DIABETIC MED',\n",
        "  'nlmuniqueid': '8500858',\n",
        "  'rank': '913'},\n",
        " {'AI': '0.861',\n",
        "  'EF': '0.02105',\n",
        "  'issn': '0300-483X',\n",
        "  'journal': 'TOXICOLOGY',\n",
        "  'nlmuniqueid': '0361055',\n",
        "  'rank': '914'},\n",
        " {'AI': '0.9411',\n",
        "  'EF': '0.02104',\n",
        "  'issn': '1538-4047',\n",
        "  'journal': 'CANCER BIOL THER',\n",
        "  'nlmuniqueid': '101137842',\n",
        "  'rank': '915'},\n",
        " {'AI': '0.8982',\n",
        "  'EF': '0.021037',\n",
        "  'issn': '1475-2875',\n",
        "  'journal': 'MALARIA J',\n",
        "  'nlmuniqueid': '101139802',\n",
        "  'rank': '916'},\n",
        " {'AI': '1.0401',\n",
        "  'EF': '0.021022',\n",
        "  'issn': '0046-8177',\n",
        "  'journal': 'HUM PATHOL',\n",
        "  'nlmuniqueid': '9421547',\n",
        "  'rank': '917'},\n",
        " {'AI': '1.0714',\n",
        "  'EF': '0.021006',\n",
        "  'issn': '1471-2334',\n",
        "  'journal': 'BMC INFECT DIS',\n",
        "  'nlmuniqueid': '100968551',\n",
        "  'rank': '918'},\n",
        " {'AI': '5.5578',\n",
        "  'EF': '0.020998',\n",
        "  'issn': '0363-7425',\n",
        "  'journal': 'ACAD MANAGE REV',\n",
        "  'nlmuniqueid': '9877758',\n",
        "  'rank': '919'},\n",
        " {'AI': '0.9712',\n",
        "  'EF': '0.020983',\n",
        "  'issn': '0032-0935',\n",
        "  'journal': 'PLANTA',\n",
        "  'nlmuniqueid': '1250576',\n",
        "  'rank': '920'},\n",
        " {'AI': '1.6177',\n",
        "  'EF': '0.020976',\n",
        "  'issn': '0196-0644',\n",
        "  'journal': 'ANN EMERG MED',\n",
        "  'nlmuniqueid': '8002646',\n",
        "  'rank': '921'},\n",
        " {'AI': '0.9184',\n",
        "  'EF': '0.02097',\n",
        "  'issn': '0031-3998',\n",
        "  'journal': 'PEDIATR RES',\n",
        "  'nlmuniqueid': '0100714',\n",
        "  'rank': '922'},\n",
        " {'AI': '0.9715',\n",
        "  'EF': '0.020935',\n",
        "  'issn': '1351-5101',\n",
        "  'journal': 'EUR J NEUROL',\n",
        "  'nlmuniqueid': '9506311',\n",
        "  'rank': '923'},\n",
        " {'AI': '0.5231',\n",
        "  'EF': '0.020924',\n",
        "  'issn': '1021-335X',\n",
        "  'journal': 'ONCOL REP',\n",
        "  'nlmuniqueid': '9422756',\n",
        "  'rank': '924'},\n",
        " {'AI': '0.8797',\n",
        "  'EF': '0.02091',\n",
        "  'issn': '0016-7061',\n",
        "  'journal': 'GEODERMA',\n",
        "  'nlmuniqueid': '',\n",
        "  'rank': '925'},\n",
        " {'AI': '1.2633',\n",
        "  'EF': '0.020898',\n",
        "  'issn': '1566-1199',\n",
        "  'journal': 'ORG ELECTRON',\n",
        "  'nlmuniqueid': '',\n",
        "  'rank': '926'},\n",
        " {'AI': '0.6939',\n",
        "  'EF': '0.020885',\n",
        "  'issn': '0959-4965',\n",
        "  'journal': 'NEUROREPORT',\n",
        "  'nlmuniqueid': '9100935',\n",
        "  'rank': '927'},\n",
        " {'AI': '2.8373',\n",
        "  'EF': '0.020867',\n",
        "  'issn': '0966-842X',\n",
        "  'journal': 'TRENDS MICROBIOL',\n",
        "  'nlmuniqueid': '9310916',\n",
        "  'rank': '928'},\n",
        " {'AI': '1.2475',\n",
        "  'EF': '0.020866',\n",
        "  'issn': '1861-4728',\n",
        "  'journal': 'CHEM-ASIAN J',\n",
        "  'nlmuniqueid': '',\n",
        "  'rank': '929'},\n",
        " {'AI': '0.726',\n",
        "  'EF': '0.02085',\n",
        "  'issn': '0018-9294',\n",
        "  'journal': 'IEEE T BIO-MED ENG',\n",
        "  'nlmuniqueid': '0012737',\n",
        "  'rank': '930'},\n",
        " {'AI': '0.6662',\n",
        "  'EF': '0.020844',\n",
        "  'issn': '0886-3350',\n",
        "  'journal': 'J CATARACT REFR SURG',\n",
        "  'nlmuniqueid': '8604171',\n",
        "  'rank': '931'},\n",
        " {'AI': '0.6924',\n",
        "  'EF': '0.020839',\n",
        "  'issn': '1010-6030',\n",
        "  'journal': 'J PHOTOCH PHOTOBIO A',\n",
        "  'nlmuniqueid': '',\n",
        "  'rank': '932'},\n",
        " {'AI': '1.1049',\n",
        "  'EF': '0.020812',\n",
        "  'issn': '1387-2877',\n",
        "  'journal': 'J ALZHEIMERS DIS',\n",
        "  'nlmuniqueid': '9814863',\n",
        "  'rank': '933'},\n",
        " {'AI': '0.759',\n",
        "  'EF': '0.020754',\n",
        "  'issn': '0003-9993',\n",
        "  'journal': 'ARCH PHYS MED REHAB',\n",
        "  'nlmuniqueid': '2985158R',\n",
        "  'rank': '934'},\n",
        " {'AI': '5.382',\n",
        "  'EF': '0.020728',\n",
        "  'issn': '1369-7412',\n",
        "  'journal': 'J R STAT SOC B',\n",
        "  'nlmuniqueid': '',\n",
        "  'rank': '935'},\n",
        " {'AI': '0.6837',\n",
        "  'EF': '0.020652',\n",
        "  'issn': '0803-5253',\n",
        "  'journal': 'ACTA PAEDIATR',\n",
        "  'nlmuniqueid': '9205968',\n",
        "  'rank': '936'},\n",
        " {'AI': '1.1319',\n",
        "  'EF': '0.020635',\n",
        "  'issn': '1040-2446',\n",
        "  'journal': 'ACAD MED',\n",
        "  'nlmuniqueid': '8904605',\n",
        "  'rank': '937'},\n",
        " {'AI': '2.2951',\n",
        "  'EF': '0.020625',\n",
        "  'issn': '1471-4892',\n",
        "  'journal': 'CURR OPIN PHARMACOL',\n",
        "  'nlmuniqueid': '100966133',\n",
        "  'rank': '938'},\n",
        " {'AI': '1.1776',\n",
        "  'EF': '0.020625',\n",
        "  'issn': '0046-5070',\n",
        "  'journal': 'FRESHWATER BIOL',\n",
        "  'nlmuniqueid': '',\n",
        "  'rank': '939'},\n",
        " {'AI': '1.6189',\n",
        "  'EF': '0.020606',\n",
        "  'issn': '0036-1429',\n",
        "  'journal': 'SIAM J NUMER ANAL',\n",
        "  'nlmuniqueid': '',\n",
        "  'rank': '940'},\n",
        " {'AI': '1.2987',\n",
        "  'EF': '0.020579',\n",
        "  'issn': '1045-2249',\n",
        "  'journal': 'BEHAV ECOL',\n",
        "  'nlmuniqueid': '',\n",
        "  'rank': '941'},\n",
        " {'AI': '1.0516',\n",
        "  'EF': '0.020578',\n",
        "  'issn': '1386-6532',\n",
        "  'journal': 'J CLIN VIROL',\n",
        "  'nlmuniqueid': '9815671',\n",
        "  'rank': '942'},\n",
        " {'AI': '2.0312',\n",
        "  'EF': '0.020564',\n",
        "  'issn': '0954-6820',\n",
        "  'journal': 'J INTERN MED',\n",
        "  'nlmuniqueid': '8904841',\n",
        "  'rank': '943'},\n",
        " {'AI': '0.7945',\n",
        "  'EF': '0.020561',\n",
        "  'issn': '0025-3162',\n",
        "  'journal': 'MAR BIOL',\n",
        "  'nlmuniqueid': '',\n",
        "  'rank': '944'},\n",
        " {'AI': '3.684',\n",
        "  'EF': '0.02054',\n",
        "  'issn': '0092-5853',\n",
        "  'journal': 'AM J POLIT SCI',\n",
        "  'nlmuniqueid': '100966955',\n",
        "  'rank': '945'},\n",
        " {'AI': '1.1597',\n",
        "  'EF': '0.020504',\n",
        "  'issn': '0967-0645',\n",
        "  'journal': 'DEEP-SEA RES PT II',\n",
        "  'nlmuniqueid': '',\n",
        "  'rank': '946'},\n",
        " {'AI': '1.3159',\n",
        "  'EF': '0.02049',\n",
        "  'issn': '1521-6616',\n",
        "  'journal': 'CLIN IMMUNOL',\n",
        "  'nlmuniqueid': '100883537',\n",
        "  'rank': '947'},\n",
        " {'AI': '1.6524',\n",
        "  'EF': '0.020456',\n",
        "  'issn': '0006-341X',\n",
        "  'journal': 'BIOMETRICS',\n",
        "  'nlmuniqueid': '0370625',\n",
        "  'rank': '948'},\n",
        " {'AI': '0.671',\n",
        "  'EF': '0.020453',\n",
        "  'issn': '1359-4311',\n",
        "  'journal': 'APPL THERM ENG',\n",
        "  'nlmuniqueid': '',\n",
        "  'rank': '949'},\n",
        " {'AI': '1.1701',\n",
        "  'EF': '0.020451',\n",
        "  'issn': '0010-2180',\n",
        "  'journal': 'COMBUST FLAME',\n",
        "  'nlmuniqueid': '',\n",
        "  'rank': '950'},\n",
        " {'AI': '1.0192',\n",
        "  'EF': '0.020393',\n",
        "  'issn': '1570-9639',\n",
        "  'journal': 'BBA-PROTEINS PROTEOM',\n",
        "  'nlmuniqueid': '',\n",
        "  'rank': '951'},\n",
        " {'AI': '0.9664',\n",
        "  'EF': '0.020347',\n",
        "  'issn': '0305-0548',\n",
        "  'journal': 'COMPUT OPER RES',\n",
        "  'nlmuniqueid': '',\n",
        "  'rank': '952'},\n",
        " {'AI': '1.2913',\n",
        "  'EF': '0.020343',\n",
        "  'issn': '0969-7128',\n",
        "  'journal': 'GENE THER',\n",
        "  'nlmuniqueid': '9421525',\n",
        "  'rank': '953'},\n",
        " {'AI': '0.7696',\n",
        "  'EF': '0.020338',\n",
        "  'issn': '1522-1946',\n",
        "  'journal': 'CATHETER CARDIO INTE',\n",
        "  'nlmuniqueid': '100884139',\n",
        "  'rank': '954'},\n",
        " {'AI': '0.4289',\n",
        "  'EF': '0.0203',\n",
        "  'issn': '0022-3468',\n",
        "  'journal': 'J PEDIATR SURG',\n",
        "  'nlmuniqueid': '0052631',\n",
        "  'rank': '955'},\n",
        " {'AI': '1.6117',\n",
        "  'EF': '0.020248',\n",
        "  'issn': '0340-6717',\n",
        "  'journal': 'HUM GENET',\n",
        "  'nlmuniqueid': '7613873',\n",
        "  'rank': '956'},\n",
        " {'AI': '0.7755',\n",
        "  'EF': '0.020226',\n",
        "  'issn': '0022-0981',\n",
        "  'journal': 'J EXP MAR BIOL ECOL',\n",
        "  'nlmuniqueid': '',\n",
        "  'rank': '957'},\n",
        " {'AI': '0.5343',\n",
        "  'EF': '0.020225',\n",
        "  'issn': '0921-5107',\n",
        "  'journal': 'MATER SCI ENG B-ADV',\n",
        "  'nlmuniqueid': '',\n",
        "  'rank': '958'},\n",
        " {'AI': '0.5353',\n",
        "  'EF': '0.020204',\n",
        "  'issn': '0304-4017',\n",
        "  'journal': 'VET PARASITOL',\n",
        "  'nlmuniqueid': '7602745',\n",
        "  'rank': '959'},\n",
        " {'AI': '1.7549',\n",
        "  'EF': '0.020147',\n",
        "  'issn': '0022-5096',\n",
        "  'journal': 'J MECH PHYS SOLIDS',\n",
        "  'nlmuniqueid': '',\n",
        "  'rank': '960'},\n",
        " {'AI': '0.9095',\n",
        "  'EF': '0.020116',\n",
        "  'issn': '0012-3706',\n",
        "  'journal': 'DIS COLON RECTUM',\n",
        "  'nlmuniqueid': '0372764',\n",
        "  'rank': '961'},\n",
        " {'AI': '0.6739',\n",
        "  'EF': '0.020109',\n",
        "  'issn': '1572-6657',\n",
        "  'journal': 'J ELECTROANAL CHEM',\n",
        "  'nlmuniqueid': '',\n",
        "  'rank': '962'},\n",
        " {'AI': '1.4004',\n",
        "  'EF': '0.020085',\n",
        "  'issn': '1388-9842',\n",
        "  'journal': 'EUR J HEART FAIL',\n",
        "  'nlmuniqueid': '100887595',\n",
        "  'rank': '963'},\n",
        " {'AI': '1.5794',\n",
        "  'EF': '0.020045',\n",
        "  'issn': '1476-4598',\n",
        "  'journal': 'MOL CANCER',\n",
        "  'nlmuniqueid': '101147698',\n",
        "  'rank': '964'},\n",
        " {'AI': '0.5034',\n",
        "  'EF': '0.020045',\n",
        "  'issn': '0022-2313',\n",
        "  'journal': 'J LUMIN',\n",
        "  'nlmuniqueid': '',\n",
        "  'rank': '965'},\n",
        " {'AI': '1.3793',\n",
        "  'EF': '0.019933',\n",
        "  'issn': '0899-8418',\n",
        "  'journal': 'INT J CLIMATOL',\n",
        "  'nlmuniqueid': '',\n",
        "  'rank': '966'},\n",
        " {'AI': '0.7895',\n",
        "  'EF': '0.019894',\n",
        "  'issn': '0992-7689',\n",
        "  'journal': 'ANN GEOPHYS-GERMANY',\n",
        "  'nlmuniqueid': '',\n",
        "  'rank': '967'},\n",
        " {'AI': '1.6676',\n",
        "  'EF': '0.019788',\n",
        "  'issn': '0033-3174',\n",
        "  'journal': 'PSYCHOSOM MED',\n",
        "  'nlmuniqueid': '0376505',\n",
        "  'rank': '968'},\n",
        " {'AI': '0.6827',\n",
        "  'EF': '0.01977',\n",
        "  'issn': '0141-3910',\n",
        "  'journal': 'POLYM DEGRAD STABIL',\n",
        "  'nlmuniqueid': '',\n",
        "  'rank': '969'},\n",
        " {'AI': '0.6037',\n",
        "  'EF': '0.019732',\n",
        "  'issn': '1084-7529',\n",
        "  'journal': 'J OPT SOC AM A',\n",
        "  'nlmuniqueid': '9800943',\n",
        "  'rank': '970'},\n",
        " {'AI': '0.7408',\n",
        "  'EF': '0.019726',\n",
        "  'issn': '0964-1726',\n",
        "  'journal': 'SMART MATER STRUCT',\n",
        "  'nlmuniqueid': '',\n",
        "  'rank': '971'},\n",
        " {'AI': '1.1378',\n",
        "  'EF': '0.019719',\n",
        "  'issn': '1364-5021',\n",
        "  'journal': 'P ROY SOC A-MATH PHY',\n",
        "  'nlmuniqueid': '',\n",
        "  'rank': '972'},\n",
        " {'AI': '0.6492',\n",
        "  'EF': '0.019716',\n",
        "  'issn': '0196-9781',\n",
        "  'journal': 'PEPTIDES',\n",
        "  'nlmuniqueid': '8008690',\n",
        "  'rank': '973'},\n",
        " {'AI': '1.0073',\n",
        "  'EF': '0.019712',\n",
        "  'issn': '0003-9888',\n",
        "  'journal': 'ARCH DIS CHILD',\n",
        "  'nlmuniqueid': '0372434',\n",
        "  'rank': '974'},\n",
        " {'AI': '4.0849',\n",
        "  'EF': '0.019703',\n",
        "  'issn': '1540-9295',\n",
        "  'journal': 'FRONT ECOL ENVIRON',\n",
        "  'nlmuniqueid': '',\n",
        "  'rank': '975'},\n",
        " {'AI': '1.1263',\n",
        "  'EF': '0.019686',\n",
        "  'issn': '0002-9122',\n",
        "  'journal': 'AM J BOT',\n",
        "  'nlmuniqueid': '0370467',\n",
        "  'rank': '976'},\n",
        " {'AI': '1.4674',\n",
        "  'EF': '0.019672',\n",
        "  'issn': '0894-0282',\n",
        "  'journal': 'MOL PLANT MICROBE IN',\n",
        "  'nlmuniqueid': '9107902',\n",
        "  'rank': '977'},\n",
        " {'AI': '0.782',\n",
        "  'EF': '0.019663',\n",
        "  'issn': '0146-6615',\n",
        "  'journal': 'J MED VIROL',\n",
        "  'nlmuniqueid': '7705876',\n",
        "  'rank': '978'},\n",
        " {'AI': '1.1938',\n",
        "  'EF': '0.019661',\n",
        "  'issn': '0304-4165',\n",
        "  'journal': 'BBA-GEN SUBJECTS',\n",
        "  'nlmuniqueid': '',\n",
        "  'rank': '979'},\n",
        " {'AI': '2.5392',\n",
        "  'EF': '0.019653',\n",
        "  'issn': '0883-7694',\n",
        "  'journal': 'MRS BULL',\n",
        "  'nlmuniqueid': '100971398',\n",
        "  'rank': '980'},\n",
        " {'AI': '0.9318',\n",
        "  'EF': '0.019652',\n",
        "  'issn': '0169-5002',\n",
        "  'journal': 'LUNG CANCER',\n",
        "  'nlmuniqueid': '8800805',\n",
        "  'rank': '981'},\n",
        " {'AI': '1.6927',\n",
        "  'EF': '0.019651',\n",
        "  'issn': '1522-8002',\n",
        "  'journal': 'NEOPLASIA',\n",
        "  'nlmuniqueid': '',\n",
        "  'rank': '982'},\n",
        " {'AI': '0.426',\n",
        "  'EF': '0.019634',\n",
        "  'issn': '0273-1177',\n",
        "  'journal': 'ADV SPACE RES',\n",
        "  'nlmuniqueid': '9878935',\n",
        "  'rank': '983'},\n",
        " {'AI': '1.3181',\n",
        "  'EF': '0.01963',\n",
        "  'issn': '0013-726X',\n",
        "  'journal': 'ENDOSCOPY',\n",
        "  'nlmuniqueid': '0215166',\n",
        "  'rank': '984'},\n",
        " {'AI': '1.2735',\n",
        "  'EF': '0.019619',\n",
        "  'issn': '0897-7151',\n",
        "  'journal': 'J NEUROTRAUM',\n",
        "  'nlmuniqueid': '8811626',\n",
        "  'rank': '985'},\n",
        " {'AI': '0.673',\n",
        "  'EF': '0.019601',\n",
        "  'issn': '1478-6435',\n",
        "  'journal': 'PHILOS MAG',\n",
        "  'nlmuniqueid': '',\n",
        "  'rank': '986'},\n",
        " {'AI': '0.6976',\n",
        "  'EF': '0.019575',\n",
        "  'issn': '0300-7995',\n",
        "  'journal': 'CURR MED RES OPIN',\n",
        "  'nlmuniqueid': '0351014',\n",
        "  'rank': '987'},\n",
        " {'AI': '0.7985',\n",
        "  'EF': '0.019552',\n",
        "  'issn': '0940-6719',\n",
        "  'journal': 'EUR SPINE J',\n",
        "  'nlmuniqueid': '9301980',\n",
        "  'rank': '988'},\n",
        " {'AI': '1.1439',\n",
        "  'EF': '0.019511',\n",
        "  'issn': '0002-8223',\n",
        "  'journal': 'J AM DIET ASSOC',\n",
        "  'nlmuniqueid': '7503061',\n",
        "  'rank': '989'},\n",
        " {'AI': '1.2478',\n",
        "  'EF': '0.019498',\n",
        "  'issn': '0091-7435',\n",
        "  'journal': 'PREV MED',\n",
        "  'nlmuniqueid': '0322116',\n",
        "  'rank': '990'},\n",
        " {'AI': '1.5549',\n",
        "  'EF': '0.019449',\n",
        "  'issn': '1073-7928',\n",
        "  'journal': 'INT MATH RES NOTICES',\n",
        "  'nlmuniqueid': '',\n",
        "  'rank': '991'},\n",
        " {'AI': '0.9802',\n",
        "  'EF': '0.019415',\n",
        "  'issn': '0003-004X',\n",
        "  'journal': 'AM MINERAL',\n",
        "  'nlmuniqueid': '',\n",
        "  'rank': '992'},\n",
        " {'AI': '7.2986',\n",
        "  'EF': '0.019409',\n",
        "  'issn': '1092-2172',\n",
        "  'journal': 'MICROBIOL MOL BIOL R',\n",
        "  'nlmuniqueid': '9706653',\n",
        "  'rank': '993'},\n",
        " {'AI': '1.1134',\n",
        "  'EF': '0.019399',\n",
        "  'issn': '0300-9084',\n",
        "  'journal': 'BIOCHIMIE',\n",
        "  'nlmuniqueid': '1264604',\n",
        "  'rank': '994'},\n",
        " {'AI': '0.764',\n",
        "  'EF': '0.019393',\n",
        "  'issn': '0954-6111',\n",
        "  'journal': 'RESP MED',\n",
        "  'nlmuniqueid': '8908438',\n",
        "  'rank': '995'},\n",
        " {'AI': '3.4981',\n",
        "  'EF': '0.019375',\n",
        "  'issn': '0301-0082',\n",
        "  'journal': 'PROG NEUROBIOL',\n",
        "  'nlmuniqueid': '0370121',\n",
        "  'rank': '996'},\n",
        " {'AI': '1.1353',\n",
        "  'EF': '0.019365',\n",
        "  'issn': '0340-5443',\n",
        "  'journal': 'BEHAV ECOL SOCIOBIOL',\n",
        "  'nlmuniqueid': '7608456',\n",
        "  'rank': '997'},\n",
        " {'AI': '0.9787',\n",
        "  'EF': '0.01935',\n",
        "  'issn': '0167-2789',\n",
        "  'journal': 'PHYSICA D',\n",
        "  'nlmuniqueid': '9890573',\n",
        "  'rank': '998'},\n",
        " {'AI': '0.5192',\n",
        "  'EF': '0.019339',\n",
        "  'issn': '1424-8220',\n",
        "  'journal': 'SENSORS-BASEL',\n",
        "  'nlmuniqueid': '101204366',\n",
        "  'rank': '999'},\n",
        " {'AI': '1.7539',\n",
        "  'EF': '0.019332',\n",
        "  'issn': '0946-2716',\n",
        "  'journal': 'J MOL MED',\n",
        "  'nlmuniqueid': '9504370',\n",
        "  'rank': '1000'},\n",
        " ...]"
       ]
      }
     ],
     "prompt_number": 163
    },
    {
     "cell_type": "code",
     "collapsed": false,
     "input": [
      "from pandas import DataFrame\n",
      "eigenfactorsDF = DataFrame(eigenfactors)\n",
      "eigenfactorsDF"
     ],
     "language": "python",
     "metadata": {},
     "outputs": [
      {
       "html": [
        "<div style=\"max-height:1000px;max-width:1500px;overflow:auto;\">\n",
        "<table border=\"1\" class=\"dataframe\">\n",
        "  <thead>\n",
        "    <tr style=\"text-align: right;\">\n",
        "      <th></th>\n",
        "      <th>AI</th>\n",
        "      <th>EF</th>\n",
        "      <th>issn</th>\n",
        "      <th>journal</th>\n",
        "      <th>nlmuniqueid</th>\n",
        "      <th>rank</th>\n",
        "    </tr>\n",
        "  </thead>\n",
        "  <tbody>\n",
        "    <tr>\n",
        "      <th>0   </th>\n",
        "      <td>  20.373</td>\n",
        "      <td>  1.65524</td>\n",
        "      <td> 0028-0836</td>\n",
        "      <td>               NATURE</td>\n",
        "      <td>   0410462</td>\n",
        "      <td>    1</td>\n",
        "    </tr>\n",
        "    <tr>\n",
        "      <th>1   </th>\n",
        "      <td>  4.8961</td>\n",
        "      <td>  1.60168</td>\n",
        "      <td> 0027-8424</td>\n",
        "      <td>  P NATL ACAD SCI USA</td>\n",
        "      <td>   7505876</td>\n",
        "      <td>    2</td>\n",
        "    </tr>\n",
        "    <tr>\n",
        "      <th>2   </th>\n",
        "      <td> 17.5248</td>\n",
        "      <td>  1.41162</td>\n",
        "      <td> 0036-8075</td>\n",
        "      <td>              SCIENCE</td>\n",
        "      <td>   0404511</td>\n",
        "      <td>    3</td>\n",
        "    </tr>\n",
        "    <tr>\n",
        "      <th>3   </th>\n",
        "      <td>  3.5175</td>\n",
        "      <td>  1.14457</td>\n",
        "      <td> 0031-9007</td>\n",
        "      <td>        PHYS REV LETT</td>\n",
        "      <td>   0401141</td>\n",
        "      <td>    4</td>\n",
        "    </tr>\n",
        "    <tr>\n",
        "      <th>4   </th>\n",
        "      <td>  2.7989</td>\n",
        "      <td> 0.817303</td>\n",
        "      <td> 0002-7863</td>\n",
        "      <td>        J AM CHEM SOC</td>\n",
        "      <td>   7503056</td>\n",
        "      <td>    5</td>\n",
        "    </tr>\n",
        "    <tr>\n",
        "      <th>5   </th>\n",
        "      <td>  1.4281</td>\n",
        "      <td> 0.756039</td>\n",
        "      <td> 1098-0121</td>\n",
        "      <td>           PHYS REV B</td>\n",
        "      <td>          </td>\n",
        "      <td>    6</td>\n",
        "    </tr>\n",
        "    <tr>\n",
        "      <th>6   </th>\n",
        "      <td>  2.0307</td>\n",
        "      <td> 0.742127</td>\n",
        "      <td> 0021-9258</td>\n",
        "      <td>          J BIOL CHEM</td>\n",
        "      <td>  2985121R</td>\n",
        "      <td>    7</td>\n",
        "    </tr>\n",
        "    <tr>\n",
        "      <th>7   </th>\n",
        "      <td>  1.3875</td>\n",
        "      <td> 0.675752</td>\n",
        "      <td> 0003-6951</td>\n",
        "      <td>       APPL PHYS LETT</td>\n",
        "      <td>          </td>\n",
        "      <td>    8</td>\n",
        "    </tr>\n",
        "    <tr>\n",
        "      <th>8   </th>\n",
        "      <td>  21.304</td>\n",
        "      <td>  0.66383</td>\n",
        "      <td> 0028-4793</td>\n",
        "      <td>       NEW ENGL J MED</td>\n",
        "      <td>   0255562</td>\n",
        "      <td>    9</td>\n",
        "    </tr>\n",
        "    <tr>\n",
        "      <th>9   </th>\n",
        "      <td>  20.554</td>\n",
        "      <td> 0.660816</td>\n",
        "      <td> 0092-8674</td>\n",
        "      <td>                 CELL</td>\n",
        "      <td>   0413066</td>\n",
        "      <td>   10</td>\n",
        "    </tr>\n",
        "    <tr>\n",
        "      <th>10  </th>\n",
        "      <td>  3.3776</td>\n",
        "      <td> 0.514213</td>\n",
        "      <td> 1433-7851</td>\n",
        "      <td>  ANGEW CHEM INT EDIT</td>\n",
        "      <td>   0370543</td>\n",
        "      <td>   11</td>\n",
        "    </tr>\n",
        "    <tr>\n",
        "      <th>11  </th>\n",
        "      <td>  1.7984</td>\n",
        "      <td> 0.501622</td>\n",
        "      <td> 1932-6203</td>\n",
        "      <td>             PLOS ONE</td>\n",
        "      <td> 101285081</td>\n",
        "      <td>   12</td>\n",
        "    </tr>\n",
        "    <tr>\n",
        "      <th>12  </th>\n",
        "      <td>  3.2549</td>\n",
        "      <td> 0.449625</td>\n",
        "      <td> 0270-6474</td>\n",
        "      <td>           J NEUROSCI</td>\n",
        "      <td>   8102140</td>\n",
        "      <td>   13</td>\n",
        "    </tr>\n",
        "    <tr>\n",
        "      <th>13  </th>\n",
        "      <td>  1.8047</td>\n",
        "      <td> 0.429616</td>\n",
        "      <td> 0004-637X</td>\n",
        "      <td>          ASTROPHYS J</td>\n",
        "      <td>   9890633</td>\n",
        "      <td>   14</td>\n",
        "    </tr>\n",
        "    <tr>\n",
        "      <th>14  </th>\n",
        "      <td>   3.692</td>\n",
        "      <td> 0.427942</td>\n",
        "      <td> 0006-4971</td>\n",
        "      <td>                BLOOD</td>\n",
        "      <td>   7603509</td>\n",
        "      <td>   15</td>\n",
        "    </tr>\n",
        "    <tr>\n",
        "      <th>15  </th>\n",
        "      <td>    5.56</td>\n",
        "      <td> 0.394631</td>\n",
        "      <td> 0732-183X</td>\n",
        "      <td>         J CLIN ONCOL</td>\n",
        "      <td>   8309333</td>\n",
        "      <td>   16</td>\n",
        "    </tr>\n",
        "    <tr>\n",
        "      <th>16  </th>\n",
        "      <td>  2.2661</td>\n",
        "      <td> 0.369891</td>\n",
        "      <td> 0022-1767</td>\n",
        "      <td>            J IMMUNOL</td>\n",
        "      <td>  2985117R</td>\n",
        "      <td>   17</td>\n",
        "    </tr>\n",
        "    <tr>\n",
        "      <th>17  </th>\n",
        "      <td>  3.0995</td>\n",
        "      <td> 0.362734</td>\n",
        "      <td> 0008-5472</td>\n",
        "      <td>           CANCER RES</td>\n",
        "      <td>  2984705R</td>\n",
        "      <td>   18</td>\n",
        "    </tr>\n",
        "    <tr>\n",
        "      <th>18  </th>\n",
        "      <td> 13.6107</td>\n",
        "      <td> 0.360954</td>\n",
        "      <td> 0140-6736</td>\n",
        "      <td>               LANCET</td>\n",
        "      <td>  2985213R</td>\n",
        "      <td>   19</td>\n",
        "    </tr>\n",
        "    <tr>\n",
        "      <th>19  </th>\n",
        "      <td>  5.0701</td>\n",
        "      <td> 0.345906</td>\n",
        "      <td> 1530-6984</td>\n",
        "      <td>            NANO LETT</td>\n",
        "      <td> 101088070</td>\n",
        "      <td>   20</td>\n",
        "    </tr>\n",
        "    <tr>\n",
        "      <th>20  </th>\n",
        "      <td>  5.9733</td>\n",
        "      <td> 0.339278</td>\n",
        "      <td> 0009-7322</td>\n",
        "      <td>          CIRCULATION</td>\n",
        "      <td>   0147763</td>\n",
        "      <td>   21</td>\n",
        "    </tr>\n",
        "    <tr>\n",
        "      <th>21  </th>\n",
        "      <td>  1.4057</td>\n",
        "      <td> 0.332456</td>\n",
        "      <td> 0148-0227</td>\n",
        "      <td>        J GEOPHYS RES</td>\n",
        "      <td> 100971480</td>\n",
        "      <td>   22</td>\n",
        "    </tr>\n",
        "    <tr>\n",
        "      <th>22  </th>\n",
        "      <td> 17.5835</td>\n",
        "      <td> 0.329901</td>\n",
        "      <td> 1061-4036</td>\n",
        "      <td>            NAT GENET</td>\n",
        "      <td>   9216904</td>\n",
        "      <td>   23</td>\n",
        "    </tr>\n",
        "    <tr>\n",
        "      <th>23  </th>\n",
        "      <td>  3.0072</td>\n",
        "      <td> 0.304882</td>\n",
        "      <td> 0305-1048</td>\n",
        "      <td>    NUCLEIC ACIDS RES</td>\n",
        "      <td>   0411011</td>\n",
        "      <td>   24</td>\n",
        "    </tr>\n",
        "    <tr>\n",
        "      <th>24  </th>\n",
        "      <td>  0.8355</td>\n",
        "      <td> 0.301562</td>\n",
        "      <td> 0021-8979</td>\n",
        "      <td>          J APPL PHYS</td>\n",
        "      <td>  2985119R</td>\n",
        "      <td>   25</td>\n",
        "    </tr>\n",
        "    <tr>\n",
        "      <th>25  </th>\n",
        "      <td>  1.2451</td>\n",
        "      <td> 0.300804</td>\n",
        "      <td> 1550-7998</td>\n",
        "      <td>           PHYS REV D</td>\n",
        "      <td>          </td>\n",
        "      <td>   26</td>\n",
        "    </tr>\n",
        "    <tr>\n",
        "      <th>26  </th>\n",
        "      <td>  13.111</td>\n",
        "      <td> 0.285664</td>\n",
        "      <td> 0098-7484</td>\n",
        "      <td>  JAMA-J AM MED ASSOC</td>\n",
        "      <td>   7501160</td>\n",
        "      <td>   27</td>\n",
        "    </tr>\n",
        "    <tr>\n",
        "      <th>27  </th>\n",
        "      <td>  1.3421</td>\n",
        "      <td> 0.284716</td>\n",
        "      <td> 1932-7447</td>\n",
        "      <td>        J PHYS CHEM C</td>\n",
        "      <td>          </td>\n",
        "      <td>   28</td>\n",
        "    </tr>\n",
        "    <tr>\n",
        "      <th>28  </th>\n",
        "      <td>  4.0706</td>\n",
        "      <td> 0.262413</td>\n",
        "      <td> 0935-9648</td>\n",
        "      <td>            ADV MATER</td>\n",
        "      <td>   9885358</td>\n",
        "      <td>   29</td>\n",
        "    </tr>\n",
        "    <tr>\n",
        "      <th>29  </th>\n",
        "      <td>  1.4742</td>\n",
        "      <td> 0.254252</td>\n",
        "      <td> 0004-6361</td>\n",
        "      <td>     ASTRON ASTROPHYS</td>\n",
        "      <td> 100971304</td>\n",
        "      <td>   30</td>\n",
        "    </tr>\n",
        "    <tr>\n",
        "      <th>...</th>\n",
        "      <td>...</td>\n",
        "      <td>...</td>\n",
        "      <td>...</td>\n",
        "      <td>...</td>\n",
        "      <td>...</td>\n",
        "      <td>...</td>\n",
        "    </tr>\n",
        "    <tr>\n",
        "      <th>1220</th>\n",
        "      <td>  0.4879</td>\n",
        "      <td> 0.015875</td>\n",
        "      <td> 0925-2312</td>\n",
        "      <td>       NEUROCOMPUTING</td>\n",
        "      <td>   9884927</td>\n",
        "      <td> 1221</td>\n",
        "    </tr>\n",
        "    <tr>\n",
        "      <th>1221</th>\n",
        "      <td>  2.6986</td>\n",
        "      <td> 0.015837</td>\n",
        "      <td> 0734-9750</td>\n",
        "      <td>       BIOTECHNOL ADV</td>\n",
        "      <td>   8403708</td>\n",
        "      <td> 1222</td>\n",
        "    </tr>\n",
        "    <tr>\n",
        "      <th>1222</th>\n",
        "      <td>  0.6601</td>\n",
        "      <td> 0.015836</td>\n",
        "      <td> 0020-1383</td>\n",
        "      <td>               INJURY</td>\n",
        "      <td>   0226040</td>\n",
        "      <td> 1223</td>\n",
        "    </tr>\n",
        "    <tr>\n",
        "      <th>1223</th>\n",
        "      <td>  0.8928</td>\n",
        "      <td> 0.015801</td>\n",
        "      <td> 0883-2927</td>\n",
        "      <td>         APPL GEOCHEM</td>\n",
        "      <td> 101137083</td>\n",
        "      <td> 1224</td>\n",
        "    </tr>\n",
        "    <tr>\n",
        "      <th>1224</th>\n",
        "      <td>  3.9486</td>\n",
        "      <td> 0.015787</td>\n",
        "      <td> 1044-5323</td>\n",
        "      <td>        SEMIN IMMUNOL</td>\n",
        "      <td>   9009458</td>\n",
        "      <td> 1225</td>\n",
        "    </tr>\n",
        "    <tr>\n",
        "      <th>1225</th>\n",
        "      <td>    1.47</td>\n",
        "      <td> 0.015744</td>\n",
        "      <td> 0304-4149</td>\n",
        "      <td>      STOCH PROC APPL</td>\n",
        "      <td>          </td>\n",
        "      <td> 1226</td>\n",
        "    </tr>\n",
        "    <tr>\n",
        "      <th>1226</th>\n",
        "      <td>  0.8651</td>\n",
        "      <td> 0.015724</td>\n",
        "      <td> 0960-0760</td>\n",
        "      <td>    J STEROID BIOCHEM</td>\n",
        "      <td>   9015483</td>\n",
        "      <td> 1227</td>\n",
        "    </tr>\n",
        "    <tr>\n",
        "      <th>1227</th>\n",
        "      <td>  0.9203</td>\n",
        "      <td> 0.015697</td>\n",
        "      <td> 1054-1500</td>\n",
        "      <td>                CHAOS</td>\n",
        "      <td> 100971574</td>\n",
        "      <td> 1228</td>\n",
        "    </tr>\n",
        "    <tr>\n",
        "      <th>1228</th>\n",
        "      <td>  1.7995</td>\n",
        "      <td> 0.015677</td>\n",
        "      <td> 0075-4102</td>\n",
        "      <td>   J REINE ANGEW MATH</td>\n",
        "      <td>          </td>\n",
        "      <td> 1229</td>\n",
        "    </tr>\n",
        "    <tr>\n",
        "      <th>1229</th>\n",
        "      <td>  0.7712</td>\n",
        "      <td> 0.015671</td>\n",
        "      <td> 0148-639X</td>\n",
        "      <td>         MUSCLE NERVE</td>\n",
        "      <td>   7803146</td>\n",
        "      <td> 1230</td>\n",
        "    </tr>\n",
        "    <tr>\n",
        "      <th>1230</th>\n",
        "      <td>  2.3423</td>\n",
        "      <td> 0.015637</td>\n",
        "      <td> 1467-7881</td>\n",
        "      <td>             OBES REV</td>\n",
        "      <td> 100897395</td>\n",
        "      <td> 1231</td>\n",
        "    </tr>\n",
        "    <tr>\n",
        "      <th>1231</th>\n",
        "      <td>  0.4334</td>\n",
        "      <td> 0.015636</td>\n",
        "      <td> 0932-0113</td>\n",
        "      <td>        PARASITOL RES</td>\n",
        "      <td>   8703571</td>\n",
        "      <td> 1232</td>\n",
        "    </tr>\n",
        "    <tr>\n",
        "      <th>1232</th>\n",
        "      <td>  1.6383</td>\n",
        "      <td> 0.015624</td>\n",
        "      <td> 0899-8256</td>\n",
        "      <td>      GAME ECON BEHAV</td>\n",
        "      <td>          </td>\n",
        "      <td> 1233</td>\n",
        "    </tr>\n",
        "    <tr>\n",
        "      <th>1233</th>\n",
        "      <td>  1.1631</td>\n",
        "      <td> 0.015614</td>\n",
        "      <td> 0167-2681</td>\n",
        "      <td>   J ECON BEHAV ORGAN</td>\n",
        "      <td> 101086031</td>\n",
        "      <td> 1234</td>\n",
        "    </tr>\n",
        "    <tr>\n",
        "      <th>1234</th>\n",
        "      <td>  1.7922</td>\n",
        "      <td> 0.015613</td>\n",
        "      <td> 0278-6133</td>\n",
        "      <td>       HEALTH PSYCHOL</td>\n",
        "      <td>   8211523</td>\n",
        "      <td> 1235</td>\n",
        "    </tr>\n",
        "    <tr>\n",
        "      <th>1235</th>\n",
        "      <td>  0.7228</td>\n",
        "      <td> 0.015602</td>\n",
        "      <td> 0091-3057</td>\n",
        "      <td> PHARMACOL BIOCHEM BE</td>\n",
        "      <td>   0367050</td>\n",
        "      <td> 1236</td>\n",
        "    </tr>\n",
        "    <tr>\n",
        "      <th>1236</th>\n",
        "      <td>  1.4209</td>\n",
        "      <td> 0.015583</td>\n",
        "      <td> 0889-1591</td>\n",
        "      <td>    BRAIN BEHAV IMMUN</td>\n",
        "      <td>   8800478</td>\n",
        "      <td> 1237</td>\n",
        "    </tr>\n",
        "    <tr>\n",
        "      <th>1237</th>\n",
        "      <td>  0.7918</td>\n",
        "      <td> 0.015553</td>\n",
        "      <td> 0162-0134</td>\n",
        "      <td>      J INORG BIOCHEM</td>\n",
        "      <td>   7905788</td>\n",
        "      <td> 1238</td>\n",
        "    </tr>\n",
        "    <tr>\n",
        "      <th>1238</th>\n",
        "      <td>    1.26</td>\n",
        "      <td> 0.015551</td>\n",
        "      <td> 1471-2229</td>\n",
        "      <td>       BMC PLANT BIOL</td>\n",
        "      <td> 100967807</td>\n",
        "      <td> 1239</td>\n",
        "    </tr>\n",
        "    <tr>\n",
        "      <th>1239</th>\n",
        "      <td>  0.8589</td>\n",
        "      <td> 0.015532</td>\n",
        "      <td> 1069-6563</td>\n",
        "      <td>       ACAD EMERG MED</td>\n",
        "      <td>   9418450</td>\n",
        "      <td> 1240</td>\n",
        "    </tr>\n",
        "    <tr>\n",
        "      <th>1240</th>\n",
        "      <td>  0.8018</td>\n",
        "      <td> 0.015514</td>\n",
        "      <td> 0090-6964</td>\n",
        "      <td>       ANN BIOMED ENG</td>\n",
        "      <td>   0361512</td>\n",
        "      <td> 1241</td>\n",
        "    </tr>\n",
        "    <tr>\n",
        "      <th>1241</th>\n",
        "      <td>  0.9531</td>\n",
        "      <td> 0.015505</td>\n",
        "      <td> 0306-5251</td>\n",
        "      <td> BRIT J CLIN PHARMACO</td>\n",
        "      <td>   7503323</td>\n",
        "      <td> 1242</td>\n",
        "    </tr>\n",
        "    <tr>\n",
        "      <th>1242</th>\n",
        "      <td>  1.1153</td>\n",
        "      <td> 0.015505</td>\n",
        "      <td> 0266-5611</td>\n",
        "      <td>        INVERSE PROBL</td>\n",
        "      <td>          </td>\n",
        "      <td> 1243</td>\n",
        "    </tr>\n",
        "    <tr>\n",
        "      <th>1243</th>\n",
        "      <td>  0.6266</td>\n",
        "      <td> 0.015503</td>\n",
        "      <td> 0931-041X</td>\n",
        "      <td>      PEDIATR NEPHROL</td>\n",
        "      <td>   8708728</td>\n",
        "      <td> 1244</td>\n",
        "    </tr>\n",
        "    <tr>\n",
        "      <th>1244</th>\n",
        "      <td>  1.0341</td>\n",
        "      <td> 0.015495</td>\n",
        "      <td> 0027-5107</td>\n",
        "      <td> MUTAT RES-FUND MOL M</td>\n",
        "      <td>   0400763</td>\n",
        "      <td> 1245</td>\n",
        "    </tr>\n",
        "    <tr>\n",
        "      <th>1245</th>\n",
        "      <td>  2.8898</td>\n",
        "      <td> 0.015476</td>\n",
        "      <td> 1047-7039</td>\n",
        "      <td>            ORGAN SCI</td>\n",
        "      <td>          </td>\n",
        "      <td> 1246</td>\n",
        "    </tr>\n",
        "    <tr>\n",
        "      <th>1246</th>\n",
        "      <td>  1.3493</td>\n",
        "      <td> 0.015417</td>\n",
        "      <td> 1047-2797</td>\n",
        "      <td>        ANN EPIDEMIOL</td>\n",
        "      <td>   9100013</td>\n",
        "      <td> 1247</td>\n",
        "    </tr>\n",
        "    <tr>\n",
        "      <th>1247</th>\n",
        "      <td>  0.7597</td>\n",
        "      <td> 0.015409</td>\n",
        "      <td> 0022-4790</td>\n",
        "      <td>         J SURG ONCOL</td>\n",
        "      <td>   0222643</td>\n",
        "      <td> 1248</td>\n",
        "    </tr>\n",
        "    <tr>\n",
        "      <th>1248</th>\n",
        "      <td>  1.9063</td>\n",
        "      <td> 0.015383</td>\n",
        "      <td> 0079-6611</td>\n",
        "      <td>        PROG OCEANOGR</td>\n",
        "      <td>          </td>\n",
        "      <td> 1249</td>\n",
        "    </tr>\n",
        "    <tr>\n",
        "      <th>1249</th>\n",
        "      <td>  0.6067</td>\n",
        "      <td> 0.015376</td>\n",
        "      <td> 0928-4931</td>\n",
        "      <td>  MAT SCI ENG C-MATER</td>\n",
        "      <td> 101484109</td>\n",
        "      <td> 1250</td>\n",
        "    </tr>\n",
        "  </tbody>\n",
        "</table>\n",
        "<p>1250 rows \u00d7 6 columns</p>\n",
        "</div>"
       ],
       "metadata": {},
       "output_type": "pyout",
       "prompt_number": 164,
       "text": [
        "           AI        EF       issn               journal nlmuniqueid  rank\n",
        "0      20.373   1.65524  0028-0836                NATURE     0410462     1\n",
        "1      4.8961   1.60168  0027-8424   P NATL ACAD SCI USA     7505876     2\n",
        "2     17.5248   1.41162  0036-8075               SCIENCE     0404511     3\n",
        "3      3.5175   1.14457  0031-9007         PHYS REV LETT     0401141     4\n",
        "4      2.7989  0.817303  0002-7863         J AM CHEM SOC     7503056     5\n",
        "5      1.4281  0.756039  1098-0121            PHYS REV B                 6\n",
        "6      2.0307  0.742127  0021-9258           J BIOL CHEM    2985121R     7\n",
        "7      1.3875  0.675752  0003-6951        APPL PHYS LETT                 8\n",
        "8      21.304   0.66383  0028-4793        NEW ENGL J MED     0255562     9\n",
        "9      20.554  0.660816  0092-8674                  CELL     0413066    10\n",
        "10     3.3776  0.514213  1433-7851   ANGEW CHEM INT EDIT     0370543    11\n",
        "11     1.7984  0.501622  1932-6203              PLOS ONE   101285081    12\n",
        "12     3.2549  0.449625  0270-6474            J NEUROSCI     8102140    13\n",
        "13     1.8047  0.429616  0004-637X           ASTROPHYS J     9890633    14\n",
        "14      3.692  0.427942  0006-4971                 BLOOD     7603509    15\n",
        "15       5.56  0.394631  0732-183X          J CLIN ONCOL     8309333    16\n",
        "16     2.2661  0.369891  0022-1767             J IMMUNOL    2985117R    17\n",
        "17     3.0995  0.362734  0008-5472            CANCER RES    2984705R    18\n",
        "18    13.6107  0.360954  0140-6736                LANCET    2985213R    19\n",
        "19     5.0701  0.345906  1530-6984             NANO LETT   101088070    20\n",
        "20     5.9733  0.339278  0009-7322           CIRCULATION     0147763    21\n",
        "21     1.4057  0.332456  0148-0227         J GEOPHYS RES   100971480    22\n",
        "22    17.5835  0.329901  1061-4036             NAT GENET     9216904    23\n",
        "23     3.0072  0.304882  0305-1048     NUCLEIC ACIDS RES     0411011    24\n",
        "24     0.8355  0.301562  0021-8979           J APPL PHYS    2985119R    25\n",
        "25     1.2451  0.300804  1550-7998            PHYS REV D                26\n",
        "26     13.111  0.285664  0098-7484   JAMA-J AM MED ASSOC     7501160    27\n",
        "27     1.3421  0.284716  1932-7447         J PHYS CHEM C                28\n",
        "28     4.0706  0.262413  0935-9648             ADV MATER     9885358    29\n",
        "29     1.4742  0.254252  0004-6361      ASTRON ASTROPHYS   100971304    30\n",
        "...       ...       ...        ...                   ...         ...   ...\n",
        "1220   0.4879  0.015875  0925-2312        NEUROCOMPUTING     9884927  1221\n",
        "1221   2.6986  0.015837  0734-9750        BIOTECHNOL ADV     8403708  1222\n",
        "1222   0.6601  0.015836  0020-1383                INJURY     0226040  1223\n",
        "1223   0.8928  0.015801  0883-2927          APPL GEOCHEM   101137083  1224\n",
        "1224   3.9486  0.015787  1044-5323         SEMIN IMMUNOL     9009458  1225\n",
        "1225     1.47  0.015744  0304-4149       STOCH PROC APPL              1226\n",
        "1226   0.8651  0.015724  0960-0760     J STEROID BIOCHEM     9015483  1227\n",
        "1227   0.9203  0.015697  1054-1500                 CHAOS   100971574  1228\n",
        "1228   1.7995  0.015677  0075-4102    J REINE ANGEW MATH              1229\n",
        "1229   0.7712  0.015671  0148-639X          MUSCLE NERVE     7803146  1230\n",
        "1230   2.3423  0.015637  1467-7881              OBES REV   100897395  1231\n",
        "1231   0.4334  0.015636  0932-0113         PARASITOL RES     8703571  1232\n",
        "1232   1.6383  0.015624  0899-8256       GAME ECON BEHAV              1233\n",
        "1233   1.1631  0.015614  0167-2681    J ECON BEHAV ORGAN   101086031  1234\n",
        "1234   1.7922  0.015613  0278-6133        HEALTH PSYCHOL     8211523  1235\n",
        "1235   0.7228  0.015602  0091-3057  PHARMACOL BIOCHEM BE     0367050  1236\n",
        "1236   1.4209  0.015583  0889-1591     BRAIN BEHAV IMMUN     8800478  1237\n",
        "1237   0.7918  0.015553  0162-0134       J INORG BIOCHEM     7905788  1238\n",
        "1238     1.26  0.015551  1471-2229        BMC PLANT BIOL   100967807  1239\n",
        "1239   0.8589  0.015532  1069-6563        ACAD EMERG MED     9418450  1240\n",
        "1240   0.8018  0.015514  0090-6964        ANN BIOMED ENG     0361512  1241\n",
        "1241   0.9531  0.015505  0306-5251  BRIT J CLIN PHARMACO     7503323  1242\n",
        "1242   1.1153  0.015505  0266-5611         INVERSE PROBL              1243\n",
        "1243   0.6266  0.015503  0931-041X       PEDIATR NEPHROL     8708728  1244\n",
        "1244   1.0341  0.015495  0027-5107  MUTAT RES-FUND MOL M     0400763  1245\n",
        "1245   2.8898  0.015476  1047-7039             ORGAN SCI              1246\n",
        "1246   1.3493  0.015417  1047-2797         ANN EPIDEMIOL     9100013  1247\n",
        "1247   0.7597  0.015409  0022-4790          J SURG ONCOL     0222643  1248\n",
        "1248   1.9063  0.015383  0079-6611         PROG OCEANOGR              1249\n",
        "1249   0.6067  0.015376  0928-4931   MAT SCI ENG C-MATER   101484109  1250\n",
        "\n",
        "[1250 rows x 6 columns]"
       ]
      }
     ],
     "prompt_number": 164
    },
    {
     "cell_type": "code",
     "collapsed": false,
     "input": [
      "eigenfactorsDF.to_csv(\"/vagrant/cs109_firstOrPerish/data_munging/eigenfactor.csv\")"
     ],
     "language": "python",
     "metadata": {},
     "outputs": [],
     "prompt_number": 165
    },
    {
     "cell_type": "code",
     "collapsed": false,
     "input": [],
     "language": "python",
     "metadata": {},
     "outputs": []
    }
   ],
   "metadata": {}
  }
 ]
}