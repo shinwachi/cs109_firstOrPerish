{
 "metadata": {
  "name": "",
  "signature": "sha256:f5b19e8dfe9d7ae56e3366bbc4147b07539aa59c97bb92ccb175da52d6b24c55"
 },
 "nbformat": 3,
 "nbformat_minor": 0,
 "worksheets": [
  {
   "cells": [
    {
     "cell_type": "code",
     "collapsed": false,
     "input": [
      "import gzip, json, csv, os\n",
      "import pandas as pd\n",
      "import ast\n",
      "# special IPython command to prepare the notebook for matplotlib\n",
      "%matplotlib inline \n",
      "from collections import Counter\n",
      "import numpy as np\n",
      "import matplotlib.pyplot as plt\n",
      "import pandas as pd\n",
      "from matplotlib import rcParams\n",
      "rcParams['figure.figsize'] = (20, 6)"
     ],
     "language": "python",
     "metadata": {},
     "outputs": [],
     "prompt_number": 1
    },
    {
     "cell_type": "code",
     "collapsed": false,
     "input": [
      "# load affliation salary into memory"
     ],
     "language": "python",
     "metadata": {},
     "outputs": [],
     "prompt_number": 2
    },
    {
     "cell_type": "code",
     "collapsed": false,
     "input": [
      "\n",
      "# table = pd.read_csv(gzip.open(infilepath , 'r'))"
     ],
     "language": "python",
     "metadata": {},
     "outputs": [],
     "prompt_number": 62
    },
    {
     "cell_type": "code",
     "collapsed": false,
     "input": [
      "infilepath = '/vagrant/cs109_firstOrPerish/data_munging/affiliation_salary.csv.gz'\n",
      "salarydict = {}\n",
      "infile = gzip.open(infilepath , 'r')\n",
      "infile.next() # skip header\n",
      "for row in csv.reader(infile, dialect=csv.excel):\n",
      "    k = row[0]\n",
      "    v = float(row[2])\n",
      "    salarydict[k] = v\n",
      "infile.close()\n",
      "    "
     ],
     "language": "python",
     "metadata": {},
     "outputs": [],
     "prompt_number": 65
    },
    {
     "cell_type": "code",
     "collapsed": false,
     "input": [
      "len(salarydict)"
     ],
     "language": "python",
     "metadata": {},
     "outputs": [
      {
       "metadata": {},
       "output_type": "pyout",
       "prompt_number": 5,
       "text": [
        "733305"
       ]
      }
     ],
     "prompt_number": 5
    },
    {
     "cell_type": "code",
     "collapsed": false,
     "input": [
      "infilepath = '/vagrant/data/authorStat.txt.gz'\n",
      "infile = gzip.open(infilepath, 'r')\n",
      "data = [infile.next() for x in range(20)]\n",
      "infile.close()"
     ],
     "language": "python",
     "metadata": {},
     "outputs": [],
     "prompt_number": 24
    },
    {
     "cell_type": "code",
     "collapsed": false,
     "input": [
      "# put it all together\n",
      "import re\n",
      "pattern1 = re.compile(r'([^\\,]+),[^,]*,[^,]*,[^,]*,[^,]*,[^,]*,[^,]*,[^,]*,[^,]*,[^,]*,[^,]*,[^,]*,[^,]*,[^,]*,[^,]*,[^,]*,(.*)\\n'  )\n",
      "pattern2 = re.compile(r'\"\"\"([^\\\"][^\\\"]+)\"\"\"')\n",
      "def extractAuthorAffiliation(x):\n",
      "    au,af = pattern1.findall(x)[0]\n",
      "    afs = pattern2.findall(af)\n",
      "    return au, afs\n",
      "\n",
      "def matchSalary(af):\n",
      "    try:\n",
      "        return salarydict[af]\n",
      "    except:\n",
      "        return 0.0\n",
      "\n",
      "def processLine(row):\n",
      "    au, afs = extractAuthorAffiliation(row)\n",
      "    salaries = [matchSalary(af) for af in afs]\n",
      "    if salaries:\n",
      "        maxSalary = max(salaries)\n",
      "    else:\n",
      "        maxSalary = 0.0\n",
      "    return au, maxSalary"
     ],
     "language": "python",
     "metadata": {},
     "outputs": [],
     "prompt_number": 68
    },
    {
     "cell_type": "code",
     "collapsed": false,
     "input": [
      "processLine(data[100])"
     ],
     "language": "python",
     "metadata": {},
     "outputs": [
      {
       "metadata": {},
       "output_type": "pyout",
       "prompt_number": 71,
       "text": [
        "('a_a.abba', 0.0)"
       ]
      }
     ],
     "prompt_number": 71
    },
    {
     "cell_type": "code",
     "collapsed": false,
     "input": [
      "infilepath = '/vagrant/data/authorStat.txt.gz'\n",
      "infile = gzip.open(infilepath, 'r')\n",
      "# data = [infile.next() for x in range(20)]\n",
      "for row in infile:\n",
      "    au, ms = processLine(row)\n",
      "    if ms > 0.0:\n",
      "        break\n",
      "infile.close()"
     ],
     "language": "python",
     "metadata": {},
     "outputs": [],
     "prompt_number": 72
    },
    {
     "cell_type": "code",
     "collapsed": false,
     "input": [
      "ms"
     ],
     "language": "python",
     "metadata": {},
     "outputs": [
      {
       "metadata": {},
       "output_type": "pyout",
       "prompt_number": 73,
       "text": [
        "140200.0"
       ]
      }
     ],
     "prompt_number": 73
    },
    {
     "cell_type": "code",
     "collapsed": false,
     "input": [
      "au"
     ],
     "language": "python",
     "metadata": {},
     "outputs": [
      {
       "metadata": {},
       "output_type": "pyout",
       "prompt_number": 74,
       "text": [
        "'a_a.abdelghani'"
       ]
      }
     ],
     "prompt_number": 74
    },
    {
     "cell_type": "code",
     "collapsed": false,
     "input": [
      "infilepath = '/vagrant/data/authorStat.txt.gz'\n",
      "outfilepath = '/vagrant/data/authorSalary.txt.gz'\n",
      "infile = gzip.open(infilepath, 'r')\n",
      "outfile = gzip.open(outfilepath, 'w')\n",
      "# data = [infile.next() for x in range(20)]\n",
      "for row in infile:\n",
      "    au, ms = processLine(row)\n",
      "    if ms > 0.0:\n",
      "        outfile.write('%s,%f\\n'%(au,ms))\n",
      "infile.close()\n",
      "outfile.close()"
     ],
     "language": "python",
     "metadata": {},
     "outputs": [],
     "prompt_number": 75
    },
    {
     "cell_type": "code",
     "collapsed": false,
     "input": [],
     "language": "python",
     "metadata": {},
     "outputs": []
    }
   ],
   "metadata": {}
  }
 ]
}