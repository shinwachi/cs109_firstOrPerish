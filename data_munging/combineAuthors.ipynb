{
 "metadata": {
  "name": "",
  "signature": "sha256:6f20b209e4e1c49938c51fb1de44b3d6d083ab46969fa5741026d8f3b0d879aa"
 },
 "nbformat": 3,
 "nbformat_minor": 0,
 "worksheets": [
  {
   "cells": [
    {
     "cell_type": "code",
     "collapsed": false,
     "input": [
      "import gzip, json, csv, os\n",
      "\n",
      "infileDirPath = '../../../../../Dropbox/cs109_datasci_share_2/authout/'\n",
      "\n",
      "allFiles = []\n",
      "for file in os.listdir(infileDirPath):\n",
      "    if file.endswith(\".gz\"):\n",
      "        allFiles.append(file)"
     ],
     "language": "python",
     "metadata": {},
     "outputs": [],
     "prompt_number": 1
    },
    {
     "cell_type": "code",
     "collapsed": false,
     "input": [
      "print allFiles[:10]"
     ],
     "language": "python",
     "metadata": {},
     "outputs": [
      {
       "output_type": "stream",
       "stream": "stdout",
       "text": [
        "['auth_medline14n0001.csv.gz', 'auth_medline14n0002.csv.gz', 'auth_medline14n0003.csv.gz', 'auth_medline14n0004.csv.gz', 'auth_medline14n0005.csv.gz', 'auth_medline14n0006.csv.gz', 'auth_medline14n0007.csv.gz', 'auth_medline14n0008.csv.gz', 'auth_medline14n0009.csv.gz', 'auth_medline14n0010.csv.gz']\n"
       ]
      }
     ],
     "prompt_number": 2
    },
    {
     "cell_type": "code",
     "collapsed": false,
     "input": [
      "authorLocFiles = {}\n",
      "\n",
      "for oneFile in allFiles[:1]:\n",
      "    fileLocation = infileDirPath + oneFile\n",
      "    outfile = gzip.open( fileLocation, 'r')\n",
      "    reader = csv.reader(outfile)\n",
      "    count = 0\n",
      "    for row in reader:\n",
      "        count += 1\n",
      "        if count == 2:\n",
      "            break\n",
      "        author = row[0]\n",
      "        if author not in authorLocFiles:\n",
      "            cmd = \"zgrep '\"+ author+\"' \" +  infileDirPath +  \"auth_medline14n* | cut -d':' -f1\"\n",
      "            authorLocFiles[author] = []\n",
      "\n",
      "            try:\n",
      "                fp = os.popen(cmd)\n",
      "                filesForAuthor = fp.read()\n",
      "                fp.close()\n",
      "                filesArry = filesForAuthor.split('\\n')\n",
      "                locationInfo = dict(\n",
      "                    files = filesArry\n",
      "                    )\n",
      "                #print locationInfo\n",
      "                authorLocFiles[author].append(locationInfo)\n",
      "            except:\n",
      "                print \"Exception: \" + cmd\n",
      "\n",
      "        "
     ],
     "language": "python",
     "metadata": {},
     "outputs": [],
     "prompt_number": 5
    },
    {
     "cell_type": "code",
     "collapsed": false,
     "input": [
      "#print authorLocFile"
     ],
     "language": "python",
     "metadata": {},
     "outputs": [],
     "prompt_number": 26
    },
    {
     "cell_type": "code",
     "collapsed": false,
     "input": [
      "print authorLocFiles"
     ],
     "language": "python",
     "metadata": {},
     "outputs": [
      {
       "output_type": "stream",
       "stream": "stdout",
       "text": [
        "{'a_h.young': [{'files': ['../../../../../Dropbox/cs109_datasci_share_2/authout/auth_medline14n0001.csv.gz', '../../../../../Dropbox/cs109_datasci_share_2/authout/auth_medline14n0002.csv.gz', '../../../../../Dropbox/cs109_datasci_share_2/authout/auth_medline14n0065.csv.gz', '../../../../../Dropbox/cs109_datasci_share_2/authout/auth_medline14n0088.csv.gz', '../../../../../Dropbox/cs109_datasci_share_2/authout/auth_medline14n0092.csv.gz', '../../../../../Dropbox/cs109_datasci_share_2/authout/auth_medline14n0093.csv.gz', '../../../../../Dropbox/cs109_datasci_share_2/authout/auth_medline14n0102.csv.gz', '../../../../../Dropbox/cs109_datasci_share_2/authout/auth_medline14n0157.csv.gz', '../../../../../Dropbox/cs109_datasci_share_2/authout/auth_medline14n0238.csv.gz', '../../../../../Dropbox/cs109_datasci_share_2/authout/auth_medline14n0311.csv.gz', '../../../../../Dropbox/cs109_datasci_share_2/authout/auth_medline14n0319.csv.gz', '../../../../../Dropbox/cs109_datasci_share_2/authout/auth_medline14n0328.csv.gz', '../../../../../Dropbox/cs109_datasci_share_2/authout/auth_medline14n0330.csv.gz', '../../../../../Dropbox/cs109_datasci_share_2/authout/auth_medline14n0336.csv.gz', '../../../../../Dropbox/cs109_datasci_share_2/authout/auth_medline14n0342.csv.gz', '../../../../../Dropbox/cs109_datasci_share_2/authout/auth_medline14n0347.csv.gz', '../../../../../Dropbox/cs109_datasci_share_2/authout/auth_medline14n0358.csv.gz', '../../../../../Dropbox/cs109_datasci_share_2/authout/auth_medline14n0359.csv.gz', '../../../../../Dropbox/cs109_datasci_share_2/authout/auth_medline14n0360.csv.gz', '../../../../../Dropbox/cs109_datasci_share_2/authout/auth_medline14n0374.csv.gz', '../../../../../Dropbox/cs109_datasci_share_2/authout/auth_medline14n0389.csv.gz', '../../../../../Dropbox/cs109_datasci_share_2/authout/auth_medline14n0390.csv.gz', '../../../../../Dropbox/cs109_datasci_share_2/authout/auth_medline14n0405.csv.gz', '../../../../../Dropbox/cs109_datasci_share_2/authout/auth_medline14n0421.csv.gz', '']}]}\n"
       ]
      }
     ],
     "prompt_number": 6
    },
    {
     "cell_type": "code",
     "collapsed": false,
     "input": [
      "import gzip, json, csv, os\n",
      "\n",
      "# infileDirPath = '../../../../../Dropbox/cs109_datasci_share_2/authout/'\n",
      "infileDirPath = '/vagrant/cs109_firstOrPerish/data_munging/authorOut/authout/'\n",
      "allFiles = [f for f in os.listdir(infileDirPath) if f.endswith(\".gz\")]\n",
      "len(allFiles)"
     ],
     "language": "python",
     "metadata": {},
     "outputs": [
      {
       "metadata": {},
       "output_type": "pyout",
       "prompt_number": 5,
       "text": [
        "746"
       ]
      }
     ],
     "prompt_number": 5
    },
    {
     "cell_type": "code",
     "collapsed": false,
     "input": [
      "authorLocFiles = {}\n",
      "\n",
      "for oneFile in allFiles[:1]:\n",
      "    fileLocation = infileDirPath + oneFile\n",
      "    reader  = csv.reader(gzip.open( fileLocation, 'r'))\n",
      "    for count, row in enumerate(reader, start=1):\n",
      "        if count == 2:\n",
      "            break\n",
      "        author = row[0]\n",
      "        if author not in authorLocFiles:\n",
      "            cmd = \"zgrep '\"+ author+\"' \" +  infileDirPath +  \"auth_medline14n* | cut -d':' -f1\"\n",
      "            authorLocFiles[author] = []\n",
      "\n",
      "            try:\n",
      "                fp = os.popen(cmd)\n",
      "                filesForAuthor = fp.read()\n",
      "                fp.close()\n",
      "                filesArry = filesForAuthor.split('\\n')\n",
      "                locationInfo = dict(\n",
      "                    files = filesArry\n",
      "                    )\n",
      "                #print locationInfo\n",
      "                authorLocFiles[author].append(locationInfo)\n",
      "            except:\n",
      "                print \"Exception: \" + cmd\n"
     ],
     "language": "python",
     "metadata": {},
     "outputs": [
      {
       "output_type": "stream",
       "stream": "stdout",
       "text": [
        "Exception: zgrep 'l_b.lopez-hernandez' /vagrant/cs109_firstOrPerish/data_munging/authorOut/authout/auth_medline14n* | cut -d':' -f1\n"
       ]
      }
     ],
     "prompt_number": 6
    },
    {
     "cell_type": "code",
     "collapsed": false,
     "input": [
      "x = allFiles[0]"
     ],
     "language": "python",
     "metadata": {},
     "outputs": [],
     "prompt_number": 7
    },
    {
     "cell_type": "code",
     "collapsed": false,
     "input": [
      "x"
     ],
     "language": "python",
     "metadata": {},
     "outputs": [
      {
       "metadata": {},
       "output_type": "pyout",
       "prompt_number": 8,
       "text": [
        "'auth_medline14n0641.csv.gz'"
       ]
      }
     ],
     "prompt_number": 8
    },
    {
     "cell_type": "code",
     "collapsed": false,
     "input": [
      "filepath = os.path.join(infileDirPath, x)"
     ],
     "language": "python",
     "metadata": {},
     "outputs": [],
     "prompt_number": 9
    },
    {
     "cell_type": "code",
     "collapsed": false,
     "input": [
      "filepath"
     ],
     "language": "python",
     "metadata": {},
     "outputs": [
      {
       "metadata": {},
       "output_type": "pyout",
       "prompt_number": 10,
       "text": [
        "'/vagrant/cs109_firstOrPerish/data_munging/authorOut/authout/auth_medline14n0641.csv.gz'"
       ]
      }
     ],
     "prompt_number": 10
    },
    {
     "cell_type": "code",
     "collapsed": false,
     "input": [
      "import re\n",
      "\n",
      "pattern = re.compile(\"auth_medline14n(\\d+).csv.gz\")"
     ],
     "language": "python",
     "metadata": {},
     "outputs": [],
     "prompt_number": 11
    },
    {
     "cell_type": "code",
     "collapsed": false,
     "input": [
      "pattern.findall(filepath)[0]"
     ],
     "language": "python",
     "metadata": {},
     "outputs": [
      {
       "metadata": {},
       "output_type": "pyout",
       "prompt_number": 13,
       "text": [
        "'0641'"
       ]
      }
     ],
     "prompt_number": 13
    },
    {
     "cell_type": "code",
     "collapsed": false,
     "input": [
      "# find all first authors\n",
      "reader  = csv.reader(gzip.open( fileLocation, 'r'))\n"
     ],
     "language": "python",
     "metadata": {},
     "outputs": [],
     "prompt_number": 14
    },
    {
     "cell_type": "code",
     "collapsed": false,
     "input": [
      "data = [x for x in reader]"
     ],
     "language": "python",
     "metadata": {},
     "outputs": [],
     "prompt_number": 15
    },
    {
     "cell_type": "code",
     "collapsed": false,
     "input": [
      "len(data)"
     ],
     "language": "python",
     "metadata": {},
     "outputs": [
      {
       "metadata": {},
       "output_type": "pyout",
       "prompt_number": 16,
       "text": [
        "133132"
       ]
      }
     ],
     "prompt_number": 16
    },
    {
     "cell_type": "code",
     "collapsed": false,
     "input": [
      "data[0]"
     ],
     "language": "python",
     "metadata": {},
     "outputs": [
      {
       "metadata": {},
       "output_type": "pyout",
       "prompt_number": 19,
       "text": [
        "['l_b.lopez-hernandez',\n",
        " \"[{'affiliation': 'Division de Genetica, Centro de Investigacion Biomedica de Occidente, Instituto Mexicano del Seguro Social, Mexico DF, Mexico. mones17@yahoo.com', 'nlmuniqueid': '7706841', 'authPos': 1, 'authCount': 3, 'year': ''}]\"]"
       ]
      }
     ],
     "prompt_number": 19
    },
    {
     "cell_type": "code",
     "collapsed": false,
     "input": [
      "auths = set()"
     ],
     "language": "python",
     "metadata": {},
     "outputs": [],
     "prompt_number": 17
    },
    {
     "cell_type": "code",
     "collapsed": false,
     "input": [
      "for authKey, article in data:\n",
      "    if \"'authPos': 1,\" in article:\n",
      "        auths.add(authKey)"
     ],
     "language": "python",
     "metadata": {},
     "outputs": [],
     "prompt_number": 20
    },
    {
     "cell_type": "code",
     "collapsed": false,
     "input": [
      "len(auths)"
     ],
     "language": "python",
     "metadata": {},
     "outputs": [
      {
       "metadata": {},
       "output_type": "pyout",
       "prompt_number": 21,
       "text": [
        "28630"
       ]
      }
     ],
     "prompt_number": 21
    },
    {
     "cell_type": "code",
     "collapsed": false,
     "input": [
      "import gzip, json, csv, os\n",
      "\n",
      "\n",
      "\n",
      "# infileDirPath = '../../../../../Dropbox/cs109_datasci_share_2/authout/'\n",
      "infileDirPath = '/vagrant/cs109_firstOrPerish/data_munging/authorOut/authout/'\n",
      "allFiles = [f for f in os.listdir(infileDirPath) if f.endswith(\".gz\")]\n",
      "print \"total number of files:\", len(allFiles)\n",
      "\n",
      "# scan first for all first authors\n",
      "fst_auths = set()\n",
      "for idx, filename in enumerate(allFiles):\n",
      "    if idx%50 == 0:\n",
      "        print idx, filename\n",
      "    filepath = os.path.join(infileDirPath, filename)\n",
      "    for authKey, article in  csv.reader(gzip.open( filepath)):\n",
      "        # hacky part: search for a specific string for hint of 1st author\n",
      "        if \"'authPos': 1,\" in article:\n",
      "            fst_auths.add(authKey)\n",
      "# this process actually took less than 15 minutes on a virtual machine, so it's pretty fast\n"
     ],
     "language": "python",
     "metadata": {},
     "outputs": [
      {
       "output_type": "stream",
       "stream": "stdout",
       "text": [
        "total number of files: 746\n",
        "0 auth_medline14n0641.csv.gz\n",
        "50"
       ]
      },
      {
       "output_type": "stream",
       "stream": "stdout",
       "text": [
        " auth_medline14n0691.csv.gz\n",
        "100"
       ]
      },
      {
       "output_type": "stream",
       "stream": "stdout",
       "text": [
        " auth_medline14n0741.csv.gz\n",
        "150"
       ]
      },
      {
       "output_type": "stream",
       "stream": "stdout",
       "text": [
        " auth_medline14n0578.csv.gz\n",
        "200"
       ]
      },
      {
       "output_type": "stream",
       "stream": "stdout",
       "text": [
        " auth_medline14n0628.csv.gz\n",
        "250"
       ]
      },
      {
       "output_type": "stream",
       "stream": "stdout",
       "text": [
        " auth_medline14n0464.csv.gz\n",
        "300"
       ]
      },
      {
       "output_type": "stream",
       "stream": "stdout",
       "text": [
        " auth_medline14n0514.csv.gz\n",
        "350"
       ]
      },
      {
       "output_type": "stream",
       "stream": "stdout",
       "text": [
        " auth_medline14n0350.csv.gz\n",
        "400"
       ]
      },
      {
       "output_type": "stream",
       "stream": "stdout",
       "text": [
        " auth_medline14n0400.csv.gz\n",
        "450"
       ]
      },
      {
       "output_type": "stream",
       "stream": "stdout",
       "text": [
        " auth_medline14n0236.csv.gz\n",
        "500"
       ]
      },
      {
       "output_type": "stream",
       "stream": "stdout",
       "text": [
        " auth_medline14n0286.csv.gz\n",
        "550"
       ]
      },
      {
       "output_type": "stream",
       "stream": "stdout",
       "text": [
        " auth_medline14n0122.csv.gz\n",
        "600"
       ]
      },
      {
       "output_type": "stream",
       "stream": "stdout",
       "text": [
        " auth_medline14n0172.csv.gz\n",
        "650"
       ]
      },
      {
       "output_type": "stream",
       "stream": "stdout",
       "text": [
        " auth_medline14n0010.csv.gz\n",
        "700"
       ]
      },
      {
       "output_type": "stream",
       "stream": "stdout",
       "text": [
        " auth_medline14n0060.csv.gz\n"
       ]
      }
     ],
     "prompt_number": 22
    },
    {
     "cell_type": "code",
     "collapsed": false,
     "input": [
      "# save the first author list (using gzip instead of zip, since it is less of a pain to deal with)\n",
      "outfilepath = \"/vagrant/cs109_firstOrPerish/data_munging/firstAuthorKeys.csv.gz\"\n",
      "f = gzip.open(outfilepath, 'wb')\n",
      "writer = csv.writer(f, dialect=csv.excel)\n",
      "\n",
      "for authKey in list(fst_auths):\n",
      "    writer.writerow([authKey])\n",
      "f.close()\n",
      "\n"
     ],
     "language": "python",
     "metadata": {},
     "outputs": [],
     "prompt_number": 31
    },
    {
     "cell_type": "code",
     "collapsed": false,
     "input": [
      "len(fst_auths)\n",
      "# only 5 million authors to deal with!"
     ],
     "language": "python",
     "metadata": {},
     "outputs": [
      {
       "metadata": {},
       "output_type": "pyout",
       "prompt_number": 32,
       "text": [
        "4942347"
       ]
      }
     ],
     "prompt_number": 32
    },
    {
     "cell_type": "code",
     "collapsed": false,
     "input": [
      "auth_files = {}\n",
      "for fa in fst_auths:\n",
      "    auth_files[fa] = set()\n",
      "\n",
      "    "
     ],
     "language": "python",
     "metadata": {},
     "outputs": [],
     "prompt_number": 34
    },
    {
     "cell_type": "code",
     "collapsed": false,
     "input": [
      "\n",
      "import re\n",
      "# usage: pattern.findall(filepath)[0]\n",
      "pattern = re.compile(\"auth_medline14n(\\d+).csv.gz\")\n",
      "\n",
      "\n",
      "# scan next for files to look in\n",
      "for idx, filename in enumerate(allFiles):\n",
      "    if idx%50 == 0:\n",
      "        print idx, filename\n",
      "    \n",
      "    \n",
      "    # number index (saves memory vs strings)\n",
      "    fIdx = int(pattern.findall(filename)[0])\n",
      "    \n",
      "    filepath = os.path.join(infileDirPath, filename)\n",
      "    \n",
      "    \n",
      "    for authKey, _ in  csv.reader(gzip.open( filepath)):\n",
      "        # get any mention of author in the fst_authors\n",
      "#         if authKey in auth_files.keys(): <------------------ this takes forever.\n",
      "        try:\n",
      "            auth_files[authKey].add(fIdx)\n",
      "        except:\n",
      "            pass\n",
      "    # this process actually took less than 15 minutes on a virtual machine, so it's pretty fast\n"
     ],
     "language": "python",
     "metadata": {},
     "outputs": [
      {
       "output_type": "stream",
       "stream": "stdout",
       "text": [
        "0 auth_medline14n0641.csv.gz\n",
        "50"
       ]
      },
      {
       "output_type": "stream",
       "stream": "stdout",
       "text": [
        " auth_medline14n0691.csv.gz\n",
        "100"
       ]
      },
      {
       "output_type": "stream",
       "stream": "stdout",
       "text": [
        " auth_medline14n0741.csv.gz\n",
        "150"
       ]
      },
      {
       "output_type": "stream",
       "stream": "stdout",
       "text": [
        " auth_medline14n0578.csv.gz\n",
        "200"
       ]
      }
     ]
    },
    {
     "cell_type": "code",
     "collapsed": false,
     "input": [
      "\n",
      "\n",
      "# save the first author list (using gzip instead of zip, since it is less of a pain to deal with)\n",
      "outfilepath = \"/vagrant/cs109_firstOrPerish/data_munging/authorFileLists.csv.gz\"\n",
      "f = gzip.open(outfilepath, 'wb')\n",
      "writer = csv.writer(f, dialect=csv.excel)\n",
      "\n",
      "for authKey, fileList in auth_files:\n",
      "    writer.writerow([authKey] + list(fileList))\n",
      "\n",
      "f.close()\n",
      "\n",
      "\n",
      "\n"
     ],
     "language": "python",
     "metadata": {},
     "outputs": []
    }
   ],
   "metadata": {}
  }
 ]
}