{
 "metadata": {
  "name": "",
  "signature": "sha256:04e00d9f7796d1beeae492c60c6fc605cb6366c8348537418300341778feb3c6"
 },
 "nbformat": 3,
 "nbformat_minor": 0,
 "worksheets": [
  {
   "cells": [
    {
     "cell_type": "code",
     "collapsed": false,
     "input": [
      "import gzip, json, csv, os\n",
      "\n",
      "infileDirPath = '../../../../../Dropbox/cs109_datasci_share_2/authout/'\n",
      "\n",
      "allFiles = []\n",
      "for file in os.listdir(infileDirPath):\n",
      "    if file.endswith(\".gz\"):\n",
      "        allFiles.append(file)"
     ],
     "language": "python",
     "metadata": {},
     "outputs": [],
     "prompt_number": 1
    },
    {
     "cell_type": "code",
     "collapsed": false,
     "input": [
      "print allFiles[:10]"
     ],
     "language": "python",
     "metadata": {},
     "outputs": [
      {
       "output_type": "stream",
       "stream": "stdout",
       "text": [
        "['auth_medline14n0001.csv.gz', 'auth_medline14n0002.csv.gz', 'auth_medline14n0003.csv.gz', 'auth_medline14n0004.csv.gz', 'auth_medline14n0005.csv.gz', 'auth_medline14n0006.csv.gz', 'auth_medline14n0007.csv.gz', 'auth_medline14n0008.csv.gz', 'auth_medline14n0009.csv.gz', 'auth_medline14n0010.csv.gz']\n"
       ]
      }
     ],
     "prompt_number": 2
    },
    {
     "cell_type": "code",
     "collapsed": false,
     "input": [
      "authorLocFiles = {}\n",
      "\n",
      "for oneFile in allFiles[:1]:\n",
      "    fileLocation = infileDirPath + oneFile\n",
      "    outfile = gzip.open( fileLocation, 'r')\n",
      "    reader = csv.reader(outfile)\n",
      "    count = 0\n",
      "    for row in reader:\n",
      "        count += 1\n",
      "        if count == 2:\n",
      "            break\n",
      "        author = row[0]\n",
      "        if author not in authorLocFiles:\n",
      "            cmd = \"zgrep '\"+ author+\"' \" +  infileDirPath +  \"auth_medline14n* | cut -d':' -f1\"\n",
      "            authorLocFiles[author] = []\n",
      "\n",
      "            try:\n",
      "                fp = os.popen(cmd)\n",
      "                filesForAuthor = fp.read()\n",
      "                fp.close()\n",
      "                filesArry = filesForAuthor.split('\\n')\n",
      "                locationInfo = dict(\n",
      "                    files = filesArry\n",
      "                    )\n",
      "                #print locationInfo\n",
      "                authorLocFiles[author].append(locationInfo)\n",
      "            except:\n",
      "                print \"Exception: \" + cmd\n",
      "\n",
      "        "
     ],
     "language": "python",
     "metadata": {},
     "outputs": [],
     "prompt_number": 5
    },
    {
     "cell_type": "code",
     "collapsed": false,
     "input": [
      "#print authorLocFile"
     ],
     "language": "python",
     "metadata": {},
     "outputs": [],
     "prompt_number": 26
    },
    {
     "cell_type": "code",
     "collapsed": false,
     "input": [
      "print authorLocFiles"
     ],
     "language": "python",
     "metadata": {},
     "outputs": [
      {
       "output_type": "stream",
       "stream": "stdout",
       "text": [
        "{'a_h.young': [{'files': ['../../../../../Dropbox/cs109_datasci_share_2/authout/auth_medline14n0001.csv.gz', '../../../../../Dropbox/cs109_datasci_share_2/authout/auth_medline14n0002.csv.gz', '../../../../../Dropbox/cs109_datasci_share_2/authout/auth_medline14n0065.csv.gz', '../../../../../Dropbox/cs109_datasci_share_2/authout/auth_medline14n0088.csv.gz', '../../../../../Dropbox/cs109_datasci_share_2/authout/auth_medline14n0092.csv.gz', '../../../../../Dropbox/cs109_datasci_share_2/authout/auth_medline14n0093.csv.gz', '../../../../../Dropbox/cs109_datasci_share_2/authout/auth_medline14n0102.csv.gz', '../../../../../Dropbox/cs109_datasci_share_2/authout/auth_medline14n0157.csv.gz', '../../../../../Dropbox/cs109_datasci_share_2/authout/auth_medline14n0238.csv.gz', '../../../../../Dropbox/cs109_datasci_share_2/authout/auth_medline14n0311.csv.gz', '../../../../../Dropbox/cs109_datasci_share_2/authout/auth_medline14n0319.csv.gz', '../../../../../Dropbox/cs109_datasci_share_2/authout/auth_medline14n0328.csv.gz', '../../../../../Dropbox/cs109_datasci_share_2/authout/auth_medline14n0330.csv.gz', '../../../../../Dropbox/cs109_datasci_share_2/authout/auth_medline14n0336.csv.gz', '../../../../../Dropbox/cs109_datasci_share_2/authout/auth_medline14n0342.csv.gz', '../../../../../Dropbox/cs109_datasci_share_2/authout/auth_medline14n0347.csv.gz', '../../../../../Dropbox/cs109_datasci_share_2/authout/auth_medline14n0358.csv.gz', '../../../../../Dropbox/cs109_datasci_share_2/authout/auth_medline14n0359.csv.gz', '../../../../../Dropbox/cs109_datasci_share_2/authout/auth_medline14n0360.csv.gz', '../../../../../Dropbox/cs109_datasci_share_2/authout/auth_medline14n0374.csv.gz', '../../../../../Dropbox/cs109_datasci_share_2/authout/auth_medline14n0389.csv.gz', '../../../../../Dropbox/cs109_datasci_share_2/authout/auth_medline14n0390.csv.gz', '../../../../../Dropbox/cs109_datasci_share_2/authout/auth_medline14n0405.csv.gz', '../../../../../Dropbox/cs109_datasci_share_2/authout/auth_medline14n0421.csv.gz', '']}]}\n"
       ]
      }
     ],
     "prompt_number": 6
    },
    {
     "cell_type": "code",
     "collapsed": false,
     "input": [],
     "language": "python",
     "metadata": {},
     "outputs": []
    }
   ],
   "metadata": {}
  }
 ]
}