{
 "metadata": {
  "name": "",
  "signature": "sha256:76b042d3bd716d1b57f7f1a11ae9fb2c62452ad959c76bfd6fbe72a55e1cb4ba"
 },
 "nbformat": 3,
 "nbformat_minor": 0,
 "worksheets": [
  {
   "cells": [
    {
     "cell_type": "code",
     "collapsed": false,
     "input": [
      "# preamble\n",
      "import os\n",
      "import codecs\n",
      "import csv\n",
      "import unicodedata\n",
      "from bs4 import BeautifulSoup\n",
      "import gzip\n",
      "from bs4 import SoupStrainer\n",
      "from collections import OrderedDict\n",
      "\n",
      "\n",
      "# beautifulsoup doc: http://www.crummy.com/software/BeautifulSoup/bs4/doc/\n"
     ],
     "language": "python",
     "metadata": {},
     "outputs": [],
     "prompt_number": 63
    },
    {
     "cell_type": "code",
     "collapsed": false,
     "input": [
      "# read a.gz file\n",
      "path = \"/vagrant/data/medline14n0746.xml.gz\"\n",
      "f = gzip.open(path, 'rb')\n",
      "file_content = f.read()\n",
      "f.close()"
     ],
     "language": "python",
     "metadata": {},
     "outputs": [],
     "prompt_number": 64
    },
    {
     "cell_type": "code",
     "collapsed": false,
     "input": [
      "# split citations to chunk xml parsing (rely on closing tags as it has no other properties)\n",
      "k = file_content.split('</MedlineCitation>')\n",
      "originalfilename = os.path.split(path)[1]"
     ],
     "language": "python",
     "metadata": {},
     "outputs": [],
     "prompt_number": 65
    },
    {
     "cell_type": "code",
     "collapsed": false,
     "input": [
      "xmlfragment = k[20]"
     ],
     "language": "python",
     "metadata": {},
     "outputs": [],
     "prompt_number": 66
    },
    {
     "cell_type": "code",
     "collapsed": false,
     "input": [
      "\n",
      "def bsFragment(xmlfragment):\n",
      "    # make sure string is converted to BS4 object\n",
      "#     if not type(xmlfragment) == type(BeautifulSoup(\"\")):\n",
      "#         xmlfragment = BeautifulSoup(xmlfragment)\n",
      "    return BeautifulSoup(str(xmlfragment))\n",
      "\n",
      "# chained search isn't working for some reason, so here's a substitute\n",
      "def bs_findall(xmlfragment, *arg):\n",
      "    \"\"\"\n",
      "    usage: bs_findall(xmlfragment, 'authorlist','author')\n",
      "    finds all \"author\" under \"authorlist\"\n",
      "    returns list of author xmls in string\n",
      "    \"\"\"\n",
      "#     # make sure string is converted to BS4 object\n",
      "#     if not type(xmlfragment) == type(BeautifulSoup(\"\")):\n",
      "#         xmlfragment = BeautifulSoup(xmlfragment)\n",
      "    xmlfragment = bsFragment(xmlfragment)\n",
      "    \n",
      "    # go through nested tags to get to the last tag, collect the last tag\n",
      "    answer = []\n",
      "    if arg != ((),): # if not an empty arg\n",
      "        searchterm = arg[0]\n",
      "        \n",
      "        for x in xmlfragment.find_all(searchterm):\n",
      "            if len(arg) > 1:\n",
      "                answer.extend(bs_findall(str(x),arg[1:] ))\n",
      "            else:\n",
      "                answer.append(str(x))\n",
      "    else:\n",
      "        return []\n",
      "    return answer\n"
     ],
     "language": "python",
     "metadata": {},
     "outputs": [],
     "prompt_number": 143
    },
    {
     "cell_type": "code",
     "collapsed": false,
     "input": [
      "bs_findall(xmlfragment, 'authorlist','author')"
     ],
     "language": "python",
     "metadata": {},
     "outputs": [
      {
       "metadata": {},
       "output_type": "pyout",
       "prompt_number": 144,
       "text": [
        "['<author validyn=\"Y\">\\n<lastname>Andersen</lastname>\\n<forename>Ditte Caroline</forename>\\n<initials>DC</initials>\\n<affiliation>Laboratory of Molecular and Cellular Cardiology, Department of Clinical Biochemistry and Pharmacology, Odense University Hospital, Winsloewparken 21 3rd, 5000 Odense C, Denmark.</affiliation>\\n</author>',\n",
        " '<author validyn=\"Y\">\\n<lastname>Laborda</lastname>\\n<forename>Jorge</forename>\\n<initials>J</initials>\\n</author>',\n",
        " '<author validyn=\"Y\">\\n<lastname>Baladron</lastname>\\n<forename>Victoriano</forename>\\n<initials>V</initials>\\n</author>',\n",
        " '<author validyn=\"Y\">\\n<lastname>Kassem</lastname>\\n<forename>Moustapha</forename>\\n<initials>M</initials>\\n</author>',\n",
        " '<author validyn=\"Y\">\\n<lastname>Sheikh</lastname>\\n<forename>S\\xc3\\xb8ren Paludan</forename>\\n<initials>SP</initials>\\n</author>',\n",
        " '<author validyn=\"Y\">\\n<lastname>Jensen</lastname>\\n<forename>Charlotte Harken</forename>\\n<initials>CH</initials>\\n</author>']"
       ]
      }
     ],
     "prompt_number": 144
    },
    {
     "cell_type": "code",
     "collapsed": false,
     "input": [
      "def getFields(leafxmlfragment, fieldlist):\n",
      "    \n",
      "    answerdict = {}\n",
      "    for field in fieldlist:\n",
      "        # get rid of unicode\n",
      "        x = bsFragment(leafxmlfragment).find_all(field)\n",
      "        if x:\n",
      "            x = x[0].string # convert to string\n",
      "            x = unicodedata.normalize('NFKD',unicode(x)).encode('ascii','ignore')\n",
      "            answerdict[field] = x\n",
      "        else:\n",
      "            answerdict[field] = ''\n",
      "    return answerdict\n",
      "\n",
      "\n",
      "def getAuthors(xmlfragment):\n",
      "    # extract author information\n",
      "    authordicts = []\n",
      "    for authorxml in bs_findall(xmlfragment, 'authorlist','author'):\n",
      "        fields = 'lastname forename initials affiliation'.split()\n",
      "        authordict = getFields(authorxml, fields)\n",
      "        authordicts.append(authordict)\n",
      "    return authordicts\n",
      "\n",
      "getAuthors(xmlfragment)"
     ],
     "language": "python",
     "metadata": {},
     "outputs": [
      {
       "metadata": {},
       "output_type": "pyout",
       "prompt_number": 145,
       "text": [
        "[{'affiliation': 'Laboratory of Molecular and Cellular Cardiology, Department of Clinical Biochemistry and Pharmacology, Odense University Hospital, Winsloewparken 21 3rd, 5000 Odense C, Denmark.',\n",
        "  'forename': 'Ditte Caroline',\n",
        "  'initials': 'DC',\n",
        "  'lastname': 'Andersen'},\n",
        " {'affiliation': '',\n",
        "  'forename': 'Jorge',\n",
        "  'initials': 'J',\n",
        "  'lastname': 'Laborda'},\n",
        " {'affiliation': '',\n",
        "  'forename': 'Victoriano',\n",
        "  'initials': 'V',\n",
        "  'lastname': 'Baladron'},\n",
        " {'affiliation': '',\n",
        "  'forename': 'Moustapha',\n",
        "  'initials': 'M',\n",
        "  'lastname': 'Kassem'},\n",
        " {'affiliation': '',\n",
        "  'forename': 'Sren Paludan',\n",
        "  'initials': 'SP',\n",
        "  'lastname': 'Sheikh'},\n",
        " {'affiliation': '',\n",
        "  'forename': 'Charlotte Harken',\n",
        "  'initials': 'CH',\n",
        "  'lastname': 'Jensen'}]"
       ]
      }
     ],
     "prompt_number": 145
    },
    {
     "cell_type": "code",
     "collapsed": false,
     "input": [
      "def getJournalInfo(xmlfragment):\n",
      "    # get journal info\n",
      "    x = bs_findall(xmlfragment, 'medlinejournalinfo')[0]\n",
      "    fields = 'country medlineta nlmuniqueid issnlinking'.split()\n",
      "    return getFields(x, fields)\n",
      "\n",
      "getJournalInfo(xmlfragment)"
     ],
     "language": "python",
     "metadata": {},
     "outputs": [
      {
       "metadata": {},
       "output_type": "pyout",
       "prompt_number": 146,
       "text": [
        "{'country': 'England',\n",
        " 'issnlinking': '0950-1991',\n",
        " 'medlineta': 'Development',\n",
        " 'nlmuniqueid': '8701744'}"
       ]
      }
     ],
     "prompt_number": 146
    },
    {
     "cell_type": "code",
     "collapsed": false,
     "input": [
      "# get article date\n",
      "x = bs_findall(xmlfragment, 'articledate')\n",
      "fields = 'year month day'.split()\n",
      "getFields(x,fields)"
     ],
     "language": "python",
     "metadata": {},
     "outputs": [
      {
       "metadata": {},
       "output_type": "pyout",
       "prompt_number": 148,
       "text": [
        "{'day': '14', 'month': '08', 'year': '2013'}"
       ]
      }
     ],
     "prompt_number": 148
    },
    {
     "cell_type": "code",
     "collapsed": false,
     "input": [],
     "language": "python",
     "metadata": {},
     "outputs": []
    }
   ],
   "metadata": {}
  }
 ]
}