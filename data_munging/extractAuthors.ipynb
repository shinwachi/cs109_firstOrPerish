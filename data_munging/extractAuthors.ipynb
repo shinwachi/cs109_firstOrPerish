{
 "metadata": {
  "name": "",
  "signature": "sha256:45a0f3c787d5fcee173a906d09402847445823b4b7d8bd3740f16b4519f1bae1"
 },
 "nbformat": 3,
 "nbformat_minor": 0,
 "worksheets": [
  {
   "cells": [
    {
     "cell_type": "code",
     "collapsed": false,
     "input": [
      "# preamble\n",
      "import os\n",
      "import codecs\n",
      "import csv\n",
      "import unicodedata\n",
      "from bs4 import BeautifulSoup\n",
      "import gzip\n",
      "from bs4 import SoupStrainer\n",
      "from collections import OrderedDict\n",
      "import json\n",
      "import pandas as pd\n",
      "\n",
      "def jsonLoads(jsonString):\n",
      "    '''\n",
      "    # helper function to convert unicode to str\n",
      "    # used to decode SOAP reply\n",
      "    # http://stackoverflow.com/questions/956867/how-to-get-string-objects-instead-of-unicode-ones-from-json-in-python\n",
      "\n",
      "    replace:\n",
      "        json.loads(result.PE_executeResponse.Response, object_hook=decode_dict)\n",
      "    with:\n",
      "        jsonLoads(result.PE_executeResponse.Response)\n",
      "    '''\n",
      "    def _decode_list(data):\n",
      "        rv = []\n",
      "        for item in data:\n",
      "            if isinstance(item, unicode):\n",
      "                item = item.encode('utf-8')\n",
      "            elif isinstance(item, list):\n",
      "                item = _decode_list(item)\n",
      "            elif isinstance(item, dict):\n",
      "                item = _decode_dict(item)\n",
      "            rv.append(item)\n",
      "        return rv\n",
      "\n",
      "    def _decode_dict(data):\n",
      "        rv = {}\n",
      "        for key, value in data.iteritems():\n",
      "            if isinstance(key, unicode):\n",
      "                key = key.encode('utf-8')\n",
      "            if isinstance(value, unicode):\n",
      "                value = value.encode('utf-8')\n",
      "            elif isinstance(value, list):\n",
      "                value = _decode_list(value)\n",
      "            elif isinstance(value, dict):\n",
      "                value = _decode_dict(value)\n",
      "            rv[key] = value\n",
      "        return rv\n",
      "    return json.loads(jsonString, object_hook=_decode_dict)"
     ],
     "language": "python",
     "metadata": {},
     "outputs": [],
     "prompt_number": 2
    },
    {
     "cell_type": "code",
     "collapsed": false,
     "input": [
      "f = open(\"../../../../../Desktop/outfile/outfile/medline14n0685.txt\", 'r')"
     ],
     "language": "python",
     "metadata": {},
     "outputs": [],
     "prompt_number": 3
    },
    {
     "cell_type": "code",
     "collapsed": false,
     "input": [
      "allFiles = []\n",
      "for file in os.listdir(\"../../../../../Desktop/outfile/outfile/\"):\n",
      "    if file.endswith(\".txt\"):\n",
      "        allFiles.append(file)"
     ],
     "language": "python",
     "metadata": {},
     "outputs": [],
     "prompt_number": 101
    },
    {
     "cell_type": "code",
     "collapsed": false,
     "input": [
      "print allFiles[:1]"
     ],
     "language": "python",
     "metadata": {},
     "outputs": [
      {
       "output_type": "stream",
       "stream": "stdout",
       "text": [
        "['medline14n0001.txt']\n"
       ]
      }
     ],
     "prompt_number": 102
    },
    {
     "cell_type": "code",
     "collapsed": false,
     "input": [
      "data = f.readlines()\n",
      "f.close"
     ],
     "language": "python",
     "metadata": {},
     "outputs": [
      {
       "metadata": {},
       "output_type": "pyout",
       "prompt_number": 4,
       "text": [
        "<function close>"
       ]
      }
     ],
     "prompt_number": 4
    },
    {
     "cell_type": "code",
     "collapsed": false,
     "input": [
      "f.close()"
     ],
     "language": "python",
     "metadata": {},
     "outputs": [],
     "prompt_number": 5
    },
    {
     "cell_type": "code",
     "collapsed": false,
     "input": [
      "len(data)"
     ],
     "language": "python",
     "metadata": {},
     "outputs": [
      {
       "metadata": {},
       "output_type": "pyout",
       "prompt_number": 6,
       "text": [
        "30001"
       ]
      }
     ],
     "prompt_number": 6
    },
    {
     "cell_type": "code",
     "collapsed": false,
     "input": [
      "d = data[15]\n",
      "d"
     ],
     "language": "python",
     "metadata": {},
     "outputs": [
      {
       "metadata": {},
       "output_type": "pyout",
       "prompt_number": 7,
       "text": [
        "'{\"date\": {\"month\": \"04\", \"day\": \"15\", \"year\": \"2011\"}, \"journal\": {\"medlineta\": \"J Nucl Med\", \"country\": \"United States\", \"nlmuniqueid\": \"0217410\", \"issnlinking\": \"0161-5505\"}, \"entryid\": \"medline14n0685.xml.gz:15\", \"authors\": [{\"affiliation\": \"Department of Neurology, Faculty of Medicine and University Clinic, Heinrich Heine University, Dusseldorf, Germany. martin.suedmeyer@uni-duesseldorf.de\", \"lastname\": \"Sudmeyer\", \"initials\": \"M\", \"forename\": \"Martin\"}, {\"affiliation\": \"\", \"lastname\": \"Antke\", \"initials\": \"C\", \"forename\": \"Christina\"}, {\"affiliation\": \"\", \"lastname\": \"Zizek\", \"initials\": \"T\", \"forename\": \"Tanja\"}, {\"affiliation\": \"\", \"lastname\": \"Beu\", \"initials\": \"M\", \"forename\": \"Markus\"}, {\"affiliation\": \"\", \"lastname\": \"Nikolaus\", \"initials\": \"S\", \"forename\": \"Susanne\"}, {\"affiliation\": \"\", \"lastname\": \"Wojtecki\", \"initials\": \"L\", \"forename\": \"Lars\"}, {\"affiliation\": \"\", \"lastname\": \"Schnitzler\", \"initials\": \"A\", \"forename\": \"Alfons\"}, {\"affiliation\": \"\", \"lastname\": \"Muller\", \"initials\": \"HW\", \"forename\": \"Hans-Wilhelm\"}]}\\r\\n'"
       ]
      }
     ],
     "prompt_number": 7
    },
    {
     "cell_type": "code",
     "collapsed": false,
     "input": [
      "#print d[1:2]\n",
      "\n",
      "#print jsonData\n",
      "#jsonData = json.dumps(jsonData)\n",
      "\n",
      "#print jsonData\n",
      "\n",
      "d2 = jsonLoads(d)\n",
      "date    = d2['date'] \n",
      "journal = d2['journal']\n",
      "authors = d2['authors']\n",
      "entryid = d2['entryid']\n",
      "\n",
      "print date\n",
      "print journal\n",
      "print authors\n",
      "print entryid"
     ],
     "language": "python",
     "metadata": {},
     "outputs": [
      {
       "output_type": "stream",
       "stream": "stdout",
       "text": [
        "{'year': '2011', 'day': '15', 'month': '04'}\n",
        "{'medlineta': 'J Nucl Med', 'country': 'United States', 'nlmuniqueid': '0217410', 'issnlinking': '0161-5505'}\n",
        "[{'affiliation': 'Department of Neurology, Faculty of Medicine and University Clinic, Heinrich Heine University, Dusseldorf, Germany. martin.suedmeyer@uni-duesseldorf.de', 'initials': 'M', 'lastname': 'Sudmeyer', 'forename': 'Martin'}, {'affiliation': '', 'initials': 'C', 'lastname': 'Antke', 'forename': 'Christina'}, {'affiliation': '', 'initials': 'T', 'lastname': 'Zizek', 'forename': 'Tanja'}, {'affiliation': '', 'initials': 'M', 'lastname': 'Beu', 'forename': 'Markus'}, {'affiliation': '', 'initials': 'S', 'lastname': 'Nikolaus', 'forename': 'Susanne'}, {'affiliation': '', 'initials': 'L', 'lastname': 'Wojtecki', 'forename': 'Lars'}, {'affiliation': '', 'initials': 'A', 'lastname': 'Schnitzler', 'forename': 'Alfons'}, {'affiliation': '', 'initials': 'HW', 'lastname': 'Muller', 'forename': 'Hans-Wilhelm'}]\n",
        "medline14n0685.xml.gz:15\n"
       ]
      }
     ],
     "prompt_number": 8
    },
    {
     "cell_type": "code",
     "collapsed": false,
     "input": [],
     "language": "python",
     "metadata": {},
     "outputs": [],
     "prompt_number": 8
    },
    {
     "cell_type": "code",
     "collapsed": false,
     "input": [],
     "language": "python",
     "metadata": {},
     "outputs": [],
     "prompt_number": 8
    },
    {
     "cell_type": "code",
     "collapsed": false,
     "input": [
      "def newAuthorOnlyRow(authorName, journalInfo, position, total ):\n",
      "    journalInfo['authPosition'] = str(position) + ','+ str(total)\n",
      "    row = {'author': authorName, 'journals':[journalInfo] }\n",
      "    return row\n",
      "    \n",
      "def authorExisting(processedAuthor, author):\n",
      "    exists = True\n",
      "    \n",
      "    for existingAuth in processedAuthor:\n",
      "        if existingAuth == author:\n",
      "            exists = False\n",
      "            break\n",
      "    return exists\n",
      "\n",
      "def journalSet(data):\n",
      "    journal = data['journal']\n",
      "    return journal\n",
      "\n",
      "def getAuthorInfo(d2, authorData, authorDF, count):\n",
      "    if 'authors' in d2.keys():\n",
      "        authors = d2['authors']\n",
      "        if authors:\n",
      "            authPosition = 0\n",
      "            authorsCount = len(authors)\n",
      "            firstAffiliation = authors[0]['affiliation']\n",
      "            #print \"Num of Authors: \", authorsCount \n",
      "            processedAuthor = []\n",
      "            for author in authors:\n",
      "                authPosition +=1\n",
      "                #jounral = ''\n",
      "                if author['lastname']:\n",
      "                    temp = journalSet(d2)\n",
      "                    journal = dict(temp)\n",
      "                    journal['date'] = d2['date']\n",
      "                    #print \"Journal: \" , journal\n",
      "                    #print authors[0]\n",
      "                    authorKey = author['forename'] + author['lastname']\n",
      "                    authorKey.replace(\" \", \"\")\n",
      "                    #journal[authPosition]['authPosition'] = str(authPosition) + ','+ str(authorsCount)\n",
      "                    #print journal[authPosition]['authPosition'] \n",
      "                    if author['affiliation']:\n",
      "                        journal['affiliation'] = author['affiliation']\n",
      "                    else:\n",
      "                        journal['affiliation']= firstAffiliation\n",
      "                        \n",
      "                    if count == 0 :\n",
      "                        #print processedAuthor\n",
      "                        if authorExisting(processedAuthor, authorKey):\n",
      "                            authorRow = newAuthorOnlyRow(authorKey, journal, authPosition, authorsCount)\n",
      "                            authorData.append(authorRow)\n",
      "                    else:\n",
      "                        try:\n",
      "                            if authorDF[authorDF['author'] == authorKey].empty:\n",
      "                                if authorExisting(processedAuthor, authorKey):\n",
      "                                    authorRow = newAuthorOnlyRow(authorKey, journal, authPosition, authorsCount)\n",
      "                                    authorData.append(authorRow)\n",
      "                            else:\n",
      "                                #print \"Duplicate\"\n",
      "                                if authorExisting(processedAuthor, authorKey):\n",
      "                                    journal['authPosition'] = str(authPosition) + ','+ str(authorsCount)\n",
      "                                    authorData[authorDF[authorDF['author'] == authorKey].index]['journals'].append(journal)\n",
      "                        except:\n",
      "                            print \"Except thrown: \", journal[authPosition] , \" :Author: \" , authorKey , \" :Count: \" , count\n",
      "                        #    authorRow = newAuthorOnlyRow(authorKey, journal)\n",
      "                        #    authorData.append(authorRow)\n",
      "#                    print authorData\n",
      "                    processedAuthor.append(authorKey)\n",
      "            # returns concat_names, author_number, author_count\n",
      "            return\n",
      "    else:\n",
      "        return []\n",
      "#subData = data\n",
      "#subData = data[:1]\n",
      "#print len(subData)\n",
      "for fileName in allFiles[:10]:\n",
      "    print \"Processing file: \" + fileName\n",
      "    f = open(\"../../../../../Desktop/outfile/outfile/\"+fileName, 'r')\n",
      "    data = f.readlines()\n",
      "    f.close\n",
      "    count = 0\n",
      "    authorDF = []\n",
      "    authorData = []\n",
      "    subData = data\n",
      "    print \"Start: Processing \", len(subData) , \" records\"\n",
      "    for d2 in subData:\n",
      "\n",
      "        if authorData:\n",
      "            authorDF = pd.DataFrame(authorData)\n",
      "        getAuthorInfo(jsonLoads(d2), authorData, authorDF, count) \n",
      "        count +=1\n",
      "        if count%10000 == 0:\n",
      "            print \"done:\", float(count)/float(len(subData)) * 100.0\n",
      "    authorDFFinal = pd.DataFrame(authorData)\n",
      "    csvFileName = fileName.replace('.txt','.csv')\n",
      "    authorDFFinal.to_csv(\"../../../../../Desktop/authors/\"+csvFileName)\n"
     ],
     "language": "python",
     "metadata": {
      "slideshow": {
       "slide_type": "slide"
      }
     },
     "outputs": [
      {
       "output_type": "stream",
       "stream": "stdout",
       "text": [
        "Processing file: medline14n0001.txt\n",
        "Start: Processing  1  records\n",
        "done: 100.0\n"
       ]
      }
     ],
     "prompt_number": 106
    },
    {
     "cell_type": "code",
     "collapsed": false,
     "input": [
      "import pandas as pd\n",
      "authorDFFinal = pd.DataFrame(authorData)\n",
      "print authorDFFinal.head(10)\n",
      "#print \"\\n\"\n",
      "#duplicate = authorData[0]\n",
      "#print duplicate\n",
      "testJournals = authorDFFinal[authorDFFinal['author'] == 'SharonBond'].journals\n",
      "#The list of all journals are located below in the panda dataframe\n",
      "print testJournals.tolist()[0]\n"
     ],
     "language": "python",
     "metadata": {},
     "outputs": [
      {
       "output_type": "stream",
       "stream": "stdout",
       "text": [
        "                   author                                           journals\n",
        "0  Deborah BrandtKarsnitz  [{u'medlineta': u'J Midwifery Womens Health', ...\n",
        "1              SheilaWard  [{u'medlineta': u'J Midwifery Womens Health', ...\n",
        "2       Margaret FMoloney  [{u'medlineta': u'J Midwifery Womens Health', ...\n",
        "3      Constance JJohnson  [{u'medlineta': u'J Midwifery Womens Health', ...\n",
        "4             KateSteinle  [{u'medlineta': u'J Midwifery Womens Health', ...\n",
        "5   Marilynn CFrederiksen  [{u'medlineta': u'J Midwifery Womens Health', ...\n",
        "6            Cathy LEmeis  [{u'medlineta': u'J Midwifery Womens Health', ...\n",
        "7              SharonBond  [{u'medlineta': u'J Midwifery Womens Health', ...\n",
        "8       Helen VarneyBurst  [{u'medlineta': u'J Midwifery Womens Health', ...\n",
        "9       D DouglasCochrane  [{u'medlineta': u'J Neurosurg Pediatr', u'coun...\n",
        "[{'medlineta': 'J Midwifery Womens Health', 'country': 'United States', 'nlmuniqueid': '100909407', 'authPosition': '1,1', 'affiliation': '', 'date': {'year': '', 'day': '', 'month': ''}, 'issnlinking': '1526-9523'}, {'medlineta': 'J Midwifery Womens Health', 'country': 'United States', 'nlmuniqueid': '100909407', 'authPosition': '1,1', 'affiliation': '', 'date': {'year': '', 'day': '', 'month': ''}, 'issnlinking': '1526-9523'}, {'medlineta': 'J Midwifery Womens Health', 'country': 'United States', 'nlmuniqueid': '100909407', 'authPosition': '1,1', 'affiliation': '', 'date': {'year': '', 'day': '', 'month': ''}, 'issnlinking': '1526-9523'}]\n"
       ]
      }
     ],
     "prompt_number": 92
    },
    {
     "cell_type": "code",
     "collapsed": false,
     "input": [
      "authorDFFinal.to_csv(\"../../../../../Desktop/authors/medline14n0685.csv\")"
     ],
     "language": "python",
     "metadata": {},
     "outputs": [],
     "prompt_number": 93
    },
    {
     "cell_type": "code",
     "collapsed": false,
     "input": [],
     "language": "python",
     "metadata": {},
     "outputs": []
    }
   ],
   "metadata": {}
  }
 ]
}