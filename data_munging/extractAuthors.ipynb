{
 "metadata": {
  "name": "",
  "signature": "sha256:f065d7a955f16813088036e1e4ddf16d3fcf488c7957a7df0ccc42810538963a"
 },
 "nbformat": 3,
 "nbformat_minor": 0,
 "worksheets": [
  {
   "cells": [
    {
     "cell_type": "code",
     "collapsed": false,
     "input": [
      "# preamble\n",
      "import os\n",
      "import codecs\n",
      "import csv\n",
      "import unicodedata\n",
      "from bs4 import BeautifulSoup\n",
      "import gzip\n",
      "from bs4 import SoupStrainer\n",
      "from collections import OrderedDict\n",
      "import json\n",
      "\n",
      "def jsonLoads(jsonString):\n",
      "    '''\n",
      "    # helper function to convert unicode to str\n",
      "    # used to decode SOAP reply\n",
      "    # http://stackoverflow.com/questions/956867/how-to-get-string-objects-instead-of-unicode-ones-from-json-in-python\n",
      "\n",
      "    replace:\n",
      "        json.loads(result.PE_executeResponse.Response, object_hook=decode_dict)\n",
      "    with:\n",
      "        jsonLoads(result.PE_executeResponse.Response)\n",
      "    '''\n",
      "    def _decode_list(data):\n",
      "        rv = []\n",
      "        for item in data:\n",
      "            if isinstance(item, unicode):\n",
      "                item = item.encode('utf-8')\n",
      "            elif isinstance(item, list):\n",
      "                item = _decode_list(item)\n",
      "            elif isinstance(item, dict):\n",
      "                item = _decode_dict(item)\n",
      "            rv.append(item)\n",
      "        return rv\n",
      "\n",
      "    def _decode_dict(data):\n",
      "        rv = {}\n",
      "        for key, value in data.iteritems():\n",
      "            if isinstance(key, unicode):\n",
      "                key = key.encode('utf-8')\n",
      "            if isinstance(value, unicode):\n",
      "                value = value.encode('utf-8')\n",
      "            elif isinstance(value, list):\n",
      "                value = _decode_list(value)\n",
      "            elif isinstance(value, dict):\n",
      "                value = _decode_dict(value)\n",
      "            rv[key] = value\n",
      "        return rv\n",
      "    return json.loads(jsonString, object_hook=_decode_dict)"
     ],
     "language": "python",
     "metadata": {},
     "outputs": [],
     "prompt_number": 14
    },
    {
     "cell_type": "code",
     "collapsed": false,
     "input": [
      "f = open(\"/vagrant/data/sampleOutput/medline14n0685.txt\", 'r')"
     ],
     "language": "python",
     "metadata": {},
     "outputs": [],
     "prompt_number": 2
    },
    {
     "cell_type": "code",
     "collapsed": false,
     "input": [
      "data = f.readlines()\n",
      "f.close"
     ],
     "language": "python",
     "metadata": {},
     "outputs": [
      {
       "metadata": {},
       "output_type": "pyout",
       "prompt_number": 3,
       "text": [
        "<function close>"
       ]
      }
     ],
     "prompt_number": 3
    },
    {
     "cell_type": "code",
     "collapsed": false,
     "input": [
      "f.close()"
     ],
     "language": "python",
     "metadata": {},
     "outputs": [],
     "prompt_number": 4
    },
    {
     "cell_type": "code",
     "collapsed": false,
     "input": [
      "len(data)"
     ],
     "language": "python",
     "metadata": {},
     "outputs": [
      {
       "metadata": {},
       "output_type": "pyout",
       "prompt_number": 5,
       "text": [
        "30001"
       ]
      }
     ],
     "prompt_number": 5
    },
    {
     "cell_type": "code",
     "collapsed": false,
     "input": [
      "d = data[10000]\n",
      "d"
     ],
     "language": "python",
     "metadata": {},
     "outputs": [
      {
       "metadata": {},
       "output_type": "pyout",
       "prompt_number": 9,
       "text": [
        "'{\"date\": {\"month\": \"03\", \"day\": \"21\", \"year\": \"2011\"}, \"journal\": {\"medlineta\": \"Free Radic Biol Med\", \"country\": \"United States\", \"nlmuniqueid\": \"8709159\", \"issnlinking\": \"0891-5849\"}, \"entryid\": \"medline14n0685.xml.gz:10000\", \"authors\": [{\"affiliation\": \"Department of Chemistry, University of Kentucky, Lexington, KY 40506, USA.\", \"lastname\": \"Aluise\", \"initials\": \"CD\", \"forename\": \"Christopher D\"}, {\"affiliation\": \"\", \"lastname\": \"Miriyala\", \"initials\": \"S\", \"forename\": \"Sumitra\"}, {\"affiliation\": \"\", \"lastname\": \"Noel\", \"initials\": \"T\", \"forename\": \"Teresa\"}, {\"affiliation\": \"\", \"lastname\": \"Sultana\", \"initials\": \"R\", \"forename\": \"Rukhsana\"}, {\"affiliation\": \"\", \"lastname\": \"Jungsuwadee\", \"initials\": \"P\", \"forename\": \"Paiboon\"}, {\"affiliation\": \"\", \"lastname\": \"Taylor\", \"initials\": \"TJ\", \"forename\": \"Tamara J\"}, {\"affiliation\": \"\", \"lastname\": \"Cai\", \"initials\": \"J\", \"forename\": \"Jian\"}, {\"affiliation\": \"\", \"lastname\": \"Pierce\", \"initials\": \"WM\", \"forename\": \"William M\"}, {\"affiliation\": \"\", \"lastname\": \"Vore\", \"initials\": \"M\", \"forename\": \"Mary\"}, {\"affiliation\": \"\", \"lastname\": \"Moscow\", \"initials\": \"JA\", \"forename\": \"Jeffrey A\"}, {\"affiliation\": \"\", \"lastname\": \"St Clair\", \"initials\": \"DK\", \"forename\": \"Daret K\"}, {\"affiliation\": \"\", \"lastname\": \"Butterfield\", \"initials\": \"DA\", \"forename\": \"D Allan\"}]}\\r\\n'"
       ]
      }
     ],
     "prompt_number": 9
    },
    {
     "cell_type": "code",
     "collapsed": false,
     "input": [
      "d2 = jsonLoads(d)\n",
      "authors = d2['authors']"
     ],
     "language": "python",
     "metadata": {},
     "outputs": [],
     "prompt_number": 17
    },
    {
     "cell_type": "code",
     "collapsed": false,
     "input": [],
     "language": "python",
     "metadata": {},
     "outputs": []
    },
    {
     "cell_type": "code",
     "collapsed": false,
     "input": [],
     "language": "python",
     "metadata": {},
     "outputs": []
    },
    {
     "cell_type": "code",
     "collapsed": false,
     "input": [
      "def getval(dictionary, key, defaultval=''):\n",
      "    if k in dictionary.keys():\n",
      "        return dictionary[key]\n",
      "    else:\n",
      "        return defaultval\n",
      "\n",
      "def getAuthorInfo(d2):\n",
      "    if 'authors' in d2.keys():\n",
      "        authors = d2['authors']\n",
      "        # returns concat_names, author_number, author_count\n",
      "        return [(':'.join([getval(a,k).lower() for k in 'forename initials lastname'.split()]), i+1, len(authors)) for i,a in enumerate(authors)]\n",
      "    else:\n",
      "        return []\n",
      "\n",
      "z = [getAuthorInfo(jsonLoads(d2)) for d2 in data]\n"
     ],
     "language": "python",
     "metadata": {},
     "outputs": [],
     "prompt_number": 38
    },
    {
     "cell_type": "code",
     "collapsed": false,
     "input": [
      "z[0]"
     ],
     "language": "python",
     "metadata": {},
     "outputs": [
      {
       "metadata": {},
       "output_type": "pyout",
       "prompt_number": 39,
       "text": [
        "[('deborah brandt:db:karsnitz', 1, 2), ('sheila:s:ward', 2, 2)]"
       ]
      }
     ],
     "prompt_number": 39
    },
    {
     "cell_type": "code",
     "collapsed": false,
     "input": [],
     "language": "python",
     "metadata": {},
     "outputs": []
    }
   ],
   "metadata": {}
  }
 ]
}