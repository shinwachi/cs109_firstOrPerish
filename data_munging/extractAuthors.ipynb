{
 "metadata": {
  "name": "",
  "signature": "sha256:2fedc29d6696871e69d697d7b742606e6dde32563870caed7606c70f455c8189"
 },
 "nbformat": 3,
 "nbformat_minor": 0,
 "worksheets": [
  {
   "cells": [
    {
     "cell_type": "code",
     "collapsed": false,
     "input": [
      "# preamble\n",
      "import os\n",
      "import codecs\n",
      "import csv\n",
      "import unicodedata\n",
      "from bs4 import BeautifulSoup\n",
      "import gzip\n",
      "from bs4 import SoupStrainer\n",
      "from collections import OrderedDict\n",
      "import json\n",
      "import pandas as pd\n",
      "\n",
      "def jsonLoads(jsonString):\n",
      "    '''\n",
      "    # helper function to convert unicode to str\n",
      "    # used to decode SOAP reply\n",
      "    # http://stackoverflow.com/questions/956867/how-to-get-string-objects-instead-of-unicode-ones-from-json-in-python\n",
      "\n",
      "    replace:\n",
      "        json.loads(result.PE_executeResponse.Response, object_hook=decode_dict)\n",
      "    with:\n",
      "        jsonLoads(result.PE_executeResponse.Response)\n",
      "    '''\n",
      "    def _decode_list(data):\n",
      "        rv = []\n",
      "        for item in data:\n",
      "            if isinstance(item, unicode):\n",
      "                item = item.encode('utf-8')\n",
      "            elif isinstance(item, list):\n",
      "                item = _decode_list(item)\n",
      "            elif isinstance(item, dict):\n",
      "                item = _decode_dict(item)\n",
      "            rv.append(item)\n",
      "        return rv\n",
      "\n",
      "    def _decode_dict(data):\n",
      "        rv = {}\n",
      "        for key, value in data.iteritems():\n",
      "            if isinstance(key, unicode):\n",
      "                key = key.encode('utf-8')\n",
      "            if isinstance(value, unicode):\n",
      "                value = value.encode('utf-8')\n",
      "            elif isinstance(value, list):\n",
      "                value = _decode_list(value)\n",
      "            elif isinstance(value, dict):\n",
      "                value = _decode_dict(value)\n",
      "            rv[key] = value\n",
      "        return rv\n",
      "    return json.loads(jsonString, object_hook=_decode_dict)"
     ],
     "language": "python",
     "metadata": {},
     "outputs": [],
     "prompt_number": 2
    },
    {
     "cell_type": "code",
     "collapsed": false,
     "input": [
      "f = open(\"../../../../../Desktop/outfile/outfile/medline14n0685.txt\", 'r')"
     ],
     "language": "python",
     "metadata": {},
     "outputs": [],
     "prompt_number": 3
    },
    {
     "cell_type": "code",
     "collapsed": false,
     "input": [
      "data = f.readlines()\n",
      "f.close"
     ],
     "language": "python",
     "metadata": {},
     "outputs": [
      {
       "metadata": {},
       "output_type": "pyout",
       "prompt_number": 4,
       "text": [
        "<function close>"
       ]
      }
     ],
     "prompt_number": 4
    },
    {
     "cell_type": "code",
     "collapsed": false,
     "input": [
      "f.close()"
     ],
     "language": "python",
     "metadata": {},
     "outputs": [],
     "prompt_number": 5
    },
    {
     "cell_type": "code",
     "collapsed": false,
     "input": [
      "len(data)"
     ],
     "language": "python",
     "metadata": {},
     "outputs": [
      {
       "metadata": {},
       "output_type": "pyout",
       "prompt_number": 6,
       "text": [
        "30001"
       ]
      }
     ],
     "prompt_number": 6
    },
    {
     "cell_type": "code",
     "collapsed": false,
     "input": [
      "d = data[15]\n",
      "d"
     ],
     "language": "python",
     "metadata": {},
     "outputs": [
      {
       "metadata": {},
       "output_type": "pyout",
       "prompt_number": 7,
       "text": [
        "'{\"date\": {\"month\": \"04\", \"day\": \"15\", \"year\": \"2011\"}, \"journal\": {\"medlineta\": \"J Nucl Med\", \"country\": \"United States\", \"nlmuniqueid\": \"0217410\", \"issnlinking\": \"0161-5505\"}, \"entryid\": \"medline14n0685.xml.gz:15\", \"authors\": [{\"affiliation\": \"Department of Neurology, Faculty of Medicine and University Clinic, Heinrich Heine University, Dusseldorf, Germany. martin.suedmeyer@uni-duesseldorf.de\", \"lastname\": \"Sudmeyer\", \"initials\": \"M\", \"forename\": \"Martin\"}, {\"affiliation\": \"\", \"lastname\": \"Antke\", \"initials\": \"C\", \"forename\": \"Christina\"}, {\"affiliation\": \"\", \"lastname\": \"Zizek\", \"initials\": \"T\", \"forename\": \"Tanja\"}, {\"affiliation\": \"\", \"lastname\": \"Beu\", \"initials\": \"M\", \"forename\": \"Markus\"}, {\"affiliation\": \"\", \"lastname\": \"Nikolaus\", \"initials\": \"S\", \"forename\": \"Susanne\"}, {\"affiliation\": \"\", \"lastname\": \"Wojtecki\", \"initials\": \"L\", \"forename\": \"Lars\"}, {\"affiliation\": \"\", \"lastname\": \"Schnitzler\", \"initials\": \"A\", \"forename\": \"Alfons\"}, {\"affiliation\": \"\", \"lastname\": \"Muller\", \"initials\": \"HW\", \"forename\": \"Hans-Wilhelm\"}]}\\r\\n'"
       ]
      }
     ],
     "prompt_number": 7
    },
    {
     "cell_type": "code",
     "collapsed": false,
     "input": [
      "#print d[1:2]\n",
      "\n",
      "#print jsonData\n",
      "#jsonData = json.dumps(jsonData)\n",
      "\n",
      "#print jsonData\n",
      "\n",
      "d2 = jsonLoads(d)\n",
      "date    = d2['date'] \n",
      "journal = d2['journal']\n",
      "authors = d2['authors']\n",
      "entryid = d2['entryid']\n",
      "\n",
      "print date\n",
      "print journal\n",
      "print authors\n",
      "print entryid"
     ],
     "language": "python",
     "metadata": {},
     "outputs": [
      {
       "output_type": "stream",
       "stream": "stdout",
       "text": [
        "{'year': '2011', 'day': '15', 'month': '04'}\n",
        "{'medlineta': 'J Nucl Med', 'country': 'United States', 'nlmuniqueid': '0217410', 'issnlinking': '0161-5505'}\n",
        "[{'affiliation': 'Department of Neurology, Faculty of Medicine and University Clinic, Heinrich Heine University, Dusseldorf, Germany. martin.suedmeyer@uni-duesseldorf.de', 'initials': 'M', 'lastname': 'Sudmeyer', 'forename': 'Martin'}, {'affiliation': '', 'initials': 'C', 'lastname': 'Antke', 'forename': 'Christina'}, {'affiliation': '', 'initials': 'T', 'lastname': 'Zizek', 'forename': 'Tanja'}, {'affiliation': '', 'initials': 'M', 'lastname': 'Beu', 'forename': 'Markus'}, {'affiliation': '', 'initials': 'S', 'lastname': 'Nikolaus', 'forename': 'Susanne'}, {'affiliation': '', 'initials': 'L', 'lastname': 'Wojtecki', 'forename': 'Lars'}, {'affiliation': '', 'initials': 'A', 'lastname': 'Schnitzler', 'forename': 'Alfons'}, {'affiliation': '', 'initials': 'HW', 'lastname': 'Muller', 'forename': 'Hans-Wilhelm'}]\n",
        "medline14n0685.xml.gz:15\n"
       ]
      }
     ],
     "prompt_number": 8
    },
    {
     "cell_type": "code",
     "collapsed": false,
     "input": [],
     "language": "python",
     "metadata": {},
     "outputs": [],
     "prompt_number": 8
    },
    {
     "cell_type": "code",
     "collapsed": false,
     "input": [],
     "language": "python",
     "metadata": {},
     "outputs": [],
     "prompt_number": 8
    },
    {
     "cell_type": "code",
     "collapsed": false,
     "input": [
      "def newAuthorOnlyRow(authorName, journalInfo, position, total ):\n",
      "    journalInfo['authPosition'] = str(position) + ','+ str(total)\n",
      "    row = {'author': authorName, 'journals':[journalInfo] }\n",
      "    return row\n",
      "    \n",
      "def authorExisting(processedAuthor, author):\n",
      "    exists = True\n",
      "    \n",
      "    for existingAuth in processedAuthor:\n",
      "        if existingAuth == author:\n",
      "            exists = False\n",
      "            break\n",
      "    return exists\n",
      "\n",
      "def journalSet(data):\n",
      "    journal = data['journal']\n",
      "    return journal\n",
      "\n",
      "def getAuthorInfo(d2, authorData, authorDF, count):\n",
      "    if 'authors' in d2.keys():\n",
      "        authors = d2['authors']\n",
      "        if authors:\n",
      "            authPosition = 0\n",
      "            authorsCount = len(authors)\n",
      "            firstAffiliation = authors[0]['affiliation']\n",
      "            #print \"Num of Authors: \", authorsCount \n",
      "            processedAuthor = []\n",
      "            for author in authors:\n",
      "                authPosition +=1\n",
      "                #jounral = ''\n",
      "                if author['lastname']:\n",
      "                    temp = journalSet(d2)\n",
      "                    journal = dict(temp)\n",
      "                    journal['date'] = d2['date']\n",
      "                    #print \"Journal: \" , journal\n",
      "                    #print authors[0]\n",
      "                    authorKey = author['forename'] + author['lastname']\n",
      "                    authorKey.replace(\" \", \"\")\n",
      "                    #journal[authPosition]['authPosition'] = str(authPosition) + ','+ str(authorsCount)\n",
      "                    #print journal[authPosition]['authPosition'] \n",
      "                    if author['affiliation']:\n",
      "                        journal['affiliation'] = author['affiliation']\n",
      "                    else:\n",
      "                        journal['affiliation']= firstAffiliation\n",
      "                        \n",
      "                    if count == 0 :\n",
      "                        #print processedAuthor\n",
      "                        if authorExisting(processedAuthor, authorKey):\n",
      "                            authorRow = newAuthorOnlyRow(authorKey, journal, authPosition, authorsCount)\n",
      "                            authorData.append(authorRow)\n",
      "                    else:\n",
      "                        try:\n",
      "                            if authorDF[authorDF['author'] == authorKey].empty:\n",
      "                                if authorExisting(processedAuthor, authorKey):\n",
      "                                    authorRow = newAuthorOnlyRow(authorKey, journal, authPosition, authorsCount)\n",
      "                                    authorData.append(authorRow)\n",
      "                            else:\n",
      "                                #print \"Duplicate\"\n",
      "                                if authorExisting(processedAuthor, authorKey):\n",
      "                                    journal['authPosition'] = str(authPosition) + ','+ str(authorsCount)\n",
      "                                    authorData[authorDF[authorDF['author'] == authorKey].index]['journals'].append(journal)\n",
      "                        except:\n",
      "                            print \"Except thrown: \", journal[authPosition] , \" :Author: \" , authorKey , \" :Count: \" , count\n",
      "                        #    authorRow = newAuthorOnlyRow(authorKey, journal)\n",
      "                        #    authorData.append(authorRow)\n",
      "#                    print authorData\n",
      "                    processedAuthor.append(authorKey)\n",
      "            # returns concat_names, author_number, author_count\n",
      "            return\n",
      "    else:\n",
      "        return []\n",
      "subData = data\n",
      "#subData = data[:1]\n",
      "authorData = []\n",
      "print len(subData)\n",
      "count = 0\n",
      "authorDF = []\n",
      "for d2 in subData:\n",
      "\n",
      "    if authorData:\n",
      "        authorDF = pd.DataFrame(authorData)\n",
      "    getAuthorInfo(jsonLoads(d2), authorData, authorDF, count) \n",
      "    count +=1\n",
      "#    print count\n",
      "    if count%500 == 0:\n",
      "        print \"done:\", float(count)/float(len(subData)) * 100.0\n"
     ],
     "language": "python",
     "metadata": {
      "slideshow": {
       "slide_type": "slide"
      }
     },
     "outputs": [
      {
       "output_type": "stream",
       "stream": "stdout",
       "text": [
        "30001\n",
        "done:"
       ]
      },
      {
       "output_type": "stream",
       "stream": "stdout",
       "text": [
        " 1.66661111296\n",
        "done:"
       ]
      },
      {
       "output_type": "stream",
       "stream": "stdout",
       "text": [
        " 3.33322222593\n",
        "done:"
       ]
      },
      {
       "output_type": "stream",
       "stream": "stdout",
       "text": [
        " 4.99983333889\n",
        "done:"
       ]
      },
      {
       "output_type": "stream",
       "stream": "stdout",
       "text": [
        " 6.66644445185\n",
        "done:"
       ]
      },
      {
       "output_type": "stream",
       "stream": "stdout",
       "text": [
        " 8.33305556481\n",
        "done:"
       ]
      },
      {
       "output_type": "stream",
       "stream": "stdout",
       "text": [
        " 9.99966667778\n",
        "done:"
       ]
      },
      {
       "output_type": "stream",
       "stream": "stdout",
       "text": [
        " 11.6662777907\n",
        "done:"
       ]
      },
      {
       "output_type": "stream",
       "stream": "stdout",
       "text": [
        " 13.3328889037\n",
        "done:"
       ]
      },
      {
       "output_type": "stream",
       "stream": "stdout",
       "text": [
        " 14.9995000167\n",
        "done:"
       ]
      },
      {
       "output_type": "stream",
       "stream": "stdout",
       "text": [
        " 16.6661111296\n",
        "done:"
       ]
      },
      {
       "output_type": "stream",
       "stream": "stdout",
       "text": [
        " 18.3327222426\n",
        "done:"
       ]
      },
      {
       "output_type": "stream",
       "stream": "stdout",
       "text": [
        " 19.9993333556\n",
        "done:"
       ]
      },
      {
       "output_type": "stream",
       "stream": "stdout",
       "text": [
        " 21.6659444685\n",
        "done:"
       ]
      },
      {
       "output_type": "stream",
       "stream": "stdout",
       "text": [
        " 23.3325555815\n",
        "done:"
       ]
      },
      {
       "output_type": "stream",
       "stream": "stdout",
       "text": [
        " 24.9991666944\n",
        "done:"
       ]
      },
      {
       "output_type": "stream",
       "stream": "stdout",
       "text": [
        " 26.6657778074\n",
        "done:"
       ]
      },
      {
       "output_type": "stream",
       "stream": "stdout",
       "text": [
        " 28.3323889204\n",
        "done:"
       ]
      },
      {
       "output_type": "stream",
       "stream": "stdout",
       "text": [
        " 29.9990000333\n",
        "done:"
       ]
      },
      {
       "output_type": "stream",
       "stream": "stdout",
       "text": [
        " 31.6656111463\n",
        "done:"
       ]
      },
      {
       "output_type": "stream",
       "stream": "stdout",
       "text": [
        " 33.3322222593\n",
        "done:"
       ]
      },
      {
       "output_type": "stream",
       "stream": "stdout",
       "text": [
        " 34.9988333722\n",
        "done:"
       ]
      },
      {
       "output_type": "stream",
       "stream": "stdout",
       "text": [
        " 36.6654444852\n",
        "done:"
       ]
      },
      {
       "output_type": "stream",
       "stream": "stdout",
       "text": [
        " 38.3320555981\n",
        "done:"
       ]
      },
      {
       "output_type": "stream",
       "stream": "stdout",
       "text": [
        " 39.9986667111\n",
        "done:"
       ]
      },
      {
       "output_type": "stream",
       "stream": "stdout",
       "text": [
        " 41.6652778241\n",
        "done:"
       ]
      },
      {
       "output_type": "stream",
       "stream": "stdout",
       "text": [
        " 43.331888937\n",
        "done:"
       ]
      },
      {
       "output_type": "stream",
       "stream": "stdout",
       "text": [
        " 44.99850005\n",
        "done:"
       ]
      },
      {
       "output_type": "stream",
       "stream": "stdout",
       "text": [
        " 46.665111163\n",
        "done:"
       ]
      },
      {
       "output_type": "stream",
       "stream": "stdout",
       "text": [
        " 48.3317222759\n",
        "done:"
       ]
      },
      {
       "output_type": "stream",
       "stream": "stdout",
       "text": [
        " 49.9983333889\n",
        "done:"
       ]
      },
      {
       "output_type": "stream",
       "stream": "stdout",
       "text": [
        " 51.6649445018\n",
        "done:"
       ]
      },
      {
       "output_type": "stream",
       "stream": "stdout",
       "text": [
        " 53.3315556148\n",
        "done:"
       ]
      },
      {
       "output_type": "stream",
       "stream": "stdout",
       "text": [
        " 54.9981667278\n",
        "done:"
       ]
      },
      {
       "output_type": "stream",
       "stream": "stdout",
       "text": [
        " 56.6647778407\n",
        "done:"
       ]
      },
      {
       "output_type": "stream",
       "stream": "stdout",
       "text": [
        " 58.3313889537\n",
        "done:"
       ]
      },
      {
       "output_type": "stream",
       "stream": "stdout",
       "text": [
        " 59.9980000667\n",
        "done:"
       ]
      },
      {
       "output_type": "stream",
       "stream": "stdout",
       "text": [
        " 61.6646111796\n",
        "done:"
       ]
      },
      {
       "output_type": "stream",
       "stream": "stdout",
       "text": [
        " 63.3312222926\n",
        "done:"
       ]
      },
      {
       "output_type": "stream",
       "stream": "stdout",
       "text": [
        " 64.9978334056\n",
        "done:"
       ]
      },
      {
       "output_type": "stream",
       "stream": "stdout",
       "text": [
        " 66.6644445185\n",
        "done:"
       ]
      },
      {
       "output_type": "stream",
       "stream": "stdout",
       "text": [
        " 68.3310556315\n",
        "done:"
       ]
      },
      {
       "output_type": "stream",
       "stream": "stdout",
       "text": [
        " 69.9976667444\n",
        "done:"
       ]
      },
      {
       "output_type": "stream",
       "stream": "stdout",
       "text": [
        " 71.6642778574\n",
        "done:"
       ]
      },
      {
       "output_type": "stream",
       "stream": "stdout",
       "text": [
        " 73.3308889704\n",
        "done:"
       ]
      },
      {
       "output_type": "stream",
       "stream": "stdout",
       "text": [
        " 74.9975000833\n",
        "done:"
       ]
      },
      {
       "output_type": "stream",
       "stream": "stdout",
       "text": [
        " 76.6641111963\n",
        "done:"
       ]
      },
      {
       "output_type": "stream",
       "stream": "stdout",
       "text": [
        " 78.3307223093\n",
        "done:"
       ]
      },
      {
       "output_type": "stream",
       "stream": "stdout",
       "text": [
        " 79.9973334222\n",
        "done:"
       ]
      },
      {
       "output_type": "stream",
       "stream": "stdout",
       "text": [
        " 81.6639445352\n",
        "done:"
       ]
      },
      {
       "output_type": "stream",
       "stream": "stdout",
       "text": [
        " 83.3305556481\n",
        "done:"
       ]
      },
      {
       "output_type": "stream",
       "stream": "stdout",
       "text": [
        " 84.9971667611\n",
        "done:"
       ]
      },
      {
       "output_type": "stream",
       "stream": "stdout",
       "text": [
        " 86.6637778741\n",
        "done:"
       ]
      },
      {
       "output_type": "stream",
       "stream": "stdout",
       "text": [
        " 88.330388987\n",
        "done:"
       ]
      },
      {
       "output_type": "stream",
       "stream": "stdout",
       "text": [
        " 89.9970001\n",
        "done:"
       ]
      },
      {
       "output_type": "stream",
       "stream": "stdout",
       "text": [
        " 91.663611213\n",
        "done:"
       ]
      },
      {
       "output_type": "stream",
       "stream": "stdout",
       "text": [
        " 93.3302223259\n",
        "done:"
       ]
      },
      {
       "output_type": "stream",
       "stream": "stdout",
       "text": [
        " 94.9968334389\n",
        "done:"
       ]
      },
      {
       "output_type": "stream",
       "stream": "stdout",
       "text": [
        " 96.6634445518\n",
        "done:"
       ]
      },
      {
       "output_type": "stream",
       "stream": "stdout",
       "text": [
        " 98.3300556648\n",
        "done:"
       ]
      },
      {
       "output_type": "stream",
       "stream": "stdout",
       "text": [
        " 99.9966667778\n"
       ]
      }
     ],
     "prompt_number": 65
    },
    {
     "cell_type": "code",
     "collapsed": false,
     "input": [
      "import pandas as pd\n",
      "authorDFFinal = pd.DataFrame(authorData)\n",
      "print authorDFFinal.head(10)\n",
      "#print \"\\n\"\n",
      "#duplicate = authorData[0]\n",
      "#print duplicate\n",
      "testJournals = authorDFFinal[authorDFFinal['author'] == 'SharonBond'].journals\n",
      "#The list of all journals are located below in the panda dataframe\n",
      "print testJournals.tolist()[0]\n"
     ],
     "language": "python",
     "metadata": {},
     "outputs": [
      {
       "output_type": "stream",
       "stream": "stdout",
       "text": [
        "                   author                                           journals\n",
        "0  Deborah BrandtKarsnitz  [{u'medlineta': u'J Midwifery Womens Health', ...\n",
        "1              SheilaWard  [{u'medlineta': u'J Midwifery Womens Health', ...\n",
        "2       Margaret FMoloney  [{u'medlineta': u'J Midwifery Womens Health', ...\n",
        "3      Constance JJohnson  [{u'medlineta': u'J Midwifery Womens Health', ...\n",
        "4             KateSteinle  [{u'medlineta': u'J Midwifery Womens Health', ...\n",
        "5   Marilynn CFrederiksen  [{u'medlineta': u'J Midwifery Womens Health', ...\n",
        "6            Cathy LEmeis  [{u'medlineta': u'J Midwifery Womens Health', ...\n",
        "7              SharonBond  [{u'medlineta': u'J Midwifery Womens Health', ...\n",
        "8       Helen VarneyBurst  [{u'medlineta': u'J Midwifery Womens Health', ...\n",
        "9       D DouglasCochrane  [{u'medlineta': u'J Neurosurg Pediatr', u'coun...\n",
        "[{'medlineta': 'J Midwifery Womens Health', 'country': 'United States', 'nlmuniqueid': '100909407', 'authPosition': '1,1', 'affiliation': '', 'date': {'year': '', 'day': '', 'month': ''}, 'issnlinking': '1526-9523'}, {'medlineta': 'J Midwifery Womens Health', 'country': 'United States', 'nlmuniqueid': '100909407', 'authPosition': '1,1', 'affiliation': '', 'date': {'year': '', 'day': '', 'month': ''}, 'issnlinking': '1526-9523'}, {'medlineta': 'J Midwifery Womens Health', 'country': 'United States', 'nlmuniqueid': '100909407', 'authPosition': '1,1', 'affiliation': '', 'date': {'year': '', 'day': '', 'month': ''}, 'issnlinking': '1526-9523'}]\n"
       ]
      }
     ],
     "prompt_number": 92
    },
    {
     "cell_type": "code",
     "collapsed": false,
     "input": [
      "authorDFFinal.to_csv(\"../../../../../Desktop/authors/medline14n0685.csv\")"
     ],
     "language": "python",
     "metadata": {},
     "outputs": [],
     "prompt_number": 93
    },
    {
     "cell_type": "code",
     "collapsed": false,
     "input": [],
     "language": "python",
     "metadata": {},
     "outputs": []
    }
   ],
   "metadata": {}
  }
 ]
}